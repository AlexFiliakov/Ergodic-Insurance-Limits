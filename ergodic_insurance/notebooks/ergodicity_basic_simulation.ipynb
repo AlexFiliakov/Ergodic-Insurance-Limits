{
 "cells": [
  {
   "cell_type": "markdown",
   "id": "ef2229a8",
   "metadata": {},
   "source": [
    "# Basic Risk Frontier\n",
    "\n",
    "Future enhancements:\n",
    "- Consider trends and discounting"
   ]
  },
  {
   "cell_type": "code",
   "execution_count": 1,
   "id": "e455cffe",
   "metadata": {},
   "outputs": [],
   "source": [
    "# Import required libraries\n",
    "import numpy as np\n",
    "import pandas as pd\n",
    "import matplotlib.pyplot as plt\n",
    "import seaborn as sns\n",
    "from typing import List, Dict, Any\n",
    "import warnings\n",
    "import sys\n",
    "from pathlib import Path\n",
    "warnings.filterwarnings('ignore')\n",
    "\n",
    "# Set plotting style\n",
    "plt.style.use('seaborn-v0_8-darkgrid')\n",
    "sns.set_palette(\"husl\")\n",
    "\n",
    "from ergodic_insurance.config import ManufacturerConfig\n",
    "from ergodic_insurance.manufacturer import WidgetManufacturer\n",
    "from ergodic_insurance.exposure_base import RevenueExposure\n",
    "from ergodic_insurance.insurance import InsurancePolicy, InsuranceLayer\n",
    "from ergodic_insurance.simulation import Simulation, SimulationResults\n",
    "from ergodic_insurance.ergodic_analyzer import ErgodicAnalyzer\n",
    "from ergodic_insurance.loss_distributions import ManufacturingLossGenerator\n",
    "from ergodic_insurance.insurance_program import EnhancedInsuranceLayer, InsuranceProgram"
   ]
  },
  {
   "cell_type": "markdown",
   "id": "c2b134eb",
   "metadata": {},
   "source": [
    "## Define the Corporate Profile"
   ]
  },
  {
   "cell_type": "code",
   "execution_count": 2,
   "id": "f1d8a3b2",
   "metadata": {},
   "outputs": [],
   "source": [
    "INITIAL_ASSETS = 10_000_000\n",
    "ASSET_TURNOVER_RATIO = 1.0  # Revenue = Assets × Turnover\n",
    "EBITA_MARGIN_TARGET = 0.05  # EBITA after claims and insurance\n",
    "DEDUCTIBLE = 50_000\n",
    "LOSS_RATIO = 0.70\n",
    "\n",
    "NUM_SIMULATIONS = 100\n",
    "SIM_YEARS = 50\n",
    "\n",
    "# Create manufacturer configuration\n",
    "manufacturer_config = ManufacturerConfig(\n",
    "    initial_assets=INITIAL_ASSETS,\n",
    "    asset_turnover_ratio=ASSET_TURNOVER_RATIO,  # Revenue = Assets × Turnover\n",
    "    base_operating_margin=0.10,  # EBITA before claims and insurance (need to calibrate)\n",
    "    tax_rate=0.25,  # Current US Tax Rate\n",
    "    retention_ratio=0.70,  # 30% dividends\n",
    "    ppe_ratio=0.00,  # 0% of assets in PPE, so there is no depreciation expense\n",
    ")\n",
    "\n",
    "# Create widget manufacturer\n",
    "base_manufacturer = WidgetManufacturer(manufacturer_config)\n",
    "\n",
    "# Create exposure base based on revenue\n",
    "exposure = RevenueExposure(state_provider=base_manufacturer)\n"
   ]
  },
  {
   "cell_type": "markdown",
   "id": "61b541de",
   "metadata": {},
   "source": [
    "## Define Losses"
   ]
  },
  {
   "cell_type": "code",
   "execution_count": 3,
   "id": "99f3fe50",
   "metadata": {
    "notebookRunGroups": {
     "groupValue": "1"
    }
   },
   "outputs": [],
   "source": [
    "cur_revenue = base_manufacturer.total_assets * base_manufacturer.asset_turnover_ratio\n",
    "\n",
    "# Calibrate claim generator for EBITA of 5%\n",
    "target_ebita_margin = 0.05\n",
    "\n",
    "generator = ManufacturingLossGenerator(\n",
    "    attritional_params={\n",
    "        'base_frequency': 2.85,\n",
    "        'severity_mean': 40_000,\n",
    "        'severity_cv': 0.8,\n",
    "        'revenue_scaling_exponent': 1.0,\n",
    "        'reference_revenue': cur_revenue\n",
    "    },\n",
    "    large_params={\n",
    "        'base_frequency': 0.20,\n",
    "        'severity_mean': 500_000,\n",
    "        'severity_cv': 1.5,\n",
    "        'revenue_scaling_exponent': 1.0,\n",
    "        'reference_revenue': cur_revenue\n",
    "    },\n",
    "    catastrophic_params={\n",
    "        'base_frequency': 0.02,\n",
    "        'severity_xm': 5_000_000,\n",
    "        'severity_alpha': 2.5,\n",
    "        'revenue_scaling_exponent': 1.0,\n",
    "        'reference_revenue': cur_revenue\n",
    "    },\n",
    "    seed=42\n",
    ")"
   ]
  },
  {
   "cell_type": "code",
   "execution_count": 4,
   "id": "a38d5abf",
   "metadata": {},
   "outputs": [],
   "source": [
    "deductible = DEDUCTIBLE\n",
    "policy_limit = 1_000_000_000\n"
   ]
  },
  {
   "cell_type": "markdown",
   "id": "19d3f753",
   "metadata": {},
   "source": [
    "## Estimate Premium Assuming Perfect Distributional Knowledge"
   ]
  },
  {
   "cell_type": "code",
   "execution_count": 5,
   "id": "3b480ae6",
   "metadata": {},
   "outputs": [
    {
     "name": "stdout",
     "output_type": "stream",
     "text": [
      "Average Annual Insured Loss: $276,904\n",
      "Average Annual Retained Loss: $102,134\n"
     ]
    }
   ],
   "source": [
    "pricing_simulation_years = 500_000\n",
    "\n",
    "total_insured_loss = 0.0\n",
    "insured_loss_list = []\n",
    "\n",
    "total_retained_loss = 0.0\n",
    "retained_loss_list = []\n",
    "\n",
    "for yr in range(pricing_simulation_years):\n",
    "    loss_events, loss_meta = generator.generate_losses(duration=1, revenue=base_manufacturer.base_revenue)\n",
    "    for loss_event in loss_events:\n",
    "        insured_loss = max(min(loss_event.amount, policy_limit) - deductible,0)\n",
    "        \n",
    "        total_insured_loss += insured_loss\n",
    "        insured_loss_list.append(insured_loss)\n",
    "\n",
    "        retained_loss = loss_event.amount - insured_loss\n",
    "        total_retained_loss += retained_loss\n",
    "        retained_loss_list.append(retained_loss)\n",
    "\n",
    "average_annual_insured_loss = total_insured_loss / pricing_simulation_years\n",
    "average_annual_retained_loss = total_retained_loss / pricing_simulation_years\n",
    "print(f\"Average Annual Insured Loss: ${average_annual_insured_loss:,.0f}\")\n",
    "print(f\"Average Annual Retained Loss: ${average_annual_retained_loss:,.0f}\")"
   ]
  },
  {
   "cell_type": "code",
   "execution_count": 6,
   "id": "99d7aeaf",
   "metadata": {},
   "outputs": [
    {
     "name": "stdout",
     "output_type": "stream",
     "text": [
      "Ground-Up Excess Kurtosis: 3728.03\n"
     ]
    }
   ],
   "source": [
    "ground_up_losses = np.asarray(insured_loss_list, dtype=float) + np.asarray(retained_loss_list, dtype=float)\n",
    "EXCESS_KURTOSIS = pd.Series(ground_up_losses).kurtosis()\n",
    "print(f\"Ground-Up Excess Kurtosis: {EXCESS_KURTOSIS:.2f}\")"
   ]
  },
  {
   "cell_type": "code",
   "execution_count": 7,
   "id": "6f50093d",
   "metadata": {},
   "outputs": [
    {
     "name": "stdout",
     "output_type": "stream",
     "text": [
      "Total observations: 1,535,961\n",
      "Zero (below deductible) count: 1,072,868 (69.8%)\n",
      "Positive insured losses: 463,093\n",
      "Mean positive loss: 298,972\n",
      "Median positive loss: 28,866\n",
      "95th percentile: 891,644\n",
      "99th percentile: 6,852,111\n",
      "Max loss (capped): 170,811,610\n"
     ]
    },
    {
     "data": {
      "image/png": "[encoded data removed]",
      "text/plain": [
       "<Figure size 900x1200 with 3 Axes>"
      ]
     },
     "metadata": {},
     "output_type": "display_data"
    }
   ],
   "source": [
    "# Plot distribution of insured losses from loss_list\n",
    "\n",
    "loss_array = np.asarray(insured_loss_list, dtype=float)\n",
    "\n",
    "# Basic summary\n",
    "zero_count = np.sum(loss_array == 0)\n",
    "positive_losses = loss_array[loss_array > 0]\n",
    "print(f\"Total observations: {loss_array.size:,}\")\n",
    "print(f\"Zero (below deductible) count: {zero_count:,} ({zero_count / loss_array.size:.1%})\")\n",
    "print(f\"Positive insured losses: {positive_losses.size:,}\")\n",
    "if positive_losses.size:\n",
    "    print(f\"Mean positive loss: {positive_losses.mean():,.0f}\")\n",
    "    print(f\"Median positive loss: {np.median(positive_losses):,.0f}\")\n",
    "    print(f\"95th percentile: {np.percentile(positive_losses,95):,.0f}\")\n",
    "    print(f\"99th percentile: {np.percentile(positive_losses,99):,.0f}\")\n",
    "    print(f\"Max loss (capped): {positive_losses.max():,.0f}\")\n",
    "\n",
    "# Optional down-sample for plotting heavy tails\n",
    "max_points = 200_000\n",
    "if positive_losses.size > max_points:\n",
    "    rng = np.random.default_rng(42)\n",
    "    sample_idx = rng.choice(positive_losses.size, size=max_points, replace=False)\n",
    "    plot_positive = positive_losses[sample_idx]\n",
    "else:\n",
    "    plot_positive = positive_losses\n",
    "\n",
    "fig, axes = plt.subplots(3, 1, figsize=(9, 12))\n",
    "\n",
    "# Zero vs positive\n",
    "axes[0].bar(['Zero','> 0'], [zero_count, positive_losses.size], color=['#888','#1f77b4'])\n",
    "axes[0].set_title('Zero vs Positive Insured Loss Counts')\n",
    "axes[0].set_ylabel('Count')\n",
    "\n",
    "# Histogram (linear scale, truncated upper tail to 99.5% for visibility)\n",
    "if positive_losses.size:\n",
    "    upper_cut = np.percentile(plot_positive, 99.5)\n",
    "    sns.histplot(plot_positive[plot_positive <= upper_cut],\n",
    "                 bins=50, ax=axes[1], color='#1f77b4')\n",
    "    axes[1].set_title('Insured Losses (<= 99.5th pct)')\n",
    "    axes[1].set_xlabel('Loss Amount')\n",
    "\n",
    "# Histogram (log x scale for tail)\n",
    "if positive_losses.size:\n",
    "    sns.histplot(plot_positive, bins=100, ax=axes[2], color='#ff7f0e')\n",
    "    axes[2].set_xscale('log')\n",
    "    axes[2].set_title('Insured Losses (Log X Scale)')\n",
    "    axes[2].set_xlabel('Loss Amount (log scale)')\n",
    "\n",
    "fig.suptitle('Distribution of Insured Losses', fontsize=14, y=1.02)\n",
    "plt.tight_layout()\n",
    "plt.show()"
   ]
  },
  {
   "cell_type": "code",
   "execution_count": 8,
   "id": "732452d5",
   "metadata": {},
   "outputs": [
    {
     "name": "stdout",
     "output_type": "stream",
     "text": [
      "Annual Premium: $395,577\n",
      "Total Annual Cost of Risk: $497,711\n"
     ]
    }
   ],
   "source": [
    "loss_ratio = LOSS_RATIO\n",
    "\n",
    "annual_premium = average_annual_insured_loss / loss_ratio\n",
    "print(f\"Annual Premium: ${annual_premium:,.0f}\")\n",
    "\n",
    "total_cost_of_risk = annual_premium + average_annual_retained_loss\n",
    "print(f\"Total Annual Cost of Risk: ${total_cost_of_risk:,.0f}\")"
   ]
  },
  {
   "cell_type": "code",
   "execution_count": 9,
   "id": "eaa2b272",
   "metadata": {},
   "outputs": [
    {
     "data": {
      "text/plain": [
       "376716.62778781634"
      ]
     },
     "execution_count": 9,
     "metadata": {},
     "output_type": "execute_result"
    }
   ],
   "source": [
    "cur_operating_income = base_manufacturer.calculate_operating_income(cur_revenue)\n",
    "\n",
    "cur_net_income = base_manufacturer.calculate_net_income(\n",
    "                    operating_income=cur_operating_income,\n",
    "                    collateral_costs=0.0,\n",
    "                    insurance_premiums=annual_premium,\n",
    "                    insurance_losses=average_annual_retained_loss,\n",
    "                    use_accrual=True,\n",
    "                    time_resolution=\"annual\",\n",
    "                )\n",
    "\n",
    "cur_net_income"
   ]
  },
  {
   "cell_type": "code",
   "execution_count": 10,
   "id": "df8fc0d6",
   "metadata": {},
   "outputs": [
    {
     "data": {
      "text/plain": [
       "375000.0"
      ]
     },
     "execution_count": 10,
     "metadata": {},
     "output_type": "execute_result"
    }
   ],
   "source": [
    "target_net_income = base_manufacturer.base_revenue * target_ebita_margin * (1 - base_manufacturer.tax_rate)\n",
    "target_net_income\n"
   ]
  },
  {
   "cell_type": "code",
   "execution_count": 11,
   "id": "9944fa91",
   "metadata": {},
   "outputs": [],
   "source": [
    "net_margin_diff = abs(cur_net_income - target_net_income) / cur_revenue\n",
    "\n",
    "# assert net_margin_diff < 0.0005, f\"Net income not within 0.05% of target ({net_margin_diff:.2%} difference)\""
   ]
  },
  {
   "cell_type": "code",
   "execution_count": 12,
   "id": "757d16f0",
   "metadata": {},
   "outputs": [
    {
     "name": "stdout",
     "output_type": "stream",
     "text": [
      "Net Margin after insurance: 3.77%\n",
      "EBITA Margin after insurance: 5.02%\n"
     ]
    }
   ],
   "source": [
    "net_margin = cur_net_income / cur_revenue\n",
    "print(f\"Net Margin after insurance: {net_margin:.2%}\")\n",
    "print(f\"EBITA Margin after insurance: {net_margin / (1 - base_manufacturer.tax_rate):.2%}\")"
   ]
  },
  {
   "cell_type": "markdown",
   "id": "b13ad6ca",
   "metadata": {},
   "source": [
    "## Define the Insurance Program"
   ]
  },
  {
   "cell_type": "code",
   "execution_count": 13,
   "id": "863ef28f",
   "metadata": {},
   "outputs": [],
   "source": [
    "\n",
    "all_layers = EnhancedInsuranceLayer(\n",
    "                attachment_point=deductible,\n",
    "                limit=policy_limit,\n",
    "                limit_type='per-occurrence',\n",
    "                base_premium_rate=annual_premium / policy_limit\n",
    "            )\n",
    "\n",
    "program = InsuranceProgram([all_layers])"
   ]
  },
  {
   "cell_type": "code",
   "execution_count": 14,
   "id": "b34b4886",
   "metadata": {},
   "outputs": [
    {
     "data": {
      "text/plain": [
       "np.float64(395577.30802039494)"
      ]
     },
     "execution_count": 14,
     "metadata": {},
     "output_type": "execute_result"
    }
   ],
   "source": [
    "total_premium = program.calculate_annual_premium()\n",
    "total_premium"
   ]
  },
  {
   "cell_type": "markdown",
   "id": "642ad433",
   "metadata": {},
   "source": [
    "## Begin the Study\n",
    "- Run 50 years, repricing each time\n",
    "  - Adjust premium appropriately to reflect loss costs\n",
    "- Study results\n",
    "- Set up additional parameters\n",
    "- Study aggregate results and frontiers"
   ]
  },
  {
   "cell_type": "markdown",
   "id": "ddc7685d",
   "metadata": {},
   "source": [
    "### Define the Business Financials"
   ]
  },
  {
   "cell_type": "code",
   "execution_count": 15,
   "id": "5cded72a",
   "metadata": {},
   "outputs": [
    {
     "name": "stdout",
     "output_type": "stream",
     "text": [
      "Average Annual Insured Loss: $276,904\n",
      "Average Annual Retained Loss: $102,134\n",
      "Annual Premium: $395,577\n",
      "Total Annual Cost of Risk: $497,711\n",
      "Net Margin after insurance: 3.77%\n",
      "EBITA Margin after insurance: 5.02%\n"
     ]
    }
   ],
   "source": [
    "# Create manufacturer configuration\n",
    "manufacturer_config = ManufacturerConfig(\n",
    "    initial_assets=INITIAL_ASSETS,\n",
    "    asset_turnover_ratio=ASSET_TURNOVER_RATIO,  # Revenue = Assets × Turnover\n",
    "    base_operating_margin=0.10,  # EBITA before claims and insurance (need to calibrate)\n",
    "    tax_rate=0.25,  # Current US Tax Rate\n",
    "    retention_ratio=0.70,  # 30% dividends\n",
    "    ppe_ratio=0.00,  # 0% of assets in PPE, so there is no depreciation expense\n",
    ")\n",
    "\n",
    "# Create widget manufacturer\n",
    "base_manufacturer = WidgetManufacturer(manufacturer_config)\n",
    "\n",
    "# Create exposure base based on revenue\n",
    "exposure = RevenueExposure(state_provider=base_manufacturer)\n",
    "\n",
    "cur_revenue = base_manufacturer.total_assets * base_manufacturer.asset_turnover_ratio\n",
    "\n",
    "# Calibrate claim generator for EBITA of 5%\n",
    "target_ebita_margin = 0.05\n",
    "\n",
    "generator = ManufacturingLossGenerator(\n",
    "    attritional_params={\n",
    "        'base_frequency': 2.85,\n",
    "        'severity_mean': 40_000,\n",
    "        'severity_cv': 0.8,\n",
    "        'revenue_scaling_exponent': 1.0,\n",
    "        'reference_revenue': cur_revenue\n",
    "    },\n",
    "    large_params={\n",
    "        'base_frequency': 0.20,\n",
    "        'severity_mean': 500_000,\n",
    "        'severity_cv': 1.5,\n",
    "        'revenue_scaling_exponent': 1.0,\n",
    "        'reference_revenue': cur_revenue\n",
    "    },\n",
    "    catastrophic_params={\n",
    "        'base_frequency': 0.02,\n",
    "        'severity_xm': 5_000_000,\n",
    "        'severity_alpha': 2.5,\n",
    "        'revenue_scaling_exponent': 1.0,\n",
    "        'reference_revenue': cur_revenue\n",
    "    },\n",
    "    seed=42\n",
    ")\n",
    "\n",
    "deductible = DEDUCTIBLE\n",
    "policy_limit = 1_000_000_000\n",
    "\n",
    "pricing_simulation_years = 500_000\n",
    "\n",
    "total_insured_loss = 0.0\n",
    "insured_loss_list = []\n",
    "\n",
    "total_retained_loss = 0.0\n",
    "retained_loss_list = []\n",
    "\n",
    "for yr in range(pricing_simulation_years):\n",
    "    loss_events, loss_meta = generator.generate_losses(duration=1, revenue=base_manufacturer.base_revenue)\n",
    "    for loss_event in loss_events:\n",
    "        insured_loss = max(min(loss_event.amount, policy_limit) - deductible,0)\n",
    "        \n",
    "        total_insured_loss += insured_loss\n",
    "        insured_loss_list.append(insured_loss)\n",
    "\n",
    "        retained_loss = loss_event.amount - insured_loss\n",
    "        total_retained_loss += retained_loss\n",
    "        retained_loss_list.append(retained_loss)\n",
    "\n",
    "average_annual_insured_loss = total_insured_loss / pricing_simulation_years\n",
    "average_annual_retained_loss = total_retained_loss / pricing_simulation_years\n",
    "print(f\"Average Annual Insured Loss: ${average_annual_insured_loss:,.0f}\")\n",
    "print(f\"Average Annual Retained Loss: ${average_annual_retained_loss:,.0f}\")\n",
    "\n",
    "loss_ratio = 0.70\n",
    "\n",
    "annual_premium = average_annual_insured_loss / loss_ratio\n",
    "print(f\"Annual Premium: ${annual_premium:,.0f}\")\n",
    "\n",
    "total_cost_of_risk = annual_premium + average_annual_retained_loss\n",
    "print(f\"Total Annual Cost of Risk: ${total_cost_of_risk:,.0f}\")\n",
    "\n",
    "cur_operating_income = base_manufacturer.calculate_operating_income(cur_revenue)\n",
    "\n",
    "cur_net_income = base_manufacturer.calculate_net_income(\n",
    "                    operating_income=cur_operating_income,\n",
    "                    collateral_costs=0.0,\n",
    "                    insurance_premiums=annual_premium,\n",
    "                    insurance_losses=average_annual_retained_loss,\n",
    "                    use_accrual=True,\n",
    "                    time_resolution=\"annual\",\n",
    "                )\n",
    "\n",
    "cur_net_income\n",
    "\n",
    "target_net_income = base_manufacturer.base_revenue * target_ebita_margin * (1 - base_manufacturer.tax_rate)\n",
    "target_net_income\n",
    "\n",
    "net_margin_diff = abs(cur_net_income - target_net_income) / cur_revenue\n",
    "\n",
    "# assert net_margin_diff < 0.0005, f\"Net income not within 0.05% of target ({net_margin_diff:.2%} difference)\"\n",
    "\n",
    "net_margin = cur_net_income / cur_revenue\n",
    "print(f\"Net Margin after insurance: {net_margin:.2%}\")\n",
    "print(f\"EBITA Margin after insurance: {net_margin / (1 - base_manufacturer.tax_rate):.2%}\")"
   ]
  },
  {
   "cell_type": "markdown",
   "id": "e3cb442c",
   "metadata": {},
   "source": [
    "### Define the Insurance Program"
   ]
  },
  {
   "cell_type": "code",
   "execution_count": 16,
   "id": "474e753b",
   "metadata": {},
   "outputs": [
    {
     "name": "stdout",
     "output_type": "stream",
     "text": [
      "Total Program Premium: $395,577.31\n"
     ]
    }
   ],
   "source": [
    "from ergodic_insurance.insurance_pricing import InsurancePricer, PricingParameters\n",
    "\n",
    "policy_pricer = InsurancePricer(loss_generator=generator,\n",
    "                                loss_ratio=loss_ratio,\n",
    "                                parameters=PricingParameters(\n",
    "                                    loss_ratio=loss_ratio,\n",
    "                                    simulation_years=100_000\n",
    "                                    )\n",
    "                                )\n",
    "\n",
    "all_layers = EnhancedInsuranceLayer(\n",
    "                attachment_point=deductible,\n",
    "                limit=policy_limit,\n",
    "                limit_type='per-occurrence',\n",
    "                base_premium_rate=annual_premium / policy_limit  # Use small premium\n",
    "            )\n",
    "\n",
    "program = InsuranceProgram([all_layers],\n",
    "                            pricing_enabled=True,\n",
    "                            pricer=policy_pricer)\n",
    "\n",
    "total_premium = program.calculate_annual_premium()\n",
    "print(f\"Total Program Premium: ${total_premium:,.2f}\")\n",
    "\n",
    "# The assertion should check against the small premium\n",
    "assert abs(total_premium - annual_premium) < 1.0, f\"Calculated premium ({total_premium:,.0f}) does not match target premium ({annual_premium:,.0f})\""
   ]
  },
  {
   "cell_type": "markdown",
   "id": "aede05e2",
   "metadata": {},
   "source": [
    "## Set Up the Simulation"
   ]
  },
  {
   "cell_type": "code",
   "execution_count": 17,
   "id": "168597a6",
   "metadata": {},
   "outputs": [
    {
     "name": "stdout",
     "output_type": "stream",
     "text": [
      "Setting up Monte Carlo engine with Insurance...\n",
      "Engine configured: 100 simulations, 50 years\n",
      "Parallel processing: False\n",
      "Number of chains: 4\n",
      "Deductible: 0.0\n"
     ]
    }
   ],
   "source": [
    "from ergodic_insurance.monte_carlo import MonteCarloEngine, SimulationConfig, SimulationResults\n",
    "\n",
    "def setup_simulation_engine(n_simulations=10_000, n_years=10, parallel=False, insurance_program=None):\n",
    "    \"\"\"Set up Monte Carlo simulation engine.\"\"\"\n",
    "    # Create simulation config\n",
    "    config = SimulationConfig(\n",
    "        n_simulations=n_simulations,\n",
    "        n_years=n_years,\n",
    "        n_chains=4,\n",
    "        parallel=parallel,\n",
    "        n_workers=None,\n",
    "        chunk_size=max(1000, n_simulations // 10),\n",
    "        use_float32=True,\n",
    "        cache_results=False,\n",
    "        progress_bar=True,\n",
    "        ruin_evaluation=[5, 10, 15, 20, 25, 30, 35, 40, 45, 50],\n",
    "        working_capital_pct=0.0,  # Set working capital to 0% for full asset revenue generation\n",
    "        seed=42\n",
    "    )\n",
    "    \n",
    "    if insurance_program is None:\n",
    "        insurance_program = InsuranceProgram(\n",
    "                                layers=[],  # Empty list to define no coverage\n",
    "                                deductible=0.0,  # No deductible needed since all losses are retained\n",
    "                                pricer=None,\n",
    "                                name=\"No Insurance\"\n",
    "                            )\n",
    "\n",
    "    # Create engine\n",
    "    engine = MonteCarloEngine(\n",
    "        loss_generator=generator,\n",
    "        insurance_program=insurance_program,\n",
    "        manufacturer=base_manufacturer,\n",
    "        config=config\n",
    "    )\n",
    "    \n",
    "    return engine\n",
    "\n",
    "# Create engine\n",
    "print(\"Setting up Monte Carlo engine with Insurance...\")\n",
    "engine = setup_simulation_engine(n_simulations=NUM_SIMULATIONS, n_years=SIM_YEARS, parallel=False, insurance_program=program)\n",
    "print(f\"Engine configured: {engine.config.n_simulations:,} simulations, {engine.config.n_years} years\")\n",
    "print(f\"Parallel processing: {engine.config.parallel}\")\n",
    "print(f\"Number of chains: {engine.config.n_chains}\")\n",
    "print(f\"Deductible: {engine.insurance_program.deductible}\")"
   ]
  },
  {
   "cell_type": "markdown",
   "id": "b71fed8c",
   "metadata": {},
   "source": [
    "### Set Up the Simulation Without Insurance"
   ]
  },
  {
   "cell_type": "code",
   "execution_count": 18,
   "id": "82b0b72f",
   "metadata": {},
   "outputs": [
    {
     "name": "stdout",
     "output_type": "stream",
     "text": [
      "Setting up Monte Carlo engine without Insurance...\n",
      "Engine configured: 100 simulations, 50 years\n",
      "Parallel processing: False\n",
      "Number of chains: 4\n",
      "Deductible: 0.0\n"
     ]
    }
   ],
   "source": [
    "# Create engine without insurance\n",
    "print(\"Setting up Monte Carlo engine without Insurance...\")\n",
    "engine_no_ins = setup_simulation_engine(n_simulations=NUM_SIMULATIONS, n_years=SIM_YEARS, parallel=False, insurance_program=None)\n",
    "print(f\"Engine configured: {engine_no_ins.config.n_simulations:,} simulations, {engine_no_ins.config.n_years} years\")\n",
    "print(f\"Parallel processing: {engine_no_ins.config.parallel}\")\n",
    "print(f\"Number of chains: {engine_no_ins.config.n_chains}\")\n",
    "print(f\"Deductible: {engine_no_ins.insurance_program.deductible}\")"
   ]
  },
  {
   "cell_type": "markdown",
   "id": "4bca92d4",
   "metadata": {},
   "source": [
    "## Run the Simulation"
   ]
  },
  {
   "cell_type": "code",
   "execution_count": 19,
   "id": "96c6c5fb",
   "metadata": {},
   "outputs": [
    {
     "name": "stderr",
     "output_type": "stream",
     "text": [
      "Running simulations: 100%|██████████| 100/100 [00:03<00:00, 33.15it/s]\n",
      "Running simulations:  15%|█▌        | 15/100 [00:00<00:02, 37.93it/s]Company became insolvent - negative equity: $-1,372,346.03\n",
      "Running simulations:  25%|██▌       | 25/100 [00:00<00:02, 36.38it/s]Company became insolvent - negative equity: $-10,528,869.56\n",
      "Running simulations:  40%|████      | 40/100 [00:01<00:01, 38.72it/s]Company became insolvent - negative equity: $-3,087,514.20\n",
      "Running simulations:  63%|██████▎   | 63/100 [00:01<00:01, 36.73it/s]Company became insolvent - negative equity: $-2,968,643.56\n",
      "Running simulations:  90%|█████████ | 90/100 [00:02<00:00, 39.73it/s]Company became insolvent - negative equity: $-5,620,965.75\n",
      "Company became insolvent - negative equity: $-17,623,091.77\n",
      "Running simulations: 100%|██████████| 100/100 [00:02<00:00, 39.34it/s]\n"
     ]
    }
   ],
   "source": [
    "results = engine.run()\n",
    "results_no_ins = engine_no_ins.run()"
   ]
  },
  {
   "cell_type": "code",
   "execution_count": 20,
   "id": "8e755655",
   "metadata": {},
   "outputs": [],
   "source": [
    "import pickle\n",
    "\n",
    "filename = f\"results\\Cap ({INITIAL_ASSETS/1_000_000:.0f}M) -\\\n",
    " ATR ({ASSET_TURNOVER_RATIO}) -\\\n",
    " EBITA ({EBITA_MARGIN_TARGET}) -\\\n",
    " XS_Kurt ({EXCESS_KURTOSIS:.0f}) -\\\n",
    " Ded ({DEDUCTIBLE/1_000:.0f}K) -\\\n",
    " LR ({LOSS_RATIO}) -\\\n",
    " {NUM_SIMULATIONS/1_000:.0f}K Sims -\\\n",
    " {SIM_YEARS} Yrs.pkl\"\n",
    "\n",
    "with open(filename, \"wb\") as f:\n",
    "    pickle.dump(results, f, protocol=pickle.HIGHEST_PROTOCOL)"
   ]
  },
  {
   "cell_type": "code",
   "execution_count": 21,
   "id": "f45e17ce",
   "metadata": {},
   "outputs": [],
   "source": [
    "filename_no_ins = f\"results\\Cap ({INITIAL_ASSETS/1_000_000:.0f}M) -\\\n",
    " ATR ({ASSET_TURNOVER_RATIO}) -\\\n",
    " EBITA ({EBITA_MARGIN_TARGET}) -\\\n",
    " XS_Kurt ({EXCESS_KURTOSIS:.0f}) -\\\n",
    " NOINS -\\\n",
    " {NUM_SIMULATIONS/1_000:.0f}K Sims -\\\n",
    " {SIM_YEARS} Yrs.pkl\"\n",
    "\n",
    "with open(filename_no_ins, \"wb\") as f:\n",
    "    pickle.dump(results_no_ins, f, protocol=pickle.HIGHEST_PROTOCOL)"
   ]
  },
  {
   "cell_type": "code",
   "execution_count": 22,
   "id": "e7767b1a",
   "metadata": {},
   "outputs": [
    {
     "name": "stdout",
     "output_type": "stream",
     "text": [
      "Simulation Results Summary\n",
      "==================================================\n",
      "Simulations: 100\n",
      "Years: 50\n",
      "Execution Time: 3.27s\n",
      "Ruin Probability:\n",
      "  Year 5: 0.00%\n",
      "  Year 10: 0.00%\n",
      "  Year 15: 0.00%\n",
      "  Year 20: 0.00%\n",
      "  Year 25: 0.00%\n",
      "  Year 30: 0.00%\n",
      "  Year 35: 0.00%\n",
      "  Year 40: 0.00%\n",
      "  Year 45: 0.00%\n",
      "  Year 50: 0.00%\n",
      "Mean Final Assets: $20,368,222\n",
      "Mean Growth Rate: 0.0142\n",
      "VaR(99%): $81,966,368\n",
      "TVaR(99%): $89,299,624\n",
      "Convergence R-hat: 0.000\n",
      "\n",
      "==================================================\n",
      "Performance Summary\n",
      "==================================================\n",
      "Total Time: 3.27s\n",
      "Setup: 0.00s\n",
      "Computation: 3.27s\n",
      "Serialization: 0.00s (0.0% overhead)\n",
      "Reduction: 0.00s\n",
      "Peak Memory: 0.2 MB\n",
      "CPU Utilization: 0.0%\n",
      "Throughput: 31 items/s\n",
      "Speedup: 1.00x\n",
      "\n",
      "==================================================\n",
      "Advanced Aggregation Results:\n",
      "  p1: $19,737,637\n",
      "  p5: $20,057,459\n",
      "  p10: $20,107,960\n",
      "  p25: $20,202,674\n",
      "  p50: $20,355,531\n",
      "  p75: $20,537,803\n",
      "  p90: $20,653,496\n",
      "  p95: $20,740,375\n",
      "  p99: $20,861,144\n",
      "\n"
     ]
    }
   ],
   "source": [
    "print(results.summary())"
   ]
  },
  {
   "cell_type": "code",
   "execution_count": 23,
   "id": "80dcef59",
   "metadata": {},
   "outputs": [
    {
     "name": "stdout",
     "output_type": "stream",
     "text": [
      "Simulation Results Summary\n",
      "==================================================\n",
      "Simulations: 100\n",
      "Years: 50\n",
      "Execution Time: 2.79s\n",
      "Ruin Probability:\n",
      "  Year 5: 1.00%\n",
      "  Year 10: 2.00%\n",
      "  Year 15: 2.00%\n",
      "  Year 20: 3.00%\n",
      "  Year 25: 3.00%\n",
      "  Year 30: 4.00%\n",
      "  Year 35: 6.00%\n",
      "  Year 40: 6.00%\n",
      "  Year 45: 6.00%\n",
      "  Year 50: 6.00%\n",
      "Mean Final Assets: $15,256,792\n",
      "Mean Growth Rate: 0.0068\n",
      "VaR(99%): $45,687,620\n",
      "TVaR(99%): $68,154,848\n",
      "Convergence R-hat: 0.000\n",
      "\n",
      "==================================================\n",
      "Performance Summary\n",
      "==================================================\n",
      "Total Time: 2.79s\n",
      "Setup: 0.00s\n",
      "Computation: 2.79s\n",
      "Serialization: 0.00s (0.0% overhead)\n",
      "Reduction: 0.00s\n",
      "Peak Memory: 0.2 MB\n",
      "CPU Utilization: 0.0%\n",
      "Throughput: 36 items/s\n",
      "Speedup: 1.00x\n",
      "\n",
      "==================================================\n",
      "Advanced Aggregation Results:\n",
      "  p1: $-10,357,827\n",
      "  p5: $-1,385,750\n",
      "  p10: $3,543,298\n",
      "  p25: $10,787,574\n",
      "  p50: $16,150,175\n",
      "  p75: $21,075,674\n",
      "  p90: $25,863,320\n",
      "  p95: $28,237,083\n",
      "  p99: $30,492,725\n",
      "\n"
     ]
    }
   ],
   "source": [
    "print(results_no_ins.summary())"
   ]
  },
  {
   "cell_type": "code",
   "execution_count": 24,
   "id": "17c5294e",
   "metadata": {},
   "outputs": [
    {
     "name": "stdout",
     "output_type": "stream",
     "text": [
      "Results with insurance already loaded.\n",
      "Results without insurance already loaded.\n"
     ]
    }
   ],
   "source": [
    "# Import required libraries\n",
    "import numpy as np\n",
    "import pandas as pd\n",
    "import matplotlib.pyplot as plt\n",
    "import seaborn as sns\n",
    "from typing import List, Dict, Any\n",
    "import warnings\n",
    "import sys\n",
    "from pathlib import Path\n",
    "warnings.filterwarnings('ignore')\n",
    "\n",
    "# Set plotting style\n",
    "plt.style.use('seaborn-v0_8-darkgrid')\n",
    "sns.set_palette(\"husl\")\n",
    "\n",
    "from ergodic_insurance.config import ManufacturerConfig\n",
    "from ergodic_insurance.manufacturer import WidgetManufacturer\n",
    "from ergodic_insurance.exposure_base import RevenueExposure\n",
    "from ergodic_insurance.insurance import InsurancePolicy, InsuranceLayer\n",
    "from ergodic_insurance.simulation import Simulation, SimulationResults\n",
    "from ergodic_insurance.ergodic_analyzer import ErgodicAnalyzer\n",
    "from ergodic_insurance.loss_distributions import ManufacturingLossGenerator\n",
    "from ergodic_insurance.insurance_program import EnhancedInsuranceLayer, InsuranceProgram\n",
    "\n",
    "# Read the specified pickle file (tries results/ directory first)\n",
    "results_filename = \"Cap (10M) - ATR (1.0) - EBITA (0.05) - XS_Kurt (3728) - Ded (50K) - LR (0.7).pkl\"\n",
    "\n",
    "candidate_paths = [Path(\"results\") / results_filename, Path(results_filename)]\n",
    "\n",
    "if results is None:\n",
    "    for p in candidate_paths:\n",
    "        if p.exists():\n",
    "            with open(p, \"rb\") as f:\n",
    "                results = pickle.load(f)\n",
    "            print(f\"Loaded pickle from: {p}\")\n",
    "            break\n",
    "\n",
    "    if results is None:\n",
    "        print(f\"File not found in: {[str(p) for p in candidate_paths]}\")\n",
    "    else:\n",
    "        # If this is a SimulationResults object, show a brief summary\n",
    "        if hasattr(results, \"summary\"):\n",
    "            try:\n",
    "                print(results.summary())\n",
    "            except Exception as e:\n",
    "                print(f\"Could not print summary: {e}\")\n",
    "        else:\n",
    "            print(f\"Loaded object type: {type(results)}\")\n",
    "else:\n",
    "    print(\"Results with insurance already loaded.\")\n",
    "\n",
    "# Read the specified pickle file (tries results/ directory first)\n",
    "results_no_ins_filename = \"Cap (10M) - ATR (1.0) - EBITA (0.05) - XS_Kurt (3728) - NOINS.pkl\"\n",
    "\n",
    "candidate_paths = [Path(\"results\") / results_no_ins_filename, Path(results_no_ins_filename)]\n",
    "\n",
    "if results_no_ins is None:\n",
    "    for p in candidate_paths:\n",
    "        if p.exists():\n",
    "            with open(p, \"rb\") as f:\n",
    "                results_no_ins = pickle.load(f)\n",
    "            print(f\"Loaded pickle from: {p}\")\n",
    "            break\n",
    "\n",
    "    if results_no_ins is None:\n",
    "        print(f\"File not found in: {[str(p) for p in candidate_paths]}\")\n",
    "    else:\n",
    "        # If this is a SimulationResults object, show a brief summary\n",
    "        if hasattr(results_no_ins, \"summary\"):\n",
    "            try:\n",
    "                print(results_no_ins.summary())\n",
    "            except Exception as e:\n",
    "                print(f\"Could not print summary: {e}\")\n",
    "        else:\n",
    "            print(f\"Loaded object type: {type(results_no_ins)}\")\n",
    "else:\n",
    "    print(\"Results without insurance already loaded.\")"
   ]
  },
  {
   "cell_type": "code",
   "execution_count": 25,
   "id": "92ffb219",
   "metadata": {},
   "outputs": [
    {
     "name": "stdout",
     "output_type": "stream",
     "text": [
      "\n",
      "Ruin Probabilities by Time Horizon:\n",
      "  5 years: 0.00%\n",
      "  10 years: 0.00%\n",
      "  15 years: 0.00%\n",
      "  20 years: 0.00%\n",
      "  25 years: 0.00%\n",
      "  30 years: 0.00%\n",
      "  35 years: 0.00%\n",
      "  40 years: 0.00%\n",
      "  45 years: 0.00%\n",
      "  50 years: 0.00%\n",
      "\n",
      "Convergence achieved: No\n",
      "Growth Rate Summary With Insurance (%): Mean=1.42, Median=1.42, 25th=1.41, 5th=1.39\n",
      "Growth Rate Summary Without Insurance (%): Mean=0.68, Median=0.96, 25th=0.15, 5th=-1.92\n"
     ]
    },
    {
     "data": {
      "application/vnd.plotly.v1+json": {
       "config": {
        "plotlyServerURL": "https://plot.ly"
       },
       "data": [
        {
         "line": {
          "color": "#0080C7",
          "width": 2
         },
         "mode": "lines",
         "name": "Insurance (clipped)",
         "type": "scatter",
         "x": {
          "bdata": "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",
          "dtype": "f8"
         },
         "y": {
          "bdata": "AAAAAAAAAAAAAAAAAAAAAAAAAAAAAAAAAAAAAAAAAAAAAAAAAAAAAAAAAAAAAAAAAAAAAAAAAAAAAAAAAAAAAAAAAAAAAAAAAAAAAAAAAAAAAAAAAAAAAAAAAAAAAAAAAAAAAAAAAAAAAAAAAAAAAAAAAAAAAAAAAAAAAAAAAAAAAAAAAAAAAAAAAAAAAAAAAAAAAAAAAAAAAAAAAAAAAAAAAAAAAAAAAAAAAAAAAAAAAAAAAAAAAAAAAAAAAAAAAAAAAAAAAAAAAAAAAAAAAAAAAAAAAAAAAAAAAAAAAAAAAAAAAAAAAAAAAAAAAAAAAAAAAAAAAAAAAAAAAAAAAAAAAAAAAAAAAAAAAAAAAAAAAAAAAAAAAAAAAAAAAAAAAAAAAAAAAAAAAAAAAAAAAAAAAAAAAAAAAAAAAAAAAAAAAAAAAAAAAAAAAAAAAAAAAAAAAAAAAAAAAAAAAAAAAAAAAAAAAAAAAAAAAAAAAAAAAAAAAAAAAAAAAAAAAAAAAAAAAAAAAAAAAAAAAAAAAAAAAAAAAAAAAAAAAAAAAAAAAAAAAAAAAAAAAAAAAAAAAAAAAAAAAAAAAAAAAAAAAAAAAAAAAAAAAAAAAAAAAAAAAAAAAAAAAAAAAAAAAAAAAAAAAAAAAAAAAAAAAAAAAAAAAAAAAAAAAAAAAAAAAAAAAAAAAAAAAAAAAAAAAAAAAAAAAAAAAAAAAAAAAAAAAAAAAAAAAAAAAAAAAAAAAAAAAAAAAAAAAAAAAAAAAAAAAAAAAAAAAAAAAAAAAAAAAAAAAAAAAAAAAAAAAAAAAAAAAAAAAAAAAAAAAAAAAAAAAAAAAAAAAAAAAAAAAAAAAAAAAAAAAAAAAAAAAAAAAAAAAAAAAAAAAAAAAAAAAAAAAAAAAAAAAAAAAAAAAAAAAAAAAAAAAAAAAAAAAAAAAAAAAAAAAAAAAAAAAAAAAAAAAAAAAAAAAAAAAAAAAAAAAAAAAAAAAAAAAAAAAAAAAAAAAAAAAAAAAAAAAAAAAAAAAAAAAAAAAAAAAAAAAAAAAAAAAAAAAAAAAAAAAAAAAAAAAAAAAAAAAAAAAAAAAAAAAAAAAAAAAAAAAAAAAAAAAAAAAAAAAAAAAAAAAAAAAAAAAAAAAAAAAAAAAAAAAAAAAAAAAAAAAAAAAAAAAAAAAAAAAAAAAAAAAAAAAAAAAAAAAAAAAAAAAAAAAAAAAAAAAAAAAAAAAAAAAAAAAAAAAAAAAAAAAAAAAAAAAAAAAAAAAAAAAAAAAAAAAAAAAAAAAAAAAAAAAAAAAAAAAAAAAAAAAAAAAAAAAAAAAAAAAAAAAAAAAAAAAAAAAAAAAAAAAAAAAAAAAAAAAAAAAAAAAAAAAAAAAAAAAAAAAAAAAAAAAAAAAAAAAAAAAAAAAAAAAAAAAAAAAAAAAAAAAAAAAAAAAAAAAAAAAAAAAAAAAAAAAAAAAAAAAAAAAAAAAAAAAAAAAAAAAAAAAAAAAAAAAAAAAAAAAAAAAAAAAAAAAAAAAAAAAAAAAAAAAAAAAAAAAAAAAAAAAAAAAAAAAAAAAAAAAAAAAAAAAAAAAAAAAAAAAAAAAAAAAAAAAAAAAAAAAAAAAAAAAAAAAAAAAAAAAAAAAAAAAAAAAAAAAAAAAAAAAAAAAAAAAAAAAAAAAAAAAAAAAAAAAAAAAAAAAAAAAAAAAAAAAAAAAAAAAAAAAAAAAAAAAAAAAAAAAAAAAAAAAAAAAAAAAAAAAAAAAAAAAAAAAAAAAAAAAAAAAAAAAAAAAAAAAAAAAAAAAAAAAAAAAAAAAAAAAAAAAAAAAAAAAAAAAAAAAAAAAAAAAAAAAAAAAAAAAAAAAAAAAAAAAAAAAAAAAAAAAAAAAAAAAAAAAAAAAAAAAAAAAAAAAAAAAAAAAAAAAAAAAAAAAAAAAAAAAAAAAAAAAAAAAAAAAAAAAAAAAAAAAAAAAAAAAAAAAAAAAAAAAAAAAAAAAAAAAAAAAAAAAAAAAAAAAAAAAAAAAAAAAAAAAAAAAAAAAAAAAAAAAAAAAAAAAAAAAAAAAAAAAAAAAAAAAAAAAAAAAAAAAAAAAAAAAAAAAAAAAAAAAAAAAAAAAAAAAAAAAAAAAAAAAAAAAAAAAAAAAAAAAAAAAAAAAAAAAAAAAAAAAAAAAAAAAAAAAAAAAAAAAAAAAAAAAAAAAAAAAAAAAAAAAAAAAAAAAAAAAAAAAAAAAAAAAAAAAAAAAAAAAAAAAAAAAAAAAAAAAAAAAAAAAAAAAAAAAAAAAAAAAAAAAAAAAAAAAAAAAAAAAAAAAAAAAAAAAAAAAAAAAAAAAAAAAAAAAAAAAAAAAAAAAAAAAAAAAAAAAAAAAAAAAAAAAAAAAAAAAAAAAAAAAAAAAAAAAAAAAAAAAAAAAAAAAAAAAAAAAAAAAAAAAAAAAAAAAAAAAAAAAAAAAAAAAAAAAAAAAAAAAAAAAAAAAAAAAAAAAAAAAAAAAAAAAAAAAAAAAAAAAAAAAAAAAAAAAAAAAAAAAAAAAAAAAAAAAAAAAAAAAAAAAAAAAAAAAAAAAAAAAAAAAAAAAAAAPB8AKHvKEQS7I2KlfhB0DKEd/CyyyTQUghbM5y/JUxtwW0F4Ck3RIc1oQt/hy6sn3n0pWa6D5CzeQw/CstF7MYBH2BFiVHE1EYbQKxLWwzjogu9xTtx0O+maepnQJ4Q94X+6a3rk8T6lNey34z69PzXXIZbkfu4/dPv/CBgsHEAETXLNv4EwQJW7GONxBidA0Q90lJzvDUDO4H9rDr7BP8bRVpY6zPY+1ynCVQR1kT1T+v77XGGKO6PZ9r0W0OI4VSujBn7pmDXutEfmKGyuMWA6ncVzFSEtwB2kMEKg8ScS4HyO0rIgImqqsbMlDK0bynPxXVcxlxTRVbn8yP/gDPyjH17534YEAAAAAAAAAAAAAAAAAAAAAAAAAAAAAAAAAAAAAAAAAAAAAAAAAAAAAAAAAAAAAAAAAAAAAAAAAAAAAAAAAAAAAAAAAAAAAAAAAAAAAAAAAAAAAAAAAAAAAAAAAAAAAAAAAAAAAAAAAAAAAAAAAAAAAAAAAAAAAAAAAAAAAAAAAAAAAAAAAAAAAAAAAAAAAAAAAAAAAAAAAAAAAAAAAAAAAAAAAAAAAAAAAAAAAAAAAAAAAAAAAAAAAAAAAAAAAAAAAAAAAAAAAAAAAAAAAAAAAAAAAAAAAAAAAAAAAAAAAAAAAAAAAAAAAAAAAAAAAAAAAAAAAAAAAAAAAAAAAAAAAAAAAAAAAAAAAAAAAAAAAAAAAAAAAAAAAAAAAAAAAAAAAAAAAAAAAAAAAAAAAAAAAAAAAAAAAAAAAAAAAAAAAAAAAAAAAAAAAAAAAAAAAAAAAAAAAAAAAAAAAAAAAAAAAAAAAAAAAAAAAAAAAAAAAAAAAAAAAAAAAAAAAAAAAAAAAAAAAAAAAAAAAAAAAAAAAAAAAAAAAAAAAAAAAAAAAAAAAAAAAAAAAAAAAAAAAAAAAAAAAAAAAAAAAAAAAAAAAAAAAAAAAAAAAAAAAAAAAAAAAAAAAAAAAAAAAAAAAAAAAAAAAAAAAAAAAAAAAAAAAAAAAAAAAAAAAAAAAAAAAAAAAAAAAAAAAAAAAAAAAAAAAAAAAAAAAAAAAAAAAAAAAAAAAAAAAAAAAAAAAAAAAAAAAAAAAAAAAAAAAAAAAAAAAAAAAAAAAAAAAAAAAAAAAAAAAAAAAAAAAAAAAAAAAAAAAAAAAAAAAAAAAAAAAAAAAAAAAAAAAAAAAAAAAAAAAAAAAAAAAAAAAAAAAAAAAAAAAAAAAAAAAAAAAAAAAAAAAAAAAAAAAAAAAAAAAAAAAAAAAAAAAAAAAAAAAAAAAAAAAAAAAAAAAAAAAAAAAAAAAAAAAAAAAAAAAAAAAAAAAAAAAAAAAAAAAAAAAAAAAAAAAAAAAAAAAAAAAAAAAAAAAAAAAAAAAAAAAAAAAAAAAAAAAAAAAAAAAAAAAAAAAAAAAAAAAAAAAAAAAAAAAAAAAAAAAAAAAAAAAAAAAAAAAAAAAAAAAAAAAAAAAAAAAAAAAAAAAAAAAAAAAAAAAAAAAAAAAAAAAAAAAAAAAAAAAAAAAAAAAAAAAAAAAAAAAAAAAAAAAAAAAAAAAAAAAAAAAAAAAAAAAAAAAAAAAAAAAAAAAAAAAAAAAAAAAAAAAAAAAAAAAAAAAAAAAAAAAAAAAAAAAAAAAAAAAAAAAAAAAAAAAAAAAAAAAAAAAAAAAAAAAAAAAAAAAAAAAAAAAAAAAAAAAAAAAAA=",
          "dtype": "f8"
         }
        },
        {
         "line": {
          "color": "#FF9800",
          "width": 2
         },
         "mode": "lines",
         "name": "No Insurance (clipped)",
         "type": "scatter",
         "x": {
          "bdata": "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",
          "dtype": "f8"
         },
         "y": {
          "bdata": "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",
          "dtype": "f8"
         }
        }
       ],
       "layout": {
        "annotations": [
         {
          "showarrow": false,
          "text": "Mean (Ins)",
          "x": 1.422657372429967,
          "xanchor": "left",
          "xref": "x",
          "y": 1,
          "yanchor": "top",
          "yref": "y domain"
         },
         {
          "showarrow": false,
          "text": "25th pct (Ins)",
          "x": 1.4064594870433211,
          "xanchor": "right",
          "xref": "x",
          "y": 1,
          "yanchor": "top",
          "yref": "y domain"
         },
         {
          "showarrow": false,
          "text": "Mean (No Ins)",
          "x": 0.7648391785826816,
          "xanchor": "left",
          "xref": "x",
          "y": 0,
          "yanchor": "bottom",
          "yref": "y domain"
         },
         {
          "showarrow": false,
          "text": "25th pct (No Ins)",
          "x": 0.17202436574734747,
          "xanchor": "right",
          "xref": "x",
          "y": 0,
          "yanchor": "bottom",
          "yref": "y domain"
         }
        ],
        "height": 500,
        "legend": {
         "orientation": "h",
         "x": 0.5,
         "xanchor": "center",
         "y": -0.2,
         "yanchor": "top"
        },
        "shapes": [
         {
          "line": {
           "color": "#0080C7",
           "dash": "dash"
          },
          "type": "line",
          "x0": 1.422657372429967,
          "x1": 1.422657372429967,
          "xref": "x",
          "y0": 0,
          "y1": 1,
          "yref": "y domain"
         },
         {
          "line": {
           "color": "#D32F2F",
           "dash": "dot"
          },
          "type": "line",
          "x0": 1.4064594870433211,
          "x1": 1.4064594870433211,
          "xref": "x",
          "y0": 0,
          "y1": 1,
          "yref": "y domain"
         },
         {
          "line": {
           "color": "#FF9800",
           "dash": "dash"
          },
          "type": "line",
          "x0": 0.7648391785826816,
          "x1": 0.7648391785826816,
          "xref": "x",
          "y0": 0,
          "y1": 1,
          "yref": "y domain"
         },
         {
          "line": {
           "color": "#D32F2F",
           "dash": "dot"
          },
          "type": "line",
          "x0": 0.17202436574734747,
          "x1": 0.17202436574734747,
          "xref": "x",
          "y0": 0,
          "y1": 1,
          "yref": "y domain"
         }
        ],
        "showlegend": true,
        "template": {
         "data": {
          "bar": [
           {
            "error_x": {
             "color": "#2a3f5f"
            },
            "error_y": {
             "color": "#2a3f5f"
            },
            "marker": {
             "line": {
              "color": "white",
              "width": 0.5
             },
             "pattern": {
              "fillmode": "overlay",
              "size": 10,
              "solidity": 0.2
             }
            },
            "type": "bar"
           }
          ],
          "barpolar": [
           {
            "marker": {
             "line": {
              "color": "white",
              "width": 0.5
             },
             "pattern": {
              "fillmode": "overlay",
              "size": 10,
              "solidity": 0.2
             }
            },
            "type": "barpolar"
           }
          ],
          "carpet": [
           {
            "aaxis": {
             "endlinecolor": "#2a3f5f",
             "gridcolor": "#C8D4E3",
             "linecolor": "#C8D4E3",
             "minorgridcolor": "#C8D4E3",
             "startlinecolor": "#2a3f5f"
            },
            "baxis": {
             "endlinecolor": "#2a3f5f",
             "gridcolor": "#C8D4E3",
             "linecolor": "#C8D4E3",
             "minorgridcolor": "#C8D4E3",
             "startlinecolor": "#2a3f5f"
            },
            "type": "carpet"
           }
          ],
          "choropleth": [
           {
            "colorbar": {
             "outlinewidth": 0,
             "ticks": ""
            },
            "type": "choropleth"
           }
          ],
          "contour": [
           {
            "colorbar": {
             "outlinewidth": 0,
             "ticks": ""
            },
            "colorscale": [
             [
              0,
              "#0d0887"
             ],
             [
              0.1111111111111111,
              "#46039f"
             ],
             [
              0.2222222222222222,
              "#7201a8"
             ],
             [
              0.3333333333333333,
              "#9c179e"
             ],
             [
              0.4444444444444444,
              "#bd3786"
             ],
             [
              0.5555555555555556,
              "#d8576b"
             ],
             [
              0.6666666666666666,
              "#ed7953"
             ],
             [
              0.7777777777777778,
              "#fb9f3a"
             ],
             [
              0.8888888888888888,
              "#fdca26"
             ],
             [
              1,
              "#f0f921"
             ]
            ],
            "type": "contour"
           }
          ],
          "contourcarpet": [
           {
            "colorbar": {
             "outlinewidth": 0,
             "ticks": ""
            },
            "type": "contourcarpet"
           }
          ],
          "heatmap": [
           {
            "colorbar": {
             "outlinewidth": 0,
             "ticks": ""
            },
            "colorscale": [
             [
              0,
              "#0d0887"
             ],
             [
              0.1111111111111111,
              "#46039f"
             ],
             [
              0.2222222222222222,
              "#7201a8"
             ],
             [
              0.3333333333333333,
              "#9c179e"
             ],
             [
              0.4444444444444444,
              "#bd3786"
             ],
             [
              0.5555555555555556,
              "#d8576b"
             ],
             [
              0.6666666666666666,
              "#ed7953"
             ],
             [
              0.7777777777777778,
              "#fb9f3a"
             ],
             [
              0.8888888888888888,
              "#fdca26"
             ],
             [
              1,
              "#f0f921"
             ]
            ],
            "type": "heatmap"
           }
          ],
          "histogram": [
           {
            "marker": {
             "pattern": {
              "fillmode": "overlay",
              "size": 10,
              "solidity": 0.2
             }
            },
            "type": "histogram"
           }
          ],
          "histogram2d": [
           {
            "colorbar": {
             "outlinewidth": 0,
             "ticks": ""
            },
            "colorscale": [
             [
              0,
              "#0d0887"
             ],
             [
              0.1111111111111111,
              "#46039f"
             ],
             [
              0.2222222222222222,
              "#7201a8"
             ],
             [
              0.3333333333333333,
              "#9c179e"
             ],
             [
              0.4444444444444444,
              "#bd3786"
             ],
             [
              0.5555555555555556,
              "#d8576b"
             ],
             [
              0.6666666666666666,
              "#ed7953"
             ],
             [
              0.7777777777777778,
              "#fb9f3a"
             ],
             [
              0.8888888888888888,
              "#fdca26"
             ],
             [
              1,
              "#f0f921"
             ]
            ],
            "type": "histogram2d"
           }
          ],
          "histogram2dcontour": [
           {
            "colorbar": {
             "outlinewidth": 0,
             "ticks": ""
            },
            "colorscale": [
             [
              0,
              "#0d0887"
             ],
             [
              0.1111111111111111,
              "#46039f"
             ],
             [
              0.2222222222222222,
              "#7201a8"
             ],
             [
              0.3333333333333333,
              "#9c179e"
             ],
             [
              0.4444444444444444,
              "#bd3786"
             ],
             [
              0.5555555555555556,
              "#d8576b"
             ],
             [
              0.6666666666666666,
              "#ed7953"
             ],
             [
              0.7777777777777778,
              "#fb9f3a"
             ],
             [
              0.8888888888888888,
              "#fdca26"
             ],
             [
              1,
              "#f0f921"
             ]
            ],
            "type": "histogram2dcontour"
           }
          ],
          "mesh3d": [
           {
            "colorbar": {
             "outlinewidth": 0,
             "ticks": ""
            },
            "type": "mesh3d"
           }
          ],
          "parcoords": [
           {
            "line": {
             "colorbar": {
              "outlinewidth": 0,
              "ticks": ""
             }
            },
            "type": "parcoords"
           }
          ],
          "pie": [
           {
            "automargin": true,
            "type": "pie"
           }
          ],
          "scatter": [
           {
            "fillpattern": {
             "fillmode": "overlay",
             "size": 10,
             "solidity": 0.2
            },
            "type": "scatter"
           }
          ],
          "scatter3d": [
           {
            "line": {
             "colorbar": {
              "outlinewidth": 0,
              "ticks": ""
             }
            },
            "marker": {
             "colorbar": {
              "outlinewidth": 0,
              "ticks": ""
             }
            },
            "type": "scatter3d"
           }
          ],
          "scattercarpet": [
           {
            "marker": {
             "colorbar": {
              "outlinewidth": 0,
              "ticks": ""
             }
            },
            "type": "scattercarpet"
           }
          ],
          "scattergeo": [
           {
            "marker": {
             "colorbar": {
              "outlinewidth": 0,
              "ticks": ""
             }
            },
            "type": "scattergeo"
           }
          ],
          "scattergl": [
           {
            "marker": {
             "colorbar": {
              "outlinewidth": 0,
              "ticks": ""
             }
            },
            "type": "scattergl"
           }
          ],
          "scattermap": [
           {
            "marker": {
             "colorbar": {
              "outlinewidth": 0,
              "ticks": ""
             }
            },
            "type": "scattermap"
           }
          ],
          "scattermapbox": [
           {
            "marker": {
             "colorbar": {
              "outlinewidth": 0,
              "ticks": ""
             }
            },
            "type": "scattermapbox"
           }
          ],
          "scatterpolar": [
           {
            "marker": {
             "colorbar": {
              "outlinewidth": 0,
              "ticks": ""
             }
            },
            "type": "scatterpolar"
           }
          ],
          "scatterpolargl": [
           {
            "marker": {
             "colorbar": {
              "outlinewidth": 0,
              "ticks": ""
             }
            },
            "type": "scatterpolargl"
           }
          ],
          "scatterternary": [
           {
            "marker": {
             "colorbar": {
              "outlinewidth": 0,
              "ticks": ""
             }
            },
            "type": "scatterternary"
           }
          ],
          "surface": [
           {
            "colorbar": {
             "outlinewidth": 0,
             "ticks": ""
            },
            "colorscale": [
             [
              0,
              "#0d0887"
             ],
             [
              0.1111111111111111,
              "#46039f"
             ],
             [
              0.2222222222222222,
              "#7201a8"
             ],
             [
              0.3333333333333333,
              "#9c179e"
             ],
             [
              0.4444444444444444,
              "#bd3786"
             ],
             [
              0.5555555555555556,
              "#d8576b"
             ],
             [
              0.6666666666666666,
              "#ed7953"
             ],
             [
              0.7777777777777778,
              "#fb9f3a"
             ],
             [
              0.8888888888888888,
              "#fdca26"
             ],
             [
              1,
              "#f0f921"
             ]
            ],
            "type": "surface"
           }
          ],
          "table": [
           {
            "cells": {
             "fill": {
              "color": "#EBF0F8"
             },
             "line": {
              "color": "white"
             }
            },
            "header": {
             "fill": {
              "color": "#C8D4E3"
             },
             "line": {
              "color": "white"
             }
            },
            "type": "table"
           }
          ]
         },
         "layout": {
          "annotationdefaults": {
           "arrowcolor": "#2a3f5f",
           "arrowhead": 0,
           "arrowwidth": 1
          },
          "autotypenumbers": "strict",
          "coloraxis": {
           "colorbar": {
            "outlinewidth": 0,
            "ticks": ""
           }
          },
          "colorscale": {
           "diverging": [
            [
             0,
             "#8e0152"
            ],
            [
             0.1,
             "#c51b7d"
            ],
            [
             0.2,
             "#de77ae"
            ],
            [
             0.3,
             "#f1b6da"
            ],
            [
             0.4,
             "#fde0ef"
            ],
            [
             0.5,
             "#f7f7f7"
            ],
            [
             0.6,
             "#e6f5d0"
            ],
            [
             0.7,
             "#b8e186"
            ],
            [
             0.8,
             "#7fbc41"
            ],
            [
             0.9,
             "#4d9221"
            ],
            [
             1,
             "#276419"
            ]
           ],
           "sequential": [
            [
             0,
             "#0d0887"
            ],
            [
             0.1111111111111111,
             "#46039f"
            ],
            [
             0.2222222222222222,
             "#7201a8"
            ],
            [
             0.3333333333333333,
             "#9c179e"
            ],
            [
             0.4444444444444444,
             "#bd3786"
            ],
            [
             0.5555555555555556,
             "#d8576b"
            ],
            [
             0.6666666666666666,
             "#ed7953"
            ],
            [
             0.7777777777777778,
             "#fb9f3a"
            ],
            [
             0.8888888888888888,
             "#fdca26"
            ],
            [
             1,
             "#f0f921"
            ]
           ],
           "sequentialminus": [
            [
             0,
             "#0d0887"
            ],
            [
             0.1111111111111111,
             "#46039f"
            ],
            [
             0.2222222222222222,
             "#7201a8"
            ],
            [
             0.3333333333333333,
             "#9c179e"
            ],
            [
             0.4444444444444444,
             "#bd3786"
            ],
            [
             0.5555555555555556,
             "#d8576b"
            ],
            [
             0.6666666666666666,
             "#ed7953"
            ],
            [
             0.7777777777777778,
             "#fb9f3a"
            ],
            [
             0.8888888888888888,
             "#fdca26"
            ],
            [
             1,
             "#f0f921"
            ]
           ]
          },
          "colorway": [
           "#636efa",
           "#EF553B",
           "#00cc96",
           "#ab63fa",
           "#FFA15A",
           "#19d3f3",
           "#FF6692",
           "#B6E880",
           "#FF97FF",
           "#FECB52"
          ],
          "font": {
           "color": "#2a3f5f"
          },
          "geo": {
           "bgcolor": "white",
           "lakecolor": "white",
           "landcolor": "white",
           "showlakes": true,
           "showland": true,
           "subunitcolor": "#C8D4E3"
          },
          "hoverlabel": {
           "align": "left"
          },
          "hovermode": "closest",
          "mapbox": {
           "style": "light"
          },
          "paper_bgcolor": "white",
          "plot_bgcolor": "white",
          "polar": {
           "angularaxis": {
            "gridcolor": "#EBF0F8",
            "linecolor": "#EBF0F8",
            "ticks": ""
           },
           "bgcolor": "white",
           "radialaxis": {
            "gridcolor": "#EBF0F8",
            "linecolor": "#EBF0F8",
            "ticks": ""
           }
          },
          "scene": {
           "xaxis": {
            "backgroundcolor": "white",
            "gridcolor": "#DFE8F3",
            "gridwidth": 2,
            "linecolor": "#EBF0F8",
            "showbackground": true,
            "ticks": "",
            "zerolinecolor": "#EBF0F8"
           },
           "yaxis": {
            "backgroundcolor": "white",
            "gridcolor": "#DFE8F3",
            "gridwidth": 2,
            "linecolor": "#EBF0F8",
            "showbackground": true,
            "ticks": "",
            "zerolinecolor": "#EBF0F8"
           },
           "zaxis": {
            "backgroundcolor": "white",
            "gridcolor": "#DFE8F3",
            "gridwidth": 2,
            "linecolor": "#EBF0F8",
            "showbackground": true,
            "ticks": "",
            "zerolinecolor": "#EBF0F8"
           }
          },
          "shapedefaults": {
           "line": {
            "color": "#2a3f5f"
           }
          },
          "ternary": {
           "aaxis": {
            "gridcolor": "#DFE8F3",
            "linecolor": "#A2B1C6",
            "ticks": ""
           },
           "baxis": {
            "gridcolor": "#DFE8F3",
            "linecolor": "#A2B1C6",
            "ticks": ""
           },
           "bgcolor": "white",
           "caxis": {
            "gridcolor": "#DFE8F3",
            "linecolor": "#A2B1C6",
            "ticks": ""
           }
          },
          "title": {
           "x": 0.05
          },
          "xaxis": {
           "automargin": true,
           "gridcolor": "#EBF0F8",
           "linecolor": "#EBF0F8",
           "ticks": "",
           "title": {
            "standoff": 15
           },
           "zerolinecolor": "#EBF0F8",
           "zerolinewidth": 2
          },
          "yaxis": {
           "automargin": true,
           "gridcolor": "#EBF0F8",
           "linecolor": "#EBF0F8",
           "ticks": "",
           "title": {
            "standoff": 15
           },
           "zerolinecolor": "#EBF0F8",
           "zerolinewidth": 2
          }
         }
        },
        "title": {
         "text": "Time-Average Growth Rate Histogram",
         "x": 0.5,
         "xanchor": "center"
        },
        "width": 800,
        "xaxis": {
         "range": [
          -5,
          5
         ],
         "title": {
          "text": "Time-Average Growth Rate (%)"
         }
        },
        "yaxis": {
         "title": {
          "text": "Density"
         }
        }
       }
      }
     },
     "metadata": {},
     "output_type": "display_data"
    }
   ],
   "source": [
    "import plotly.graph_objects as go\n",
    "from plotly.subplots import make_subplots\n",
    "from ergodic_insurance.visualization.core import WSJ_COLORS\n",
    "import numpy as np\n",
    "\n",
    "# Print results\n",
    "print(f\"\\nRuin Probabilities by Time Horizon:\")\n",
    "for yr, prob in results.ruin_probability.items():\n",
    "    print(f\"  {yr} years: {prob*100:.2f}%\")\n",
    "\n",
    "print(f\"\\nConvergence achieved: {'Yes' if results.convergence else 'No'}\")\n",
    "\n",
    "# --------------------------------------\n",
    "# Time-Average Growth Rate Histogram (1,1)\n",
    "# --------------------------------------\n",
    "fig = go.Figure()\n",
    "\n",
    "# Growth rates with insurance\n",
    "growth_rates = np.asarray(results.growth_rates, dtype=float)\n",
    "growth_rates = growth_rates[np.isfinite(growth_rates)]\n",
    "\n",
    "# Growth rates without insurance\n",
    "growth_rates_no_ins = np.asarray(results_no_ins.growth_rates, dtype=float)\n",
    "growth_rates_no_ins = growth_rates_no_ins[np.isfinite(growth_rates_no_ins)]\n",
    "\n",
    "growth_pct = growth_rates * 100.0\n",
    "mean_growth = np.nanmean(growth_pct)\n",
    "median_growth = np.nanmedian(growth_pct)\n",
    "p5, p25, p95 = np.nanpercentile(growth_pct, [5, 25, 95])\n",
    "print(f\"Growth Rate Summary With Insurance (%): Mean={mean_growth:.2f}, Median={median_growth:.2f}, 25th={p25:.2f}, 5th={p5:.2f}\")\n",
    "\n",
    "growth_pct_no_ins = growth_rates_no_ins * 100.0\n",
    "mean_growth_no_ins = np.nanmean(growth_pct_no_ins)\n",
    "median_growth_no_ins = np.nanmedian(growth_pct_no_ins)\n",
    "p5_no_ins, p25_no_ins, p95_no_ins = np.nanpercentile(growth_pct_no_ins, [5, 25, 95])\n",
    "print(f\"Growth Rate Summary Without Insurance (%): Mean={mean_growth_no_ins:.2f}, Median={median_growth_no_ins:.2f}, 25th={p25_no_ins:.2f}, 5th={p5_no_ins:.2f}\")\n",
    "\n",
    "# Plot Growth Rate With Insurance\n",
    "# Kernel Density Estimate (Gaussian) instead of histogram\n",
    "xs = np.linspace(growth_pct.min(), growth_pct.max(), 400)\n",
    "n = growth_pct.size\n",
    "std = np.std(growth_pct, ddof=1)\n",
    "if std == 0 or n < 2:\n",
    "    # Fallback: flat line at 0\n",
    "    density = np.zeros_like(xs)\n",
    "else:\n",
    "    bw = 1.06 * std * n ** (-1/5)  # Silverman's rule\n",
    "    inv_norm = 1.0 / (bw * np.sqrt(2 * np.pi))\n",
    "    diffs = (xs[:, None] - growth_pct[None, :]) / bw\n",
    "    density = inv_norm * np.exp(-0.5 * diffs**2).mean(axis=1)\n",
    "\n",
    "fig.add_trace(\n",
    "    go.Scatter(\n",
    "        x=xs,\n",
    "        y=density,\n",
    "        mode='lines',\n",
    "        name='Insurance',\n",
    "        line=dict(color=WSJ_COLORS.get('blue', '#1f77b4'), width=2)\n",
    "    )\n",
    ")\n",
    "\n",
    "# Plot Growth Rate Without Insurance\n",
    "# Kernel Density Estimate (Gaussian) instead of histogram\n",
    "xs_no_ins = np.linspace(growth_pct_no_ins.min(), growth_pct_no_ins.max(), 400)\n",
    "n_no_ins = growth_pct_no_ins.size\n",
    "std_no_ins = np.std(growth_pct_no_ins, ddof=1)\n",
    "if std_no_ins == 0 or n_no_ins < 2:\n",
    "    # Fallback: flat line at 0\n",
    "    density = np.zeros_like(xs_no_ins)\n",
    "else:\n",
    "    bw = 1.06 * std_no_ins * n_no_ins ** (-1/5)  # Silverman's rule\n",
    "    inv_norm_no_ins = 1.0 / (bw * np.sqrt(2 * np.pi))\n",
    "    diffs_no_ins = (xs_no_ins[:, None] - growth_pct_no_ins[None, :]) / bw\n",
    "    density_no_ins = inv_norm_no_ins * np.exp(-0.5 * diffs_no_ins**2).mean(axis=1)\n",
    "\n",
    "# Set x-axis to central 99.5% of both distributions (trim 0.25% each tail)\n",
    "try:\n",
    "    lower_q, upper_q = .5, 99.5\n",
    "    lo_ins, hi_ins = np.nanpercentile(growth_pct, [lower_q, upper_q])\n",
    "    lo_no_ins, hi_no_ins = np.nanpercentile(growth_pct_no_ins, [lower_q, upper_q])\n",
    "    x_min = min(lo_ins, lo_no_ins)\n",
    "    x_max = max(hi_ins, hi_no_ins)\n",
    "    pad = 0.01 * (x_max - x_min) if x_max > x_min else 0.0\n",
    "    fig.update_xaxes(range=[x_min - pad, x_max + pad])\n",
    "except Exception as e:\n",
    "    print(f\"Could not apply 99.5% central x-range: {e}\")\n",
    "\n",
    "# Adjust y-axis label to reflect density\n",
    "fig.update_yaxes(title_text=\"Density\")\n",
    "\n",
    "# Recompute KDEs on clipped range [-10, 5] and update plot\n",
    "lower, upper = -5.0, 5.0\n",
    "# Clear existing traces, shapes, annotations\n",
    "fig.data = ()\n",
    "fig.layout.shapes = ()\n",
    "fig.layout.annotations = ()\n",
    "\n",
    "# Clip datasets\n",
    "ins_clip = growth_pct[(growth_pct >= lower) & (growth_pct <= upper)]\n",
    "no_ins_clip = growth_pct_no_ins[(growth_pct_no_ins >= lower) & (growth_pct_no_ins <= upper)]\n",
    "\n",
    "xs_clip = np.linspace(lower, upper, 400)\n",
    "\n",
    "def kde(arr, xs):\n",
    "    n = arr.size\n",
    "    if n < 2:\n",
    "        return np.zeros_like(xs)\n",
    "    std_ = np.std(arr, ddof=1)\n",
    "    if std_ == 0:\n",
    "        return np.zeros_like(xs)\n",
    "    bw = 1.06 * std_ * n ** (-1/5)\n",
    "    inv = 1.0 / (bw * np.sqrt(2 * np.pi))\n",
    "    diffs = (xs[:, None] - arr[None, :]) / bw\n",
    "    return inv * np.exp(-0.5 * diffs**2).mean(axis=1)\n",
    "\n",
    "dens_ins = kde(ins_clip, xs_clip) if ins_clip.size else np.zeros_like(xs_clip)\n",
    "dens_no  = kde(no_ins_clip, xs_clip) if no_ins_clip.size else np.zeros_like(xs_clip)\n",
    "\n",
    "# Add traces\n",
    "fig.add_trace(go.Scatter(\n",
    "    x=xs_clip, y=dens_ins, mode='lines', name='Insurance (clipped)',\n",
    "    line=dict(color=WSJ_COLORS.get('blue', '#1f77b4'), width=2)\n",
    "))\n",
    "fig.add_trace(go.Scatter(\n",
    "    x=xs_clip, y=dens_no, mode='lines', name='No Insurance (clipped)',\n",
    "    line=dict(color=WSJ_COLORS.get('orange', '#ff7f0e'), width=2)\n",
    "))\n",
    "\n",
    "# Stats on clipped data\n",
    "if ins_clip.size:\n",
    "    mean_ins = np.nanmean(ins_clip)\n",
    "    p25_ins = np.nanpercentile(ins_clip, 25)\n",
    "    # Add vertical lines for mean and median\n",
    "    fig.add_vline(x=mean_ins, \n",
    "                line_dash='dash', \n",
    "                line_color=WSJ_COLORS.get('blue', '#1f77b4'), \n",
    "                annotation_text='Mean (Ins)', \n",
    "                annotation_position='top right')\n",
    "    fig.add_vline(x=p25_ins, \n",
    "                line_dash='dot', \n",
    "                line_color=WSJ_COLORS.get('red', '#d62728'), \n",
    "                annotation_text='25th pct (Ins)', \n",
    "                annotation_position='top left')\n",
    "if no_ins_clip.size:\n",
    "    mean_no = np.nanmean(no_ins_clip)\n",
    "    p25_no = np.nanpercentile(no_ins_clip, 25)\n",
    "    # Add vertical lines for mean and median\n",
    "    fig.add_vline(x=mean_no, \n",
    "                line_dash='dash', \n",
    "                line_color=WSJ_COLORS.get('orange', '#ff7f0e'), \n",
    "                annotation_text='Mean (No Ins)', \n",
    "                annotation_position='bottom right')\n",
    "    fig.add_vline(x=p25_no, \n",
    "                line_dash='dot', \n",
    "                line_color=WSJ_COLORS.get('red', '#d62728'),\n",
    "                annotation_text='25th pct (No Ins)', \n",
    "                annotation_position='bottom left')\n",
    "\n",
    "\n",
    "# Update layout\n",
    "fig.update_layout(\n",
    "    title={\n",
    "        \"text\": \"Time-Average Growth Rate Histogram\",\n",
    "        \"x\": 0.5,\n",
    "        \"xanchor\": \"center\"\n",
    "    },\n",
    "    template='plotly_white',\n",
    "    showlegend=True,\n",
    "    legend=dict(\n",
    "        orientation='h',\n",
    "        x=0.5,\n",
    "        xanchor='center',\n",
    "        y=-0.2,\n",
    "        yanchor='top'\n",
    "    ),\n",
    "    width=800,\n",
    "    height=500\n",
    ")\n",
    "\n",
    "# Axes titles\n",
    "fig.update_xaxes(title_text=\"Time-Average Growth Rate (%)\",\n",
    "                range=[lower, upper])\n",
    "\n",
    "fig.show()"
   ]
  },
  {
   "cell_type": "code",
   "execution_count": null,
   "id": "10494050",
   "metadata": {},
   "outputs": [],
   "source": []
  },
  {
   "cell_type": "code",
   "execution_count": 26,
   "id": "97bb2095",
   "metadata": {},
   "outputs": [],
   "source": [
    "import plotly.io as pio\n",
    "\n",
    "fig_filename = f\"results\\Cap ({INITIAL_ASSETS/1_000_000:.0f}M) -\\\n",
    " ATR ({ASSET_TURNOVER_RATIO}) -\\\n",
    " EBITA ({EBITA_MARGIN_TARGET}) -\\\n",
    " XS_Kurt (high) -\\\n",
    " Ded ({DEDUCTIBLE/1_000:.0f}K) -\\\n",
    " LR ({LOSS_RATIO}) -\\\n",
    " {NUM_SIMULATIONS/1_000:.0f}K Sims -\\\n",
    " {SIM_YEARS} Yrs - Growth Rate.png\"\n",
    "\n",
    "pio.write_image(fig, fig_filename, scale=2) # Adjust scale as needed"
   ]
  },
  {
   "cell_type": "code",
   "execution_count": 27,
   "id": "2bcb52ae",
   "metadata": {},
   "outputs": [
    {
     "name": "stdout",
     "output_type": "stream",
     "text": [
      "\n",
      "Ruin Probabilities by Time Horizon:\n",
      "  5 years: 0.00%\n",
      "  10 years: 0.00%\n",
      "  15 years: 0.00%\n",
      "  20 years: 0.00%\n",
      "  25 years: 0.00%\n",
      "  30 years: 0.00%\n",
      "  35 years: 0.00%\n",
      "  40 years: 0.00%\n",
      "  45 years: 0.00%\n",
      "  50 years: 0.00%\n",
      "\n",
      "Convergence achieved: No\n"
     ]
    },
    {
     "data": {
      "application/vnd.plotly.v1+json": {
       "config": {
        "plotlyServerURL": "https://plot.ly"
       },
       "data": [
        {
         "line": {
          "color": "#0080C7",
          "width": 2
         },
         "marker": {
          "size": 8
         },
         "mode": "lines+markers",
         "name": "Insurance",
         "type": "scatter",
         "x": [
          "5",
          "10",
          "15",
          "20",
          "25",
          "30",
          "35",
          "40",
          "45",
          "50"
         ],
         "y": [
          0,
          0,
          0,
          0,
          0,
          0,
          0,
          0,
          0,
          0
         ]
        },
        {
         "line": {
          "color": "#FF9800",
          "width": 2
         },
         "marker": {
          "size": 8
         },
         "mode": "lines+markers",
         "name": "No Insurance",
         "type": "scatter",
         "x": [
          "5",
          "10",
          "15",
          "20",
          "25",
          "30",
          "35",
          "40",
          "45",
          "50"
         ],
         "y": [
          1,
          2,
          2,
          3,
          3,
          4,
          6,
          6,
          6,
          6
         ]
        }
       ],
       "layout": {
        "height": 500,
        "legend": {
         "orientation": "h",
         "x": 0.5,
         "xanchor": "center",
         "y": -0.2,
         "yanchor": "top"
        },
        "showlegend": true,
        "template": {
         "data": {
          "bar": [
           {
            "error_x": {
             "color": "#2a3f5f"
            },
            "error_y": {
             "color": "#2a3f5f"
            },
            "marker": {
             "line": {
              "color": "white",
              "width": 0.5
             },
             "pattern": {
              "fillmode": "overlay",
              "size": 10,
              "solidity": 0.2
             }
            },
            "type": "bar"
           }
          ],
          "barpolar": [
           {
            "marker": {
             "line": {
              "color": "white",
              "width": 0.5
             },
             "pattern": {
              "fillmode": "overlay",
              "size": 10,
              "solidity": 0.2
             }
            },
            "type": "barpolar"
           }
          ],
          "carpet": [
           {
            "aaxis": {
             "endlinecolor": "#2a3f5f",
             "gridcolor": "#C8D4E3",
             "linecolor": "#C8D4E3",
             "minorgridcolor": "#C8D4E3",
             "startlinecolor": "#2a3f5f"
            },
            "baxis": {
             "endlinecolor": "#2a3f5f",
             "gridcolor": "#C8D4E3",
             "linecolor": "#C8D4E3",
             "minorgridcolor": "#C8D4E3",
             "startlinecolor": "#2a3f5f"
            },
            "type": "carpet"
           }
          ],
          "choropleth": [
           {
            "colorbar": {
             "outlinewidth": 0,
             "ticks": ""
            },
            "type": "choropleth"
           }
          ],
          "contour": [
           {
            "colorbar": {
             "outlinewidth": 0,
             "ticks": ""
            },
            "colorscale": [
             [
              0,
              "#0d0887"
             ],
             [
              0.1111111111111111,
              "#46039f"
             ],
             [
              0.2222222222222222,
              "#7201a8"
             ],
             [
              0.3333333333333333,
              "#9c179e"
             ],
             [
              0.4444444444444444,
              "#bd3786"
             ],
             [
              0.5555555555555556,
              "#d8576b"
             ],
             [
              0.6666666666666666,
              "#ed7953"
             ],
             [
              0.7777777777777778,
              "#fb9f3a"
             ],
             [
              0.8888888888888888,
              "#fdca26"
             ],
             [
              1,
              "#f0f921"
             ]
            ],
            "type": "contour"
           }
          ],
          "contourcarpet": [
           {
            "colorbar": {
             "outlinewidth": 0,
             "ticks": ""
            },
            "type": "contourcarpet"
           }
          ],
          "heatmap": [
           {
            "colorbar": {
             "outlinewidth": 0,
             "ticks": ""
            },
            "colorscale": [
             [
              0,
              "#0d0887"
             ],
             [
              0.1111111111111111,
              "#46039f"
             ],
             [
              0.2222222222222222,
              "#7201a8"
             ],
             [
              0.3333333333333333,
              "#9c179e"
             ],
             [
              0.4444444444444444,
              "#bd3786"
             ],
             [
              0.5555555555555556,
              "#d8576b"
             ],
             [
              0.6666666666666666,
              "#ed7953"
             ],
             [
              0.7777777777777778,
              "#fb9f3a"
             ],
             [
              0.8888888888888888,
              "#fdca26"
             ],
             [
              1,
              "#f0f921"
             ]
            ],
            "type": "heatmap"
           }
          ],
          "histogram": [
           {
            "marker": {
             "pattern": {
              "fillmode": "overlay",
              "size": 10,
              "solidity": 0.2
             }
            },
            "type": "histogram"
           }
          ],
          "histogram2d": [
           {
            "colorbar": {
             "outlinewidth": 0,
             "ticks": ""
            },
            "colorscale": [
             [
              0,
              "#0d0887"
             ],
             [
              0.1111111111111111,
              "#46039f"
             ],
             [
              0.2222222222222222,
              "#7201a8"
             ],
             [
              0.3333333333333333,
              "#9c179e"
             ],
             [
              0.4444444444444444,
              "#bd3786"
             ],
             [
              0.5555555555555556,
              "#d8576b"
             ],
             [
              0.6666666666666666,
              "#ed7953"
             ],
             [
              0.7777777777777778,
              "#fb9f3a"
             ],
             [
              0.8888888888888888,
              "#fdca26"
             ],
             [
              1,
              "#f0f921"
             ]
            ],
            "type": "histogram2d"
           }
          ],
          "histogram2dcontour": [
           {
            "colorbar": {
             "outlinewidth": 0,
             "ticks": ""
            },
            "colorscale": [
             [
              0,
              "#0d0887"
             ],
             [
              0.1111111111111111,
              "#46039f"
             ],
             [
              0.2222222222222222,
              "#7201a8"
             ],
             [
              0.3333333333333333,
              "#9c179e"
             ],
             [
              0.4444444444444444,
              "#bd3786"
             ],
             [
              0.5555555555555556,
              "#d8576b"
             ],
             [
              0.6666666666666666,
              "#ed7953"
             ],
             [
              0.7777777777777778,
              "#fb9f3a"
             ],
             [
              0.8888888888888888,
              "#fdca26"
             ],
             [
              1,
              "#f0f921"
             ]
            ],
            "type": "histogram2dcontour"
           }
          ],
          "mesh3d": [
           {
            "colorbar": {
             "outlinewidth": 0,
             "ticks": ""
            },
            "type": "mesh3d"
           }
          ],
          "parcoords": [
           {
            "line": {
             "colorbar": {
              "outlinewidth": 0,
              "ticks": ""
             }
            },
            "type": "parcoords"
           }
          ],
          "pie": [
           {
            "automargin": true,
            "type": "pie"
           }
          ],
          "scatter": [
           {
            "fillpattern": {
             "fillmode": "overlay",
             "size": 10,
             "solidity": 0.2
            },
            "type": "scatter"
           }
          ],
          "scatter3d": [
           {
            "line": {
             "colorbar": {
              "outlinewidth": 0,
              "ticks": ""
             }
            },
            "marker": {
             "colorbar": {
              "outlinewidth": 0,
              "ticks": ""
             }
            },
            "type": "scatter3d"
           }
          ],
          "scattercarpet": [
           {
            "marker": {
             "colorbar": {
              "outlinewidth": 0,
              "ticks": ""
             }
            },
            "type": "scattercarpet"
           }
          ],
          "scattergeo": [
           {
            "marker": {
             "colorbar": {
              "outlinewidth": 0,
              "ticks": ""
             }
            },
            "type": "scattergeo"
           }
          ],
          "scattergl": [
           {
            "marker": {
             "colorbar": {
              "outlinewidth": 0,
              "ticks": ""
             }
            },
            "type": "scattergl"
           }
          ],
          "scattermap": [
           {
            "marker": {
             "colorbar": {
              "outlinewidth": 0,
              "ticks": ""
             }
            },
            "type": "scattermap"
           }
          ],
          "scattermapbox": [
           {
            "marker": {
             "colorbar": {
              "outlinewidth": 0,
              "ticks": ""
             }
            },
            "type": "scattermapbox"
           }
          ],
          "scatterpolar": [
           {
            "marker": {
             "colorbar": {
              "outlinewidth": 0,
              "ticks": ""
             }
            },
            "type": "scatterpolar"
           }
          ],
          "scatterpolargl": [
           {
            "marker": {
             "colorbar": {
              "outlinewidth": 0,
              "ticks": ""
             }
            },
            "type": "scatterpolargl"
           }
          ],
          "scatterternary": [
           {
            "marker": {
             "colorbar": {
              "outlinewidth": 0,
              "ticks": ""
             }
            },
            "type": "scatterternary"
           }
          ],
          "surface": [
           {
            "colorbar": {
             "outlinewidth": 0,
             "ticks": ""
            },
            "colorscale": [
             [
              0,
              "#0d0887"
             ],
             [
              0.1111111111111111,
              "#46039f"
             ],
             [
              0.2222222222222222,
              "#7201a8"
             ],
             [
              0.3333333333333333,
              "#9c179e"
             ],
             [
              0.4444444444444444,
              "#bd3786"
             ],
             [
              0.5555555555555556,
              "#d8576b"
             ],
             [
              0.6666666666666666,
              "#ed7953"
             ],
             [
              0.7777777777777778,
              "#fb9f3a"
             ],
             [
              0.8888888888888888,
              "#fdca26"
             ],
             [
              1,
              "#f0f921"
             ]
            ],
            "type": "surface"
           }
          ],
          "table": [
           {
            "cells": {
             "fill": {
              "color": "#EBF0F8"
             },
             "line": {
              "color": "white"
             }
            },
            "header": {
             "fill": {
              "color": "#C8D4E3"
             },
             "line": {
              "color": "white"
             }
            },
            "type": "table"
           }
          ]
         },
         "layout": {
          "annotationdefaults": {
           "arrowcolor": "#2a3f5f",
           "arrowhead": 0,
           "arrowwidth": 1
          },
          "autotypenumbers": "strict",
          "coloraxis": {
           "colorbar": {
            "outlinewidth": 0,
            "ticks": ""
           }
          },
          "colorscale": {
           "diverging": [
            [
             0,
             "#8e0152"
            ],
            [
             0.1,
             "#c51b7d"
            ],
            [
             0.2,
             "#de77ae"
            ],
            [
             0.3,
             "#f1b6da"
            ],
            [
             0.4,
             "#fde0ef"
            ],
            [
             0.5,
             "#f7f7f7"
            ],
            [
             0.6,
             "#e6f5d0"
            ],
            [
             0.7,
             "#b8e186"
            ],
            [
             0.8,
             "#7fbc41"
            ],
            [
             0.9,
             "#4d9221"
            ],
            [
             1,
             "#276419"
            ]
           ],
           "sequential": [
            [
             0,
             "#0d0887"
            ],
            [
             0.1111111111111111,
             "#46039f"
            ],
            [
             0.2222222222222222,
             "#7201a8"
            ],
            [
             0.3333333333333333,
             "#9c179e"
            ],
            [
             0.4444444444444444,
             "#bd3786"
            ],
            [
             0.5555555555555556,
             "#d8576b"
            ],
            [
             0.6666666666666666,
             "#ed7953"
            ],
            [
             0.7777777777777778,
             "#fb9f3a"
            ],
            [
             0.8888888888888888,
             "#fdca26"
            ],
            [
             1,
             "#f0f921"
            ]
           ],
           "sequentialminus": [
            [
             0,
             "#0d0887"
            ],
            [
             0.1111111111111111,
             "#46039f"
            ],
            [
             0.2222222222222222,
             "#7201a8"
            ],
            [
             0.3333333333333333,
             "#9c179e"
            ],
            [
             0.4444444444444444,
             "#bd3786"
            ],
            [
             0.5555555555555556,
             "#d8576b"
            ],
            [
             0.6666666666666666,
             "#ed7953"
            ],
            [
             0.7777777777777778,
             "#fb9f3a"
            ],
            [
             0.8888888888888888,
             "#fdca26"
            ],
            [
             1,
             "#f0f921"
            ]
           ]
          },
          "colorway": [
           "#636efa",
           "#EF553B",
           "#00cc96",
           "#ab63fa",
           "#FFA15A",
           "#19d3f3",
           "#FF6692",
           "#B6E880",
           "#FF97FF",
           "#FECB52"
          ],
          "font": {
           "color": "#2a3f5f"
          },
          "geo": {
           "bgcolor": "white",
           "lakecolor": "white",
           "landcolor": "white",
           "showlakes": true,
           "showland": true,
           "subunitcolor": "#C8D4E3"
          },
          "hoverlabel": {
           "align": "left"
          },
          "hovermode": "closest",
          "mapbox": {
           "style": "light"
          },
          "paper_bgcolor": "white",
          "plot_bgcolor": "white",
          "polar": {
           "angularaxis": {
            "gridcolor": "#EBF0F8",
            "linecolor": "#EBF0F8",
            "ticks": ""
           },
           "bgcolor": "white",
           "radialaxis": {
            "gridcolor": "#EBF0F8",
            "linecolor": "#EBF0F8",
            "ticks": ""
           }
          },
          "scene": {
           "xaxis": {
            "backgroundcolor": "white",
            "gridcolor": "#DFE8F3",
            "gridwidth": 2,
            "linecolor": "#EBF0F8",
            "showbackground": true,
            "ticks": "",
            "zerolinecolor": "#EBF0F8"
           },
           "yaxis": {
            "backgroundcolor": "white",
            "gridcolor": "#DFE8F3",
            "gridwidth": 2,
            "linecolor": "#EBF0F8",
            "showbackground": true,
            "ticks": "",
            "zerolinecolor": "#EBF0F8"
           },
           "zaxis": {
            "backgroundcolor": "white",
            "gridcolor": "#DFE8F3",
            "gridwidth": 2,
            "linecolor": "#EBF0F8",
            "showbackground": true,
            "ticks": "",
            "zerolinecolor": "#EBF0F8"
           }
          },
          "shapedefaults": {
           "line": {
            "color": "#2a3f5f"
           }
          },
          "ternary": {
           "aaxis": {
            "gridcolor": "#DFE8F3",
            "linecolor": "#A2B1C6",
            "ticks": ""
           },
           "baxis": {
            "gridcolor": "#DFE8F3",
            "linecolor": "#A2B1C6",
            "ticks": ""
           },
           "bgcolor": "white",
           "caxis": {
            "gridcolor": "#DFE8F3",
            "linecolor": "#A2B1C6",
            "ticks": ""
           }
          },
          "title": {
           "x": 0.05
          },
          "xaxis": {
           "automargin": true,
           "gridcolor": "#EBF0F8",
           "linecolor": "#EBF0F8",
           "ticks": "",
           "title": {
            "standoff": 15
           },
           "zerolinecolor": "#EBF0F8",
           "zerolinewidth": 2
          },
          "yaxis": {
           "automargin": true,
           "gridcolor": "#EBF0F8",
           "linecolor": "#EBF0F8",
           "ticks": "",
           "title": {
            "standoff": 15
           },
           "zerolinecolor": "#EBF0F8",
           "zerolinewidth": 2
          }
         }
        },
        "title": {
         "text": "Ruin Probability by Time Horizon",
         "x": 0.5,
         "xanchor": "center"
        },
        "width": 800,
        "xaxis": {
         "title": {
          "text": "Time Horizon (years)"
         }
        },
        "yaxis": {
         "title": {
          "text": "Ruin Probability (%)"
         }
        }
       }
      }
     },
     "metadata": {},
     "output_type": "display_data"
    }
   ],
   "source": [
    "import plotly.graph_objects as go\n",
    "from plotly.subplots import make_subplots\n",
    "from ergodic_insurance.visualization.core import WSJ_COLORS\n",
    "import numpy as np\n",
    "\n",
    "# Print results\n",
    "print(f\"\\nRuin Probabilities by Time Horizon:\")\n",
    "for yr, prob in results.ruin_probability.items():\n",
    "    print(f\"  {yr} years: {prob*100:.2f}%\")\n",
    "\n",
    "print(f\"\\nConvergence achieved: {'Yes' if results.convergence else 'No'}\")\n",
    "\n",
    "# --------------------------------------\n",
    "# Ruin probability comparison (1,2)\n",
    "# --------------------------------------\n",
    "# Single figure without subplots\n",
    "fig = go.Figure()\n",
    "fig.add_trace(\n",
    "    go.Scatter(\n",
    "        x=list(results.ruin_probability.keys()),\n",
    "        y=[prob * 100 for prob in results.ruin_probability.values()],\n",
    "        mode='lines+markers',\n",
    "        name='Insurance',\n",
    "        line=dict(width=2, color=WSJ_COLORS.get('blue', '#1f77b4')),\n",
    "        marker=dict(size=8)\n",
    "    )\n",
    ")\n",
    "fig.add_trace(\n",
    "    go.Scatter(\n",
    "        x=list(results_no_ins.ruin_probability.keys()),\n",
    "        y=[prob * 100 for prob in results_no_ins.ruin_probability.values()],\n",
    "        mode='lines+markers',\n",
    "        name='No Insurance',\n",
    "        line=dict(width=2, color=WSJ_COLORS.get('orange', '#ff7f0e')),\n",
    "        marker=dict(size=8)\n",
    "    )\n",
    ")\n",
    "\n",
    "# Update layout\n",
    "fig.update_layout(\n",
    "    title={\n",
    "        \"text\": \"Ruin Probability by Time Horizon\",\n",
    "        \"x\": 0.5,\n",
    "        \"xanchor\": \"center\"\n",
    "    },\n",
    "    template='plotly_white',\n",
    "    showlegend=True,\n",
    "    legend=dict(\n",
    "        orientation='h',\n",
    "        x=0.5,\n",
    "        xanchor='center',\n",
    "        y=-0.2,\n",
    "        yanchor='top'\n",
    "    ),\n",
    "    width=800,\n",
    "    height=500\n",
    ")\n",
    "\n",
    "# Axes titles\n",
    "fig.update_xaxes(title_text=\"Time Horizon (years)\")\n",
    "fig.update_yaxes(title_text=\"Ruin Probability (%)\")\n",
    "\n",
    "fig.show()"
   ]
  },
  {
   "cell_type": "code",
   "execution_count": 28,
   "id": "6957ede5",
   "metadata": {},
   "outputs": [],
   "source": [
    "fig_filename = f\"results\\Cap ({INITIAL_ASSETS/1_000_000:.0f}M) -\\\n",
    " ATR ({ASSET_TURNOVER_RATIO}) -\\\n",
    " EBITA ({EBITA_MARGIN_TARGET}) -\\\n",
    " XS_Kurt (high) -\\\n",
    " Ded ({DEDUCTIBLE/1_000:.0f}K) -\\\n",
    " LR ({LOSS_RATIO}) -\\\n",
    " {NUM_SIMULATIONS/1_000:.0f}K Sims -\\\n",
    " {SIM_YEARS} Yrs - RoR.png\"\n",
    "\n",
    "pio.write_image(fig, fig_filename, scale=2) # Adjust scale as needed"
   ]
  },
  {
   "cell_type": "code",
   "execution_count": 29,
   "id": "19ec0acf",
   "metadata": {},
   "outputs": [
    {
     "name": "stdout",
     "output_type": "stream",
     "text": [
      "Final net asset value with insurance: $20,368,222 ± $227,071\n",
      "Final net asset value without insurance: $15,256,792 ± $8,880,840\n"
     ]
    }
   ],
   "source": [
    "print(f'Final net asset value with insurance: ${results.final_assets.mean():,.0f} ± ${results.final_assets.std():,.0f}')\n",
    "print(f'Final net asset value without insurance: ${results_no_ins.final_assets.mean():,.0f} ± ${results_no_ins.final_assets.std():,.0f}')"
   ]
  },
  {
   "cell_type": "code",
   "execution_count": null,
   "id": "1e592860",
   "metadata": {},
   "outputs": [],
   "source": []
  }
 ],
 "metadata": {
  "kernelspec": {
   "display_name": ".venv",
   "language": "python",
   "name": "python3"
  },
  "language_info": {
   "codemirror_mode": {
    "name": "ipython",
    "version": 3
   },
   "file_extension": ".py",
   "mimetype": "text/x-python",
   "name": "python",
   "nbconvert_exporter": "python",
   "pygments_lexer": "ipython3",
   "version": "3.12.10"
  }
 },
 "nbformat": 4,
 "nbformat_minor": 5
}
