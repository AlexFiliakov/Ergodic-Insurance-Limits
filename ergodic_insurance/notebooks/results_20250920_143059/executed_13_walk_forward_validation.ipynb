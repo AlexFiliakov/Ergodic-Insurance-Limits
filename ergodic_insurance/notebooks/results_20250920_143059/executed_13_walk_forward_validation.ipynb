{
 "cells": [
  {
   "cell_type": "markdown",
   "id": "75325ef0",
   "metadata": {
    "tags": [
     "papermill-error-cell-tag"
    ]
   },
   "source": [
    "<span style=\"color:red; font-family:Helvetica Neue, Helvetica, Arial, sans-serif; font-size:2em;\">An Exception was encountered at '<a href=\"#papermill-error-cell\">In [5]</a>'.</span>"
   ]
  },
  {
   "cell_type": "markdown",
   "id": "81d400ba",
   "metadata": {
    "papermill": {
     "duration": 0.007795,
     "end_time": "2025-09-20T18:44:08.231394",
     "exception": false,
     "start_time": "2025-09-20T18:44:08.223599",
     "status": "completed"
    },
    "tags": []
   },
   "source": [
    "# Walk-Forward Validation for Insurance Strategies\n",
    "\n",
    "This notebook demonstrates the walk-forward validation system for testing and comparing different insurance strategies.\n",
    "\n",
    "## Overview\n",
    "\n",
    "Walk-forward validation helps:\n",
    "1. Test strategies across multiple time windows\n",
    "2. Detect overfitting in optimization-based strategies\n",
    "3. Measure strategy consistency and robustness\n",
    "4. Rank strategies based on out-of-sample performance\n",
    "\n",
    "## Setup"
   ]
  },
  {
   "cell_type": "code",
   "execution_count": 1,
   "id": "ee695397",
   "metadata": {
    "execution": {
     "iopub.execute_input": "2025-09-20T18:44:08.255760Z",
     "iopub.status.busy": "2025-09-20T18:44:08.254292Z",
     "iopub.status.idle": "2025-09-20T18:44:12.687453Z",
     "shell.execute_reply": "2025-09-20T18:44:12.686436Z"
    },
    "papermill": {
     "duration": 4.44656,
     "end_time": "2025-09-20T18:44:12.689452",
     "exception": false,
     "start_time": "2025-09-20T18:44:08.242892",
     "status": "completed"
    },
    "tags": []
   },
   "outputs": [
    {
     "name": "stdout",
     "output_type": "stream",
     "text": [
      "Setup complete!\n"
     ]
    }
   ],
   "source": [
    "import sys\n",
    "from pathlib import Path\n",
    "import numpy as np\n",
    "import pandas as pd\n",
    "import matplotlib.pyplot as plt\n",
    "import seaborn as sns\n",
    "import warnings\n",
    "warnings.filterwarnings('ignore')\n",
    "\n",
    "# Add parent directory to path\n",
    "parent_dir = Path.cwd().parent.parent\n",
    "if str(parent_dir) not in sys.path:\n",
    "    sys.path.insert(0, str(parent_dir))\n",
    "\n",
    "# Import our modules\n",
    "from ergodic_insurance.config import Config\n",
    "from ergodic_insurance.manufacturer import WidgetManufacturer\n",
    "from ergodic_insurance.strategy_backtester import (\n",
    "    NoInsuranceStrategy,\n",
    "    ConservativeFixedStrategy,\n",
    "    AggressiveFixedStrategy,\n",
    "    OptimizedStaticStrategy,\n",
    "    AdaptiveStrategy,\n",
    "    StrategyBacktester\n",
    ")\n",
    "from ergodic_insurance.validation_metrics import (\n",
    "    MetricCalculator,\n",
    "    PerformanceTargets\n",
    ")\n",
    "from ergodic_insurance.walk_forward_validator import WalkForwardValidator\n",
    "\n",
    "# Set style\n",
    "sns.set_style('whitegrid')\n",
    "plt.rcParams['figure.figsize'] = (12, 6)\n",
    "\n",
    "print(\"Setup complete!\")"
   ]
  },
  {
   "cell_type": "markdown",
   "id": "f36e258f",
   "metadata": {
    "papermill": {
     "duration": 0.008631,
     "end_time": "2025-09-20T18:44:12.705134",
     "exception": false,
     "start_time": "2025-09-20T18:44:12.696503",
     "status": "completed"
    },
    "tags": []
   },
   "source": [
    "## 1. Define Insurance Strategies\n",
    "\n",
    "We'll test five different strategies with varying risk profiles:"
   ]
  },
  {
   "cell_type": "code",
   "execution_count": 2,
   "id": "9a76e92e",
   "metadata": {
    "execution": {
     "iopub.execute_input": "2025-09-20T18:44:12.727411Z",
     "iopub.status.busy": "2025-09-20T18:44:12.726202Z",
     "iopub.status.idle": "2025-09-20T18:44:12.735237Z",
     "shell.execute_reply": "2025-09-20T18:44:12.734199Z"
    },
    "papermill": {
     "duration": 0.021605,
     "end_time": "2025-09-20T18:44:12.737251",
     "exception": false,
     "start_time": "2025-09-20T18:44:12.715646",
     "status": "completed"
    },
    "tags": []
   },
   "outputs": [
    {
     "name": "stdout",
     "output_type": "stream",
     "text": [
      "- No Insurance: No Insurance strategy\n",
      "- Conservative Fixed: Conservative Fixed strategy\n",
      "- Aggressive Fixed: Aggressive Fixed strategy\n",
      "- Optimized Static: Optimized Static strategy\n",
      "- Adaptive: Adaptive strategy\n"
     ]
    }
   ],
   "source": [
    "# Create strategies to test\n",
    "strategies = [\n",
    "    NoInsuranceStrategy(),\n",
    "    ConservativeFixedStrategy(\n",
    "        primary_limit=5000000,\n",
    "        excess_limit=20000000,\n",
    "        higher_limit=25000000,\n",
    "        deductible=50000\n",
    "    ),\n",
    "    AggressiveFixedStrategy(\n",
    "        primary_limit=2000000,\n",
    "        excess_limit=5000000,\n",
    "        deductible=250000\n",
    "    ),\n",
    "    OptimizedStaticStrategy(\n",
    "        target_roe=0.15,\n",
    "        max_ruin_prob=0.01\n",
    "    ),\n",
    "    AdaptiveStrategy(\n",
    "        base_deductible=100000,\n",
    "        base_primary=3000000,\n",
    "        base_excess=10000000,\n",
    "        adaptation_window=3,\n",
    "        adjustment_factor=0.2\n",
    "    )\n",
    "]\n",
    "\n",
    "# Display strategy descriptions\n",
    "for strategy in strategies:\n",
    "    print(f\"- {strategy.name}: {strategy.get_description()}\")"
   ]
  },
  {
   "cell_type": "markdown",
   "id": "ef357e9a",
   "metadata": {
    "papermill": {
     "duration": 0.008009,
     "end_time": "2025-09-20T18:44:12.753390",
     "exception": false,
     "start_time": "2025-09-20T18:44:12.745381",
     "status": "completed"
    },
    "tags": []
   },
   "source": [
    "## 2. Set Performance Targets (Optional)\n",
    "\n",
    "Define minimum acceptable performance criteria:"
   ]
  },
  {
   "cell_type": "code",
   "execution_count": 3,
   "id": "3743ba32",
   "metadata": {
    "execution": {
     "iopub.execute_input": "2025-09-20T18:44:12.773189Z",
     "iopub.status.busy": "2025-09-20T18:44:12.772676Z",
     "iopub.status.idle": "2025-09-20T18:44:12.784743Z",
     "shell.execute_reply": "2025-09-20T18:44:12.783716Z"
    },
    "papermill": {
     "duration": 0.024548,
     "end_time": "2025-09-20T18:44:12.786736",
     "exception": false,
     "start_time": "2025-09-20T18:44:12.762188",
     "status": "completed"
    },
    "tags": []
   },
   "outputs": [
    {
     "name": "stdout",
     "output_type": "stream",
     "text": [
      "Performance Targets Set:\n",
      "  Min ROE: 10.0%\n",
      "  Max Ruin Probability: 5.0%\n",
      "  Min Sharpe Ratio: 0.80\n",
      "  Max Drawdown: 30.0%\n",
      "  Min Growth Rate: 5.0%\n"
     ]
    }
   ],
   "source": [
    "# Define performance targets\n",
    "performance_targets = PerformanceTargets(\n",
    "    min_roe=0.10,  # Minimum 10% ROE\n",
    "    max_ruin_probability=0.05,  # Maximum 5% ruin probability\n",
    "    min_sharpe_ratio=0.8,  # Minimum Sharpe ratio\n",
    "    max_drawdown=0.30,  # Maximum 30% drawdown\n",
    "    min_growth_rate=0.05  # Minimum 5% growth rate\n",
    ")\n",
    "\n",
    "print(\"Performance Targets Set:\")\n",
    "print(f\"  Min ROE: {performance_targets.min_roe:.1%}\")\n",
    "print(f\"  Max Ruin Probability: {performance_targets.max_ruin_probability:.1%}\")\n",
    "print(f\"  Min Sharpe Ratio: {performance_targets.min_sharpe_ratio:.2f}\")\n",
    "print(f\"  Max Drawdown: {performance_targets.max_drawdown:.1%}\")\n",
    "print(f\"  Min Growth Rate: {performance_targets.min_growth_rate:.1%}\")"
   ]
  },
  {
   "cell_type": "markdown",
   "id": "91b3a11d",
   "metadata": {
    "papermill": {
     "duration": 0.007422,
     "end_time": "2025-09-20T18:44:12.800573",
     "exception": false,
     "start_time": "2025-09-20T18:44:12.793151",
     "status": "completed"
    },
    "tags": []
   },
   "source": [
    "## 3. Configure Walk-Forward Validation\n",
    "\n",
    "Set up the validation with 3-year rolling windows:"
   ]
  },
  {
   "cell_type": "code",
   "execution_count": 4,
   "id": "fa0244ba",
   "metadata": {
    "execution": {
     "iopub.execute_input": "2025-09-20T18:44:12.823686Z",
     "iopub.status.busy": "2025-09-20T18:44:12.822643Z",
     "iopub.status.idle": "2025-09-20T18:44:12.834609Z",
     "shell.execute_reply": "2025-09-20T18:44:12.833597Z"
    },
    "papermill": {
     "duration": 0.024411,
     "end_time": "2025-09-20T18:44:12.836608",
     "exception": false,
     "start_time": "2025-09-20T18:44:12.812197",
     "status": "completed"
    },
    "tags": []
   },
   "outputs": [
    {
     "name": "stdout",
     "output_type": "stream",
     "text": [
      "Validation Configuration:\n",
      "  Total years: 10\n",
      "  Number of windows: 8\n",
      "\n",
      "First 3 windows:\n",
      "  Window 0: Train[0-2], Test[2-3]\n",
      "  Window 1: Train[1-3], Test[3-4]\n",
      "  Window 2: Train[2-4], Test[4-5]\n"
     ]
    }
   ],
   "source": [
    "# Create validator with 3-year windows\n",
    "validator = WalkForwardValidator(\n",
    "    window_size=3,  # 3-year windows\n",
    "    step_size=1,    # 1-year step between windows\n",
    "    test_ratio=0.3, # 30% of window for testing (approximately 1 year)\n",
    "    performance_targets=performance_targets\n",
    ")\n",
    "\n",
    "# Show window configuration\n",
    "total_years = 10\n",
    "windows = validator.generate_windows(total_years)\n",
    "\n",
    "print(f\"Validation Configuration:\")\n",
    "print(f\"  Total years: {total_years}\")\n",
    "print(f\"  Number of windows: {len(windows)}\")\n",
    "print(f\"\\nFirst 3 windows:\")\n",
    "for window in windows[:3]:\n",
    "    print(f\"  {window}\")"
   ]
  },
  {
   "cell_type": "markdown",
   "id": "9f2c94a0",
   "metadata": {
    "papermill": {
     "duration": 0.009076,
     "end_time": "2025-09-20T18:44:12.856857",
     "exception": false,
     "start_time": "2025-09-20T18:44:12.847781",
     "status": "completed"
    },
    "tags": []
   },
   "source": [
    "## 4. Run Walk-Forward Validation\n",
    "\n",
    "This will test each strategy across all windows (may take a few minutes):"
   ]
  },
  {
   "cell_type": "markdown",
   "id": "ad2f7fe4",
   "metadata": {
    "tags": [
     "papermill-error-cell-tag"
    ]
   },
   "source": [
    "<span id=\"papermill-error-cell\" style=\"color:red; font-family:Helvetica Neue, Helvetica, Arial, sans-serif; font-size:2em;\">Execution using papermill encountered an exception here and stopped:</span>"
   ]
  },
  {
   "cell_type": "code",
   "execution_count": 5,
   "id": "00c349ef",
   "metadata": {
    "execution": {
     "iopub.execute_input": "2025-09-20T18:44:12.873630Z",
     "iopub.status.busy": "2025-09-20T18:44:12.873630Z",
     "iopub.status.idle": "2025-09-20T18:44:34.635372Z",
     "shell.execute_reply": "2025-09-20T18:44:34.632731Z"
    },
    "papermill": {
     "duration": 21.774246,
     "end_time": "2025-09-20T18:44:34.637535",
     "exception": true,
     "start_time": "2025-09-20T18:44:12.863289",
     "status": "failed"
    },
    "tags": []
   },
   "outputs": [
    {
     "name": "stdout",
     "output_type": "stream",
     "text": [
      "Running walk-forward validation...\n",
      "(This may take a few minutes)\n",
      "\n"
     ]
    },
    {
     "name": "stderr",
     "output_type": "stream",
     "text": [
      "\r",
      "Processing chunks:   0%|          | 0/1 [00:00<?, ?it/s]"
     ]
    },
    {
     "name": "stderr",
     "output_type": "stream",
     "text": [
      "\r",
      "Processing chunks: 100%|██████████| 1/1 [00:02<00:00,  2.21s/it]"
     ]
    },
    {
     "name": "stderr",
     "output_type": "stream",
     "text": [
      "\r",
      "Processing chunks: 100%|██████████| 1/1 [00:02<00:00,  2.21s/it]"
     ]
    },
    {
     "name": "stderr",
     "output_type": "stream",
     "text": [
      "\n"
     ]
    },
    {
     "name": "stderr",
     "output_type": "stream",
     "text": [
      "\r",
      "Processing chunks:   0%|          | 0/1 [00:00<?, ?it/s]"
     ]
    },
    {
     "name": "stderr",
     "output_type": "stream",
     "text": [
      "\r",
      "Processing chunks: 100%|██████████| 1/1 [00:05<00:00,  5.04s/it]"
     ]
    },
    {
     "name": "stderr",
     "output_type": "stream",
     "text": [
      "\r",
      "Processing chunks: 100%|██████████| 1/1 [00:05<00:00,  5.04s/it]"
     ]
    },
    {
     "name": "stderr",
     "output_type": "stream",
     "text": [
      "\n"
     ]
    },
    {
     "ename": "IndexError",
     "evalue": "index -1 is out of bounds for axis 0 with size 0",
     "output_type": "error",
     "traceback": [
      "\u001b[31m---------------------------------------------------------------------------\u001b[39m",
      "\u001b[31mIndexError\u001b[39m                                Traceback (most recent call last)",
      "\u001b[36mCell\u001b[39m\u001b[36m \u001b[39m\u001b[32mIn[5]\u001b[39m\u001b[32m, line 20\u001b[39m\n\u001b[32m     17\u001b[39m \u001b[38;5;28mprint\u001b[39m(\u001b[33m\"\u001b[39m\u001b[33mRunning walk-forward validation...\u001b[39m\u001b[33m\"\u001b[39m)\n\u001b[32m     18\u001b[39m \u001b[38;5;28mprint\u001b[39m(\u001b[33m\"\u001b[39m\u001b[33m(This may take a few minutes)\u001b[39m\u001b[38;5;130;01m\\n\u001b[39;00m\u001b[33m\"\u001b[39m)\n\u001b[32m---> \u001b[39m\u001b[32m20\u001b[39m validation_result = \u001b[43mvalidator\u001b[49m\u001b[43m.\u001b[49m\u001b[43mvalidate_strategies\u001b[49m\u001b[43m(\u001b[49m\n\u001b[32m     21\u001b[39m \u001b[43m    \u001b[49m\u001b[43mstrategies\u001b[49m\u001b[43m=\u001b[49m\u001b[43mstrategies\u001b[49m\u001b[43m,\u001b[49m\n\u001b[32m     22\u001b[39m \u001b[43m    \u001b[49m\u001b[43mn_years\u001b[49m\u001b[43m=\u001b[49m\u001b[43mtotal_years\u001b[49m\u001b[43m,\u001b[49m\n\u001b[32m     23\u001b[39m \u001b[43m    \u001b[49m\u001b[43mn_simulations\u001b[49m\u001b[43m=\u001b[49m\u001b[32;43m100\u001b[39;49m\u001b[43m,\u001b[49m\u001b[43m  \u001b[49m\u001b[38;5;66;43;03m# Use 1000+ for production\u001b[39;49;00m\n\u001b[32m     24\u001b[39m \u001b[43m    \u001b[49m\u001b[43mmanufacturer\u001b[49m\u001b[43m=\u001b[49m\u001b[43mmanufacturer\u001b[49m\n\u001b[32m     25\u001b[39m \u001b[43m)\u001b[49m\n\u001b[32m     27\u001b[39m \u001b[38;5;28mprint\u001b[39m(\u001b[33mf\u001b[39m\u001b[33m\"\u001b[39m\u001b[38;5;130;01m\\n\u001b[39;00m\u001b[33m✓ Validation complete!\u001b[39m\u001b[33m\"\u001b[39m)\n\u001b[32m     28\u001b[39m \u001b[38;5;28mprint\u001b[39m(\u001b[33mf\u001b[39m\u001b[33m\"\u001b[39m\u001b[33mBest strategy: \u001b[39m\u001b[38;5;132;01m{\u001b[39;00mvalidation_result.best_strategy\u001b[38;5;132;01m}\u001b[39;00m\u001b[33m\"\u001b[39m)\n",
      "\u001b[36mFile \u001b[39m\u001b[32mc:\\Users\\alexf\\OneDrive\\Documents\\Projects\\Ergodic Insurance Limits\\ergodic_insurance\\walk_forward_validator.py:292\u001b[39m, in \u001b[36mWalkForwardValidator.validate_strategies\u001b[39m\u001b[34m(self, strategies, n_years, n_simulations, manufacturer, config)\u001b[39m\n\u001b[32m    290\u001b[39m \u001b[38;5;28;01mfor\u001b[39;00m window \u001b[38;5;129;01min\u001b[39;00m windows:\n\u001b[32m    291\u001b[39m     logger.info(\u001b[33mf\u001b[39m\u001b[33m\"\u001b[39m\u001b[33mProcessing \u001b[39m\u001b[38;5;132;01m{\u001b[39;00mwindow\u001b[38;5;132;01m}\u001b[39;00m\u001b[33m\"\u001b[39m)\n\u001b[32m--> \u001b[39m\u001b[32m292\u001b[39m     window_result = \u001b[38;5;28;43mself\u001b[39;49m\u001b[43m.\u001b[49m\u001b[43m_process_window\u001b[49m\u001b[43m(\u001b[49m\n\u001b[32m    293\u001b[39m \u001b[43m        \u001b[49m\u001b[43mwindow\u001b[49m\u001b[43m=\u001b[49m\u001b[43mwindow\u001b[49m\u001b[43m,\u001b[49m\n\u001b[32m    294\u001b[39m \u001b[43m        \u001b[49m\u001b[43mstrategies\u001b[49m\u001b[43m=\u001b[49m\u001b[43mstrategies\u001b[49m\u001b[43m,\u001b[49m\n\u001b[32m    295\u001b[39m \u001b[43m        \u001b[49m\u001b[43mn_simulations\u001b[49m\u001b[43m=\u001b[49m\u001b[43mn_simulations\u001b[49m\u001b[43m,\u001b[49m\n\u001b[32m    296\u001b[39m \u001b[43m        \u001b[49m\u001b[43mmanufacturer\u001b[49m\u001b[43m=\u001b[49m\u001b[43mmanufacturer\u001b[49m\u001b[43m,\u001b[49m\n\u001b[32m    297\u001b[39m \u001b[43m        \u001b[49m\u001b[43mconfig\u001b[49m\u001b[43m=\u001b[49m\u001b[43mconfig\u001b[49m\u001b[43m,\u001b[49m\n\u001b[32m    298\u001b[39m \u001b[43m    \u001b[49m\u001b[43m)\u001b[49m\n\u001b[32m    299\u001b[39m     window_results.append(window_result)\n\u001b[32m    301\u001b[39m \u001b[38;5;66;03m# Analyze results\u001b[39;00m\n",
      "\u001b[36mFile \u001b[39m\u001b[32mc:\\Users\\alexf\\OneDrive\\Documents\\Projects\\Ergodic Insurance Limits\\ergodic_insurance\\walk_forward_validator.py:366\u001b[39m, in \u001b[36mWalkForwardValidator._process_window\u001b[39m\u001b[34m(self, window, strategies, n_simulations, manufacturer, config)\u001b[39m\n\u001b[32m    363\u001b[39m     window_result.optimization_params[strategy.name] = strategy.optimized_params.copy()\n\u001b[32m    365\u001b[39m \u001b[38;5;66;03m# Run testing period\u001b[39;00m\n\u001b[32m--> \u001b[39m\u001b[32m366\u001b[39m test_result = \u001b[38;5;28;43mself\u001b[39;49m\u001b[43m.\u001b[49m\u001b[43mbacktester\u001b[49m\u001b[43m.\u001b[49m\u001b[43mtest_strategy\u001b[49m\u001b[43m(\u001b[49m\n\u001b[32m    367\u001b[39m \u001b[43m    \u001b[49m\u001b[43mstrategy\u001b[49m\u001b[43m=\u001b[49m\u001b[43mstrategy\u001b[49m\u001b[43m,\u001b[49m\u001b[43m \u001b[49m\u001b[43mmanufacturer\u001b[49m\u001b[43m=\u001b[49m\u001b[43mmanufacturer\u001b[49m\u001b[43m,\u001b[49m\u001b[43m \u001b[49m\u001b[43mconfig\u001b[49m\u001b[43m=\u001b[49m\u001b[43mtest_config\u001b[49m\u001b[43m,\u001b[49m\u001b[43m \u001b[49m\u001b[43muse_cache\u001b[49m\u001b[43m=\u001b[49m\u001b[38;5;28;43;01mFalse\u001b[39;49;00m\n\u001b[32m    368\u001b[39m \u001b[43m\u001b[49m\u001b[43m)\u001b[49m\n\u001b[32m    370\u001b[39m \u001b[38;5;66;03m# Create performance record\u001b[39;00m\n\u001b[32m    371\u001b[39m performance = StrategyPerformance(\n\u001b[32m    372\u001b[39m     strategy_name=strategy.name,\n\u001b[32m    373\u001b[39m     in_sample_metrics=train_result.metrics,\n\u001b[32m    374\u001b[39m     out_sample_metrics=test_result.metrics,\n\u001b[32m    375\u001b[39m )\n",
      "\u001b[36mFile \u001b[39m\u001b[32mc:\\Users\\alexf\\OneDrive\\Documents\\Projects\\Ergodic Insurance Limits\\ergodic_insurance\\strategy_backtester.py:671\u001b[39m, in \u001b[36mStrategyBacktester.test_strategy\u001b[39m\u001b[34m(self, strategy, manufacturer, config, use_cache)\u001b[39m\n\u001b[32m    668\u001b[39m execution_time = time.time() - start_time\n\u001b[32m    670\u001b[39m \u001b[38;5;66;03m# Calculate metrics - handle Monte Carlo results\u001b[39;00m\n\u001b[32m--> \u001b[39m\u001b[32m671\u001b[39m metrics = \u001b[38;5;28;43mself\u001b[39;49m\u001b[43m.\u001b[49m\u001b[43m_calculate_metrics_mc\u001b[49m\u001b[43m(\u001b[49m\u001b[43msimulation_results\u001b[49m\u001b[43m,\u001b[49m\u001b[43m \u001b[49m\u001b[43mconfig\u001b[49m\u001b[43m.\u001b[49m\u001b[43mn_years\u001b[49m\u001b[43m)\u001b[49m\n\u001b[32m    673\u001b[39m \u001b[38;5;66;03m# Create result\u001b[39;00m\n\u001b[32m    674\u001b[39m result = BacktestResult(\n\u001b[32m    675\u001b[39m     strategy_name=strategy.name,\n\u001b[32m    676\u001b[39m     simulation_results=simulation_results,\n\u001b[32m   (...)\u001b[39m\u001b[32m    679\u001b[39m     config=config,\n\u001b[32m    680\u001b[39m )\n",
      "\u001b[36mFile \u001b[39m\u001b[32mc:\\Users\\alexf\\OneDrive\\Documents\\Projects\\Ergodic Insurance Limits\\ergodic_insurance\\strategy_backtester.py:741\u001b[39m, in \u001b[36mStrategyBacktester._calculate_metrics_mc\u001b[39m\u001b[34m(self, simulation_results, n_years)\u001b[39m\n\u001b[32m    738\u001b[39m final_assets = simulation_results.final_assets\n\u001b[32m    740\u001b[39m \u001b[38;5;66;03m# Calculate metrics\u001b[39;00m\n\u001b[32m--> \u001b[39m\u001b[32m741\u001b[39m metrics = \u001b[38;5;28;43mself\u001b[39;49m\u001b[43m.\u001b[49m\u001b[43mmetric_calculator\u001b[49m\u001b[43m.\u001b[49m\u001b[43mcalculate_metrics\u001b[49m\u001b[43m(\u001b[49m\n\u001b[32m    742\u001b[39m \u001b[43m    \u001b[49m\u001b[43mreturns\u001b[49m\u001b[43m=\u001b[49m\u001b[43mreturns\u001b[49m\u001b[43m,\u001b[49m\n\u001b[32m    743\u001b[39m \u001b[43m    \u001b[49m\u001b[43mfinal_assets\u001b[49m\u001b[43m=\u001b[49m\u001b[43mfinal_assets\u001b[49m\u001b[43m,\u001b[49m\n\u001b[32m    744\u001b[39m \u001b[43m    \u001b[49m\u001b[43minitial_assets\u001b[49m\u001b[43m=\u001b[49m\u001b[32;43m10000000\u001b[39;49m\u001b[43m,\u001b[49m\u001b[43m  \u001b[49m\u001b[38;5;66;43;03m# Default initial assets\u001b[39;49;00m\n\u001b[32m    745\u001b[39m \u001b[43m    \u001b[49m\u001b[43mn_years\u001b[49m\u001b[43m=\u001b[49m\u001b[43mn_years\u001b[49m\u001b[43m,\u001b[49m\n\u001b[32m    746\u001b[39m \u001b[43m\u001b[49m\u001b[43m)\u001b[49m\n\u001b[32m    748\u001b[39m \u001b[38;5;66;03m# Add ruin probability from MC results\u001b[39;00m\n\u001b[32m    749\u001b[39m metrics.ruin_probability = simulation_results.ruin_probability\n",
      "\u001b[36mFile \u001b[39m\u001b[32mc:\\Users\\alexf\\OneDrive\\Documents\\Projects\\Ergodic Insurance Limits\\ergodic_insurance\\validation_metrics.py:217\u001b[39m, in \u001b[36mMetricCalculator.calculate_metrics\u001b[39m\u001b[34m(self, returns, losses, final_assets, initial_assets, n_years)\u001b[39m\n\u001b[32m    214\u001b[39m     max_drawdown = \u001b[32m0.0\u001b[39m\n\u001b[32m    216\u001b[39m \u001b[38;5;66;03m# Value at Risk\u001b[39;00m\n\u001b[32m--> \u001b[39m\u001b[32m217\u001b[39m var_95 = \u001b[38;5;28mfloat\u001b[39m(\u001b[43mnp\u001b[49m\u001b[43m.\u001b[49m\u001b[43mpercentile\u001b[49m\u001b[43m(\u001b[49m\u001b[43mreturns\u001b[49m\u001b[43m,\u001b[49m\u001b[43m \u001b[49m\u001b[32;43m5\u001b[39;49m\u001b[43m)\u001b[49m)\n\u001b[32m    218\u001b[39m cvar_95 = (\n\u001b[32m    219\u001b[39m     \u001b[38;5;28mfloat\u001b[39m(np.mean(returns[returns <= var_95]))\n\u001b[32m    220\u001b[39m     \u001b[38;5;28;01mif\u001b[39;00m \u001b[38;5;28mlen\u001b[39m(returns[returns <= var_95]) > \u001b[32m0\u001b[39m\n\u001b[32m    221\u001b[39m     \u001b[38;5;28;01melse\u001b[39;00m var_95\n\u001b[32m    222\u001b[39m )\n\u001b[32m    224\u001b[39m \u001b[38;5;66;03m# Win rate and profit factor\u001b[39;00m\n",
      "\u001b[36mFile \u001b[39m\u001b[32mc:\\Users\\alexf\\OneDrive\\Documents\\Projects\\Ergodic Insurance Limits\\.venv\\Lib\\site-packages\\numpy\\lib\\_function_base_impl.py:4292\u001b[39m, in \u001b[36mpercentile\u001b[39m\u001b[34m(a, q, axis, out, overwrite_input, method, keepdims, weights, interpolation)\u001b[39m\n\u001b[32m   4289\u001b[39m     \u001b[38;5;28;01mif\u001b[39;00m np.any(weights < \u001b[32m0\u001b[39m):\n\u001b[32m   4290\u001b[39m         \u001b[38;5;28;01mraise\u001b[39;00m \u001b[38;5;167;01mValueError\u001b[39;00m(\u001b[33m\"\u001b[39m\u001b[33mWeights must be non-negative.\u001b[39m\u001b[33m\"\u001b[39m)\n\u001b[32m-> \u001b[39m\u001b[32m4292\u001b[39m \u001b[38;5;28;01mreturn\u001b[39;00m \u001b[43m_quantile_unchecked\u001b[49m\u001b[43m(\u001b[49m\n\u001b[32m   4293\u001b[39m \u001b[43m    \u001b[49m\u001b[43ma\u001b[49m\u001b[43m,\u001b[49m\u001b[43m \u001b[49m\u001b[43mq\u001b[49m\u001b[43m,\u001b[49m\u001b[43m \u001b[49m\u001b[43maxis\u001b[49m\u001b[43m,\u001b[49m\u001b[43m \u001b[49m\u001b[43mout\u001b[49m\u001b[43m,\u001b[49m\u001b[43m \u001b[49m\u001b[43moverwrite_input\u001b[49m\u001b[43m,\u001b[49m\u001b[43m \u001b[49m\u001b[43mmethod\u001b[49m\u001b[43m,\u001b[49m\u001b[43m \u001b[49m\u001b[43mkeepdims\u001b[49m\u001b[43m,\u001b[49m\u001b[43m \u001b[49m\u001b[43mweights\u001b[49m\u001b[43m)\u001b[49m\n",
      "\u001b[36mFile \u001b[39m\u001b[32mc:\\Users\\alexf\\OneDrive\\Documents\\Projects\\Ergodic Insurance Limits\\.venv\\Lib\\site-packages\\numpy\\lib\\_function_base_impl.py:4569\u001b[39m, in \u001b[36m_quantile_unchecked\u001b[39m\u001b[34m(a, q, axis, out, overwrite_input, method, keepdims, weights)\u001b[39m\n\u001b[32m   4560\u001b[39m \u001b[38;5;28;01mdef\u001b[39;00m\u001b[38;5;250m \u001b[39m\u001b[34m_quantile_unchecked\u001b[39m(a,\n\u001b[32m   4561\u001b[39m                         q,\n\u001b[32m   4562\u001b[39m                         axis=\u001b[38;5;28;01mNone\u001b[39;00m,\n\u001b[32m   (...)\u001b[39m\u001b[32m   4566\u001b[39m                         keepdims=\u001b[38;5;28;01mFalse\u001b[39;00m,\n\u001b[32m   4567\u001b[39m                         weights=\u001b[38;5;28;01mNone\u001b[39;00m):\n\u001b[32m   4568\u001b[39m \u001b[38;5;250m    \u001b[39m\u001b[33;03m\"\"\"Assumes that q is in [0, 1], and is an ndarray\"\"\"\u001b[39;00m\n\u001b[32m-> \u001b[39m\u001b[32m4569\u001b[39m     \u001b[38;5;28;01mreturn\u001b[39;00m \u001b[43m_ureduce\u001b[49m\u001b[43m(\u001b[49m\u001b[43ma\u001b[49m\u001b[43m,\u001b[49m\n\u001b[32m   4570\u001b[39m \u001b[43m                    \u001b[49m\u001b[43mfunc\u001b[49m\u001b[43m=\u001b[49m\u001b[43m_quantile_ureduce_func\u001b[49m\u001b[43m,\u001b[49m\n\u001b[32m   4571\u001b[39m \u001b[43m                    \u001b[49m\u001b[43mq\u001b[49m\u001b[43m=\u001b[49m\u001b[43mq\u001b[49m\u001b[43m,\u001b[49m\n\u001b[32m   4572\u001b[39m \u001b[43m                    \u001b[49m\u001b[43mweights\u001b[49m\u001b[43m=\u001b[49m\u001b[43mweights\u001b[49m\u001b[43m,\u001b[49m\n\u001b[32m   4573\u001b[39m \u001b[43m                    \u001b[49m\u001b[43mkeepdims\u001b[49m\u001b[43m=\u001b[49m\u001b[43mkeepdims\u001b[49m\u001b[43m,\u001b[49m\n\u001b[32m   4574\u001b[39m \u001b[43m                    \u001b[49m\u001b[43maxis\u001b[49m\u001b[43m=\u001b[49m\u001b[43maxis\u001b[49m\u001b[43m,\u001b[49m\n\u001b[32m   4575\u001b[39m \u001b[43m                    \u001b[49m\u001b[43mout\u001b[49m\u001b[43m=\u001b[49m\u001b[43mout\u001b[49m\u001b[43m,\u001b[49m\n\u001b[32m   4576\u001b[39m \u001b[43m                    \u001b[49m\u001b[43moverwrite_input\u001b[49m\u001b[43m=\u001b[49m\u001b[43moverwrite_input\u001b[49m\u001b[43m,\u001b[49m\n\u001b[32m   4577\u001b[39m \u001b[43m                    \u001b[49m\u001b[43mmethod\u001b[49m\u001b[43m=\u001b[49m\u001b[43mmethod\u001b[49m\u001b[43m)\u001b[49m\n",
      "\u001b[36mFile \u001b[39m\u001b[32mc:\\Users\\alexf\\OneDrive\\Documents\\Projects\\Ergodic Insurance Limits\\.venv\\Lib\\site-packages\\numpy\\lib\\_function_base_impl.py:3914\u001b[39m, in \u001b[36m_ureduce\u001b[39m\u001b[34m(a, func, keepdims, **kwargs)\u001b[39m\n\u001b[32m   3911\u001b[39m     index_out = (\u001b[32m0\u001b[39m, ) * nd\n\u001b[32m   3912\u001b[39m     kwargs[\u001b[33m'\u001b[39m\u001b[33mout\u001b[39m\u001b[33m'\u001b[39m] = out[(\u001b[38;5;28mEllipsis\u001b[39m, ) + index_out]\n\u001b[32m-> \u001b[39m\u001b[32m3914\u001b[39m r = \u001b[43mfunc\u001b[49m\u001b[43m(\u001b[49m\u001b[43ma\u001b[49m\u001b[43m,\u001b[49m\u001b[43m \u001b[49m\u001b[43m*\u001b[49m\u001b[43m*\u001b[49m\u001b[43mkwargs\u001b[49m\u001b[43m)\u001b[49m\n\u001b[32m   3916\u001b[39m \u001b[38;5;28;01mif\u001b[39;00m out \u001b[38;5;129;01mis\u001b[39;00m \u001b[38;5;129;01mnot\u001b[39;00m \u001b[38;5;28;01mNone\u001b[39;00m:\n\u001b[32m   3917\u001b[39m     \u001b[38;5;28;01mreturn\u001b[39;00m out\n",
      "\u001b[36mFile \u001b[39m\u001b[32mc:\\Users\\alexf\\OneDrive\\Documents\\Projects\\Ergodic Insurance Limits\\.venv\\Lib\\site-packages\\numpy\\lib\\_function_base_impl.py:4744\u001b[39m, in \u001b[36m_quantile_ureduce_func\u001b[39m\u001b[34m(a, q, weights, axis, out, overwrite_input, method)\u001b[39m\n\u001b[32m   4742\u001b[39m     arr = a.copy()\n\u001b[32m   4743\u001b[39m     wgt = weights\n\u001b[32m-> \u001b[39m\u001b[32m4744\u001b[39m result = \u001b[43m_quantile\u001b[49m\u001b[43m(\u001b[49m\u001b[43marr\u001b[49m\u001b[43m,\u001b[49m\n\u001b[32m   4745\u001b[39m \u001b[43m                   \u001b[49m\u001b[43mquantiles\u001b[49m\u001b[43m=\u001b[49m\u001b[43mq\u001b[49m\u001b[43m,\u001b[49m\n\u001b[32m   4746\u001b[39m \u001b[43m                   \u001b[49m\u001b[43maxis\u001b[49m\u001b[43m=\u001b[49m\u001b[43maxis\u001b[49m\u001b[43m,\u001b[49m\n\u001b[32m   4747\u001b[39m \u001b[43m                   \u001b[49m\u001b[43mmethod\u001b[49m\u001b[43m=\u001b[49m\u001b[43mmethod\u001b[49m\u001b[43m,\u001b[49m\n\u001b[32m   4748\u001b[39m \u001b[43m                   \u001b[49m\u001b[43mout\u001b[49m\u001b[43m=\u001b[49m\u001b[43mout\u001b[49m\u001b[43m,\u001b[49m\n\u001b[32m   4749\u001b[39m \u001b[43m                   \u001b[49m\u001b[43mweights\u001b[49m\u001b[43m=\u001b[49m\u001b[43mwgt\u001b[49m\u001b[43m)\u001b[49m\n\u001b[32m   4750\u001b[39m \u001b[38;5;28;01mreturn\u001b[39;00m result\n",
      "\u001b[36mFile \u001b[39m\u001b[32mc:\\Users\\alexf\\OneDrive\\Documents\\Projects\\Ergodic Insurance Limits\\.venv\\Lib\\site-packages\\numpy\\lib\\_function_base_impl.py:4866\u001b[39m, in \u001b[36m_quantile\u001b[39m\u001b[34m(arr, quantiles, axis, method, out, weights)\u001b[39m\n\u001b[32m   4859\u001b[39m arr.partition(\n\u001b[32m   4860\u001b[39m     np.unique(np.concatenate(([\u001b[32m0\u001b[39m, -\u001b[32m1\u001b[39m],\n\u001b[32m   4861\u001b[39m                               previous_indexes.ravel(),\n\u001b[32m   4862\u001b[39m                               next_indexes.ravel(),\n\u001b[32m   4863\u001b[39m                               ))),\n\u001b[32m   4864\u001b[39m     axis=\u001b[32m0\u001b[39m)\n\u001b[32m   4865\u001b[39m \u001b[38;5;28;01mif\u001b[39;00m supports_nans:\n\u001b[32m-> \u001b[39m\u001b[32m4866\u001b[39m     slices_having_nans = np.isnan(\u001b[43marr\u001b[49m\u001b[43m[\u001b[49m\u001b[43m-\u001b[49m\u001b[32;43m1\u001b[39;49m\u001b[43m,\u001b[49m\u001b[43m \u001b[49m\u001b[43m.\u001b[49m\u001b[43m.\u001b[49m\u001b[43m.\u001b[49m\u001b[43m]\u001b[49m)\n\u001b[32m   4867\u001b[39m \u001b[38;5;28;01melse\u001b[39;00m:\n\u001b[32m   4868\u001b[39m     slices_having_nans = \u001b[38;5;28;01mNone\u001b[39;00m\n",
      "\u001b[31mIndexError\u001b[39m: index -1 is out of bounds for axis 0 with size 0"
     ]
    }
   ],
   "source": [
    "# Configure manufacturer and simulation settings\n",
    "from ergodic_insurance.config import ManufacturerConfig\n",
    "\n",
    "# Create manufacturer configuration\n",
    "manufacturer_config = ManufacturerConfig(\n",
    "    initial_assets=10000000,\n",
    "    asset_turnover_ratio=1.0,\n",
    "    base_operating_margin=0.08,\n",
    "    tax_rate=0.25,\n",
    "    retention_ratio=0.95  # Retain 95% of earnings (5% capex)\n",
    ")\n",
    "\n",
    "# Create manufacturer instance\n",
    "manufacturer = WidgetManufacturer(manufacturer_config)\n",
    "\n",
    "# Run validation (simplified for demo - use more simulations in production)\n",
    "print(\"Running walk-forward validation...\")\n",
    "print(\"(This may take a few minutes)\\n\")\n",
    "\n",
    "validation_result = validator.validate_strategies(\n",
    "    strategies=strategies,\n",
    "    n_years=total_years,\n",
    "    n_simulations=100,  # Use 1000+ for production\n",
    "    manufacturer=manufacturer\n",
    ")\n",
    "\n",
    "print(f\"\\n✓ Validation complete!\")\n",
    "print(f\"Best strategy: {validation_result.best_strategy}\")"
   ]
  },
  {
   "cell_type": "markdown",
   "id": "18ac5ffd",
   "metadata": {
    "papermill": {
     "duration": null,
     "end_time": null,
     "exception": null,
     "start_time": null,
     "status": "pending"
    },
    "tags": []
   },
   "source": [
    "## 5. Analyze Results\n",
    "\n",
    "### Strategy Rankings"
   ]
  },
  {
   "cell_type": "code",
   "execution_count": null,
   "id": "86f7466e",
   "metadata": {
    "papermill": {
     "duration": null,
     "end_time": null,
     "exception": null,
     "start_time": null,
     "status": "pending"
    },
    "tags": []
   },
   "outputs": [],
   "source": [
    "# Display strategy rankings\n",
    "print(\"Strategy Rankings (by composite score):\")\n",
    "print(\"=\"*60)\n",
    "\n",
    "if not validation_result.strategy_rankings.empty:\n",
    "    rankings_display = validation_result.strategy_rankings[[\n",
    "        'strategy', 'avg_roe', 'avg_ruin_prob', 'avg_sharpe',\n",
    "        'overfitting_score', 'consistency_score', 'composite_score'\n",
    "    ]].round(4)\n",
    "    \n",
    "    # Format percentages\n",
    "    rankings_display['avg_roe'] = rankings_display['avg_roe'].apply(lambda x: f\"{x:.2%}\")\n",
    "    rankings_display['avg_ruin_prob'] = rankings_display['avg_ruin_prob'].apply(lambda x: f\"{x:.2%}\")\n",
    "    \n",
    "    print(rankings_display.to_string(index=False))\n",
    "else:\n",
    "    print(\"No rankings available\")"
   ]
  },
  {
   "cell_type": "markdown",
   "id": "57c7e622",
   "metadata": {
    "papermill": {
     "duration": null,
     "end_time": null,
     "exception": null,
     "start_time": null,
     "status": "pending"
    },
    "tags": []
   },
   "source": [
    "### Overfitting Analysis"
   ]
  },
  {
   "cell_type": "code",
   "execution_count": null,
   "id": "b969c0dd",
   "metadata": {
    "papermill": {
     "duration": null,
     "end_time": null,
     "exception": null,
     "start_time": null,
     "status": "pending"
    },
    "tags": []
   },
   "outputs": [],
   "source": [
    "# Analyze overfitting\n",
    "print(\"Overfitting Analysis:\")\n",
    "print(\"=\"*40)\n",
    "\n",
    "for strategy_name, score in validation_result.overfitting_analysis.items():\n",
    "    if score < 0.2:\n",
    "        status = \"✓ Low (Good)\"\n",
    "        color = 'green'\n",
    "    elif score < 0.4:\n",
    "        status = \"⚠ Moderate\"\n",
    "        color = 'orange'\n",
    "    else:\n",
    "        status = \"✗ High (Poor)\"\n",
    "        color = 'red'\n",
    "    \n",
    "    print(f\"{strategy_name:25} {score:.3f} - {status}\")\n",
    "\n",
    "# Visualize overfitting scores\n",
    "if validation_result.overfitting_analysis:\n",
    "    fig, ax = plt.subplots(figsize=(10, 6))\n",
    "    \n",
    "    strategies_list = list(validation_result.overfitting_analysis.keys())\n",
    "    scores = list(validation_result.overfitting_analysis.values())\n",
    "    \n",
    "    bars = ax.bar(strategies_list, scores)\n",
    "    \n",
    "    # Color based on severity\n",
    "    for bar, score in zip(bars, scores):\n",
    "        if score < 0.2:\n",
    "            bar.set_color('green')\n",
    "        elif score < 0.4:\n",
    "            bar.set_color('orange')\n",
    "        else:\n",
    "            bar.set_color('red')\n",
    "    \n",
    "    ax.set_title('Overfitting Scores by Strategy', fontsize=14, fontweight='bold')\n",
    "    ax.set_xlabel('Strategy')\n",
    "    ax.set_ylabel('Overfitting Score')\n",
    "    ax.axhline(y=0.2, color='orange', linestyle='--', alpha=0.5, label='Moderate threshold')\n",
    "    ax.axhline(y=0.4, color='red', linestyle='--', alpha=0.5, label='High threshold')\n",
    "    ax.legend()\n",
    "    ax.set_ylim(0, max(scores) * 1.2 if scores else 1)\n",
    "    \n",
    "    plt.xticks(rotation=45, ha='right')\n",
    "    plt.tight_layout()\n",
    "    plt.show()"
   ]
  },
  {
   "cell_type": "markdown",
   "id": "853232d3",
   "metadata": {
    "papermill": {
     "duration": null,
     "end_time": null,
     "exception": null,
     "start_time": null,
     "status": "pending"
    },
    "tags": []
   },
   "source": [
    "### Performance Across Windows"
   ]
  },
  {
   "cell_type": "code",
   "execution_count": null,
   "id": "eec776e6",
   "metadata": {
    "papermill": {
     "duration": null,
     "end_time": null,
     "exception": null,
     "start_time": null,
     "status": "pending"
    },
    "tags": []
   },
   "outputs": [],
   "source": [
    "# Plot performance metrics across windows\n",
    "fig, axes = plt.subplots(2, 2, figsize=(14, 10))\n",
    "\n",
    "# Collect data\n",
    "strategy_names = list(validation_result.window_results[0].strategy_performances.keys())\n",
    "windows_idx = list(range(len(validation_result.window_results)))\n",
    "\n",
    "metrics_data = {\n",
    "    'Out-Sample ROE': {s: [] for s in strategy_names},\n",
    "    'Ruin Probability': {s: [] for s in strategy_names},\n",
    "    'Sharpe Ratio': {s: [] for s in strategy_names},\n",
    "    'Growth Rate': {s: [] for s in strategy_names}\n",
    "}\n",
    "\n",
    "for window_result in validation_result.window_results:\n",
    "    for strategy in strategy_names:\n",
    "        if strategy in window_result.strategy_performances:\n",
    "            perf = window_result.strategy_performances[strategy]\n",
    "            if perf.out_sample_metrics:\n",
    "                metrics_data['Out-Sample ROE'][strategy].append(perf.out_sample_metrics.roe)\n",
    "                metrics_data['Ruin Probability'][strategy].append(perf.out_sample_metrics.ruin_probability)\n",
    "                metrics_data['Sharpe Ratio'][strategy].append(perf.out_sample_metrics.sharpe_ratio)\n",
    "                metrics_data['Growth Rate'][strategy].append(perf.out_sample_metrics.growth_rate)\n",
    "\n",
    "# Plot each metric\n",
    "for ax, (metric_name, metric_values) in zip(axes.flat, metrics_data.items()):\n",
    "    for strategy in strategy_names:\n",
    "        if metric_values[strategy]:\n",
    "            ax.plot(windows_idx[:len(metric_values[strategy])], \n",
    "                   metric_values[strategy], \n",
    "                   marker='o', \n",
    "                   label=strategy,\n",
    "                   linewidth=2)\n",
    "    \n",
    "    ax.set_title(metric_name, fontweight='bold')\n",
    "    ax.set_xlabel('Window')\n",
    "    ax.set_ylabel(metric_name)\n",
    "    ax.legend(loc='best', fontsize=8)\n",
    "    ax.grid(True, alpha=0.3)\n",
    "\n",
    "plt.suptitle('Strategy Performance Across Validation Windows', fontsize=14, fontweight='bold')\n",
    "plt.tight_layout()\n",
    "plt.show()"
   ]
  },
  {
   "cell_type": "markdown",
   "id": "fd5d97bc",
   "metadata": {
    "papermill": {
     "duration": null,
     "end_time": null,
     "exception": null,
     "start_time": null,
     "status": "pending"
    },
    "tags": []
   },
   "source": [
    "### Strategy Consistency"
   ]
  },
  {
   "cell_type": "code",
   "execution_count": null,
   "id": "837c3d1d",
   "metadata": {
    "papermill": {
     "duration": null,
     "end_time": null,
     "exception": null,
     "start_time": null,
     "status": "pending"
    },
    "tags": []
   },
   "outputs": [],
   "source": [
    "# Analyze consistency\n",
    "print(\"Strategy Consistency Scores:\")\n",
    "print(\"=\"*40)\n",
    "\n",
    "consistency_data = []\n",
    "for strategy_name, score in validation_result.consistency_scores.items():\n",
    "    if score > 0.8:\n",
    "        status = \"✓ High\"\n",
    "    elif score > 0.6:\n",
    "        status = \"⚠ Moderate\"\n",
    "    else:\n",
    "        status = \"✗ Low\"\n",
    "    \n",
    "    print(f\"{strategy_name:25} {score:.3f} - {status}\")\n",
    "    consistency_data.append({'Strategy': strategy_name, 'Consistency': score})\n",
    "\n",
    "# Visualize consistency\n",
    "if consistency_data:\n",
    "    df_consistency = pd.DataFrame(consistency_data)\n",
    "    \n",
    "    fig, ax = plt.subplots(figsize=(10, 6))\n",
    "    bars = ax.barh(df_consistency['Strategy'], df_consistency['Consistency'])\n",
    "    \n",
    "    # Color based on level\n",
    "    for bar, score in zip(bars, df_consistency['Consistency']):\n",
    "        if score > 0.8:\n",
    "            bar.set_color('green')\n",
    "        elif score > 0.6:\n",
    "            bar.set_color('orange')\n",
    "        else:\n",
    "            bar.set_color('red')\n",
    "    \n",
    "    ax.set_xlabel('Consistency Score')\n",
    "    ax.set_title('Strategy Consistency Across Windows', fontsize=14, fontweight='bold')\n",
    "    ax.set_xlim(0, 1)\n",
    "    ax.axvline(x=0.6, color='orange', linestyle='--', alpha=0.5)\n",
    "    ax.axvline(x=0.8, color='green', linestyle='--', alpha=0.5)\n",
    "    \n",
    "    plt.tight_layout()\n",
    "    plt.show()"
   ]
  },
  {
   "cell_type": "markdown",
   "id": "da465524",
   "metadata": {
    "papermill": {
     "duration": null,
     "end_time": null,
     "exception": null,
     "start_time": null,
     "status": "pending"
    },
    "tags": []
   },
   "source": [
    "## 6. Performance Target Evaluation"
   ]
  },
  {
   "cell_type": "code",
   "execution_count": null,
   "id": "15dc04bc",
   "metadata": {
    "papermill": {
     "duration": null,
     "end_time": null,
     "exception": null,
     "start_time": null,
     "status": "pending"
    },
    "tags": []
   },
   "outputs": [],
   "source": [
    "# Evaluate each strategy against performance targets\n",
    "print(\"Performance Target Evaluation:\")\n",
    "print(\"=\"*60)\n",
    "\n",
    "for window_result in validation_result.window_results[-1:]:  # Use last window\n",
    "    for strategy_name, performance in window_result.strategy_performances.items():\n",
    "        if performance.out_sample_metrics:\n",
    "            meets_targets, failures = performance_targets.evaluate(performance.out_sample_metrics)\n",
    "            \n",
    "            print(f\"\\n{strategy_name}:\")\n",
    "            if meets_targets:\n",
    "                print(\"  ✓ Meets all targets\")\n",
    "            else:\n",
    "                print(\"  ✗ Fails targets:\")\n",
    "                for failure in failures:\n",
    "                    print(f\"    - {failure}\")"
   ]
  },
  {
   "cell_type": "markdown",
   "id": "60d52f0d",
   "metadata": {
    "papermill": {
     "duration": null,
     "end_time": null,
     "exception": null,
     "start_time": null,
     "status": "pending"
    },
    "tags": []
   },
   "source": [
    "## 7. Generate Validation Reports"
   ]
  },
  {
   "cell_type": "code",
   "execution_count": null,
   "id": "3f27b125",
   "metadata": {
    "papermill": {
     "duration": null,
     "end_time": null,
     "exception": null,
     "start_time": null,
     "status": "pending"
    },
    "tags": []
   },
   "outputs": [],
   "source": [
    "# Generate comprehensive reports\n",
    "import tempfile\n",
    "from pathlib import Path\n",
    "\n",
    "# Create temporary directory for reports\n",
    "with tempfile.TemporaryDirectory() as temp_dir:\n",
    "    report_dir = Path(temp_dir)\n",
    "    \n",
    "    print(\"Generating validation reports...\")\n",
    "    report_files = validator.generate_report(\n",
    "        validation_result=validation_result,\n",
    "        output_dir=str(report_dir),\n",
    "        include_visualizations=True\n",
    "    )\n",
    "    \n",
    "    print(\"\\nGenerated files:\")\n",
    "    for file_type, file_path in report_files.items():\n",
    "        if isinstance(file_path, Path):\n",
    "            print(f\"  - {file_type}: {file_path.name}\")\n",
    "    \n",
    "    # Read and display markdown summary\n",
    "    if 'markdown' in report_files:\n",
    "        md_content = report_files['markdown'].read_text()\n",
    "        print(\"\\n\" + \"=\"*60)\n",
    "        print(\"MARKDOWN SUMMARY (first 1000 chars):\")\n",
    "        print(\"=\"*60)\n",
    "        print(md_content[:1000] + \"...\" if len(md_content) > 1000 else md_content)"
   ]
  },
  {
   "cell_type": "markdown",
   "id": "d2b79134",
   "metadata": {
    "papermill": {
     "duration": null,
     "end_time": null,
     "exception": null,
     "start_time": null,
     "status": "pending"
    },
    "tags": []
   },
   "source": [
    "## 8. Key Insights and Recommendations\n",
    "\n",
    "Based on the walk-forward validation results:"
   ]
  },
  {
   "cell_type": "code",
   "execution_count": null,
   "id": "27bd1fe8",
   "metadata": {
    "papermill": {
     "duration": null,
     "end_time": null,
     "exception": null,
     "start_time": null,
     "status": "pending"
    },
    "tags": []
   },
   "outputs": [],
   "source": [
    "print(\"KEY INSIGHTS:\")\n",
    "print(\"=\"*60)\n",
    "\n",
    "# Best strategy\n",
    "print(f\"\\n1. RECOMMENDED STRATEGY: {validation_result.best_strategy}\")\n",
    "\n",
    "# Check for overfitting\n",
    "overfit_strategies = [s for s, score in validation_result.overfitting_analysis.items() if score > 0.4]\n",
    "if overfit_strategies:\n",
    "    print(f\"\\n2. OVERFITTING WARNING:\")\n",
    "    for s in overfit_strategies:\n",
    "        print(f\"   - {s} shows significant overfitting\")\n",
    "else:\n",
    "    print(f\"\\n2. OVERFITTING: No strategies show significant overfitting\")\n",
    "\n",
    "# Consistency leaders\n",
    "if validation_result.consistency_scores:\n",
    "    most_consistent = max(validation_result.consistency_scores.items(), key=lambda x: x[1])\n",
    "    print(f\"\\n3. MOST CONSISTENT: {most_consistent[0]} (score: {most_consistent[1]:.3f})\")\n",
    "\n",
    "# Performance vs targets\n",
    "print(f\"\\n4. PERFORMANCE TARGETS:\")\n",
    "if not validation_result.strategy_rankings.empty:\n",
    "    high_performers = validation_result.strategy_rankings[\n",
    "        validation_result.strategy_rankings['avg_roe'] >= performance_targets.min_roe\n",
    "    ]['strategy'].tolist()\n",
    "    \n",
    "    if high_performers:\n",
    "        print(f\"   Strategies meeting ROE target: {', '.join(high_performers)}\")\n",
    "    else:\n",
    "        print(f\"   No strategies meet the minimum ROE target\")\n",
    "\n",
    "# Final recommendation\n",
    "print(f\"\\n5. FINAL RECOMMENDATION:\")\n",
    "print(f\"   Deploy {validation_result.best_strategy} strategy based on:\")\n",
    "print(f\"   - Strong out-of-sample performance\")\n",
    "print(f\"   - Acceptable overfitting risk\")\n",
    "print(f\"   - Good consistency across market conditions\")"
   ]
  },
  {
   "cell_type": "markdown",
   "id": "266af032",
   "metadata": {
    "papermill": {
     "duration": null,
     "end_time": null,
     "exception": null,
     "start_time": null,
     "status": "pending"
    },
    "tags": []
   },
   "source": [
    "## Summary\n",
    "\n",
    "This walk-forward validation system provides:\n",
    "\n",
    "1. **Robust Testing**: Strategies tested across multiple time windows\n",
    "2. **Overfitting Detection**: Identifies strategies that perform well in-sample but poorly out-of-sample\n",
    "3. **Consistency Measurement**: Evaluates strategy stability across different periods\n",
    "4. **Performance Tracking**: Comprehensive metrics for informed decision-making\n",
    "5. **Actionable Insights**: Clear recommendations based on empirical evidence\n",
    "\n",
    "The system helps ensure that selected insurance strategies will perform well in real-world conditions, not just in backtests."
   ]
  }
 ],
 "metadata": {
  "kernelspec": {
   "display_name": ".venv",
   "language": "python",
   "name": "python3"
  },
  "language_info": {
   "codemirror_mode": {
    "name": "ipython",
    "version": 3
   },
   "file_extension": ".py",
   "mimetype": "text/x-python",
   "name": "python",
   "nbconvert_exporter": "python",
   "pygments_lexer": "ipython3",
   "version": "3.12.10"
  },
  "papermill": {
   "default_parameters": {},
   "duration": 31.428066,
   "end_time": "2025-09-20T18:44:35.971966",
   "environment_variables": {},
   "exception": true,
   "input_path": "13_walk_forward_validation.ipynb",
   "output_path": "results_20250920_143059\\executed_13_walk_forward_validation.ipynb",
   "parameters": {},
   "start_time": "2025-09-20T18:44:04.543900",
   "version": "2.6.0"
  }
 },
 "nbformat": 4,
 "nbformat_minor": 5
}
