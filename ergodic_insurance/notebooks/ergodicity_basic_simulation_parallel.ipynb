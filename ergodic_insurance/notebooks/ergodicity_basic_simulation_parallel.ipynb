{
 "cells": [
  {
   "cell_type": "markdown",
   "id": "be46e146",
   "metadata": {},
   "source": [
    "# Basic Risk Simulation for Ergodicity Paper - Parallel Processing"
   ]
  },
  {
   "cell_type": "code",
   "execution_count": null,
   "id": "0fa0ee3d",
   "metadata": {},
   "outputs": [
    {
     "data": {
      "application/vnd.jupyter.widget-view+json": {
       "model_id": "0d3de6fbe8a14d099a9d85074a9cd393",
       "version_major": 2,
       "version_minor": 0
      },
      "text/plain": [
       "Parameter sets:   0%|          | 0/675 [00:00<?, ?it/s]"
      ]
     },
     "metadata": {},
     "output_type": "display_data"
    }
   ],
   "source": [
    "from tqdm.notebook import tqdm  # progress bar\n",
    "from itertools import product\n",
    "from run_basic_simulation import run_basic_simulation\n",
    "\n",
    "# Add these imports\n",
    "import os\n",
    "from joblib import Parallel, delayed\n",
    "\n",
    "# Integrate joblib with tqdm for per-task progress\n",
    "class TqdmJoblib(tqdm):\n",
    "    def __enter__(self):\n",
    "        from joblib import parallel\n",
    "        self._original = parallel.BatchCompletionCallBack\n",
    "        outer = self\n",
    "        class TqdmBatchCompletionCallback(parallel.BatchCompletionCallBack):\n",
    "            def __call__(self, *args, **kwargs):\n",
    "                outer.update(n=self.batch_size)\n",
    "                return super().__call__(*args, **kwargs)\n",
    "        parallel.BatchCompletionCallBack = TqdmBatchCompletionCallback\n",
    "        return super().__enter__()\n",
    "    def __exit__(self, exc_type, exc, tb):\n",
    "        from joblib import parallel\n",
    "        parallel.BatchCompletionCallBack = self._original\n",
    "        return super().__exit__(exc_type, exc, tb)\n",
    "\n",
    "NUM_SIMULATIONS = 1_000\n",
    "SIM_YEARS = 50\n",
    "PRICING_SIMULATIONS = 500_000  # For premium estimation\n",
    "\n",
    "initial_assets_list = [5_000_000, 10_000_000, 25_000_000]\n",
    "atr_list = [0.8, 0.9, 1.0, 1.1, 1.2]\n",
    "ebitabl_list = [0.1, 0.125, 0.15]\n",
    "deductible_list = [0, 50_000, 100_000, 250_000, 500_000]\n",
    "loss_ratio_list = [0.6, 0.7, 0.8]\n",
    "\n",
    "total_combos = (\n",
    "    len(initial_assets_list)\n",
    "    * len(atr_list)\n",
    "    * len(ebitabl_list)\n",
    "    * len(deductible_list)\n",
    "    * len(loss_ratio_list)\n",
    ")\n",
    "\n",
    "# Use all but one CPU core\n",
    "_cpu = os.cpu_count() or 1\n",
    "n_jobs = max(_cpu - 1, 1)\n",
    "\n",
    "# Parallel execution with progress bar\n",
    "with TqdmJoblib(total=total_combos, desc=\"Parameter sets\", leave=True):\n",
    "    Parallel(n_jobs=n_jobs, prefer=\"processes\", batch_size=1)(\n",
    "        delayed(run_basic_simulation)(\n",
    "            index, ia, atr, ebitabl, ded, lr,\n",
    "            NUM_SIMULATIONS, SIM_YEARS, PRICING_SIMULATIONS\n",
    "        )\n",
    "        for index, (ia, atr, ebitabl, ded, lr) in enumerate(product(\n",
    "            initial_assets_list,\n",
    "            atr_list,\n",
    "            ebitabl_list,\n",
    "            deductible_list,\n",
    "            loss_ratio_list\n",
    "        ))\n",
    "    )\n"
   ]
  },
  {
   "cell_type": "code",
   "execution_count": null,
   "id": "bbbacf2e",
   "metadata": {},
   "outputs": [],
   "source": []
  }
 ],
 "metadata": {
  "kernelspec": {
   "display_name": ".venv",
   "language": "python",
   "name": "python3"
  },
  "language_info": {
   "codemirror_mode": {
    "name": "ipython",
    "version": 3
   },
   "file_extension": ".py",
   "mimetype": "text/x-python",
   "name": "python",
   "nbconvert_exporter": "python",
   "pygments_lexer": "ipython3",
   "version": "3.12.10"
  }
 },
 "nbformat": 4,
 "nbformat_minor": 5
}
