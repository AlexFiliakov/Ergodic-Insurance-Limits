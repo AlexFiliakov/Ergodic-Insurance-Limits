{
 "cells": [
  {
   "cell_type": "markdown",
   "id": "ef2229a8",
   "metadata": {},
   "source": [
    "# Basic Risk Frontier\n",
    "\n",
    "Future enhancements:\n",
    "- Consider trends and discounting"
   ]
  },
  {
   "cell_type": "code",
   "execution_count": 1,
   "id": "e455cffe",
   "metadata": {},
   "outputs": [],
   "source": [
    "# Import required libraries\n",
    "import numpy as np\n",
    "import pandas as pd\n",
    "import matplotlib.pyplot as plt\n",
    "import seaborn as sns\n",
    "from typing import List, Dict, Any\n",
    "import warnings\n",
    "import sys\n",
    "from pathlib import Path\n",
    "warnings.filterwarnings('ignore')\n",
    "\n",
    "# Set plotting style\n",
    "plt.style.use('seaborn-v0_8-darkgrid')\n",
    "sns.set_palette(\"husl\")\n",
    "\n",
    "from ergodic_insurance.config import ManufacturerConfig\n",
    "from ergodic_insurance.manufacturer import WidgetManufacturer\n",
    "from ergodic_insurance.exposure_base import RevenueExposure\n",
    "from ergodic_insurance.insurance import InsurancePolicy, InsuranceLayer\n",
    "from ergodic_insurance.simulation import Simulation, SimulationResults\n",
    "from ergodic_insurance.ergodic_analyzer import ErgodicAnalyzer\n",
    "from ergodic_insurance.loss_distributions import ManufacturingLossGenerator\n",
    "from ergodic_insurance.insurance_program import EnhancedInsuranceLayer, InsuranceProgram"
   ]
  },
  {
   "cell_type": "markdown",
   "id": "c2b134eb",
   "metadata": {},
   "source": [
    "## Define the Corporate Profile"
   ]
  },
  {
   "cell_type": "code",
   "execution_count": null,
   "id": "f1d8a3b2",
   "metadata": {},
   "outputs": [],
   "source": [
    "INITIAL_ASSETS = 10_000_000\n",
    "ASSET_TURNOVER_RATIO = 1.0  # Revenue = Assets × Turnover\n",
    "EBITA_MARGIN_TARGET = 0.05  # EBITA after claims and insurance\n",
    "DEDUCTIBLE = 50_000\n",
    "LOSS_RATIO = 0.70\n",
    "\n",
    "NUM_SIMULATIONS = 100\n",
    "SIM_YEARS = 50\n",
    "\n",
    "# Create manufacturer configuration\n",
    "manufacturer_config = ManufacturerConfig(\n",
    "    initial_assets=INITIAL_ASSETS,\n",
    "    asset_turnover_ratio=ASSET_TURNOVER_RATIO,  # Revenue = Assets × Turnover\n",
    "    base_operating_margin=0.10,  # EBITA before claims and insurance (need to calibrate)\n",
    "    tax_rate=0.25,  # Current US Tax Rate\n",
    "    retention_ratio=0.70,  # 30% dividends\n",
    "    ppe_ratio=0.00,  # 0% of assets in PPE, so there is no depreciation expense\n",
    ")\n",
    "\n",
    "# Create widget manufacturer\n",
    "base_manufacturer = WidgetManufacturer(manufacturer_config)\n",
    "\n",
    "# Create exposure base based on revenue\n",
    "exposure = RevenueExposure(state_provider=base_manufacturer)\n"
   ]
  },
  {
   "cell_type": "markdown",
   "id": "61b541de",
   "metadata": {},
   "source": [
    "## Define Losses"
   ]
  },
  {
   "cell_type": "code",
   "execution_count": 3,
   "id": "99f3fe50",
   "metadata": {
    "notebookRunGroups": {
     "groupValue": "1"
    }
   },
   "outputs": [],
   "source": [
    "cur_revenue = base_manufacturer.total_assets * base_manufacturer.asset_turnover_ratio\n",
    "\n",
    "# Calibrate claim generator for EBITA of 5%\n",
    "target_ebita_margin = 0.05\n",
    "\n",
    "generator = ManufacturingLossGenerator(\n",
    "    attritional_params={\n",
    "        'base_frequency': 2.85,\n",
    "        'severity_mean': 40_000,\n",
    "        'severity_cv': 0.8,\n",
    "        'revenue_scaling_exponent': 1.0,\n",
    "        'reference_revenue': cur_revenue\n",
    "    },\n",
    "    large_params={\n",
    "        'base_frequency': 0.20,\n",
    "        'severity_mean': 500_000,\n",
    "        'severity_cv': 1.5,\n",
    "        'revenue_scaling_exponent': 1.0,\n",
    "        'reference_revenue': cur_revenue\n",
    "    },\n",
    "    catastrophic_params={\n",
    "        'base_frequency': 0.02,\n",
    "        'severity_xm': 5_000_000,\n",
    "        'severity_alpha': 2.5,\n",
    "        'revenue_scaling_exponent': 1.0,\n",
    "        'reference_revenue': cur_revenue\n",
    "    },\n",
    "    seed=42\n",
    ")"
   ]
  },
  {
   "cell_type": "code",
   "execution_count": 4,
   "id": "a38d5abf",
   "metadata": {},
   "outputs": [],
   "source": [
    "deductible = DEDUCTIBLE\n",
    "policy_limit = 100_000_000\n"
   ]
  },
  {
   "cell_type": "markdown",
   "id": "19d3f753",
   "metadata": {},
   "source": [
    "## Estimate Premium Assuming Perfect Distributional Knowledge"
   ]
  },
  {
   "cell_type": "code",
   "execution_count": 5,
   "id": "3b480ae6",
   "metadata": {},
   "outputs": [
    {
     "name": "stdout",
     "output_type": "stream",
     "text": [
      "Average Annual Insured Loss: $276,508\n",
      "Average Annual Retained Loss: $102,530\n"
     ]
    }
   ],
   "source": [
    "pricing_simulation_years = 500_000\n",
    "\n",
    "total_insured_loss = 0.0\n",
    "insured_loss_list = []\n",
    "\n",
    "total_retained_loss = 0.0\n",
    "retained_loss_list = []\n",
    "\n",
    "for yr in range(pricing_simulation_years):\n",
    "    loss_events, loss_meta = generator.generate_losses(duration=1, revenue=base_manufacturer.base_revenue)\n",
    "    for loss_event in loss_events:\n",
    "        insured_loss = max(min(loss_event.amount, policy_limit) - deductible,0)\n",
    "        \n",
    "        total_insured_loss += insured_loss\n",
    "        insured_loss_list.append(insured_loss)\n",
    "\n",
    "        retained_loss = loss_event.amount - insured_loss\n",
    "        total_retained_loss += retained_loss\n",
    "        retained_loss_list.append(retained_loss)\n",
    "\n",
    "average_annual_insured_loss = total_insured_loss / pricing_simulation_years\n",
    "average_annual_retained_loss = total_retained_loss / pricing_simulation_years\n",
    "print(f\"Average Annual Insured Loss: ${average_annual_insured_loss:,.0f}\")\n",
    "print(f\"Average Annual Retained Loss: ${average_annual_retained_loss:,.0f}\")"
   ]
  },
  {
   "cell_type": "code",
   "execution_count": 6,
   "id": "99d7aeaf",
   "metadata": {},
   "outputs": [
    {
     "name": "stdout",
     "output_type": "stream",
     "text": [
      "Ground-Up Excess Kurtosis: 3728.03\n"
     ]
    }
   ],
   "source": [
    "ground_up_losses = np.asarray(insured_loss_list, dtype=float) + np.asarray(retained_loss_list, dtype=float)\n",
    "EXCESS_KURTOSIS = pd.Series(ground_up_losses).kurtosis()\n",
    "print(f\"Ground-Up Excess Kurtosis: {EXCESS_KURTOSIS:.2f}\")"
   ]
  },
  {
   "cell_type": "code",
   "execution_count": 7,
   "id": "6f50093d",
   "metadata": {},
   "outputs": [
    {
     "name": "stdout",
     "output_type": "stream",
     "text": [
      "Total observations: 1,535,961\n",
      "Zero (below deductible) count: 1,072,868 (69.8%)\n",
      "Positive insured losses: 463,093\n",
      "Mean positive loss: 298,544\n",
      "Median positive loss: 28,866\n",
      "95th percentile: 891,644\n",
      "99th percentile: 6,852,111\n",
      "Max loss (capped): 99,950,000\n"
     ]
    },
    {
     "data": {
      "image/png": "[encoded data removed]",
      "text/plain": [
       "<Figure size 900x1200 with 3 Axes>"
      ]
     },
     "metadata": {},
     "output_type": "display_data"
    }
   ],
   "source": [
    "# Plot distribution of insured losses from loss_list\n",
    "\n",
    "loss_array = np.asarray(insured_loss_list, dtype=float)\n",
    "\n",
    "# Basic summary\n",
    "zero_count = np.sum(loss_array == 0)\n",
    "positive_losses = loss_array[loss_array > 0]\n",
    "print(f\"Total observations: {loss_array.size:,}\")\n",
    "print(f\"Zero (below deductible) count: {zero_count:,} ({zero_count / loss_array.size:.1%})\")\n",
    "print(f\"Positive insured losses: {positive_losses.size:,}\")\n",
    "if positive_losses.size:\n",
    "    print(f\"Mean positive loss: {positive_losses.mean():,.0f}\")\n",
    "    print(f\"Median positive loss: {np.median(positive_losses):,.0f}\")\n",
    "    print(f\"95th percentile: {np.percentile(positive_losses,95):,.0f}\")\n",
    "    print(f\"99th percentile: {np.percentile(positive_losses,99):,.0f}\")\n",
    "    print(f\"Max loss (capped): {positive_losses.max():,.0f}\")\n",
    "\n",
    "# Optional down-sample for plotting heavy tails\n",
    "max_points = 200_000\n",
    "if positive_losses.size > max_points:\n",
    "    rng = np.random.default_rng(42)\n",
    "    sample_idx = rng.choice(positive_losses.size, size=max_points, replace=False)\n",
    "    plot_positive = positive_losses[sample_idx]\n",
    "else:\n",
    "    plot_positive = positive_losses\n",
    "\n",
    "fig, axes = plt.subplots(3, 1, figsize=(9, 12))\n",
    "\n",
    "# Zero vs positive\n",
    "axes[0].bar(['Zero','> 0'], [zero_count, positive_losses.size], color=['#888','#1f77b4'])\n",
    "axes[0].set_title('Zero vs Positive Insured Loss Counts')\n",
    "axes[0].set_ylabel('Count')\n",
    "\n",
    "# Histogram (linear scale, truncated upper tail to 99.5% for visibility)\n",
    "if positive_losses.size:\n",
    "    upper_cut = np.percentile(plot_positive, 99.5)\n",
    "    sns.histplot(plot_positive[plot_positive <= upper_cut],\n",
    "                 bins=50, ax=axes[1], color='#1f77b4')\n",
    "    axes[1].set_title('Insured Losses (<= 99.5th pct)')\n",
    "    axes[1].set_xlabel('Loss Amount')\n",
    "\n",
    "# Histogram (log x scale for tail)\n",
    "if positive_losses.size:\n",
    "    sns.histplot(plot_positive, bins=100, ax=axes[2], color='#ff7f0e')\n",
    "    axes[2].set_xscale('log')\n",
    "    axes[2].set_title('Insured Losses (Log X Scale)')\n",
    "    axes[2].set_xlabel('Loss Amount (log scale)')\n",
    "\n",
    "fig.suptitle('Distribution of Insured Losses', fontsize=14, y=1.02)\n",
    "plt.tight_layout()\n",
    "plt.show()"
   ]
  },
  {
   "cell_type": "code",
   "execution_count": 8,
   "id": "732452d5",
   "metadata": {},
   "outputs": [
    {
     "name": "stdout",
     "output_type": "stream",
     "text": [
      "Annual Premium: $395,011\n",
      "Total Annual Cost of Risk: $497,541\n"
     ]
    }
   ],
   "source": [
    "loss_ratio = LOSS_RATIO\n",
    "\n",
    "annual_premium = average_annual_insured_loss / loss_ratio\n",
    "print(f\"Annual Premium: ${annual_premium:,.0f}\")\n",
    "\n",
    "total_cost_of_risk = annual_premium + average_annual_retained_loss\n",
    "print(f\"Total Annual Cost of Risk: ${total_cost_of_risk:,.0f}\")"
   ]
  },
  {
   "cell_type": "code",
   "execution_count": 9,
   "id": "eaa2b272",
   "metadata": {},
   "outputs": [
    {
     "data": {
      "text/plain": [
       "376844.09802142094"
      ]
     },
     "execution_count": 9,
     "metadata": {},
     "output_type": "execute_result"
    }
   ],
   "source": [
    "cur_operating_income = base_manufacturer.calculate_operating_income(cur_revenue)\n",
    "\n",
    "cur_net_income = base_manufacturer.calculate_net_income(\n",
    "                    operating_income=cur_operating_income,\n",
    "                    collateral_costs=0.0,\n",
    "                    insurance_premiums=annual_premium,\n",
    "                    insurance_losses=average_annual_retained_loss,\n",
    "                    use_accrual=True,\n",
    "                    time_resolution=\"annual\",\n",
    "                )\n",
    "\n",
    "cur_net_income"
   ]
  },
  {
   "cell_type": "code",
   "execution_count": 10,
   "id": "df8fc0d6",
   "metadata": {},
   "outputs": [
    {
     "data": {
      "text/plain": [
       "375000.0"
      ]
     },
     "execution_count": 10,
     "metadata": {},
     "output_type": "execute_result"
    }
   ],
   "source": [
    "target_net_income = base_manufacturer.base_revenue * target_ebita_margin * (1 - base_manufacturer.tax_rate)\n",
    "target_net_income\n"
   ]
  },
  {
   "cell_type": "code",
   "execution_count": 11,
   "id": "9944fa91",
   "metadata": {},
   "outputs": [],
   "source": [
    "net_margin_diff = abs(cur_net_income - target_net_income) / cur_revenue\n",
    "\n",
    "# assert net_margin_diff < 0.0005, f\"Net income not within 0.05% of target ({net_margin_diff:.2%} difference)\""
   ]
  },
  {
   "cell_type": "code",
   "execution_count": 12,
   "id": "757d16f0",
   "metadata": {},
   "outputs": [
    {
     "name": "stdout",
     "output_type": "stream",
     "text": [
      "Net Margin after insurance: 3.77%\n",
      "EBITA Margin after insurance: 5.02%\n"
     ]
    }
   ],
   "source": [
    "net_margin = cur_net_income / cur_revenue\n",
    "print(f\"Net Margin after insurance: {net_margin:.2%}\")\n",
    "print(f\"EBITA Margin after insurance: {net_margin / (1 - base_manufacturer.tax_rate):.2%}\")"
   ]
  },
  {
   "cell_type": "markdown",
   "id": "b13ad6ca",
   "metadata": {},
   "source": [
    "## Define the Insurance Program"
   ]
  },
  {
   "cell_type": "code",
   "execution_count": 13,
   "id": "863ef28f",
   "metadata": {},
   "outputs": [],
   "source": [
    "\n",
    "all_layers = EnhancedInsuranceLayer(\n",
    "                attachment_point=deductible,\n",
    "                limit=policy_limit,\n",
    "                limit_type='per-occurrence',\n",
    "                base_premium_rate=annual_premium / policy_limit\n",
    "            )\n",
    "\n",
    "program = InsuranceProgram([all_layers])"
   ]
  },
  {
   "cell_type": "code",
   "execution_count": 14,
   "id": "b34b4886",
   "metadata": {},
   "outputs": [
    {
     "data": {
      "text/plain": [
       "np.float64(395010.77364881756)"
      ]
     },
     "execution_count": 14,
     "metadata": {},
     "output_type": "execute_result"
    }
   ],
   "source": [
    "total_premium = program.calculate_annual_premium()\n",
    "total_premium"
   ]
  },
  {
   "cell_type": "markdown",
   "id": "642ad433",
   "metadata": {},
   "source": [
    "## Begin the Study\n",
    "- Run 50 years, repricing each time\n",
    "  - Adjust premium appropriately to reflect loss costs\n",
    "- Study results\n",
    "- Set up additional parameters\n",
    "- Study aggregate results and frontiers"
   ]
  },
  {
   "cell_type": "markdown",
   "id": "ddc7685d",
   "metadata": {},
   "source": [
    "### Define the Business Financials"
   ]
  },
  {
   "cell_type": "code",
   "execution_count": 15,
   "id": "5cded72a",
   "metadata": {},
   "outputs": [
    {
     "name": "stdout",
     "output_type": "stream",
     "text": [
      "Average Annual Insured Loss: $274,793\n",
      "Average Annual Retained Loss: $104,245\n",
      "Annual Premium: $392,561\n",
      "Total Annual Cost of Risk: $496,806\n",
      "Net Margin after insurance: 3.77%\n",
      "EBITA Margin after insurance: 5.03%\n"
     ]
    }
   ],
   "source": [
    "# Create manufacturer configuration\n",
    "manufacturer_config = ManufacturerConfig(\n",
    "    initial_assets=INITIAL_ASSETS,\n",
    "    asset_turnover_ratio=ASSET_TURNOVER_RATIO,  # Revenue = Assets × Turnover\n",
    "    base_operating_margin=0.10,  # EBITA before claims and insurance (need to calibrate)\n",
    "    tax_rate=0.25,  # Current US Tax Rate\n",
    "    retention_ratio=0.70,  # 30% dividends\n",
    "    ppe_ratio=0.00,  # 0% of assets in PPE, so there is no depreciation expense\n",
    ")\n",
    "\n",
    "# Create widget manufacturer\n",
    "base_manufacturer = WidgetManufacturer(manufacturer_config)\n",
    "\n",
    "# Create exposure base based on revenue\n",
    "exposure = RevenueExposure(state_provider=base_manufacturer)\n",
    "\n",
    "cur_revenue = base_manufacturer.total_assets * base_manufacturer.asset_turnover_ratio\n",
    "\n",
    "# Calibrate claim generator for EBITA of 5%\n",
    "target_ebita_margin = 0.05\n",
    "\n",
    "generator = ManufacturingLossGenerator(\n",
    "    attritional_params={\n",
    "        'base_frequency': 2.85,\n",
    "        'severity_mean': 40_000,\n",
    "        'severity_cv': 0.8,\n",
    "        'revenue_scaling_exponent': 1.0,\n",
    "        'reference_revenue': cur_revenue\n",
    "    },\n",
    "    large_params={\n",
    "        'base_frequency': 0.20,\n",
    "        'severity_mean': 500_000,\n",
    "        'severity_cv': 1.5,\n",
    "        'revenue_scaling_exponent': 1.0,\n",
    "        'reference_revenue': cur_revenue\n",
    "    },\n",
    "    catastrophic_params={\n",
    "        'base_frequency': 0.02,\n",
    "        'severity_xm': 5_000_000,\n",
    "        'severity_alpha': 2.5,\n",
    "        'revenue_scaling_exponent': 1.0,\n",
    "        'reference_revenue': cur_revenue\n",
    "    },\n",
    "    seed=42\n",
    ")\n",
    "\n",
    "deductible = 50_000\n",
    "policy_limit = 40_000_000\n",
    "\n",
    "pricing_simulation_years = 500_000\n",
    "\n",
    "total_insured_loss = 0.0\n",
    "insured_loss_list = []\n",
    "\n",
    "total_retained_loss = 0.0\n",
    "retained_loss_list = []\n",
    "\n",
    "for yr in range(pricing_simulation_years):\n",
    "    loss_events, loss_meta = generator.generate_losses(duration=1, revenue=base_manufacturer.base_revenue)\n",
    "    for loss_event in loss_events:\n",
    "        insured_loss = max(min(loss_event.amount, policy_limit) - deductible,0)\n",
    "        \n",
    "        total_insured_loss += insured_loss\n",
    "        insured_loss_list.append(insured_loss)\n",
    "\n",
    "        retained_loss = loss_event.amount - insured_loss\n",
    "        total_retained_loss += retained_loss\n",
    "        retained_loss_list.append(retained_loss)\n",
    "\n",
    "average_annual_insured_loss = total_insured_loss / pricing_simulation_years\n",
    "average_annual_retained_loss = total_retained_loss / pricing_simulation_years\n",
    "print(f\"Average Annual Insured Loss: ${average_annual_insured_loss:,.0f}\")\n",
    "print(f\"Average Annual Retained Loss: ${average_annual_retained_loss:,.0f}\")\n",
    "\n",
    "loss_ratio = 0.70\n",
    "\n",
    "annual_premium = average_annual_insured_loss / loss_ratio\n",
    "print(f\"Annual Premium: ${annual_premium:,.0f}\")\n",
    "\n",
    "total_cost_of_risk = annual_premium + average_annual_retained_loss\n",
    "print(f\"Total Annual Cost of Risk: ${total_cost_of_risk:,.0f}\")\n",
    "\n",
    "cur_operating_income = base_manufacturer.calculate_operating_income(cur_revenue)\n",
    "\n",
    "cur_net_income = base_manufacturer.calculate_net_income(\n",
    "                    operating_income=cur_operating_income,\n",
    "                    collateral_costs=0.0,\n",
    "                    insurance_premiums=annual_premium,\n",
    "                    insurance_losses=average_annual_retained_loss,\n",
    "                    use_accrual=True,\n",
    "                    time_resolution=\"annual\",\n",
    "                )\n",
    "\n",
    "cur_net_income\n",
    "\n",
    "target_net_income = base_manufacturer.base_revenue * target_ebita_margin * (1 - base_manufacturer.tax_rate)\n",
    "target_net_income\n",
    "\n",
    "net_margin_diff = abs(cur_net_income - target_net_income) / cur_revenue\n",
    "\n",
    "# assert net_margin_diff < 0.0005, f\"Net income not within 0.05% of target ({net_margin_diff:.2%} difference)\"\n",
    "\n",
    "net_margin = cur_net_income / cur_revenue\n",
    "print(f\"Net Margin after insurance: {net_margin:.2%}\")\n",
    "print(f\"EBITA Margin after insurance: {net_margin / (1 - base_manufacturer.tax_rate):.2%}\")"
   ]
  },
  {
   "cell_type": "markdown",
   "id": "e3cb442c",
   "metadata": {},
   "source": [
    "### Define the Insurance Program"
   ]
  },
  {
   "cell_type": "code",
   "execution_count": 16,
   "id": "474e753b",
   "metadata": {},
   "outputs": [
    {
     "name": "stdout",
     "output_type": "stream",
     "text": [
      "Total Program Premium: $392,560.96\n"
     ]
    }
   ],
   "source": [
    "from ergodic_insurance.insurance_pricing import InsurancePricer, PricingParameters\n",
    "\n",
    "policy_pricer = InsurancePricer(loss_generator=generator,\n",
    "                                loss_ratio=loss_ratio,\n",
    "                                parameters=PricingParameters(\n",
    "                                    loss_ratio=loss_ratio,\n",
    "                                    simulation_years=100_000\n",
    "                                    )\n",
    "                                )\n",
    "\n",
    "all_layers = EnhancedInsuranceLayer(\n",
    "                attachment_point=deductible,\n",
    "                limit=policy_limit,\n",
    "                limit_type='per-occurrence',\n",
    "                base_premium_rate=annual_premium / policy_limit  # Use small premium\n",
    "            )\n",
    "\n",
    "program = InsuranceProgram([all_layers],\n",
    "                            pricing_enabled=True,\n",
    "                            pricer=policy_pricer)\n",
    "\n",
    "total_premium = program.calculate_annual_premium()\n",
    "print(f\"Total Program Premium: ${total_premium:,.2f}\")\n",
    "\n",
    "# The assertion should check against the small premium\n",
    "assert abs(total_premium - annual_premium) < 1.0, f\"Calculated premium ({total_premium:,.0f}) does not match target premium ({annual_premium:,.0f})\""
   ]
  },
  {
   "cell_type": "markdown",
   "id": "aede05e2",
   "metadata": {},
   "source": [
    "## Set Up the Simulation"
   ]
  },
  {
   "cell_type": "code",
   "execution_count": 17,
   "id": "168597a6",
   "metadata": {},
   "outputs": [
    {
     "name": "stdout",
     "output_type": "stream",
     "text": [
      "Setting up Monte Carlo engine with Insurance...\n",
      "Engine configured: 1,000 simulations, 10 years\n",
      "Parallel processing: False\n",
      "Number of chains: 4\n",
      "Deductible: 0.0\n"
     ]
    }
   ],
   "source": [
    "from ergodic_insurance.monte_carlo import MonteCarloEngine, SimulationConfig, SimulationResults\n",
    "\n",
    "def setup_simulation_engine(n_simulations=10_000, n_years=10, parallel=False, insurance_program=None):\n",
    "    \"\"\"Set up Monte Carlo simulation engine.\"\"\"\n",
    "    # Create simulation config\n",
    "    config = SimulationConfig(\n",
    "        n_simulations=n_simulations,\n",
    "        n_years=n_years,\n",
    "        n_chains=4,\n",
    "        parallel=parallel,\n",
    "        n_workers=None,\n",
    "        chunk_size=max(1000, n_simulations // 10),\n",
    "        use_float32=True,\n",
    "        cache_results=False,\n",
    "        progress_bar=True,\n",
    "        ruin_evaluation=[5, 10, 15, 20, 25, 30, 35, 40, 45, 50],\n",
    "        working_capital_pct=0.0,  # Set working capital to 0% for full asset revenue generation\n",
    "        seed=42\n",
    "    )\n",
    "    \n",
    "    if insurance_program is None:\n",
    "        insurance_program = InsuranceProgram(\n",
    "                                layers=[],  # Empty list to define no coverage\n",
    "                                deductible=0.0,  # No deductible needed since all losses are retained\n",
    "                                pricer=None,\n",
    "                                name=\"No Insurance\"\n",
    "                            )\n",
    "\n",
    "    # Create engine\n",
    "    engine = MonteCarloEngine(\n",
    "        loss_generator=generator,\n",
    "        insurance_program=insurance_program,\n",
    "        manufacturer=base_manufacturer,\n",
    "        config=config\n",
    "    )\n",
    "    \n",
    "    return engine\n",
    "\n",
    "# Create engine\n",
    "print(\"Setting up Monte Carlo engine with Insurance...\")\n",
    "engine = setup_simulation_engine(n_simulations=NUM_SIMULATIONS, n_years=SIM_YEARS, parallel=False, insurance_program=program)\n",
    "print(f\"Engine configured: {engine.config.n_simulations:,} simulations, {engine.config.n_years} years\")\n",
    "print(f\"Parallel processing: {engine.config.parallel}\")\n",
    "print(f\"Number of chains: {engine.config.n_chains}\")\n",
    "print(f\"Deductible: {engine.insurance_program.deductible}\")"
   ]
  },
  {
   "cell_type": "markdown",
   "id": "b71fed8c",
   "metadata": {},
   "source": [
    "### Set Up the Simulation Without Insurance"
   ]
  },
  {
   "cell_type": "code",
   "execution_count": 18,
   "id": "82b0b72f",
   "metadata": {},
   "outputs": [
    {
     "name": "stdout",
     "output_type": "stream",
     "text": [
      "Setting up Monte Carlo engine without Insurance...\n",
      "Engine configured: 1,000 simulations, 10 years\n",
      "Parallel processing: False\n",
      "Number of chains: 4\n",
      "Deductible: 0.0\n"
     ]
    }
   ],
   "source": [
    "# Create engine without insurance\n",
    "print(\"Setting up Monte Carlo engine without Insurance...\")\n",
    "engine_no_ins = setup_simulation_engine(n_simulations=NUM_SIMULATIONS, n_years=SIM_YEARS, parallel=False, insurance_program=None)\n",
    "print(f\"Engine configured: {engine_no_ins.config.n_simulations:,} simulations, {engine_no_ins.config.n_years} years\")\n",
    "print(f\"Parallel processing: {engine_no_ins.config.parallel}\")\n",
    "print(f\"Number of chains: {engine_no_ins.config.n_chains}\")\n",
    "print(f\"Deductible: {engine_no_ins.insurance_program.deductible}\")"
   ]
  },
  {
   "cell_type": "markdown",
   "id": "4bca92d4",
   "metadata": {},
   "source": [
    "## Run the Simulation"
   ]
  },
  {
   "cell_type": "code",
   "execution_count": 19,
   "id": "96c6c5fb",
   "metadata": {},
   "outputs": [
    {
     "name": "stderr",
     "output_type": "stream",
     "text": [
      "Running simulations:   0%|          | 0/1000 [00:00<?, ?it/s]Company became insolvent - negative equity: $-20,884,870.00\n",
      "Company became insolvent - negative equity: $-36,126,463.99\n",
      "Running simulations: 100%|██████████| 1000/1000 [00:04<00:00, 200.14it/s]\n",
      "Running simulations:   2%|▏         | 20/1000 [00:00<00:04, 198.45it/s]Company became insolvent - negative equity: $-441,922.51\n",
      "Company became insolvent - negative equity: $-612,853.36\n",
      "Company became insolvent - negative equity: $-1,628,154.17\n",
      "Running simulations:   6%|▋         | 63/1000 [00:00<00:04, 198.99it/s]Company became insolvent - negative equity: $-849,126.88\n",
      "Company became insolvent - negative equity: $-7,720,110.54\n",
      "Company became insolvent - negative equity: $-1,902,719.91\n",
      "Running simulations:   8%|▊         | 84/1000 [00:00<00:04, 188.46it/s]Company became insolvent - negative equity: $-13,059,490.18\n",
      "Company became insolvent - negative equity: $-1,526,435.31\n",
      "Company became insolvent - negative equity: $-2,548,611.17\n",
      "Company became insolvent - negative equity: $-316,902.49\n",
      "Running simulations:  11%|█         | 108/1000 [00:00<00:04, 204.22it/s]Company became insolvent - negative equity: $-3,862,947.85\n",
      "Company became insolvent - negative equity: $-3,757,607.68\n",
      "Company became insolvent - negative equity: $-709,124.91\n",
      "Company became insolvent - negative equity: $-23,779,439.79\n",
      "Company became insolvent - negative equity: $-678,710.43\n",
      "Running simulations:  13%|█▎        | 129/1000 [00:00<00:04, 185.64it/s]Company became insolvent - negative equity: $-8,333,947.00\n",
      "Running simulations:  15%|█▍        | 149/1000 [00:00<00:04, 188.08it/s]Company became insolvent - negative equity: $-559,018.36\n",
      "Company became insolvent - negative equity: $-973,832.39\n",
      "Running simulations:  17%|█▋        | 171/1000 [00:00<00:04, 196.73it/s]Company became insolvent - negative equity: $-9,346,037.92\n",
      "Company became insolvent - negative equity: $-287,764.50\n",
      "Running simulations:  19%|█▉        | 191/1000 [00:01<00:04, 185.27it/s]Company became insolvent - negative equity: $-7,865,926.61\n",
      "Company became insolvent - negative equity: $-2,615,986.77\n",
      "Company became insolvent - negative equity: $-2,441,509.27\n",
      "Running simulations:  21%|██        | 210/1000 [00:01<00:04, 177.01it/s]Company became insolvent - negative equity: $-27,055,222.09\n",
      "Running simulations:  25%|██▌       | 253/1000 [00:01<00:03, 193.19it/s]Company became insolvent - negative equity: $-2,568,091.42\n",
      "Company became insolvent - negative equity: $-2,277,627.67\n",
      "Company became insolvent - negative equity: $-16,406,377.61\n",
      "Company became insolvent - negative equity: $-1,502,225.44\n",
      "Company became insolvent - negative equity: $-933,048.37\n",
      "Company became insolvent - negative equity: $-1,681,016.63\n",
      "Running simulations:  27%|██▋       | 273/1000 [00:01<00:03, 189.79it/s]Company became insolvent - negative equity: $-3,562,523.57\n",
      "Company became insolvent - negative equity: $-6,138,369.92\n",
      "Company became insolvent - negative equity: $-1,157,744.99\n",
      "Company became insolvent - negative equity: $-5,177,501.64\n",
      "Company became insolvent - negative equity: $-523,399.73\n",
      "Company became insolvent - negative equity: $-4,543,016.66\n",
      "Running simulations:  29%|██▉       | 293/1000 [00:01<00:03, 182.60it/s]Company became insolvent - negative equity: $-5,239,650.06\n",
      "Company became insolvent - negative equity: $-28,873,562.16\n",
      "Company became insolvent - negative equity: $-77,732,526.38\n",
      "Running simulations:  31%|███▏      | 313/1000 [00:01<00:03, 186.84it/s]Company became insolvent - negative equity: $-34,173,640.23\n",
      "Company became insolvent - negative equity: $-4,876,093.43\n",
      "Running simulations:  33%|███▎      | 332/1000 [00:01<00:03, 179.57it/s]Company became insolvent - negative equity: $-397,638.09\n",
      "Company became insolvent - negative equity: $-896,740.76\n",
      "Running simulations:  36%|███▌      | 355/1000 [00:01<00:03, 191.98it/s]Company became insolvent - negative equity: $-826,694.92\n",
      "Running simulations:  38%|███▊      | 377/1000 [00:01<00:03, 196.30it/s]Company became insolvent - negative equity: $-6,240,595.82\n",
      "Company became insolvent - negative equity: $-14,566,848.49\n",
      "Running simulations:  40%|████      | 400/1000 [00:02<00:02, 204.33it/s]Company became insolvent - negative equity: $-1,789,115.59\n",
      "Company became insolvent - negative equity: $-342,725.69\n",
      "Company became insolvent - negative equity: $-5,070,280.98\n",
      "Running simulations:  42%|████▏     | 421/1000 [00:02<00:02, 204.73it/s]Company became insolvent - negative equity: $-594,187.58\n",
      "Company became insolvent - negative equity: $-3,104,658.18\n",
      "Running simulations:  44%|████▍     | 444/1000 [00:02<00:02, 209.03it/s]Company became insolvent - negative equity: $-179,410.15\n",
      "Company is already insolvent, skipping step\n",
      "Company is already insolvent, skipping step\n",
      "Company is already insolvent, skipping step\n",
      "Company is already insolvent, skipping step\n",
      "Company is already insolvent, skipping step\n",
      "Company is already insolvent, skipping step\n",
      "Company is already insolvent, skipping step\n",
      "Company became insolvent - negative equity: $-11,843,691.12\n",
      "Company became insolvent - negative equity: $-1,415,943.03\n",
      "Company became insolvent - negative equity: $-2,568,706.38\n",
      "Company became insolvent - negative equity: $-2,195,985.76\n",
      "Company became insolvent - negative equity: $-4,106,522.33\n",
      "Running simulations:  46%|████▋     | 465/1000 [00:02<00:02, 193.08it/s]Company became insolvent - negative equity: $-5,464,794.87\n",
      "Company became insolvent - negative equity: $-6,047,068.61\n",
      "Running simulations:  48%|████▊     | 485/1000 [00:02<00:02, 176.91it/s]Company became insolvent - negative equity: $-833.02\n",
      "Company is already insolvent, skipping step\n",
      "Company became insolvent - negative equity: $-1,025,007.08\n",
      "Company became insolvent - negative equity: $-2,692,168.25\n",
      "Running simulations:  50%|█████     | 504/1000 [00:02<00:02, 170.42it/s]Company became insolvent - negative equity: $-9,068,581.16\n",
      "Running simulations:  52%|█████▏    | 522/1000 [00:02<00:02, 164.53it/s]Company became insolvent - negative equity: $-314,502.70\n",
      "Running simulations:  56%|█████▌    | 558/1000 [00:03<00:02, 168.64it/s]Company became insolvent - negative equity: $-463,895.88\n",
      "Company became insolvent - negative equity: $-172,171.33\n",
      "Running simulations:  58%|█████▊    | 576/1000 [00:03<00:02, 166.28it/s]Company became insolvent - negative equity: $-2,809,534.18\n",
      "Company became insolvent - negative equity: $-8,025,829.55\n",
      "Company became insolvent - negative equity: $-1,280,911.70\n",
      "Running simulations:  60%|█████▉    | 595/1000 [00:03<00:02, 172.15it/s]Company became insolvent - negative equity: $-1,029,987.82\n",
      "Company became insolvent - negative equity: $-585,680.91\n",
      "Company became insolvent - negative equity: $-3,963,470.54\n",
      "Running simulations:  65%|██████▌   | 654/1000 [00:03<00:01, 174.81it/s]Company became insolvent - negative equity: $-527,385.06\n",
      "Company became insolvent - negative equity: $-6,513,528.49\n",
      "Company became insolvent - negative equity: $-5,033,904.27\n",
      "Running simulations:  67%|██████▋   | 673/1000 [00:03<00:01, 176.62it/s]Company became insolvent - negative equity: $-1,058,554.70\n",
      "Running simulations:  69%|██████▉   | 691/1000 [00:03<00:01, 166.25it/s]Company became insolvent - negative equity: $-2,684,763.23\n",
      "Company became insolvent - negative equity: $-10,436,298.40\n",
      "Company became insolvent - negative equity: $-5,531,581.90\n",
      "Running simulations:  71%|███████   | 708/1000 [00:03<00:01, 163.57it/s]Company became insolvent - negative equity: $-13,873,467.56\n",
      "Company became insolvent - negative equity: $-2,036,600.83\n",
      "Running simulations:  72%|███████▎  | 725/1000 [00:04<00:01, 164.27it/s]Company became insolvent - negative equity: $-4,732,727.27\n",
      "Company became insolvent - negative equity: $-17,278,611.25\n",
      "Company became insolvent - negative equity: $-3,563,628.90\n",
      "Running simulations:  74%|███████▍  | 742/1000 [00:04<00:01, 161.17it/s]Company became insolvent - negative equity: $-5,801,407.53\n",
      "Company became insolvent - negative equity: $-1,864,330.25\n",
      "Running simulations:  78%|███████▊  | 781/1000 [00:04<00:01, 176.60it/s]Company became insolvent - negative equity: $-22,688,593.58\n",
      "Company became insolvent - negative equity: $-2,192,230.84\n",
      "Company became insolvent - negative equity: $-3,027,593.67\n",
      "Running simulations:  82%|████████▏ | 816/1000 [00:04<00:01, 166.96it/s]Company became insolvent - negative equity: $-4,731,553.53\n",
      "Company became insolvent - negative equity: $-656,052.38\n",
      "Running simulations:  84%|████████▎ | 837/1000 [00:04<00:00, 176.33it/s]Company became insolvent - negative equity: $-1,208,061.04\n",
      "Running simulations:  86%|████████▌ | 857/1000 [00:04<00:00, 181.58it/s]Company became insolvent - negative equity: $-73,125.16\n",
      "Company became insolvent - negative equity: $-3,425,391.18\n",
      "Company became insolvent - negative equity: $-2,060,476.36\n",
      "Company became insolvent - negative equity: $-1,158,169.55\n",
      "Running simulations:  88%|████████▊ | 876/1000 [00:04<00:00, 175.62it/s]Company became insolvent - negative equity: $-7,782,859.25\n",
      "Company became insolvent - negative equity: $-17,318,835.88\n",
      "Running simulations:  90%|████████▉ | 897/1000 [00:04<00:00, 183.79it/s]Company became insolvent - negative equity: $-12,858,985.55\n",
      "Company became insolvent - negative equity: $-84,905,941.73\n",
      "Running simulations:  92%|█████████▏| 919/1000 [00:05<00:00, 192.29it/s]Company became insolvent - negative equity: $-831,956.13\n",
      "Company became insolvent - negative equity: $-20,552,946.37\n",
      "Company became insolvent - negative equity: $-701,243.40\n",
      "Company became insolvent - negative equity: $-28,364,490.98\n",
      "Running simulations:  94%|█████████▍| 939/1000 [00:05<00:00, 179.38it/s]Company became insolvent - negative equity: $-2,795,383.41\n",
      "Company became insolvent - negative equity: $-577,933.25\n",
      "Company became insolvent - negative equity: $-533,006.25\n",
      "Company became insolvent - negative equity: $-1,916,457.35\n",
      "Running simulations:  96%|█████████▌| 958/1000 [00:05<00:00, 179.84it/s]Company became insolvent - negative equity: $-19,021.14\n",
      "Company is already insolvent, skipping step\n",
      "Company is already insolvent, skipping step\n",
      "Company is already insolvent, skipping step\n",
      "Company is already insolvent, skipping step\n",
      "Company is already insolvent, skipping step\n",
      "Company is already insolvent, skipping step\n",
      "Company is already insolvent, skipping step\n",
      "Company became insolvent - negative equity: $-2,118,300.58\n",
      "Company became insolvent - negative equity: $-3,760,163.30\n",
      "Running simulations:  98%|█████████▊| 977/1000 [00:05<00:00, 169.24it/s]Company became insolvent - negative equity: $-8,451,850.40\n",
      "Company became insolvent - negative equity: $-19,352,161.39\n",
      "Company became insolvent - negative equity: $-1,234,765.08\n",
      "Running simulations: 100%|██████████| 1000/1000 [00:05<00:00, 178.76it/s]\n"
     ]
    }
   ],
   "source": [
    "results = engine.run()\n",
    "results_no_ins = engine_no_ins.run()"
   ]
  },
  {
   "cell_type": "code",
   "execution_count": 20,
   "id": "8e755655",
   "metadata": {},
   "outputs": [],
   "source": [
    "import pickle\n",
    "\n",
    "filename = f\"results\\Cap ({INITIAL_ASSETS/1_000_000:.0f}M) -\\\n",
    " ATR ({ASSET_TURNOVER_RATIO}) -\\\n",
    " EBITA ({EBITA_MARGIN_TARGET}) -\\\n",
    " XS_Kurt ({EXCESS_KURTOSIS:.0f}) -\\\n",
    " Ded ({DEDUCTIBLE/1_000:.0f}K) -\\\n",
    " LR ({LOSS_RATIO}) -\\\n",
    " {NUM_SIMULATIONS/1_000:.0f}K Sims -\\\n",
    " {SIM_YEARS} Yrs.pkl\"\n",
    "\n",
    "with open(filename, \"wb\") as f:\n",
    "    pickle.dump(results, f, protocol=pickle.HIGHEST_PROTOCOL)"
   ]
  },
  {
   "cell_type": "code",
   "execution_count": 21,
   "id": "f45e17ce",
   "metadata": {},
   "outputs": [],
   "source": [
    "filename_no_ins = f\"results\\Cap ({INITIAL_ASSETS/1_000_000:.0f}M) -\\\n",
    " ATR ({ASSET_TURNOVER_RATIO}) -\\\n",
    " EBITA ({EBITA_MARGIN_TARGET}) -\\\n",
    " XS_Kurt ({EXCESS_KURTOSIS:.0f}) -\\\n",
    " NOINS -\\\n",
    " {NUM_SIMULATIONS/1_000:.0f}K Sims -\\\n",
    " {SIM_YEARS} Yrs.pkl\"\n",
    "\n",
    "with open(filename_no_ins, \"wb\") as f:\n",
    "    pickle.dump(results_no_ins, f, protocol=pickle.HIGHEST_PROTOCOL)"
   ]
  },
  {
   "cell_type": "code",
   "execution_count": 22,
   "id": "e7767b1a",
   "metadata": {},
   "outputs": [
    {
     "name": "stdout",
     "output_type": "stream",
     "text": [
      "Simulation Results Summary\n",
      "==================================================\n",
      "Simulations: 1,000\n",
      "Years: 10\n",
      "Execution Time: 5.46s\n",
      "Ruin Probability:\n",
      "  Year 5: 0.10%\n",
      "  Year 10: 0.20%\n",
      "Mean Final Assets: $11,412,095\n",
      "Mean Growth Rate: 0.0139\n",
      "VaR(99%): $24,496,768\n",
      "TVaR(99%): $36,316,444\n",
      "Convergence R-hat: 1.002\n",
      "\n",
      "==================================================\n",
      "Performance Summary\n",
      "==================================================\n",
      "Total Time: 5.46s\n",
      "Setup: 0.00s\n",
      "Computation: 5.46s\n",
      "Serialization: 0.00s (0.0% overhead)\n",
      "Reduction: 0.00s\n",
      "Peak Memory: 0.3 MB\n",
      "CPU Utilization: 0.0%\n",
      "Throughput: 183 items/s\n",
      "Speedup: 1.00x\n",
      "\n",
      "==================================================\n",
      "Advanced Aggregation Results:\n",
      "  p1: $11,422,627\n",
      "  p5: $11,422,627\n",
      "  p10: $11,422,627\n",
      "  p25: $11,445,913\n",
      "  p50: $11,484,505\n",
      "  p75: $11,522,719\n",
      "  p90: $11,568,575\n",
      "  p95: $11,603,366\n",
      "  p99: $11,658,327\n",
      "\n"
     ]
    }
   ],
   "source": [
    "print(results.summary())"
   ]
  },
  {
   "cell_type": "code",
   "execution_count": 23,
   "id": "80dcef59",
   "metadata": {},
   "outputs": [
    {
     "name": "stdout",
     "output_type": "stream",
     "text": [
      "Simulation Results Summary\n",
      "==================================================\n",
      "Simulations: 1,000\n",
      "Years: 10\n",
      "Execution Time: 5.92s\n",
      "Ruin Probability:\n",
      "  Year 5: 5.50%\n",
      "  Year 10: 11.10%\n",
      "Mean Final Assets: $7,692,022\n",
      "Mean Growth Rate: -0.0185\n",
      "VaR(99%): $16,614,079\n",
      "TVaR(99%): $28,758,938\n",
      "Convergence R-hat: 1.002\n",
      "\n",
      "==================================================\n",
      "Performance Summary\n",
      "==================================================\n",
      "Total Time: 5.92s\n",
      "Setup: 0.00s\n",
      "Computation: 5.92s\n",
      "Serialization: 0.00s (0.0% overhead)\n",
      "Reduction: 0.00s\n",
      "Peak Memory: 0.3 MB\n",
      "CPU Utilization: 0.0%\n",
      "Throughput: 169 items/s\n",
      "Speedup: 1.00x\n",
      "\n",
      "==================================================\n",
      "Advanced Aggregation Results:\n",
      "  p1: $-17,297,401\n",
      "  p5: $-2,903,773\n",
      "  p10: $-355,176\n",
      "  p25: $7,294,196\n",
      "  p50: $10,310,082\n",
      "  p75: $11,353,258\n",
      "  p90: $11,893,906\n",
      "  p95: $12,074,985\n",
      "  p99: $12,369,164\n",
      "\n"
     ]
    }
   ],
   "source": [
    "print(results_no_ins.summary())"
   ]
  },
  {
   "cell_type": "code",
   "execution_count": 24,
   "id": "17c5294e",
   "metadata": {},
   "outputs": [
    {
     "name": "stdout",
     "output_type": "stream",
     "text": [
      "Results with insurance already loaded.\n",
      "Results without insurance already loaded.\n"
     ]
    }
   ],
   "source": [
    "# Import required libraries\n",
    "import numpy as np\n",
    "import pandas as pd\n",
    "import matplotlib.pyplot as plt\n",
    "import seaborn as sns\n",
    "from typing import List, Dict, Any\n",
    "import warnings\n",
    "import sys\n",
    "from pathlib import Path\n",
    "warnings.filterwarnings('ignore')\n",
    "\n",
    "# Set plotting style\n",
    "plt.style.use('seaborn-v0_8-darkgrid')\n",
    "sns.set_palette(\"husl\")\n",
    "\n",
    "from ergodic_insurance.config import ManufacturerConfig\n",
    "from ergodic_insurance.manufacturer import WidgetManufacturer\n",
    "from ergodic_insurance.exposure_base import RevenueExposure\n",
    "from ergodic_insurance.insurance import InsurancePolicy, InsuranceLayer\n",
    "from ergodic_insurance.simulation import Simulation, SimulationResults\n",
    "from ergodic_insurance.ergodic_analyzer import ErgodicAnalyzer\n",
    "from ergodic_insurance.loss_distributions import ManufacturingLossGenerator\n",
    "from ergodic_insurance.insurance_program import EnhancedInsuranceLayer, InsuranceProgram\n",
    "\n",
    "# Read the specified pickle file (tries results/ directory first)\n",
    "results_filename = \"Cap (10M) - ATR (1.0) - EBITA (0.05) - XS_Kurt (3728) - Ded (50K) - LR (0.7).pkl\"\n",
    "\n",
    "candidate_paths = [Path(\"results\") / results_filename, Path(results_filename)]\n",
    "\n",
    "if results is None:\n",
    "    for p in candidate_paths:\n",
    "        if p.exists():\n",
    "            with open(p, \"rb\") as f:\n",
    "                results = pickle.load(f)\n",
    "            print(f\"Loaded pickle from: {p}\")\n",
    "            break\n",
    "\n",
    "    if results is None:\n",
    "        print(f\"File not found in: {[str(p) for p in candidate_paths]}\")\n",
    "    else:\n",
    "        # If this is a SimulationResults object, show a brief summary\n",
    "        if hasattr(results, \"summary\"):\n",
    "            try:\n",
    "                print(results.summary())\n",
    "            except Exception as e:\n",
    "                print(f\"Could not print summary: {e}\")\n",
    "        else:\n",
    "            print(f\"Loaded object type: {type(results)}\")\n",
    "else:\n",
    "    print(\"Results with insurance already loaded.\")\n",
    "\n",
    "# Read the specified pickle file (tries results/ directory first)\n",
    "results_no_ins_filename = \"Cap (10M) - ATR (1.0) - EBITA (0.05) - XS_Kurt (3728) - NOINS.pkl\"\n",
    "\n",
    "candidate_paths = [Path(\"results\") / results_no_ins_filename, Path(results_no_ins_filename)]\n",
    "\n",
    "if results_no_ins is None:\n",
    "    for p in candidate_paths:\n",
    "        if p.exists():\n",
    "            with open(p, \"rb\") as f:\n",
    "                results_no_ins = pickle.load(f)\n",
    "            print(f\"Loaded pickle from: {p}\")\n",
    "            break\n",
    "\n",
    "    if results_no_ins is None:\n",
    "        print(f\"File not found in: {[str(p) for p in candidate_paths]}\")\n",
    "    else:\n",
    "        # If this is a SimulationResults object, show a brief summary\n",
    "        if hasattr(results_no_ins, \"summary\"):\n",
    "            try:\n",
    "                print(results_no_ins.summary())\n",
    "            except Exception as e:\n",
    "                print(f\"Could not print summary: {e}\")\n",
    "        else:\n",
    "            print(f\"Loaded object type: {type(results_no_ins)}\")\n",
    "else:\n",
    "    print(\"Results without insurance already loaded.\")"
   ]
  },
  {
   "cell_type": "code",
   "execution_count": 25,
   "id": "92ffb219",
   "metadata": {},
   "outputs": [
    {
     "name": "stdout",
     "output_type": "stream",
     "text": [
      "\n",
      "Ruin Probabilities by Time Horizon:\n",
      "  5 years: 0.10%\n",
      "  10 years: 0.20%\n",
      "\n",
      "Convergence achieved: Yes\n",
      "Growth Rate Summary With Insurance (%): Mean=1.39, Median=1.38, 25th=1.35, 5th=1.33\n",
      "Growth Rate Summary Without Insurance (%): Mean=-1.85, Median=0.31, 25th=-0.72, 5th=-19.31\n"
     ]
    },
    {
     "data": {
      "application/vnd.plotly.v1+json": {
       "config": {
        "plotlyServerURL": "https://plot.ly"
       },
       "data": [
        {
         "line": {
          "color": "#0080C7",
          "width": 2
         },
         "mode": "lines",
         "name": "Insurance (clipped)",
         "type": "scatter",
         "x": {
          "bdata": "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",
          "dtype": "f8"
         },
         "y": {
          "bdata": "AAAAAAAAAAAAAAAAAAAAAAAAAAAAAAAAAAAAAAAAAAAAAAAAAAAAAAAAAAAAAAAAAAAAAAAAAAAAAAAAAAAAAAAAAAAAAAAAAAAAAAAAAAAAAAAAAAAAAAAAAAAAAAAAAAAAAAAAAAAAAAAAAAAAAAAAAAAAAAAAAAAAAAAAAAAAAAAAAAAAAAAAAAAAAAAAAAAAAAAAAAAAAAAAAAAAAAAAAAAAAAAAAAAAAAAAAAAAAAAAAAAAAAAAAAAAAAAAAAAAAAAAAAAAAAAAAAAAAAAAAAAAAAAAAAAAAAAAAAAAAAAAAAAAAAAAAAAAAAAAAAAAAAAAAAAAAAAAAAAAAAAAAAAAAAAAAAAAAAAAAAAAAAAAAAAAAAAAAAAAAAAAAAAAAAAAAAAAAAAAAAAAAAAAAAAAAAAAAAAAAAAAAAAAAAAAAAAAAAAAAAAAAAAAAAAAAAAAAAAAAAAAAAAAAAAAAAAAAAAAAAAAAAAAAAAAAAAAAAAAAAAAAAAAAAAAAAAAAAAAAAAAAAAAAAAAAAAAAAAAAAAAAAAAAAAAAAAAAAAAAAAAAAAAAAAAAAAAAAAAAAAAAAAAAAAAAAAAAAAAAAAAAAAAAAAAAAAAAAAAAAAAAAAAAAAAAAAAAAAAAAAAAAAAAAAAAAAAAAAAAAAAAAAAAAAAAAAAAAAAAAAAAAAAAAAAAAAAAAAAAAAAAAAAAAAAAAAAAAAAAAAAAAAAAAAAAAAAAAAAAAAAAAAAAAAAAAAAAAAAAAAAAAAAAAAAAAAAAAAAAAAAAAAAAAAAAAAAAAAAAAAAAAAAAAAAAAAAAAAAAAAAAAAAAAAAAAAAAAAAAAAAAAAAAAAAAAAAAAAAAAAAAAAAAAAAAAAAAAAAAAAAAAAAAAAAAAAAAAAAAAAAAAAAAAAAAAAAAAAAAAAAAAAAAAAAAAAAAAAAAAAAAAAAAAAAAAAAAAAAAAAAAAAAAAAAAAAAAAAAAAAAAAAAAAAAAAAAAAAAAAAAAAAAAAAAAAAAAAAAAAAAAAAAAAAAAAAAAAAAAAAAAAAAAAAAAAAAAAAAAAAAAAAAAAAAAAAAAAAAAAAAAAAAAAAAAAAAAAAAAAAAAAAAAAAAAAAAAAAAAAAAAAAAAAAAAAAAAAAAAAAAAAAAAAAAAAAAAAAAAAAAAAAAAAAAAAAAAAAAAAAAAAAAAAAAAAAAAAAAAAAAAAAAAAAAAAAAAAAAAAAAAAAAAAAAAAAAAAAAAAAAAAAAAAAAAAAAAAAAAAAAAAAAAAAAAAAAAAAAAAAAAAAAAAAAAAAAAAAAAAAAAAAAAAAAAAAAAAAAAAAAAAAAAAAAAAAAAAAAAAAAAAAAAAAAAAAAAAAAAAAAAAAAAAAAAAAAAAAAAAAAAAAAAAAAAAAAAAAAAAAAAAAAAAAAAAAAAAAAAAAAAAAAAAAAAAAAAAAAAAAAAAAAAAAAAAAAAAAAAAAAAAAAAAAAAAAAAAAAAAAAAAAAAAAAAAAAAAAAAAAAAAAAAAAAAAAAAAAAAAAAAAAAAAAAAAAAAAAAAAAAAAAAAAAAAAAAAAAAAAAAAAAAAAAAAAAAAAAAAAAAAAAAAAAAAAAAAAAAAAAAAAAAAAAAAAAAAAAAAAAAAAAAAAAAAAAAAAAAAAAAAAAAAAAAAAAAAAAAAAAAAAAAAAAAAAAAAAAAAAAAAAAAAAAAAAAAAAAAAAAAAAAAAAAAAAAAAAAAAAAAAAAAAAAAAAAAAAAAAAAAAAAAAAAAAAAAAAAAAAAAAAAAAAAAAAAAAAAAAAAAAAAAAAAA7j0iRNEj1ACjIT67XHLBBCPf2+c5so0Is7r8JjXUOAxRztt8BmXED1RiI+U3dTATMsq7yGYYehbKWQ/dF1OkGZAbM6+HGq8ctPm7R6Vhlx+qy77nf0RhIml8n4F9DgklHRcSQS7ckSeBMl0WdwP5KaJkKCZRNUEsE2bvrdVCZy7goqSB7eNuMPCrPCqIJlQyEcUM3c3TGTTMjJ20yULANVQKTGCqHUQ3EOmIi45yqDhYVfgikTDtOclb1wekHhE7pc/5Anq6Ezwo2BDtzVX2PJfx1daN17g99AUu2AglWz4sdiAouSPdPoX8KdA4uz4/gG2MRi7Xfz9ZrFGLfTSgP8usUYt9NKA/gG2MRi7Xfz/AACrQOLs+P897ICi5I90+9AUu2AglWz74+NXWjde4PSjYEO3NVfY899f5Anq6EzyLY9cHpB4RO1hV+CKRMO05lfeIi45yqDhUCkxgqh1EN7mXnbTJQsA1b9gM3c3TGTTwqzwqiCZUMue9pIHt424wJ3vvrdVCZy6iZCgmUTVBLExMXRZ3A/kpFioSQS7ckSdpfJ+BfQ4JJSzgvud/RGEitPm7R6Vhlx9jRDOvhxqvHLx1D90XU6QZMsq7yGYYehbBn1/0XRBWE8njFrkwfp8WTuXD2tUkyxmxKuiSZfzWHMnGmtbWH8MfsowZUEpEjyJblBd34Rw5JVDBJMpw0cMn3Wg0Of+7LipkhwLDxGp3LDlFD/Y0iKEuKnh+OiHMqTC7wJTZ7aaSMgYJ3bsfglo0tlXJe+GDAjYfRi+zN22JNzwezH/HKvE4yhw/4ujMNjrgtkezUMxdO39UhEdXLGM8FMU3gxxSSD2POzizKXYOPmEDtA9+5LI+8cbgbvBWNz+ze/xxtQ2dP7URffcAuuI/UnOXAijoCkAjZWm3tr8aQJS5I1kadx5AL7YOJnOmHUCEY7TnA4UWQCP+GRsfAg1ABJOfyzzHAUB3BYsl3Jz1P7i6Y5rKKec/xeuieRRA0j9FaghQESnBPzYhCtHAe7Q/CCHeoFxioj/4IN8Z7x6WP2arr2QxLY0/2aYjAckZZz+wnTLv9ykiP92kN1HcE7w+MeAor/lRNT4oTahvMM+PPbwGSvv8T8c8rKx7EffI4DtqKyp26r7XOvtr0w5cgLA5FFoSwgKIZjg2W+MMVzn+NiUPg+RT6nM1yaTIvMPIyTPlDSoq5GUAMuOWuhSkfRQwG0UaALYnCS6mGZB6qlbeKyIazDA5+ZEpHmiz7wXsJCd/UWBiFe2XJDgBcZF74eoh88Vzh26rHR+wNJ4EERYwHAZJZVj4IiEZfXON3U7v8RWeuBVouXCiEnOcZYt+oDIPiNw1zRp8ogvpv3y/eAXyB7B9mDLGQiEE/I54sus9MAAAAAAAAAAAAAAAAAAAAAAAAAAAAAAAAAAAAAAAAAAAAAAAAAAAAAAAAAAAAAAAAAAAAAAAAAAAAAAAAAAAAAAAAAAAAAAAAAAAAAAAAAAAAAAAAAAAAAAAAAAAAAAAAAAAAAAAAAAAAAAAAAAAAAAAAAAAAAAAAAAAAAAAAAAAAAAAAAAAAAAAAAAAAAAAAAAAAAAAAAAAAAAAAAAAAAAAAAAAAAAAAAAAAAAAAAAAAAAAAAAAAAAAAAAAAAAAAAAAAAAAAAAAAAAAAAAAAAAAAAAAAAAAAAAAAAAAAAAAAAAAAAAAAAAAAAAAAAAAAAAAAAAAAAAAAAAAAAAAAAAAAAAAAAAAAAAAAAAAAAAAAAAAAAAAAAAAAAAAAAAAAAAAAAAAAAAAAAAAAAAAAAAAAAAAAAAAAAAAAAAAAAAAAAAAAAAAAAAAAAAAAAAAAAAAAAAAAAAAAAAAAAAAAAAAAAAAAAAAAAAAAAAAAAAAAAAAAAAAAAAAAAAAAAAAAAAAAAAAAAAAAAAAAAAAAAAAAAAAAAAAAAAAAAAAAAAAAAAAAAAAAAAAAAAAAAAAAAAAAAAAAAAAAAAAAAAAAAAAAAAAAAAAAAAAAAAAAAAAAAAAAAAAAAAAAAAAAAAAAAAAAAAAAAAAAAAAAAAAAAAAAAAAAAAAAAAAAAAAAAAAAAAAAAAAAAAAAAAAAAAAAAAAAAAAAAAAAAAAAAAAAAAAAAAAAAAAAAAAAAAAAAAAAAAAAAAAAAAAAAAAAAAAAAAAAAAAAAAAAAAAAAAAAAAAAAAAAAAAAAAAAAAAAAAAAAAAAAAAAAAAAAAAAAAAAAAAAAAAAAAAAAAAAAAAAAAAAAAAAAAAAAAAAAAAAAAAAAAAAAAAAAAAAAAAAAAAAAAAAAAAAAAAAAAAAAAAAAAAAAAAAAAAAAAAAAAAAAAAAAAAAAAAAAAAAAAAAAAAAAAAAAAAAAAAAAAAAAAAAAAAAAAAAAAAAAAAAAAAAAAAAAAAAAAAAAAAAAAAAAAAAAAAAAAAAAAAAAAAAAAAAAAAAAAAAAAAAAAAAAAAAAAAAAAAAAAAAAAAAAAAAAAAAAA=",
          "dtype": "f8"
         }
        },
        {
         "line": {
          "color": "#FF9800",
          "width": 2
         },
         "mode": "lines",
         "name": "No Insurance (clipped)",
         "type": "scatter",
         "x": {
          "bdata": "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",
          "dtype": "f8"
         },
         "y": {
          "bdata": "ijlyFqxqdD9XKyhLqbZ1P4xRIzLEDXc/4dZg7kJweD8GegB8e955PxZEQobRWHs/N9hbNrPffD+hVu0AlXN+PxAfBEF2CoA/6d7yQBXigD+huhYj2sCBP9E3US7upoI/eTroiW2Ugz+W2kduY4mEP/8kz2nGhYU/KZ522nSJhj9xOza9MZSHP3YtB/OhpYg/ujw3GUq9iT/ORI0PjdqKP4BIkEKr/Is/G2w9y8IijT/KKsVv0EuOP+i0s4qxdo8///uyaxNRkD8HjggObOaQP78tkVGsepE/fVnGNxYNkj8F0/QI55ySP5Uzp39aKZM/gMNCI66xkz8bV4++JDWUP1YSyd0Js5Q/9bJOP7UqlT9ndwQijpuVPznOGl0OBZY/NoUMLsVmlj86DVKrWcCWP2S4asyMEZc/21dq+jpalz8L+h4fXZqXP+fnCiwJ0pc/8oPDFXIBmD/gGq5D5yiYP7Qmd3fTSJg/FyLmMrthmD+E2r+lOnSYP2TgLDADgZg/jWF9iNiImD+qpBaVjYyYP2KPywwBjZg/cnHQ8BmLmD9Utd7zw4eYP6HZ9+Hrg5g/gbuNG3yAmD9yy7I1WX6YP91SZc9efpg/CO0eqlyBmD+PwaARFIiYP52Ik5w1k5g/qSEWTV+jmD/0VtQVG7mYP+OszcXd1Jg/6+ejWgb3mD/YWCm33R+ZPzF/A7qWT5k/gdiWrk6GmT9ghhgRDsSZPxbmkZ3JCJo/zA/WoGNUmj+vnNuBraaaP+xPlnlp/5o/dI1Db0xemz+UDBnv/8KbP//HXjEkLZw/OSYtKFKcnD/bGUqKHRCdP2Na8dEWiJ0/+zO1Js0Dnj8RkBkq0IKeP/mRFp+xBJ8/8adZ5QaJnz/fBvUgtQegP+9w5/e9S6A/fhQ/enGQoD9QEJzaptWgPxVDACY5G6E/vbxRTgdhoT9IPAoW9KahPzQSN9/l7KE/w5/rYMYyoj/3iD9HgniiP3ZW1MIIvqI/37qfDUsDoz8w9UrrO0ijP3O30CvPjKM/kCMXN/nQoz/bBwuorhSkP4kkOP3jV6Q/k5H/Y42apD9Bg2WintykP/2IAyILHqU/BXMJHcZepT8ACm/swp6lP5L0oHT13aU/pmIjrFIcpj+hkvY10VmmP+ctFQhqlqY/fHpCFRnSpj+vFaPw3QynP8WFVmG8Rqc/HuuE3Lx/pz+HRxbd7LenPwjGjBFf76c/4z42WismqD8tyQiUblyoP5Xs6S5Kkqg/YQa6kOPHqD8N/CNJY/2oP/G7wBz0Mqk/YcBy8MFoqT/5ddaf+J6pPzr9I8vC1ak/LVzOqUgNqj/tpHzvrkWqP2R3pNAVf6o/ip4VM5i5qj+XzjgVS/WqP1oJtTQ9Mqs/8eq8+nZwqz/PL5Kx+q+rPzs0AQTF8Ks/uqvYxM0yrD8UKdv5CHasP96pfCNouqw/l98Mudv/rD9YS87PVEatP+wC+OLGja0/SFG/sinWrT+XwT8xex+uPyBaWXXBaa4/lgBKrQy1rj95FrwMeQGvP3fsFrQwT68/8WPfkG2erz9nVrg4e++vPxB/8mBcIbA/G9p0Tk1MsD/J5nI51niwP/MgtYVJp7A/TJ9qHQfYsD+eS8xrfQuxP5q8qVgqQrE/6A40QJx8sT/VtO3fcruxPzM3BS9g/7E/axmsFSlJsj8iLVf0pZmyPzT8aunC8bI/cTHQwX9Ssz9lXnR/77yzP31U/V83MrQ/aJ8XTo2ztD/gke2oNUK1P/Wulk+A37U/qNLA4cSMtj97C3wrXku3P8Ge6bekHLg/6wuCjegBuT8135Eeavy5P04UP4FSDbs/ZsWeC6s1vD+Dy8x5VHa9P0ZIOM39z74/50aFjo0hwD8Qi6JL7ufAPyh0QPwSu8E/4E9ZYsOawj/LyMvGmYbDPzzPkkkAfsQ/i5+fAy+AxT/3LPAbK4zGP2rt9ezGoMc/cxdmUaO8yD/dWzkoMt7JP5MqJBe6A8s/Ja5oiVsrzD8GEt/eFlPNP8g1yrTTeM4/p5TqJ2mazz9d3NNy01rQP7mIwWwv5NA/8sVcnjdo0T/B9y5k5uXRP4EITGNGXNI/K0YmX3fK0j9Cwq+6si/TP4PCiYRPi9M/vD/R8MXc0z/XP/cmsiPUPy0D407WX9Q/ZrEtzhuR1D8XymWsk7fUP7wcuBt209Q//vrcKSHl1D8Ev3qjFu3UP+A4FTr569Q/hSjkAYni1D8In1lhn9HUP3oflo8qutQ/wGlpwSid1D+mXL4lo3vUP9BybdKoVtQ/LYF3wUkv1D9uT7D8kQbUP1HPBhOF3dM/iDMH7xm10z9yWxciN47TP0Q+eLOvadM/Tud3fUBI0z/78aUejirTP/4Pc4AjEdM/7BSQ8HD80j9RZ8DGy+zSPxDnvI1u4tI/XJNFo3nd0j9Mxp9B9N3SPwaZe+PN49I/P0uN8t/u0j+SWwKx7/7SP/hUTE6wE9M/3YlxGMUs0z+cJBm8w0nTP4NJx4Y2atM//tUjoJ6N0z8U+KAwdrPTP+uCV20y29M/9bVpgkUE1D+efKlWIC7UPxBilyQ0WNQ/rKIQ5vOB1D9xLiyR1arUP7zq2CVT0tQ/Z8fMjOv31D/0ST5JIxvVP3qquv+EO9U/ylEy1aFY1T9OGgyqEXLVP91uszVzh9U/GDSjB2yY1T8KFGNzqKTVP30sQW3bq9U/KcXBXb6t1T/ZMMTxEKrVPwipMu2YoNU/qm63BSKR1T/fNmLKfXvVP6mbZpyDX9U/3i8qvBA91T/o5LxsCBTVP989mS5U5NQ/c1Q2EeSt1D/G+JgZr3DUP+GfubqzLNQ/JpBRW/jh0z/s4oHji5DTP7jI2EuGONM/qJmJJgna0j9Qz0QbQHXSPxQ8BU5hCtI/71xjqa2Z0T9OZI4FcSPRP92g6CUCqNA//XtqiMIn0D+JvqIGPEbPP0PTYF4UNc4/tJdPOgsdzT//nYa1Lf/LP4yKbY2W3Mo/Gi+cdmu2yT9MMbsp2o3IPw/4fjcVZMc/7iPRtFA6xj8MVp/RvhHFPxovhW2M68M/zRifvd3Iwj/amUYWy6rBPy5VUepdksA/XTFyHxwBvz8Uh9Sufuy8P56x3QZ/6Lo/V+3FR4n2uD+KBl/A1xe3Py0CHF5xTbU/8Wvf+SiYsz8mmEZ7nfixPzKdKMc6b7A/JZxD03b4rT9EB8XQVT+rP8HIRk7Rsqg/GclEjFZSpj8LSMTCCB2kP44ZEi7JEaI/opY/dz8voD8uaeyPxOecP7TU67j/u5k/mJN31YzXlj//31Z1mDaUP2Kj26Au1ZE/GsRMP5Jejz+SrsUUuYGLPwKJFRfIC4g/pLOae9f0hD9exf9AMzWCP4mmGo3Uin8/gChDR7U8ez+Iu+m7dnJ3P+T6nE9HH3Q/H0W5rh83cT84vXo4kV1tPwyFliu692g/uWNAipIpZT8P9lFujeFhP5GiLzdZH14/TMhecOFKWT/JuAtVjStVP9ZxH7nlqVE/FrQIQ+xhTT+WrSaFPVxIPwWmgbbLIUQ/yKBxmpKVQD+eTk2uRDw7Pz3hUVaPSjY/t4lBRnAvMj9oVj3vC5MtP3g7wZoc+Cc/vAUE5bpcIz8du2c6fy0fP7y+zzycBBk/H82uOwgCFD/eCdnH+eQPP5esWT7HVQk/I+r3L1kOBD+7KoGiIqX/Pn+88MoN4fg+VuiWRet98z4dDunlhm/uPi52O0yurec+nT1SbDhb4j5Ulg92FVzcPtVEiTsx1NU+Ktfhgta90D5034N1N5bJPqKJVHZCe8M+aA/nFK+OvT6Uh1tC91a2PptSm5Nx0rA+vd2OTnU9qT5HZWSETN2iPs0eE9SvF5w+Y2PBU5rWlD4Ud1o+DsyOPhSzBWy0q4Y+HrycHOWfgD5GS+ifrkl4Pv/BBCJKrHE+OpUXBZGeaT6nmpiZLn9iPj+bO6Odmlo+76/UUo0OUz4VTgKCgjFLPgdR7GMsU0M+00C8BFhbOz5leZDtNkkzPv11ECZPFSs+Ru10CpbwIj59fUfV+mEaPpXzxtr9TBI+JAiFiSpJCT7TTPX/q2UBPpIorZtY1/c9R6ySzt1E8D3wHYFOuxzmPd5ZJ1UZ7t09W5CmyxEs1D0/BsVzChTLPYQePUNNGcI94aYJ9eIXuD29XDjAcfCvPYr0Vd/bFKU9KsqsboK2mz0avt9QfiOSPauhWpzrpIc9wqgP8t2wfj0KiXDfrNVzPdZXwdxXh2k9YTourudbYD2Y0emZgOBUPfCW4vyEh0o9A+KoxsfIQD0=",
          "dtype": "f8"
         }
        }
       ],
       "layout": {
        "annotations": [
         {
          "showarrow": false,
          "text": "Mean (Ins)",
          "x": 1.38758410718292,
          "xanchor": "left",
          "xref": "x",
          "y": 1,
          "yanchor": "top",
          "yref": "y domain"
         },
         {
          "showarrow": false,
          "text": "25th pct (Ins)",
          "x": 1.3504757778719068,
          "xanchor": "right",
          "xref": "x",
          "y": 1,
          "yanchor": "top",
          "yref": "y domain"
         },
         {
          "showarrow": false,
          "text": "Mean (No Ins)",
          "x": 0.34014736874877854,
          "xanchor": "left",
          "xref": "x",
          "y": 0,
          "yanchor": "bottom",
          "yref": "y domain"
         },
         {
          "showarrow": false,
          "text": "25th pct (No Ins)",
          "x": 0,
          "xanchor": "right",
          "xref": "x",
          "y": 0,
          "yanchor": "bottom",
          "yref": "y domain"
         }
        ],
        "height": 500,
        "legend": {
         "orientation": "h",
         "x": 0.5,
         "xanchor": "center",
         "y": -0.2,
         "yanchor": "top"
        },
        "shapes": [
         {
          "line": {
           "color": "#0080C7",
           "dash": "dash"
          },
          "type": "line",
          "x0": 1.38758410718292,
          "x1": 1.38758410718292,
          "xref": "x",
          "y0": 0,
          "y1": 1,
          "yref": "y domain"
         },
         {
          "line": {
           "color": "#D32F2F",
           "dash": "dot"
          },
          "type": "line",
          "x0": 1.3504757778719068,
          "x1": 1.3504757778719068,
          "xref": "x",
          "y0": 0,
          "y1": 1,
          "yref": "y domain"
         },
         {
          "line": {
           "color": "#FF9800",
           "dash": "dash"
          },
          "type": "line",
          "x0": 0.34014736874877854,
          "x1": 0.34014736874877854,
          "xref": "x",
          "y0": 0,
          "y1": 1,
          "yref": "y domain"
         },
         {
          "line": {
           "color": "#D32F2F",
           "dash": "dot"
          },
          "type": "line",
          "x0": 0,
          "x1": 0,
          "xref": "x",
          "y0": 0,
          "y1": 1,
          "yref": "y domain"
         }
        ],
        "showlegend": true,
        "template": {
         "data": {
          "bar": [
           {
            "error_x": {
             "color": "#2a3f5f"
            },
            "error_y": {
             "color": "#2a3f5f"
            },
            "marker": {
             "line": {
              "color": "white",
              "width": 0.5
             },
             "pattern": {
              "fillmode": "overlay",
              "size": 10,
              "solidity": 0.2
             }
            },
            "type": "bar"
           }
          ],
          "barpolar": [
           {
            "marker": {
             "line": {
              "color": "white",
              "width": 0.5
             },
             "pattern": {
              "fillmode": "overlay",
              "size": 10,
              "solidity": 0.2
             }
            },
            "type": "barpolar"
           }
          ],
          "carpet": [
           {
            "aaxis": {
             "endlinecolor": "#2a3f5f",
             "gridcolor": "#C8D4E3",
             "linecolor": "#C8D4E3",
             "minorgridcolor": "#C8D4E3",
             "startlinecolor": "#2a3f5f"
            },
            "baxis": {
             "endlinecolor": "#2a3f5f",
             "gridcolor": "#C8D4E3",
             "linecolor": "#C8D4E3",
             "minorgridcolor": "#C8D4E3",
             "startlinecolor": "#2a3f5f"
            },
            "type": "carpet"
           }
          ],
          "choropleth": [
           {
            "colorbar": {
             "outlinewidth": 0,
             "ticks": ""
            },
            "type": "choropleth"
           }
          ],
          "contour": [
           {
            "colorbar": {
             "outlinewidth": 0,
             "ticks": ""
            },
            "colorscale": [
             [
              0,
              "#0d0887"
             ],
             [
              0.1111111111111111,
              "#46039f"
             ],
             [
              0.2222222222222222,
              "#7201a8"
             ],
             [
              0.3333333333333333,
              "#9c179e"
             ],
             [
              0.4444444444444444,
              "#bd3786"
             ],
             [
              0.5555555555555556,
              "#d8576b"
             ],
             [
              0.6666666666666666,
              "#ed7953"
             ],
             [
              0.7777777777777778,
              "#fb9f3a"
             ],
             [
              0.8888888888888888,
              "#fdca26"
             ],
             [
              1,
              "#f0f921"
             ]
            ],
            "type": "contour"
           }
          ],
          "contourcarpet": [
           {
            "colorbar": {
             "outlinewidth": 0,
             "ticks": ""
            },
            "type": "contourcarpet"
           }
          ],
          "heatmap": [
           {
            "colorbar": {
             "outlinewidth": 0,
             "ticks": ""
            },
            "colorscale": [
             [
              0,
              "#0d0887"
             ],
             [
              0.1111111111111111,
              "#46039f"
             ],
             [
              0.2222222222222222,
              "#7201a8"
             ],
             [
              0.3333333333333333,
              "#9c179e"
             ],
             [
              0.4444444444444444,
              "#bd3786"
             ],
             [
              0.5555555555555556,
              "#d8576b"
             ],
             [
              0.6666666666666666,
              "#ed7953"
             ],
             [
              0.7777777777777778,
              "#fb9f3a"
             ],
             [
              0.8888888888888888,
              "#fdca26"
             ],
             [
              1,
              "#f0f921"
             ]
            ],
            "type": "heatmap"
           }
          ],
          "histogram": [
           {
            "marker": {
             "pattern": {
              "fillmode": "overlay",
              "size": 10,
              "solidity": 0.2
             }
            },
            "type": "histogram"
           }
          ],
          "histogram2d": [
           {
            "colorbar": {
             "outlinewidth": 0,
             "ticks": ""
            },
            "colorscale": [
             [
              0,
              "#0d0887"
             ],
             [
              0.1111111111111111,
              "#46039f"
             ],
             [
              0.2222222222222222,
              "#7201a8"
             ],
             [
              0.3333333333333333,
              "#9c179e"
             ],
             [
              0.4444444444444444,
              "#bd3786"
             ],
             [
              0.5555555555555556,
              "#d8576b"
             ],
             [
              0.6666666666666666,
              "#ed7953"
             ],
             [
              0.7777777777777778,
              "#fb9f3a"
             ],
             [
              0.8888888888888888,
              "#fdca26"
             ],
             [
              1,
              "#f0f921"
             ]
            ],
            "type": "histogram2d"
           }
          ],
          "histogram2dcontour": [
           {
            "colorbar": {
             "outlinewidth": 0,
             "ticks": ""
            },
            "colorscale": [
             [
              0,
              "#0d0887"
             ],
             [
              0.1111111111111111,
              "#46039f"
             ],
             [
              0.2222222222222222,
              "#7201a8"
             ],
             [
              0.3333333333333333,
              "#9c179e"
             ],
             [
              0.4444444444444444,
              "#bd3786"
             ],
             [
              0.5555555555555556,
              "#d8576b"
             ],
             [
              0.6666666666666666,
              "#ed7953"
             ],
             [
              0.7777777777777778,
              "#fb9f3a"
             ],
             [
              0.8888888888888888,
              "#fdca26"
             ],
             [
              1,
              "#f0f921"
             ]
            ],
            "type": "histogram2dcontour"
           }
          ],
          "mesh3d": [
           {
            "colorbar": {
             "outlinewidth": 0,
             "ticks": ""
            },
            "type": "mesh3d"
           }
          ],
          "parcoords": [
           {
            "line": {
             "colorbar": {
              "outlinewidth": 0,
              "ticks": ""
             }
            },
            "type": "parcoords"
           }
          ],
          "pie": [
           {
            "automargin": true,
            "type": "pie"
           }
          ],
          "scatter": [
           {
            "fillpattern": {
             "fillmode": "overlay",
             "size": 10,
             "solidity": 0.2
            },
            "type": "scatter"
           }
          ],
          "scatter3d": [
           {
            "line": {
             "colorbar": {
              "outlinewidth": 0,
              "ticks": ""
             }
            },
            "marker": {
             "colorbar": {
              "outlinewidth": 0,
              "ticks": ""
             }
            },
            "type": "scatter3d"
           }
          ],
          "scattercarpet": [
           {
            "marker": {
             "colorbar": {
              "outlinewidth": 0,
              "ticks": ""
             }
            },
            "type": "scattercarpet"
           }
          ],
          "scattergeo": [
           {
            "marker": {
             "colorbar": {
              "outlinewidth": 0,
              "ticks": ""
             }
            },
            "type": "scattergeo"
           }
          ],
          "scattergl": [
           {
            "marker": {
             "colorbar": {
              "outlinewidth": 0,
              "ticks": ""
             }
            },
            "type": "scattergl"
           }
          ],
          "scattermap": [
           {
            "marker": {
             "colorbar": {
              "outlinewidth": 0,
              "ticks": ""
             }
            },
            "type": "scattermap"
           }
          ],
          "scattermapbox": [
           {
            "marker": {
             "colorbar": {
              "outlinewidth": 0,
              "ticks": ""
             }
            },
            "type": "scattermapbox"
           }
          ],
          "scatterpolar": [
           {
            "marker": {
             "colorbar": {
              "outlinewidth": 0,
              "ticks": ""
             }
            },
            "type": "scatterpolar"
           }
          ],
          "scatterpolargl": [
           {
            "marker": {
             "colorbar": {
              "outlinewidth": 0,
              "ticks": ""
             }
            },
            "type": "scatterpolargl"
           }
          ],
          "scatterternary": [
           {
            "marker": {
             "colorbar": {
              "outlinewidth": 0,
              "ticks": ""
             }
            },
            "type": "scatterternary"
           }
          ],
          "surface": [
           {
            "colorbar": {
             "outlinewidth": 0,
             "ticks": ""
            },
            "colorscale": [
             [
              0,
              "#0d0887"
             ],
             [
              0.1111111111111111,
              "#46039f"
             ],
             [
              0.2222222222222222,
              "#7201a8"
             ],
             [
              0.3333333333333333,
              "#9c179e"
             ],
             [
              0.4444444444444444,
              "#bd3786"
             ],
             [
              0.5555555555555556,
              "#d8576b"
             ],
             [
              0.6666666666666666,
              "#ed7953"
             ],
             [
              0.7777777777777778,
              "#fb9f3a"
             ],
             [
              0.8888888888888888,
              "#fdca26"
             ],
             [
              1,
              "#f0f921"
             ]
            ],
            "type": "surface"
           }
          ],
          "table": [
           {
            "cells": {
             "fill": {
              "color": "#EBF0F8"
             },
             "line": {
              "color": "white"
             }
            },
            "header": {
             "fill": {
              "color": "#C8D4E3"
             },
             "line": {
              "color": "white"
             }
            },
            "type": "table"
           }
          ]
         },
         "layout": {
          "annotationdefaults": {
           "arrowcolor": "#2a3f5f",
           "arrowhead": 0,
           "arrowwidth": 1
          },
          "autotypenumbers": "strict",
          "coloraxis": {
           "colorbar": {
            "outlinewidth": 0,
            "ticks": ""
           }
          },
          "colorscale": {
           "diverging": [
            [
             0,
             "#8e0152"
            ],
            [
             0.1,
             "#c51b7d"
            ],
            [
             0.2,
             "#de77ae"
            ],
            [
             0.3,
             "#f1b6da"
            ],
            [
             0.4,
             "#fde0ef"
            ],
            [
             0.5,
             "#f7f7f7"
            ],
            [
             0.6,
             "#e6f5d0"
            ],
            [
             0.7,
             "#b8e186"
            ],
            [
             0.8,
             "#7fbc41"
            ],
            [
             0.9,
             "#4d9221"
            ],
            [
             1,
             "#276419"
            ]
           ],
           "sequential": [
            [
             0,
             "#0d0887"
            ],
            [
             0.1111111111111111,
             "#46039f"
            ],
            [
             0.2222222222222222,
             "#7201a8"
            ],
            [
             0.3333333333333333,
             "#9c179e"
            ],
            [
             0.4444444444444444,
             "#bd3786"
            ],
            [
             0.5555555555555556,
             "#d8576b"
            ],
            [
             0.6666666666666666,
             "#ed7953"
            ],
            [
             0.7777777777777778,
             "#fb9f3a"
            ],
            [
             0.8888888888888888,
             "#fdca26"
            ],
            [
             1,
             "#f0f921"
            ]
           ],
           "sequentialminus": [
            [
             0,
             "#0d0887"
            ],
            [
             0.1111111111111111,
             "#46039f"
            ],
            [
             0.2222222222222222,
             "#7201a8"
            ],
            [
             0.3333333333333333,
             "#9c179e"
            ],
            [
             0.4444444444444444,
             "#bd3786"
            ],
            [
             0.5555555555555556,
             "#d8576b"
            ],
            [
             0.6666666666666666,
             "#ed7953"
            ],
            [
             0.7777777777777778,
             "#fb9f3a"
            ],
            [
             0.8888888888888888,
             "#fdca26"
            ],
            [
             1,
             "#f0f921"
            ]
           ]
          },
          "colorway": [
           "#636efa",
           "#EF553B",
           "#00cc96",
           "#ab63fa",
           "#FFA15A",
           "#19d3f3",
           "#FF6692",
           "#B6E880",
           "#FF97FF",
           "#FECB52"
          ],
          "font": {
           "color": "#2a3f5f"
          },
          "geo": {
           "bgcolor": "white",
           "lakecolor": "white",
           "landcolor": "white",
           "showlakes": true,
           "showland": true,
           "subunitcolor": "#C8D4E3"
          },
          "hoverlabel": {
           "align": "left"
          },
          "hovermode": "closest",
          "mapbox": {
           "style": "light"
          },
          "paper_bgcolor": "white",
          "plot_bgcolor": "white",
          "polar": {
           "angularaxis": {
            "gridcolor": "#EBF0F8",
            "linecolor": "#EBF0F8",
            "ticks": ""
           },
           "bgcolor": "white",
           "radialaxis": {
            "gridcolor": "#EBF0F8",
            "linecolor": "#EBF0F8",
            "ticks": ""
           }
          },
          "scene": {
           "xaxis": {
            "backgroundcolor": "white",
            "gridcolor": "#DFE8F3",
            "gridwidth": 2,
            "linecolor": "#EBF0F8",
            "showbackground": true,
            "ticks": "",
            "zerolinecolor": "#EBF0F8"
           },
           "yaxis": {
            "backgroundcolor": "white",
            "gridcolor": "#DFE8F3",
            "gridwidth": 2,
            "linecolor": "#EBF0F8",
            "showbackground": true,
            "ticks": "",
            "zerolinecolor": "#EBF0F8"
           },
           "zaxis": {
            "backgroundcolor": "white",
            "gridcolor": "#DFE8F3",
            "gridwidth": 2,
            "linecolor": "#EBF0F8",
            "showbackground": true,
            "ticks": "",
            "zerolinecolor": "#EBF0F8"
           }
          },
          "shapedefaults": {
           "line": {
            "color": "#2a3f5f"
           }
          },
          "ternary": {
           "aaxis": {
            "gridcolor": "#DFE8F3",
            "linecolor": "#A2B1C6",
            "ticks": ""
           },
           "baxis": {
            "gridcolor": "#DFE8F3",
            "linecolor": "#A2B1C6",
            "ticks": ""
           },
           "bgcolor": "white",
           "caxis": {
            "gridcolor": "#DFE8F3",
            "linecolor": "#A2B1C6",
            "ticks": ""
           }
          },
          "title": {
           "x": 0.05
          },
          "xaxis": {
           "automargin": true,
           "gridcolor": "#EBF0F8",
           "linecolor": "#EBF0F8",
           "ticks": "",
           "title": {
            "standoff": 15
           },
           "zerolinecolor": "#EBF0F8",
           "zerolinewidth": 2
          },
          "yaxis": {
           "automargin": true,
           "gridcolor": "#EBF0F8",
           "linecolor": "#EBF0F8",
           "ticks": "",
           "title": {
            "standoff": 15
           },
           "zerolinecolor": "#EBF0F8",
           "zerolinewidth": 2
          }
         }
        },
        "title": {
         "text": "Time-Average Growth Rate Histogram",
         "x": 0.5,
         "xanchor": "center"
        },
        "width": 800,
        "xaxis": {
         "range": [
          -5,
          5
         ],
         "title": {
          "text": "Time-Average Growth Rate (%)"
         }
        },
        "yaxis": {
         "title": {
          "text": "Density"
         }
        }
       }
      }
     },
     "metadata": {},
     "output_type": "display_data"
    }
   ],
   "source": [
    "import plotly.graph_objects as go\n",
    "from plotly.subplots import make_subplots\n",
    "from ergodic_insurance.visualization.core import WSJ_COLORS\n",
    "import numpy as np\n",
    "\n",
    "# Print results\n",
    "print(f\"\\nRuin Probabilities by Time Horizon:\")\n",
    "for yr, prob in results.ruin_probability.items():\n",
    "    print(f\"  {yr} years: {prob*100:.2f}%\")\n",
    "\n",
    "print(f\"\\nConvergence achieved: {'Yes' if results.convergence else 'No'}\")\n",
    "\n",
    "# --------------------------------------\n",
    "# Time-Average Growth Rate Histogram (1,1)\n",
    "# --------------------------------------\n",
    "fig = go.Figure()\n",
    "\n",
    "# Growth rates with insurance\n",
    "growth_rates = np.asarray(results.growth_rates, dtype=float)\n",
    "growth_rates = growth_rates[np.isfinite(growth_rates)]\n",
    "\n",
    "# Growth rates without insurance\n",
    "growth_rates_no_ins = np.asarray(results_no_ins.growth_rates, dtype=float)\n",
    "growth_rates_no_ins = growth_rates_no_ins[np.isfinite(growth_rates_no_ins)]\n",
    "\n",
    "growth_pct = growth_rates * 100.0\n",
    "mean_growth = np.nanmean(growth_pct)\n",
    "median_growth = np.nanmedian(growth_pct)\n",
    "p5, p25, p95 = np.nanpercentile(growth_pct, [5, 25, 95])\n",
    "print(f\"Growth Rate Summary With Insurance (%): Mean={mean_growth:.2f}, Median={median_growth:.2f}, 25th={p25:.2f}, 5th={p5:.2f}\")\n",
    "\n",
    "growth_pct_no_ins = growth_rates_no_ins * 100.0\n",
    "mean_growth_no_ins = np.nanmean(growth_pct_no_ins)\n",
    "median_growth_no_ins = np.nanmedian(growth_pct_no_ins)\n",
    "p5_no_ins, p25_no_ins, p95_no_ins = np.nanpercentile(growth_pct_no_ins, [5, 25, 95])\n",
    "print(f\"Growth Rate Summary Without Insurance (%): Mean={mean_growth_no_ins:.2f}, Median={median_growth_no_ins:.2f}, 25th={p25_no_ins:.2f}, 5th={p5_no_ins:.2f}\")\n",
    "\n",
    "# Plot Growth Rate With Insurance\n",
    "# Kernel Density Estimate (Gaussian) instead of histogram\n",
    "xs = np.linspace(growth_pct.min(), growth_pct.max(), 400)\n",
    "n = growth_pct.size\n",
    "std = np.std(growth_pct, ddof=1)\n",
    "if std == 0 or n < 2:\n",
    "    # Fallback: flat line at 0\n",
    "    density = np.zeros_like(xs)\n",
    "else:\n",
    "    bw = 1.06 * std * n ** (-1/5)  # Silverman's rule\n",
    "    inv_norm = 1.0 / (bw * np.sqrt(2 * np.pi))\n",
    "    diffs = (xs[:, None] - growth_pct[None, :]) / bw\n",
    "    density = inv_norm * np.exp(-0.5 * diffs**2).mean(axis=1)\n",
    "\n",
    "fig.add_trace(\n",
    "    go.Scatter(\n",
    "        x=xs,\n",
    "        y=density,\n",
    "        mode='lines',\n",
    "        name='Insurance',\n",
    "        line=dict(color=WSJ_COLORS.get('blue', '#1f77b4'), width=2)\n",
    "    )\n",
    ")\n",
    "\n",
    "# Plot Growth Rate Without Insurance\n",
    "# Kernel Density Estimate (Gaussian) instead of histogram\n",
    "xs_no_ins = np.linspace(growth_pct_no_ins.min(), growth_pct_no_ins.max(), 400)\n",
    "n_no_ins = growth_pct_no_ins.size\n",
    "std_no_ins = np.std(growth_pct_no_ins, ddof=1)\n",
    "if std_no_ins == 0 or n_no_ins < 2:\n",
    "    # Fallback: flat line at 0\n",
    "    density = np.zeros_like(xs_no_ins)\n",
    "else:\n",
    "    bw = 1.06 * std_no_ins * n_no_ins ** (-1/5)  # Silverman's rule\n",
    "    inv_norm_no_ins = 1.0 / (bw * np.sqrt(2 * np.pi))\n",
    "    diffs_no_ins = (xs_no_ins[:, None] - growth_pct_no_ins[None, :]) / bw\n",
    "    density_no_ins = inv_norm_no_ins * np.exp(-0.5 * diffs_no_ins**2).mean(axis=1)\n",
    "\n",
    "# Set x-axis to central 99.5% of both distributions (trim 0.25% each tail)\n",
    "try:\n",
    "    lower_q, upper_q = .5, 99.5\n",
    "    lo_ins, hi_ins = np.nanpercentile(growth_pct, [lower_q, upper_q])\n",
    "    lo_no_ins, hi_no_ins = np.nanpercentile(growth_pct_no_ins, [lower_q, upper_q])\n",
    "    x_min = min(lo_ins, lo_no_ins)\n",
    "    x_max = max(hi_ins, hi_no_ins)\n",
    "    pad = 0.01 * (x_max - x_min) if x_max > x_min else 0.0\n",
    "    fig.update_xaxes(range=[x_min - pad, x_max + pad])\n",
    "except Exception as e:\n",
    "    print(f\"Could not apply 99.5% central x-range: {e}\")\n",
    "\n",
    "# Adjust y-axis label to reflect density\n",
    "fig.update_yaxes(title_text=\"Density\")\n",
    "\n",
    "# Recompute KDEs on clipped range [-10, 5] and update plot\n",
    "lower, upper = -5.0, 5.0\n",
    "# Clear existing traces, shapes, annotations\n",
    "fig.data = ()\n",
    "fig.layout.shapes = ()\n",
    "fig.layout.annotations = ()\n",
    "\n",
    "# Clip datasets\n",
    "ins_clip = growth_pct[(growth_pct >= lower) & (growth_pct <= upper)]\n",
    "no_ins_clip = growth_pct_no_ins[(growth_pct_no_ins >= lower) & (growth_pct_no_ins <= upper)]\n",
    "\n",
    "xs_clip = np.linspace(lower, upper, 400)\n",
    "\n",
    "def kde(arr, xs):\n",
    "    n = arr.size\n",
    "    if n < 2:\n",
    "        return np.zeros_like(xs)\n",
    "    std_ = np.std(arr, ddof=1)\n",
    "    if std_ == 0:\n",
    "        return np.zeros_like(xs)\n",
    "    bw = 1.06 * std_ * n ** (-1/5)\n",
    "    inv = 1.0 / (bw * np.sqrt(2 * np.pi))\n",
    "    diffs = (xs[:, None] - arr[None, :]) / bw\n",
    "    return inv * np.exp(-0.5 * diffs**2).mean(axis=1)\n",
    "\n",
    "dens_ins = kde(ins_clip, xs_clip) if ins_clip.size else np.zeros_like(xs_clip)\n",
    "dens_no  = kde(no_ins_clip, xs_clip) if no_ins_clip.size else np.zeros_like(xs_clip)\n",
    "\n",
    "# Add traces\n",
    "fig.add_trace(go.Scatter(\n",
    "    x=xs_clip, y=dens_ins, mode='lines', name='Insurance (clipped)',\n",
    "    line=dict(color=WSJ_COLORS.get('blue', '#1f77b4'), width=2)\n",
    "))\n",
    "fig.add_trace(go.Scatter(\n",
    "    x=xs_clip, y=dens_no, mode='lines', name='No Insurance (clipped)',\n",
    "    line=dict(color=WSJ_COLORS.get('orange', '#ff7f0e'), width=2)\n",
    "))\n",
    "\n",
    "# Stats on clipped data\n",
    "if ins_clip.size:\n",
    "    mean_ins = np.nanmean(ins_clip)\n",
    "    p25_ins = np.nanpercentile(ins_clip, 25)\n",
    "    # Add vertical lines for mean and median\n",
    "    fig.add_vline(x=mean_ins, \n",
    "                line_dash='dash', \n",
    "                line_color=WSJ_COLORS.get('blue', '#1f77b4'), \n",
    "                annotation_text='Mean (Ins)', \n",
    "                annotation_position='top right')\n",
    "    fig.add_vline(x=p25_ins, \n",
    "                line_dash='dot', \n",
    "                line_color=WSJ_COLORS.get('red', '#d62728'), \n",
    "                annotation_text='25th pct (Ins)', \n",
    "                annotation_position='top left')\n",
    "if no_ins_clip.size:\n",
    "    mean_no = np.nanmean(no_ins_clip)\n",
    "    p25_no = np.nanpercentile(no_ins_clip, 25)\n",
    "    # Add vertical lines for mean and median\n",
    "    fig.add_vline(x=mean_no, \n",
    "                line_dash='dash', \n",
    "                line_color=WSJ_COLORS.get('orange', '#ff7f0e'), \n",
    "                annotation_text='Mean (No Ins)', \n",
    "                annotation_position='bottom right')\n",
    "    fig.add_vline(x=p25_no, \n",
    "                line_dash='dot', \n",
    "                line_color=WSJ_COLORS.get('red', '#d62728'),\n",
    "                annotation_text='25th pct (No Ins)', \n",
    "                annotation_position='bottom left')\n",
    "\n",
    "\n",
    "# Update layout\n",
    "fig.update_layout(\n",
    "    title={\n",
    "        \"text\": \"Time-Average Growth Rate Histogram\",\n",
    "        \"x\": 0.5,\n",
    "        \"xanchor\": \"center\"\n",
    "    },\n",
    "    template='plotly_white',\n",
    "    showlegend=True,\n",
    "    legend=dict(\n",
    "        orientation='h',\n",
    "        x=0.5,\n",
    "        xanchor='center',\n",
    "        y=-0.2,\n",
    "        yanchor='top'\n",
    "    ),\n",
    "    width=800,\n",
    "    height=500\n",
    ")\n",
    "\n",
    "# Axes titles\n",
    "fig.update_xaxes(title_text=\"Time-Average Growth Rate (%)\",\n",
    "                range=[lower, upper])\n",
    "\n",
    "fig.show()"
   ]
  },
  {
   "cell_type": "code",
   "execution_count": null,
   "id": "10494050",
   "metadata": {},
   "outputs": [],
   "source": []
  },
  {
   "cell_type": "code",
   "execution_count": 26,
   "id": "97bb2095",
   "metadata": {},
   "outputs": [],
   "source": [
    "import plotly.io as pio\n",
    "\n",
    "fig_filename = f\"results\\Cap ({INITIAL_ASSETS/1_000_000:.0f}M) -\\\n",
    " ATR ({ASSET_TURNOVER_RATIO}) -\\\n",
    " EBITA ({EBITA_MARGIN_TARGET}) -\\\n",
    " XS_Kurt (high) -\\\n",
    " Ded ({DEDUCTIBLE/1_000:.0f}K) -\\\n",
    " LR ({LOSS_RATIO}) -\\\n",
    " {NUM_SIMULATIONS/1_000:.0f}K Sims -\\\n",
    " {SIM_YEARS} Yrs - Growth Rate.png\"\n",
    "\n",
    "pio.write_image(fig, fig_filename, scale=2) # Adjust scale as needed"
   ]
  },
  {
   "cell_type": "code",
   "execution_count": 27,
   "id": "2bcb52ae",
   "metadata": {},
   "outputs": [
    {
     "name": "stdout",
     "output_type": "stream",
     "text": [
      "\n",
      "Ruin Probabilities by Time Horizon:\n",
      "  5 years: 0.10%\n",
      "  10 years: 0.20%\n",
      "\n",
      "Convergence achieved: Yes\n"
     ]
    },
    {
     "data": {
      "application/vnd.plotly.v1+json": {
       "config": {
        "plotlyServerURL": "https://plot.ly"
       },
       "data": [
        {
         "line": {
          "color": "#0080C7",
          "width": 2
         },
         "marker": {
          "size": 8
         },
         "mode": "lines+markers",
         "name": "Insurance",
         "type": "scatter",
         "x": [
          "5",
          "10"
         ],
         "y": [
          0.1,
          0.2
         ]
        },
        {
         "line": {
          "color": "#FF9800",
          "width": 2
         },
         "marker": {
          "size": 8
         },
         "mode": "lines+markers",
         "name": "No Insurance",
         "type": "scatter",
         "x": [
          "5",
          "10"
         ],
         "y": [
          5.5,
          11.1
         ]
        }
       ],
       "layout": {
        "height": 500,
        "legend": {
         "orientation": "h",
         "x": 0.5,
         "xanchor": "center",
         "y": -0.2,
         "yanchor": "top"
        },
        "showlegend": true,
        "template": {
         "data": {
          "bar": [
           {
            "error_x": {
             "color": "#2a3f5f"
            },
            "error_y": {
             "color": "#2a3f5f"
            },
            "marker": {
             "line": {
              "color": "white",
              "width": 0.5
             },
             "pattern": {
              "fillmode": "overlay",
              "size": 10,
              "solidity": 0.2
             }
            },
            "type": "bar"
           }
          ],
          "barpolar": [
           {
            "marker": {
             "line": {
              "color": "white",
              "width": 0.5
             },
             "pattern": {
              "fillmode": "overlay",
              "size": 10,
              "solidity": 0.2
             }
            },
            "type": "barpolar"
           }
          ],
          "carpet": [
           {
            "aaxis": {
             "endlinecolor": "#2a3f5f",
             "gridcolor": "#C8D4E3",
             "linecolor": "#C8D4E3",
             "minorgridcolor": "#C8D4E3",
             "startlinecolor": "#2a3f5f"
            },
            "baxis": {
             "endlinecolor": "#2a3f5f",
             "gridcolor": "#C8D4E3",
             "linecolor": "#C8D4E3",
             "minorgridcolor": "#C8D4E3",
             "startlinecolor": "#2a3f5f"
            },
            "type": "carpet"
           }
          ],
          "choropleth": [
           {
            "colorbar": {
             "outlinewidth": 0,
             "ticks": ""
            },
            "type": "choropleth"
           }
          ],
          "contour": [
           {
            "colorbar": {
             "outlinewidth": 0,
             "ticks": ""
            },
            "colorscale": [
             [
              0,
              "#0d0887"
             ],
             [
              0.1111111111111111,
              "#46039f"
             ],
             [
              0.2222222222222222,
              "#7201a8"
             ],
             [
              0.3333333333333333,
              "#9c179e"
             ],
             [
              0.4444444444444444,
              "#bd3786"
             ],
             [
              0.5555555555555556,
              "#d8576b"
             ],
             [
              0.6666666666666666,
              "#ed7953"
             ],
             [
              0.7777777777777778,
              "#fb9f3a"
             ],
             [
              0.8888888888888888,
              "#fdca26"
             ],
             [
              1,
              "#f0f921"
             ]
            ],
            "type": "contour"
           }
          ],
          "contourcarpet": [
           {
            "colorbar": {
             "outlinewidth": 0,
             "ticks": ""
            },
            "type": "contourcarpet"
           }
          ],
          "heatmap": [
           {
            "colorbar": {
             "outlinewidth": 0,
             "ticks": ""
            },
            "colorscale": [
             [
              0,
              "#0d0887"
             ],
             [
              0.1111111111111111,
              "#46039f"
             ],
             [
              0.2222222222222222,
              "#7201a8"
             ],
             [
              0.3333333333333333,
              "#9c179e"
             ],
             [
              0.4444444444444444,
              "#bd3786"
             ],
             [
              0.5555555555555556,
              "#d8576b"
             ],
             [
              0.6666666666666666,
              "#ed7953"
             ],
             [
              0.7777777777777778,
              "#fb9f3a"
             ],
             [
              0.8888888888888888,
              "#fdca26"
             ],
             [
              1,
              "#f0f921"
             ]
            ],
            "type": "heatmap"
           }
          ],
          "histogram": [
           {
            "marker": {
             "pattern": {
              "fillmode": "overlay",
              "size": 10,
              "solidity": 0.2
             }
            },
            "type": "histogram"
           }
          ],
          "histogram2d": [
           {
            "colorbar": {
             "outlinewidth": 0,
             "ticks": ""
            },
            "colorscale": [
             [
              0,
              "#0d0887"
             ],
             [
              0.1111111111111111,
              "#46039f"
             ],
             [
              0.2222222222222222,
              "#7201a8"
             ],
             [
              0.3333333333333333,
              "#9c179e"
             ],
             [
              0.4444444444444444,
              "#bd3786"
             ],
             [
              0.5555555555555556,
              "#d8576b"
             ],
             [
              0.6666666666666666,
              "#ed7953"
             ],
             [
              0.7777777777777778,
              "#fb9f3a"
             ],
             [
              0.8888888888888888,
              "#fdca26"
             ],
             [
              1,
              "#f0f921"
             ]
            ],
            "type": "histogram2d"
           }
          ],
          "histogram2dcontour": [
           {
            "colorbar": {
             "outlinewidth": 0,
             "ticks": ""
            },
            "colorscale": [
             [
              0,
              "#0d0887"
             ],
             [
              0.1111111111111111,
              "#46039f"
             ],
             [
              0.2222222222222222,
              "#7201a8"
             ],
             [
              0.3333333333333333,
              "#9c179e"
             ],
             [
              0.4444444444444444,
              "#bd3786"
             ],
             [
              0.5555555555555556,
              "#d8576b"
             ],
             [
              0.6666666666666666,
              "#ed7953"
             ],
             [
              0.7777777777777778,
              "#fb9f3a"
             ],
             [
              0.8888888888888888,
              "#fdca26"
             ],
             [
              1,
              "#f0f921"
             ]
            ],
            "type": "histogram2dcontour"
           }
          ],
          "mesh3d": [
           {
            "colorbar": {
             "outlinewidth": 0,
             "ticks": ""
            },
            "type": "mesh3d"
           }
          ],
          "parcoords": [
           {
            "line": {
             "colorbar": {
              "outlinewidth": 0,
              "ticks": ""
             }
            },
            "type": "parcoords"
           }
          ],
          "pie": [
           {
            "automargin": true,
            "type": "pie"
           }
          ],
          "scatter": [
           {
            "fillpattern": {
             "fillmode": "overlay",
             "size": 10,
             "solidity": 0.2
            },
            "type": "scatter"
           }
          ],
          "scatter3d": [
           {
            "line": {
             "colorbar": {
              "outlinewidth": 0,
              "ticks": ""
             }
            },
            "marker": {
             "colorbar": {
              "outlinewidth": 0,
              "ticks": ""
             }
            },
            "type": "scatter3d"
           }
          ],
          "scattercarpet": [
           {
            "marker": {
             "colorbar": {
              "outlinewidth": 0,
              "ticks": ""
             }
            },
            "type": "scattercarpet"
           }
          ],
          "scattergeo": [
           {
            "marker": {
             "colorbar": {
              "outlinewidth": 0,
              "ticks": ""
             }
            },
            "type": "scattergeo"
           }
          ],
          "scattergl": [
           {
            "marker": {
             "colorbar": {
              "outlinewidth": 0,
              "ticks": ""
             }
            },
            "type": "scattergl"
           }
          ],
          "scattermap": [
           {
            "marker": {
             "colorbar": {
              "outlinewidth": 0,
              "ticks": ""
             }
            },
            "type": "scattermap"
           }
          ],
          "scattermapbox": [
           {
            "marker": {
             "colorbar": {
              "outlinewidth": 0,
              "ticks": ""
             }
            },
            "type": "scattermapbox"
           }
          ],
          "scatterpolar": [
           {
            "marker": {
             "colorbar": {
              "outlinewidth": 0,
              "ticks": ""
             }
            },
            "type": "scatterpolar"
           }
          ],
          "scatterpolargl": [
           {
            "marker": {
             "colorbar": {
              "outlinewidth": 0,
              "ticks": ""
             }
            },
            "type": "scatterpolargl"
           }
          ],
          "scatterternary": [
           {
            "marker": {
             "colorbar": {
              "outlinewidth": 0,
              "ticks": ""
             }
            },
            "type": "scatterternary"
           }
          ],
          "surface": [
           {
            "colorbar": {
             "outlinewidth": 0,
             "ticks": ""
            },
            "colorscale": [
             [
              0,
              "#0d0887"
             ],
             [
              0.1111111111111111,
              "#46039f"
             ],
             [
              0.2222222222222222,
              "#7201a8"
             ],
             [
              0.3333333333333333,
              "#9c179e"
             ],
             [
              0.4444444444444444,
              "#bd3786"
             ],
             [
              0.5555555555555556,
              "#d8576b"
             ],
             [
              0.6666666666666666,
              "#ed7953"
             ],
             [
              0.7777777777777778,
              "#fb9f3a"
             ],
             [
              0.8888888888888888,
              "#fdca26"
             ],
             [
              1,
              "#f0f921"
             ]
            ],
            "type": "surface"
           }
          ],
          "table": [
           {
            "cells": {
             "fill": {
              "color": "#EBF0F8"
             },
             "line": {
              "color": "white"
             }
            },
            "header": {
             "fill": {
              "color": "#C8D4E3"
             },
             "line": {
              "color": "white"
             }
            },
            "type": "table"
           }
          ]
         },
         "layout": {
          "annotationdefaults": {
           "arrowcolor": "#2a3f5f",
           "arrowhead": 0,
           "arrowwidth": 1
          },
          "autotypenumbers": "strict",
          "coloraxis": {
           "colorbar": {
            "outlinewidth": 0,
            "ticks": ""
           }
          },
          "colorscale": {
           "diverging": [
            [
             0,
             "#8e0152"
            ],
            [
             0.1,
             "#c51b7d"
            ],
            [
             0.2,
             "#de77ae"
            ],
            [
             0.3,
             "#f1b6da"
            ],
            [
             0.4,
             "#fde0ef"
            ],
            [
             0.5,
             "#f7f7f7"
            ],
            [
             0.6,
             "#e6f5d0"
            ],
            [
             0.7,
             "#b8e186"
            ],
            [
             0.8,
             "#7fbc41"
            ],
            [
             0.9,
             "#4d9221"
            ],
            [
             1,
             "#276419"
            ]
           ],
           "sequential": [
            [
             0,
             "#0d0887"
            ],
            [
             0.1111111111111111,
             "#46039f"
            ],
            [
             0.2222222222222222,
             "#7201a8"
            ],
            [
             0.3333333333333333,
             "#9c179e"
            ],
            [
             0.4444444444444444,
             "#bd3786"
            ],
            [
             0.5555555555555556,
             "#d8576b"
            ],
            [
             0.6666666666666666,
             "#ed7953"
            ],
            [
             0.7777777777777778,
             "#fb9f3a"
            ],
            [
             0.8888888888888888,
             "#fdca26"
            ],
            [
             1,
             "#f0f921"
            ]
           ],
           "sequentialminus": [
            [
             0,
             "#0d0887"
            ],
            [
             0.1111111111111111,
             "#46039f"
            ],
            [
             0.2222222222222222,
             "#7201a8"
            ],
            [
             0.3333333333333333,
             "#9c179e"
            ],
            [
             0.4444444444444444,
             "#bd3786"
            ],
            [
             0.5555555555555556,
             "#d8576b"
            ],
            [
             0.6666666666666666,
             "#ed7953"
            ],
            [
             0.7777777777777778,
             "#fb9f3a"
            ],
            [
             0.8888888888888888,
             "#fdca26"
            ],
            [
             1,
             "#f0f921"
            ]
           ]
          },
          "colorway": [
           "#636efa",
           "#EF553B",
           "#00cc96",
           "#ab63fa",
           "#FFA15A",
           "#19d3f3",
           "#FF6692",
           "#B6E880",
           "#FF97FF",
           "#FECB52"
          ],
          "font": {
           "color": "#2a3f5f"
          },
          "geo": {
           "bgcolor": "white",
           "lakecolor": "white",
           "landcolor": "white",
           "showlakes": true,
           "showland": true,
           "subunitcolor": "#C8D4E3"
          },
          "hoverlabel": {
           "align": "left"
          },
          "hovermode": "closest",
          "mapbox": {
           "style": "light"
          },
          "paper_bgcolor": "white",
          "plot_bgcolor": "white",
          "polar": {
           "angularaxis": {
            "gridcolor": "#EBF0F8",
            "linecolor": "#EBF0F8",
            "ticks": ""
           },
           "bgcolor": "white",
           "radialaxis": {
            "gridcolor": "#EBF0F8",
            "linecolor": "#EBF0F8",
            "ticks": ""
           }
          },
          "scene": {
           "xaxis": {
            "backgroundcolor": "white",
            "gridcolor": "#DFE8F3",
            "gridwidth": 2,
            "linecolor": "#EBF0F8",
            "showbackground": true,
            "ticks": "",
            "zerolinecolor": "#EBF0F8"
           },
           "yaxis": {
            "backgroundcolor": "white",
            "gridcolor": "#DFE8F3",
            "gridwidth": 2,
            "linecolor": "#EBF0F8",
            "showbackground": true,
            "ticks": "",
            "zerolinecolor": "#EBF0F8"
           },
           "zaxis": {
            "backgroundcolor": "white",
            "gridcolor": "#DFE8F3",
            "gridwidth": 2,
            "linecolor": "#EBF0F8",
            "showbackground": true,
            "ticks": "",
            "zerolinecolor": "#EBF0F8"
           }
          },
          "shapedefaults": {
           "line": {
            "color": "#2a3f5f"
           }
          },
          "ternary": {
           "aaxis": {
            "gridcolor": "#DFE8F3",
            "linecolor": "#A2B1C6",
            "ticks": ""
           },
           "baxis": {
            "gridcolor": "#DFE8F3",
            "linecolor": "#A2B1C6",
            "ticks": ""
           },
           "bgcolor": "white",
           "caxis": {
            "gridcolor": "#DFE8F3",
            "linecolor": "#A2B1C6",
            "ticks": ""
           }
          },
          "title": {
           "x": 0.05
          },
          "xaxis": {
           "automargin": true,
           "gridcolor": "#EBF0F8",
           "linecolor": "#EBF0F8",
           "ticks": "",
           "title": {
            "standoff": 15
           },
           "zerolinecolor": "#EBF0F8",
           "zerolinewidth": 2
          },
          "yaxis": {
           "automargin": true,
           "gridcolor": "#EBF0F8",
           "linecolor": "#EBF0F8",
           "ticks": "",
           "title": {
            "standoff": 15
           },
           "zerolinecolor": "#EBF0F8",
           "zerolinewidth": 2
          }
         }
        },
        "title": {
         "text": "Ruin Probability by Time Horizon",
         "x": 0.5,
         "xanchor": "center"
        },
        "width": 800,
        "xaxis": {
         "title": {
          "text": "Time Horizon (years)"
         }
        },
        "yaxis": {
         "title": {
          "text": "Ruin Probability (%)"
         }
        }
       }
      }
     },
     "metadata": {},
     "output_type": "display_data"
    }
   ],
   "source": [
    "import plotly.graph_objects as go\n",
    "from plotly.subplots import make_subplots\n",
    "from ergodic_insurance.visualization.core import WSJ_COLORS\n",
    "import numpy as np\n",
    "\n",
    "# Print results\n",
    "print(f\"\\nRuin Probabilities by Time Horizon:\")\n",
    "for yr, prob in results.ruin_probability.items():\n",
    "    print(f\"  {yr} years: {prob*100:.2f}%\")\n",
    "\n",
    "print(f\"\\nConvergence achieved: {'Yes' if results.convergence else 'No'}\")\n",
    "\n",
    "# --------------------------------------\n",
    "# Ruin probability comparison (1,2)\n",
    "# --------------------------------------\n",
    "# Single figure without subplots\n",
    "fig = go.Figure()\n",
    "fig.add_trace(\n",
    "    go.Scatter(\n",
    "        x=list(results.ruin_probability.keys()),\n",
    "        y=[prob * 100 for prob in results.ruin_probability.values()],\n",
    "        mode='lines+markers',\n",
    "        name='Insurance',\n",
    "        line=dict(width=2, color=WSJ_COLORS.get('blue', '#1f77b4')),\n",
    "        marker=dict(size=8)\n",
    "    )\n",
    ")\n",
    "fig.add_trace(\n",
    "    go.Scatter(\n",
    "        x=list(results_no_ins.ruin_probability.keys()),\n",
    "        y=[prob * 100 for prob in results_no_ins.ruin_probability.values()],\n",
    "        mode='lines+markers',\n",
    "        name='No Insurance',\n",
    "        line=dict(width=2, color=WSJ_COLORS.get('orange', '#ff7f0e')),\n",
    "        marker=dict(size=8)\n",
    "    )\n",
    ")\n",
    "\n",
    "# Update layout\n",
    "fig.update_layout(\n",
    "    title={\n",
    "        \"text\": \"Ruin Probability by Time Horizon\",\n",
    "        \"x\": 0.5,\n",
    "        \"xanchor\": \"center\"\n",
    "    },\n",
    "    template='plotly_white',\n",
    "    showlegend=True,\n",
    "    legend=dict(\n",
    "        orientation='h',\n",
    "        x=0.5,\n",
    "        xanchor='center',\n",
    "        y=-0.2,\n",
    "        yanchor='top'\n",
    "    ),\n",
    "    width=800,\n",
    "    height=500\n",
    ")\n",
    "\n",
    "# Axes titles\n",
    "fig.update_xaxes(title_text=\"Time Horizon (years)\")\n",
    "fig.update_yaxes(title_text=\"Ruin Probability (%)\")\n",
    "\n",
    "fig.show()"
   ]
  },
  {
   "cell_type": "code",
   "execution_count": 28,
   "id": "6957ede5",
   "metadata": {},
   "outputs": [],
   "source": [
    "fig_filename = f\"results\\Cap ({INITIAL_ASSETS/1_000_000:.0f}M) -\\\n",
    " ATR ({ASSET_TURNOVER_RATIO}) -\\\n",
    " EBITA ({EBITA_MARGIN_TARGET}) -\\\n",
    " XS_Kurt (high) -\\\n",
    " Ded ({DEDUCTIBLE/1_000:.0f}K) -\\\n",
    " LR ({LOSS_RATIO}) -\\\n",
    " {NUM_SIMULATIONS/1_000:.0f}K Sims -\\\n",
    " {SIM_YEARS} Yrs - RoR.png\"\n",
    "\n",
    "pio.write_image(fig, fig_filename, scale=2) # Adjust scale as needed"
   ]
  },
  {
   "cell_type": "code",
   "execution_count": 29,
   "id": "19ec0acf",
   "metadata": {},
   "outputs": [
    {
     "name": "stdout",
     "output_type": "stream",
     "text": [
      "Final net asset value with insurance: $11,412,095 ± $1,813,715\n",
      "Final net asset value without insurance: $7,692,022 ± $7,128,893\n"
     ]
    }
   ],
   "source": [
    "print(f'Final net asset value with insurance: ${results.final_assets.mean():,.0f} ± ${results.final_assets.std():,.0f}')\n",
    "print(f'Final net asset value without insurance: ${results_no_ins.final_assets.mean():,.0f} ± ${results_no_ins.final_assets.std():,.0f}')"
   ]
  },
  {
   "cell_type": "code",
   "execution_count": null,
   "id": "1e592860",
   "metadata": {},
   "outputs": [],
   "source": []
  }
 ],
 "metadata": {
  "kernelspec": {
   "display_name": ".venv",
   "language": "python",
   "name": "python3"
  },
  "language_info": {
   "codemirror_mode": {
    "name": "ipython",
    "version": 3
   },
   "file_extension": ".py",
   "mimetype": "text/x-python",
   "name": "python",
   "nbconvert_exporter": "python",
   "pygments_lexer": "ipython3",
   "version": "3.12.10"
  }
 },
 "nbformat": 4,
 "nbformat_minor": 5
}
