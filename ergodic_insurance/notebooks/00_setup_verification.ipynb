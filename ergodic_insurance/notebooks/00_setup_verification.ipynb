{
 "cells": [
  {
   "cell_type": "markdown",
   "metadata": {},
   "source": [
    "# Setup Verification Notebook\n",
    "\n",
    "This notebook verifies that the ergodic_insurance package is properly installed and all dependencies are working correctly."
   ]
  },
  {
   "cell_type": "code",
   "execution_count": null,
   "metadata": {
    "execution": {
     "iopub.execute_input": "2025-08-27T10:08:43.049636Z",
     "iopub.status.busy": "2025-08-27T10:08:43.048631Z",
     "iopub.status.idle": "2025-08-27T10:08:46.794191Z",
     "shell.execute_reply": "2025-08-27T10:08:46.793068Z"
    }
   },
   "outputs": [],
   "source": [
    "# Test core imports\n",
    "import numpy as np\n",
    "import pandas as pd\n",
    "import matplotlib.pyplot as plt\n",
    "import seaborn as sns\n",
    "from pathlib import Path\n",
    "import yaml\n",
    "from pydantic import BaseModel\n",
    "import scipy\n",
    "import scipy.stats as stats\n",
    "\n",
    "print(\"Core imports successful!\")\n",
    "print(f\"NumPy version: {np.__version__}\")\n",
    "print(f\"Pandas version: {pd.__version__}\")\n",
    "print(f\"Matplotlib version: {plt.matplotlib.__version__}\")\n",
    "print(f\"Seaborn version: {sns.__version__}\")\n",
    "print(f\"SciPy version: {scipy.__version__}\")"
   ]
  },
  {
   "cell_type": "code",
   "execution_count": null,
   "metadata": {
    "execution": {
     "iopub.execute_input": "2025-08-27T10:08:46.872595Z",
     "iopub.status.busy": "2025-08-27T10:08:46.869571Z",
     "iopub.status.idle": "2025-08-27T10:08:46.887759Z",
     "shell.execute_reply": "2025-08-27T10:08:46.885735Z"
    }
   },
   "outputs": [],
   "source": [
    "import sys\n",
    "import os\n",
    "sys.path.insert(0, os.path.abspath('../..'))\n",
    "\n",
    "# Test package import (package should be installed via pip install -e .)\n",
    "import ergodic_insurance as ei\n",
    "print(f\"Package version: {ei.__version__}\")"
   ]
  },
  {
   "cell_type": "code",
   "execution_count": null,
   "metadata": {
    "execution": {
     "iopub.execute_input": "2025-08-27T10:08:46.891862Z",
     "iopub.status.busy": "2025-08-27T10:08:46.891862Z",
     "iopub.status.idle": "2025-08-27T10:08:47.232277Z",
     "shell.execute_reply": "2025-08-27T10:08:47.231259Z"
    }
   },
   "outputs": [],
   "source": [
    "# Test matplotlib\n",
    "plt.figure(figsize=(10, 6))\n",
    "x = np.linspace(0, 10, 100)\n",
    "y = np.sin(x)\n",
    "plt.plot(x, y, label='sin(x)')\n",
    "plt.xlabel('x')\n",
    "plt.ylabel('y')\n",
    "plt.title('Test Plot')\n",
    "plt.legend()\n",
    "plt.grid(True)\n",
    "plt.show()\n",
    "\n",
    "print(\"Matplotlib working correctly!\")"
   ]
  },
  {
   "cell_type": "code",
   "execution_count": null,
   "metadata": {
    "execution": {
     "iopub.execute_input": "2025-08-27T10:08:47.236924Z",
     "iopub.status.busy": "2025-08-27T10:08:47.235828Z",
     "iopub.status.idle": "2025-08-27T10:08:47.265193Z",
     "shell.execute_reply": "2025-08-27T10:08:47.265193Z"
    }
   },
   "outputs": [],
   "source": [
    "# Test pandas\n",
    "df = pd.DataFrame({\n",
    "    'Year': range(2020, 2026),\n",
    "    'Assets': [10_000_000 * (1.05 ** i) for i in range(6)],\n",
    "    'Revenue': [10_000_000 * (1.05 ** i) for i in range(6)]\n",
    "})\n",
    "\n",
    "df['ROA'] = df['Revenue'] * 0.08 / df['Assets']\n",
    "print(\"Sample DataFrame:\")\n",
    "print(df)\n",
    "print(\"\\nPandas working correctly!\")"
   ]
  },
  {
   "cell_type": "code",
   "execution_count": null,
   "metadata": {
    "execution": {
     "iopub.execute_input": "2025-08-27T10:08:47.270911Z",
     "iopub.status.busy": "2025-08-27T10:08:47.269914Z",
     "iopub.status.idle": "2025-08-27T10:08:47.351116Z",
     "shell.execute_reply": "2025-08-27T10:08:47.350598Z"
    }
   },
   "outputs": [],
   "source": [
    "# Test Pydantic\n",
    "class SampleConfig(BaseModel):\n",
    "    initial_assets: float = 10_000_000\n",
    "    growth_rate: float = 0.05\n",
    "    base_operating_margin: float = 0.08\n",
    "\n",
    "config = SampleConfig()\n",
    "print(\"Sample Pydantic Config:\")\n",
    "print(config.model_dump())\n",
    "print(\"\\nPydantic working correctly!\")"
   ]
  },
  {
   "cell_type": "code",
   "execution_count": null,
   "metadata": {
    "execution": {
     "iopub.execute_input": "2025-08-27T10:08:47.355759Z",
     "iopub.status.busy": "2025-08-27T10:08:47.354756Z",
     "iopub.status.idle": "2025-08-27T10:08:47.364289Z",
     "shell.execute_reply": "2025-08-27T10:08:47.363266Z"
    }
   },
   "outputs": [],
   "source": [
    "# Verify directory structure\n",
    "project_root = Path('..').resolve()\n",
    "print(\"Project structure:\")\n",
    "for path in ['src', 'tests', 'notebooks', 'data/parameters']:\n",
    "    full_path = project_root / path\n",
    "    exists = '✓' if full_path.exists() else '✗'\n",
    "    print(f\"  {exists} {path}\")\n",
    "\n",
    "print(\"\\nSetup verification complete!\")"
   ]
  }
 ],
 "metadata": {
  "kernelspec": {
   "display_name": ".venv",
   "language": "python",
   "name": "python3"
  },
  "language_info": {
   "codemirror_mode": {
    "name": "ipython",
    "version": 3
   },
   "file_extension": ".py",
   "mimetype": "text/x-python",
   "name": "python",
   "nbconvert_exporter": "python",
   "pygments_lexer": "ipython3",
   "version": "3.12.10"
  }
 },
 "nbformat": 4,
 "nbformat_minor": 4
}
