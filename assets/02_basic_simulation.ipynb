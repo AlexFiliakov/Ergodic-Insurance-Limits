{
 "cells": [
  {
   "cell_type": "markdown",
   "id": "f936a4da",
   "metadata": {},
   "source": [
    "# Basic Simulation"
   ]
  },
  {
   "cell_type": "markdown",
   "id": "54b622d7",
   "metadata": {},
   "source": [
    "## Basic Configuration"
   ]
  },
  {
   "cell_type": "code",
   "execution_count": 1,
   "id": "045ca577",
   "metadata": {},
   "outputs": [
    {
     "name": "stdout",
     "output_type": "stream",
     "text": [
      "Company Financial Profile:\n",
      "  Assets: $10,000,000\n",
      "  Annual Revenue: $10,000,000\n",
      "  Operating Income: $1,200,000\n",
      "  Net Income: $900,000\n",
      "  ROA: 9.0%\n"
     ]
    }
   ],
   "source": [
    "import numpy as np\n",
    "\n",
    "from ergodic_insurance.manufacturer import WidgetManufacturer\n",
    "from ergodic_insurance.config_v2 import ManufacturerConfig, WorkingCapitalConfig\n",
    "\n",
    "# Create a medium-sized manufacturer\n",
    "mfg_config = ManufacturerConfig(\n",
    "    initial_assets=10_000_000,    # Starting with $10M\n",
    "    asset_turnover_ratio=1.0,     # Generate revenue equal to assets\n",
    "    operating_margin=0.12,        # Profit margin before losses\n",
    "    tax_rate=0.25,                # 25% corporate tax\n",
    "    retention_ratio=0.7           # Retain 70% of earnings\n",
    ")\n",
    "\n",
    "mfg_working_capital_config = WorkingCapitalConfig(\n",
    "    percent_of_sales=0.20  # 20% of revenue tied up in WC\n",
    ")\n",
    "\n",
    "manufacturer = WidgetManufacturer(mfg_config, mfg_working_capital_config)\n",
    "\n",
    "# Calculate key metrics\n",
    "annual_revenue = manufacturer.assets * manufacturer.asset_turnover_ratio\n",
    "operating_income = annual_revenue * manufacturer.operating_margin\n",
    "net_income = operating_income * (1 - manufacturer.tax_rate)\n",
    "\n",
    "print(f\"Company Financial Profile:\")\n",
    "print(f\"  Assets: ${manufacturer.assets:,.0f}\")\n",
    "print(f\"  Annual Revenue: ${annual_revenue:,.0f}\")\n",
    "print(f\"  Operating Income: ${operating_income:,.0f}\")\n",
    "print(f\"  Net Income: ${net_income:,.0f}\")\n",
    "print(f\"  ROA: {net_income / manufacturer.assets:.1%}\")"
   ]
  },
  {
   "cell_type": "code",
   "execution_count": 2,
   "id": "7dfe8795",
   "metadata": {},
   "outputs": [
    {
     "name": "stdout",
     "output_type": "stream",
     "text": [
      "Warning: Operating margin 35.0% is unusually high\n",
      "Heavy Industry:\n",
      "  Assets: $50,000,000\n",
      "  Revenue: $25,000,000\n",
      "  ROE: 1.9%\n",
      "\n",
      "Light Manufacturer:\n",
      "  Assets: $5,000,000\n",
      "  Revenue: $10,000,000\n",
      "  ROE: 12.0%\n",
      "\n",
      "High-Tech:\n",
      "  Assets: $25,000,000\n",
      "  Revenue: $20,000,000\n",
      "  ROE: 22.1%\n",
      "\n"
     ]
    }
   ],
   "source": [
    "import numpy as np\n",
    "\n",
    "from ergodic_insurance.manufacturer import WidgetManufacturer\n",
    "from ergodic_insurance.config_v2 import ManufacturerConfig\n",
    "\n",
    "# Capital-intensive manufacturing\n",
    "heavy_industry = WidgetManufacturer(ManufacturerConfig(\n",
    "    initial_assets=50_000_000,\n",
    "    asset_turnover_ratio=0.5,  # Low turnover\n",
    "    operating_margin=0.05,     # 5% margins\n",
    "    tax_rate=0.25,\n",
    "    retention_ratio=0.7\n",
    "))\n",
    "\n",
    "# High-efficiency light manufacturer (e.g., consumer goods, textiles)\n",
    "light_manufacturer = WidgetManufacturer(ManufacturerConfig(\n",
    "    initial_assets=5_000_000,\n",
    "    asset_turnover_ratio=2.0,  # High turnover - efficient asset use\n",
    "    operating_margin=0.08,     # Moderate margins\n",
    "    tax_rate=0.25,\n",
    "    retention_ratio=0.6        # Lower retention due to distribution needs\n",
    "))\n",
    "\n",
    "# High-tech manufacturer (e.g., semiconductors, medical devices)\n",
    "high_tech = WidgetManufacturer(ManufacturerConfig(\n",
    "    initial_assets=25_000_000,  # Capital intensive\n",
    "    asset_turnover_ratio=0.8,   # Moderate turnover\n",
    "    operating_margin=0.35,       # High margins from IP/technology\n",
    "    tax_rate=0.21,              # Lower effective tax rate\n",
    "    retention_ratio=0.85        # High retention for R&D investment\n",
    "))\n",
    "\n",
    "# Compare profitability\n",
    "for company, name in [\n",
    "    (heavy_industry, \"Heavy Industry\"),\n",
    "    (light_manufacturer, \"Light Manufacturer\"),\n",
    "    (high_tech, \"High-Tech\")\n",
    "]:\n",
    "    revenue = company.assets * company.asset_turnover_ratio\n",
    "    profit = revenue * company.operating_margin * (1 - company.tax_rate)\n",
    "    roe = profit / company.assets\n",
    "    print(f\"{name}:\")\n",
    "    print(f\"  Assets: ${company.assets:,.0f}\")\n",
    "    print(f\"  Revenue: ${revenue:,.0f}\")\n",
    "    print(f\"  ROE: {roe:.1%}\")\n",
    "    print()"
   ]
  },
  {
   "cell_type": "code",
   "execution_count": 3,
   "id": "7b36b0f1",
   "metadata": {},
   "outputs": [
    {
     "name": "stdout",
     "output_type": "stream",
     "text": [
      "Year 1: 5 losses, Total: $478,808\n",
      "Year 2: 5 losses, Total: $328,959\n",
      "Year 3: 3 losses, Total: $148,976\n",
      "Year 4: 4 losses, Total: $210,324\n",
      "Year 5: 9 losses, Total: $488,578\n"
     ]
    }
   ],
   "source": [
    "import numpy as np\n",
    "\n",
    "from ergodic_insurance.claim_generator import ClaimGenerator\n",
    "\n",
    "# Standard loss generator\n",
    "standard_losses = ClaimGenerator(\n",
    "    frequency=5,\n",
    "    severity_mean=80_000,\n",
    "    severity_std=65_000\n",
    ")\n",
    "\n",
    "# Generate 5 years of losses\n",
    "sim_years = 5\n",
    "standard_losses.rng.seed(42)  # For reproducibility\n",
    "losses_by_year = standard_losses.generate_claims(years=sim_years)\n",
    "for year in range(sim_years):\n",
    "    annual_losses = [loss for loss in losses_by_year if loss.year == year]\n",
    "    annual_total = sum(loss.amount for loss in annual_losses)\n",
    "    print(f\"Year {year+1}: {len(annual_losses)} losses, Total: ${annual_total:,.0f}\")"
   ]
  },
  {
   "cell_type": "code",
   "execution_count": 4,
   "id": "7f8fcb49",
   "metadata": {},
   "outputs": [
    {
     "name": "stdout",
     "output_type": "stream",
     "text": [
      "\n",
      "Standard Risk Profile (10 years):\n",
      "  Total losses: 46\n",
      "  Average loss: $76,491\n",
      "  Largest loss: $233,220\n",
      "  Total amount: $3,518,578\n",
      "\n",
      "Catastrophic Risk Profile (10 years):\n",
      "  Total losses: 1\n",
      "  Average loss: $742,130\n",
      "  Largest loss: $742,130\n",
      "  Total amount: $742,130\n",
      "\n",
      "Operational Risk Profile (10 years):\n",
      "  Total losses: 202\n",
      "  Average loss: $2,936\n",
      "  Largest loss: $8,345\n",
      "  Total amount: $593,058\n"
     ]
    }
   ],
   "source": [
    "from ergodic_insurance.claim_generator import ClaimGenerator\n",
    "\n",
    "# Low frequency, high severity (catastrophic risk)\n",
    "catastrophic_risk = ClaimGenerator(\n",
    "    frequency=0.1,         # One loss every 10 years\n",
    "    severity_mean=1_000_000,      # Much larger losses\n",
    "    severity_std=500_000     # More variability\n",
    ")\n",
    "\n",
    "# High frequency, low severity (operational risk)\n",
    "operational_risk = ClaimGenerator(\n",
    "    frequency=20,          # Many small losses\n",
    "    severity_mean=3_000,       # Smaller losses\n",
    "    severity_std=1_000     # Less variability\n",
    ")\n",
    "\n",
    "# Simulate and compare\n",
    "np.random.seed(42)\n",
    "years = 10\n",
    "risk_profiles = {\n",
    "    \"Standard\": standard_losses,\n",
    "    \"Catastrophic\": catastrophic_risk,\n",
    "    \"Operational\": operational_risk\n",
    "}\n",
    "\n",
    "all_losses = []\n",
    "for name, generator in risk_profiles.items():\n",
    "    generator_losses = []\n",
    "    for year in range(years):\n",
    "        generator.rng.seed(42 + year)  # Different seed each year\n",
    "        annual = generator.generate_year(year=year)\n",
    "        generator_losses.extend(annual)\n",
    "\n",
    "    if generator_losses:\n",
    "        print(f\"\\n{name} Risk Profile ({years} years):\")\n",
    "        print(f\"  Total losses: {len(generator_losses)}\")\n",
    "        print(f\"  Average loss: ${np.mean([loss.amount for loss in generator_losses]):,.0f}\")\n",
    "        print(f\"  Largest loss: ${max(loss.amount for loss in generator_losses):,.0f}\")\n",
    "        print(f\"  Total amount: ${sum(loss.amount for loss in generator_losses):,.0f}\")\n",
    "\n",
    "    all_losses.extend(generator_losses)"
   ]
  },
  {
   "cell_type": "code",
   "execution_count": 5,
   "id": "89d158f8",
   "metadata": {},
   "outputs": [
    {
     "name": "stdout",
     "output_type": "stream",
     "text": [
      "Calculated Reasonable Premium: $85,661\n",
      "20-Year Simulation Results:\n",
      "Starting Assets: $50,000,000\n",
      "Final Assets: $53,379,921\n",
      "Final Assets: $53,379,921\n",
      "Time-Weighted ROE: 2.57%\n"
     ]
    }
   ],
   "source": [
    "from ergodic_insurance.insurance import InsurancePolicy, InsuranceLayer\n",
    "from ergodic_insurance.simulation import Simulation\n",
    "\n",
    "### Using previously defined manufacturer and losses #######\n",
    "\n",
    "# Policy parameters\n",
    "deductible = 200_000\n",
    "limit = 40_000_000\n",
    "\n",
    "### Calculate a fair premium #######\n",
    "# Calculate pure premium\n",
    "total_covered_losses = sum(min(max(0, loss.amount - deductible), limit) \\\n",
    "                            for loss in all_losses)\n",
    "pure_premium = total_covered_losses / years  # As a fraction of assets\n",
    "loss_ratio = 0.70  # 70% of premiums go towards losses\n",
    "reasonable_premium = pure_premium / loss_ratio\n",
    "reasonable_rate = reasonable_premium / limit\n",
    "print(f\"Calculated Reasonable Premium: ${reasonable_premium:,.0f}\")\n",
    "\n",
    "### Set up the policy #######\n",
    "single_layer = InsuranceLayer(\n",
    "    attachment_point=deductible,\n",
    "    limit=limit,\n",
    "    rate=reasonable_rate\n",
    ")\n",
    "\n",
    "insurance_policy = InsurancePolicy(\n",
    "    layers=[single_layer],\n",
    "    deductible=deductible\n",
    ")\n",
    "\n",
    "### Set up the simulation #######\n",
    "sim = Simulation(\n",
    "    manufacturer=heavy_industry,\n",
    "    claim_generator=[standard_losses, catastrophic_risk, operational_risk],\n",
    "    insurance_policy=insurance_policy,\n",
    "    time_horizon=20,  # 20-year simulation\n",
    "    seed=42\n",
    ")\n",
    "\n",
    "results = sim.run()\n",
    "result_summary = results.summary_stats()\n",
    "\n",
    "print(f\"20-Year Simulation Results:\")\n",
    "print(f\"Starting Assets: ${heavy_industry.config.initial_assets:,.0f}\")\n",
    "print(f\"Final Assets: ${result_summary['final_assets']:,.0f}\")\n",
    "print(f\"Final Assets: ${result_summary['final_assets']:,.0f}\")\n",
    "print(f\"Time-Weighted ROE: {result_summary['time_weighted_roe']:.2%}\")"
   ]
  },
  {
   "cell_type": "code",
   "execution_count": null,
   "id": "8b6f16e9",
   "metadata": {},
   "outputs": [],
   "source": []
  }
 ],
 "metadata": {
  "kernelspec": {
   "display_name": ".venv",
   "language": "python",
   "name": "python3"
  },
  "language_info": {
   "codemirror_mode": {
    "name": "ipython",
    "version": 3
   },
   "file_extension": ".py",
   "mimetype": "text/x-python",
   "name": "python",
   "nbconvert_exporter": "python",
   "pygments_lexer": "ipython3",
   "version": "3.12.10"
  }
 },
 "nbformat": 4,
 "nbformat_minor": 5
}
