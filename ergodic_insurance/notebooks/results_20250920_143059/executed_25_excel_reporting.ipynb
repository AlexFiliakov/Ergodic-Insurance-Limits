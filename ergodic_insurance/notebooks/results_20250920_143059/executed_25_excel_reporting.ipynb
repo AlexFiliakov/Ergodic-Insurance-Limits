{
 "cells": [
  {
   "cell_type": "markdown",
   "id": "96aa443d",
   "metadata": {
    "tags": [
     "papermill-error-cell-tag"
    ]
   },
   "source": [
    "<span style=\"color:red; font-family:Helvetica Neue, Helvetica, Arial, sans-serif; font-size:2em;\">An Exception was encountered at '<a href=\"#papermill-error-cell\">In [2]</a>'.</span>"
   ]
  },
  {
   "cell_type": "markdown",
   "id": "47e56c66",
   "metadata": {
    "papermill": {
     "duration": 0.007802,
     "end_time": "2025-09-20T18:48:13.921736",
     "exception": false,
     "start_time": "2025-09-20T18:48:13.913934",
     "status": "completed"
    },
    "tags": []
   },
   "source": [
    "# Excel Report Generation for Financial Statements\n",
    "\n",
    "This notebook demonstrates the comprehensive Excel report generation functionality for creating financial statements, reconciliation reports, and metrics dashboards from simulation results."
   ]
  },
  {
   "cell_type": "markdown",
   "id": "2d55a937",
   "metadata": {
    "papermill": {
     "duration": 0.008045,
     "end_time": "2025-09-20T18:48:13.939403",
     "exception": false,
     "start_time": "2025-09-20T18:48:13.931358",
     "status": "completed"
    },
    "tags": []
   },
   "source": [
    "## 1. Setup and Imports"
   ]
  },
  {
   "cell_type": "code",
   "execution_count": 1,
   "id": "0b81c91c",
   "metadata": {
    "execution": {
     "iopub.execute_input": "2025-09-20T18:48:13.957612Z",
     "iopub.status.busy": "2025-09-20T18:48:13.957612Z",
     "iopub.status.idle": "2025-09-20T18:48:17.096241Z",
     "shell.execute_reply": "2025-09-20T18:48:17.095177Z"
    },
    "papermill": {
     "duration": 3.151435,
     "end_time": "2025-09-20T18:48:17.098271",
     "exception": false,
     "start_time": "2025-09-20T18:48:13.946836",
     "status": "completed"
    },
    "tags": []
   },
   "outputs": [
    {
     "name": "stdout",
     "output_type": "stream",
     "text": [
      "Setup complete!\n"
     ]
    }
   ],
   "source": [
    "import sys\n",
    "from pathlib import Path\n",
    "import numpy as np\n",
    "import pandas as pd\n",
    "import matplotlib.pyplot as plt\n",
    "import seaborn as sns\n",
    "\n",
    "# Add parent directories to path\n",
    "sys.path.insert(0, str(Path().absolute().parent.parent))\n",
    "\n",
    "from ergodic_insurance.config import ManufacturerConfig\n",
    "from ergodic_insurance.config_v2 import InsuranceConfig, ExcelReportConfig\n",
    "from ergodic_insurance.manufacturer import WidgetManufacturer\n",
    "from ergodic_insurance.claim_generator import ClaimGenerator\n",
    "from ergodic_insurance.insurance import InsurancePolicy\n",
    "from ergodic_insurance.excel_reporter import ExcelReporter\n",
    "from ergodic_insurance.financial_statements import (\n",
    "    FinancialStatementGenerator,\n",
    "    FinancialStatementConfig\n",
    ")\n",
    "\n",
    "# Set display options\n",
    "pd.set_option('display.max_columns', None)\n",
    "pd.set_option('display.width', None)\n",
    "pd.set_option('display.float_format', '{:,.2f}'.format)\n",
    "\n",
    "# Set style\n",
    "sns.set_style('whitegrid')\n",
    "plt.rcParams['figure.figsize'] = (12, 6)\n",
    "\n",
    "print(\"Setup complete!\")"
   ]
  },
  {
   "cell_type": "markdown",
   "id": "0402db24",
   "metadata": {
    "papermill": {
     "duration": 0.008978,
     "end_time": "2025-09-20T18:48:17.115011",
     "exception": false,
     "start_time": "2025-09-20T18:48:17.106033",
     "status": "completed"
    },
    "tags": []
   },
   "source": [
    "## 2. Run Simulation with Insurance Claims"
   ]
  },
  {
   "cell_type": "markdown",
   "id": "0e737d07",
   "metadata": {
    "tags": [
     "papermill-error-cell-tag"
    ]
   },
   "source": [
    "<span id=\"papermill-error-cell\" style=\"color:red; font-family:Helvetica Neue, Helvetica, Arial, sans-serif; font-size:2em;\">Execution using papermill encountered an exception here and stopped:</span>"
   ]
  },
  {
   "cell_type": "code",
   "execution_count": 2,
   "id": "2585f98b",
   "metadata": {
    "execution": {
     "iopub.execute_input": "2025-09-20T18:48:17.133328Z",
     "iopub.status.busy": "2025-09-20T18:48:17.131810Z",
     "iopub.status.idle": "2025-09-20T18:48:18.157399Z",
     "shell.execute_reply": "2025-09-20T18:48:18.156886Z"
    },
    "papermill": {
     "duration": 1.037696,
     "end_time": "2025-09-20T18:48:18.160207",
     "exception": true,
     "start_time": "2025-09-20T18:48:17.122511",
     "status": "failed"
    },
    "tags": []
   },
   "outputs": [
    {
     "ename": "TypeError",
     "evalue": "ClaimGenerator.__init__() got an unexpected keyword argument 'frequency'",
     "output_type": "error",
     "traceback": [
      "\u001b[31m---------------------------------------------------------------------------\u001b[39m",
      "\u001b[31mTypeError\u001b[39m                                 Traceback (most recent call last)",
      "\u001b[36mCell\u001b[39m\u001b[36m \u001b[39m\u001b[32mIn[2]\u001b[39m\u001b[32m, line 15\u001b[39m\n\u001b[32m     10\u001b[39m manufacturer = WidgetManufacturer(manufacturer_config)\n\u001b[32m     12\u001b[39m \u001b[38;5;66;03m# Create claim generator with appropriate parameters\u001b[39;00m\n\u001b[32m     13\u001b[39m \u001b[38;5;66;03m# Note: ClaimGenerator doesn't have separate attritional/large loss configs\u001b[39;00m\n\u001b[32m     14\u001b[39m \u001b[38;5;66;03m# We'll use moderate frequency and severity for demonstration\u001b[39;00m\n\u001b[32m---> \u001b[39m\u001b[32m15\u001b[39m claim_generator = \u001b[43mClaimGenerator\u001b[49m\u001b[43m(\u001b[49m\n\u001b[32m     16\u001b[39m \u001b[43m    \u001b[49m\u001b[43mfrequency\u001b[49m\u001b[43m=\u001b[49m\u001b[32;43m5.3\u001b[39;49m\u001b[43m,\u001b[49m\u001b[43m  \u001b[49m\u001b[38;5;66;43;03m# Expected claims per year (combines attritional + large)\u001b[39;49;00m\n\u001b[32m     17\u001b[39m \u001b[43m    \u001b[49m\u001b[43mseverity_mean\u001b[49m\u001b[43m=\u001b[49m\u001b[32;43m500_000\u001b[39;49m\u001b[43m,\u001b[49m\u001b[43m  \u001b[49m\u001b[38;5;66;43;03m# Mean claim size\u001b[39;49;00m\n\u001b[32m     18\u001b[39m \u001b[43m    \u001b[49m\u001b[43mseverity_std\u001b[49m\u001b[43m=\u001b[49m\u001b[32;43m750_000\u001b[39;49m\u001b[43m,\u001b[49m\u001b[43m  \u001b[49m\u001b[38;5;66;43;03m# Standard deviation of claim size\u001b[39;49;00m\n\u001b[32m     19\u001b[39m \u001b[43m    \u001b[49m\u001b[43mseed\u001b[49m\u001b[43m=\u001b[49m\u001b[32;43m42\u001b[39;49m\u001b[43m  \u001b[49m\u001b[38;5;66;43;03m# For reproducibility\u001b[39;49;00m\n\u001b[32m     20\u001b[39m \u001b[43m)\u001b[49m\n\u001b[32m     22\u001b[39m \u001b[38;5;66;03m# Configure insurance with layers\u001b[39;00m\n\u001b[32m     23\u001b[39m \u001b[38;5;28;01mfrom\u001b[39;00m\u001b[38;5;250m \u001b[39m\u001b[34;01mergodic_insurance\u001b[39;00m\u001b[34;01m.\u001b[39;00m\u001b[34;01minsurance\u001b[39;00m\u001b[38;5;250m \u001b[39m\u001b[38;5;28;01mimport\u001b[39;00m InsuranceLayer\n",
      "\u001b[31mTypeError\u001b[39m: ClaimGenerator.__init__() got an unexpected keyword argument 'frequency'"
     ]
    }
   ],
   "source": [
    "# Configure and create manufacturer\n",
    "manufacturer_config = ManufacturerConfig(\n",
    "    initial_assets=10_000_000,\n",
    "    asset_turnover_ratio=0.5,\n",
    "    base_operating_margin=0.08,\n",
    "    tax_rate=0.25,\n",
    "    retention_ratio=0.7\n",
    ")\n",
    "\n",
    "manufacturer = WidgetManufacturer(manufacturer_config)\n",
    "\n",
    "# Create claim generator with appropriate parameters\n",
    "# Note: ClaimGenerator doesn't have separate attritional/large loss configs\n",
    "# We'll use moderate frequency and severity for demonstration\n",
    "claim_generator = ClaimGenerator(\n",
    "    frequency=5.3,  # Expected claims per year (combines attritional + large)\n",
    "    severity_mean=500_000,  # Mean claim size\n",
    "    severity_std=750_000,  # Standard deviation of claim size\n",
    "    seed=42  # For reproducibility\n",
    ")\n",
    "\n",
    "# Configure insurance with layers\n",
    "from ergodic_insurance.insurance import InsuranceLayer\n",
    "\n",
    "# Create a single insurance layer with $5M limit above $100K attachment\n",
    "insurance_layer = InsuranceLayer(\n",
    "    attachment_point=100_000,  # Deductible essentially\n",
    "    limit=5_000_000,  # Coverage limit\n",
    "    rate=0.02  # Premium as percentage of limit\n",
    ")\n",
    "\n",
    "insurance = InsurancePolicy(\n",
    "    layers=[insurance_layer],\n",
    "    deductible=100_000\n",
    ")\n",
    "\n",
    "print(\"Configuration complete!\")"
   ]
  },
  {
   "cell_type": "code",
   "execution_count": null,
   "id": "2e6dcc25",
   "metadata": {
    "papermill": {
     "duration": null,
     "end_time": null,
     "exception": null,
     "start_time": null,
     "status": "pending"
    },
    "tags": []
   },
   "outputs": [],
   "source": [
    "# Run 10-year simulation\n",
    "np.random.seed(42)\n",
    "simulation_years = 10\n",
    "\n",
    "# Generate all claims for the simulation period\n",
    "all_claims = claim_generator.generate_claims(simulation_years)\n",
    "\n",
    "# Group claims by year\n",
    "claims_by_year = {}\n",
    "for claim in all_claims:\n",
    "    if claim.year not in claims_by_year:\n",
    "        claims_by_year[claim.year] = []\n",
    "    claims_by_year[claim.year].append(claim.amount)\n",
    "\n",
    "for year in range(simulation_years):\n",
    "    # Get claims for this year\n",
    "    year_claims = claims_by_year.get(year, [])\n",
    "    total_claims = sum(year_claims)\n",
    "    \n",
    "    # Process insurance claims if there are any\n",
    "    if total_claims > 0:\n",
    "        company_payment, insurance_payment = insurance.process_claim(total_claims)\n",
    "    else:\n",
    "        company_payment, insurance_payment = 0, 0\n",
    "    \n",
    "    # Calculate insurance premium\n",
    "    insurance_premium = insurance.calculate_premium()\n",
    "    \n",
    "    # Run annual step\n",
    "    metrics = manufacturer.step(\n",
    "        working_capital_pct=0.2,\n",
    "        letter_of_credit_rate=0.015,\n",
    "        growth_rate=0.03\n",
    "    )\n",
    "    \n",
    "    # Deduct insurance costs and claim payments from company\n",
    "    manufacturer.assets -= insurance_premium + company_payment\n",
    "    manufacturer.equity -= insurance_premium + company_payment\n",
    "\n",
    "print(f\"Simulation complete! Final equity: ${manufacturer.equity:,.0f}\")"
   ]
  },
  {
   "cell_type": "markdown",
   "id": "8ad2e5c2",
   "metadata": {
    "papermill": {
     "duration": null,
     "end_time": null,
     "exception": null,
     "start_time": null,
     "status": "pending"
    },
    "tags": []
   },
   "source": [
    "## 3. Generate Financial Statements"
   ]
  },
  {
   "cell_type": "code",
   "execution_count": null,
   "id": "3e8e4482",
   "metadata": {
    "papermill": {
     "duration": null,
     "end_time": null,
     "exception": null,
     "start_time": null,
     "status": "pending"
    },
    "tags": []
   },
   "outputs": [],
   "source": [
    "# Create financial statement generator\n",
    "# We need to pass manufacturer_data directly since the manufacturer object\n",
    "# doesn't have an initial_assets attribute at the top level\n",
    "stmt_config = FinancialStatementConfig(\n",
    "    currency_symbol=\"$\",\n",
    "    decimal_places=0,\n",
    "    include_yoy_change=True\n",
    ")\n",
    "\n",
    "# Create manufacturer data dictionary with the required structure\n",
    "manufacturer_data = {\n",
    "    \"metrics_history\": manufacturer.metrics_history,\n",
    "    \"initial_assets\": manufacturer.config.initial_assets,\n",
    "    \"config\": manufacturer.config\n",
    "}\n",
    "\n",
    "stmt_generator = FinancialStatementGenerator(\n",
    "    manufacturer_data=manufacturer_data,\n",
    "    config=stmt_config\n",
    ")\n",
    "\n",
    "print(f\"Years available: {stmt_generator.years_available}\")"
   ]
  },
  {
   "cell_type": "markdown",
   "id": "e635d1b3",
   "metadata": {
    "papermill": {
     "duration": null,
     "end_time": null,
     "exception": null,
     "start_time": null,
     "status": "pending"
    },
    "tags": []
   },
   "source": [
    "### 3.1 Balance Sheet"
   ]
  },
  {
   "cell_type": "code",
   "execution_count": null,
   "id": "fb736626",
   "metadata": {
    "papermill": {
     "duration": null,
     "end_time": null,
     "exception": null,
     "start_time": null,
     "status": "pending"
    },
    "tags": []
   },
   "outputs": [],
   "source": [
    "# Generate balance sheet for the last year\n",
    "last_year = stmt_generator.years_available - 1\n",
    "balance_sheet = stmt_generator.generate_balance_sheet(last_year)\n",
    "\n",
    "# Display key items\n",
    "print(\"BALANCE SHEET - Year\", last_year)\n",
    "print(\"=\" * 50)\n",
    "display(balance_sheet[balance_sheet['Item'].str.contains('TOTAL|ASSETS|LIABILITIES|EQUITY', na=False)])"
   ]
  },
  {
   "cell_type": "markdown",
   "id": "8cb0aa9e",
   "metadata": {
    "papermill": {
     "duration": null,
     "end_time": null,
     "exception": null,
     "start_time": null,
     "status": "pending"
    },
    "tags": []
   },
   "source": [
    "### 3.2 Income Statement"
   ]
  },
  {
   "cell_type": "code",
   "execution_count": null,
   "id": "2e8945a9",
   "metadata": {
    "papermill": {
     "duration": null,
     "end_time": null,
     "exception": null,
     "start_time": null,
     "status": "pending"
    },
    "tags": []
   },
   "outputs": [],
   "source": [
    "# Generate income statement\n",
    "income_statement = stmt_generator.generate_income_statement(last_year)\n",
    "\n",
    "# Display key items\n",
    "print(\"INCOME STATEMENT - Year\", last_year)\n",
    "print(\"=\" * 50)\n",
    "display(income_statement[income_statement['Item'].str.contains('REVENUE|INCOME|NET', na=False)])"
   ]
  },
  {
   "cell_type": "markdown",
   "id": "b6cdbda3",
   "metadata": {
    "papermill": {
     "duration": null,
     "end_time": null,
     "exception": null,
     "start_time": null,
     "status": "pending"
    },
    "tags": []
   },
   "source": [
    "### 3.3 Cash Flow Statement"
   ]
  },
  {
   "cell_type": "code",
   "execution_count": null,
   "id": "5962c3c5",
   "metadata": {
    "papermill": {
     "duration": null,
     "end_time": null,
     "exception": null,
     "start_time": null,
     "status": "pending"
    },
    "tags": []
   },
   "outputs": [],
   "source": [
    "# Generate cash flow statement\n",
    "cash_flow = stmt_generator.generate_cash_flow_statement(last_year, method='indirect')\n",
    "\n",
    "# Display summary\n",
    "print(\"CASH FLOW STATEMENT - Year\", last_year)\n",
    "print(\"=\" * 50)\n",
    "display(cash_flow[cash_flow['Item'].str.contains('ACTIVITIES|NET CHANGE', na=False)])"
   ]
  },
  {
   "cell_type": "markdown",
   "id": "1be5b821",
   "metadata": {
    "papermill": {
     "duration": null,
     "end_time": null,
     "exception": null,
     "start_time": null,
     "status": "pending"
    },
    "tags": []
   },
   "source": [
    "### 3.4 Reconciliation Report"
   ]
  },
  {
   "cell_type": "code",
   "execution_count": null,
   "id": "2fe88465",
   "metadata": {
    "papermill": {
     "duration": null,
     "end_time": null,
     "exception": null,
     "start_time": null,
     "status": "pending"
    },
    "tags": []
   },
   "outputs": [],
   "source": [
    "# Generate reconciliation report\n",
    "reconciliation = stmt_generator.generate_reconciliation_report(last_year)\n",
    "\n",
    "print(\"RECONCILIATION REPORT - Year\", last_year)\n",
    "print(\"=\" * 50)\n",
    "display(reconciliation)"
   ]
  },
  {
   "cell_type": "markdown",
   "id": "55b4ef55",
   "metadata": {
    "papermill": {
     "duration": null,
     "end_time": null,
     "exception": null,
     "start_time": null,
     "status": "pending"
    },
    "tags": []
   },
   "source": [
    "## 4. Generate Excel Reports"
   ]
  },
  {
   "cell_type": "markdown",
   "id": "b52f89f9",
   "metadata": {
    "papermill": {
     "duration": null,
     "end_time": null,
     "exception": null,
     "start_time": null,
     "status": "pending"
    },
    "tags": []
   },
   "source": [
    "### 4.1 Basic Excel Report"
   ]
  },
  {
   "cell_type": "code",
   "execution_count": null,
   "id": "87518fc9",
   "metadata": {
    "papermill": {
     "duration": null,
     "end_time": null,
     "exception": null,
     "start_time": null,
     "status": "pending"
    },
    "tags": []
   },
   "outputs": [],
   "source": [
    "# Create output directory\n",
    "output_dir = Path(\"./excel_reports\")\n",
    "output_dir.mkdir(exist_ok=True)\n",
    "\n",
    "# Save basic report with pandas\n",
    "basic_file = output_dir / \"basic_financial_statements.xlsx\"\n",
    "\n",
    "with pd.ExcelWriter(basic_file, engine='openpyxl') as writer:\n",
    "    balance_sheet.to_excel(writer, sheet_name='Balance Sheet', index=False)\n",
    "    income_statement.to_excel(writer, sheet_name='Income Statement', index=False)\n",
    "    cash_flow.to_excel(writer, sheet_name='Cash Flow', index=False)\n",
    "    reconciliation.to_excel(writer, sheet_name='Reconciliation', index=False)\n",
    "\n",
    "print(f\"Basic report saved to: {basic_file}\")"
   ]
  },
  {
   "cell_type": "markdown",
   "id": "5f8fc44c",
   "metadata": {
    "papermill": {
     "duration": null,
     "end_time": null,
     "exception": null,
     "start_time": null,
     "status": "pending"
    },
    "tags": []
   },
   "source": [
    "### 4.2 Comprehensive Excel Report with Formatting"
   ]
  },
  {
   "cell_type": "code",
   "execution_count": null,
   "id": "c34bbf70",
   "metadata": {
    "papermill": {
     "duration": null,
     "end_time": null,
     "exception": null,
     "start_time": null,
     "status": "pending"
    },
    "tags": []
   },
   "outputs": [],
   "source": [
    "# Configure Excel reporter\n",
    "# Note: ExcelReportConfig expects a string path, but ExcelReporter tries to use it as Path\n",
    "# We'll work around this by creating the directory first\n",
    "output_dir.mkdir(exist_ok=True)\n",
    "\n",
    "excel_config = ExcelReportConfig(\n",
    "    output_path=str(output_dir),  # Convert Path to string as required by config\n",
    "    include_balance_sheet=True,\n",
    "    include_income_statement=True,\n",
    "    include_cash_flow=True,\n",
    "    include_reconciliation=True,\n",
    "    include_metrics_dashboard=True,\n",
    "    include_pivot_data=True,\n",
    "    engine=\"auto\",\n",
    "    currency_format=\"$#,##0\",\n",
    "    decimal_places=0\n",
    ")\n",
    "\n",
    "# Patch the config's output_path to be a Path object for ExcelReporter\n",
    "# This is a workaround for the type mismatch\n",
    "from pathlib import Path as PathType\n",
    "excel_config_dict = excel_config.model_dump()\n",
    "excel_config_dict['output_path'] = PathType(excel_config_dict['output_path'])\n",
    "\n",
    "# Create reporter with patched config\n",
    "from ergodic_insurance.config_v2 import ExcelReportConfig as ConfigClass\n",
    "patched_config = type('ExcelReportConfig', (), excel_config_dict)()\n",
    "for key, value in excel_config_dict.items():\n",
    "    setattr(patched_config, key, value)\n",
    "\n",
    "reporter = ExcelReporter(patched_config)\n",
    "\n",
    "# Add the missing initial_assets attribute to manufacturer\n",
    "# This is a workaround for the FinancialStatementGenerator compatibility issue\n",
    "manufacturer.initial_assets = manufacturer.config.initial_assets\n",
    "\n",
    "# Generate comprehensive report\n",
    "comprehensive_file = reporter.generate_trajectory_report(\n",
    "    manufacturer,\n",
    "    \"comprehensive_financial_report.xlsx\",\n",
    "    title=\"Widget Manufacturing Company - Financial Analysis\"\n",
    ")\n",
    "\n",
    "print(f\"Comprehensive report saved to: {comprehensive_file}\")\n",
    "print(f\"Report engine used: {reporter.engine}\")"
   ]
  },
  {
   "cell_type": "markdown",
   "id": "40d30221",
   "metadata": {
    "papermill": {
     "duration": null,
     "end_time": null,
     "exception": null,
     "start_time": null,
     "status": "pending"
    },
    "tags": []
   },
   "source": [
    "## 5. Multi-Year Analysis"
   ]
  },
  {
   "cell_type": "code",
   "execution_count": null,
   "id": "36f8493b",
   "metadata": {
    "papermill": {
     "duration": null,
     "end_time": null,
     "exception": null,
     "start_time": null,
     "status": "pending"
    },
    "tags": []
   },
   "outputs": [],
   "source": [
    "# Create multi-year summary\n",
    "metrics_summary = []\n",
    "\n",
    "for year in range(stmt_generator.years_available):\n",
    "    metrics = manufacturer.metrics_history[year]\n",
    "    summary = {\n",
    "        'Year': year,\n",
    "        'Assets': metrics.get('assets', 0),\n",
    "        'Equity': metrics.get('equity', 0),\n",
    "        'Revenue': metrics.get('revenue', 0),\n",
    "        'Operating Income': metrics.get('operating_income', 0),\n",
    "        'Net Income': metrics.get('net_income', 0),\n",
    "        'ROE %': metrics.get('roe', 0) * 100,\n",
    "        'ROA %': metrics.get('roa', 0) * 100,\n",
    "        'Operating Margin %': metrics.get('base_operating_margin', 0) * 100\n",
    "    }\n",
    "    metrics_summary.append(summary)\n",
    "\n",
    "multi_year_df = pd.DataFrame(metrics_summary)\n",
    "\n",
    "# Calculate growth rates\n",
    "multi_year_df['Revenue Growth %'] = multi_year_df['Revenue'].pct_change() * 100\n",
    "multi_year_df['Asset Growth %'] = multi_year_df['Assets'].pct_change() * 100\n",
    "\n",
    "display(multi_year_df)"
   ]
  },
  {
   "cell_type": "markdown",
   "id": "3353cec9",
   "metadata": {
    "papermill": {
     "duration": null,
     "end_time": null,
     "exception": null,
     "start_time": null,
     "status": "pending"
    },
    "tags": []
   },
   "source": [
    "## 6. Visualizations"
   ]
  },
  {
   "cell_type": "code",
   "execution_count": null,
   "id": "e8823093",
   "metadata": {
    "papermill": {
     "duration": null,
     "end_time": null,
     "exception": null,
     "start_time": null,
     "status": "pending"
    },
    "tags": []
   },
   "outputs": [],
   "source": [
    "# Create visualizations\n",
    "fig, axes = plt.subplots(2, 2, figsize=(15, 10))\n",
    "\n",
    "# Asset and Equity Growth\n",
    "axes[0, 0].plot(multi_year_df['Year'], multi_year_df['Assets'], marker='o', label='Assets')\n",
    "axes[0, 0].plot(multi_year_df['Year'], multi_year_df['Equity'], marker='s', label='Equity')\n",
    "axes[0, 0].set_title('Assets and Equity Growth')\n",
    "axes[0, 0].set_xlabel('Year')\n",
    "axes[0, 0].set_ylabel('Value ($)')\n",
    "axes[0, 0].legend()\n",
    "axes[0, 0].grid(True)\n",
    "\n",
    "# Revenue and Income\n",
    "axes[0, 1].plot(multi_year_df['Year'], multi_year_df['Revenue'], marker='o', label='Revenue')\n",
    "axes[0, 1].plot(multi_year_df['Year'], multi_year_df['Net Income'], marker='s', label='Net Income')\n",
    "axes[0, 1].set_title('Revenue and Net Income')\n",
    "axes[0, 1].set_xlabel('Year')\n",
    "axes[0, 1].set_ylabel('Value ($)')\n",
    "axes[0, 1].legend()\n",
    "axes[0, 1].grid(True)\n",
    "\n",
    "# Financial Ratios\n",
    "axes[1, 0].plot(multi_year_df['Year'], multi_year_df['ROE %'], marker='o', label='ROE')\n",
    "axes[1, 0].plot(multi_year_df['Year'], multi_year_df['ROA %'], marker='s', label='ROA')\n",
    "axes[1, 0].set_title('Return Ratios')\n",
    "axes[1, 0].set_xlabel('Year')\n",
    "axes[1, 0].set_ylabel('Percentage (%)')\n",
    "axes[1, 0].legend()\n",
    "axes[1, 0].grid(True)\n",
    "\n",
    "# Growth Rates\n",
    "axes[1, 1].bar(multi_year_df['Year'][1:], multi_year_df['Revenue Growth %'][1:], \n",
    "               alpha=0.7, label='Revenue Growth')\n",
    "axes[1, 1].bar(multi_year_df['Year'][1:], multi_year_df['Asset Growth %'][1:], \n",
    "               alpha=0.7, label='Asset Growth')\n",
    "axes[1, 1].set_title('Year-over-Year Growth Rates')\n",
    "axes[1, 1].set_xlabel('Year')\n",
    "axes[1, 1].set_ylabel('Growth Rate (%)')\n",
    "axes[1, 1].legend()\n",
    "axes[1, 1].grid(True)\n",
    "\n",
    "plt.tight_layout()\n",
    "plt.show()"
   ]
  },
  {
   "cell_type": "markdown",
   "id": "aa52bfff",
   "metadata": {
    "papermill": {
     "duration": null,
     "end_time": null,
     "exception": null,
     "start_time": null,
     "status": "pending"
    },
    "tags": []
   },
   "source": [
    "## 7. Summary Statistics"
   ]
  },
  {
   "cell_type": "code",
   "execution_count": null,
   "id": "3a1e1ab8",
   "metadata": {
    "papermill": {
     "duration": null,
     "end_time": null,
     "exception": null,
     "start_time": null,
     "status": "pending"
    },
    "tags": []
   },
   "outputs": [],
   "source": [
    "# Calculate summary statistics\n",
    "print(\"SUMMARY STATISTICS\")\n",
    "print(\"=\" * 50)\n",
    "print(f\"Initial Assets: ${multi_year_df['Assets'].iloc[0]:,.0f}\")\n",
    "print(f\"Final Assets: ${multi_year_df['Assets'].iloc[-1]:,.0f}\")\n",
    "print(f\"Total Asset Growth: {(multi_year_df['Assets'].iloc[-1] / multi_year_df['Assets'].iloc[0] - 1) * 100:.1f}%\")\n",
    "print(f\"CAGR (Assets): {((multi_year_df['Assets'].iloc[-1] / multi_year_df['Assets'].iloc[0]) ** (1/(len(multi_year_df)-1)) - 1) * 100:.1f}%\")\n",
    "print()\n",
    "print(f\"Average Revenue: ${multi_year_df['Revenue'].mean():,.0f}\")\n",
    "print(f\"Average Net Income: ${multi_year_df['Net Income'].mean():,.0f}\")\n",
    "print(f\"Average ROE: {multi_year_df['ROE %'].mean():.1f}%\")\n",
    "print(f\"Average ROA: {multi_year_df['ROA %'].mean():.1f}%\")\n",
    "print(f\"Average Operating Margin: {multi_year_df['Operating Margin %'].mean():.1f}%\")"
   ]
  },
  {
   "cell_type": "markdown",
   "id": "64310d8a",
   "metadata": {
    "papermill": {
     "duration": null,
     "end_time": null,
     "exception": null,
     "start_time": null,
     "status": "pending"
    },
    "tags": []
   },
   "source": [
    "## 8. Export Multi-Year Analysis to Excel"
   ]
  },
  {
   "cell_type": "code",
   "execution_count": null,
   "id": "798d8304",
   "metadata": {
    "papermill": {
     "duration": null,
     "end_time": null,
     "exception": null,
     "start_time": null,
     "status": "pending"
    },
    "tags": []
   },
   "outputs": [],
   "source": [
    "# Save multi-year analysis\n",
    "analysis_file = output_dir / \"multi_year_analysis.xlsx\"\n",
    "\n",
    "with pd.ExcelWriter(analysis_file, engine='openpyxl') as writer:\n",
    "    # Multi-year summary\n",
    "    multi_year_df.to_excel(writer, sheet_name='Multi-Year Summary', index=False)\n",
    "    \n",
    "    # Add each year's statements\n",
    "    for year in range(min(5, stmt_generator.years_available)):  # Limit to 5 years\n",
    "        bs = stmt_generator.generate_balance_sheet(year)\n",
    "        bs.to_excel(writer, sheet_name=f'BS Year {year}', index=False)\n",
    "    \n",
    "    # Summary statistics\n",
    "    summary_stats = pd.DataFrame({\n",
    "        'Metric': ['Initial Assets', 'Final Assets', 'Total Growth %', 'CAGR %', \n",
    "                  'Avg Revenue', 'Avg Net Income', 'Avg ROE %', 'Avg ROA %'],\n",
    "        'Value': [\n",
    "            multi_year_df['Assets'].iloc[0],\n",
    "            multi_year_df['Assets'].iloc[-1],\n",
    "            (multi_year_df['Assets'].iloc[-1] / multi_year_df['Assets'].iloc[0] - 1) * 100,\n",
    "            ((multi_year_df['Assets'].iloc[-1] / multi_year_df['Assets'].iloc[0]) ** (1/(len(multi_year_df)-1)) - 1) * 100,\n",
    "            multi_year_df['Revenue'].mean(),\n",
    "            multi_year_df['Net Income'].mean(),\n",
    "            multi_year_df['ROE %'].mean(),\n",
    "            multi_year_df['ROA %'].mean()\n",
    "        ]\n",
    "    })\n",
    "    summary_stats.to_excel(writer, sheet_name='Summary Statistics', index=False)\n",
    "\n",
    "print(f\"Multi-year analysis saved to: {analysis_file}\")"
   ]
  },
  {
   "cell_type": "markdown",
   "id": "a8e1ebe1",
   "metadata": {
    "papermill": {
     "duration": null,
     "end_time": null,
     "exception": null,
     "start_time": null,
     "status": "pending"
    },
    "tags": []
   },
   "source": [
    "## 9. Batch Processing Integration"
   ]
  },
  {
   "cell_type": "code",
   "execution_count": null,
   "id": "5a20a5fe",
   "metadata": {
    "papermill": {
     "duration": null,
     "end_time": null,
     "exception": null,
     "start_time": null,
     "status": "pending"
    },
    "tags": []
   },
   "outputs": [],
   "source": [
    "# Demonstrate batch processor integration\n",
    "from ergodic_insurance.batch_processor import BatchProcessor\n",
    "\n",
    "# The batch processor can now export financial statements using:\n",
    "# batch_processor.export_results(\"reports/batch_results.xlsx\", export_format=\"excel_financial\")\n",
    "\n",
    "print(\"Batch processor integration available!\")\n",
    "print(\"Use export_format='excel_financial' to generate comprehensive financial reports\")"
   ]
  },
  {
   "cell_type": "markdown",
   "id": "83f66a8f",
   "metadata": {
    "papermill": {
     "duration": null,
     "end_time": null,
     "exception": null,
     "start_time": null,
     "status": "pending"
    },
    "tags": []
   },
   "source": [
    "## 10. Conclusion\n",
    "\n",
    "This notebook demonstrated:\n",
    "\n",
    "1. **Financial Statement Generation**: Creating balance sheets, income statements, cash flow statements, and reconciliation reports\n",
    "2. **Excel Export**: Both basic and comprehensive Excel reports with formatting\n",
    "3. **Multi-Year Analysis**: Tracking financial metrics over time\n",
    "4. **Visualizations**: Graphical representation of financial trends\n",
    "5. **Integration**: How to use Excel reporting with batch processing\n",
    "\n",
    "The Excel reporting functionality provides:\n",
    "- Professional financial statements\n",
    "- Automatic reconciliation checks\n",
    "- Metrics dashboards\n",
    "- Pivot-ready data structures\n",
    "- Support for both single trajectories and Monte Carlo aggregations"
   ]
  }
 ],
 "metadata": {
  "kernelspec": {
   "display_name": ".venv",
   "language": "python",
   "name": "python3"
  },
  "language_info": {
   "codemirror_mode": {
    "name": "ipython",
    "version": 3
   },
   "file_extension": ".py",
   "mimetype": "text/x-python",
   "name": "python",
   "nbconvert_exporter": "python",
   "pygments_lexer": "ipython3",
   "version": "3.12.10"
  },
  "papermill": {
   "default_parameters": {},
   "duration": 7.774307,
   "end_time": "2025-09-20T18:48:18.945433",
   "environment_variables": {},
   "exception": true,
   "input_path": "25_excel_reporting.ipynb",
   "output_path": "results_20250920_143059\\executed_25_excel_reporting.ipynb",
   "parameters": {},
   "start_time": "2025-09-20T18:48:11.171126",
   "version": "2.6.0"
  }
 },
 "nbformat": 4,
 "nbformat_minor": 5
}
