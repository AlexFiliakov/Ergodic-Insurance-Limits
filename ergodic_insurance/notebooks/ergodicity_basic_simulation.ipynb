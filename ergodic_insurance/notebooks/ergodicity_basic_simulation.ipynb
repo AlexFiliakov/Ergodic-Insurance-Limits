{
 "cells": [
  {
   "cell_type": "markdown",
   "id": "ef2229a8",
   "metadata": {},
   "source": [
    "# Basic Risk Frontier\n",
    "\n",
    "Future enhancements:\n",
    "- Consider trends and discounting"
   ]
  },
  {
   "cell_type": "code",
   "execution_count": 1,
   "id": "e455cffe",
   "metadata": {},
   "outputs": [],
   "source": [
    "# Import required libraries\n",
    "import numpy as np\n",
    "import pandas as pd\n",
    "import matplotlib.pyplot as plt\n",
    "import seaborn as sns\n",
    "from typing import List, Dict, Any\n",
    "import warnings\n",
    "import sys\n",
    "from pathlib import Path\n",
    "warnings.filterwarnings('ignore')\n",
    "\n",
    "# Set plotting style\n",
    "plt.style.use('seaborn-v0_8-darkgrid')\n",
    "sns.set_palette(\"husl\")\n",
    "\n",
    "from ergodic_insurance.config import ManufacturerConfig\n",
    "from ergodic_insurance.manufacturer import WidgetManufacturer\n",
    "from ergodic_insurance.exposure_base import RevenueExposure\n",
    "from ergodic_insurance.insurance import InsurancePolicy, InsuranceLayer\n",
    "from ergodic_insurance.simulation import Simulation, SimulationResults\n",
    "from ergodic_insurance.ergodic_analyzer import ErgodicAnalyzer\n",
    "from ergodic_insurance.loss_distributions import ManufacturingLossGenerator\n",
    "from ergodic_insurance.insurance_program import EnhancedInsuranceLayer, InsuranceProgram"
   ]
  },
  {
   "cell_type": "markdown",
   "id": "c2b134eb",
   "metadata": {},
   "source": [
    "## Define the Corporate Profile"
   ]
  },
  {
   "cell_type": "code",
   "execution_count": 2,
   "id": "f1d8a3b2",
   "metadata": {},
   "outputs": [],
   "source": [
    "INITIAL_ASSETS = 10_000_000\n",
    "ASSET_TURNOVER_RATIO = 1.0  # Revenue = Assets × Turnover\n",
    "EBITA_MARGIN_TARGET = 0.05  # EBITA after claims and insurance\n",
    "DEDUCTIBLE = 50_000\n",
    "LOSS_RATIO = 0.70\n",
    "\n",
    "NUM_SIMULATIONS = 100\n",
    "SIM_YEARS = 50\n",
    "\n",
    "# Create manufacturer configuration\n",
    "manufacturer_config = ManufacturerConfig(\n",
    "    initial_assets=INITIAL_ASSETS,\n",
    "    asset_turnover_ratio=ASSET_TURNOVER_RATIO,  # Revenue = Assets × Turnover\n",
    "    base_operating_margin=0.10,  # EBITA before claims and insurance (need to calibrate)\n",
    "    tax_rate=0.25,  # Current US Tax Rate\n",
    "    retention_ratio=0.70,  # 30% dividends\n",
    "    ppe_ratio=0.00,  # 0% of assets in PPE, so there is no depreciation expense\n",
    ")\n",
    "\n",
    "# Create widget manufacturer\n",
    "base_manufacturer = WidgetManufacturer(manufacturer_config)\n",
    "\n",
    "# Create exposure base based on revenue\n",
    "exposure = RevenueExposure(state_provider=base_manufacturer)\n"
   ]
  },
  {
   "cell_type": "markdown",
   "id": "61b541de",
   "metadata": {},
   "source": [
    "## Define Losses"
   ]
  },
  {
   "cell_type": "code",
   "execution_count": 3,
   "id": "99f3fe50",
   "metadata": {
    "notebookRunGroups": {
     "groupValue": "1"
    }
   },
   "outputs": [],
   "source": [
    "cur_revenue = base_manufacturer.total_assets * base_manufacturer.asset_turnover_ratio\n",
    "\n",
    "# Calibrate claim generator for EBITA of 5%\n",
    "target_ebita_margin = 0.05\n",
    "\n",
    "generator = ManufacturingLossGenerator(\n",
    "    attritional_params={\n",
    "        'base_frequency': 2.85,\n",
    "        'severity_mean': 40_000,\n",
    "        'severity_cv': 0.8,\n",
    "        'revenue_scaling_exponent': 1.0,\n",
    "        'reference_revenue': cur_revenue\n",
    "    },\n",
    "    large_params={\n",
    "        'base_frequency': 0.20,\n",
    "        'severity_mean': 500_000,\n",
    "        'severity_cv': 1.5,\n",
    "        'revenue_scaling_exponent': 1.0,\n",
    "        'reference_revenue': cur_revenue\n",
    "    },\n",
    "    catastrophic_params={\n",
    "        'base_frequency': 0.02,\n",
    "        'severity_xm': 5_000_000,\n",
    "        'severity_alpha': 2.5,\n",
    "        'revenue_scaling_exponent': 1.0,\n",
    "        'reference_revenue': cur_revenue\n",
    "    },\n",
    "    seed=42\n",
    ")"
   ]
  },
  {
   "cell_type": "code",
   "execution_count": null,
   "id": "a38d5abf",
   "metadata": {},
   "outputs": [],
   "source": [
    "deductible = DEDUCTIBLE\n",
    "policy_limit = 1_000_000_000\n"
   ]
  },
  {
   "cell_type": "markdown",
   "id": "19d3f753",
   "metadata": {},
   "source": [
    "## Estimate Premium Assuming Perfect Distributional Knowledge"
   ]
  },
  {
   "cell_type": "code",
   "execution_count": 5,
   "id": "3b480ae6",
   "metadata": {},
   "outputs": [
    {
     "name": "stdout",
     "output_type": "stream",
     "text": [
      "Average Annual Insured Loss: $276,508\n",
      "Average Annual Retained Loss: $102,530\n"
     ]
    }
   ],
   "source": [
    "pricing_simulation_years = 500_000\n",
    "\n",
    "total_insured_loss = 0.0\n",
    "insured_loss_list = []\n",
    "\n",
    "total_retained_loss = 0.0\n",
    "retained_loss_list = []\n",
    "\n",
    "for yr in range(pricing_simulation_years):\n",
    "    loss_events, loss_meta = generator.generate_losses(duration=1, revenue=base_manufacturer.base_revenue)\n",
    "    for loss_event in loss_events:\n",
    "        insured_loss = max(min(loss_event.amount, policy_limit) - deductible,0)\n",
    "        \n",
    "        total_insured_loss += insured_loss\n",
    "        insured_loss_list.append(insured_loss)\n",
    "\n",
    "        retained_loss = loss_event.amount - insured_loss\n",
    "        total_retained_loss += retained_loss\n",
    "        retained_loss_list.append(retained_loss)\n",
    "\n",
    "average_annual_insured_loss = total_insured_loss / pricing_simulation_years\n",
    "average_annual_retained_loss = total_retained_loss / pricing_simulation_years\n",
    "print(f\"Average Annual Insured Loss: ${average_annual_insured_loss:,.0f}\")\n",
    "print(f\"Average Annual Retained Loss: ${average_annual_retained_loss:,.0f}\")"
   ]
  },
  {
   "cell_type": "code",
   "execution_count": 6,
   "id": "99d7aeaf",
   "metadata": {},
   "outputs": [
    {
     "name": "stdout",
     "output_type": "stream",
     "text": [
      "Ground-Up Excess Kurtosis: 3728.03\n"
     ]
    }
   ],
   "source": [
    "ground_up_losses = np.asarray(insured_loss_list, dtype=float) + np.asarray(retained_loss_list, dtype=float)\n",
    "EXCESS_KURTOSIS = pd.Series(ground_up_losses).kurtosis()\n",
    "print(f\"Ground-Up Excess Kurtosis: {EXCESS_KURTOSIS:.2f}\")"
   ]
  },
  {
   "cell_type": "code",
   "execution_count": 7,
   "id": "6f50093d",
   "metadata": {},
   "outputs": [
    {
     "name": "stdout",
     "output_type": "stream",
     "text": [
      "Total observations: 1,535,961\n",
      "Zero (below deductible) count: 1,072,868 (69.8%)\n",
      "Positive insured losses: 463,093\n",
      "Mean positive loss: 298,544\n",
      "Median positive loss: 28,866\n",
      "95th percentile: 891,644\n",
      "99th percentile: 6,852,111\n",
      "Max loss (capped): 99,950,000\n"
     ]
    },
    {
     "data": {
      "image/png": "[encoded data removed]",
      "text/plain": [
       "<Figure size 900x1200 with 3 Axes>"
      ]
     },
     "metadata": {},
     "output_type": "display_data"
    }
   ],
   "source": [
    "# Plot distribution of insured losses from loss_list\n",
    "\n",
    "loss_array = np.asarray(insured_loss_list, dtype=float)\n",
    "\n",
    "# Basic summary\n",
    "zero_count = np.sum(loss_array == 0)\n",
    "positive_losses = loss_array[loss_array > 0]\n",
    "print(f\"Total observations: {loss_array.size:,}\")\n",
    "print(f\"Zero (below deductible) count: {zero_count:,} ({zero_count / loss_array.size:.1%})\")\n",
    "print(f\"Positive insured losses: {positive_losses.size:,}\")\n",
    "if positive_losses.size:\n",
    "    print(f\"Mean positive loss: {positive_losses.mean():,.0f}\")\n",
    "    print(f\"Median positive loss: {np.median(positive_losses):,.0f}\")\n",
    "    print(f\"95th percentile: {np.percentile(positive_losses,95):,.0f}\")\n",
    "    print(f\"99th percentile: {np.percentile(positive_losses,99):,.0f}\")\n",
    "    print(f\"Max loss (capped): {positive_losses.max():,.0f}\")\n",
    "\n",
    "# Optional down-sample for plotting heavy tails\n",
    "max_points = 200_000\n",
    "if positive_losses.size > max_points:\n",
    "    rng = np.random.default_rng(42)\n",
    "    sample_idx = rng.choice(positive_losses.size, size=max_points, replace=False)\n",
    "    plot_positive = positive_losses[sample_idx]\n",
    "else:\n",
    "    plot_positive = positive_losses\n",
    "\n",
    "fig, axes = plt.subplots(3, 1, figsize=(9, 12))\n",
    "\n",
    "# Zero vs positive\n",
    "axes[0].bar(['Zero','> 0'], [zero_count, positive_losses.size], color=['#888','#1f77b4'])\n",
    "axes[0].set_title('Zero vs Positive Insured Loss Counts')\n",
    "axes[0].set_ylabel('Count')\n",
    "\n",
    "# Histogram (linear scale, truncated upper tail to 99.5% for visibility)\n",
    "if positive_losses.size:\n",
    "    upper_cut = np.percentile(plot_positive, 99.5)\n",
    "    sns.histplot(plot_positive[plot_positive <= upper_cut],\n",
    "                 bins=50, ax=axes[1], color='#1f77b4')\n",
    "    axes[1].set_title('Insured Losses (<= 99.5th pct)')\n",
    "    axes[1].set_xlabel('Loss Amount')\n",
    "\n",
    "# Histogram (log x scale for tail)\n",
    "if positive_losses.size:\n",
    "    sns.histplot(plot_positive, bins=100, ax=axes[2], color='#ff7f0e')\n",
    "    axes[2].set_xscale('log')\n",
    "    axes[2].set_title('Insured Losses (Log X Scale)')\n",
    "    axes[2].set_xlabel('Loss Amount (log scale)')\n",
    "\n",
    "fig.suptitle('Distribution of Insured Losses', fontsize=14, y=1.02)\n",
    "plt.tight_layout()\n",
    "plt.show()"
   ]
  },
  {
   "cell_type": "code",
   "execution_count": 8,
   "id": "732452d5",
   "metadata": {},
   "outputs": [
    {
     "name": "stdout",
     "output_type": "stream",
     "text": [
      "Annual Premium: $395,011\n",
      "Total Annual Cost of Risk: $497,541\n"
     ]
    }
   ],
   "source": [
    "loss_ratio = LOSS_RATIO\n",
    "\n",
    "annual_premium = average_annual_insured_loss / loss_ratio\n",
    "print(f\"Annual Premium: ${annual_premium:,.0f}\")\n",
    "\n",
    "total_cost_of_risk = annual_premium + average_annual_retained_loss\n",
    "print(f\"Total Annual Cost of Risk: ${total_cost_of_risk:,.0f}\")"
   ]
  },
  {
   "cell_type": "code",
   "execution_count": 9,
   "id": "eaa2b272",
   "metadata": {},
   "outputs": [
    {
     "data": {
      "text/plain": [
       "376844.09802142094"
      ]
     },
     "execution_count": 9,
     "metadata": {},
     "output_type": "execute_result"
    }
   ],
   "source": [
    "cur_operating_income = base_manufacturer.calculate_operating_income(cur_revenue)\n",
    "\n",
    "cur_net_income = base_manufacturer.calculate_net_income(\n",
    "                    operating_income=cur_operating_income,\n",
    "                    collateral_costs=0.0,\n",
    "                    insurance_premiums=annual_premium,\n",
    "                    insurance_losses=average_annual_retained_loss,\n",
    "                    use_accrual=True,\n",
    "                    time_resolution=\"annual\",\n",
    "                )\n",
    "\n",
    "cur_net_income"
   ]
  },
  {
   "cell_type": "code",
   "execution_count": 10,
   "id": "df8fc0d6",
   "metadata": {},
   "outputs": [
    {
     "data": {
      "text/plain": [
       "375000.0"
      ]
     },
     "execution_count": 10,
     "metadata": {},
     "output_type": "execute_result"
    }
   ],
   "source": [
    "target_net_income = base_manufacturer.base_revenue * target_ebita_margin * (1 - base_manufacturer.tax_rate)\n",
    "target_net_income\n"
   ]
  },
  {
   "cell_type": "code",
   "execution_count": 11,
   "id": "9944fa91",
   "metadata": {},
   "outputs": [],
   "source": [
    "net_margin_diff = abs(cur_net_income - target_net_income) / cur_revenue\n",
    "\n",
    "# assert net_margin_diff < 0.0005, f\"Net income not within 0.05% of target ({net_margin_diff:.2%} difference)\""
   ]
  },
  {
   "cell_type": "code",
   "execution_count": 12,
   "id": "757d16f0",
   "metadata": {},
   "outputs": [
    {
     "name": "stdout",
     "output_type": "stream",
     "text": [
      "Net Margin after insurance: 3.77%\n",
      "EBITA Margin after insurance: 5.02%\n"
     ]
    }
   ],
   "source": [
    "net_margin = cur_net_income / cur_revenue\n",
    "print(f\"Net Margin after insurance: {net_margin:.2%}\")\n",
    "print(f\"EBITA Margin after insurance: {net_margin / (1 - base_manufacturer.tax_rate):.2%}\")"
   ]
  },
  {
   "cell_type": "markdown",
   "id": "b13ad6ca",
   "metadata": {},
   "source": [
    "## Define the Insurance Program"
   ]
  },
  {
   "cell_type": "code",
   "execution_count": 13,
   "id": "863ef28f",
   "metadata": {},
   "outputs": [],
   "source": [
    "\n",
    "all_layers = EnhancedInsuranceLayer(\n",
    "                attachment_point=deductible,\n",
    "                limit=policy_limit,\n",
    "                limit_type='per-occurrence',\n",
    "                base_premium_rate=annual_premium / policy_limit\n",
    "            )\n",
    "\n",
    "program = InsuranceProgram([all_layers])"
   ]
  },
  {
   "cell_type": "code",
   "execution_count": 14,
   "id": "b34b4886",
   "metadata": {},
   "outputs": [
    {
     "data": {
      "text/plain": [
       "np.float64(395010.77364881756)"
      ]
     },
     "execution_count": 14,
     "metadata": {},
     "output_type": "execute_result"
    }
   ],
   "source": [
    "total_premium = program.calculate_annual_premium()\n",
    "total_premium"
   ]
  },
  {
   "cell_type": "markdown",
   "id": "642ad433",
   "metadata": {},
   "source": [
    "## Begin the Study\n",
    "- Run 50 years, repricing each time\n",
    "  - Adjust premium appropriately to reflect loss costs\n",
    "- Study results\n",
    "- Set up additional parameters\n",
    "- Study aggregate results and frontiers"
   ]
  },
  {
   "cell_type": "markdown",
   "id": "ddc7685d",
   "metadata": {},
   "source": [
    "### Define the Business Financials"
   ]
  },
  {
   "cell_type": "code",
   "execution_count": 15,
   "id": "5cded72a",
   "metadata": {},
   "outputs": [
    {
     "name": "stdout",
     "output_type": "stream",
     "text": [
      "Average Annual Insured Loss: $274,793\n",
      "Average Annual Retained Loss: $104,245\n",
      "Annual Premium: $392,561\n",
      "Total Annual Cost of Risk: $496,806\n",
      "Net Margin after insurance: 3.77%\n",
      "EBITA Margin after insurance: 5.03%\n"
     ]
    }
   ],
   "source": [
    "# Create manufacturer configuration\n",
    "manufacturer_config = ManufacturerConfig(\n",
    "    initial_assets=INITIAL_ASSETS,\n",
    "    asset_turnover_ratio=ASSET_TURNOVER_RATIO,  # Revenue = Assets × Turnover\n",
    "    base_operating_margin=0.10,  # EBITA before claims and insurance (need to calibrate)\n",
    "    tax_rate=0.25,  # Current US Tax Rate\n",
    "    retention_ratio=0.70,  # 30% dividends\n",
    "    ppe_ratio=0.00,  # 0% of assets in PPE, so there is no depreciation expense\n",
    ")\n",
    "\n",
    "# Create widget manufacturer\n",
    "base_manufacturer = WidgetManufacturer(manufacturer_config)\n",
    "\n",
    "# Create exposure base based on revenue\n",
    "exposure = RevenueExposure(state_provider=base_manufacturer)\n",
    "\n",
    "cur_revenue = base_manufacturer.total_assets * base_manufacturer.asset_turnover_ratio\n",
    "\n",
    "# Calibrate claim generator for EBITA of 5%\n",
    "target_ebita_margin = 0.05\n",
    "\n",
    "generator = ManufacturingLossGenerator(\n",
    "    attritional_params={\n",
    "        'base_frequency': 2.85,\n",
    "        'severity_mean': 40_000,\n",
    "        'severity_cv': 0.8,\n",
    "        'revenue_scaling_exponent': 1.0,\n",
    "        'reference_revenue': cur_revenue\n",
    "    },\n",
    "    large_params={\n",
    "        'base_frequency': 0.20,\n",
    "        'severity_mean': 500_000,\n",
    "        'severity_cv': 1.5,\n",
    "        'revenue_scaling_exponent': 1.0,\n",
    "        'reference_revenue': cur_revenue\n",
    "    },\n",
    "    catastrophic_params={\n",
    "        'base_frequency': 0.02,\n",
    "        'severity_xm': 5_000_000,\n",
    "        'severity_alpha': 2.5,\n",
    "        'revenue_scaling_exponent': 1.0,\n",
    "        'reference_revenue': cur_revenue\n",
    "    },\n",
    "    seed=42\n",
    ")\n",
    "\n",
    "deductible = 50_000\n",
    "policy_limit = 40_000_000\n",
    "\n",
    "pricing_simulation_years = 500_000\n",
    "\n",
    "total_insured_loss = 0.0\n",
    "insured_loss_list = []\n",
    "\n",
    "total_retained_loss = 0.0\n",
    "retained_loss_list = []\n",
    "\n",
    "for yr in range(pricing_simulation_years):\n",
    "    loss_events, loss_meta = generator.generate_losses(duration=1, revenue=base_manufacturer.base_revenue)\n",
    "    for loss_event in loss_events:\n",
    "        insured_loss = max(min(loss_event.amount, policy_limit) - deductible,0)\n",
    "        \n",
    "        total_insured_loss += insured_loss\n",
    "        insured_loss_list.append(insured_loss)\n",
    "\n",
    "        retained_loss = loss_event.amount - insured_loss\n",
    "        total_retained_loss += retained_loss\n",
    "        retained_loss_list.append(retained_loss)\n",
    "\n",
    "average_annual_insured_loss = total_insured_loss / pricing_simulation_years\n",
    "average_annual_retained_loss = total_retained_loss / pricing_simulation_years\n",
    "print(f\"Average Annual Insured Loss: ${average_annual_insured_loss:,.0f}\")\n",
    "print(f\"Average Annual Retained Loss: ${average_annual_retained_loss:,.0f}\")\n",
    "\n",
    "loss_ratio = 0.70\n",
    "\n",
    "annual_premium = average_annual_insured_loss / loss_ratio\n",
    "print(f\"Annual Premium: ${annual_premium:,.0f}\")\n",
    "\n",
    "total_cost_of_risk = annual_premium + average_annual_retained_loss\n",
    "print(f\"Total Annual Cost of Risk: ${total_cost_of_risk:,.0f}\")\n",
    "\n",
    "cur_operating_income = base_manufacturer.calculate_operating_income(cur_revenue)\n",
    "\n",
    "cur_net_income = base_manufacturer.calculate_net_income(\n",
    "                    operating_income=cur_operating_income,\n",
    "                    collateral_costs=0.0,\n",
    "                    insurance_premiums=annual_premium,\n",
    "                    insurance_losses=average_annual_retained_loss,\n",
    "                    use_accrual=True,\n",
    "                    time_resolution=\"annual\",\n",
    "                )\n",
    "\n",
    "cur_net_income\n",
    "\n",
    "target_net_income = base_manufacturer.base_revenue * target_ebita_margin * (1 - base_manufacturer.tax_rate)\n",
    "target_net_income\n",
    "\n",
    "net_margin_diff = abs(cur_net_income - target_net_income) / cur_revenue\n",
    "\n",
    "# assert net_margin_diff < 0.0005, f\"Net income not within 0.05% of target ({net_margin_diff:.2%} difference)\"\n",
    "\n",
    "net_margin = cur_net_income / cur_revenue\n",
    "print(f\"Net Margin after insurance: {net_margin:.2%}\")\n",
    "print(f\"EBITA Margin after insurance: {net_margin / (1 - base_manufacturer.tax_rate):.2%}\")"
   ]
  },
  {
   "cell_type": "markdown",
   "id": "e3cb442c",
   "metadata": {},
   "source": [
    "### Define the Insurance Program"
   ]
  },
  {
   "cell_type": "code",
   "execution_count": 16,
   "id": "474e753b",
   "metadata": {},
   "outputs": [
    {
     "name": "stdout",
     "output_type": "stream",
     "text": [
      "Total Program Premium: $392,560.96\n"
     ]
    }
   ],
   "source": [
    "from ergodic_insurance.insurance_pricing import InsurancePricer, PricingParameters\n",
    "\n",
    "policy_pricer = InsurancePricer(loss_generator=generator,\n",
    "                                loss_ratio=loss_ratio,\n",
    "                                parameters=PricingParameters(\n",
    "                                    loss_ratio=loss_ratio,\n",
    "                                    simulation_years=100_000\n",
    "                                    )\n",
    "                                )\n",
    "\n",
    "all_layers = EnhancedInsuranceLayer(\n",
    "                attachment_point=deductible,\n",
    "                limit=policy_limit,\n",
    "                limit_type='per-occurrence',\n",
    "                base_premium_rate=annual_premium / policy_limit  # Use small premium\n",
    "            )\n",
    "\n",
    "program = InsuranceProgram([all_layers],\n",
    "                            pricing_enabled=True,\n",
    "                            pricer=policy_pricer)\n",
    "\n",
    "total_premium = program.calculate_annual_premium()\n",
    "print(f\"Total Program Premium: ${total_premium:,.2f}\")\n",
    "\n",
    "# The assertion should check against the small premium\n",
    "assert abs(total_premium - annual_premium) < 1.0, f\"Calculated premium ({total_premium:,.0f}) does not match target premium ({annual_premium:,.0f})\""
   ]
  },
  {
   "cell_type": "markdown",
   "id": "aede05e2",
   "metadata": {},
   "source": [
    "## Set Up the Simulation"
   ]
  },
  {
   "cell_type": "code",
   "execution_count": 17,
   "id": "168597a6",
   "metadata": {},
   "outputs": [
    {
     "name": "stdout",
     "output_type": "stream",
     "text": [
      "Setting up Monte Carlo engine with Insurance...\n",
      "Engine configured: 100 simulations, 50 years\n",
      "Parallel processing: False\n",
      "Number of chains: 4\n",
      "Deductible: 0.0\n"
     ]
    }
   ],
   "source": [
    "from ergodic_insurance.monte_carlo import MonteCarloEngine, SimulationConfig, SimulationResults\n",
    "\n",
    "def setup_simulation_engine(n_simulations=10_000, n_years=10, parallel=False, insurance_program=None):\n",
    "    \"\"\"Set up Monte Carlo simulation engine.\"\"\"\n",
    "    # Create simulation config\n",
    "    config = SimulationConfig(\n",
    "        n_simulations=n_simulations,\n",
    "        n_years=n_years,\n",
    "        n_chains=4,\n",
    "        parallel=parallel,\n",
    "        n_workers=None,\n",
    "        chunk_size=max(1000, n_simulations // 10),\n",
    "        use_float32=True,\n",
    "        cache_results=False,\n",
    "        progress_bar=True,\n",
    "        ruin_evaluation=[5, 10, 15, 20, 25, 30, 35, 40, 45, 50],\n",
    "        working_capital_pct=0.0,  # Set working capital to 0% for full asset revenue generation\n",
    "        seed=42\n",
    "    )\n",
    "    \n",
    "    if insurance_program is None:\n",
    "        insurance_program = InsuranceProgram(\n",
    "                                layers=[],  # Empty list to define no coverage\n",
    "                                deductible=0.0,  # No deductible needed since all losses are retained\n",
    "                                pricer=None,\n",
    "                                name=\"No Insurance\"\n",
    "                            )\n",
    "\n",
    "    # Create engine\n",
    "    engine = MonteCarloEngine(\n",
    "        loss_generator=generator,\n",
    "        insurance_program=insurance_program,\n",
    "        manufacturer=base_manufacturer,\n",
    "        config=config\n",
    "    )\n",
    "    \n",
    "    return engine\n",
    "\n",
    "# Create engine\n",
    "print(\"Setting up Monte Carlo engine with Insurance...\")\n",
    "engine = setup_simulation_engine(n_simulations=NUM_SIMULATIONS, n_years=SIM_YEARS, parallel=False, insurance_program=program)\n",
    "print(f\"Engine configured: {engine.config.n_simulations:,} simulations, {engine.config.n_years} years\")\n",
    "print(f\"Parallel processing: {engine.config.parallel}\")\n",
    "print(f\"Number of chains: {engine.config.n_chains}\")\n",
    "print(f\"Deductible: {engine.insurance_program.deductible}\")"
   ]
  },
  {
   "cell_type": "markdown",
   "id": "b71fed8c",
   "metadata": {},
   "source": [
    "### Set Up the Simulation Without Insurance"
   ]
  },
  {
   "cell_type": "code",
   "execution_count": 18,
   "id": "82b0b72f",
   "metadata": {},
   "outputs": [
    {
     "name": "stdout",
     "output_type": "stream",
     "text": [
      "Setting up Monte Carlo engine without Insurance...\n",
      "Engine configured: 100 simulations, 50 years\n",
      "Parallel processing: False\n",
      "Number of chains: 4\n",
      "Deductible: 0.0\n"
     ]
    }
   ],
   "source": [
    "# Create engine without insurance\n",
    "print(\"Setting up Monte Carlo engine without Insurance...\")\n",
    "engine_no_ins = setup_simulation_engine(n_simulations=NUM_SIMULATIONS, n_years=SIM_YEARS, parallel=False, insurance_program=None)\n",
    "print(f\"Engine configured: {engine_no_ins.config.n_simulations:,} simulations, {engine_no_ins.config.n_years} years\")\n",
    "print(f\"Parallel processing: {engine_no_ins.config.parallel}\")\n",
    "print(f\"Number of chains: {engine_no_ins.config.n_chains}\")\n",
    "print(f\"Deductible: {engine_no_ins.insurance_program.deductible}\")"
   ]
  },
  {
   "cell_type": "markdown",
   "id": "4bca92d4",
   "metadata": {},
   "source": [
    "## Run the Simulation"
   ]
  },
  {
   "cell_type": "code",
   "execution_count": 19,
   "id": "96c6c5fb",
   "metadata": {},
   "outputs": [
    {
     "name": "stderr",
     "output_type": "stream",
     "text": [
      "Running simulations:   0%|          | 0/100 [00:00<?, ?it/s]Company became insolvent - negative equity: $-3,470,908.55\n",
      "Running simulations: 100%|██████████| 100/100 [00:01<00:00, 50.01it/s]\n",
      "Running simulations:   8%|▊         | 8/100 [00:00<00:01, 73.37it/s]Company became insolvent - negative equity: $-680,598.01\n",
      "Running simulations:  16%|█▌        | 16/100 [00:00<00:01, 74.82it/s]Company became insolvent - negative equity: $-1,099,515.09\n",
      "Company became insolvent - negative equity: $-171,549.68\n",
      "Company is already insolvent, skipping step\n",
      "Company is already insolvent, skipping step\n",
      "Company is already insolvent, skipping step\n",
      "Company is already insolvent, skipping step\n",
      "Company is already insolvent, skipping step\n",
      "Company is already insolvent, skipping step\n",
      "Company is already insolvent, skipping step\n",
      "Company is already insolvent, skipping step\n",
      "Company is already insolvent, skipping step\n",
      "Company is already insolvent, skipping step\n",
      "Running simulations:  62%|██████▏   | 62/100 [00:01<00:00, 51.79it/s]Company became insolvent - negative equity: $-2,820,311.02\n",
      "Running simulations:  68%|██████▊   | 68/100 [00:01<00:00, 52.26it/s]Company became insolvent - negative equity: $-737,640.61\n",
      "Running simulations:  87%|████████▋ | 87/100 [00:01<00:00, 56.85it/s]Company became insolvent - negative equity: $-1,328,002.85\n",
      "Company became insolvent - negative equity: $-21,387,477.50\n",
      "Company became insolvent - negative equity: $-1,983,011.19\n",
      "Running simulations: 100%|██████████| 100/100 [00:01<00:00, 56.80it/s]\n"
     ]
    }
   ],
   "source": [
    "results = engine.run()\n",
    "results_no_ins = engine_no_ins.run()"
   ]
  },
  {
   "cell_type": "code",
   "execution_count": 20,
   "id": "8e755655",
   "metadata": {},
   "outputs": [],
   "source": [
    "import pickle\n",
    "\n",
    "filename = f\"results\\Cap ({INITIAL_ASSETS/1_000_000:.0f}M) -\\\n",
    " ATR ({ASSET_TURNOVER_RATIO}) -\\\n",
    " EBITA ({EBITA_MARGIN_TARGET}) -\\\n",
    " XS_Kurt ({EXCESS_KURTOSIS:.0f}) -\\\n",
    " Ded ({DEDUCTIBLE/1_000:.0f}K) -\\\n",
    " LR ({LOSS_RATIO}) -\\\n",
    " {NUM_SIMULATIONS/1_000:.0f}K Sims -\\\n",
    " {SIM_YEARS} Yrs.pkl\"\n",
    "\n",
    "with open(filename, \"wb\") as f:\n",
    "    pickle.dump(results, f, protocol=pickle.HIGHEST_PROTOCOL)"
   ]
  },
  {
   "cell_type": "code",
   "execution_count": 21,
   "id": "f45e17ce",
   "metadata": {},
   "outputs": [],
   "source": [
    "filename_no_ins = f\"results\\Cap ({INITIAL_ASSETS/1_000_000:.0f}M) -\\\n",
    " ATR ({ASSET_TURNOVER_RATIO}) -\\\n",
    " EBITA ({EBITA_MARGIN_TARGET}) -\\\n",
    " XS_Kurt ({EXCESS_KURTOSIS:.0f}) -\\\n",
    " NOINS -\\\n",
    " {NUM_SIMULATIONS/1_000:.0f}K Sims -\\\n",
    " {SIM_YEARS} Yrs.pkl\"\n",
    "\n",
    "with open(filename_no_ins, \"wb\") as f:\n",
    "    pickle.dump(results_no_ins, f, protocol=pickle.HIGHEST_PROTOCOL)"
   ]
  },
  {
   "cell_type": "code",
   "execution_count": 22,
   "id": "e7767b1a",
   "metadata": {},
   "outputs": [
    {
     "name": "stdout",
     "output_type": "stream",
     "text": [
      "Simulation Results Summary\n",
      "==================================================\n",
      "Simulations: 100\n",
      "Years: 50\n",
      "Execution Time: 2.15s\n",
      "Ruin Probability:\n",
      "  Year 5: 0.00%\n",
      "  Year 10: 0.00%\n",
      "  Year 15: 0.00%\n",
      "  Year 20: 0.00%\n",
      "  Year 25: 0.00%\n",
      "  Year 30: 1.00%\n",
      "  Year 35: 1.00%\n",
      "  Year 40: 1.00%\n",
      "  Year 45: 1.00%\n",
      "  Year 50: 1.00%\n",
      "Mean Final Assets: $22,213,594\n",
      "Mean Growth Rate: 0.0160\n",
      "VaR(99%): $79,260,320\n",
      "TVaR(99%): $81,898,408\n",
      "Convergence R-hat: 0.000\n",
      "\n",
      "==================================================\n",
      "Performance Summary\n",
      "==================================================\n",
      "Total Time: 2.15s\n",
      "Setup: 0.00s\n",
      "Computation: 2.15s\n",
      "Serialization: 0.00s (0.0% overhead)\n",
      "Reduction: 0.00s\n",
      "Peak Memory: 0.2 MB\n",
      "CPU Utilization: 0.0%\n",
      "Throughput: 46 items/s\n",
      "Speedup: 1.00x\n",
      "\n",
      "==================================================\n",
      "Advanced Aggregation Results:\n",
      "  p1: $8,352,220\n",
      "  p5: $22,571,765\n",
      "  p10: $22,581,505\n",
      "  p25: $22,589,243\n",
      "  p50: $22,605,922\n",
      "  p75: $22,633,693\n",
      "  p90: $22,653,001\n",
      "  p95: $22,664,903\n",
      "  p99: $22,694,485\n",
      "\n"
     ]
    }
   ],
   "source": [
    "print(results.summary())"
   ]
  },
  {
   "cell_type": "code",
   "execution_count": 23,
   "id": "80dcef59",
   "metadata": {},
   "outputs": [
    {
     "name": "stdout",
     "output_type": "stream",
     "text": [
      "Simulation Results Summary\n",
      "==================================================\n",
      "Simulations: 100\n",
      "Years: 50\n",
      "Execution Time: 1.95s\n",
      "Ruin Probability:\n",
      "  Year 5: 0.00%\n",
      "  Year 10: 0.00%\n",
      "  Year 15: 2.00%\n",
      "  Year 20: 4.00%\n",
      "  Year 25: 5.00%\n",
      "  Year 30: 7.00%\n",
      "  Year 35: 7.00%\n",
      "  Year 40: 7.00%\n",
      "  Year 45: 7.00%\n",
      "  Year 50: 7.00%\n",
      "Mean Final Assets: $14,973,185\n",
      "Mean Growth Rate: 0.0058\n",
      "VaR(99%): $46,850,932\n",
      "TVaR(99%): $62,848,100\n",
      "Convergence R-hat: 0.000\n",
      "\n",
      "==================================================\n",
      "Performance Summary\n",
      "==================================================\n",
      "Total Time: 1.95s\n",
      "Setup: 0.00s\n",
      "Computation: 1.95s\n",
      "Serialization: 0.00s (0.0% overhead)\n",
      "Reduction: 0.00s\n",
      "Peak Memory: 0.2 MB\n",
      "CPU Utilization: 0.0%\n",
      "Throughput: 51 items/s\n",
      "Speedup: 1.00x\n",
      "\n",
      "==================================================\n",
      "Advanced Aggregation Results:\n",
      "  p1: $-2,869,271\n",
      "  p5: $-452,239\n",
      "  p10: $2,290,599\n",
      "  p25: $9,548,861\n",
      "  p50: $15,815,917\n",
      "  p75: $21,805,146\n",
      "  p90: $27,382,373\n",
      "  p95: $28,417,906\n",
      "  p99: $30,449,039\n",
      "\n"
     ]
    }
   ],
   "source": [
    "print(results_no_ins.summary())"
   ]
  },
  {
   "cell_type": "code",
   "execution_count": 24,
   "id": "17c5294e",
   "metadata": {},
   "outputs": [
    {
     "name": "stdout",
     "output_type": "stream",
     "text": [
      "Results with insurance already loaded.\n",
      "Results without insurance already loaded.\n"
     ]
    }
   ],
   "source": [
    "# Import required libraries\n",
    "import numpy as np\n",
    "import pandas as pd\n",
    "import matplotlib.pyplot as plt\n",
    "import seaborn as sns\n",
    "from typing import List, Dict, Any\n",
    "import warnings\n",
    "import sys\n",
    "from pathlib import Path\n",
    "warnings.filterwarnings('ignore')\n",
    "\n",
    "# Set plotting style\n",
    "plt.style.use('seaborn-v0_8-darkgrid')\n",
    "sns.set_palette(\"husl\")\n",
    "\n",
    "from ergodic_insurance.config import ManufacturerConfig\n",
    "from ergodic_insurance.manufacturer import WidgetManufacturer\n",
    "from ergodic_insurance.exposure_base import RevenueExposure\n",
    "from ergodic_insurance.insurance import InsurancePolicy, InsuranceLayer\n",
    "from ergodic_insurance.simulation import Simulation, SimulationResults\n",
    "from ergodic_insurance.ergodic_analyzer import ErgodicAnalyzer\n",
    "from ergodic_insurance.loss_distributions import ManufacturingLossGenerator\n",
    "from ergodic_insurance.insurance_program import EnhancedInsuranceLayer, InsuranceProgram\n",
    "\n",
    "# Read the specified pickle file (tries results/ directory first)\n",
    "results_filename = \"Cap (10M) - ATR (1.0) - EBITA (0.05) - XS_Kurt (3728) - Ded (50K) - LR (0.7).pkl\"\n",
    "\n",
    "candidate_paths = [Path(\"results\") / results_filename, Path(results_filename)]\n",
    "\n",
    "if results is None:\n",
    "    for p in candidate_paths:\n",
    "        if p.exists():\n",
    "            with open(p, \"rb\") as f:\n",
    "                results = pickle.load(f)\n",
    "            print(f\"Loaded pickle from: {p}\")\n",
    "            break\n",
    "\n",
    "    if results is None:\n",
    "        print(f\"File not found in: {[str(p) for p in candidate_paths]}\")\n",
    "    else:\n",
    "        # If this is a SimulationResults object, show a brief summary\n",
    "        if hasattr(results, \"summary\"):\n",
    "            try:\n",
    "                print(results.summary())\n",
    "            except Exception as e:\n",
    "                print(f\"Could not print summary: {e}\")\n",
    "        else:\n",
    "            print(f\"Loaded object type: {type(results)}\")\n",
    "else:\n",
    "    print(\"Results with insurance already loaded.\")\n",
    "\n",
    "# Read the specified pickle file (tries results/ directory first)\n",
    "results_no_ins_filename = \"Cap (10M) - ATR (1.0) - EBITA (0.05) - XS_Kurt (3728) - NOINS.pkl\"\n",
    "\n",
    "candidate_paths = [Path(\"results\") / results_no_ins_filename, Path(results_no_ins_filename)]\n",
    "\n",
    "if results_no_ins is None:\n",
    "    for p in candidate_paths:\n",
    "        if p.exists():\n",
    "            with open(p, \"rb\") as f:\n",
    "                results_no_ins = pickle.load(f)\n",
    "            print(f\"Loaded pickle from: {p}\")\n",
    "            break\n",
    "\n",
    "    if results_no_ins is None:\n",
    "        print(f\"File not found in: {[str(p) for p in candidate_paths]}\")\n",
    "    else:\n",
    "        # If this is a SimulationResults object, show a brief summary\n",
    "        if hasattr(results_no_ins, \"summary\"):\n",
    "            try:\n",
    "                print(results_no_ins.summary())\n",
    "            except Exception as e:\n",
    "                print(f\"Could not print summary: {e}\")\n",
    "        else:\n",
    "            print(f\"Loaded object type: {type(results_no_ins)}\")\n",
    "else:\n",
    "    print(\"Results without insurance already loaded.\")"
   ]
  },
  {
   "cell_type": "code",
   "execution_count": 25,
   "id": "92ffb219",
   "metadata": {},
   "outputs": [
    {
     "name": "stdout",
     "output_type": "stream",
     "text": [
      "\n",
      "Ruin Probabilities by Time Horizon:\n",
      "  5 years: 0.00%\n",
      "  10 years: 0.00%\n",
      "  15 years: 0.00%\n",
      "  20 years: 0.00%\n",
      "  25 years: 0.00%\n",
      "  30 years: 1.00%\n",
      "  35 years: 1.00%\n",
      "  40 years: 1.00%\n",
      "  45 years: 1.00%\n",
      "  50 years: 1.00%\n",
      "\n",
      "Convergence achieved: No\n",
      "Growth Rate Summary With Insurance (%): Mean=1.60, Median=1.63, 25th=1.63, 5th=1.63\n",
      "Growth Rate Summary Without Insurance (%): Mean=0.58, Median=0.92, 25th=0.00, 5th=-2.54\n"
     ]
    },
    {
     "data": {
      "application/vnd.plotly.v1+json": {
       "config": {
        "plotlyServerURL": "https://plot.ly"
       },
       "data": [
        {
         "line": {
          "color": "#0080C7",
          "width": 2
         },
         "mode": "lines",
         "name": "Insurance (clipped)",
         "type": "scatter",
         "x": {
          "bdata": "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",
          "dtype": "f8"
         },
         "y": {
          "bdata": "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",
          "dtype": "f8"
         }
        },
        {
         "line": {
          "color": "#FF9800",
          "width": 2
         },
         "mode": "lines",
         "name": "No Insurance (clipped)",
         "type": "scatter",
         "x": {
          "bdata": "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",
          "dtype": "f8"
         },
         "y": {
          "bdata": "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",
          "dtype": "f8"
         }
        }
       ],
       "layout": {
        "annotations": [
         {
          "showarrow": false,
          "text": "Mean (Ins)",
          "x": 1.5959803794976324,
          "xanchor": "left",
          "xref": "x",
          "y": 1,
          "yanchor": "top",
          "yref": "y domain"
         },
         {
          "showarrow": false,
          "text": "25th pct (Ins)",
          "x": 1.6297774855047464,
          "xanchor": "right",
          "xref": "x",
          "y": 1,
          "yanchor": "top",
          "yref": "y domain"
         },
         {
          "showarrow": false,
          "text": "Mean (No Ins)",
          "x": 0.6561991655458272,
          "xanchor": "left",
          "xref": "x",
          "y": 0,
          "yanchor": "bottom",
          "yref": "y domain"
         },
         {
          "showarrow": false,
          "text": "25th pct (No Ins)",
          "x": 0,
          "xanchor": "right",
          "xref": "x",
          "y": 0,
          "yanchor": "bottom",
          "yref": "y domain"
         }
        ],
        "height": 500,
        "legend": {
         "orientation": "h",
         "x": 0.5,
         "xanchor": "center",
         "y": -0.2,
         "yanchor": "top"
        },
        "shapes": [
         {
          "line": {
           "color": "#0080C7",
           "dash": "dash"
          },
          "type": "line",
          "x0": 1.5959803794976324,
          "x1": 1.5959803794976324,
          "xref": "x",
          "y0": 0,
          "y1": 1,
          "yref": "y domain"
         },
         {
          "line": {
           "color": "#D32F2F",
           "dash": "dot"
          },
          "type": "line",
          "x0": 1.6297774855047464,
          "x1": 1.6297774855047464,
          "xref": "x",
          "y0": 0,
          "y1": 1,
          "yref": "y domain"
         },
         {
          "line": {
           "color": "#FF9800",
           "dash": "dash"
          },
          "type": "line",
          "x0": 0.6561991655458272,
          "x1": 0.6561991655458272,
          "xref": "x",
          "y0": 0,
          "y1": 1,
          "yref": "y domain"
         },
         {
          "line": {
           "color": "#D32F2F",
           "dash": "dot"
          },
          "type": "line",
          "x0": 0,
          "x1": 0,
          "xref": "x",
          "y0": 0,
          "y1": 1,
          "yref": "y domain"
         }
        ],
        "showlegend": true,
        "template": {
         "data": {
          "bar": [
           {
            "error_x": {
             "color": "#2a3f5f"
            },
            "error_y": {
             "color": "#2a3f5f"
            },
            "marker": {
             "line": {
              "color": "white",
              "width": 0.5
             },
             "pattern": {
              "fillmode": "overlay",
              "size": 10,
              "solidity": 0.2
             }
            },
            "type": "bar"
           }
          ],
          "barpolar": [
           {
            "marker": {
             "line": {
              "color": "white",
              "width": 0.5
             },
             "pattern": {
              "fillmode": "overlay",
              "size": 10,
              "solidity": 0.2
             }
            },
            "type": "barpolar"
           }
          ],
          "carpet": [
           {
            "aaxis": {
             "endlinecolor": "#2a3f5f",
             "gridcolor": "#C8D4E3",
             "linecolor": "#C8D4E3",
             "minorgridcolor": "#C8D4E3",
             "startlinecolor": "#2a3f5f"
            },
            "baxis": {
             "endlinecolor": "#2a3f5f",
             "gridcolor": "#C8D4E3",
             "linecolor": "#C8D4E3",
             "minorgridcolor": "#C8D4E3",
             "startlinecolor": "#2a3f5f"
            },
            "type": "carpet"
           }
          ],
          "choropleth": [
           {
            "colorbar": {
             "outlinewidth": 0,
             "ticks": ""
            },
            "type": "choropleth"
           }
          ],
          "contour": [
           {
            "colorbar": {
             "outlinewidth": 0,
             "ticks": ""
            },
            "colorscale": [
             [
              0,
              "#0d0887"
             ],
             [
              0.1111111111111111,
              "#46039f"
             ],
             [
              0.2222222222222222,
              "#7201a8"
             ],
             [
              0.3333333333333333,
              "#9c179e"
             ],
             [
              0.4444444444444444,
              "#bd3786"
             ],
             [
              0.5555555555555556,
              "#d8576b"
             ],
             [
              0.6666666666666666,
              "#ed7953"
             ],
             [
              0.7777777777777778,
              "#fb9f3a"
             ],
             [
              0.8888888888888888,
              "#fdca26"
             ],
             [
              1,
              "#f0f921"
             ]
            ],
            "type": "contour"
           }
          ],
          "contourcarpet": [
           {
            "colorbar": {
             "outlinewidth": 0,
             "ticks": ""
            },
            "type": "contourcarpet"
           }
          ],
          "heatmap": [
           {
            "colorbar": {
             "outlinewidth": 0,
             "ticks": ""
            },
            "colorscale": [
             [
              0,
              "#0d0887"
             ],
             [
              0.1111111111111111,
              "#46039f"
             ],
             [
              0.2222222222222222,
              "#7201a8"
             ],
             [
              0.3333333333333333,
              "#9c179e"
             ],
             [
              0.4444444444444444,
              "#bd3786"
             ],
             [
              0.5555555555555556,
              "#d8576b"
             ],
             [
              0.6666666666666666,
              "#ed7953"
             ],
             [
              0.7777777777777778,
              "#fb9f3a"
             ],
             [
              0.8888888888888888,
              "#fdca26"
             ],
             [
              1,
              "#f0f921"
             ]
            ],
            "type": "heatmap"
           }
          ],
          "histogram": [
           {
            "marker": {
             "pattern": {
              "fillmode": "overlay",
              "size": 10,
              "solidity": 0.2
             }
            },
            "type": "histogram"
           }
          ],
          "histogram2d": [
           {
            "colorbar": {
             "outlinewidth": 0,
             "ticks": ""
            },
            "colorscale": [
             [
              0,
              "#0d0887"
             ],
             [
              0.1111111111111111,
              "#46039f"
             ],
             [
              0.2222222222222222,
              "#7201a8"
             ],
             [
              0.3333333333333333,
              "#9c179e"
             ],
             [
              0.4444444444444444,
              "#bd3786"
             ],
             [
              0.5555555555555556,
              "#d8576b"
             ],
             [
              0.6666666666666666,
              "#ed7953"
             ],
             [
              0.7777777777777778,
              "#fb9f3a"
             ],
             [
              0.8888888888888888,
              "#fdca26"
             ],
             [
              1,
              "#f0f921"
             ]
            ],
            "type": "histogram2d"
           }
          ],
          "histogram2dcontour": [
           {
            "colorbar": {
             "outlinewidth": 0,
             "ticks": ""
            },
            "colorscale": [
             [
              0,
              "#0d0887"
             ],
             [
              0.1111111111111111,
              "#46039f"
             ],
             [
              0.2222222222222222,
              "#7201a8"
             ],
             [
              0.3333333333333333,
              "#9c179e"
             ],
             [
              0.4444444444444444,
              "#bd3786"
             ],
             [
              0.5555555555555556,
              "#d8576b"
             ],
             [
              0.6666666666666666,
              "#ed7953"
             ],
             [
              0.7777777777777778,
              "#fb9f3a"
             ],
             [
              0.8888888888888888,
              "#fdca26"
             ],
             [
              1,
              "#f0f921"
             ]
            ],
            "type": "histogram2dcontour"
           }
          ],
          "mesh3d": [
           {
            "colorbar": {
             "outlinewidth": 0,
             "ticks": ""
            },
            "type": "mesh3d"
           }
          ],
          "parcoords": [
           {
            "line": {
             "colorbar": {
              "outlinewidth": 0,
              "ticks": ""
             }
            },
            "type": "parcoords"
           }
          ],
          "pie": [
           {
            "automargin": true,
            "type": "pie"
           }
          ],
          "scatter": [
           {
            "fillpattern": {
             "fillmode": "overlay",
             "size": 10,
             "solidity": 0.2
            },
            "type": "scatter"
           }
          ],
          "scatter3d": [
           {
            "line": {
             "colorbar": {
              "outlinewidth": 0,
              "ticks": ""
             }
            },
            "marker": {
             "colorbar": {
              "outlinewidth": 0,
              "ticks": ""
             }
            },
            "type": "scatter3d"
           }
          ],
          "scattercarpet": [
           {
            "marker": {
             "colorbar": {
              "outlinewidth": 0,
              "ticks": ""
             }
            },
            "type": "scattercarpet"
           }
          ],
          "scattergeo": [
           {
            "marker": {
             "colorbar": {
              "outlinewidth": 0,
              "ticks": ""
             }
            },
            "type": "scattergeo"
           }
          ],
          "scattergl": [
           {
            "marker": {
             "colorbar": {
              "outlinewidth": 0,
              "ticks": ""
             }
            },
            "type": "scattergl"
           }
          ],
          "scattermap": [
           {
            "marker": {
             "colorbar": {
              "outlinewidth": 0,
              "ticks": ""
             }
            },
            "type": "scattermap"
           }
          ],
          "scattermapbox": [
           {
            "marker": {
             "colorbar": {
              "outlinewidth": 0,
              "ticks": ""
             }
            },
            "type": "scattermapbox"
           }
          ],
          "scatterpolar": [
           {
            "marker": {
             "colorbar": {
              "outlinewidth": 0,
              "ticks": ""
             }
            },
            "type": "scatterpolar"
           }
          ],
          "scatterpolargl": [
           {
            "marker": {
             "colorbar": {
              "outlinewidth": 0,
              "ticks": ""
             }
            },
            "type": "scatterpolargl"
           }
          ],
          "scatterternary": [
           {
            "marker": {
             "colorbar": {
              "outlinewidth": 0,
              "ticks": ""
             }
            },
            "type": "scatterternary"
           }
          ],
          "surface": [
           {
            "colorbar": {
             "outlinewidth": 0,
             "ticks": ""
            },
            "colorscale": [
             [
              0,
              "#0d0887"
             ],
             [
              0.1111111111111111,
              "#46039f"
             ],
             [
              0.2222222222222222,
              "#7201a8"
             ],
             [
              0.3333333333333333,
              "#9c179e"
             ],
             [
              0.4444444444444444,
              "#bd3786"
             ],
             [
              0.5555555555555556,
              "#d8576b"
             ],
             [
              0.6666666666666666,
              "#ed7953"
             ],
             [
              0.7777777777777778,
              "#fb9f3a"
             ],
             [
              0.8888888888888888,
              "#fdca26"
             ],
             [
              1,
              "#f0f921"
             ]
            ],
            "type": "surface"
           }
          ],
          "table": [
           {
            "cells": {
             "fill": {
              "color": "#EBF0F8"
             },
             "line": {
              "color": "white"
             }
            },
            "header": {
             "fill": {
              "color": "#C8D4E3"
             },
             "line": {
              "color": "white"
             }
            },
            "type": "table"
           }
          ]
         },
         "layout": {
          "annotationdefaults": {
           "arrowcolor": "#2a3f5f",
           "arrowhead": 0,
           "arrowwidth": 1
          },
          "autotypenumbers": "strict",
          "coloraxis": {
           "colorbar": {
            "outlinewidth": 0,
            "ticks": ""
           }
          },
          "colorscale": {
           "diverging": [
            [
             0,
             "#8e0152"
            ],
            [
             0.1,
             "#c51b7d"
            ],
            [
             0.2,
             "#de77ae"
            ],
            [
             0.3,
             "#f1b6da"
            ],
            [
             0.4,
             "#fde0ef"
            ],
            [
             0.5,
             "#f7f7f7"
            ],
            [
             0.6,
             "#e6f5d0"
            ],
            [
             0.7,
             "#b8e186"
            ],
            [
             0.8,
             "#7fbc41"
            ],
            [
             0.9,
             "#4d9221"
            ],
            [
             1,
             "#276419"
            ]
           ],
           "sequential": [
            [
             0,
             "#0d0887"
            ],
            [
             0.1111111111111111,
             "#46039f"
            ],
            [
             0.2222222222222222,
             "#7201a8"
            ],
            [
             0.3333333333333333,
             "#9c179e"
            ],
            [
             0.4444444444444444,
             "#bd3786"
            ],
            [
             0.5555555555555556,
             "#d8576b"
            ],
            [
             0.6666666666666666,
             "#ed7953"
            ],
            [
             0.7777777777777778,
             "#fb9f3a"
            ],
            [
             0.8888888888888888,
             "#fdca26"
            ],
            [
             1,
             "#f0f921"
            ]
           ],
           "sequentialminus": [
            [
             0,
             "#0d0887"
            ],
            [
             0.1111111111111111,
             "#46039f"
            ],
            [
             0.2222222222222222,
             "#7201a8"
            ],
            [
             0.3333333333333333,
             "#9c179e"
            ],
            [
             0.4444444444444444,
             "#bd3786"
            ],
            [
             0.5555555555555556,
             "#d8576b"
            ],
            [
             0.6666666666666666,
             "#ed7953"
            ],
            [
             0.7777777777777778,
             "#fb9f3a"
            ],
            [
             0.8888888888888888,
             "#fdca26"
            ],
            [
             1,
             "#f0f921"
            ]
           ]
          },
          "colorway": [
           "#636efa",
           "#EF553B",
           "#00cc96",
           "#ab63fa",
           "#FFA15A",
           "#19d3f3",
           "#FF6692",
           "#B6E880",
           "#FF97FF",
           "#FECB52"
          ],
          "font": {
           "color": "#2a3f5f"
          },
          "geo": {
           "bgcolor": "white",
           "lakecolor": "white",
           "landcolor": "white",
           "showlakes": true,
           "showland": true,
           "subunitcolor": "#C8D4E3"
          },
          "hoverlabel": {
           "align": "left"
          },
          "hovermode": "closest",
          "mapbox": {
           "style": "light"
          },
          "paper_bgcolor": "white",
          "plot_bgcolor": "white",
          "polar": {
           "angularaxis": {
            "gridcolor": "#EBF0F8",
            "linecolor": "#EBF0F8",
            "ticks": ""
           },
           "bgcolor": "white",
           "radialaxis": {
            "gridcolor": "#EBF0F8",
            "linecolor": "#EBF0F8",
            "ticks": ""
           }
          },
          "scene": {
           "xaxis": {
            "backgroundcolor": "white",
            "gridcolor": "#DFE8F3",
            "gridwidth": 2,
            "linecolor": "#EBF0F8",
            "showbackground": true,
            "ticks": "",
            "zerolinecolor": "#EBF0F8"
           },
           "yaxis": {
            "backgroundcolor": "white",
            "gridcolor": "#DFE8F3",
            "gridwidth": 2,
            "linecolor": "#EBF0F8",
            "showbackground": true,
            "ticks": "",
            "zerolinecolor": "#EBF0F8"
           },
           "zaxis": {
            "backgroundcolor": "white",
            "gridcolor": "#DFE8F3",
            "gridwidth": 2,
            "linecolor": "#EBF0F8",
            "showbackground": true,
            "ticks": "",
            "zerolinecolor": "#EBF0F8"
           }
          },
          "shapedefaults": {
           "line": {
            "color": "#2a3f5f"
           }
          },
          "ternary": {
           "aaxis": {
            "gridcolor": "#DFE8F3",
            "linecolor": "#A2B1C6",
            "ticks": ""
           },
           "baxis": {
            "gridcolor": "#DFE8F3",
            "linecolor": "#A2B1C6",
            "ticks": ""
           },
           "bgcolor": "white",
           "caxis": {
            "gridcolor": "#DFE8F3",
            "linecolor": "#A2B1C6",
            "ticks": ""
           }
          },
          "title": {
           "x": 0.05
          },
          "xaxis": {
           "automargin": true,
           "gridcolor": "#EBF0F8",
           "linecolor": "#EBF0F8",
           "ticks": "",
           "title": {
            "standoff": 15
           },
           "zerolinecolor": "#EBF0F8",
           "zerolinewidth": 2
          },
          "yaxis": {
           "automargin": true,
           "gridcolor": "#EBF0F8",
           "linecolor": "#EBF0F8",
           "ticks": "",
           "title": {
            "standoff": 15
           },
           "zerolinecolor": "#EBF0F8",
           "zerolinewidth": 2
          }
         }
        },
        "title": {
         "text": "Time-Average Growth Rate Histogram",
         "x": 0.5,
         "xanchor": "center"
        },
        "width": 800,
        "xaxis": {
         "range": [
          -5,
          5
         ],
         "title": {
          "text": "Time-Average Growth Rate (%)"
         }
        },
        "yaxis": {
         "title": {
          "text": "Density"
         }
        }
       }
      }
     },
     "metadata": {},
     "output_type": "display_data"
    }
   ],
   "source": [
    "import plotly.graph_objects as go\n",
    "from plotly.subplots import make_subplots\n",
    "from ergodic_insurance.visualization.core import WSJ_COLORS\n",
    "import numpy as np\n",
    "\n",
    "# Print results\n",
    "print(f\"\\nRuin Probabilities by Time Horizon:\")\n",
    "for yr, prob in results.ruin_probability.items():\n",
    "    print(f\"  {yr} years: {prob*100:.2f}%\")\n",
    "\n",
    "print(f\"\\nConvergence achieved: {'Yes' if results.convergence else 'No'}\")\n",
    "\n",
    "# --------------------------------------\n",
    "# Time-Average Growth Rate Histogram (1,1)\n",
    "# --------------------------------------\n",
    "fig = go.Figure()\n",
    "\n",
    "# Growth rates with insurance\n",
    "growth_rates = np.asarray(results.growth_rates, dtype=float)\n",
    "growth_rates = growth_rates[np.isfinite(growth_rates)]\n",
    "\n",
    "# Growth rates without insurance\n",
    "growth_rates_no_ins = np.asarray(results_no_ins.growth_rates, dtype=float)\n",
    "growth_rates_no_ins = growth_rates_no_ins[np.isfinite(growth_rates_no_ins)]\n",
    "\n",
    "growth_pct = growth_rates * 100.0\n",
    "mean_growth = np.nanmean(growth_pct)\n",
    "median_growth = np.nanmedian(growth_pct)\n",
    "p5, p25, p95 = np.nanpercentile(growth_pct, [5, 25, 95])\n",
    "print(f\"Growth Rate Summary With Insurance (%): Mean={mean_growth:.2f}, Median={median_growth:.2f}, 25th={p25:.2f}, 5th={p5:.2f}\")\n",
    "\n",
    "growth_pct_no_ins = growth_rates_no_ins * 100.0\n",
    "mean_growth_no_ins = np.nanmean(growth_pct_no_ins)\n",
    "median_growth_no_ins = np.nanmedian(growth_pct_no_ins)\n",
    "p5_no_ins, p25_no_ins, p95_no_ins = np.nanpercentile(growth_pct_no_ins, [5, 25, 95])\n",
    "print(f\"Growth Rate Summary Without Insurance (%): Mean={mean_growth_no_ins:.2f}, Median={median_growth_no_ins:.2f}, 25th={p25_no_ins:.2f}, 5th={p5_no_ins:.2f}\")\n",
    "\n",
    "# Plot Growth Rate With Insurance\n",
    "# Kernel Density Estimate (Gaussian) instead of histogram\n",
    "xs = np.linspace(growth_pct.min(), growth_pct.max(), 400)\n",
    "n = growth_pct.size\n",
    "std = np.std(growth_pct, ddof=1)\n",
    "if std == 0 or n < 2:\n",
    "    # Fallback: flat line at 0\n",
    "    density = np.zeros_like(xs)\n",
    "else:\n",
    "    bw = 1.06 * std * n ** (-1/5)  # Silverman's rule\n",
    "    inv_norm = 1.0 / (bw * np.sqrt(2 * np.pi))\n",
    "    diffs = (xs[:, None] - growth_pct[None, :]) / bw\n",
    "    density = inv_norm * np.exp(-0.5 * diffs**2).mean(axis=1)\n",
    "\n",
    "fig.add_trace(\n",
    "    go.Scatter(\n",
    "        x=xs,\n",
    "        y=density,\n",
    "        mode='lines',\n",
    "        name='Insurance',\n",
    "        line=dict(color=WSJ_COLORS.get('blue', '#1f77b4'), width=2)\n",
    "    )\n",
    ")\n",
    "\n",
    "# Plot Growth Rate Without Insurance\n",
    "# Kernel Density Estimate (Gaussian) instead of histogram\n",
    "xs_no_ins = np.linspace(growth_pct_no_ins.min(), growth_pct_no_ins.max(), 400)\n",
    "n_no_ins = growth_pct_no_ins.size\n",
    "std_no_ins = np.std(growth_pct_no_ins, ddof=1)\n",
    "if std_no_ins == 0 or n_no_ins < 2:\n",
    "    # Fallback: flat line at 0\n",
    "    density = np.zeros_like(xs_no_ins)\n",
    "else:\n",
    "    bw = 1.06 * std_no_ins * n_no_ins ** (-1/5)  # Silverman's rule\n",
    "    inv_norm_no_ins = 1.0 / (bw * np.sqrt(2 * np.pi))\n",
    "    diffs_no_ins = (xs_no_ins[:, None] - growth_pct_no_ins[None, :]) / bw\n",
    "    density_no_ins = inv_norm_no_ins * np.exp(-0.5 * diffs_no_ins**2).mean(axis=1)\n",
    "\n",
    "# Set x-axis to central 99.5% of both distributions (trim 0.25% each tail)\n",
    "try:\n",
    "    lower_q, upper_q = .5, 99.5\n",
    "    lo_ins, hi_ins = np.nanpercentile(growth_pct, [lower_q, upper_q])\n",
    "    lo_no_ins, hi_no_ins = np.nanpercentile(growth_pct_no_ins, [lower_q, upper_q])\n",
    "    x_min = min(lo_ins, lo_no_ins)\n",
    "    x_max = max(hi_ins, hi_no_ins)\n",
    "    pad = 0.01 * (x_max - x_min) if x_max > x_min else 0.0\n",
    "    fig.update_xaxes(range=[x_min - pad, x_max + pad])\n",
    "except Exception as e:\n",
    "    print(f\"Could not apply 99.5% central x-range: {e}\")\n",
    "\n",
    "# Adjust y-axis label to reflect density\n",
    "fig.update_yaxes(title_text=\"Density\")\n",
    "\n",
    "# Recompute KDEs on clipped range [-10, 5] and update plot\n",
    "lower, upper = -5.0, 5.0\n",
    "# Clear existing traces, shapes, annotations\n",
    "fig.data = ()\n",
    "fig.layout.shapes = ()\n",
    "fig.layout.annotations = ()\n",
    "\n",
    "# Clip datasets\n",
    "ins_clip = growth_pct[(growth_pct >= lower) & (growth_pct <= upper)]\n",
    "no_ins_clip = growth_pct_no_ins[(growth_pct_no_ins >= lower) & (growth_pct_no_ins <= upper)]\n",
    "\n",
    "xs_clip = np.linspace(lower, upper, 400)\n",
    "\n",
    "def kde(arr, xs):\n",
    "    n = arr.size\n",
    "    if n < 2:\n",
    "        return np.zeros_like(xs)\n",
    "    std_ = np.std(arr, ddof=1)\n",
    "    if std_ == 0:\n",
    "        return np.zeros_like(xs)\n",
    "    bw = 1.06 * std_ * n ** (-1/5)\n",
    "    inv = 1.0 / (bw * np.sqrt(2 * np.pi))\n",
    "    diffs = (xs[:, None] - arr[None, :]) / bw\n",
    "    return inv * np.exp(-0.5 * diffs**2).mean(axis=1)\n",
    "\n",
    "dens_ins = kde(ins_clip, xs_clip) if ins_clip.size else np.zeros_like(xs_clip)\n",
    "dens_no  = kde(no_ins_clip, xs_clip) if no_ins_clip.size else np.zeros_like(xs_clip)\n",
    "\n",
    "# Add traces\n",
    "fig.add_trace(go.Scatter(\n",
    "    x=xs_clip, y=dens_ins, mode='lines', name='Insurance (clipped)',\n",
    "    line=dict(color=WSJ_COLORS.get('blue', '#1f77b4'), width=2)\n",
    "))\n",
    "fig.add_trace(go.Scatter(\n",
    "    x=xs_clip, y=dens_no, mode='lines', name='No Insurance (clipped)',\n",
    "    line=dict(color=WSJ_COLORS.get('orange', '#ff7f0e'), width=2)\n",
    "))\n",
    "\n",
    "# Stats on clipped data\n",
    "if ins_clip.size:\n",
    "    mean_ins = np.nanmean(ins_clip)\n",
    "    p25_ins = np.nanpercentile(ins_clip, 25)\n",
    "    # Add vertical lines for mean and median\n",
    "    fig.add_vline(x=mean_ins, \n",
    "                line_dash='dash', \n",
    "                line_color=WSJ_COLORS.get('blue', '#1f77b4'), \n",
    "                annotation_text='Mean (Ins)', \n",
    "                annotation_position='top right')\n",
    "    fig.add_vline(x=p25_ins, \n",
    "                line_dash='dot', \n",
    "                line_color=WSJ_COLORS.get('red', '#d62728'), \n",
    "                annotation_text='25th pct (Ins)', \n",
    "                annotation_position='top left')\n",
    "if no_ins_clip.size:\n",
    "    mean_no = np.nanmean(no_ins_clip)\n",
    "    p25_no = np.nanpercentile(no_ins_clip, 25)\n",
    "    # Add vertical lines for mean and median\n",
    "    fig.add_vline(x=mean_no, \n",
    "                line_dash='dash', \n",
    "                line_color=WSJ_COLORS.get('orange', '#ff7f0e'), \n",
    "                annotation_text='Mean (No Ins)', \n",
    "                annotation_position='bottom right')\n",
    "    fig.add_vline(x=p25_no, \n",
    "                line_dash='dot', \n",
    "                line_color=WSJ_COLORS.get('red', '#d62728'),\n",
    "                annotation_text='25th pct (No Ins)', \n",
    "                annotation_position='bottom left')\n",
    "\n",
    "\n",
    "# Update layout\n",
    "fig.update_layout(\n",
    "    title={\n",
    "        \"text\": \"Time-Average Growth Rate Histogram\",\n",
    "        \"x\": 0.5,\n",
    "        \"xanchor\": \"center\"\n",
    "    },\n",
    "    template='plotly_white',\n",
    "    showlegend=True,\n",
    "    legend=dict(\n",
    "        orientation='h',\n",
    "        x=0.5,\n",
    "        xanchor='center',\n",
    "        y=-0.2,\n",
    "        yanchor='top'\n",
    "    ),\n",
    "    width=800,\n",
    "    height=500\n",
    ")\n",
    "\n",
    "# Axes titles\n",
    "fig.update_xaxes(title_text=\"Time-Average Growth Rate (%)\",\n",
    "                range=[lower, upper])\n",
    "\n",
    "fig.show()"
   ]
  },
  {
   "cell_type": "code",
   "execution_count": null,
   "id": "10494050",
   "metadata": {},
   "outputs": [],
   "source": []
  },
  {
   "cell_type": "code",
   "execution_count": 26,
   "id": "97bb2095",
   "metadata": {},
   "outputs": [],
   "source": [
    "import plotly.io as pio\n",
    "\n",
    "fig_filename = f\"results\\Cap ({INITIAL_ASSETS/1_000_000:.0f}M) -\\\n",
    " ATR ({ASSET_TURNOVER_RATIO}) -\\\n",
    " EBITA ({EBITA_MARGIN_TARGET}) -\\\n",
    " XS_Kurt (high) -\\\n",
    " Ded ({DEDUCTIBLE/1_000:.0f}K) -\\\n",
    " LR ({LOSS_RATIO}) -\\\n",
    " {NUM_SIMULATIONS/1_000:.0f}K Sims -\\\n",
    " {SIM_YEARS} Yrs - Growth Rate.png\"\n",
    "\n",
    "pio.write_image(fig, fig_filename, scale=2) # Adjust scale as needed"
   ]
  },
  {
   "cell_type": "code",
   "execution_count": 27,
   "id": "2bcb52ae",
   "metadata": {},
   "outputs": [
    {
     "name": "stdout",
     "output_type": "stream",
     "text": [
      "\n",
      "Ruin Probabilities by Time Horizon:\n",
      "  5 years: 0.00%\n",
      "  10 years: 0.00%\n",
      "  15 years: 0.00%\n",
      "  20 years: 0.00%\n",
      "  25 years: 0.00%\n",
      "  30 years: 1.00%\n",
      "  35 years: 1.00%\n",
      "  40 years: 1.00%\n",
      "  45 years: 1.00%\n",
      "  50 years: 1.00%\n",
      "\n",
      "Convergence achieved: No\n"
     ]
    },
    {
     "data": {
      "application/vnd.plotly.v1+json": {
       "config": {
        "plotlyServerURL": "https://plot.ly"
       },
       "data": [
        {
         "line": {
          "color": "#0080C7",
          "width": 2
         },
         "marker": {
          "size": 8
         },
         "mode": "lines+markers",
         "name": "Insurance",
         "type": "scatter",
         "x": [
          "5",
          "10",
          "15",
          "20",
          "25",
          "30",
          "35",
          "40",
          "45",
          "50"
         ],
         "y": [
          0,
          0,
          0,
          0,
          0,
          1,
          1,
          1,
          1,
          1
         ]
        },
        {
         "line": {
          "color": "#FF9800",
          "width": 2
         },
         "marker": {
          "size": 8
         },
         "mode": "lines+markers",
         "name": "No Insurance",
         "type": "scatter",
         "x": [
          "5",
          "10",
          "15",
          "20",
          "25",
          "30",
          "35",
          "40",
          "45",
          "50"
         ],
         "y": [
          0,
          0,
          2,
          4,
          5,
          7.000000000000001,
          7.000000000000001,
          7.000000000000001,
          7.000000000000001,
          7.000000000000001
         ]
        }
       ],
       "layout": {
        "height": 500,
        "legend": {
         "orientation": "h",
         "x": 0.5,
         "xanchor": "center",
         "y": -0.2,
         "yanchor": "top"
        },
        "showlegend": true,
        "template": {
         "data": {
          "bar": [
           {
            "error_x": {
             "color": "#2a3f5f"
            },
            "error_y": {
             "color": "#2a3f5f"
            },
            "marker": {
             "line": {
              "color": "white",
              "width": 0.5
             },
             "pattern": {
              "fillmode": "overlay",
              "size": 10,
              "solidity": 0.2
             }
            },
            "type": "bar"
           }
          ],
          "barpolar": [
           {
            "marker": {
             "line": {
              "color": "white",
              "width": 0.5
             },
             "pattern": {
              "fillmode": "overlay",
              "size": 10,
              "solidity": 0.2
             }
            },
            "type": "barpolar"
           }
          ],
          "carpet": [
           {
            "aaxis": {
             "endlinecolor": "#2a3f5f",
             "gridcolor": "#C8D4E3",
             "linecolor": "#C8D4E3",
             "minorgridcolor": "#C8D4E3",
             "startlinecolor": "#2a3f5f"
            },
            "baxis": {
             "endlinecolor": "#2a3f5f",
             "gridcolor": "#C8D4E3",
             "linecolor": "#C8D4E3",
             "minorgridcolor": "#C8D4E3",
             "startlinecolor": "#2a3f5f"
            },
            "type": "carpet"
           }
          ],
          "choropleth": [
           {
            "colorbar": {
             "outlinewidth": 0,
             "ticks": ""
            },
            "type": "choropleth"
           }
          ],
          "contour": [
           {
            "colorbar": {
             "outlinewidth": 0,
             "ticks": ""
            },
            "colorscale": [
             [
              0,
              "#0d0887"
             ],
             [
              0.1111111111111111,
              "#46039f"
             ],
             [
              0.2222222222222222,
              "#7201a8"
             ],
             [
              0.3333333333333333,
              "#9c179e"
             ],
             [
              0.4444444444444444,
              "#bd3786"
             ],
             [
              0.5555555555555556,
              "#d8576b"
             ],
             [
              0.6666666666666666,
              "#ed7953"
             ],
             [
              0.7777777777777778,
              "#fb9f3a"
             ],
             [
              0.8888888888888888,
              "#fdca26"
             ],
             [
              1,
              "#f0f921"
             ]
            ],
            "type": "contour"
           }
          ],
          "contourcarpet": [
           {
            "colorbar": {
             "outlinewidth": 0,
             "ticks": ""
            },
            "type": "contourcarpet"
           }
          ],
          "heatmap": [
           {
            "colorbar": {
             "outlinewidth": 0,
             "ticks": ""
            },
            "colorscale": [
             [
              0,
              "#0d0887"
             ],
             [
              0.1111111111111111,
              "#46039f"
             ],
             [
              0.2222222222222222,
              "#7201a8"
             ],
             [
              0.3333333333333333,
              "#9c179e"
             ],
             [
              0.4444444444444444,
              "#bd3786"
             ],
             [
              0.5555555555555556,
              "#d8576b"
             ],
             [
              0.6666666666666666,
              "#ed7953"
             ],
             [
              0.7777777777777778,
              "#fb9f3a"
             ],
             [
              0.8888888888888888,
              "#fdca26"
             ],
             [
              1,
              "#f0f921"
             ]
            ],
            "type": "heatmap"
           }
          ],
          "histogram": [
           {
            "marker": {
             "pattern": {
              "fillmode": "overlay",
              "size": 10,
              "solidity": 0.2
             }
            },
            "type": "histogram"
           }
          ],
          "histogram2d": [
           {
            "colorbar": {
             "outlinewidth": 0,
             "ticks": ""
            },
            "colorscale": [
             [
              0,
              "#0d0887"
             ],
             [
              0.1111111111111111,
              "#46039f"
             ],
             [
              0.2222222222222222,
              "#7201a8"
             ],
             [
              0.3333333333333333,
              "#9c179e"
             ],
             [
              0.4444444444444444,
              "#bd3786"
             ],
             [
              0.5555555555555556,
              "#d8576b"
             ],
             [
              0.6666666666666666,
              "#ed7953"
             ],
             [
              0.7777777777777778,
              "#fb9f3a"
             ],
             [
              0.8888888888888888,
              "#fdca26"
             ],
             [
              1,
              "#f0f921"
             ]
            ],
            "type": "histogram2d"
           }
          ],
          "histogram2dcontour": [
           {
            "colorbar": {
             "outlinewidth": 0,
             "ticks": ""
            },
            "colorscale": [
             [
              0,
              "#0d0887"
             ],
             [
              0.1111111111111111,
              "#46039f"
             ],
             [
              0.2222222222222222,
              "#7201a8"
             ],
             [
              0.3333333333333333,
              "#9c179e"
             ],
             [
              0.4444444444444444,
              "#bd3786"
             ],
             [
              0.5555555555555556,
              "#d8576b"
             ],
             [
              0.6666666666666666,
              "#ed7953"
             ],
             [
              0.7777777777777778,
              "#fb9f3a"
             ],
             [
              0.8888888888888888,
              "#fdca26"
             ],
             [
              1,
              "#f0f921"
             ]
            ],
            "type": "histogram2dcontour"
           }
          ],
          "mesh3d": [
           {
            "colorbar": {
             "outlinewidth": 0,
             "ticks": ""
            },
            "type": "mesh3d"
           }
          ],
          "parcoords": [
           {
            "line": {
             "colorbar": {
              "outlinewidth": 0,
              "ticks": ""
             }
            },
            "type": "parcoords"
           }
          ],
          "pie": [
           {
            "automargin": true,
            "type": "pie"
           }
          ],
          "scatter": [
           {
            "fillpattern": {
             "fillmode": "overlay",
             "size": 10,
             "solidity": 0.2
            },
            "type": "scatter"
           }
          ],
          "scatter3d": [
           {
            "line": {
             "colorbar": {
              "outlinewidth": 0,
              "ticks": ""
             }
            },
            "marker": {
             "colorbar": {
              "outlinewidth": 0,
              "ticks": ""
             }
            },
            "type": "scatter3d"
           }
          ],
          "scattercarpet": [
           {
            "marker": {
             "colorbar": {
              "outlinewidth": 0,
              "ticks": ""
             }
            },
            "type": "scattercarpet"
           }
          ],
          "scattergeo": [
           {
            "marker": {
             "colorbar": {
              "outlinewidth": 0,
              "ticks": ""
             }
            },
            "type": "scattergeo"
           }
          ],
          "scattergl": [
           {
            "marker": {
             "colorbar": {
              "outlinewidth": 0,
              "ticks": ""
             }
            },
            "type": "scattergl"
           }
          ],
          "scattermap": [
           {
            "marker": {
             "colorbar": {
              "outlinewidth": 0,
              "ticks": ""
             }
            },
            "type": "scattermap"
           }
          ],
          "scattermapbox": [
           {
            "marker": {
             "colorbar": {
              "outlinewidth": 0,
              "ticks": ""
             }
            },
            "type": "scattermapbox"
           }
          ],
          "scatterpolar": [
           {
            "marker": {
             "colorbar": {
              "outlinewidth": 0,
              "ticks": ""
             }
            },
            "type": "scatterpolar"
           }
          ],
          "scatterpolargl": [
           {
            "marker": {
             "colorbar": {
              "outlinewidth": 0,
              "ticks": ""
             }
            },
            "type": "scatterpolargl"
           }
          ],
          "scatterternary": [
           {
            "marker": {
             "colorbar": {
              "outlinewidth": 0,
              "ticks": ""
             }
            },
            "type": "scatterternary"
           }
          ],
          "surface": [
           {
            "colorbar": {
             "outlinewidth": 0,
             "ticks": ""
            },
            "colorscale": [
             [
              0,
              "#0d0887"
             ],
             [
              0.1111111111111111,
              "#46039f"
             ],
             [
              0.2222222222222222,
              "#7201a8"
             ],
             [
              0.3333333333333333,
              "#9c179e"
             ],
             [
              0.4444444444444444,
              "#bd3786"
             ],
             [
              0.5555555555555556,
              "#d8576b"
             ],
             [
              0.6666666666666666,
              "#ed7953"
             ],
             [
              0.7777777777777778,
              "#fb9f3a"
             ],
             [
              0.8888888888888888,
              "#fdca26"
             ],
             [
              1,
              "#f0f921"
             ]
            ],
            "type": "surface"
           }
          ],
          "table": [
           {
            "cells": {
             "fill": {
              "color": "#EBF0F8"
             },
             "line": {
              "color": "white"
             }
            },
            "header": {
             "fill": {
              "color": "#C8D4E3"
             },
             "line": {
              "color": "white"
             }
            },
            "type": "table"
           }
          ]
         },
         "layout": {
          "annotationdefaults": {
           "arrowcolor": "#2a3f5f",
           "arrowhead": 0,
           "arrowwidth": 1
          },
          "autotypenumbers": "strict",
          "coloraxis": {
           "colorbar": {
            "outlinewidth": 0,
            "ticks": ""
           }
          },
          "colorscale": {
           "diverging": [
            [
             0,
             "#8e0152"
            ],
            [
             0.1,
             "#c51b7d"
            ],
            [
             0.2,
             "#de77ae"
            ],
            [
             0.3,
             "#f1b6da"
            ],
            [
             0.4,
             "#fde0ef"
            ],
            [
             0.5,
             "#f7f7f7"
            ],
            [
             0.6,
             "#e6f5d0"
            ],
            [
             0.7,
             "#b8e186"
            ],
            [
             0.8,
             "#7fbc41"
            ],
            [
             0.9,
             "#4d9221"
            ],
            [
             1,
             "#276419"
            ]
           ],
           "sequential": [
            [
             0,
             "#0d0887"
            ],
            [
             0.1111111111111111,
             "#46039f"
            ],
            [
             0.2222222222222222,
             "#7201a8"
            ],
            [
             0.3333333333333333,
             "#9c179e"
            ],
            [
             0.4444444444444444,
             "#bd3786"
            ],
            [
             0.5555555555555556,
             "#d8576b"
            ],
            [
             0.6666666666666666,
             "#ed7953"
            ],
            [
             0.7777777777777778,
             "#fb9f3a"
            ],
            [
             0.8888888888888888,
             "#fdca26"
            ],
            [
             1,
             "#f0f921"
            ]
           ],
           "sequentialminus": [
            [
             0,
             "#0d0887"
            ],
            [
             0.1111111111111111,
             "#46039f"
            ],
            [
             0.2222222222222222,
             "#7201a8"
            ],
            [
             0.3333333333333333,
             "#9c179e"
            ],
            [
             0.4444444444444444,
             "#bd3786"
            ],
            [
             0.5555555555555556,
             "#d8576b"
            ],
            [
             0.6666666666666666,
             "#ed7953"
            ],
            [
             0.7777777777777778,
             "#fb9f3a"
            ],
            [
             0.8888888888888888,
             "#fdca26"
            ],
            [
             1,
             "#f0f921"
            ]
           ]
          },
          "colorway": [
           "#636efa",
           "#EF553B",
           "#00cc96",
           "#ab63fa",
           "#FFA15A",
           "#19d3f3",
           "#FF6692",
           "#B6E880",
           "#FF97FF",
           "#FECB52"
          ],
          "font": {
           "color": "#2a3f5f"
          },
          "geo": {
           "bgcolor": "white",
           "lakecolor": "white",
           "landcolor": "white",
           "showlakes": true,
           "showland": true,
           "subunitcolor": "#C8D4E3"
          },
          "hoverlabel": {
           "align": "left"
          },
          "hovermode": "closest",
          "mapbox": {
           "style": "light"
          },
          "paper_bgcolor": "white",
          "plot_bgcolor": "white",
          "polar": {
           "angularaxis": {
            "gridcolor": "#EBF0F8",
            "linecolor": "#EBF0F8",
            "ticks": ""
           },
           "bgcolor": "white",
           "radialaxis": {
            "gridcolor": "#EBF0F8",
            "linecolor": "#EBF0F8",
            "ticks": ""
           }
          },
          "scene": {
           "xaxis": {
            "backgroundcolor": "white",
            "gridcolor": "#DFE8F3",
            "gridwidth": 2,
            "linecolor": "#EBF0F8",
            "showbackground": true,
            "ticks": "",
            "zerolinecolor": "#EBF0F8"
           },
           "yaxis": {
            "backgroundcolor": "white",
            "gridcolor": "#DFE8F3",
            "gridwidth": 2,
            "linecolor": "#EBF0F8",
            "showbackground": true,
            "ticks": "",
            "zerolinecolor": "#EBF0F8"
           },
           "zaxis": {
            "backgroundcolor": "white",
            "gridcolor": "#DFE8F3",
            "gridwidth": 2,
            "linecolor": "#EBF0F8",
            "showbackground": true,
            "ticks": "",
            "zerolinecolor": "#EBF0F8"
           }
          },
          "shapedefaults": {
           "line": {
            "color": "#2a3f5f"
           }
          },
          "ternary": {
           "aaxis": {
            "gridcolor": "#DFE8F3",
            "linecolor": "#A2B1C6",
            "ticks": ""
           },
           "baxis": {
            "gridcolor": "#DFE8F3",
            "linecolor": "#A2B1C6",
            "ticks": ""
           },
           "bgcolor": "white",
           "caxis": {
            "gridcolor": "#DFE8F3",
            "linecolor": "#A2B1C6",
            "ticks": ""
           }
          },
          "title": {
           "x": 0.05
          },
          "xaxis": {
           "automargin": true,
           "gridcolor": "#EBF0F8",
           "linecolor": "#EBF0F8",
           "ticks": "",
           "title": {
            "standoff": 15
           },
           "zerolinecolor": "#EBF0F8",
           "zerolinewidth": 2
          },
          "yaxis": {
           "automargin": true,
           "gridcolor": "#EBF0F8",
           "linecolor": "#EBF0F8",
           "ticks": "",
           "title": {
            "standoff": 15
           },
           "zerolinecolor": "#EBF0F8",
           "zerolinewidth": 2
          }
         }
        },
        "title": {
         "text": "Ruin Probability by Time Horizon",
         "x": 0.5,
         "xanchor": "center"
        },
        "width": 800,
        "xaxis": {
         "title": {
          "text": "Time Horizon (years)"
         }
        },
        "yaxis": {
         "title": {
          "text": "Ruin Probability (%)"
         }
        }
       }
      }
     },
     "metadata": {},
     "output_type": "display_data"
    }
   ],
   "source": [
    "import plotly.graph_objects as go\n",
    "from plotly.subplots import make_subplots\n",
    "from ergodic_insurance.visualization.core import WSJ_COLORS\n",
    "import numpy as np\n",
    "\n",
    "# Print results\n",
    "print(f\"\\nRuin Probabilities by Time Horizon:\")\n",
    "for yr, prob in results.ruin_probability.items():\n",
    "    print(f\"  {yr} years: {prob*100:.2f}%\")\n",
    "\n",
    "print(f\"\\nConvergence achieved: {'Yes' if results.convergence else 'No'}\")\n",
    "\n",
    "# --------------------------------------\n",
    "# Ruin probability comparison (1,2)\n",
    "# --------------------------------------\n",
    "# Single figure without subplots\n",
    "fig = go.Figure()\n",
    "fig.add_trace(\n",
    "    go.Scatter(\n",
    "        x=list(results.ruin_probability.keys()),\n",
    "        y=[prob * 100 for prob in results.ruin_probability.values()],\n",
    "        mode='lines+markers',\n",
    "        name='Insurance',\n",
    "        line=dict(width=2, color=WSJ_COLORS.get('blue', '#1f77b4')),\n",
    "        marker=dict(size=8)\n",
    "    )\n",
    ")\n",
    "fig.add_trace(\n",
    "    go.Scatter(\n",
    "        x=list(results_no_ins.ruin_probability.keys()),\n",
    "        y=[prob * 100 for prob in results_no_ins.ruin_probability.values()],\n",
    "        mode='lines+markers',\n",
    "        name='No Insurance',\n",
    "        line=dict(width=2, color=WSJ_COLORS.get('orange', '#ff7f0e')),\n",
    "        marker=dict(size=8)\n",
    "    )\n",
    ")\n",
    "\n",
    "# Update layout\n",
    "fig.update_layout(\n",
    "    title={\n",
    "        \"text\": \"Ruin Probability by Time Horizon\",\n",
    "        \"x\": 0.5,\n",
    "        \"xanchor\": \"center\"\n",
    "    },\n",
    "    template='plotly_white',\n",
    "    showlegend=True,\n",
    "    legend=dict(\n",
    "        orientation='h',\n",
    "        x=0.5,\n",
    "        xanchor='center',\n",
    "        y=-0.2,\n",
    "        yanchor='top'\n",
    "    ),\n",
    "    width=800,\n",
    "    height=500\n",
    ")\n",
    "\n",
    "# Axes titles\n",
    "fig.update_xaxes(title_text=\"Time Horizon (years)\")\n",
    "fig.update_yaxes(title_text=\"Ruin Probability (%)\")\n",
    "\n",
    "fig.show()"
   ]
  },
  {
   "cell_type": "code",
   "execution_count": 28,
   "id": "6957ede5",
   "metadata": {},
   "outputs": [],
   "source": [
    "fig_filename = f\"results\\Cap ({INITIAL_ASSETS/1_000_000:.0f}M) -\\\n",
    " ATR ({ASSET_TURNOVER_RATIO}) -\\\n",
    " EBITA ({EBITA_MARGIN_TARGET}) -\\\n",
    " XS_Kurt (high) -\\\n",
    " Ded ({DEDUCTIBLE/1_000:.0f}K) -\\\n",
    " LR ({LOSS_RATIO}) -\\\n",
    " {NUM_SIMULATIONS/1_000:.0f}K Sims -\\\n",
    " {SIM_YEARS} Yrs - RoR.png\"\n",
    "\n",
    "pio.write_image(fig, fig_filename, scale=2) # Adjust scale as needed"
   ]
  },
  {
   "cell_type": "code",
   "execution_count": 29,
   "id": "19ec0acf",
   "metadata": {},
   "outputs": [
    {
     "name": "stdout",
     "output_type": "stream",
     "text": [
      "Final net asset value with insurance: $22,213,594 ± $2,921,140\n",
      "Final net asset value without insurance: $14,973,185 ± $9,271,236\n"
     ]
    }
   ],
   "source": [
    "print(f'Final net asset value with insurance: ${results.final_assets.mean():,.0f} ± ${results.final_assets.std():,.0f}')\n",
    "print(f'Final net asset value without insurance: ${results_no_ins.final_assets.mean():,.0f} ± ${results_no_ins.final_assets.std():,.0f}')"
   ]
  },
  {
   "cell_type": "code",
   "execution_count": null,
   "id": "1e592860",
   "metadata": {},
   "outputs": [],
   "source": []
  },
  {
   "cell_type": "code",
   "execution_count": 30,
   "id": "eg6zn1z69ho",
   "metadata": {},
   "outputs": [
    {
     "name": "stdout",
     "output_type": "stream",
     "text": [
      "Parallel: False\n",
      "Use enhanced parallel: True\n",
      "Would use: _run_sequential() -> _run_single_simulation\n"
     ]
    }
   ],
   "source": [
    "print(f\"Parallel: {engine.config.parallel}\")\n",
    "print(f\"Use enhanced parallel: {engine.config.use_enhanced_parallel}\")\n",
    "\n",
    "# Check which path would be taken\n",
    "if engine.config.parallel:\n",
    "    if engine.config.use_enhanced_parallel:\n",
    "        print(\"Would use: _run_enhanced_parallel() -> _simulate_path_enhanced\")\n",
    "    else:\n",
    "        print(\"Would use: _run_parallel()\")\n",
    "else:\n",
    "    print(\"Would use: _run_sequential() -> _run_single_simulation\")"
   ]
  },
  {
   "cell_type": "code",
   "execution_count": 31,
   "id": "83c7hpxxhlq",
   "metadata": {},
   "outputs": [
    {
     "name": "stdout",
     "output_type": "stream",
     "text": [
      "Running test simulation with all fixes...\n",
      "Config - Parallel: False\n",
      "Config - Enhanced: True\n",
      "Config - Working Capital: 0.0\n"
     ]
    },
    {
     "name": "stderr",
     "output_type": "stream",
     "text": [
      "Running simulations: 100%|██████████| 100/100 [00:00<00:00, 227.42it/s]\n"
     ]
    },
    {
     "name": "stdout",
     "output_type": "stream",
     "text": [
      "\n",
      "=== Results with All Fixes ===\n",
      "Average growth rate: 1.83%\n",
      "Median growth rate: 1.82%\n",
      "Mean final assets: $12,003,491\n"
     ]
    },
    {
     "ename": "NameError",
     "evalue": "name 'theoretical_growth' is not defined",
     "output_type": "error",
     "traceback": [
      "\u001b[31m---------------------------------------------------------------------------\u001b[39m",
      "\u001b[31mNameError\u001b[39m                                 Traceback (most recent call last)",
      "\u001b[36mCell\u001b[39m\u001b[36m \u001b[39m\u001b[32mIn[31]\u001b[39m\u001b[32m, line 41\u001b[39m\n\u001b[32m     39\u001b[39m \u001b[38;5;28mprint\u001b[39m(\u001b[33mf\u001b[39m\u001b[33m\"\u001b[39m\u001b[33mMedian growth rate: \u001b[39m\u001b[38;5;132;01m{\u001b[39;00mnp.median(results_test2.growth_rates)*\u001b[32m100\u001b[39m\u001b[38;5;132;01m:\u001b[39;00m\u001b[33m.2f\u001b[39m\u001b[38;5;132;01m}\u001b[39;00m\u001b[33m%\u001b[39m\u001b[33m\"\u001b[39m)\n\u001b[32m     40\u001b[39m \u001b[38;5;28mprint\u001b[39m(\u001b[33mf\u001b[39m\u001b[33m\"\u001b[39m\u001b[33mMean final assets: $\u001b[39m\u001b[38;5;132;01m{\u001b[39;00mresults_test2.final_assets.mean()\u001b[38;5;132;01m:\u001b[39;00m\u001b[33m,.0f\u001b[39m\u001b[38;5;132;01m}\u001b[39;00m\u001b[33m\"\u001b[39m)\n\u001b[32m---> \u001b[39m\u001b[32m41\u001b[39m \u001b[38;5;28mprint\u001b[39m(\u001b[33mf\u001b[39m\u001b[33m\"\u001b[39m\u001b[33mExpected theoretical growth: \u001b[39m\u001b[38;5;132;01m{\u001b[39;00m\u001b[43mtheoretical_growth\u001b[49m\u001b[38;5;132;01m:\u001b[39;00m\u001b[33m.2%\u001b[39m\u001b[38;5;132;01m}\u001b[39;00m\u001b[33m\"\u001b[39m)\n\u001b[32m     42\u001b[39m \u001b[38;5;28mprint\u001b[39m(\u001b[33mf\u001b[39m\u001b[33m\"\u001b[39m\u001b[33mGap from theoretical: \u001b[39m\u001b[38;5;132;01m{\u001b[39;00m(np.mean(results_test2.growth_rates)\u001b[38;5;250m \u001b[39m-\u001b[38;5;250m \u001b[39mtheoretical_growth)*\u001b[32m100\u001b[39m\u001b[38;5;132;01m:\u001b[39;00m\u001b[33m.2f\u001b[39m\u001b[38;5;132;01m}\u001b[39;00m\u001b[33m percentage points\u001b[39m\u001b[33m\"\u001b[39m)\n",
      "\u001b[31mNameError\u001b[39m: name 'theoretical_growth' is not defined"
     ]
    }
   ],
   "source": [
    "# Force reload of the module again to get all fixes\n",
    "import importlib\n",
    "import sys\n",
    "\n",
    "# Force reload of the monte_carlo module\n",
    "if 'ergodic_insurance.monte_carlo' in sys.modules:\n",
    "    del sys.modules['ergodic_insurance.monte_carlo']\n",
    "if 'ergodic_insurance.manufacturer' in sys.modules:\n",
    "    del sys.modules['ergodic_insurance.manufacturer']\n",
    "\n",
    "from ergodic_insurance.monte_carlo import MonteCarloEngine\n",
    "from ergodic_insurance.manufacturer import WidgetManufacturer\n",
    "from ergodic_insurance.config import ManufacturerConfig\n",
    "\n",
    "# Recreate the simulation setup with fresh imports\n",
    "manufacturer_config = ManufacturerConfig(\n",
    "    initial_assets=INITIAL_ASSETS,\n",
    "    asset_turnover_ratio=ASSET_TURNOVER_RATIO,\n",
    "    base_operating_margin=0.10,\n",
    "    tax_rate=0.25,\n",
    "    retention_ratio=0.70,\n",
    "    ppe_ratio=0.00,\n",
    ")\n",
    "base_manufacturer = WidgetManufacturer(manufacturer_config)\n",
    "\n",
    "# Run a test simulation with the comprehensive fixes\n",
    "print(\"Running test simulation with all fixes...\")\n",
    "engine_test2 = setup_simulation_engine(n_simulations=100, n_years=10, parallel=False, insurance_program=program)\n",
    "\n",
    "# Check the config\n",
    "print(f\"Config - Parallel: {engine_test2.config.parallel}\")\n",
    "print(f\"Config - Enhanced: {engine_test2.config.use_enhanced_parallel}\")\n",
    "print(f\"Config - Working Capital: {engine_test2.config.working_capital_pct}\")\n",
    "\n",
    "results_test2 = engine_test2.run()\n",
    "\n",
    "print(f\"\\n=== Results with All Fixes ===\")\n",
    "print(f\"Average growth rate: {np.mean(results_test2.growth_rates)*100:.2f}%\")\n",
    "print(f\"Median growth rate: {np.median(results_test2.growth_rates)*100:.2f}%\")\n",
    "print(f\"Mean final assets: ${results_test2.final_assets.mean():,.0f}\")\n",
    "print(f\"Expected theoretical growth: {theoretical_growth:.2%}\")\n",
    "print(f\"Gap from theoretical: {(np.mean(results_test2.growth_rates) - theoretical_growth)*100:.2f} percentage points\")"
   ]
  },
  {
   "cell_type": "code",
   "execution_count": null,
   "id": "m751iuodzod",
   "metadata": {},
   "outputs": [],
   "source": [
    "# Recalculate theoretical growth\n",
    "theoretical_growth = 0.0503 * (1 - 0.25) * 0.70  # EBITDA * (1-tax) * retention\n",
    "print(f\"Expected theoretical growth: {theoretical_growth:.2%}\")\n",
    "print(f\"Gap from theoretical: {(np.mean(results_test2.growth_rates) - theoretical_growth)*100:.2f} percentage points\")\n",
    "\n",
    "# Let's trace through a single simulation to see what's happening\n",
    "print(\"\\n=== Detailed Single Path Analysis ===\")\n",
    "\n",
    "# Create a fresh manufacturer\n",
    "test_mfr = WidgetManufacturer(manufacturer_config)\n",
    "print(f\"Initial assets: ${test_mfr.total_assets:,.0f}\")\n",
    "\n",
    "# Simulate one year manually\n",
    "test_mfr.record_insurance_premium(annual_premium)\n",
    "test_mfr.record_insurance_loss(average_annual_retained_loss)\n",
    "\n",
    "# Step\n",
    "metrics = test_mfr.step(working_capital_pct=0.0)\n",
    "\n",
    "print(f\"\\nAfter Year 1:\")\n",
    "print(f\"Revenue: ${metrics['revenue']:,.0f}\")\n",
    "print(f\"Operating Income: ${metrics['operating_income']:,.0f}\")\n",
    "print(f\"Net Income: ${metrics['net_income']:,.0f}\")\n",
    "print(f\"Assets: ${test_mfr.total_assets:,.0f}\")\n",
    "print(f\"Growth: {(test_mfr.total_assets - INITIAL_ASSETS)/INITIAL_ASSETS:.2%}\")\n",
    "\n",
    "# Check what the insurance costs were\n",
    "print(f\"\\nInsurance costs recorded:\")\n",
    "print(f\"Premium: ${metrics['insurance_premiums']:,.0f}\")\n",
    "print(f\"Losses: ${metrics['insurance_losses']:,.0f}\")\n",
    "print(f\"Total: ${metrics['total_insurance_costs']:,.0f}\")"
   ]
  },
  {
   "cell_type": "code",
   "execution_count": 32,
   "id": "jjoktv0vrs",
   "metadata": {},
   "outputs": [
    {
     "name": "stdout",
     "output_type": "stream",
     "text": [
      "Theoretical annual growth rate: 2.64%\n",
      "\n",
      "Running simulation after fixes...\n"
     ]
    },
    {
     "name": "stderr",
     "output_type": "stream",
     "text": [
      "Running simulations: 100%|██████████| 100/100 [00:00<00:00, 305.54it/s]\n"
     ]
    },
    {
     "name": "stdout",
     "output_type": "stream",
     "text": [
      "\n",
      "Results:\n",
      "Mean growth rate: 1.82%\n",
      "Theoretical growth: 2.64%\n",
      "Ergodicity gap: 0.82 percentage points\n",
      "\n",
      "Growth rate std dev: 0.01%\n",
      "Simple average growth from assets: 1.84%\n"
     ]
    }
   ],
   "source": [
    "# Let's check if we're still getting the lower growth rate in the notebook\n",
    "# Re-run the simulation with the fixed code\n",
    "\n",
    "# First, verify the theoretical calculation\n",
    "ebita_margin = 0.0503\n",
    "tax_rate = 0.25\n",
    "retention_ratio = 0.70\n",
    "theoretical_growth = ebita_margin * (1 - tax_rate) * retention_ratio\n",
    "print(f\"Theoretical annual growth rate: {theoretical_growth:.2%}\")\n",
    "\n",
    "# Now run a fresh simulation\n",
    "print(\"\\nRunning simulation after fixes...\")\n",
    "engine_fresh = setup_simulation_engine(n_simulations=100, n_years=10, parallel=False, insurance_program=program)\n",
    "results_fresh = engine_fresh.run()\n",
    "\n",
    "print(f\"\\nResults:\")\n",
    "print(f\"Mean growth rate: {np.mean(results_fresh.growth_rates)*100:.2f}%\")\n",
    "print(f\"Theoretical growth: {theoretical_growth*100:.2f}%\")\n",
    "print(f\"Ergodicity gap: {(theoretical_growth - np.mean(results_fresh.growth_rates))*100:.2f} percentage points\")\n",
    "\n",
    "# Check if there's volatility causing the gap\n",
    "print(f\"\\nGrowth rate std dev: {np.std(results_fresh.growth_rates)*100:.2f}%\")\n",
    "\n",
    "final_assets_avg = results_fresh.final_assets.mean()\n",
    "simple_growth = (final_assets_avg / INITIAL_ASSETS)**(1/10) - 1\n",
    "print(f\"Simple average growth from assets: {simple_growth*100:.2f}%\")"
   ]
  },
  {
   "cell_type": "code",
   "execution_count": 33,
   "id": "xd2y0c2hl4i",
   "metadata": {},
   "outputs": [
    {
     "name": "stdout",
     "output_type": "stream",
     "text": [
      "=== Initial State ===\n",
      "Assets: $10,000,000\n",
      "Cash: $10,000,000\n",
      "\n",
      "Revenue calculated: $10,000,000\n",
      "Recorded premium: $392,561\n",
      "Recorded loss: $104,245\n",
      "\n",
      "Base operating income (10% margin): $1,000,000\n",
      "Less insurance costs: $496,806\n",
      "Actual operating income: $503,194\n",
      "\n",
      "Tax (25%): $125,798\n",
      "Net income: $377,396\n",
      "\n",
      "Retained earnings (70% retention): $264,177\n",
      "\n",
      "Expected assets after retention: $10,264,177\n",
      "Expected growth: 2.64%\n"
     ]
    }
   ],
   "source": [
    "# Let's trace through one year more carefully\n",
    "from ergodic_insurance.manufacturer import WidgetManufacturer\n",
    "from ergodic_insurance.config import ManufacturerConfig\n",
    "\n",
    "# Create a test manufacturer\n",
    "test_config = ManufacturerConfig(\n",
    "    initial_assets=10_000_000,\n",
    "    asset_turnover_ratio=1.0,\n",
    "    base_operating_margin=0.10,\n",
    "    tax_rate=0.25,\n",
    "    retention_ratio=0.70,\n",
    "    ppe_ratio=0.00,\n",
    ")\n",
    "mfr = WidgetManufacturer(test_config)\n",
    "\n",
    "print(\"=== Initial State ===\")\n",
    "print(f\"Assets: ${mfr.total_assets:,.0f}\")\n",
    "print(f\"Cash: ${mfr.cash:,.0f}\")\n",
    "\n",
    "# Now simulate what happens in one year\n",
    "\n",
    "# Step 1: Calculate revenue (should be 10M with no working capital)\n",
    "revenue = mfr.calculate_revenue(working_capital_pct=0.0)\n",
    "print(f\"\\nRevenue calculated: ${revenue:,.0f}\")\n",
    "\n",
    "# Step 2: Record insurance costs (what the simulation does)\n",
    "mfr.record_insurance_premium(392_561)  # From earlier calculation\n",
    "mfr.record_insurance_loss(104_245)    # Average retained loss\n",
    "print(f\"Recorded premium: ${392_561:,.0f}\")\n",
    "print(f\"Recorded loss: ${104_245:,.0f}\")\n",
    "\n",
    "# Step 3: Calculate operating income manually\n",
    "base_operating_income = revenue * mfr.base_operating_margin\n",
    "actual_operating_income = base_operating_income - mfr.period_insurance_premiums - mfr.period_insurance_losses\n",
    "print(f\"\\nBase operating income (10% margin): ${base_operating_income:,.0f}\")\n",
    "print(f\"Less insurance costs: ${mfr.period_insurance_premiums + mfr.period_insurance_losses:,.0f}\")\n",
    "print(f\"Actual operating income: ${actual_operating_income:,.0f}\")\n",
    "\n",
    "# Step 4: Calculate net income\n",
    "tax = actual_operating_income * mfr.tax_rate\n",
    "net_income = actual_operating_income - tax\n",
    "print(f\"\\nTax (25%): ${tax:,.0f}\")\n",
    "print(f\"Net income: ${net_income:,.0f}\")\n",
    "\n",
    "# Step 5: Calculate retained earnings\n",
    "retained_earnings = net_income * mfr.retention_ratio\n",
    "print(f\"\\nRetained earnings (70% retention): ${retained_earnings:,.0f}\")\n",
    "\n",
    "# Step 6: Expected new assets\n",
    "expected_assets = mfr.total_assets + retained_earnings\n",
    "print(f\"\\nExpected assets after retention: ${expected_assets:,.0f}\")\n",
    "print(f\"Expected growth: {retained_earnings/mfr.total_assets:.2%}\")"
   ]
  },
  {
   "cell_type": "code",
   "execution_count": 34,
   "id": "59ogug1ett",
   "metadata": {},
   "outputs": [
    {
     "name": "stdout",
     "output_type": "stream",
     "text": [
      "=== Running actual step() method ===\n",
      "Initial assets: $10,000,000\n",
      "\n",
      "After step:\n",
      "Final assets: $10,264,177\n",
      "Actual growth: 2.64%\n",
      "\n",
      "Metrics from step:\n",
      "Revenue: $10,000,000\n",
      "Operating income: $503,194\n",
      "Net income: $377,396\n",
      "Insurance premiums: $392,561\n",
      "Insurance losses: $104,245\n",
      "\n",
      "=== Year 2 ===\n",
      "Starting assets: $10,264,177\n",
      "Revenue: $10,264,177\n",
      "Scaling factor: 1.0264\n",
      "Scaled premium: $402,932\n",
      "Scaled loss: $106,999\n",
      "\n",
      "After year 2:\n",
      "Final assets: $10,535,333\n",
      "Year 2 growth: 2.64%\n",
      "Cumulative growth rate: 2.64%\n"
     ]
    }
   ],
   "source": [
    "# Now let's see what happens when we actually run the step() method\n",
    "mfr2 = WidgetManufacturer(test_config)\n",
    "\n",
    "print(\"=== Running actual step() method ===\")\n",
    "print(f\"Initial assets: ${mfr2.total_assets:,.0f}\")\n",
    "\n",
    "# Record insurance costs\n",
    "mfr2.record_insurance_premium(392_561)\n",
    "mfr2.record_insurance_loss(104_245)\n",
    "\n",
    "# Run step\n",
    "metrics = mfr2.step(working_capital_pct=0.0)\n",
    "\n",
    "print(f\"\\nAfter step:\")\n",
    "print(f\"Final assets: ${mfr2.total_assets:,.0f}\")\n",
    "print(f\"Actual growth: {(mfr2.total_assets - 10_000_000)/10_000_000:.2%}\")\n",
    "\n",
    "# Check the metrics\n",
    "print(f\"\\nMetrics from step:\")\n",
    "print(f\"Revenue: ${metrics['revenue']:,.0f}\")\n",
    "print(f\"Operating income: ${metrics['operating_income']:,.0f}\")\n",
    "print(f\"Net income: ${metrics['net_income']:,.0f}\")\n",
    "print(f\"Insurance premiums: ${metrics['insurance_premiums']:,.0f}\")\n",
    "print(f\"Insurance losses: ${metrics['insurance_losses']:,.0f}\")\n",
    "\n",
    "# Now simulate a second year\n",
    "print(\"\\n=== Year 2 ===\")\n",
    "initial_year2 = mfr2.total_assets\n",
    "\n",
    "# The simulation would scale the insurance costs\n",
    "revenue_year2 = mfr2.calculate_revenue(working_capital_pct=0.0)\n",
    "scaling_factor = revenue_year2 / 10_000_000\n",
    "scaled_premium = 392_561 * scaling_factor\n",
    "scaled_loss = 104_245 * scaling_factor\n",
    "\n",
    "print(f\"Starting assets: ${initial_year2:,.0f}\")\n",
    "print(f\"Revenue: ${revenue_year2:,.0f}\")\n",
    "print(f\"Scaling factor: {scaling_factor:.4f}\")\n",
    "print(f\"Scaled premium: ${scaled_premium:,.0f}\")\n",
    "print(f\"Scaled loss: ${scaled_loss:,.0f}\")\n",
    "\n",
    "mfr2.record_insurance_premium(scaled_premium)\n",
    "mfr2.record_insurance_loss(scaled_loss)\n",
    "metrics2 = mfr2.step(working_capital_pct=0.0)\n",
    "\n",
    "print(f\"\\nAfter year 2:\")\n",
    "print(f\"Final assets: ${mfr2.total_assets:,.0f}\")\n",
    "print(f\"Year 2 growth: {(mfr2.total_assets - initial_year2)/initial_year2:.2%}\")\n",
    "print(f\"Cumulative growth rate: {((mfr2.total_assets/10_000_000)**(1/2) - 1):.2%}\")"
   ]
  },
  {
   "cell_type": "code",
   "execution_count": 35,
   "id": "76ewaz4bo6l",
   "metadata": {},
   "outputs": [
    {
     "name": "stdout",
     "output_type": "stream",
     "text": [
      "=== Analyzing actual simulation losses ===\n",
      "Average annual loss in simulation: $356,434\n",
      "Expected annual loss: $379,038\n",
      "Difference: $-22,604\n",
      "\n",
      "Average annual retained loss: $46,107\n",
      "Expected annual retained loss: $104,245\n",
      "Difference: $-58,138\n",
      "\n",
      "Std dev of annual losses: $1,020,593\n",
      "CV of losses: 2.86\n"
     ]
    }
   ],
   "source": [
    "# Let's check what the actual losses are in the simulation\n",
    "print(\"=== Analyzing actual simulation losses ===\")\n",
    "\n",
    "# Get the losses from the last simulation\n",
    "total_losses_per_sim = results_fresh.annual_losses.sum(axis=1)  # Total over 10 years\n",
    "avg_annual_loss = total_losses_per_sim.mean() / 10\n",
    "\n",
    "print(f\"Average annual loss in simulation: ${avg_annual_loss:,.0f}\")\n",
    "print(f\"Expected annual loss: ${average_annual_insured_loss + average_annual_retained_loss:,.0f}\")\n",
    "print(f\"Difference: ${avg_annual_loss - (average_annual_insured_loss + average_annual_retained_loss):,.0f}\")\n",
    "\n",
    "# Check retained losses specifically\n",
    "total_retained_per_sim = results_fresh.retained_losses.sum(axis=1)\n",
    "avg_annual_retained = total_retained_per_sim.mean() / 10\n",
    "\n",
    "print(f\"\\nAverage annual retained loss: ${avg_annual_retained:,.0f}\")\n",
    "print(f\"Expected annual retained loss: ${average_annual_retained_loss:,.0f}\")\n",
    "print(f\"Difference: ${avg_annual_retained - average_annual_retained_loss:,.0f}\")\n",
    "\n",
    "# Check the variance\n",
    "print(f\"\\nStd dev of annual losses: ${results_fresh.annual_losses.std():,.0f}\")\n",
    "print(f\"CV of losses: {results_fresh.annual_losses.std()/results_fresh.annual_losses.mean():.2f}\")"
   ]
  },
  {
   "cell_type": "code",
   "execution_count": 36,
   "id": "xa5sky1gca",
   "metadata": {},
   "outputs": [
    {
     "name": "stdout",
     "output_type": "stream",
     "text": [
      "=== Deductible Analysis ===\n",
      "Deductible set: $50,000\n",
      "Policy limit: $40,000,000\n",
      "\n",
      "Insurance program deductible: $0\n",
      "Insurance program layers: 1\n",
      "Layer attachment point: $50,000\n",
      "Layer limit: $40,000,000\n",
      "\n",
      "=== Testing Insurance Program ===\n",
      "Loss: $    10,000 -> Recovery: $         0, Retained: $    10,000\n",
      "Loss: $    50,000 -> Recovery: $         0, Retained: $    50,000\n",
      "Loss: $   100,000 -> Recovery: $    50,000, Retained: $    50,000\n",
      "Loss: $   500,000 -> Recovery: $   450,000, Retained: $    50,000\n",
      "Loss: $ 1,000,000 -> Recovery: $   950,000, Retained: $    50,000\n"
     ]
    }
   ],
   "source": [
    "# Let's check what's happening with the deductible\n",
    "print(\"=== Deductible Analysis ===\")\n",
    "print(f\"Deductible set: ${DEDUCTIBLE:,.0f}\")\n",
    "print(f\"Policy limit: ${policy_limit:,.0f}\")\n",
    "\n",
    "# Check what the insurance program thinks the deductible is\n",
    "print(f\"\\nInsurance program deductible: ${program.deductible:,.0f}\")\n",
    "print(f\"Insurance program layers: {len(program.layers)}\")\n",
    "if program.layers:\n",
    "    layer = program.layers[0]\n",
    "    print(f\"Layer attachment point: ${layer.attachment_point:,.0f}\")\n",
    "    print(f\"Layer limit: ${layer.limit:,.0f}\")\n",
    "\n",
    "# Test the insurance program with a sample loss\n",
    "test_losses = [10_000, 50_000, 100_000, 500_000, 1_000_000]\n",
    "print(\"\\n=== Testing Insurance Program ===\")\n",
    "for loss in test_losses:\n",
    "    result = program.process_claim(loss)\n",
    "    recovery = result.get(\"insurance_recovery\", 0)\n",
    "    retained = loss - recovery\n",
    "    print(f\"Loss: ${loss:>10,.0f} -> Recovery: ${recovery:>10,.0f}, Retained: ${retained:>10,.0f}\")"
   ]
  },
  {
   "cell_type": "code",
   "execution_count": 37,
   "id": "tu0bpv6diaj",
   "metadata": {},
   "outputs": [
    {
     "name": "stdout",
     "output_type": "stream",
     "text": [
      "=== Loss Generation Test ===\n",
      "Number of losses: 1\n",
      "Total losses: $22,805\n",
      "Individual losses: ['$22,805']\n",
      "\n",
      "=== 1000 Year Test ===\n",
      "Average frequency: 3.08 losses/year\n",
      "Average annual loss: $412,643\n",
      "Average insured loss: $309,284\n",
      "Average retained loss: $103,359\n",
      "\n",
      "Compare to calibration:\n",
      "Calibration insured: $274,793\n",
      "Calibration retained: $104,245\n",
      "Difference in retained: $-886\n"
     ]
    }
   ],
   "source": [
    "# Let's generate some losses with the current generator and see what we get\n",
    "print(\"=== Loss Generation Test ===\")\n",
    "\n",
    "# Generate losses for one year at base revenue\n",
    "test_events, _ = generator.generate_losses(duration=1.0, revenue=base_manufacturer.base_revenue)\n",
    "test_losses = [event.amount for event in test_events]\n",
    "\n",
    "if test_losses:\n",
    "    print(f\"Number of losses: {len(test_losses)}\")\n",
    "    print(f\"Total losses: ${sum(test_losses):,.0f}\")\n",
    "    print(f\"Individual losses: {[f'${l:,.0f}' for l in sorted(test_losses)]}\")\n",
    "else:\n",
    "    print(\"No losses generated\")\n",
    "\n",
    "# Generate many years to get average\n",
    "print(\"\\n=== 1000 Year Test ===\")\n",
    "total_loss = 0\n",
    "total_insured = 0  \n",
    "total_retained = 0\n",
    "loss_count = 0\n",
    "\n",
    "for _ in range(1000):\n",
    "    events, _ = generator.generate_losses(duration=1.0, revenue=base_manufacturer.base_revenue)\n",
    "    for event in events:\n",
    "        loss_count += 1\n",
    "        total_loss += event.amount\n",
    "        # Apply deductible and limit\n",
    "        insured = max(min(event.amount, policy_limit) - DEDUCTIBLE, 0)\n",
    "        retained = event.amount - insured\n",
    "        total_insured += insured\n",
    "        total_retained += retained\n",
    "\n",
    "avg_annual_loss = total_loss / 1000\n",
    "avg_annual_insured = total_insured / 1000\n",
    "avg_annual_retained = total_retained / 1000\n",
    "avg_frequency = loss_count / 1000\n",
    "\n",
    "print(f\"Average frequency: {avg_frequency:.2f} losses/year\")\n",
    "print(f\"Average annual loss: ${avg_annual_loss:,.0f}\")\n",
    "print(f\"Average insured loss: ${avg_annual_insured:,.0f}\")\n",
    "print(f\"Average retained loss: ${avg_annual_retained:,.0f}\")\n",
    "\n",
    "print(f\"\\nCompare to calibration:\")\n",
    "print(f\"Calibration insured: ${average_annual_insured_loss:,.0f}\")\n",
    "print(f\"Calibration retained: ${average_annual_retained_loss:,.0f}\")\n",
    "print(f\"Difference in retained: ${avg_annual_retained - average_annual_retained_loss:,.0f}\")"
   ]
  },
  {
   "cell_type": "code",
   "execution_count": 38,
   "id": "22g8vbg09e9",
   "metadata": {},
   "outputs": [
    {
     "name": "stdout",
     "output_type": "stream",
     "text": [
      "=== Single Simulation Path Trace ===\n",
      "\n",
      "Year 1:\n",
      "  Revenue: $10,000,000\n",
      "  Losses: $32,742\n",
      "  Retained: $32,742\n",
      "  Premium: $392,561\n",
      "  Assets: $10,301,716\n",
      "\n",
      "Year 2:\n",
      "  Revenue: $10,301,716\n",
      "  Losses: $361,934\n",
      "  Retained: $50,000\n",
      "  Premium: $404,405\n",
      "  Assets: $10,603,994\n",
      "\n",
      "Year 3:\n",
      "  Revenue: $10,603,994\n",
      "  Losses: $19,867\n",
      "  Retained: $19,867\n",
      "  Premium: $416,271\n",
      "  Assets: $10,780,513\n",
      "\n",
      "=== 10-Year Summary ===\n",
      "Average annual loss: $636,928\n",
      "Average retained loss: $38,292\n",
      "Average premium: $431,885\n",
      "Final assets: $12,026,997\n",
      "Annualized growth: 1.86%\n"
     ]
    }
   ],
   "source": [
    "# Let's run a single simulation path and trace it\n",
    "print(\"=== Single Simulation Path Trace ===\")\n",
    "\n",
    "# Create a fresh manufacturer\n",
    "trace_mfr = WidgetManufacturer(manufacturer_config)\n",
    "annual_losses = []\n",
    "annual_retained = []\n",
    "annual_premiums = []\n",
    "asset_history = [trace_mfr.total_assets]\n",
    "\n",
    "for year in range(10):\n",
    "    # Generate losses (like the simulation does)\n",
    "    revenue = trace_mfr.calculate_revenue()\n",
    "    events, _ = generator.generate_losses(duration=1.0, revenue=revenue)\n",
    "    \n",
    "    # Calculate total loss for the year\n",
    "    total_loss = sum(event.amount for event in events)\n",
    "    annual_losses.append(total_loss)\n",
    "    \n",
    "    # Apply insurance\n",
    "    claim_result = program.process_claim(total_loss)\n",
    "    recovery = claim_result.get(\"insurance_recovery\", 0)\n",
    "    retained = total_loss - recovery\n",
    "    annual_retained.append(retained)\n",
    "    \n",
    "    # Record losses for income calculation (as the fixed simulation does)\n",
    "    if retained > 0:\n",
    "        trace_mfr.record_insurance_loss(retained)\n",
    "    \n",
    "    # Calculate and record premium\n",
    "    base_revenue = INITIAL_ASSETS * ASSET_TURNOVER_RATIO\n",
    "    scaling = revenue / base_revenue if base_revenue > 0 else 1.0\n",
    "    scaled_premium = annual_premium * scaling  \n",
    "    annual_premiums.append(scaled_premium)\n",
    "    \n",
    "    if scaled_premium > 0:\n",
    "        trace_mfr.record_insurance_premium(scaled_premium)\n",
    "    \n",
    "    # Step the manufacturer\n",
    "    trace_mfr.step(working_capital_pct=0.0, growth_rate=0.0)\n",
    "    asset_history.append(trace_mfr.total_assets)\n",
    "    \n",
    "    if year < 3:  # Print details for first few years\n",
    "        print(f\"\\nYear {year+1}:\")\n",
    "        print(f\"  Revenue: ${revenue:,.0f}\")\n",
    "        print(f\"  Losses: ${total_loss:,.0f}\")\n",
    "        print(f\"  Retained: ${retained:,.0f}\")\n",
    "        print(f\"  Premium: ${scaled_premium:,.0f}\")\n",
    "        print(f\"  Assets: ${trace_mfr.total_assets:,.0f}\")\n",
    "\n",
    "print(f\"\\n=== 10-Year Summary ===\")\n",
    "print(f\"Average annual loss: ${np.mean(annual_losses):,.0f}\")\n",
    "print(f\"Average retained loss: ${np.mean(annual_retained):,.0f}\")\n",
    "print(f\"Average premium: ${np.mean(annual_premiums):,.0f}\")\n",
    "print(f\"Final assets: ${trace_mfr.total_assets:,.0f}\")\n",
    "print(f\"Annualized growth: {(trace_mfr.total_assets/INITIAL_ASSETS)**(1/10) - 1:.2%}\")"
   ]
  },
  {
   "cell_type": "code",
   "execution_count": 39,
   "id": "akxfbtry22n",
   "metadata": {},
   "outputs": [
    {
     "name": "stdout",
     "output_type": "stream",
     "text": [
      "=== Testing with Fixed Seed ===\n",
      "Sim 1: Growth = 1.84%, Avg retained = $46,109\n",
      "Sim 2: Growth = 1.83%, Avg retained = $49,578\n",
      "Sim 3: Growth = 1.84%, Avg retained = $45,462\n",
      "Sim 4: Growth = 1.83%, Avg retained = $48,936\n",
      "Sim 5: Growth = 1.86%, Avg retained = $38,653\n",
      "Sim 6: Growth = 1.84%, Avg retained = $45,000\n",
      "Sim 7: Growth = 1.86%, Avg retained = $41,197\n",
      "Sim 8: Growth = 1.84%, Avg retained = $45,000\n",
      "Sim 9: Growth = 1.85%, Avg retained = $45,447\n",
      "Sim 10: Growth = 1.84%, Avg retained = $44,835\n",
      "\n",
      "=== Summary ===\n",
      "Average growth rate: 1.84%\n",
      "Std dev of growth: 0.01%\n",
      "Average retained losses: $45,022\n",
      "Expected retained losses: $104,245\n"
     ]
    }
   ],
   "source": [
    "# Let's check if using a fixed seed changes things\n",
    "print(\"=== Testing with Fixed Seed ===\")\n",
    "\n",
    "# Set the generator seed\n",
    "generator_seeded = ManufacturingLossGenerator(\n",
    "    attritional_params={\n",
    "        'base_frequency': 2.85,\n",
    "        'severity_mean': 40_000,\n",
    "        'severity_cv': 0.8,\n",
    "        'revenue_scaling_exponent': 1.0,\n",
    "        'reference_revenue': cur_revenue\n",
    "    },\n",
    "    large_params={\n",
    "        'base_frequency': 0.20,\n",
    "        'severity_mean': 500_000,\n",
    "        'severity_cv': 1.5,\n",
    "        'revenue_scaling_exponent': 1.0,\n",
    "        'reference_revenue': cur_revenue\n",
    "    },\n",
    "    catastrophic_params={\n",
    "        'base_frequency': 0.02,\n",
    "        'severity_xm': 5_000_000,\n",
    "        'severity_alpha': 2.5,\n",
    "        'revenue_scaling_exponent': 1.0,\n",
    "        'reference_revenue': cur_revenue\n",
    "    },\n",
    "    seed=42  # Fixed seed\n",
    ")\n",
    "\n",
    "# Run multiple 10-year simulations with same seed\n",
    "growth_rates = []\n",
    "retained_losses_avg = []\n",
    "\n",
    "for sim in range(10):\n",
    "    np.random.seed(42 + sim)  # Different seed for each simulation\n",
    "    \n",
    "    test_mfr = WidgetManufacturer(manufacturer_config)\n",
    "    total_retained = 0\n",
    "    \n",
    "    for year in range(10):\n",
    "        revenue = test_mfr.calculate_revenue()\n",
    "        events, _ = generator_seeded.generate_losses(duration=1.0, revenue=revenue)\n",
    "        total_loss = sum(event.amount for event in events)\n",
    "        \n",
    "        claim_result = program.process_claim(total_loss)\n",
    "        recovery = claim_result.get(\"insurance_recovery\", 0)\n",
    "        retained = total_loss - recovery\n",
    "        total_retained += retained\n",
    "        \n",
    "        if retained > 0:\n",
    "            test_mfr.record_insurance_loss(retained)\n",
    "        \n",
    "        base_revenue = INITIAL_ASSETS * ASSET_TURNOVER_RATIO\n",
    "        scaling = revenue / base_revenue\n",
    "        scaled_premium = annual_premium * scaling\n",
    "        \n",
    "        if scaled_premium > 0:\n",
    "            test_mfr.record_insurance_premium(scaled_premium)\n",
    "        \n",
    "        test_mfr.step(working_capital_pct=0.0, growth_rate=0.0)\n",
    "    \n",
    "    final_assets = test_mfr.total_assets\n",
    "    growth_rate = (final_assets / INITIAL_ASSETS)**(1/10) - 1\n",
    "    growth_rates.append(growth_rate)\n",
    "    retained_losses_avg.append(total_retained / 10)\n",
    "    \n",
    "    print(f\"Sim {sim+1}: Growth = {growth_rate:.2%}, Avg retained = ${total_retained/10:,.0f}\")\n",
    "\n",
    "print(f\"\\n=== Summary ===\")\n",
    "print(f\"Average growth rate: {np.mean(growth_rates)*100:.2f}%\")\n",
    "print(f\"Std dev of growth: {np.std(growth_rates)*100:.2f}%\")\n",
    "print(f\"Average retained losses: ${np.mean(retained_losses_avg):,.0f}\")\n",
    "print(f\"Expected retained losses: ${average_annual_retained_loss:,.0f}\")"
   ]
  },
  {
   "cell_type": "code",
   "execution_count": null,
   "id": "htoek12cke",
   "metadata": {},
   "outputs": [],
   "source": [
    "# Let's analyze the loss distribution more carefully\n",
    "print(\"=== Loss Distribution Analysis ===\")\n",
    "\n",
    "# Generate many years of losses\n",
    "n_years = 10000\n",
    "all_losses = []\n",
    "all_retained = []\n",
    "\n",
    "for _ in range(n_years):\n",
    "    events, _ = generator.generate_losses(duration=1.0, revenue=INITIAL_ASSETS)\n",
    "    total_loss = sum(event.amount for event in events)\n",
    "    all_losses.append(total_loss)\n",
    "    \n",
    "    claim_result = program.process_claim(total_loss)\n",
    "    recovery = claim_result.get(\"insurance_recovery\", 0)\n",
    "    retained = total_loss - recovery\n",
    "    all_retained.append(retained)\n",
    "\n",
    "all_retained = np.array(all_retained)\n",
    "\n",
    "print(f\"Retained loss statistics ({n_years} years):\")\n",
    "print(f\"Mean: ${all_retained.mean():,.0f}\")\n",
    "print(f\"Median: ${np.median(all_retained):,.0f}\")\n",
    "print(f\"Std Dev: ${all_retained.std():,.0f}\")\n",
    "print(f\"CV: {all_retained.std()/all_retained.mean():.2f}\")\n",
    "\n",
    "# Percentiles\n",
    "percentiles = [50, 75, 90, 95, 99, 99.9]\n",
    "for p in percentiles:\n",
    "    print(f\"P{p}: ${np.percentile(all_retained, p):,.0f}\")\n",
    "\n",
    "# What percentage of years have losses at or below the deductible?\n",
    "at_or_below_deductible = (all_retained <= 50_000).mean() * 100\n",
    "print(f\"\\n{at_or_below_deductible:.1f}% of years have retained losses ≤ $50,000 (the deductible)\")\n",
    "\n",
    "# What's the average in a \"typical\" 10-year period without catastrophes?\n",
    "# Remove the top 2% of losses (catastrophic events)\n",
    "threshold_98 = np.percentile(all_retained, 98)\n",
    "typical_retained = all_retained[all_retained <= threshold_98]\n",
    "print(f\"\\nExcluding top 2% catastrophes (>{threshold_98:,.0f}):\")\n",
    "print(f\"Typical mean: ${typical_retained.mean():,.0f}\")\n",
    "print(f\"This explains why most 10-year sims have ~${typical_retained.mean():,.0f} retained losses\")"
   ]
  },
  {
   "cell_type": "code",
   "execution_count": 40,
   "id": "adq477u9wog",
   "metadata": {},
   "outputs": [
    {
     "name": "stdout",
     "output_type": "stream",
     "text": [
      "=== Loss Component Analysis ===\n",
      "Loss Generator Parameters:\n",
      "\n",
      "Attritional:\n"
     ]
    },
    {
     "ename": "AttributeError",
     "evalue": "'ManufacturingLossGenerator' object has no attribute 'attritional_params'",
     "output_type": "error",
     "traceback": [
      "\u001b[31m---------------------------------------------------------------------------\u001b[39m",
      "\u001b[31mAttributeError\u001b[39m                            Traceback (most recent call last)",
      "\u001b[36mCell\u001b[39m\u001b[36m \u001b[39m\u001b[32mIn[40]\u001b[39m\u001b[32m, line 7\u001b[39m\n\u001b[32m      5\u001b[39m \u001b[38;5;28mprint\u001b[39m(\u001b[33m\"\u001b[39m\u001b[33mLoss Generator Parameters:\u001b[39m\u001b[33m\"\u001b[39m)\n\u001b[32m      6\u001b[39m \u001b[38;5;28mprint\u001b[39m(\u001b[33mf\u001b[39m\u001b[33m\"\u001b[39m\u001b[38;5;130;01m\\n\u001b[39;00m\u001b[33mAttritional:\u001b[39m\u001b[33m\"\u001b[39m)\n\u001b[32m----> \u001b[39m\u001b[32m7\u001b[39m \u001b[38;5;28mprint\u001b[39m(\u001b[33mf\u001b[39m\u001b[33m\"\u001b[39m\u001b[33m  Frequency: \u001b[39m\u001b[38;5;132;01m{\u001b[39;00m\u001b[43mgenerator\u001b[49m\u001b[43m.\u001b[49m\u001b[43mattritional_params\u001b[49m[\u001b[33m'\u001b[39m\u001b[33mbase_frequency\u001b[39m\u001b[33m'\u001b[39m]\u001b[38;5;132;01m}\u001b[39;00m\u001b[33m\"\u001b[39m)\n\u001b[32m      8\u001b[39m \u001b[38;5;28mprint\u001b[39m(\u001b[33mf\u001b[39m\u001b[33m\"\u001b[39m\u001b[33m  Mean severity: $\u001b[39m\u001b[38;5;132;01m{\u001b[39;00mgenerator.attritional_params[\u001b[33m'\u001b[39m\u001b[33mseverity_mean\u001b[39m\u001b[33m'\u001b[39m]\u001b[38;5;132;01m:\u001b[39;00m\u001b[33m,.0f\u001b[39m\u001b[38;5;132;01m}\u001b[39;00m\u001b[33m\"\u001b[39m)\n\u001b[32m      9\u001b[39m \u001b[38;5;28mprint\u001b[39m(\u001b[33mf\u001b[39m\u001b[33m\"\u001b[39m\u001b[33m  CV: \u001b[39m\u001b[38;5;132;01m{\u001b[39;00mgenerator.attritional_params[\u001b[33m'\u001b[39m\u001b[33mseverity_cv\u001b[39m\u001b[33m'\u001b[39m]\u001b[38;5;132;01m}\u001b[39;00m\u001b[33m\"\u001b[39m)\n",
      "\u001b[31mAttributeError\u001b[39m: 'ManufacturingLossGenerator' object has no attribute 'attritional_params'"
     ]
    }
   ],
   "source": [
    "# Let's analyze the three loss components separately\n",
    "print(\"=== Loss Component Analysis ===\")\n",
    "\n",
    "# Check the loss generator parameters\n",
    "print(\"Loss Generator Parameters:\")\n",
    "print(f\"\\nAttritional:\")\n",
    "print(f\"  Frequency: {generator.attritional_params['base_frequency']}\")\n",
    "print(f\"  Mean severity: ${generator.attritional_params['severity_mean']:,.0f}\")\n",
    "print(f\"  CV: {generator.attritional_params['severity_cv']}\")\n",
    "\n",
    "print(f\"\\nLarge:\")\n",
    "print(f\"  Frequency: {generator.large_params['base_frequency']}\")\n",
    "print(f\"  Mean severity: ${generator.large_params['severity_mean']:,.0f}\")\n",
    "print(f\"  CV: {generator.large_params['severity_cv']}\")\n",
    "\n",
    "print(f\"\\nCatastrophic:\")\n",
    "print(f\"  Frequency: {generator.catastrophic_params['base_frequency']}\")\n",
    "print(f\"  Scale (xm): ${generator.catastrophic_params['severity_xm']:,.0f}\")\n",
    "print(f\"  Shape (alpha): {generator.catastrophic_params['severity_alpha']}\")\n",
    "\n",
    "# Now generate losses by type to understand the distribution\n",
    "n_years = 10000\n",
    "attritional_losses = []\n",
    "large_losses = []\n",
    "catastrophic_losses = []\n",
    "\n",
    "for _ in range(n_years):\n",
    "    # Generate each type separately\n",
    "    events, metadata = generator.generate_losses(duration=1.0, revenue=INITIAL_ASSETS)\n",
    "    \n",
    "    # The metadata should tell us about loss types\n",
    "    year_attritional = 0\n",
    "    year_large = 0\n",
    "    year_catastrophic = 0\n",
    "    \n",
    "    for event in events:\n",
    "        # Check the loss size to categorize (approximate)\n",
    "        if event.amount < 100_000:\n",
    "            year_attritional += event.amount\n",
    "        elif event.amount < 1_000_000:\n",
    "            year_large += event.amount\n",
    "        else:\n",
    "            year_catastrophic += event.amount\n",
    "    \n",
    "    attritional_losses.append(year_attritional)\n",
    "    large_losses.append(year_large)\n",
    "    catastrophic_losses.append(year_catastrophic)\n",
    "\n",
    "attritional_losses = np.array(attritional_losses)\n",
    "large_losses = np.array(large_losses)\n",
    "catastrophic_losses = np.array(catastrophic_losses)\n",
    "\n",
    "print(f\"\\n=== Average Annual Losses by Type ===\")\n",
    "print(f\"Attritional: ${attritional_losses.mean():,.0f}\")\n",
    "print(f\"Large: ${large_losses.mean():,.0f}\")\n",
    "print(f\"Catastrophic: ${catastrophic_losses.mean():,.0f}\")\n",
    "print(f\"Total: ${attritional_losses.mean() + large_losses.mean() + catastrophic_losses.mean():,.0f}\")\n",
    "\n",
    "# How often do attritional losses exceed the deductible?\n",
    "attritional_exceeds_deductible = (attritional_losses > DEDUCTIBLE).mean() * 100\n",
    "print(f\"\\n{attritional_exceeds_deductible:.1f}% of years have attritional losses > ${DEDUCTIBLE:,.0f}\")"
   ]
  },
  {
   "cell_type": "code",
   "execution_count": 41,
   "id": "73rsh1ohxlu",
   "metadata": {},
   "outputs": [
    {
     "name": "stdout",
     "output_type": "stream",
     "text": [
      "Generator attributes: ['attritional', 'catastrophic', 'exposure', 'generate_losses', 'large', 'validate_distributions']\n",
      "\n",
      "=== Loss Size Distribution Analysis ===\n",
      "Total number of losses: 30,505\n",
      "Average losses per year: 3.05\n",
      "\n",
      "Losses ≤ $50k (below deductible):\n",
      "  Count: 21,274 (69.7%)\n",
      "  Mean: $26,078\n",
      "\n",
      "Losses $50k-$500k (partially insured):\n",
      "  Count: 8,450 (27.7%)\n",
      "  Mean: $103,172\n",
      "\n",
      "Losses > $500k (mostly insured):\n",
      "  Count: 781 (2.6%)\n",
      "  Mean: $2,923,950\n"
     ]
    }
   ],
   "source": [
    "# Let's check what attributes the generator has\n",
    "print(\"Generator attributes:\", [attr for attr in dir(generator) if not attr.startswith('_')])\n",
    "\n",
    "# Let's generate losses and analyze them by size\n",
    "print(\"\\n=== Loss Size Distribution Analysis ===\")\n",
    "\n",
    "n_years = 10000\n",
    "all_individual_losses = []\n",
    "losses_by_year = []\n",
    "\n",
    "for _ in range(n_years):\n",
    "    events, _ = generator.generate_losses(duration=1.0, revenue=INITIAL_ASSETS)\n",
    "    year_losses = [event.amount for event in events]\n",
    "    losses_by_year.append(year_losses)\n",
    "    all_individual_losses.extend(year_losses)\n",
    "\n",
    "all_individual_losses = np.array(all_individual_losses)\n",
    "\n",
    "# Categorize losses by size\n",
    "small_losses = all_individual_losses[all_individual_losses <= 50_000]\n",
    "medium_losses = all_individual_losses[(all_individual_losses > 50_000) & (all_individual_losses <= 500_000)]\n",
    "large_losses = all_individual_losses[all_individual_losses > 500_000]\n",
    "\n",
    "print(f\"Total number of losses: {len(all_individual_losses):,}\")\n",
    "print(f\"Average losses per year: {len(all_individual_losses)/n_years:.2f}\")\n",
    "\n",
    "print(f\"\\nLosses ≤ $50k (below deductible):\")\n",
    "print(f\"  Count: {len(small_losses):,} ({len(small_losses)/len(all_individual_losses)*100:.1f}%)\")\n",
    "print(f\"  Mean: ${small_losses.mean():,.0f}\" if len(small_losses) > 0 else \"  Mean: N/A\")\n",
    "\n",
    "print(f\"\\nLosses $50k-$500k (partially insured):\")\n",
    "print(f\"  Count: {len(medium_losses):,} ({len(medium_losses)/len(all_individual_losses)*100:.1f}%)\")\n",
    "print(f\"  Mean: ${medium_losses.mean():,.0f}\" if len(medium_losses) > 0 else \"  Mean: N/A\")\n",
    "\n",
    "print(f\"\\nLosses > $500k (mostly insured):\")\n",
    "print(f\"  Count: {len(large_losses):,} ({len(large_losses)/len(all_individual_losses)*100:.1f}%)\")\n",
    "print(f\"  Mean: ${large_losses.mean():,.0f}\" if len(large_losses) > 0 else \"  Mean: N/A\")"
   ]
  },
  {
   "cell_type": "code",
   "execution_count": 42,
   "id": "d8xu62g2jaq",
   "metadata": {},
   "outputs": [
    {
     "name": "stdout",
     "output_type": "stream",
     "text": [
      "=== Year-by-Year Retained Loss Analysis ===\n",
      "First 1000 years statistics:\n",
      "Average total loss: $324,234\n",
      "Average retained loss: $44,604\n",
      "\n",
      "Retained loss distribution:\n",
      "  Minimum: $0\n",
      "  25th percentile: $50,000\n",
      "  Median: $50,000\n",
      "  75th percentile: $50,000\n",
      "  90th percentile: $50,000\n",
      "  95th percentile: $50,000\n",
      "  99th percentile: $50,000\n",
      "  Maximum: $50,000\n",
      "\n",
      "Retained loss categories:\n",
      "  Below $50k: 20.1%\n",
      "  Exactly $50k: 79.9%\n",
      "  Above $50k: 0.0%\n",
      "\n",
      "=== KEY INSIGHT ===\n",
      "Expected retained (from calibration): $104,245\n",
      "Actual average retained: $44,604\n",
      "BUT: 100.0% of years have retained ≤ $50k\n",
      "So most 10-year periods will have lower retained losses than expected\n"
     ]
    }
   ],
   "source": [
    "# Let's analyze what happens in a typical year vs the calibration\n",
    "print(\"=== Year-by-Year Retained Loss Analysis ===\")\n",
    "\n",
    "# Calculate retained losses for each year\n",
    "retained_by_year = []\n",
    "total_loss_by_year = []\n",
    "\n",
    "for year_losses in losses_by_year[:1000]:  # First 1000 years for detail\n",
    "    total_loss = sum(year_losses)\n",
    "    total_loss_by_year.append(total_loss)\n",
    "    \n",
    "    # Apply insurance to the total\n",
    "    claim_result = program.process_claim(total_loss)\n",
    "    recovery = claim_result.get(\"insurance_recovery\", 0)\n",
    "    retained = total_loss - recovery\n",
    "    retained_by_year.append(retained)\n",
    "\n",
    "retained_by_year = np.array(retained_by_year)\n",
    "total_loss_by_year = np.array(total_loss_by_year)\n",
    "\n",
    "print(f\"First 1000 years statistics:\")\n",
    "print(f\"Average total loss: ${total_loss_by_year.mean():,.0f}\")\n",
    "print(f\"Average retained loss: ${retained_by_year.mean():,.0f}\")\n",
    "\n",
    "# Distribution of retained losses\n",
    "print(f\"\\nRetained loss distribution:\")\n",
    "print(f\"  Minimum: ${retained_by_year.min():,.0f}\")\n",
    "print(f\"  25th percentile: ${np.percentile(retained_by_year, 25):,.0f}\")\n",
    "print(f\"  Median: ${np.percentile(retained_by_year, 50):,.0f}\")\n",
    "print(f\"  75th percentile: ${np.percentile(retained_by_year, 75):,.0f}\")\n",
    "print(f\"  90th percentile: ${np.percentile(retained_by_year, 90):,.0f}\")\n",
    "print(f\"  95th percentile: ${np.percentile(retained_by_year, 95):,.0f}\")\n",
    "print(f\"  99th percentile: ${np.percentile(retained_by_year, 99):,.0f}\")\n",
    "print(f\"  Maximum: ${retained_by_year.max():,.0f}\")\n",
    "\n",
    "# How often is retained loss exactly at the deductible?\n",
    "at_deductible = (retained_by_year == 50_000).mean() * 100\n",
    "below_deductible = (retained_by_year < 50_000).mean() * 100\n",
    "above_deductible = (retained_by_year > 50_000).mean() * 100\n",
    "\n",
    "print(f\"\\nRetained loss categories:\")\n",
    "print(f\"  Below $50k: {below_deductible:.1f}%\")\n",
    "print(f\"  Exactly $50k: {at_deductible:.1f}%\")\n",
    "print(f\"  Above $50k: {above_deductible:.1f}%\")\n",
    "\n",
    "# The key insight\n",
    "print(f\"\\n=== KEY INSIGHT ===\")\n",
    "print(f\"Expected retained (from calibration): ${average_annual_retained_loss:,.0f}\")\n",
    "print(f\"Actual average retained: ${retained_by_year.mean():,.0f}\")\n",
    "print(f\"BUT: {below_deductible + at_deductible:.1f}% of years have retained ≤ $50k\")\n",
    "print(f\"So most 10-year periods will have lower retained losses than expected\")"
   ]
  },
  {
   "cell_type": "code",
   "execution_count": 43,
   "id": "6h1so5ok217",
   "metadata": {},
   "outputs": [
    {
     "name": "stdout",
     "output_type": "stream",
     "text": [
      "=== Investigating Deductible Application ===\n",
      "Loss: $    25,000 -> Recovery: $       0.0, Retained: $  25,000.0\n",
      "Loss: $    50,000 -> Recovery: $       0.0, Retained: $  50,000.0\n",
      "Loss: $    75,000 -> Recovery: $  25,000.0, Retained: $  50,000.0\n",
      "Loss: $   100,000 -> Recovery: $  50,000.0, Retained: $  50,000.0\n",
      "Loss: $   500,000 -> Recovery: $ 450,000.0, Retained: $  50,000.0\n",
      "Loss: $ 1,000,000 -> Recovery: $ 950,000.0, Retained: $  50,000.0\n",
      "Loss: $10,000,000 -> Recovery: $9,950,000.0, Retained: $  50,000.0\n",
      "\n",
      "=== Insurance Program Details ===\n",
      "Number of layers: 1\n",
      "Layer attachment: $50,000\n",
      "Layer limit: $40,000,000\n",
      "Effective coverage: $50,000 xs $40,000,000\n",
      "\n",
      "This explains the ergodicity gap:\n",
      "1. Insurance covers everything above $50k up to $40M\n",
      "2. Catastrophic losses (>$40M) are extremely rare\n",
      "3. So retained losses are almost always ≤ $50k\n",
      "4. But premiums are based on AVERAGE losses including catastrophes\n"
     ]
    }
   ],
   "source": [
    "# This is strange - retained losses should sometimes be above $50k\n",
    "# Let's check if there's an issue with the deductible application\n",
    "\n",
    "print(\"=== Investigating Deductible Application ===\")\n",
    "\n",
    "# Test some specific loss amounts\n",
    "test_amounts = [25_000, 50_000, 75_000, 100_000, 500_000, 1_000_000, 10_000_000]\n",
    "\n",
    "for amount in test_amounts:\n",
    "    result = program.process_claim(amount)\n",
    "    recovery = result.get(\"insurance_recovery\", 0)\n",
    "    retained = amount - recovery\n",
    "    print(f\"Loss: ${amount:>10,} -> Recovery: ${recovery:>10,}, Retained: ${retained:>10,}\")\n",
    "\n",
    "# The issue is clear: ANY loss above $50k has exactly $50k retained\n",
    "# This suggests the insurance has NO upper limit effectively\n",
    "print(f\"\\n=== Insurance Program Details ===\")\n",
    "print(f\"Number of layers: {len(program.layers)}\")\n",
    "if program.layers:\n",
    "    layer = program.layers[0]\n",
    "    print(f\"Layer attachment: ${layer.attachment_point:,.0f}\")\n",
    "    print(f\"Layer limit: ${layer.limit:,.0f}\")\n",
    "    print(f\"Effective coverage: ${layer.attachment_point:,.0f} xs ${layer.limit:,.0f}\")\n",
    "\n",
    "# With a $40M limit and $50k deductible, virtually ALL losses above $50k \n",
    "# are fully covered except for the deductible\n",
    "print(f\"\\nThis explains the ergodicity gap:\")\n",
    "print(f\"1. Insurance covers everything above $50k up to $40M\")\n",
    "print(f\"2. Catastrophic losses (>$40M) are extremely rare\")\n",
    "print(f\"3. So retained losses are almost always ≤ $50k\")\n",
    "print(f\"4. But premiums are based on AVERAGE losses including catastrophes\")"
   ]
  },
  {
   "cell_type": "code",
   "execution_count": 44,
   "id": "ckynjgjqryk",
   "metadata": {},
   "outputs": [
    {
     "name": "stdout",
     "output_type": "stream",
     "text": [
      "=== Catastrophic Loss Analysis (>$40M) ===\n",
      "Year 1547: $43,949,360\n",
      "Year 3733: $61,931,000\n",
      "Year 7775: $74,706,885\n",
      "Year 11537: $56,343,088\n",
      "Year 34277: $53,853,362\n",
      "\n",
      "13 catastrophes in 100,000 years\n",
      "Frequency: 0.0001 per year (7692-year return period)\n",
      "Average catastrophic loss: $61,836,776\n",
      "Max catastrophic loss: $92,839,559\n",
      "\n",
      "=== True Average Retained Loss ===\n",
      "Mean retained (including catastrophes): $45,571\n",
      "Calibrated retained: $104,245\n",
      "Difference: $-58,674\n",
      "\n",
      "=== ERGODICITY GAP EXPLAINED ===\n",
      "In any given 10-year period:\n",
      "- 99.9% chance: retained losses = ~$45k/year\n",
      "- 0.1% chance: catastrophic loss wipes out the company\n",
      "- Premium paid: $392,561/year (based on long-term average)\n",
      "- Result: Most simulations show lower growth than theoretical\n"
     ]
    }
   ],
   "source": [
    "# Let's find out how often losses exceed $40M\n",
    "print(\"=== Catastrophic Loss Analysis (>$40M) ===\")\n",
    "\n",
    "# Generate many years to find catastrophes\n",
    "n_test_years = 100_000\n",
    "catastrophic_count = 0\n",
    "catastrophic_amounts = []\n",
    "years_with_cat = []\n",
    "\n",
    "for year in range(n_test_years):\n",
    "    events, _ = generator.generate_losses(duration=1.0, revenue=INITIAL_ASSETS)\n",
    "    total_loss = sum(event.amount for event in events)\n",
    "    \n",
    "    if total_loss > 40_000_000:\n",
    "        catastrophic_count += 1\n",
    "        catastrophic_amounts.append(total_loss)\n",
    "        years_with_cat.append(year)\n",
    "        if len(catastrophic_amounts) <= 5:\n",
    "            print(f\"Year {year}: ${total_loss:,.0f}\")\n",
    "\n",
    "cat_frequency = catastrophic_count / n_test_years\n",
    "print(f\"\\n{catastrophic_count} catastrophes in {n_test_years:,} years\")\n",
    "print(f\"Frequency: {cat_frequency:.4f} per year ({1/cat_frequency:.0f}-year return period)\" if cat_frequency > 0 else \"Frequency: 0\")\n",
    "\n",
    "if catastrophic_amounts:\n",
    "    catastrophic_amounts = np.array(catastrophic_amounts)\n",
    "    print(f\"Average catastrophic loss: ${catastrophic_amounts.mean():,.0f}\")\n",
    "    print(f\"Max catastrophic loss: ${catastrophic_amounts.max():,.0f}\")\n",
    "\n",
    "# Now let's calculate the TRUE average retained loss including these catastrophes\n",
    "all_retained = []\n",
    "for year in range(10_000):\n",
    "    events, _ = generator.generate_losses(duration=1.0, revenue=INITIAL_ASSETS)\n",
    "    total_loss = sum(event.amount for event in events)\n",
    "    \n",
    "    if total_loss <= 50_000:\n",
    "        retained = total_loss\n",
    "    elif total_loss <= 40_050_000:\n",
    "        retained = 50_000\n",
    "    else:\n",
    "        # Loss exceeds policy limit\n",
    "        retained = 50_000 + (total_loss - 40_050_000)\n",
    "    \n",
    "    all_retained.append(retained)\n",
    "\n",
    "all_retained = np.array(all_retained)\n",
    "print(f\"\\n=== True Average Retained Loss ===\")\n",
    "print(f\"Mean retained (including catastrophes): ${all_retained.mean():,.0f}\")\n",
    "print(f\"Calibrated retained: ${average_annual_retained_loss:,.0f}\")\n",
    "print(f\"Difference: ${all_retained.mean() - average_annual_retained_loss:,.0f}\")\n",
    "\n",
    "# The ergodicity gap explained\n",
    "print(f\"\\n=== ERGODICITY GAP EXPLAINED ===\")\n",
    "print(f\"In any given 10-year period:\")\n",
    "print(f\"- 99.9% chance: retained losses = ~$45k/year\")\n",
    "print(f\"- 0.1% chance: catastrophic loss wipes out the company\")\n",
    "print(f\"- Premium paid: ${annual_premium:,.0f}/year (based on long-term average)\")\n",
    "print(f\"- Result: Most simulations show lower growth than theoretical\")"
   ]
  },
  {
   "cell_type": "code",
   "execution_count": 45,
   "id": "aosmpnm93p7",
   "metadata": {},
   "outputs": [
    {
     "name": "stdout",
     "output_type": "stream",
     "text": [
      "=== Ergodicity Gap Decomposition ===\n",
      "Scenario frequencies over 100,000 years:\n",
      "  below_deductible    :  20.14% of years, contributes $4,734/year on average\n",
      "  at_deductible       :  79.85% of years, contributes $39,925/year on average\n",
      "  above_limit         :   0.01% of years, contributes $2,492/year on average\n",
      "\n",
      "Total average retained: $47,151/year\n",
      "Average retained WITHOUT >$40M losses: $44,659/year\n",
      "Catastrophe contribution to average: $2,492/year\n",
      "\n",
      "=== Impact on Growth ===\n",
      "Actual average retained: $47,151\n",
      "Premium paid: $392,561\n",
      "Net insurance cost: $345,410\n",
      "\n",
      "Operating income impact:\n",
      "Base operating income: $1,000,000\n",
      "After actual losses: $560,288\n",
      "After calibrated losses: $503,194\n",
      "Difference: $57,095\n",
      "\n",
      "Growth impact: 0.30%\n"
     ]
    }
   ],
   "source": [
    "# Let's break down the contribution to the ergodicity gap\n",
    "print(\"=== Ergodicity Gap Decomposition ===\")\n",
    "\n",
    "# Generate many years and track different scenarios\n",
    "n_years = 100_000\n",
    "scenario_counts = {\n",
    "    'below_deductible': 0,  # Loss < $50k\n",
    "    'at_deductible': 0,      # Loss between $50k and $40.05M (retained = $50k)\n",
    "    'above_limit': 0,         # Loss > $40.05M\n",
    "}\n",
    "\n",
    "retained_contributions = {\n",
    "    'below_deductible': 0,\n",
    "    'at_deductible': 0,\n",
    "    'above_limit': 0,\n",
    "}\n",
    "\n",
    "for _ in range(n_years):\n",
    "    events, _ = generator.generate_losses(duration=1.0, revenue=INITIAL_ASSETS)\n",
    "    total_loss = sum(event.amount for event in events)\n",
    "    \n",
    "    if total_loss < 50_000:\n",
    "        scenario_counts['below_deductible'] += 1\n",
    "        retained = total_loss\n",
    "        retained_contributions['below_deductible'] += retained\n",
    "    elif total_loss <= 40_050_000:\n",
    "        scenario_counts['at_deductible'] += 1\n",
    "        retained = 50_000\n",
    "        retained_contributions['at_deductible'] += retained\n",
    "    else:\n",
    "        scenario_counts['above_limit'] += 1\n",
    "        retained = 50_000 + (total_loss - 40_050_000)\n",
    "        retained_contributions['above_limit'] += retained\n",
    "\n",
    "# Calculate averages\n",
    "print(f\"Scenario frequencies over {n_years:,} years:\")\n",
    "for scenario, count in scenario_counts.items():\n",
    "    freq = count / n_years * 100\n",
    "    avg_retained = retained_contributions[scenario] / n_years\n",
    "    print(f\"  {scenario:20s}: {freq:6.2f}% of years, contributes ${avg_retained:,.0f}/year on average\")\n",
    "\n",
    "total_avg_retained = sum(retained_contributions.values()) / n_years\n",
    "print(f\"\\nTotal average retained: ${total_avg_retained:,.0f}/year\")\n",
    "\n",
    "# Now let's see what happens if we had NO catastrophes above $40M\n",
    "retained_no_catastrophes = (retained_contributions['below_deductible'] + \n",
    "                           retained_contributions['at_deductible']) / n_years\n",
    "print(f\"Average retained WITHOUT >$40M losses: ${retained_no_catastrophes:,.0f}/year\")\n",
    "\n",
    "# The catastrophe contribution\n",
    "catastrophe_contribution = retained_contributions['above_limit'] / n_years\n",
    "print(f\"Catastrophe contribution to average: ${catastrophe_contribution:,.0f}/year\")\n",
    "\n",
    "print(f\"\\n=== Impact on Growth ===\")\n",
    "# With current retained losses\n",
    "current_avg_retained = total_avg_retained\n",
    "# Insurance premium stays the same\n",
    "net_insurance_cost = annual_premium - current_avg_retained\n",
    "print(f\"Actual average retained: ${current_avg_retained:,.0f}\")\n",
    "print(f\"Premium paid: ${annual_premium:,.0f}\")\n",
    "print(f\"Net insurance cost: ${net_insurance_cost:,.0f}\")\n",
    "\n",
    "# Calculate the drag on growth\n",
    "operating_income = 10_000_000 * 0.10  # 10% margin\n",
    "income_after_insurance = operating_income - annual_premium - current_avg_retained\n",
    "theoretical_income = operating_income - annual_premium - average_annual_retained_loss\n",
    "print(f\"\\nOperating income impact:\")\n",
    "print(f\"Base operating income: ${operating_income:,.0f}\")\n",
    "print(f\"After actual losses: ${income_after_insurance:,.0f}\")\n",
    "print(f\"After calibrated losses: ${theoretical_income:,.0f}\")\n",
    "print(f\"Difference: ${income_after_insurance - theoretical_income:,.0f}\")\n",
    "\n",
    "# This difference flows through to growth\n",
    "tax_rate = 0.25\n",
    "retention_ratio = 0.70\n",
    "growth_impact = (income_after_insurance - theoretical_income) * (1 - tax_rate) * retention_ratio / 10_000_000\n",
    "print(f\"\\nGrowth impact: {growth_impact:.2%}\")"
   ]
  },
  {
   "cell_type": "code",
   "execution_count": 46,
   "id": "pdgwxa54rt",
   "metadata": {},
   "outputs": [
    {
     "name": "stdout",
     "output_type": "stream",
     "text": [
      "=== Rechecking Calibration ===\n",
      "Original calibration:\n",
      "  Average annual insured loss: $274,793\n",
      "  Average annual retained loss: $104,245\n",
      "  Total average loss: $379,038\n",
      "  Annual premium (at 70% LR): $392,561\n",
      "\n",
      "=== Current Generator Statistics (10k years) ===\n",
      "Average total loss: $389,575\n",
      "Average insured loss: $343,695\n",
      "Average retained loss: $45,880\n",
      "\n",
      "=== The Real Issue ===\n",
      "Calibrated retained: $104,245\n",
      "Actual retained: $45,880\n",
      "Gap: $58,366\n",
      "\n",
      "This gap of ~$58,366/year is causing lower growth\n",
      "because the company is paying premiums based on $104,245 retained\n",
      "but actually experiencing only $45,880 retained\n"
     ]
    }
   ],
   "source": [
    "# The above calculation seems off. Let me recalculate the calibration\n",
    "print(\"=== Rechecking Calibration ===\")\n",
    "\n",
    "# What were the original calibration numbers?\n",
    "print(f\"Original calibration:\")\n",
    "print(f\"  Average annual insured loss: ${average_annual_insured_loss:,.0f}\")\n",
    "print(f\"  Average annual retained loss: ${average_annual_retained_loss:,.0f}\")\n",
    "print(f\"  Total average loss: ${average_annual_insured_loss + average_annual_retained_loss:,.0f}\")\n",
    "print(f\"  Annual premium (at {LOSS_RATIO:.0%} LR): ${annual_premium:,.0f}\")\n",
    "\n",
    "# Now let's verify with our current generator\n",
    "print(f\"\\n=== Current Generator Statistics (10k years) ===\")\n",
    "total_losses = []\n",
    "insured_losses = []\n",
    "retained_losses = []\n",
    "\n",
    "for _ in range(10_000):\n",
    "    events, _ = generator.generate_losses(duration=1.0, revenue=INITIAL_ASSETS)\n",
    "    total = sum(event.amount for event in events)\n",
    "    total_losses.append(total)\n",
    "    \n",
    "    # Apply insurance\n",
    "    if total <= DEDUCTIBLE:\n",
    "        insured = 0\n",
    "        retained = total\n",
    "    elif total <= DEDUCTIBLE + policy_limit:\n",
    "        insured = total - DEDUCTIBLE\n",
    "        retained = DEDUCTIBLE\n",
    "    else:\n",
    "        insured = policy_limit\n",
    "        retained = total - policy_limit\n",
    "    \n",
    "    insured_losses.append(insured)\n",
    "    retained_losses.append(retained)\n",
    "\n",
    "print(f\"Average total loss: ${np.mean(total_losses):,.0f}\")\n",
    "print(f\"Average insured loss: ${np.mean(insured_losses):,.0f}\")\n",
    "print(f\"Average retained loss: ${np.mean(retained_losses):,.0f}\")\n",
    "\n",
    "print(f\"\\n=== The Real Issue ===\")\n",
    "print(f\"Calibrated retained: ${average_annual_retained_loss:,.0f}\")\n",
    "print(f\"Actual retained: ${np.mean(retained_losses):,.0f}\")\n",
    "print(f\"Gap: ${average_annual_retained_loss - np.mean(retained_losses):,.0f}\")\n",
    "print(f\"\\nThis gap of ~${average_annual_retained_loss - np.mean(retained_losses):,.0f}/year is causing lower growth\")\n",
    "print(f\"because the company is paying premiums based on ${average_annual_retained_loss:,.0f} retained\")\n",
    "print(f\"but actually experiencing only ${np.mean(retained_losses):,.0f} retained\")"
   ]
  },
  {
   "cell_type": "code",
   "execution_count": 47,
   "id": "1005uqogg1wi",
   "metadata": {},
   "outputs": [
    {
     "name": "stdout",
     "output_type": "stream",
     "text": [
      "=== THE ERGODICITY GAP BREAKDOWN ===\n",
      "\n",
      "1. CALIBRATION (500k-year average):\n",
      "   Total losses: $379,038\n",
      "   Insurance pays: $274,793\n",
      "   Company retains: $104,245\n",
      "   Premium charged: $392,561\n",
      "   Net cost to company: $392,561 + $104,245 = $496,806\n",
      "\n",
      "2. ACTUAL (typical year):\n",
      "   Total losses: ~$390,000\n",
      "   Insurance pays: ~$344,000\n",
      "   Company retains: ~$46,000\n",
      "   Premium paid: $392,561\n",
      "   Net cost to company: $392,561 + $46,000 = $438,561\n",
      "\n",
      "3. THE GAP:\n",
      "   Calibrated costs: $496,806\n",
      "   Actual typical costs: $438,561\n",
      "   Difference: $58,245/year\n",
      "\n",
      "4. GROWTH IMPACT:\n",
      "   Calibrated growth rate: 2.64%\n",
      "   Actual typical growth rate: 2.95%\n",
      "   Ergodicity gap: -0.31%\n",
      "\n",
      "5. WHY THIS HAPPENS:\n",
      "   • The calibration includes ALL scenarios over 500k years\n",
      "   • This includes rare catastrophes that exceed the $40M limit\n",
      "   • But most 10-year simulations won't see these catastrophes\n",
      "   • So they experience lower retained losses than the long-term average\n",
      "   • BUT still pay premiums based on the long-term average\n",
      "\n",
      "6. CATASTROPHE CONTRIBUTION:\n",
      "   Catastrophes >$40M add $2,492/year to retained losses\n",
      "   This is only 4.3% of the $58,245 gap\n",
      "   The rest (95.7%) is from the CALIBRATION MISMATCH\n"
     ]
    }
   ],
   "source": [
    "# Let's trace through exactly what's happening\n",
    "print(\"=== THE ERGODICITY GAP BREAKDOWN ===\\n\")\n",
    "\n",
    "# 1. Expected scenario (calibration)\n",
    "print(\"1. CALIBRATION (500k-year average):\")\n",
    "print(f\"   Total losses: $379,038\")\n",
    "print(f\"   Insurance pays: $274,793\")\n",
    "print(f\"   Company retains: $104,245\")\n",
    "print(f\"   Premium charged: $392,561\")\n",
    "print(f\"   Net cost to company: $392,561 + $104,245 = $496,806\")\n",
    "\n",
    "# 2. Actual scenario (most simulations)\n",
    "print(f\"\\n2. ACTUAL (typical year):\")\n",
    "print(f\"   Total losses: ~$390,000\")\n",
    "print(f\"   Insurance pays: ~$344,000\")\n",
    "print(f\"   Company retains: ~$46,000\")\n",
    "print(f\"   Premium paid: $392,561\")\n",
    "print(f\"   Net cost to company: $392,561 + $46,000 = $438,561\")\n",
    "\n",
    "# 3. The gap\n",
    "gap_in_costs = 496_806 - 438_561\n",
    "print(f\"\\n3. THE GAP:\")\n",
    "print(f\"   Calibrated costs: $496,806\")\n",
    "print(f\"   Actual typical costs: $438,561\")\n",
    "print(f\"   Difference: ${gap_in_costs:,.0f}/year\")\n",
    "\n",
    "# 4. Impact on growth\n",
    "base_operating_income = 10_000_000 * 0.10\n",
    "calibrated_net_income = (base_operating_income - 496_806) * 0.75  # After 25% tax\n",
    "actual_net_income = (base_operating_income - 438_561) * 0.75\n",
    "\n",
    "calibrated_growth = calibrated_net_income * 0.70 / 10_000_000  # 70% retention\n",
    "actual_growth = actual_net_income * 0.70 / 10_000_000\n",
    "\n",
    "print(f\"\\n4. GROWTH IMPACT:\")\n",
    "print(f\"   Calibrated growth rate: {calibrated_growth:.2%}\")\n",
    "print(f\"   Actual typical growth rate: {actual_growth:.2%}\")\n",
    "print(f\"   Ergodicity gap: {calibrated_growth - actual_growth:.2%}\")\n",
    "\n",
    "print(f\"\\n5. WHY THIS HAPPENS:\")\n",
    "print(f\"   • The calibration includes ALL scenarios over 500k years\")\n",
    "print(f\"   • This includes rare catastrophes that exceed the $40M limit\")\n",
    "print(f\"   • But most 10-year simulations won't see these catastrophes\")\n",
    "print(f\"   • So they experience lower retained losses than the long-term average\")\n",
    "print(f\"   • BUT still pay premiums based on the long-term average\")\n",
    "\n",
    "# Check: Is it mainly the >$40M catastrophes?\n",
    "print(f\"\\n6. CATASTROPHE CONTRIBUTION:\")\n",
    "cat_contribution_to_retained = 2_492  # From earlier calculation\n",
    "pct_of_gap = cat_contribution_to_retained / gap_in_costs * 100\n",
    "print(f\"   Catastrophes >$40M add ${cat_contribution_to_retained:,.0f}/year to retained losses\")\n",
    "print(f\"   This is only {pct_of_gap:.1f}% of the ${gap_in_costs:,.0f} gap\")\n",
    "print(f\"   The rest ({100-pct_of_gap:.1f}%) is from the CALIBRATION MISMATCH\")"
   ]
  },
  {
   "cell_type": "code",
   "execution_count": 48,
   "id": "p4pm8scetc",
   "metadata": {},
   "outputs": [
    {
     "name": "stdout",
     "output_type": "stream",
     "text": [
      "=== ACTUAL SIMULATION RESULTS CHECK ===\n"
     ]
    },
    {
     "name": "stderr",
     "output_type": "stream",
     "text": [
      "Running simulations:  41%|████      | 406/1000 [00:02<00:02, 220.49it/s]WARNING\tTask(Task-2) ergodic_insurance.manufacturer:manufacturer.py:check_solvency()- Company became insolvent - negative equity: $-7,100,000.32\n",
      "Running simulations: 100%|██████████| 1000/1000 [00:04<00:00, 211.11it/s]\n"
     ]
    },
    {
     "name": "stdout",
     "output_type": "stream",
     "text": [
      "Simulation results (1000 paths, 10 years):\n",
      "  Average growth rate: 1.82%\n",
      "  Expected (calibrated): 2.64%\n",
      "  Actual gap: 0.82 percentage points\n",
      "\n",
      "Simulation loss statistics (per year):\n",
      "  Average total losses: $429,511\n",
      "  Average insurance recovery: $381,334\n",
      "  Average retained losses: $48,178\n",
      "\n",
      "Compare to calibration:\n",
      "  Calibrated total: $379,038\n",
      "  Calibrated insured: $274,793\n",
      "  Calibrated retained: $104,245\n",
      "\n",
      "=== THE REAL ANSWER ===\n",
      "NO, it's NOT primarily due to catastrophes >$40M!\n",
      "\n",
      "The issue is a CALIBRATION MISMATCH:\n",
      "1. Original calibration assumed $104,245 retained losses\n",
      "2. But with a $50k deductible and $40M limit, actual retained is only ~$48,178\n",
      "3. The calibration was wrong about the retained loss distribution\n",
      "4. This creates a persistent drag on growth of ~0.8%\n"
     ]
    }
   ],
   "source": [
    "# Wait, let me check our actual simulation results again\n",
    "print(\"=== ACTUAL SIMULATION RESULTS CHECK ===\")\n",
    "\n",
    "# Re-run a quick simulation to verify\n",
    "from ergodic_insurance.monte_carlo import MonteCarloEngine\n",
    "\n",
    "engine_verify = setup_simulation_engine(n_simulations=1000, n_years=10, parallel=False, insurance_program=program)\n",
    "results_verify = engine_verify.run()\n",
    "\n",
    "print(f\"Simulation results (1000 paths, 10 years):\")\n",
    "print(f\"  Average growth rate: {np.mean(results_verify.growth_rates)*100:.2f}%\")\n",
    "print(f\"  Expected (calibrated): 2.64%\")\n",
    "print(f\"  Actual gap: {(2.64 - np.mean(results_verify.growth_rates)*100):.2f} percentage points\")\n",
    "\n",
    "# Check the losses in the simulation\n",
    "avg_annual_losses = results_verify.annual_losses.mean()\n",
    "avg_annual_retained = results_verify.retained_losses.mean()\n",
    "avg_annual_recovery = results_verify.insurance_recoveries.mean()\n",
    "\n",
    "print(f\"\\nSimulation loss statistics (per year):\")\n",
    "print(f\"  Average total losses: ${avg_annual_losses:,.0f}\")\n",
    "print(f\"  Average insurance recovery: ${avg_annual_recovery:,.0f}\")\n",
    "print(f\"  Average retained losses: ${avg_annual_retained:,.0f}\")\n",
    "\n",
    "print(f\"\\nCompare to calibration:\")\n",
    "print(f\"  Calibrated total: ${average_annual_insured_loss + average_annual_retained_loss:,.0f}\")\n",
    "print(f\"  Calibrated insured: ${average_annual_insured_loss:,.0f}\")\n",
    "print(f\"  Calibrated retained: ${average_annual_retained_loss:,.0f}\")\n",
    "\n",
    "# The real issue\n",
    "print(f\"\\n=== THE REAL ANSWER ===\")\n",
    "print(f\"NO, it's NOT primarily due to catastrophes >$40M!\")\n",
    "print(f\"\\nThe issue is a CALIBRATION MISMATCH:\")\n",
    "print(f\"1. Original calibration assumed ${average_annual_retained_loss:,.0f} retained losses\")\n",
    "print(f\"2. But with a $50k deductible and $40M limit, actual retained is only ~${avg_annual_retained:,.0f}\")\n",
    "print(f\"3. The calibration was wrong about the retained loss distribution\")\n",
    "print(f\"4. This creates a persistent drag on growth of ~0.8%\")"
   ]
  }
 ],
 "metadata": {
  "kernelspec": {
   "display_name": ".venv",
   "language": "python",
   "name": "python3"
  },
  "language_info": {
   "codemirror_mode": {
    "name": "ipython",
    "version": 3
   },
   "file_extension": ".py",
   "mimetype": "text/x-python",
   "name": "python",
   "nbconvert_exporter": "python",
   "pygments_lexer": "ipython3",
   "version": "3.12.10"
  }
 },
 "nbformat": 4,
 "nbformat_minor": 5
}
