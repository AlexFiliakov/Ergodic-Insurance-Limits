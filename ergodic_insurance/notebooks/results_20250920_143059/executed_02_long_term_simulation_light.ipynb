{
 "cells": [
  {
   "cell_type": "markdown",
   "metadata": {},
   "source": [
    "# Notebook 02 (Light): Long-Term Simulation and Ruin Analysis\n",
    "\n",
    "**Light version with reduced memory requirements**\n",
    "\n",
    "This notebook performs Monte Carlo simulations to analyze:\n",
    "- Ruin probabilities at different time horizons (10, 20, 50, 100 years)\n",
    "- Impact of insurance deductibles and limits on survival\n",
    "- Distribution of annualized returns (ROE) over long periods\n",
    "\n",
    "**Note:** This light version reduces N_SIMULATIONS from 1000 to 100 and MAX_YEARS from 1000 to 100"
   ]
  },
  {
   "cell_type": "code",
   "execution_count": 1,
   "metadata": {},
   "outputs": [
    {
     "name": "stdout",
     "output_type": "stream",
     "text": [
      "Available memory: 0.7 GB\n",
      "Running LIGHT version with reduced parameters\n"
     ]
    }
   ],
   "source": [
    "# Setup and imports\n",
    "import sys\n",
    "import numpy as np\n",
    "import pandas as pd\n",
    "import matplotlib.pyplot as plt\n",
    "import matplotlib.ticker as mticker\n",
    "from pathlib import Path\n",
    "import time\n",
    "import psutil\n",
    "import gc\n",
    "from typing import Dict, List, Tuple\n",
    "import warnings\n",
    "warnings.filterwarnings('ignore')\n",
    "\n",
    "from ergodic_insurance.config import ManufacturerConfig\n",
    "from ergodic_insurance.manufacturer import WidgetManufacturer\n",
    "from ergodic_insurance.claim_generator import ClaimGenerator\n",
    "\n",
    "# Configure matplotlib for WSJ style\n",
    "plt.style.use('seaborn-v0_8-whitegrid')\n",
    "plt.rcParams['figure.figsize'] = (12, 6)\n",
    "plt.rcParams['font.size'] = 11\n",
    "plt.rcParams['axes.labelsize'] = 12\n",
    "plt.rcParams['axes.titlesize'] = 14\n",
    "plt.rcParams['axes.spines.top'] = False\n",
    "plt.rcParams['axes.spines.right'] = False\n",
    "plt.rcParams['grid.alpha'] = 0.3\n",
    "\n",
    "# Set random seed\n",
    "np.random.seed(42)\n",
    "\n",
    "print(f\"Available memory: {psutil.virtual_memory().available / 1e9:.1f} GB\")\n",
    "print(\"Running LIGHT version with reduced parameters\")"
   ]
  },
  {
   "cell_type": "markdown",
   "metadata": {},
   "source": [
    "## 1. Simulation Parameters (Reduced for Memory)"
   ]
  },
  {
   "cell_type": "code",
   "execution_count": 2,
   "metadata": {},
   "outputs": [
    {
     "name": "stdout",
     "output_type": "stream",
     "text": [
      "Parameters for LIGHT version:\n",
      "  Simulations: 100 (was 1000)\n",
      "  Max years: 100 (was 1000)\n",
      "  Scenarios: 3 (was 5)\n",
      "  Total simulation-years: 30,000 (was 5M)\n",
      "\n",
      "Insurance Scenarios:\n",
      "  No Insurance: Deductible=$inf, Limit=$0\n",
      "  Medium Coverage: Deductible=$1,000,000, Limit=$10,000,000\n",
      "  Full Coverage: Deductible=$100,000, Limit=$50,000,000\n"
     ]
    }
   ],
   "source": [
    "# Simulation parameters - REDUCED FOR MEMORY\n",
    "N_SIMULATIONS = 100  # Reduced from 1000\n",
    "MAX_YEARS = 100      # Reduced from 1000\n",
    "TIME_HORIZONS = [10, 20, 50, 100]  # Removed 500, 1000\n",
    "\n",
    "# Insurance scenarios to test (keeping only 3 key scenarios)\n",
    "insurance_scenarios = [\n",
    "    {'name': 'No Insurance', 'deductible': float('inf'), 'limit': 0},\n",
    "    {'name': 'Medium Coverage', 'deductible': 1_000_000, 'limit': 10_000_000},\n",
    "    {'name': 'Full Coverage', 'deductible': 100_000, 'limit': 50_000_000},\n",
    "]\n",
    "\n",
    "# Claim parameters\n",
    "claim_params = {\n",
    "    'frequency': 0.1,  # Expected 1 claim every 10 years\n",
    "    'severity_mean': 5_000_000,\n",
    "    'severity_std': 3_000_000,\n",
    "    'cat_frequency': 0.01,  # 1% chance per year of catastrophic event\n",
    "    'cat_severity_mean': 25_000_000,\n",
    "    'cat_severity_std': 10_000_000\n",
    "}\n",
    "\n",
    "print(f\"Parameters for LIGHT version:\")\n",
    "print(f\"  Simulations: {N_SIMULATIONS} (was 1000)\")\n",
    "print(f\"  Max years: {MAX_YEARS} (was 1000)\")\n",
    "print(f\"  Scenarios: {len(insurance_scenarios)} (was 5)\")\n",
    "print(f\"  Total simulation-years: {N_SIMULATIONS * MAX_YEARS * len(insurance_scenarios):,} (was 5M)\")\n",
    "print(f\"\\nInsurance Scenarios:\")\n",
    "for scenario in insurance_scenarios:\n",
    "    print(f\"  {scenario['name']}: Deductible=${scenario['deductible']:,.0f}, Limit=${scenario['limit']:,.0f}\")"
   ]
  },
  {
   "cell_type": "markdown",
   "metadata": {},
   "source": [
    "## 2. Single Simulation Function"
   ]
  },
  {
   "cell_type": "code",
   "execution_count": 3,
   "metadata": {},
   "outputs": [],
   "source": [
    "def run_single_simulation(params: Dict) -> Dict:\n",
    "    \"\"\"Run a single simulation with given parameters.\"\"\"\n",
    "    \n",
    "    # Unpack parameters\n",
    "    sim_id = params['sim_id']\n",
    "    deductible = params['deductible']\n",
    "    limit = params['limit']\n",
    "    seed = params['seed']\n",
    "    \n",
    "    # Initialize manufacturer\n",
    "    config = ManufacturerConfig(\n",
    "        initial_assets=10_000_000,\n",
    "        asset_turnover_ratio=1.0,\n",
    "        base_operating_margin=0.08,\n",
    "        tax_rate=0.25,\n",
    "        retention_ratio=1.0\n",
    "    )\n",
    "    manufacturer = WidgetManufacturer(config)\n",
    "    \n",
    "    # Initialize claim generator\n",
    "    claim_gen = ClaimGenerator(\n",
    "        base_frequency=claim_params['frequency'],\n",
    "        severity_mean=claim_params['severity_mean'],\n",
    "        severity_std=claim_params['severity_std'],\n",
    "        seed=seed\n",
    "    )\n",
    "    \n",
    "    # Generate claims for entire period\n",
    "    regular_claims = claim_gen.generate_claims(MAX_YEARS)\n",
    "    cat_claims = claim_gen.generate_catastrophic_claims(\n",
    "        MAX_YEARS,\n",
    "        claim_params['cat_frequency'],\n",
    "        claim_params['cat_severity_mean'],\n",
    "        claim_params['cat_severity_std']\n",
    "    )\n",
    "    \n",
    "    # Combine and sort claims\n",
    "    all_claims = regular_claims + cat_claims\n",
    "    claims_by_year = {}\n",
    "    for claim in all_claims:\n",
    "        if claim.year not in claims_by_year:\n",
    "            claims_by_year[claim.year] = []\n",
    "        claims_by_year[claim.year].append(claim.amount)\n",
    "    \n",
    "    # Track results\n",
    "    ruin_year = None\n",
    "    annual_returns = []\n",
    "    \n",
    "    # Run simulation\n",
    "    for year in range(MAX_YEARS):\n",
    "        # Process claims for this year\n",
    "        if year in claims_by_year:\n",
    "            for claim_amount in claims_by_year[year]:\n",
    "                manufacturer.process_insurance_claim(claim_amount, deductible, limit)\n",
    "        \n",
    "        # Take annual step\n",
    "        metrics = manufacturer.step(\n",
    "            working_capital_pct=0.2,\n",
    "            letter_of_credit_rate=0.015,\n",
    "            growth_rate=0.03\n",
    "        )\n",
    "        \n",
    "        # Record ROE\n",
    "        annual_returns.append(metrics['roe'])\n",
    "        \n",
    "        # Check for ruin\n",
    "        if manufacturer.is_ruined and ruin_year is None:\n",
    "            ruin_year = year + 1\n",
    "            break\n",
    "    \n",
    "    # Calculate annualized ROE\n",
    "    if len(annual_returns) > 0:\n",
    "        annualized_roe = np.mean(annual_returns)\n",
    "    else:\n",
    "        annualized_roe = 0\n",
    "    \n",
    "    return {\n",
    "        'sim_id': sim_id,\n",
    "        'ruin_year': ruin_year,\n",
    "        'annualized_roe': annualized_roe,\n",
    "        'final_equity': manufacturer.equity if not manufacturer.is_ruined else 0,\n",
    "        'total_claims': sum(claim.amount for claim in all_claims)\n",
    "    }"
   ]
  },
  {
   "cell_type": "markdown",
   "metadata": {},
   "source": [
    "## 3. Run Simulations for Each Scenario"
   ]
  },
  {
   "cell_type": "code",
   "execution_count": 4,
   "metadata": {},
   "outputs": [
    {
     "name": "stderr",
     "output_type": "stream",
     "text": [
      "Company became insolvent - negative equity: $-21,697,426.07\n"
     ]
    },
    {
     "name": "stdout",
     "output_type": "stream",
     "text": [
      "\n",
      "Running 100 simulations for: No Insurance\n",
      "==================================================\n",
      "  Progress: 0/100 simulations completed\n"
     ]
    },
    {
     "name": "stderr",
     "output_type": "stream",
     "text": [
      "Company became insolvent - negative equity: $-14,107,655.49\n",
      "Company became insolvent - negative equity: $-1,610,174.62\n",
      "Company became insolvent - negative equity: $-7,537,638.60\n",
      "Company became insolvent - negative equity: $-1,131,635.13\n",
      "Company became insolvent - negative equity: $-6,095,178.98\n",
      "Company became insolvent - negative equity: $-242,983.94\n",
      "Company became insolvent - negative equity: $-326,661.60\n",
      "Company became insolvent - negative equity: $-6,161,549.90\n",
      "Company became insolvent - negative equity: $-17,156,918.43\n",
      "Company became insolvent - negative equity: $-563,119.58\n",
      "Company became insolvent - negative equity: $-61,878.54\n",
      "Company became insolvent - negative equity: $-4,039,602.67\n",
      "Company became insolvent - negative equity: $-119,149,695.30\n",
      "Company became insolvent - negative equity: $-21,080,862.62\n",
      "Company became insolvent - negative equity: $-104,557.81\n",
      "Company became insolvent - negative equity: $-489,378.95\n",
      "Company became insolvent - negative equity: $-671,007.87\n"
     ]
    },
    {
     "name": "stdout",
     "output_type": "stream",
     "text": [
      "  Progress: 20/100 simulations completed\n"
     ]
    },
    {
     "name": "stderr",
     "output_type": "stream",
     "text": [
      "Company became insolvent - negative equity: $-1,451,166.66\n",
      "Company became insolvent - negative equity: $-50,299,808.45\n",
      "Company became insolvent - negative equity: $-2,274,103.24\n",
      "Company became insolvent - negative equity: $-7,928,618.47\n",
      "Company became insolvent - negative equity: $-4,252,799.18\n",
      "Company became insolvent - negative equity: $-1,912,116.48\n",
      "Company became insolvent - negative equity: $-581,708.00\n",
      "Company became insolvent - negative equity: $-8,409,137.58\n",
      "Company became insolvent - negative equity: $-723,813.29\n",
      "Company became insolvent - negative equity: $-577,958.34\n",
      "Company became insolvent - negative equity: $-342,807.33\n",
      "Company became insolvent - negative equity: $-93,966,417.46\n"
     ]
    },
    {
     "name": "stdout",
     "output_type": "stream",
     "text": [
      "  Progress: 40/100 simulations completed\n"
     ]
    },
    {
     "name": "stderr",
     "output_type": "stream",
     "text": [
      "Company became insolvent - negative equity: $-1,720,340.13\n",
      "Company became insolvent - negative equity: $-27,065.42\n",
      "Company became insolvent - negative equity: $-37,007,241.44\n",
      "Company became insolvent - negative equity: $-6,608,345.43\n",
      "Company became insolvent - negative equity: $-1,036,654.65\n",
      "Company became insolvent - negative equity: $-740,850.15\n",
      "Company became insolvent - negative equity: $-10,108,691.95\n",
      "Company became insolvent - negative equity: $-56,417,383.66\n",
      "Company became insolvent - negative equity: $-254,370.23\n",
      "Company became insolvent - negative equity: $-4,650,289.86\n",
      "Company became insolvent - negative equity: $-49,393,348.50\n",
      "Company became insolvent - negative equity: $-747,902.66\n",
      "Company became insolvent - negative equity: $-2,579,376.81\n",
      "Company became insolvent - negative equity: $-5,516,377.94\n",
      "Company became insolvent - negative equity: $-1,555,418.47\n",
      "Company became insolvent - negative equity: $-12,412,483.13\n"
     ]
    },
    {
     "name": "stdout",
     "output_type": "stream",
     "text": [
      "  Progress: 60/100 simulations completed\n"
     ]
    },
    {
     "name": "stderr",
     "output_type": "stream",
     "text": [
      "Company became insolvent - negative equity: $-5,547,707.81\n",
      "Company became insolvent - negative equity: $-2,974,578.74\n",
      "Company became insolvent - negative equity: $-3,452,879.57\n",
      "Company became insolvent - negative equity: $-340,298.58\n",
      "Company became insolvent - negative equity: $-1,307,892.24\n",
      "Company became insolvent - negative equity: $-9,468,129.11\n",
      "Company became insolvent - negative equity: $-12,737,452.90\n",
      "Company became insolvent - negative equity: $-153,897.64\n",
      "Company became insolvent - negative equity: $-1,170,444.91\n",
      "Company became insolvent - negative equity: $-3,393,830.88\n",
      "Company became insolvent - negative equity: $-15,403,987.34\n",
      "Company became insolvent - negative equity: $-3,445,648.07\n",
      "Company became insolvent - negative equity: $-4,129,646.69\n",
      "Company became insolvent - negative equity: $-6,059,469.13\n",
      "Company became insolvent - negative equity: $-118,042.16\n",
      "Company became insolvent - negative equity: $-2,322,506.41\n",
      "Company became insolvent - negative equity: $-12,990,722.35\n"
     ]
    },
    {
     "name": "stdout",
     "output_type": "stream",
     "text": [
      "  Progress: 80/100 simulations completed\n"
     ]
    },
    {
     "name": "stderr",
     "output_type": "stream",
     "text": [
      "Company became insolvent - negative equity: $-71,563,071.05\n",
      "Company became insolvent - negative equity: $-13,898,372.82\n",
      "Company became insolvent - negative equity: $-9,832,564.68\n",
      "Company became insolvent - negative equity: $-512,749.24\n",
      "Company became insolvent - negative equity: $-3,139,708.66\n",
      "Company became insolvent - negative equity: $-1,294,442.19\n",
      "Company became insolvent - negative equity: $-469,825.18\n",
      "Company became insolvent - negative equity: $-6,646,748.45\n",
      "Company became insolvent - negative equity: $-2,195,393.62\n",
      "Company became insolvent - negative equity: $-13,652,145.88\n",
      "Company became insolvent - negative equity: $-7,646,877.19\n",
      "Company became insolvent - negative equity: $-4,264,723.51\n",
      "Company became insolvent - negative equity: $-2,662,534.08\n",
      "Company became insolvent - negative equity: $-5,943,778.43\n",
      "Company became insolvent - negative equity: $-44,444,025.27\n",
      "Company became insolvent - negative equity: $-64,233,455.05\n"
     ]
    },
    {
     "name": "stdout",
     "output_type": "stream",
     "text": [
      "\n",
      "  Time taken: 4.3 seconds\n",
      "  Memory used: 0.0 GB\n",
      "  Simulations per second: 23.5\n",
      "\n",
      "Running 100 simulations for: Medium Coverage\n",
      "==================================================\n",
      "  Progress: 0/100 simulations completed\n"
     ]
    },
    {
     "name": "stderr",
     "output_type": "stream",
     "text": [
      "Company became insolvent - negative equity: $-6,268,588.09\n",
      "Company became insolvent - negative equity: $-1,671,221.56\n",
      "Company became insolvent - negative equity: $-98,782,275.21\n"
     ]
    },
    {
     "name": "stdout",
     "output_type": "stream",
     "text": [
      "  Progress: 20/100 simulations completed\n"
     ]
    },
    {
     "name": "stderr",
     "output_type": "stream",
     "text": [
      "Company became insolvent - negative equity: $-17,478,766.40\n",
      "Company became insolvent - negative equity: $-50,412,220.85\n",
      "Company became insolvent - negative equity: $-63,201,649.99\n"
     ]
    },
    {
     "name": "stdout",
     "output_type": "stream",
     "text": [
      "  Progress: 40/100 simulations completed\n"
     ]
    },
    {
     "name": "stderr",
     "output_type": "stream",
     "text": [
      "Company became insolvent - negative equity: $-3,272,437.06\n",
      "Company became insolvent - negative equity: $-16,576,821.57\n",
      "Company became insolvent - negative equity: $-1,272,793.29\n",
      "Company became insolvent - negative equity: $-9,256,030.06\n",
      "Company became insolvent - negative equity: $-36,007,083.65\n",
      "Company became insolvent - negative equity: $-28,989,521.19\n",
      "Company became insolvent - negative equity: $-10,486,835.13\n"
     ]
    },
    {
     "name": "stdout",
     "output_type": "stream",
     "text": [
      "  Progress: 60/100 simulations completed\n"
     ]
    },
    {
     "name": "stderr",
     "output_type": "stream",
     "text": [
      "Company became insolvent - negative equity: $-10,881,600.34\n",
      "Company became insolvent - negative equity: $-2,269,884.40\n",
      "Company became insolvent - negative equity: $-538,658.36\n",
      "Company became insolvent - negative equity: $-1,145,648.37\n",
      "Company became insolvent - negative equity: $-45,893,666.93\n"
     ]
    },
    {
     "name": "stdout",
     "output_type": "stream",
     "text": [
      "  Progress: 80/100 simulations completed\n"
     ]
    },
    {
     "name": "stderr",
     "output_type": "stream",
     "text": [
      "Company became insolvent - negative equity: $-50,873,198.26\n",
      "Company became insolvent - negative equity: $-14,485,787.33\n",
      "Company became insolvent - negative equity: $-24,064,928.38\n",
      "Company became insolvent - negative equity: $-37,609,779.14\n"
     ]
    },
    {
     "name": "stdout",
     "output_type": "stream",
     "text": [
      "\n",
      "  Time taken: 6.9 seconds\n",
      "  Memory used: 0.0 GB\n",
      "  Simulations per second: 14.5\n",
      "\n",
      "Running 100 simulations for: Full Coverage\n",
      "==================================================\n",
      "  Progress: 0/100 simulations completed\n"
     ]
    },
    {
     "name": "stderr",
     "output_type": "stream",
     "text": [
      "Company became insolvent - negative equity: $-17,312,594.84\n"
     ]
    },
    {
     "name": "stdout",
     "output_type": "stream",
     "text": [
      "  Progress: 20/100 simulations completed\n",
      "  Progress: 40/100 simulations completed\n",
      "  Progress: 60/100 simulations completed\n",
      "  Progress: 80/100 simulations completed\n",
      "\n",
      "  Time taken: 6.8 seconds\n",
      "  Memory used: -0.0 GB\n",
      "  Simulations per second: 14.7\n"
     ]
    }
   ],
   "source": [
    "# Store results for all scenarios\n",
    "scenario_results = {}\n",
    "\n",
    "# Run simulations for each scenario\n",
    "for scenario in insurance_scenarios:\n",
    "    print(f\"\\nRunning {N_SIMULATIONS} simulations for: {scenario['name']}\")\n",
    "    print(\"=\" * 50)\n",
    "    \n",
    "    # Prepare parameters\n",
    "    sim_params = [\n",
    "        {\n",
    "            'sim_id': i,\n",
    "            'deductible': scenario['deductible'],\n",
    "            'limit': scenario['limit'],\n",
    "            'seed': 42 + i  # Different seed for each simulation\n",
    "        }\n",
    "        for i in range(N_SIMULATIONS)\n",
    "    ]\n",
    "    \n",
    "    # Track performance\n",
    "    start_time = time.time()\n",
    "    start_memory = psutil.Process().memory_info().rss / 1e9\n",
    "    \n",
    "    # Run simulations sequentially\n",
    "    results = []\n",
    "    for i, params in enumerate(sim_params):\n",
    "        if i % 20 == 0:\n",
    "            print(f\"  Progress: {i}/{N_SIMULATIONS} simulations completed\")\n",
    "        results.append(run_single_simulation(params))\n",
    "        \n",
    "        # Garbage collection every 20 simulations to prevent memory buildup\n",
    "        if i % 20 == 0:\n",
    "            gc.collect()\n",
    "    \n",
    "    # Calculate metrics\n",
    "    end_time = time.time()\n",
    "    end_memory = psutil.Process().memory_info().rss / 1e9\n",
    "    \n",
    "    print(f\"\\n  Time taken: {end_time - start_time:.1f} seconds\")\n",
    "    print(f\"  Memory used: {end_memory - start_memory:.1f} GB\")\n",
    "    print(f\"  Simulations per second: {N_SIMULATIONS / (end_time - start_time):.1f}\")\n",
    "    \n",
    "    # Store results\n",
    "    scenario_results[scenario['name']] = pd.DataFrame(results)\n",
    "    \n",
    "    # Clean up memory\n",
    "    gc.collect()"
   ]
  },
  {
   "cell_type": "markdown",
   "metadata": {},
   "source": [
    "## 4. Calculate Ruin Probabilities"
   ]
  },
  {
   "cell_type": "code",
   "execution_count": 5,
   "metadata": {},
   "outputs": [
    {
     "name": "stdout",
     "output_type": "stream",
     "text": [
      "\n",
      "Ruin Probability by Time Horizon (%)\n",
      "============================================================\n",
      "Scenario  Full Coverage  Medium Coverage  No Insurance\n",
      "Horizon                                               \n",
      "10                  1.0              8.0          46.0\n",
      "20                  1.0             17.0          64.0\n",
      "50                  1.0             22.0          78.0\n",
      "100                 1.0             22.0          79.0\n",
      "\n",
      "Note: Based on 100 simulations (light version)\n"
     ]
    }
   ],
   "source": [
    "# Calculate ruin probabilities\n",
    "ruin_prob_data = []\n",
    "\n",
    "for scenario_name, results_df in scenario_results.items():\n",
    "    for horizon in TIME_HORIZONS:\n",
    "        # Count simulations that failed by this horizon\n",
    "        ruined = results_df['ruin_year'].notna() & (results_df['ruin_year'] <= horizon)\n",
    "        ruin_prob = ruined.sum() / len(results_df)\n",
    "        \n",
    "        ruin_prob_data.append({\n",
    "            'Scenario': scenario_name,\n",
    "            'Horizon': horizon,\n",
    "            'Ruin_Probability': ruin_prob * 100\n",
    "        })\n",
    "\n",
    "ruin_prob_df = pd.DataFrame(ruin_prob_data)\n",
    "\n",
    "# Pivot for easier visualization\n",
    "ruin_pivot = ruin_prob_df.pivot(index='Horizon', columns='Scenario', values='Ruin_Probability')\n",
    "\n",
    "# Display table\n",
    "print(\"\\nRuin Probability by Time Horizon (%)\")\n",
    "print(\"=\" * 60)\n",
    "print(ruin_pivot.to_string(float_format='%.1f'))\n",
    "print(\"\\nNote: Based on\", N_SIMULATIONS, \"simulations (light version)\")"
   ]
  },
  {
   "cell_type": "markdown",
   "metadata": {},
   "source": [
    "## 5. Visualize Results"
   ]
  },
  {
   "cell_type": "code",
   "execution_count": 6,
   "metadata": {},
   "outputs": [
    {
     "data": {
      "image/png": "[encoded data removed]",
      "text/plain": [
       "<Figure size 1400x500 with 2 Axes>"
      ]
     },
     "metadata": {},
     "output_type": "display_data"
    }
   ],
   "source": [
    "# Create visualization\n",
    "fig, (ax1, ax2) = plt.subplots(1, 2, figsize=(14, 5))\n",
    "\n",
    "# Plot 1: Ruin probability curves\n",
    "for scenario_name in scenario_results.keys():\n",
    "    scenario_data = ruin_prob_df[ruin_prob_df['Scenario'] == scenario_name]\n",
    "    ax1.plot(scenario_data['Horizon'], scenario_data['Ruin_Probability'], \n",
    "             marker='o', linewidth=2, label=scenario_name)\n",
    "\n",
    "ax1.set_xlabel('Time Horizon (Years)')\n",
    "ax1.set_ylabel('Ruin Probability (%)')\n",
    "ax1.set_title(f'Probability of Ruin by Time Horizon (n={N_SIMULATIONS})')\n",
    "ax1.grid(True, alpha=0.3)\n",
    "ax1.legend(loc='best')\n",
    "\n",
    "# Plot 2: Bar chart for 100-year horizon\n",
    "horizon_100 = ruin_prob_df[ruin_prob_df['Horizon'] == 100].sort_values('Ruin_Probability')\n",
    "colors = ['green' if x < 10 else 'orange' if x < 25 else 'red' \n",
    "          for x in horizon_100['Ruin_Probability']]\n",
    "\n",
    "ax2.barh(range(len(horizon_100)), horizon_100['Ruin_Probability'], color=colors)\n",
    "ax2.set_yticks(range(len(horizon_100)))\n",
    "ax2.set_yticklabels(horizon_100['Scenario'])\n",
    "ax2.set_xlabel('Ruin Probability (%)')\n",
    "ax2.set_title('100-Year Ruin Probability by Insurance Structure')\n",
    "ax2.grid(True, alpha=0.3, axis='x')\n",
    "\n",
    "plt.suptitle('LIGHT VERSION - Reduced Sample Size', fontsize=10, y=1.05)\n",
    "plt.tight_layout()\n",
    "plt.show()"
   ]
  },
  {
   "cell_type": "markdown",
   "metadata": {},
   "source": [
    "## Summary\n",
    "\n",
    "This **light version** demonstrates the same analysis with reduced parameters:\n",
    "- **100 simulations** instead of 1,000\n",
    "- **100 years max** instead of 1,000\n",
    "- **3 scenarios** instead of 5\n",
    "\n",
    "Total simulation-years: **30,000** instead of 5,000,000\n",
    "\n",
    "For full results, run the complete version with adequate memory (19+ GB RAM)."
   ]
  }
 ],
 "metadata": {
  "kernelspec": {
   "display_name": ".venv",
   "language": "python",
   "name": "python3"
  },
  "language_info": {
   "codemirror_mode": {
    "name": "ipython",
    "version": 3
   },
   "file_extension": ".py",
   "mimetype": "text/x-python",
   "name": "python",
   "nbconvert_exporter": "python",
   "pygments_lexer": "ipython3",
   "version": "3.12.10"
  }
 },
 "nbformat": 4,
 "nbformat_minor": 4
}
