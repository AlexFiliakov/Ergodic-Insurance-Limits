{
 "cells": [
  {
   "cell_type": "markdown",
   "id": "03d1da56",
   "metadata": {},
   "source": [
    "# Notebook Sequential Executionser"
   ]
  },
  {
   "cell_type": "code",
   "execution_count": 1,
   "id": "3749a070",
   "metadata": {},
   "outputs": [
    {
     "name": "stdout",
     "output_type": "stream",
     "text": [
      "Running 00_setup_verification.ipynb...\n"
     ]
    },
    {
     "data": {
      "application/vnd.jupyter.widget-view+json": {
       "model_id": "6e5d5eebe4614eb788c5e8fcdc63ec5a",
       "version_major": 2,
       "version_minor": 0
      },
      "text/plain": [
       "Executing:   0%|          | 0/7 [00:00<?, ?cell/s]"
      ]
     },
     "metadata": {},
     "output_type": "display_data"
    },
    {
     "name": "stdout",
     "output_type": "stream",
     "text": [
      "✓ Completed 00_setup_verification.ipynb\n",
      "Running 01_basic_manufacturer.ipynb...\n"
     ]
    },
    {
     "data": {
      "application/vnd.jupyter.widget-view+json": {
       "model_id": "0f470efe39094e438121ae2b1aea5620",
       "version_major": 2,
       "version_minor": 0
      },
      "text/plain": [
       "Executing:   0%|          | 0/17 [00:00<?, ?cell/s]"
      ]
     },
     "metadata": {},
     "output_type": "display_data"
    },
    {
     "name": "stdout",
     "output_type": "stream",
     "text": [
      "✓ Completed 01_basic_manufacturer.ipynb\n",
      "Running 03_growth_dynamics.ipynb...\n"
     ]
    },
    {
     "data": {
      "application/vnd.jupyter.widget-view+json": {
       "model_id": "113fbd8d4076442ca9bbd3d2293a4d69",
       "version_major": 2,
       "version_minor": 0
      },
      "text/plain": [
       "Executing:   0%|          | 0/19 [00:00<?, ?cell/s]"
      ]
     },
     "metadata": {},
     "output_type": "display_data"
    },
    {
     "name": "stdout",
     "output_type": "stream",
     "text": [
      "✓ Completed 03_growth_dynamics.ipynb\n",
      "Running 04_ergodic_demo.ipynb...\n"
     ]
    },
    {
     "data": {
      "application/vnd.jupyter.widget-view+json": {
       "model_id": "38eefa6b914a470aa8c57c6384e2f692",
       "version_major": 2,
       "version_minor": 0
      },
      "text/plain": [
       "Executing:   0%|          | 0/23 [00:00<?, ?cell/s]"
      ]
     },
     "metadata": {},
     "output_type": "display_data"
    },
    {
     "name": "stdout",
     "output_type": "stream",
     "text": [
      "✓ Completed 04_ergodic_demo.ipynb\n",
      "Running 05_risk_metrics.ipynb...\n"
     ]
    },
    {
     "data": {
      "application/vnd.jupyter.widget-view+json": {
       "model_id": "deccc680fcb34d50a74480d0fb5183e2",
       "version_major": 2,
       "version_minor": 0
      },
      "text/plain": [
       "Executing:   0%|          | 0/25 [00:00<?, ?cell/s]"
      ]
     },
     "metadata": {},
     "output_type": "display_data"
    },
    {
     "name": "stdout",
     "output_type": "stream",
     "text": [
      "✓ Completed 05_risk_metrics.ipynb\n",
      "Running 06_loss_distributions.ipynb...\n"
     ]
    },
    {
     "data": {
      "application/vnd.jupyter.widget-view+json": {
       "model_id": "1e1d0e2ceeea4201923221fbf7f0bea1",
       "version_major": 2,
       "version_minor": 0
      },
      "text/plain": [
       "Executing:   0%|          | 0/13 [00:00<?, ?cell/s]"
      ]
     },
     "metadata": {},
     "output_type": "display_data"
    },
    {
     "name": "stdout",
     "output_type": "stream",
     "text": [
      "✓ Completed 06_loss_distributions.ipynb\n",
      "Running 07_insurance_layers.ipynb...\n"
     ]
    },
    {
     "data": {
      "application/vnd.jupyter.widget-view+json": {
       "model_id": "d4189f094b0b494f85a6b4a5370fb944",
       "version_major": 2,
       "version_minor": 0
      },
      "text/plain": [
       "Executing:   0%|          | 0/9 [00:00<?, ?cell/s]"
      ]
     },
     "metadata": {},
     "output_type": "display_data"
    },
    {
     "name": "stdout",
     "output_type": "stream",
     "text": [
      "✓ Completed 07_insurance_layers.ipynb\n",
      "Running 08_monte_carlo_analysis.ipynb...\n"
     ]
    },
    {
     "data": {
      "application/vnd.jupyter.widget-view+json": {
       "model_id": "77a386dfaae74669a38f422ab05f7ff1",
       "version_major": 2,
       "version_minor": 0
      },
      "text/plain": [
       "Executing:   0%|          | 0/19 [00:00<?, ?cell/s]"
      ]
     },
     "metadata": {},
     "output_type": "display_data"
    },
    {
     "name": "stdout",
     "output_type": "stream",
     "text": [
      "✓ Completed 08_monte_carlo_analysis.ipynb\n",
      "Running 09_optimization_results.ipynb...\n"
     ]
    },
    {
     "data": {
      "application/vnd.jupyter.widget-view+json": {
       "model_id": "f5d574e691cc42869ba55320e8436488",
       "version_major": 2,
       "version_minor": 0
      },
      "text/plain": [
       "Executing:   0%|          | 0/10 [00:00<?, ?cell/s]"
      ]
     },
     "metadata": {},
     "output_type": "display_data"
    },
    {
     "name": "stdout",
     "output_type": "stream",
     "text": [
      "✓ Completed 09_optimization_results.ipynb\n",
      "Running 10_sensitivity_analysis.ipynb...\n"
     ]
    },
    {
     "data": {
      "application/vnd.jupyter.widget-view+json": {
       "model_id": "71f67f2c221b44a7a651d53f0011702a",
       "version_major": 2,
       "version_minor": 0
      },
      "text/plain": [
       "Executing:   0%|          | 0/12 [00:00<?, ?cell/s]"
      ]
     },
     "metadata": {},
     "output_type": "display_data"
    },
    {
     "name": "stderr",
     "output_type": "stream",
     "text": [
      "Timeout waiting for execute reply (120s).\n"
     ]
    },
    {
     "name": "stdout",
     "output_type": "stream",
     "text": [
      "✗ Failed 10_sensitivity_analysis.ipynb: A cell timed out while it was being executed, after 120 seconds.\n",
      "The message was: Cell execution timed out.\n",
      "Here is a preview of the cell contents:\n",
      "-------------------\n",
      "['def parameter_sensitivity_anal\n",
      "Running 11_pareto_analysis.ipynb...\n"
     ]
    },
    {
     "data": {
      "application/vnd.jupyter.widget-view+json": {
       "model_id": "d627c836b9564ca1b5f1a60efdc73687",
       "version_major": 2,
       "version_minor": 0
      },
      "text/plain": [
       "Executing:   0%|          | 0/20 [00:00<?, ?cell/s]"
      ]
     },
     "metadata": {},
     "output_type": "display_data"
    },
    {
     "name": "stdout",
     "output_type": "stream",
     "text": [
      "✓ Completed 11_pareto_analysis.ipynb\n",
      "Running 12_hjb_optimal_control.ipynb...\n"
     ]
    },
    {
     "data": {
      "application/vnd.jupyter.widget-view+json": {
       "model_id": "3e6621d3d7de4b7dab6880e96d88145d",
       "version_major": 2,
       "version_minor": 0
      },
      "text/plain": [
       "Executing:   0%|          | 0/24 [00:00<?, ?cell/s]"
      ]
     },
     "metadata": {},
     "output_type": "display_data"
    },
    {
     "name": "stdout",
     "output_type": "stream",
     "text": [
      "✗ Failed 12_hjb_optimal_control.ipynb: Execution error - \n",
      "---------------------------------------------------------------------------\n",
      "Exception encountered at \"In [1]\":\n",
      "---------------------------------------------------------------------------\n",
      "ModuleNotFou\n",
      "  Check output notebook at: results_20250920_143059\\executed_12_hjb_optimal_control.ipynb\n",
      "Running 13_walk_forward_validation.ipynb...\n"
     ]
    },
    {
     "data": {
      "application/vnd.jupyter.widget-view+json": {
       "model_id": "3daa5202d51342e28bbe8888437f72b9",
       "version_major": 2,
       "version_minor": 0
      },
      "text/plain": [
       "Executing:   0%|          | 0/25 [00:00<?, ?cell/s]"
      ]
     },
     "metadata": {},
     "output_type": "display_data"
    },
    {
     "name": "stdout",
     "output_type": "stream",
     "text": [
      "✗ Failed 13_walk_forward_validation.ipynb: Execution error - \n",
      "---------------------------------------------------------------------------\n",
      "Exception encountered at \"In [5]\":\n",
      "---------------------------------------------------------------------------\n",
      "IndexError  \n",
      "  Check output notebook at: results_20250920_143059\\executed_13_walk_forward_validation.ipynb\n",
      "Running 14_visualization_factory_demo.ipynb...\n"
     ]
    },
    {
     "data": {
      "application/vnd.jupyter.widget-view+json": {
       "model_id": "d36a6bd5e6624ba9bca64669a1487b6f",
       "version_major": 2,
       "version_minor": 0
      },
      "text/plain": [
       "Executing:   0%|          | 0/19 [00:00<?, ?cell/s]"
      ]
     },
     "metadata": {},
     "output_type": "display_data"
    },
    {
     "name": "stdout",
     "output_type": "stream",
     "text": [
      "✗ Failed 14_visualization_factory_demo.ipynb: Execution error - \n",
      "---------------------------------------------------------------------------\n",
      "Exception encountered at \"In [1]\":\n",
      "---------------------------------------------------------------------------\n",
      "ModuleNotFou\n",
      "  Check output notebook at: results_20250920_143059\\executed_14_visualization_factory_demo.ipynb\n",
      "Running 15_roe_ruin_frontier_demo.ipynb...\n"
     ]
    },
    {
     "data": {
      "application/vnd.jupyter.widget-view+json": {
       "model_id": "b9c8996ab538444d84908684eb6a914a",
       "version_major": 2,
       "version_minor": 0
      },
      "text/plain": [
       "Executing:   0%|          | 0/21 [00:00<?, ?cell/s]"
      ]
     },
     "metadata": {},
     "output_type": "display_data"
    },
    {
     "name": "stdout",
     "output_type": "stream",
     "text": [
      "✓ Completed 15_roe_ruin_frontier_demo.ipynb\n",
      "Running 16_ruin_cliff_visualization.ipynb...\n"
     ]
    },
    {
     "name": "stderr",
     "output_type": "stream",
     "text": [
      "c:\\Users\\alexf\\OneDrive\\Documents\\Projects\\Ergodic Insurance Limits\\.venv\\Lib\\site-packages\\nbformat\\__init__.py:96: MissingIDFieldWarning: Cell is missing an id field, this will become a hard error in future nbformat versions. You may want to use `normalize()` on your notebooks before validations (available since nbformat 5.1.4). Previous versions of nbformat are fixing this issue transparently, and will stop doing so in the future.\n",
      "  validate(nb)\n"
     ]
    },
    {
     "data": {
      "application/vnd.jupyter.widget-view+json": {
       "model_id": "0f001832f88f4522bb626daf00aef170",
       "version_major": 2,
       "version_minor": 0
      },
      "text/plain": [
       "Executing:   0%|          | 0/11 [00:00<?, ?cell/s]"
      ]
     },
     "metadata": {},
     "output_type": "display_data"
    },
    {
     "name": "stdout",
     "output_type": "stream",
     "text": [
      "✗ Failed 16_ruin_cliff_visualization.ipynb: Execution error - \n",
      "---------------------------------------------------------------------------\n",
      "Exception encountered at \"In [1]\":\n",
      "---------------------------------------------------------------------------\n",
      "ModuleNotFou\n",
      "  Check output notebook at: results_20250920_143059\\executed_16_ruin_cliff_visualization.ipynb\n",
      "Running 17_executive_visualizations_showcase.ipynb...\n"
     ]
    },
    {
     "data": {
      "application/vnd.jupyter.widget-view+json": {
       "model_id": "7c5f22314a204fd78d777eeb720ad2cc",
       "version_major": 2,
       "version_minor": 0
      },
      "text/plain": [
       "Executing:   0%|          | 0/25 [00:00<?, ?cell/s]"
      ]
     },
     "metadata": {},
     "output_type": "display_data"
    },
    {
     "name": "stdout",
     "output_type": "stream",
     "text": [
      "✓ Completed 17_executive_visualizations_showcase.ipynb\n",
      "Running 18_executive_visualization_demo.ipynb...\n"
     ]
    },
    {
     "data": {
      "application/vnd.jupyter.widget-view+json": {
       "model_id": "c33a3af7ecae400488a959908c38b2b8",
       "version_major": 2,
       "version_minor": 0
      },
      "text/plain": [
       "Executing:   0%|          | 0/15 [00:00<?, ?cell/s]"
      ]
     },
     "metadata": {},
     "output_type": "display_data"
    },
    {
     "name": "stdout",
     "output_type": "stream",
     "text": [
      "✓ Completed 18_executive_visualization_demo.ipynb\n",
      "Running 19_technical_convergence_visualizations.ipynb...\n"
     ]
    },
    {
     "data": {
      "application/vnd.jupyter.widget-view+json": {
       "model_id": "3fe59116d4544aaea23798d1c3dabea5",
       "version_major": 2,
       "version_minor": 0
      },
      "text/plain": [
       "Executing:   0%|          | 0/20 [00:00<?, ?cell/s]"
      ]
     },
     "metadata": {},
     "output_type": "display_data"
    },
    {
     "name": "stdout",
     "output_type": "stream",
     "text": [
      "✓ Completed 19_technical_convergence_visualizations.ipynb\n",
      "Running 20_ergodic_visualizations.ipynb...\n"
     ]
    },
    {
     "data": {
      "application/vnd.jupyter.widget-view+json": {
       "model_id": "858bfb26af6e45c595af29a7340175e6",
       "version_major": 2,
       "version_minor": 0
      },
      "text/plain": [
       "Executing:   0%|          | 0/19 [00:00<?, ?cell/s]"
      ]
     },
     "metadata": {},
     "output_type": "display_data"
    },
    {
     "name": "stdout",
     "output_type": "stream",
     "text": [
      "✓ Completed 20_ergodic_visualizations.ipynb\n",
      "Running 21_insurance_structure_visualizations.ipynb...\n"
     ]
    },
    {
     "data": {
      "application/vnd.jupyter.widget-view+json": {
       "model_id": "82833db9725743b5b1dab27075959270",
       "version_major": 2,
       "version_minor": 0
      },
      "text/plain": [
       "Executing:   0%|          | 0/17 [00:00<?, ?cell/s]"
      ]
     },
     "metadata": {},
     "output_type": "display_data"
    },
    {
     "name": "stdout",
     "output_type": "stream",
     "text": [
      "✓ Completed 21_insurance_structure_visualizations.ipynb\n",
      "Running 22_advanced_convergence_monitoring.ipynb...\n"
     ]
    },
    {
     "data": {
      "application/vnd.jupyter.widget-view+json": {
       "model_id": "51a1eb3ba32c410c8dbeb8ad196143b4",
       "version_major": 2,
       "version_minor": 0
      },
      "text/plain": [
       "Executing:   0%|          | 0/24 [00:00<?, ?cell/s]"
      ]
     },
     "metadata": {},
     "output_type": "display_data"
    },
    {
     "name": "stdout",
     "output_type": "stream",
     "text": [
      "✓ Completed 22_advanced_convergence_monitoring.ipynb\n",
      "Running 23_table_generation_demo.ipynb...\n"
     ]
    },
    {
     "data": {
      "application/vnd.jupyter.widget-view+json": {
       "model_id": "96892d6d79144158b626b7103d3f9340",
       "version_major": 2,
       "version_minor": 0
      },
      "text/plain": [
       "Executing:   0%|          | 0/29 [00:00<?, ?cell/s]"
      ]
     },
     "metadata": {},
     "output_type": "display_data"
    },
    {
     "name": "stdout",
     "output_type": "stream",
     "text": [
      "✓ Completed 23_table_generation_demo.ipynb\n",
      "Running 24_scenario_comparison_demo.ipynb...\n"
     ]
    },
    {
     "data": {
      "application/vnd.jupyter.widget-view+json": {
       "model_id": "a1ac7d9290d54b0a81000f392577b71a",
       "version_major": 2,
       "version_minor": 0
      },
      "text/plain": [
       "Executing:   0%|          | 0/23 [00:00<?, ?cell/s]"
      ]
     },
     "metadata": {},
     "output_type": "display_data"
    },
    {
     "name": "stdout",
     "output_type": "stream",
     "text": [
      "✓ Completed 24_scenario_comparison_demo.ipynb\n",
      "Running 25_excel_reporting.ipynb...\n"
     ]
    },
    {
     "data": {
      "application/vnd.jupyter.widget-view+json": {
       "model_id": "42c228fc2fdb425482e8ac710a80a1b4",
       "version_major": 2,
       "version_minor": 0
      },
      "text/plain": [
       "Executing:   0%|          | 0/32 [00:00<?, ?cell/s]"
      ]
     },
     "metadata": {},
     "output_type": "display_data"
    },
    {
     "name": "stdout",
     "output_type": "stream",
     "text": [
      "✗ Failed 25_excel_reporting.ipynb: Execution error - \n",
      "---------------------------------------------------------------------------\n",
      "Exception encountered at \"In [2]\":\n",
      "---------------------------------------------------------------------------\n",
      "TypeError   \n",
      "  Check output notebook at: results_20250920_143059\\executed_25_excel_reporting.ipynb\n",
      "Running 26_sensitivity_analysis.ipynb...\n"
     ]
    },
    {
     "data": {
      "application/vnd.jupyter.widget-view+json": {
       "model_id": "796723cc3ba94048a9910aa4d20d1ff6",
       "version_major": 2,
       "version_minor": 0
      },
      "text/plain": [
       "Executing:   0%|          | 0/30 [00:00<?, ?cell/s]"
      ]
     },
     "metadata": {},
     "output_type": "display_data"
    },
    {
     "name": "stdout",
     "output_type": "stream",
     "text": [
      "✗ Failed 26_sensitivity_analysis.ipynb: Execution error - \n",
      "---------------------------------------------------------------------------\n",
      "Exception encountered at \"In [1]\":\n",
      "---------------------------------------------------------------------------\n",
      "ModuleNotFou\n",
      "  Check output notebook at: results_20250920_143059\\executed_26_sensitivity_analysis.ipynb\n",
      "Running 27_parameter_sweep_demo.ipynb...\n"
     ]
    },
    {
     "data": {
      "application/vnd.jupyter.widget-view+json": {
       "model_id": "46907192a9ec42b1a993e633f8153400",
       "version_major": 2,
       "version_minor": 0
      },
      "text/plain": [
       "Executing:   0%|          | 0/26 [00:00<?, ?cell/s]"
      ]
     },
     "metadata": {},
     "output_type": "display_data"
    },
    {
     "name": "stdout",
     "output_type": "stream",
     "text": [
      "✗ Failed 27_parameter_sweep_demo.ipynb: Execution error - \n",
      "---------------------------------------------------------------------------\n",
      "Exception encountered at \"In [1]\":\n",
      "---------------------------------------------------------------------------\n",
      "ModuleNotFou\n",
      "  Check output notebook at: results_20250920_143059\\executed_27_parameter_sweep_demo.ipynb\n",
      "Running 28_retention_optimization_demo.ipynb...\n"
     ]
    },
    {
     "data": {
      "application/vnd.jupyter.widget-view+json": {
       "model_id": "e0875b436c6746f0b4a4cd9f045df459",
       "version_major": 2,
       "version_minor": 0
      },
      "text/plain": [
       "Executing:   0%|          | 0/21 [00:00<?, ?cell/s]"
      ]
     },
     "metadata": {},
     "output_type": "display_data"
    },
    {
     "name": "stdout",
     "output_type": "stream",
     "text": [
      "✓ Completed 28_retention_optimization_demo.ipynb\n",
      "Running 29_report_generation_demo.ipynb...\n"
     ]
    },
    {
     "data": {
      "application/vnd.jupyter.widget-view+json": {
       "model_id": "646fffa7a90547748ae4ed6ab2449c42",
       "version_major": 2,
       "version_minor": 0
      },
      "text/plain": [
       "Executing:   0%|          | 0/26 [00:00<?, ?cell/s]"
      ]
     },
     "metadata": {},
     "output_type": "display_data"
    },
    {
     "name": "stdout",
     "output_type": "stream",
     "text": [
      "✗ Failed 29_report_generation_demo.ipynb: Execution error - \n",
      "---------------------------------------------------------------------------\n",
      "Exception encountered at \"In [1]\":\n",
      "---------------------------------------------------------------------------\n",
      "ModuleNotFou\n",
      "  Check output notebook at: results_20250920_143059\\executed_29_report_generation_demo.ipynb\n",
      "Running 30_state_driven_exposures.ipynb...\n"
     ]
    },
    {
     "data": {
      "application/vnd.jupyter.widget-view+json": {
       "model_id": "52fccfce09894660b7989c0b4eb0f839",
       "version_major": 2,
       "version_minor": 0
      },
      "text/plain": [
       "Executing:   0%|          | 0/20 [00:00<?, ?cell/s]"
      ]
     },
     "metadata": {},
     "output_type": "display_data"
    },
    {
     "name": "stdout",
     "output_type": "stream",
     "text": [
      "✗ Failed 30_state_driven_exposures.ipynb: Execution error - \n",
      "---------------------------------------------------------------------------\n",
      "Exception encountered at \"In [4]\":\n",
      "---------------------------------------------------------------------------\n",
      "AttributeErr\n",
      "  Check output notebook at: results_20250920_143059\\executed_30_state_driven_exposures.ipynb\n"
     ]
    }
   ],
   "source": [
    "import papermill as pm\n",
    "from datetime import datetime\n",
    "import os\n",
    "\n",
    "# List of notebooks to run\n",
    "# NOTE: 02_long_term_simulation.ipynb is memory-intensive and may crash\n",
    "# Consider running it separately with reduced N_SIMULATIONS parameter\n",
    "notebooks = [\n",
    "    '00_setup_verification.ipynb',\n",
    "    '01_basic_manufacturer.ipynb',\n",
    "    # '02_long_term_simulation.ipynb',  # Commented out - runs 5M simulation years, needs ~19GB RAM\n",
    "    '03_growth_dynamics.ipynb',\n",
    "    '04_ergodic_demo.ipynb',\n",
    "    '05_risk_metrics.ipynb',\n",
    "    '06_loss_distributions.ipynb',\n",
    "    '07_insurance_layers.ipynb',\n",
    "    '08_monte_carlo_analysis.ipynb',\n",
    "    '09_optimization_results.ipynb',\n",
    "    '10_sensitivity_analysis.ipynb',\n",
    "    '11_pareto_analysis.ipynb',\n",
    "    '12_hjb_optimal_control.ipynb',\n",
    "    '13_walk_forward_validation.ipynb',\n",
    "    '14_visualization_factory_demo.ipynb',\n",
    "    '15_roe_ruin_frontier_demo.ipynb',\n",
    "    '16_ruin_cliff_visualization.ipynb',\n",
    "    '17_executive_visualizations_showcase.ipynb',\n",
    "    '18_executive_visualization_demo.ipynb',\n",
    "    '19_technical_convergence_visualizations.ipynb',\n",
    "    '20_ergodic_visualizations.ipynb',\n",
    "    '21_insurance_structure_visualizations.ipynb',\n",
    "    '22_advanced_convergence_monitoring.ipynb',\n",
    "    '23_table_generation_demo.ipynb',\n",
    "    '24_scenario_comparison_demo.ipynb',\n",
    "    '25_excel_reporting.ipynb',\n",
    "    '26_sensitivity_analysis.ipynb',\n",
    "    '27_parameter_sweep_demo.ipynb',\n",
    "    '28_retention_optimization_demo.ipynb',\n",
    "    '29_report_generation_demo.ipynb',\n",
    "    '30_state_driven_exposures.ipynb'\n",
    "]\n",
    "\n",
    "# Create output directory with timestamp\n",
    "timestamp = datetime.now().strftime('%Y%m%d_%H%M%S')\n",
    "output_dir = f'results_{timestamp}'\n",
    "os.makedirs(output_dir, exist_ok=True)\n",
    "\n",
    "# Run notebooks sequentially\n",
    "for nb in notebooks:\n",
    "    output_path = os.path.join(output_dir, f'executed_{nb}')\n",
    "    print(f\"Running {nb}...\")\n",
    "\n",
    "    # Special handling for memory-intensive notebooks\n",
    "    timeout = 120\n",
    "    try:\n",
    "        pm.execute_notebook(\n",
    "            input_path=nb,\n",
    "            output_path=output_path,\n",
    "            kernel_name='python3',\n",
    "            timeout=timeout,\n",
    "        )\n",
    "        print(f\"✓ Completed {nb}\")\n",
    "    except pm.PapermillExecutionError as e:\n",
    "        print(f\"✗ Failed {nb}: Execution error - {str(e)[:200]}\")\n",
    "        print(f\"  Check output notebook at: {output_path}\")\n",
    "        # Continue with next notebook\n",
    "    except Exception as e:\n",
    "        print(f\"✗ Failed {nb}: {str(e)[:200]}\")\n",
    "        # Continue with next notebook"
   ]
  },
  {
   "cell_type": "code",
   "execution_count": null,
   "id": "9aa051e3",
   "metadata": {},
   "outputs": [],
   "source": []
  }
 ],
 "metadata": {
  "kernelspec": {
   "display_name": ".venv",
   "language": "python",
   "name": "python3"
  },
  "language_info": {
   "codemirror_mode": {
    "name": "ipython",
    "version": 3
   },
   "file_extension": ".py",
   "mimetype": "text/x-python",
   "name": "python",
   "nbconvert_exporter": "python",
   "pygments_lexer": "ipython3",
   "version": "3.12.10"
  }
 },
 "nbformat": 4,
 "nbformat_minor": 5
}
