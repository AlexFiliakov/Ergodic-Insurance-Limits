{
 "cells": [
  {
   "cell_type": "markdown",
   "id": "17315454",
   "metadata": {
    "tags": [
     "papermill-error-cell-tag"
    ]
   },
   "source": [
    "<span style=\"color:red; font-family:Helvetica Neue, Helvetica, Arial, sans-serif; font-size:2em;\">An Exception was encountered at '<a href=\"#papermill-error-cell\">In [4]</a>'.</span>"
   ]
  },
  {
   "cell_type": "markdown",
   "id": "9dd6a42a",
   "metadata": {
    "papermill": {
     "duration": 0.005952,
     "end_time": "2025-09-20T18:49:02.425104",
     "exception": false,
     "start_time": "2025-09-20T18:49:02.419152",
     "status": "completed"
    },
    "tags": []
   },
   "source": [
    "# State-Driven Exposure Bases\n",
    "\n",
    "This notebook demonstrates the new state-driven exposure base system that tracks actual financial state rather than using artificial growth projections."
   ]
  },
  {
   "cell_type": "markdown",
   "id": "4c3826e5",
   "metadata": {
    "papermill": {
     "duration": 0.006647,
     "end_time": "2025-09-20T18:49:02.438631",
     "exception": false,
     "start_time": "2025-09-20T18:49:02.431984",
     "status": "completed"
    },
    "tags": []
   },
   "source": [
    "## Setup and Imports"
   ]
  },
  {
   "cell_type": "code",
   "execution_count": 1,
   "id": "1c667e8f",
   "metadata": {
    "execution": {
     "iopub.execute_input": "2025-09-20T18:49:02.453098Z",
     "iopub.status.busy": "2025-09-20T18:49:02.451601Z",
     "iopub.status.idle": "2025-09-20T18:49:04.795003Z",
     "shell.execute_reply": "2025-09-20T18:49:04.793991Z"
    },
    "papermill": {
     "duration": 2.353282,
     "end_time": "2025-09-20T18:49:04.797521",
     "exception": false,
     "start_time": "2025-09-20T18:49:02.444239",
     "status": "completed"
    },
    "tags": []
   },
   "outputs": [
    {
     "name": "stdout",
     "output_type": "stream",
     "text": [
      "✅ Imports successful!\n"
     ]
    }
   ],
   "source": [
    "import numpy as np\n",
    "import pandas as pd\n",
    "import matplotlib.pyplot as plt\n",
    "from typing import List\n",
    "\n",
    "# Core imports\n",
    "from ergodic_insurance.config import ManufacturerConfig\n",
    "from ergodic_insurance.manufacturer import WidgetManufacturer\n",
    "from ergodic_insurance.exposure_base import (\n",
    "    RevenueExposure,\n",
    "    AssetExposure,\n",
    "    EquityExposure\n",
    ")\n",
    "from ergodic_insurance.claim_generator import ClaimGenerator\n",
    "\n",
    "# Set random seed for reproducibility\n",
    "np.random.seed(42)\n",
    "\n",
    "print(\"✅ Imports successful!\")"
   ]
  },
  {
   "cell_type": "markdown",
   "id": "43f12ad5",
   "metadata": {
    "papermill": {
     "duration": 0.007583,
     "end_time": "2025-09-20T18:49:04.809620",
     "exception": false,
     "start_time": "2025-09-20T18:49:04.802037",
     "status": "completed"
    },
    "tags": []
   },
   "source": [
    "## 1. Understanding State-Driven Exposures\n",
    "\n",
    "The key difference: exposures now track the **actual financial state** of the company, not artificial projections."
   ]
  },
  {
   "cell_type": "code",
   "execution_count": 2,
   "id": "cbe64bd8",
   "metadata": {
    "execution": {
     "iopub.execute_input": "2025-09-20T18:49:04.825947Z",
     "iopub.status.busy": "2025-09-20T18:49:04.824909Z",
     "iopub.status.idle": "2025-09-20T18:49:04.833500Z",
     "shell.execute_reply": "2025-09-20T18:49:04.832461Z"
    },
    "papermill": {
     "duration": 0.016326,
     "end_time": "2025-09-20T18:49:04.834499",
     "exception": false,
     "start_time": "2025-09-20T18:49:04.818173",
     "status": "completed"
    },
    "tags": []
   },
   "outputs": [
    {
     "name": "stdout",
     "output_type": "stream",
     "text": [
      "Initial Company State:\n",
      "  Assets: $10,000,000\n",
      "  Revenue: $10,000,000\n",
      "  Equity: $10,000,000\n"
     ]
    }
   ],
   "source": [
    "# Create a manufacturer with initial configuration\n",
    "config = ManufacturerConfig(\n",
    "    initial_assets=10_000_000,      # $10M starting assets\n",
    "    asset_turnover_ratio=1.0,       # Revenue = Assets\n",
    "    base_operating_margin=0.12,     # 12% operating margin\n",
    "    tax_rate=0.25,                  # 25% tax rate\n",
    "    retention_ratio=0.7             # Retain 70% of earnings\n",
    ")\n",
    "\n",
    "manufacturer = WidgetManufacturer(config)\n",
    "\n",
    "print(\"Initial Company State:\")\n",
    "print(f\"  Assets: ${manufacturer.current_assets:,.0f}\")\n",
    "print(f\"  Revenue: ${manufacturer.current_revenue:,.0f}\")\n",
    "print(f\"  Equity: ${manufacturer.current_equity:,.0f}\")"
   ]
  },
  {
   "cell_type": "markdown",
   "id": "d090b95b",
   "metadata": {
    "papermill": {
     "duration": 0.015789,
     "end_time": "2025-09-20T18:49:04.858884",
     "exception": false,
     "start_time": "2025-09-20T18:49:04.843095",
     "status": "completed"
    },
    "tags": []
   },
   "source": [
    "## 2. Creating State-Driven Exposures\n",
    "\n",
    "Exposures now take a `state_provider` (the manufacturer) instead of fixed parameters:"
   ]
  },
  {
   "cell_type": "code",
   "execution_count": 3,
   "id": "8e243b59",
   "metadata": {
    "execution": {
     "iopub.execute_input": "2025-09-20T18:49:04.878716Z",
     "iopub.status.busy": "2025-09-20T18:49:04.877202Z",
     "iopub.status.idle": "2025-09-20T18:49:04.886492Z",
     "shell.execute_reply": "2025-09-20T18:49:04.886492Z"
    },
    "papermill": {
     "duration": 0.022596,
     "end_time": "2025-09-20T18:49:04.888527",
     "exception": false,
     "start_time": "2025-09-20T18:49:04.865931",
     "status": "completed"
    },
    "tags": []
   },
   "outputs": [
    {
     "name": "stdout",
     "output_type": "stream",
     "text": [
      "Initial Frequency Multipliers:\n",
      "  Revenue-based: 1.00\n",
      "  Asset-based: 1.00\n",
      "  Equity-based: 1.00\n"
     ]
    }
   ],
   "source": [
    "# Create different types of state-driven exposures\n",
    "revenue_exposure = RevenueExposure(state_provider=manufacturer)\n",
    "asset_exposure = AssetExposure(state_provider=manufacturer)\n",
    "equity_exposure = EquityExposure(state_provider=manufacturer)\n",
    "\n",
    "# Initial frequency multipliers (should all be 1.0 at start)\n",
    "print(\"Initial Frequency Multipliers:\")\n",
    "print(f\"  Revenue-based: {revenue_exposure.get_frequency_multiplier(0):.2f}\")\n",
    "print(f\"  Asset-based: {asset_exposure.get_frequency_multiplier(0):.2f}\")\n",
    "print(f\"  Equity-based: {equity_exposure.get_frequency_multiplier(0):.2f}\")"
   ]
  },
  {
   "cell_type": "markdown",
   "id": "ec24f855",
   "metadata": {
    "papermill": {
     "duration": 0.007942,
     "end_time": "2025-09-20T18:49:04.905103",
     "exception": false,
     "start_time": "2025-09-20T18:49:04.897161",
     "status": "completed"
    },
    "tags": []
   },
   "source": [
    "## 3. Exposure Response to Business Events\n",
    "\n",
    "Watch how exposures automatically adjust to actual business events:"
   ]
  },
  {
   "cell_type": "markdown",
   "id": "406d63f6",
   "metadata": {
    "tags": [
     "papermill-error-cell-tag"
    ]
   },
   "source": [
    "<span id=\"papermill-error-cell\" style=\"color:red; font-family:Helvetica Neue, Helvetica, Arial, sans-serif; font-size:2em;\">Execution using papermill encountered an exception here and stopped:</span>"
   ]
  },
  {
   "cell_type": "code",
   "execution_count": 4,
   "id": "abfb548a",
   "metadata": {
    "execution": {
     "iopub.execute_input": "2025-09-20T18:49:04.933861Z",
     "iopub.status.busy": "2025-09-20T18:49:04.932843Z",
     "iopub.status.idle": "2025-09-20T18:49:05.965312Z",
     "shell.execute_reply": "2025-09-20T18:49:05.963284Z"
    },
    "papermill": {
     "duration": 1.048633,
     "end_time": "2025-09-20T18:49:05.967855",
     "exception": true,
     "start_time": "2025-09-20T18:49:04.919222",
     "status": "failed"
    },
    "tags": []
   },
   "outputs": [
    {
     "name": "stdout",
     "output_type": "stream",
     "text": [
      "\n",
      "=== MAJOR LOSS EVENT ===\n"
     ]
    },
    {
     "ename": "AttributeError",
     "evalue": "'WidgetManufacturer' object has no attribute 'assets'",
     "output_type": "error",
     "traceback": [
      "\u001b[31m---------------------------------------------------------------------------\u001b[39m",
      "\u001b[31mAttributeError\u001b[39m                            Traceback (most recent call last)",
      "\u001b[36mCell\u001b[39m\u001b[36m \u001b[39m\u001b[32mIn[4]\u001b[39m\u001b[32m, line 3\u001b[39m\n\u001b[32m      1\u001b[39m \u001b[38;5;66;03m# Simulate a major loss event\u001b[39;00m\n\u001b[32m      2\u001b[39m \u001b[38;5;28mprint\u001b[39m(\u001b[33m\"\u001b[39m\u001b[38;5;130;01m\\n\u001b[39;00m\u001b[33m=== MAJOR LOSS EVENT ===\u001b[39m\u001b[33m\"\u001b[39m)\n\u001b[32m----> \u001b[39m\u001b[32m3\u001b[39m \u001b[38;5;28mprint\u001b[39m(\u001b[33mf\u001b[39m\u001b[33m\"\u001b[39m\u001b[33mBefore: Assets = $\u001b[39m\u001b[38;5;132;01m{\u001b[39;00m\u001b[43mmanufacturer\u001b[49m\u001b[43m.\u001b[49m\u001b[43massets\u001b[49m\u001b[38;5;132;01m:\u001b[39;00m\u001b[33m,.0f\u001b[39m\u001b[38;5;132;01m}\u001b[39;00m\u001b[33m\"\u001b[39m)\n\u001b[32m      5\u001b[39m \u001b[38;5;66;03m# Process a $3M claim with $500K deductible\u001b[39;00m\n\u001b[32m      6\u001b[39m company_payment, insurance_payment = manufacturer.process_insurance_claim(\n\u001b[32m      7\u001b[39m     claim_amount=\u001b[32m3_000_000\u001b[39m,\n\u001b[32m      8\u001b[39m     deductible_amount=\u001b[32m500_000\u001b[39m,\n\u001b[32m      9\u001b[39m     insurance_limit=\u001b[32m10_000_000\u001b[39m\n\u001b[32m     10\u001b[39m )\n",
      "\u001b[31mAttributeError\u001b[39m: 'WidgetManufacturer' object has no attribute 'assets'"
     ]
    }
   ],
   "source": [
    "# Simulate a major loss event\n",
    "print(\"\\n=== MAJOR LOSS EVENT ===\")\n",
    "print(f\"Before: Assets = ${manufacturer.assets:,.0f}\")\n",
    "\n",
    "# Process a $3M claim with $500K deductible\n",
    "company_payment, insurance_payment = manufacturer.process_insurance_claim(\n",
    "    claim_amount=3_000_000,\n",
    "    deductible_amount=500_000,\n",
    "    insurance_limit=10_000_000\n",
    ")\n",
    "\n",
    "print(f\"After: Assets = ${manufacturer.assets:,.0f}\")\n",
    "print(f\"Company paid: ${company_payment:,.0f}\")\n",
    "\n",
    "# Check how frequency multipliers responded\n",
    "print(\"\\nUpdated Frequency Multipliers:\")\n",
    "print(f\"  Revenue-based: {revenue_exposure.get_frequency_multiplier(0):.2f} (sqrt scaling)\")\n",
    "print(f\"  Asset-based: {asset_exposure.get_frequency_multiplier(0):.2f} (linear scaling)\")\n",
    "print(f\"  Equity-based: {equity_exposure.get_frequency_multiplier(0):.2f} (cube root scaling)\")"
   ]
  },
  {
   "cell_type": "markdown",
   "id": "f80b6473",
   "metadata": {
    "papermill": {
     "duration": null,
     "end_time": null,
     "exception": null,
     "start_time": null,
     "status": "pending"
    },
    "tags": []
   },
   "source": [
    "## 4. Dynamic Claim Generation\n",
    "\n",
    "Claims are now generated year-by-year based on the current state:"
   ]
  },
  {
   "cell_type": "code",
   "execution_count": null,
   "id": "96da2c14",
   "metadata": {
    "papermill": {
     "duration": null,
     "end_time": null,
     "exception": null,
     "start_time": null,
     "status": "pending"
    },
    "tags": []
   },
   "outputs": [],
   "source": [
    "# Create a new manufacturer for simulation\n",
    "manufacturer2 = WidgetManufacturer(config)\n",
    "exposure = AssetExposure(state_provider=manufacturer2)\n",
    "\n",
    "# Create claim generator with state-driven exposure\n",
    "generator = ClaimGenerator(\n",
    "    base_frequency=2.0,      # 2 claims/year at baseline\n",
    "    exposure_base=exposure,  # Uses state-driven exposure\n",
    "    severity_mean=200_000,\n",
    "    severity_std=100_000,\n",
    "    seed=42\n",
    ")\n",
    "\n",
    "# Simulate 10 years\n",
    "results = []\n",
    "for year in range(10):\n",
    "    # Get current state\n",
    "    current_assets = manufacturer2.assets\n",
    "    current_multiplier = exposure.get_frequency_multiplier(year)\n",
    "    \n",
    "    # Generate claims for this year based on current state\n",
    "    year_claims = generator.generate_year(year)\n",
    "    \n",
    "    # Process claims\n",
    "    total_claims = sum(claim.amount for claim in year_claims)\n",
    "    for claim in year_claims:\n",
    "        manufacturer2.process_uninsured_claim(claim.amount)\n",
    "    \n",
    "    # Business operations (growth/recovery)\n",
    "    manufacturer2.step()\n",
    "    \n",
    "    # Record results\n",
    "    results.append({\n",
    "        'Year': year,\n",
    "        'Assets_Start': current_assets,\n",
    "        'Frequency_Mult': current_multiplier,\n",
    "        'Num_Claims': len(year_claims),\n",
    "        'Total_Claims': total_claims,\n",
    "        'Assets_End': manufacturer2.assets\n",
    "    })\n",
    "\n",
    "# Display results\n",
    "df = pd.DataFrame(results)\n",
    "print(\"\\nSimulation Results:\")\n",
    "print(df[['Year', 'Assets_Start', 'Frequency_Mult', 'Num_Claims', 'Total_Claims']].to_string(index=False))"
   ]
  },
  {
   "cell_type": "markdown",
   "id": "7a4b2174",
   "metadata": {
    "papermill": {
     "duration": null,
     "end_time": null,
     "exception": null,
     "start_time": null,
     "status": "pending"
    },
    "tags": []
   },
   "source": [
    "## 5. Comparing Exposure Types\n",
    "\n",
    "Different exposure types have different scaling behaviors:"
   ]
  },
  {
   "cell_type": "code",
   "execution_count": null,
   "id": "0acfd4b7",
   "metadata": {
    "papermill": {
     "duration": null,
     "end_time": null,
     "exception": null,
     "start_time": null,
     "status": "pending"
    },
    "tags": []
   },
   "outputs": [],
   "source": [
    "# Test different scaling behaviors\n",
    "test_manufacturer = WidgetManufacturer(config)\n",
    "rev_exp = RevenueExposure(state_provider=test_manufacturer)\n",
    "asset_exp = AssetExposure(state_provider=test_manufacturer)\n",
    "equity_exp = EquityExposure(state_provider=test_manufacturer)\n",
    "\n",
    "# Simulate asset changes and track multipliers\n",
    "asset_ratios = np.linspace(0.2, 3.0, 50)\n",
    "revenue_mults = []\n",
    "asset_mults = []\n",
    "equity_mults = []\n",
    "\n",
    "initial_assets = test_manufacturer.assets\n",
    "\n",
    "for ratio in asset_ratios:\n",
    "    test_manufacturer.assets = initial_assets * ratio\n",
    "    test_manufacturer.equity = initial_assets * ratio  # Simplified: equity tracks assets\n",
    "    \n",
    "    revenue_mults.append(rev_exp.get_frequency_multiplier(0))\n",
    "    asset_mults.append(asset_exp.get_frequency_multiplier(0))\n",
    "    equity_mults.append(equity_exp.get_frequency_multiplier(0))\n",
    "\n",
    "# Plot the different scaling behaviors\n",
    "plt.figure(figsize=(10, 6))\n",
    "plt.plot(asset_ratios, revenue_mults, label='Revenue', alpha=0.6, linewidth=2)\n",
    "plt.plot(asset_ratios, asset_mults, label='Asset', alpha=0.6, linewidth=2)\n",
    "plt.plot(asset_ratios, equity_mults, label='Equity', alpha=0.6, linewidth=2)\n",
    "plt.axhline(y=1, color='gray', linestyle='--', alpha=0.5)\n",
    "plt.axvline(x=1, color='gray', linestyle='--', alpha=0.5)\n",
    "plt.xlabel('Asset Ratio (Current/Initial)')\n",
    "plt.ylabel('Frequency Multiplier')\n",
    "plt.title('Exposure Scaling Behaviors')\n",
    "plt.legend()\n",
    "plt.grid(True, alpha=0.3)\n",
    "plt.show()"
   ]
  },
  {
   "cell_type": "markdown",
   "id": "fcada536",
   "metadata": {
    "papermill": {
     "duration": null,
     "end_time": null,
     "exception": null,
     "start_time": null,
     "status": "pending"
    },
    "tags": []
   },
   "source": [
    "## 6. Practical Example: Bankruptcy Protection\n",
    "\n",
    "The state-driven system naturally handles edge cases like bankruptcy:"
   ]
  },
  {
   "cell_type": "code",
   "execution_count": null,
   "id": "60203c21",
   "metadata": {
    "papermill": {
     "duration": null,
     "end_time": null,
     "exception": null,
     "start_time": null,
     "status": "pending"
    },
    "tags": []
   },
   "outputs": [],
   "source": [
    "# Create a manufacturer near bankruptcy\n",
    "struggling_config = ManufacturerConfig(\n",
    "    initial_assets=1_000_000,  # Only $1M assets\n",
    "    asset_turnover_ratio=1.0,\n",
    "    base_operating_margin=0.05,  # Low margins\n",
    "    tax_rate=0.25,\n",
    "    retention_ratio=0.7\n",
    ")\n",
    "\n",
    "struggling_company = WidgetManufacturer(struggling_config)\n",
    "equity_exposure = EquityExposure(state_provider=struggling_company)\n",
    "\n",
    "print(\"Testing bankruptcy protection:\")\n",
    "print(f\"Initial equity: ${struggling_company.equity:,.0f}\")\n",
    "print(f\"Initial frequency multiplier: {equity_exposure.get_frequency_multiplier(0):.2f}\")\n",
    "\n",
    "# Simulate catastrophic loss\n",
    "struggling_company.process_uninsured_claim(1_500_000)\n",
    "\n",
    "print(f\"\\nAfter catastrophic loss:\")\n",
    "print(f\"Equity: ${struggling_company.equity:,.0f}\")\n",
    "print(f\"Frequency multiplier: {equity_exposure.get_frequency_multiplier(0):.2f}\")\n",
    "print(\"\\n✅ System correctly sets multiplier to 0 when insolvent!\")"
   ]
  },
  {
   "cell_type": "markdown",
   "id": "6281099c",
   "metadata": {
    "papermill": {
     "duration": null,
     "end_time": null,
     "exception": null,
     "start_time": null,
     "status": "pending"
    },
    "tags": []
   },
   "source": [
    "## 7. Migration from Old API\n",
    "\n",
    "Here's how to update code from the old artificial growth system:"
   ]
  },
  {
   "cell_type": "code",
   "execution_count": null,
   "id": "6e3b21c7",
   "metadata": {
    "papermill": {
     "duration": null,
     "end_time": null,
     "exception": null,
     "start_time": null,
     "status": "pending"
    },
    "tags": []
   },
   "outputs": [],
   "source": [
    "print(\"❌ OLD API (Don't use):\")\n",
    "print(\"\"\"exposure = RevenueExposure(\n",
    "    base_revenue=10_000_000,\n",
    "    growth_rate=0.05  # Artificial 5% growth\n",
    ")\"\"\")\n",
    "\n",
    "print(\"\\n✅ NEW API (Use this):\")\n",
    "print(\"\"\"manufacturer = WidgetManufacturer(config)\n",
    "exposure = RevenueExposure(state_provider=manufacturer)\"\"\")\n",
    "\n",
    "print(\"\\n📝 Key differences:\")\n",
    "print(\"• No artificial growth_rate parameter\")\n",
    "print(\"• Takes state_provider instead of base values\")\n",
    "print(\"• Frequency adjusts to actual business performance\")\n",
    "print(\"• Claims generated year-by-year, not pre-generated\")"
   ]
  },
  {
   "cell_type": "markdown",
   "id": "3be65e3d",
   "metadata": {
    "papermill": {
     "duration": null,
     "end_time": null,
     "exception": null,
     "start_time": null,
     "status": "pending"
    },
    "tags": []
   },
   "source": [
    "## 8. Complete Simulation Example"
   ]
  },
  {
   "cell_type": "code",
   "execution_count": null,
   "id": "cbe22d3d",
   "metadata": {
    "papermill": {
     "duration": null,
     "end_time": null,
     "exception": null,
     "start_time": null,
     "status": "pending"
    },
    "tags": []
   },
   "outputs": [],
   "source": [
    "# Full simulation with state-driven exposures\n",
    "def run_state_driven_simulation(years=20, seed=42):\n",
    "    \"\"\"Run a complete simulation with state-driven exposures.\"\"\"\n",
    "    np.random.seed(seed)\n",
    "    \n",
    "    # Setup\n",
    "    config = ManufacturerConfig(\n",
    "        initial_assets=10_000_000,\n",
    "        asset_turnover_ratio=1.2,\n",
    "        base_operating_margin=0.15,\n",
    "        tax_rate=0.25,\n",
    "        retention_ratio=0.7\n",
    "    )\n",
    "    \n",
    "    manufacturer = WidgetManufacturer(config)\n",
    "    exposure = RevenueExposure(state_provider=manufacturer)\n",
    "    \n",
    "    # Two claim generators with different severities\n",
    "    regular_gen = ClaimGenerator(\n",
    "        base_frequency=3.0,\n",
    "        exposure_base=exposure,\n",
    "        severity_mean=100_000,\n",
    "        severity_std=50_000,\n",
    "        seed=seed\n",
    "    )\n",
    "    \n",
    "    catastrophic_gen = ClaimGenerator(\n",
    "        base_frequency=0.1,\n",
    "        exposure_base=exposure,\n",
    "        severity_mean=2_000_000,\n",
    "        severity_std=1_000_000,\n",
    "        seed=seed+1\n",
    "    )\n",
    "    \n",
    "    # Track results\n",
    "    history = {\n",
    "        'year': [],\n",
    "        'assets': [],\n",
    "        'revenue': [],\n",
    "        'frequency_mult': [],\n",
    "        'claims_count': [],\n",
    "        'claims_total': []\n",
    "    }\n",
    "    \n",
    "    # Run simulation\n",
    "    for year in range(years):\n",
    "        # Record state\n",
    "        history['year'].append(year)\n",
    "        history['assets'].append(manufacturer.assets)\n",
    "        history['revenue'].append(manufacturer.current_revenue)\n",
    "        history['frequency_mult'].append(exposure.get_frequency_multiplier(year))\n",
    "        \n",
    "        # Generate claims based on current state\n",
    "        regular_claims = regular_gen.generate_year(year)\n",
    "        cat_claims = catastrophic_gen.generate_year(year)\n",
    "        all_claims = regular_claims + cat_claims\n",
    "        \n",
    "        # Process claims\n",
    "        total_claims = 0\n",
    "        for claim in all_claims:\n",
    "            total_claims += claim.amount\n",
    "            # Use insurance for large claims\n",
    "            if claim.amount > 500_000:\n",
    "                manufacturer.process_insurance_claim(\n",
    "                    claim_amount=claim.amount,\n",
    "                    deductible_amount=100_000,\n",
    "                    insurance_limit=5_000_000\n",
    "                )\n",
    "            else:\n",
    "                manufacturer.process_uninsured_claim(claim.amount)\n",
    "        \n",
    "        history['claims_count'].append(len(all_claims))\n",
    "        history['claims_total'].append(total_claims)\n",
    "        \n",
    "        # Pay insurance premium (scales with exposure)\n",
    "        premium = 200_000 * exposure.get_frequency_multiplier(year)\n",
    "        manufacturer.record_insurance_premium(premium)\n",
    "        \n",
    "        # Business operations\n",
    "        manufacturer.step()\n",
    "        \n",
    "        # Check for bankruptcy\n",
    "        if manufacturer.is_ruined:\n",
    "            print(f\"⚠️ Bankruptcy in year {year}\")\n",
    "            break\n",
    "    \n",
    "    return pd.DataFrame(history)\n",
    "\n",
    "# Run the simulation\n",
    "results = run_state_driven_simulation(years=20)\n",
    "\n",
    "# Visualize results\n",
    "fig, axes = plt.subplots(2, 2, figsize=(12, 8))\n",
    "\n",
    "# Assets over time\n",
    "axes[0, 0].plot(results['year'], results['assets']/1e6, linewidth=2)\n",
    "axes[0, 0].set_xlabel('Year')\n",
    "axes[0, 0].set_ylabel('Assets ($M)')\n",
    "axes[0, 0].set_title('Company Assets')\n",
    "axes[0, 0].grid(True, alpha=0.3)\n",
    "\n",
    "# Frequency multiplier\n",
    "axes[0, 1].plot(results['year'], results['frequency_mult'], linewidth=2, color='orange')\n",
    "axes[0, 1].axhline(y=1, color='gray', linestyle='--', alpha=0.5)\n",
    "axes[0, 1].set_xlabel('Year')\n",
    "axes[0, 1].set_ylabel('Frequency Multiplier')\n",
    "axes[0, 1].set_title('Claims Frequency Adjustment')\n",
    "axes[0, 1].grid(True, alpha=0.3)\n",
    "\n",
    "# Claims per year\n",
    "axes[1, 0].bar(results['year'], results['claims_count'], color='red', alpha=0.7)\n",
    "axes[1, 0].set_xlabel('Year')\n",
    "axes[1, 0].set_ylabel('Number of Claims')\n",
    "axes[1, 0].set_title('Annual Claim Count')\n",
    "axes[1, 0].grid(True, alpha=0.3)\n",
    "\n",
    "# Total claims amount\n",
    "axes[1, 1].bar(results['year'], results['claims_total']/1e6, color='darkred', alpha=0.7)\n",
    "axes[1, 1].set_xlabel('Year')\n",
    "axes[1, 1].set_ylabel('Total Claims ($M)')\n",
    "axes[1, 1].set_title('Annual Claim Amounts')\n",
    "axes[1, 1].grid(True, alpha=0.3)\n",
    "\n",
    "plt.suptitle('State-Driven Exposure Simulation', fontsize=14, fontweight='bold')\n",
    "plt.tight_layout()\n",
    "plt.show()\n",
    "\n",
    "# Summary statistics\n",
    "print(\"\\nSimulation Summary:\")\n",
    "print(f\"Final assets: ${results['assets'].iloc[-1]:,.0f}\")\n",
    "print(f\"Average frequency multiplier: {results['frequency_mult'].mean():.2f}\")\n",
    "print(f\"Total claims: {results['claims_count'].sum()}\")\n",
    "print(f\"Average claims/year: {results['claims_count'].mean():.1f}\")"
   ]
  },
  {
   "cell_type": "markdown",
   "id": "0f717b20",
   "metadata": {
    "papermill": {
     "duration": null,
     "end_time": null,
     "exception": null,
     "start_time": null,
     "status": "pending"
    },
    "tags": []
   },
   "source": [
    "## Key Takeaways\n",
    "\n",
    "1. **State-Driven**: Exposures track actual financial state, not projections\n",
    "2. **Dynamic Adaptation**: Claim frequency automatically adjusts to business performance\n",
    "3. **Protocol-Based**: Clean separation between exposure logic and business logic\n",
    "4. **Ergodic Alignment**: True time-average behavior without ensemble assumptions\n",
    "5. **Edge Case Handling**: Natural handling of bankruptcy and recovery scenarios\n",
    "\n",
    "The state-driven exposure system provides more realistic and responsive risk modeling that aligns with ergodic theory principles."
   ]
  }
 ],
 "metadata": {
  "kernelspec": {
   "display_name": ".venv",
   "language": "python",
   "name": "python3"
  },
  "language_info": {
   "codemirror_mode": {
    "name": "ipython",
    "version": 3
   },
   "file_extension": ".py",
   "mimetype": "text/x-python",
   "name": "python",
   "nbconvert_exporter": "python",
   "pygments_lexer": "ipython3",
   "version": "3.12.10"
  },
  "papermill": {
   "default_parameters": {},
   "duration": 7.639813,
   "end_time": "2025-09-20T18:49:06.990766",
   "environment_variables": {},
   "exception": true,
   "input_path": "30_state_driven_exposures.ipynb",
   "output_path": "results_20250920_143059\\executed_30_state_driven_exposures.ipynb",
   "parameters": {},
   "start_time": "2025-09-20T18:48:59.350953",
   "version": "2.6.0"
  }
 },
 "nbformat": 4,
 "nbformat_minor": 5
}
