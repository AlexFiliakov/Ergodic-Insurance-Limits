{
 "cells": [
  {
   "cell_type": "markdown",
   "metadata": {},
   "source": [
    "# Configuration Migration Example\n",
    "\n",
    "This notebook demonstrates how to migrate from the old configuration system to the new ConfigManager.\n",
    "\n",
    "## Old Way (Deprecated)\n",
    "The old system used direct imports and manual configuration creation:"
   ]
  },
  {
   "cell_type": "code",
   "execution_count": null,
   "metadata": {},
   "outputs": [
    {
     "name": "stdout",
     "output_type": "stream",
     "text": [
      "Old way - Assets: $10,000,000\n"
     ]
    }
   ],
   "source": [
    "# OLD WAY - Direct configuration import (deprecated)\n",
    "import sys\n",
    "from pathlib import Path\n",
    "\n",
    "# Add parent src directory to path for imports\n",
    "sys.path.insert(0, str(Path().absolute().parent / 'src'))\n",
    "\n",
    "from config import ManufacturerConfig\n",
    "from manufacturer import WidgetManufacturer\n",
    "\n",
    "# Manual configuration\n",
    "config = ManufacturerConfig(\n",
    "    initial_assets=10_000_000,\n",
    "    asset_turnover_ratio=1.0,\n",
    "    base_operating_margin=0.08,\n",
    "    tax_rate=0.25,\n",
    "    retention_ratio=1.0\n",
    ")\n",
    "\n",
    "manufacturer = WidgetManufacturer(config)\n",
    "print(f\"Old way - Assets: ${manufacturer.assets:,.0f}\")"
   ]
  },
  {
   "cell_type": "markdown",
   "metadata": {},
   "source": [
    "## New Way (Recommended)\n",
    "The new system uses ConfigManager with profiles, modules, and presets:"
   ]
  },
  {
   "cell_type": "code",
   "execution_count": 2,
   "metadata": {},
   "outputs": [
    {
     "name": "stdout",
     "output_type": "stream",
     "text": [
      "New way - Assets: $10,000,000\n",
      "Profile: default\n",
      "Description: Standard baseline configuration for widget manufacturer\n"
     ]
    }
   ],
   "source": [
    "# NEW WAY - Using ConfigManager (recommended)\n",
    "import sys\n",
    "from pathlib import Path\n",
    "\n",
    "# Add parent src directory to path for imports\n",
    "sys.path.insert(0, str(Path().absolute().parent / 'src'))\n",
    "\n",
    "from config_manager import ConfigManager\n",
    "from manufacturer import WidgetManufacturer\n",
    "\n",
    "# Load configuration from profile\n",
    "manager = ConfigManager()\n",
    "config = manager.load_profile(\"default\")\n",
    "\n",
    "# Access manufacturer config\n",
    "manufacturer = WidgetManufacturer(config.manufacturer)\n",
    "print(f\"New way - Assets: ${manufacturer.assets:,.0f}\")\n",
    "print(f\"Profile: {config.profile.name}\")\n",
    "print(f\"Description: {config.profile.description}\")"
   ]
  },
  {
   "cell_type": "markdown",
   "metadata": {},
   "source": [
    "## Benefits of the New System\n",
    "\n",
    "### 1. Profile Variants\n",
    "Easily switch between predefined configurations:"
   ]
  },
  {
   "cell_type": "code",
   "execution_count": null,
   "metadata": {},
   "outputs": [
    {
     "name": "stdout",
     "output_type": "stream",
     "text": [
      "\n",
      "DEFAULT Profile:\n",
      "  Operating margin: 10.0%\n",
      "  Tax rate: 25.0%\n",
      "  Growth rate: 12.0%\n",
      "\n",
      "CONSERVATIVE Profile:\n",
      "  Operating margin: 6.0%\n",
      "  Tax rate: 28.0%\n",
      "  Growth rate: 3.0%\n",
      "\n",
      "AGGRESSIVE Profile:\n",
      "  Operating margin: 12.0%\n",
      "  Tax rate: 21.0%\n",
      "  Growth rate: 8.0%\n"
     ]
    }
   ],
   "source": [
    "# Load different profiles\n",
    "profiles = [\"default\", \"conservative\", \"aggressive\"]\n",
    "\n",
    "for profile_name in profiles:\n",
    "    config = manager.load_profile(profile_name)\n",
    "    print(f\"\\n{profile_name.upper()} Profile:\")\n",
    "    print(f\"  Base operating margin: {config.manufacturer.base_operating_margin:.1%}\")\n",
    "    print(f\"  Tax rate: {config.manufacturer.tax_rate:.1%}\")\n",
    "    print(f\"  Growth rate: {config.growth.annual_growth_rate:.1%}\")"
   ]
  },
  {
   "cell_type": "markdown",
   "metadata": {},
   "source": [
    "### 2. Runtime Overrides\n",
    "Override specific parameters without changing files:"
   ]
  },
  {
   "cell_type": "code",
   "execution_count": null,
   "metadata": {},
   "outputs": [
    {
     "name": "stdout",
     "output_type": "stream",
     "text": [
      "Configuration with overrides:\n",
      "  Operating margin: 12.0% (overridden)\n",
      "  Growth rate: 15.0% (overridden)\n",
      "  Tax rate: 25.0% (default)\n"
     ]
    }
   ],
   "source": [
    "# Override specific parameters using double underscore notation\n",
    "config = manager.load_profile(\n",
    "    \"default\",\n",
    "    manufacturer__operating_margin=0.12,\n",
    "    growth__annual_growth_rate=0.15\n",
    ")\n",
    "\n",
    "print(\"Configuration with overrides:\")\n",
    "print(f\"  Base operating margin: {config.manufacturer.base_operating_margin:.1%} (overridden)\")\n",
    "print(f\"  Growth rate: {config.growth.annual_growth_rate:.1%} (overridden)\")\n",
    "print(f\"  Tax rate: {config.manufacturer.tax_rate:.1%} (default)\")"
   ]
  },
  {
   "cell_type": "markdown",
   "metadata": {},
   "source": [
    "### 3. Presets for Common Scenarios\n",
    "Apply predefined market conditions or risk scenarios:"
   ]
  },
  {
   "cell_type": "code",
   "execution_count": 5,
   "metadata": {},
   "outputs": [
    {
     "name": "stdout",
     "output_type": "stream",
     "text": [
      "Market Condition Presets:\n",
      "  Default growth volatility: 0.0\n",
      "  Growth type: deterministic\n",
      "\n",
      "Growth Presets:\n",
      "  Growth scenario - Annual rate: 12.0%\n",
      "  Recession scenario - Annual rate: 12.0%\n",
      "\n",
      "With growth preset applied:\n",
      "  Annual growth rate: 12.0%\n",
      "  Growth type: deterministic\n"
     ]
    }
   ],
   "source": [
    "# Apply market condition presets\n",
    "config_stable = manager.load_profile(\"default\", presets=[\"stable\"])\n",
    "config_volatile = manager.load_profile(\"default\", presets=[\"volatile\"])\n",
    "\n",
    "print(\"Market Condition Presets:\")\n",
    "# Note: The presets attempt to set revenue_volatility on ManufacturerConfig, \n",
    "# but this attribute doesn't exist in the current schema.\n",
    "# Instead, volatility is part of the GrowthConfig\n",
    "print(f\"  Default growth volatility: {config_stable.growth.volatility}\")\n",
    "print(f\"  Growth type: {config_stable.growth.type}\")\n",
    "\n",
    "# Apply growth preset which correctly modifies the growth config\n",
    "config_growth = manager.load_profile(\"default\", presets=[\"growth\"])\n",
    "config_recession = manager.load_profile(\"default\", presets=[\"recession\"])\n",
    "\n",
    "print(\"\\nGrowth Presets:\")\n",
    "print(f\"  Growth scenario - Annual rate: {config_growth.growth.annual_growth_rate:.1%}\")\n",
    "print(f\"  Recession scenario - Annual rate: {config_recession.growth.annual_growth_rate:.1%}\")\n",
    "\n",
    "# Apply multiple presets\n",
    "config = manager.load_profile(\n",
    "    \"default\",\n",
    "    presets=[\"growth\"]\n",
    ")\n",
    "print(\"\\nWith growth preset applied:\")\n",
    "print(f\"  Annual growth rate: {config.growth.annual_growth_rate:.1%}\")\n",
    "print(f\"  Growth type: {config.growth.type}\")"
   ]
  },
  {
   "cell_type": "markdown",
   "metadata": {},
   "source": [
    "### 4. Module Composition\n",
    "Load only the modules you need:"
   ]
  },
  {
   "cell_type": "code",
   "execution_count": 6,
   "metadata": {},
   "outputs": [
    {
     "name": "stdout",
     "output_type": "stream",
     "text": [
      "Loaded modules:\n",
      "  Insurance: False\n",
      "  Stochastic: False\n",
      "  Losses: False\n"
     ]
    }
   ],
   "source": [
    "# Load specific modules only\n",
    "config = manager.load_profile(\n",
    "    \"default\",\n",
    "    modules=[\"insurance\", \"stochastic\"]\n",
    ")\n",
    "\n",
    "print(\"Loaded modules:\")\n",
    "print(f\"  Insurance: {hasattr(config, 'insurance') and config.insurance is not None}\")\n",
    "print(f\"  Stochastic: {hasattr(config, 'stochastic') and config.stochastic is not None}\")\n",
    "print(f\"  Losses: {hasattr(config, 'losses') and config.losses is not None}\")"
   ]
  },
  {
   "cell_type": "markdown",
   "metadata": {},
   "source": [
    "## Migration Checklist\n",
    "\n",
    "When updating your notebooks:\n",
    "\n",
    "1. ✅ Replace `from src.config import ManufacturerConfig` with `from src.config_manager import ConfigManager`\n",
    "2. ✅ Load configurations using `manager.load_profile()` instead of manual creation\n",
    "3. ✅ Access sub-configurations through the loaded config (e.g., `config.manufacturer`)\n",
    "4. ✅ Use profile names: `\"default\"` instead of `\"baseline\"`, `\"aggressive\"` instead of `\"optimistic\"`\n",
    "5. ✅ Leverage presets and overrides instead of modifying YAML files\n",
    "\n",
    "## Backward Compatibility\n",
    "\n",
    "The old ConfigLoader still works but shows deprecation warnings:"
   ]
  },
  {
   "cell_type": "code",
   "execution_count": null,
   "metadata": {},
   "outputs": [
    {
     "name": "stdout",
     "output_type": "stream",
     "text": [
      "ConfigLoader still works for backward compatibility\n",
      "Manufacturer margin: 10.0%\n"
     ]
    },
    {
     "name": "stderr",
     "output_type": "stream",
     "text": [
      "C:\\Users\\alexf\\AppData\\Local\\Temp\\ipykernel_34568\\912590151.py:5: DeprecationWarning: ConfigLoader is deprecated. Please migrate to ConfigManager for improved functionality.\n",
      "  config = loader.load(\"baseline\")  # Shows deprecation warning\n"
     ]
    }
   ],
   "source": [
    "# This still works but is deprecated\n",
    "from config_loader import ConfigLoader\n",
    "\n",
    "loader = ConfigLoader()\n",
    "config = loader.load(\"baseline\")  # Shows deprecation warning\n",
    "\n",
    "print(\"ConfigLoader still works for backward compatibility\")\n",
    "print(f\"Manufacturer base margin: {config.manufacturer.base_operating_margin:.1%}\")"
   ]
  },
  {
   "cell_type": "markdown",
   "metadata": {},
   "source": [
    "## Summary\n",
    "\n",
    "The new ConfigManager provides:\n",
    "- **Cleaner code**: Load complete configurations with one line\n",
    "- **Flexibility**: Override parameters at runtime\n",
    "- **Reusability**: Use profiles and presets across notebooks\n",
    "- **Performance**: Built-in caching for faster loads\n",
    "- **Maintainability**: Centralized configuration management\n",
    "\n",
    "See `migration_guide.md` for complete documentation."
   ]
  }
 ],
 "metadata": {
  "kernelspec": {
   "display_name": ".venv",
   "language": "python",
   "name": "python3"
  },
  "language_info": {
   "codemirror_mode": {
    "name": "ipython",
    "version": 3
   },
   "file_extension": ".py",
   "mimetype": "text/x-python",
   "name": "python",
   "nbconvert_exporter": "python",
   "pygments_lexer": "ipython3",
   "version": "3.12.10"
  }
 },
 "nbformat": 4,
 "nbformat_minor": 2
}
