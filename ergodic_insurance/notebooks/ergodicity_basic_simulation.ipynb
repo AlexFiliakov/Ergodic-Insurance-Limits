{
 "cells": [
  {
   "cell_type": "markdown",
   "id": "ef2229a8",
   "metadata": {},
   "source": [
    "# Basic Risk Frontier\n",
    "\n",
    "Future enhancements:\n",
    "- Consider trends and discounting"
   ]
  },
  {
   "cell_type": "code",
   "execution_count": 1,
   "id": "e455cffe",
   "metadata": {},
   "outputs": [],
   "source": [
    "# Import required libraries\n",
    "import numpy as np\n",
    "import pandas as pd\n",
    "import matplotlib.pyplot as plt\n",
    "import seaborn as sns\n",
    "from typing import List, Dict, Any\n",
    "import warnings\n",
    "import sys\n",
    "from pathlib import Path\n",
    "warnings.filterwarnings('ignore')\n",
    "\n",
    "# Set plotting style\n",
    "plt.style.use('seaborn-v0_8-darkgrid')\n",
    "sns.set_palette(\"husl\")\n",
    "\n",
    "from ergodic_insurance.config import ManufacturerConfig\n",
    "from ergodic_insurance.manufacturer import WidgetManufacturer\n",
    "from ergodic_insurance.exposure_base import RevenueExposure\n",
    "from ergodic_insurance.insurance import InsurancePolicy, InsuranceLayer\n",
    "from ergodic_insurance.simulation import Simulation, SimulationResults\n",
    "from ergodic_insurance.ergodic_analyzer import ErgodicAnalyzer\n",
    "from ergodic_insurance.loss_distributions import ManufacturingLossGenerator\n",
    "from ergodic_insurance.insurance_program import EnhancedInsuranceLayer, InsuranceProgram"
   ]
  },
  {
   "cell_type": "markdown",
   "id": "c2b134eb",
   "metadata": {},
   "source": [
    "## Define the Corporate Profile"
   ]
  },
  {
   "cell_type": "code",
   "execution_count": null,
   "id": "f1d8a3b2",
   "metadata": {},
   "outputs": [],
   "source": [
    "INITIAL_ASSETS = 10_000_000\n",
    "ASSET_TURNOVER_RATIO = 1.0  # Revenue = Assets × Turnover\n",
    "EBITA_MARGIN_TARGET = 0.05  # EBITA after claims and insurance\n",
    "DEDUCTIBLE = 50_000\n",
    "LOSS_RATIO = 0.70\n",
    "\n",
    "# Create manufacturer configuration\n",
    "manufacturer_config = ManufacturerConfig(\n",
    "    initial_assets=INITIAL_ASSETS,\n",
    "    asset_turnover_ratio=ASSET_TURNOVER_RATIO,  # Revenue = Assets × Turnover\n",
    "    base_operating_margin=0.10,  # EBITA before claims and insurance (need to calibrate)\n",
    "    tax_rate=0.25,  # Current US Tax Rate\n",
    "    retention_ratio=0.70,  # 30% dividends\n",
    "    ppe_ratio=0.00,  # 0% of assets in PPE, so there is no depreciation expense\n",
    ")\n",
    "\n",
    "# Create widget manufacturer\n",
    "base_manufacturer = WidgetManufacturer(manufacturer_config)\n",
    "\n",
    "# Create exposure base based on revenue\n",
    "exposure = RevenueExposure(state_provider=base_manufacturer)\n"
   ]
  },
  {
   "cell_type": "markdown",
   "id": "61b541de",
   "metadata": {},
   "source": [
    "## Define Losses"
   ]
  },
  {
   "cell_type": "code",
   "execution_count": null,
   "id": "99f3fe50",
   "metadata": {
    "notebookRunGroups": {
     "groupValue": "1"
    }
   },
   "outputs": [],
   "source": [
    "cur_revenue = base_manufacturer.total_assets * base_manufacturer.asset_turnover_ratio\n",
    "\n",
    "# Calibrate claim generator for EBITA of 5%\n",
    "target_ebita_margin = 0.05\n",
    "\n",
    "generator = ManufacturingLossGenerator(\n",
    "    attritional_params={\n",
    "        'base_frequency': 2.85,\n",
    "        'severity_mean': 40_000,\n",
    "        'severity_cv': 0.8,\n",
    "        'revenue_scaling_exponent': 1.0,\n",
    "        'reference_revenue': cur_revenue\n",
    "    },\n",
    "    large_params={\n",
    "        'base_frequency': 0.20,\n",
    "        'severity_mean': 500_000,\n",
    "        'severity_cv': 1.5,\n",
    "        'revenue_scaling_exponent': 1.0,\n",
    "        'reference_revenue': cur_revenue\n",
    "    },\n",
    "    catastrophic_params={\n",
    "        'base_frequency': 0.02,\n",
    "        'severity_xm': 5_000_000,\n",
    "        'severity_alpha': 2.5,\n",
    "        'revenue_scaling_exponent': 1.0,\n",
    "        'reference_revenue': cur_revenue\n",
    "    },\n",
    "    seed=42\n",
    ")"
   ]
  },
  {
   "cell_type": "code",
   "execution_count": 4,
   "id": "a38d5abf",
   "metadata": {},
   "outputs": [],
   "source": [
    "deductible = DEDUCTIBLE\n",
    "policy_limit = 100_000_000\n"
   ]
  },
  {
   "cell_type": "markdown",
   "id": "19d3f753",
   "metadata": {},
   "source": [
    "## Estimate Premium Assuming Perfect Distributional Knowledge"
   ]
  },
  {
   "cell_type": "code",
   "execution_count": null,
   "id": "3b480ae6",
   "metadata": {},
   "outputs": [
    {
     "name": "stdout",
     "output_type": "stream",
     "text": [
      "Average Annual Insured Loss: $44,394\n",
      "Average Annual Retained Loss: $83,579\n"
     ]
    }
   ],
   "source": [
    "pricing_simulation_years = 500_000\n",
    "\n",
    "total_insured_loss = 0.0\n",
    "insured_loss_list = []\n",
    "\n",
    "total_retained_loss = 0.0\n",
    "retained_loss_list = []\n",
    "\n",
    "for yr in range(pricing_simulation_years):\n",
    "    loss_events, loss_meta = generator.generate_losses(duration=1, revenue=base_manufacturer.base_revenue)\n",
    "    for loss_event in loss_events:\n",
    "        insured_loss = max(min(loss_event.amount, policy_limit) - deductible,0)\n",
    "        \n",
    "        total_insured_loss += insured_loss\n",
    "        insured_loss_list.append(insured_loss)\n",
    "\n",
    "        retained_loss = loss_event.amount - insured_loss\n",
    "        total_retained_loss += retained_loss\n",
    "        retained_loss_list.append(retained_loss)\n",
    "\n",
    "average_annual_insured_loss = total_insured_loss / pricing_simulation_years\n",
    "average_annual_retained_loss = total_retained_loss / pricing_simulation_years\n",
    "print(f\"Average Annual Insured Loss: ${average_annual_insured_loss:,.0f}\")\n",
    "print(f\"Average Annual Retained Loss: ${average_annual_retained_loss:,.0f}\")"
   ]
  },
  {
   "cell_type": "code",
   "execution_count": 6,
   "id": "99d7aeaf",
   "metadata": {},
   "outputs": [
    {
     "name": "stdout",
     "output_type": "stream",
     "text": [
      "Ground-Up Excess Kurtosis: 20.81\n"
     ]
    }
   ],
   "source": [
    "ground_up_losses = np.asarray(insured_loss_list, dtype=float) + np.asarray(retained_loss_list, dtype=float)\n",
    "EXCESS_KURTOSIS = pd.Series(ground_up_losses).kurtosis()\n",
    "print(f\"Ground-Up Excess Kurtosis: {EXCESS_KURTOSIS:.2f}\")"
   ]
  },
  {
   "cell_type": "code",
   "execution_count": 7,
   "id": "6f50093d",
   "metadata": {},
   "outputs": [
    {
     "name": "stdout",
     "output_type": "stream",
     "text": [
      "Total observations: 28\n",
      "Zero (below deductible) count: 23 (82.1%)\n",
      "Positive insured losses: 5\n",
      "Mean positive loss: 88,788\n",
      "Median positive loss: 41,172\n",
      "95th percentile: 262,384\n",
      "99th percentile: 305,891\n",
      "Max loss (capped): 316,768\n"
     ]
    },
    {
     "data": {
      "image/png": "[encoded data removed]",
      "text/plain": [
       "<Figure size 900x1200 with 3 Axes>"
      ]
     },
     "metadata": {},
     "output_type": "display_data"
    }
   ],
   "source": [
    "# Plot distribution of insured losses from loss_list\n",
    "\n",
    "loss_array = np.asarray(insured_loss_list, dtype=float)\n",
    "\n",
    "# Basic summary\n",
    "zero_count = np.sum(loss_array == 0)\n",
    "positive_losses = loss_array[loss_array > 0]\n",
    "print(f\"Total observations: {loss_array.size:,}\")\n",
    "print(f\"Zero (below deductible) count: {zero_count:,} ({zero_count / loss_array.size:.1%})\")\n",
    "print(f\"Positive insured losses: {positive_losses.size:,}\")\n",
    "if positive_losses.size:\n",
    "    print(f\"Mean positive loss: {positive_losses.mean():,.0f}\")\n",
    "    print(f\"Median positive loss: {np.median(positive_losses):,.0f}\")\n",
    "    print(f\"95th percentile: {np.percentile(positive_losses,95):,.0f}\")\n",
    "    print(f\"99th percentile: {np.percentile(positive_losses,99):,.0f}\")\n",
    "    print(f\"Max loss (capped): {positive_losses.max():,.0f}\")\n",
    "\n",
    "# Optional down-sample for plotting heavy tails\n",
    "max_points = 200_000\n",
    "if positive_losses.size > max_points:\n",
    "    rng = np.random.default_rng(42)\n",
    "    sample_idx = rng.choice(positive_losses.size, size=max_points, replace=False)\n",
    "    plot_positive = positive_losses[sample_idx]\n",
    "else:\n",
    "    plot_positive = positive_losses\n",
    "\n",
    "fig, axes = plt.subplots(3, 1, figsize=(9, 12))\n",
    "\n",
    "# Zero vs positive\n",
    "axes[0].bar(['Zero','> 0'], [zero_count, positive_losses.size], color=['#888','#1f77b4'])\n",
    "axes[0].set_title('Zero vs Positive Insured Loss Counts')\n",
    "axes[0].set_ylabel('Count')\n",
    "\n",
    "# Histogram (linear scale, truncated upper tail to 99.5% for visibility)\n",
    "if positive_losses.size:\n",
    "    upper_cut = np.percentile(plot_positive, 99.5)\n",
    "    sns.histplot(plot_positive[plot_positive <= upper_cut],\n",
    "                 bins=50, ax=axes[1], color='#1f77b4')\n",
    "    axes[1].set_title('Insured Losses (<= 99.5th pct)')\n",
    "    axes[1].set_xlabel('Loss Amount')\n",
    "\n",
    "# Histogram (log x scale for tail)\n",
    "if positive_losses.size:\n",
    "    sns.histplot(plot_positive, bins=100, ax=axes[2], color='#ff7f0e')\n",
    "    axes[2].set_xscale('log')\n",
    "    axes[2].set_title('Insured Losses (Log X Scale)')\n",
    "    axes[2].set_xlabel('Loss Amount (log scale)')\n",
    "\n",
    "fig.suptitle('Distribution of Insured Losses', fontsize=14, y=1.02)\n",
    "plt.tight_layout()\n",
    "plt.show()"
   ]
  },
  {
   "cell_type": "code",
   "execution_count": 8,
   "id": "732452d5",
   "metadata": {},
   "outputs": [
    {
     "name": "stdout",
     "output_type": "stream",
     "text": [
      "Annual Premium: $63,420\n",
      "Total Annual Cost of Risk: $146,999\n"
     ]
    }
   ],
   "source": [
    "loss_ratio = LOSS_RATIO\n",
    "\n",
    "annual_premium = average_annual_insured_loss / loss_ratio\n",
    "print(f\"Annual Premium: ${annual_premium:,.0f}\")\n",
    "\n",
    "total_cost_of_risk = annual_premium + average_annual_retained_loss\n",
    "print(f\"Total Annual Cost of Risk: ${total_cost_of_risk:,.0f}\")"
   ]
  },
  {
   "cell_type": "code",
   "execution_count": 9,
   "id": "eaa2b272",
   "metadata": {},
   "outputs": [
    {
     "data": {
      "text/plain": [
       "639750.7551838651"
      ]
     },
     "execution_count": 9,
     "metadata": {},
     "output_type": "execute_result"
    }
   ],
   "source": [
    "cur_operating_income = base_manufacturer.calculate_operating_income(cur_revenue)\n",
    "\n",
    "cur_net_income = base_manufacturer.calculate_net_income(\n",
    "                    operating_income=cur_operating_income,\n",
    "                    collateral_costs=0.0,\n",
    "                    insurance_premiums=annual_premium,\n",
    "                    insurance_losses=average_annual_retained_loss,\n",
    "                    use_accrual=True,\n",
    "                    time_resolution=\"annual\",\n",
    "                )\n",
    "\n",
    "cur_net_income"
   ]
  },
  {
   "cell_type": "code",
   "execution_count": 10,
   "id": "df8fc0d6",
   "metadata": {},
   "outputs": [
    {
     "data": {
      "text/plain": [
       "375000.0"
      ]
     },
     "execution_count": 10,
     "metadata": {},
     "output_type": "execute_result"
    }
   ],
   "source": [
    "target_net_income = base_manufacturer.base_revenue * target_ebita_margin * (1 - base_manufacturer.tax_rate)\n",
    "target_net_income\n"
   ]
  },
  {
   "cell_type": "code",
   "execution_count": 11,
   "id": "9944fa91",
   "metadata": {},
   "outputs": [],
   "source": [
    "net_margin_diff = abs(cur_net_income - target_net_income) / cur_revenue\n",
    "\n",
    "# assert net_margin_diff < 0.0005, f\"Net income not within 0.05% of target ({net_margin_diff:.2%} difference)\""
   ]
  },
  {
   "cell_type": "code",
   "execution_count": 12,
   "id": "757d16f0",
   "metadata": {},
   "outputs": [
    {
     "name": "stdout",
     "output_type": "stream",
     "text": [
      "Net Margin after insurance: 6.40%\n",
      "EBITA Margin after insurance: 8.53%\n"
     ]
    }
   ],
   "source": [
    "net_margin = cur_net_income / cur_revenue\n",
    "print(f\"Net Margin after insurance: {net_margin:.2%}\")\n",
    "print(f\"EBITA Margin after insurance: {net_margin / (1 - base_manufacturer.tax_rate):.2%}\")"
   ]
  },
  {
   "cell_type": "markdown",
   "id": "b13ad6ca",
   "metadata": {},
   "source": [
    "## Define the Insurance Program"
   ]
  },
  {
   "cell_type": "code",
   "execution_count": 13,
   "id": "863ef28f",
   "metadata": {},
   "outputs": [],
   "source": [
    "\n",
    "all_layers = EnhancedInsuranceLayer(\n",
    "                attachment_point=deductible,\n",
    "                limit=policy_limit,\n",
    "                limit_type='per-occurrence',\n",
    "                base_premium_rate=annual_premium / policy_limit\n",
    "            )\n",
    "\n",
    "program = InsuranceProgram([all_layers])"
   ]
  },
  {
   "cell_type": "code",
   "execution_count": 14,
   "id": "b34b4886",
   "metadata": {},
   "outputs": [
    {
     "data": {
      "text/plain": [
       "np.float64(63419.94114117761)"
      ]
     },
     "execution_count": 14,
     "metadata": {},
     "output_type": "execute_result"
    }
   ],
   "source": [
    "total_premium = program.calculate_annual_premium()\n",
    "total_premium"
   ]
  },
  {
   "cell_type": "markdown",
   "id": "642ad433",
   "metadata": {},
   "source": [
    "## Begin the Study\n",
    "- Run 50 years, repricing each time\n",
    "  - Adjust premium appropriately to reflect loss costs\n",
    "- Study results\n",
    "- Set up additional parameters\n",
    "- Study aggregate results and frontiers"
   ]
  },
  {
   "cell_type": "markdown",
   "id": "ddc7685d",
   "metadata": {},
   "source": [
    "### Define the Business Financials"
   ]
  },
  {
   "cell_type": "code",
   "execution_count": 15,
   "id": "5cded72a",
   "metadata": {},
   "outputs": [
    {
     "name": "stdout",
     "output_type": "stream",
     "text": [
      "Average Annual Insured Loss: $274,793\n",
      "Average Annual Retained Loss: $104,245\n",
      "Annual Premium: $392,561\n",
      "Total Annual Cost of Risk: $496,806\n",
      "Net Margin after insurance: 3.77%\n",
      "EBITA Margin after insurance: 5.03%\n"
     ]
    }
   ],
   "source": [
    "# Create manufacturer configuration\n",
    "manufacturer_config = ManufacturerConfig(\n",
    "    initial_assets=INITIAL_ASSETS,\n",
    "    asset_turnover_ratio=ASSET_TURNOVER_RATIO,  # Revenue = Assets × Turnover\n",
    "    base_operating_margin=0.10,  # EBITA before claims and insurance (need to calibrate)\n",
    "    tax_rate=0.25,  # Current US Tax Rate\n",
    "    retention_ratio=0.70,  # 30% dividends\n",
    "    ppe_ratio=0.00,  # 0% of assets in PPE, so there is no depreciation expense\n",
    ")\n",
    "\n",
    "# Create widget manufacturer\n",
    "base_manufacturer = WidgetManufacturer(manufacturer_config)\n",
    "\n",
    "# Create exposure base based on revenue\n",
    "exposure = RevenueExposure(state_provider=base_manufacturer)\n",
    "\n",
    "cur_revenue = base_manufacturer.total_assets * base_manufacturer.asset_turnover_ratio\n",
    "\n",
    "# Calibrate claim generator for EBITA of 5%\n",
    "target_ebita_margin = 0.05\n",
    "\n",
    "generator = ManufacturingLossGenerator(\n",
    "    attritional_params={\n",
    "        'base_frequency': 2.85,\n",
    "        'severity_mean': 40_000,\n",
    "        'severity_cv': 0.8,\n",
    "        'revenue_scaling_exponent': 1.0,\n",
    "        'reference_revenue': cur_revenue\n",
    "    },\n",
    "    large_params={\n",
    "        'base_frequency': 0.20,\n",
    "        'severity_mean': 500_000,\n",
    "        'severity_cv': 1.5,\n",
    "        'revenue_scaling_exponent': 1.0,\n",
    "        'reference_revenue': cur_revenue\n",
    "    },\n",
    "    catastrophic_params={\n",
    "        'base_frequency': 0.02,\n",
    "        'severity_xm': 5_000_000,\n",
    "        'severity_alpha': 2.5,\n",
    "        'revenue_scaling_exponent': 1.0,\n",
    "        'reference_revenue': cur_revenue\n",
    "    },\n",
    "    seed=42\n",
    ")\n",
    "\n",
    "deductible = 50_000\n",
    "policy_limit = 40_000_000\n",
    "\n",
    "pricing_simulation_years = 500_000\n",
    "\n",
    "total_insured_loss = 0.0\n",
    "insured_loss_list = []\n",
    "\n",
    "total_retained_loss = 0.0\n",
    "retained_loss_list = []\n",
    "\n",
    "for yr in range(pricing_simulation_years):\n",
    "    loss_events, loss_meta = generator.generate_losses(duration=1, revenue=base_manufacturer.base_revenue)\n",
    "    for loss_event in loss_events:\n",
    "        insured_loss = max(min(loss_event.amount, policy_limit) - deductible,0)\n",
    "        \n",
    "        total_insured_loss += insured_loss\n",
    "        insured_loss_list.append(insured_loss)\n",
    "\n",
    "        retained_loss = loss_event.amount - insured_loss\n",
    "        total_retained_loss += retained_loss\n",
    "        retained_loss_list.append(retained_loss)\n",
    "\n",
    "average_annual_insured_loss = total_insured_loss / pricing_simulation_years\n",
    "average_annual_retained_loss = total_retained_loss / pricing_simulation_years\n",
    "print(f\"Average Annual Insured Loss: ${average_annual_insured_loss:,.0f}\")\n",
    "print(f\"Average Annual Retained Loss: ${average_annual_retained_loss:,.0f}\")\n",
    "\n",
    "loss_ratio = 0.70\n",
    "\n",
    "annual_premium = average_annual_insured_loss / loss_ratio\n",
    "print(f\"Annual Premium: ${annual_premium:,.0f}\")\n",
    "\n",
    "total_cost_of_risk = annual_premium + average_annual_retained_loss\n",
    "print(f\"Total Annual Cost of Risk: ${total_cost_of_risk:,.0f}\")\n",
    "\n",
    "cur_operating_income = base_manufacturer.calculate_operating_income(cur_revenue)\n",
    "\n",
    "cur_net_income = base_manufacturer.calculate_net_income(\n",
    "                    operating_income=cur_operating_income,\n",
    "                    collateral_costs=0.0,\n",
    "                    insurance_premiums=annual_premium,\n",
    "                    insurance_losses=average_annual_retained_loss,\n",
    "                    use_accrual=True,\n",
    "                    time_resolution=\"annual\",\n",
    "                )\n",
    "\n",
    "cur_net_income\n",
    "\n",
    "target_net_income = base_manufacturer.base_revenue * target_ebita_margin * (1 - base_manufacturer.tax_rate)\n",
    "target_net_income\n",
    "\n",
    "net_margin_diff = abs(cur_net_income - target_net_income) / cur_revenue\n",
    "\n",
    "# assert net_margin_diff < 0.0005, f\"Net income not within 0.05% of target ({net_margin_diff:.2%} difference)\"\n",
    "\n",
    "net_margin = cur_net_income / cur_revenue\n",
    "print(f\"Net Margin after insurance: {net_margin:.2%}\")\n",
    "print(f\"EBITA Margin after insurance: {net_margin / (1 - base_manufacturer.tax_rate):.2%}\")"
   ]
  },
  {
   "cell_type": "markdown",
   "id": "e3cb442c",
   "metadata": {},
   "source": [
    "### Define the Insurance Program"
   ]
  },
  {
   "cell_type": "code",
   "execution_count": null,
   "id": "474e753b",
   "metadata": {},
   "outputs": [
    {
     "name": "stdout",
     "output_type": "stream",
     "text": [
      "Total Program Premium: $392,560.96\n"
     ]
    }
   ],
   "source": [
    "from ergodic_insurance.insurance_pricing import InsurancePricer, PricingParameters\n",
    "\n",
    "policy_pricer = InsurancePricer(loss_generator=generator,\n",
    "                                loss_ratio=loss_ratio,\n",
    "                                parameters=PricingParameters(\n",
    "                                    loss_ratio=loss_ratio,\n",
    "                                    simulation_years=100_000\n",
    "                                    )\n",
    "                                )\n",
    "\n",
    "all_layers = EnhancedInsuranceLayer(\n",
    "                attachment_point=deductible,\n",
    "                limit=policy_limit,\n",
    "                limit_type='per-occurrence',\n",
    "                base_premium_rate=annual_premium / policy_limit  # Use small premium\n",
    "            )\n",
    "\n",
    "program = InsuranceProgram([all_layers],\n",
    "                            pricing_enabled=True,\n",
    "                            pricer=policy_pricer)\n",
    "\n",
    "total_premium = program.calculate_annual_premium()\n",
    "print(f\"Total Program Premium: ${total_premium:,.2f}\")\n",
    "\n",
    "# The assertion should check against the small premium\n",
    "assert abs(total_premium - annual_premium) < 1.0, f\"Calculated premium ({total_premium:,.0f}) does not match target premium ({annual_premium:,.0f})\""
   ]
  },
  {
   "cell_type": "markdown",
   "id": "aede05e2",
   "metadata": {},
   "source": [
    "## Set Up the Simulation"
   ]
  },
  {
   "cell_type": "code",
   "execution_count": null,
   "id": "168597a6",
   "metadata": {},
   "outputs": [
    {
     "name": "stdout",
     "output_type": "stream",
     "text": [
      "Setting up Monte Carlo engine with Insurance...\n",
      "Engine configured: 100 simulations, 10 years\n",
      "Parallel processing: False\n",
      "Number of chains: 4\n",
      "Deductible: 0.0\n"
     ]
    }
   ],
   "source": [
    "from ergodic_insurance.monte_carlo import MonteCarloEngine, SimulationConfig, SimulationResults\n",
    "\n",
    "def setup_simulation_engine(n_simulations=10_000, n_years=10, parallel=False, insurance_program=None):\n",
    "    \"\"\"Set up Monte Carlo simulation engine.\"\"\"\n",
    "    # Create simulation config\n",
    "    config = SimulationConfig(\n",
    "        n_simulations=n_simulations,\n",
    "        n_years=n_years,\n",
    "        n_chains=4,\n",
    "        parallel=parallel,\n",
    "        n_workers=None,\n",
    "        chunk_size=max(1000, n_simulations // 10),\n",
    "        use_float32=True,\n",
    "        cache_results=False,\n",
    "        progress_bar=True,\n",
    "        ruin_evaluation=[5, 10, 15, 20, 25, 30, 35, 40, 45, 50],\n",
    "        working_capital_pct=0.0,  # Set working capital to 0% for full asset revenue generation\n",
    "        seed=42\n",
    "    )\n",
    "    \n",
    "    if insurance_program is None:\n",
    "        insurance_program = InsuranceProgram(\n",
    "                                layers=[],  # Empty list to define no coverage\n",
    "                                deductible=0.0,  # No deductible needed since all losses are retained\n",
    "                                pricer=None,\n",
    "                                name=\"No Insurance\"\n",
    "                            )\n",
    "\n",
    "    # Create engine\n",
    "    engine = MonteCarloEngine(\n",
    "        loss_generator=generator,\n",
    "        insurance_program=insurance_program,\n",
    "        manufacturer=base_manufacturer,\n",
    "        config=config\n",
    "    )\n",
    "    \n",
    "    return engine\n",
    "\n",
    "# Create engine\n",
    "print(\"Setting up Monte Carlo engine with Insurance...\")\n",
    "engine = setup_simulation_engine(n_simulations=100, n_years=10, parallel=False, insurance_program=program)\n",
    "print(f\"Engine configured: {engine.config.n_simulations:,} simulations, {engine.config.n_years} years\")\n",
    "print(f\"Parallel processing: {engine.config.parallel}\")\n",
    "print(f\"Number of chains: {engine.config.n_chains}\")\n",
    "print(f\"Deductible: {engine.insurance_program.deductible}\")"
   ]
  },
  {
   "cell_type": "markdown",
   "id": "b71fed8c",
   "metadata": {},
   "source": [
    "### Set Up the Simulation Without Insurance"
   ]
  },
  {
   "cell_type": "code",
   "execution_count": 18,
   "id": "82b0b72f",
   "metadata": {},
   "outputs": [
    {
     "name": "stdout",
     "output_type": "stream",
     "text": [
      "Setting up Monte Carlo engine without Insurance...\n",
      "Engine configured: 100 simulations, 10 years\n",
      "Parallel processing: False\n",
      "Number of chains: 4\n",
      "Deductible: 0.0\n"
     ]
    }
   ],
   "source": [
    "# Create engine without insurance\n",
    "print(\"Setting up Monte Carlo engine without Insurance...\")\n",
    "engine_no_ins = setup_simulation_engine(n_simulations=100, n_years=10, parallel=False, insurance_program=None)\n",
    "print(f\"Engine configured: {engine_no_ins.config.n_simulations:,} simulations, {engine_no_ins.config.n_years} years\")\n",
    "print(f\"Parallel processing: {engine_no_ins.config.parallel}\")\n",
    "print(f\"Number of chains: {engine_no_ins.config.n_chains}\")\n",
    "print(f\"Deductible: {engine_no_ins.insurance_program.deductible}\")"
   ]
  },
  {
   "cell_type": "markdown",
   "id": "4bca92d4",
   "metadata": {},
   "source": [
    "## Run the Simulation"
   ]
  },
  {
   "cell_type": "code",
   "execution_count": 19,
   "id": "96c6c5fb",
   "metadata": {},
   "outputs": [
    {
     "name": "stderr",
     "output_type": "stream",
     "text": [
      "Running simulations: 100%|██████████| 100/100 [00:00<00:00, 292.02it/s]\n",
      "Running simulations: 100%|██████████| 100/100 [00:00<00:00, 324.03it/s]\n"
     ]
    }
   ],
   "source": [
    "results = engine.run()\n",
    "results_no_ins = engine_no_ins.run()"
   ]
  },
  {
   "cell_type": "code",
   "execution_count": 20,
   "id": "8e755655",
   "metadata": {},
   "outputs": [],
   "source": [
    "import pickle\n",
    "\n",
    "filename = f\"results\\Cap ({INITIAL_ASSETS/1_000_000:.0f}M) -\\\n",
    " ATR ({ASSET_TURNOVER_RATIO}) -\\\n",
    " EBITA ({EBITA_MARGIN_TARGET}) -\\\n",
    " XS_Kurt ({EXCESS_KURTOSIS:.0f}) -\\\n",
    " Ded ({DEDUCTIBLE/1_000:.0f}K) -\\\n",
    " LR ({LOSS_RATIO}).pkl\"\n",
    "\n",
    "with open(filename, \"wb\") as f:\n",
    "    pickle.dump(results, f, protocol=pickle.HIGHEST_PROTOCOL)"
   ]
  },
  {
   "cell_type": "code",
   "execution_count": 21,
   "id": "f45e17ce",
   "metadata": {},
   "outputs": [],
   "source": [
    "import pickle\n",
    "\n",
    "filename_no_ins = f\"results\\Cap ({INITIAL_ASSETS/1_000_000:.0f}M) -\\\n",
    " ATR ({ASSET_TURNOVER_RATIO}) -\\\n",
    " EBITA ({EBITA_MARGIN_TARGET}) -\\\n",
    " XS_Kurt ({EXCESS_KURTOSIS:.0f}) -\\\n",
    " NOINS.pkl\"\n",
    "\n",
    "with open(filename_no_ins, \"wb\") as f:\n",
    "    pickle.dump(results_no_ins, f, protocol=pickle.HIGHEST_PROTOCOL)"
   ]
  },
  {
   "cell_type": "code",
   "execution_count": 22,
   "id": "e7767b1a",
   "metadata": {},
   "outputs": [
    {
     "name": "stdout",
     "output_type": "stream",
     "text": [
      "Simulation Results Summary\n",
      "==================================================\n",
      "Simulations: 100\n",
      "Years: 10\n",
      "Execution Time: 0.51s\n",
      "Ruin Probability:\n",
      "  Year 5: 0.00%\n",
      "  Year 10: 0.00%\n",
      "Mean Final Assets: $13,843,686\n",
      "Mean Growth Rate: 0.0325\n",
      "VaR(99%): $168\n",
      "TVaR(99%): $169\n",
      "Convergence R-hat: 0.000\n",
      "\n",
      "==================================================\n",
      "Performance Summary\n",
      "==================================================\n",
      "Total Time: 0.51s\n",
      "Setup: 0.00s\n",
      "Computation: 0.51s\n",
      "Serialization: 0.00s (0.0% overhead)\n",
      "Reduction: 0.00s\n",
      "Peak Memory: 0.0 MB\n",
      "CPU Utilization: 0.0%\n",
      "Throughput: 197 items/s\n",
      "Speedup: 1.00x\n",
      "\n",
      "==================================================\n",
      "Advanced Aggregation Results:\n",
      "  p1: $13,843,626\n",
      "  p5: $13,843,642\n",
      "  p10: $13,843,652\n",
      "  p25: $13,843,665\n",
      "  p50: $13,843,684\n",
      "  p75: $13,843,707\n",
      "  p90: $13,843,719\n",
      "  p95: $13,843,725\n",
      "  p99: $13,843,738\n",
      "\n"
     ]
    }
   ],
   "source": [
    "print(results.summary())"
   ]
  },
  {
   "cell_type": "code",
   "execution_count": 23,
   "id": "80dcef59",
   "metadata": {},
   "outputs": [
    {
     "name": "stdout",
     "output_type": "stream",
     "text": [
      "Simulation Results Summary\n",
      "==================================================\n",
      "Simulations: 100\n",
      "Years: 10\n",
      "Execution Time: 0.45s\n",
      "Ruin Probability:\n",
      "  Year 5: 0.00%\n",
      "  Year 10: 0.00%\n",
      "Mean Final Assets: $13,843,685\n",
      "Mean Growth Rate: 0.0325\n",
      "VaR(99%): $179\n",
      "TVaR(99%): $185\n",
      "Convergence R-hat: 0.000\n",
      "\n",
      "==================================================\n",
      "Performance Summary\n",
      "==================================================\n",
      "Total Time: 0.45s\n",
      "Setup: 0.00s\n",
      "Computation: 0.45s\n",
      "Serialization: 0.00s (0.0% overhead)\n",
      "Reduction: 0.00s\n",
      "Peak Memory: 0.0 MB\n",
      "CPU Utilization: 0.0%\n",
      "Throughput: 220 items/s\n",
      "Speedup: 1.00x\n",
      "\n",
      "==================================================\n",
      "Advanced Aggregation Results:\n",
      "  p1: $13,843,608\n",
      "  p5: $13,843,623\n",
      "  p10: $13,843,647\n",
      "  p25: $13,843,670\n",
      "  p50: $13,843,683\n",
      "  p75: $13,843,701\n",
      "  p90: $13,843,720\n",
      "  p95: $13,843,728\n",
      "  p99: $13,843,749\n",
      "\n"
     ]
    }
   ],
   "source": [
    "print(results_no_ins.summary())"
   ]
  },
  {
   "cell_type": "code",
   "execution_count": 24,
   "id": "92ffb219",
   "metadata": {},
   "outputs": [
    {
     "name": "stdout",
     "output_type": "stream",
     "text": [
      "\n",
      "Ruin Probabilities by Time Horizon:\n",
      "  5 years: 0.00%\n",
      "  10 years: 0.00%\n",
      "\n",
      "Convergence achieved: No\n",
      "Growth Rate Summary With Insurance (%): Mean=3.25, Median=3.25, 25th=3.25, 5th=3.25\n",
      "Growth Rate Summary Without Insurance (%): Mean=3.25, Median=3.25, 25th=3.25, 5th=3.25\n"
     ]
    },
    {
     "data": {
      "application/vnd.plotly.v1+json": {
       "config": {
        "plotlyServerURL": "https://plot.ly"
       },
       "data": [
        {
         "line": {
          "color": "#0080C7",
          "width": 2
         },
         "mode": "lines",
         "name": "Insurance",
         "type": "scatter",
         "x": {
          "bdata": "AAAAlOgECkANVDOy6AQKQBqoZtDoBApAJvyZ7ugECkAzUM0M6QQKQECkACvpBApATfgzSekECkBaTGdn6QQKQGegmoXpBApAc/TNo+kECkCASAHC6QQKQI2cNODpBApAmvBn/ukECkCnRJsc6gQKQLSYzjrqBApAwOwBWeoECkDNQDV36gQKQNqUaJXqBApA5+ibs+oECkD0PM/R6gQKQAGRAvDqBApADeU1DusECkAaOWks6wQKQCeNnErrBApANOHPaOsECkBBNQOH6wQKQE6JNqXrBApAWt1pw+sECkBnMZ3h6wQKQHSF0P/rBApAgdkDHuwECkCOLTc87AQKQJuBalrsBApAp9WdeOwECkC0KdGW7AQKQMF9BLXsBApAztE30+wECkDbJWvx7AQKQOh5ng/tBApA9M3RLe0ECkABIgVM7QQKQA52OGrtBApAG8priO0ECkAoHp+m7QQKQDVy0sTtBApAQcYF4+0ECkBOGjkB7gQKQFtubB/uBApAaMKfPe4ECkB1FtNb7gQKQIJqBnruBApAjr45mO4ECkCbEm227gQKQKhmoNTuBApAtbrT8u4ECkDCDgcR7wQKQM9iOi/vBApA27ZtTe8ECkDoCqFr7wQKQPVe1InvBApAArMHqO8ECkAPBzvG7wQKQBxbbuTvBApAKK+hAvAECkA1A9Ug8AQKQEJXCD/wBApAT6s7XfAECkBc/2578AQKQGlTopnwBApAdafVt/AECkCC+wjW8AQKQI9PPPTwBApAnKNvEvEECkCp96Iw8QQKQLZL1k7xBApAwp8JbfEECkDP8zyL8QQKQNxHcKnxBApA6Zujx/EECkD279bl8QQKQANECgTyBApAD5g9IvIECkAc7HBA8gQKQClApF7yBApANpTXfPIECkBD6Aqb8gQKQFA8PrnyBApAXJBx1/IECkBp5KT18gQKQHY42BPzBApAg4wLMvMECkCQ4D5Q8wQKQJ00cm7zBApAqYiljPMECkC23Niq8wQKQMMwDMnzBApA0IQ/5/MECkDd2HIF9AQKQOospiP0BApA9oDZQfQECkAD1Qxg9AQKQBApQH70BApAHX1znPQECkAq0aa69AQKQDcl2tj0BApAQ3kN9/QECkBQzUAV9QQKQF0hdDP1BApAanWnUfUECkB3ydpv9QQKQIQdDo71BApAkHFBrPUECkCdxXTK9QQKQKoZqOj1BApAt23bBvYECkDEwQ4l9gQKQNEVQkP2BApA3Wl1YfYECkDqvah/9gQKQPcR3J32BApABGYPvPYECkARukLa9gQKQB4Odvj2BApAKmKpFvcECkA3ttw09wQKQEQKEFP3BApAUV5DcfcECkBesnaP9wQKQGsGqq33BApAd1rdy/cECkCErhDq9wQKQJECRAj4BApAnlZ3JvgECkCrqqpE+AQKQLf+3WL4BApAxFIRgfgECkDRpkSf+AQKQN76d734BApA606r2/gECkD4ot75+AQKQAT3ERj5BApAEUtFNvkECkAen3hU+QQKQCvzq3L5BApAOEffkPkECkBFmxKv+QQKQFHvRc35BApAXkN56/kECkBrl6wJ+gQKQHjr3yf6BApAhT8TRvoECkCSk0Zk+gQKQJ7neYL6BApAqzutoPoECkC4j+C++gQKQMXjE936BApA0jdH+/oECkDfi3oZ+wQKQOvfrTf7BApA+DPhVfsECkAFiBR0+wQKQBLcR5L7BApAHzB7sPsECkAshK7O+wQKQDjY4ez7BApARSwVC/wECkBSgEgp/AQKQF/Ue0f8BApAbCivZfwECkB5fOKD/AQKQIXQFaL8BApAkiRJwPwECkCfeHze/AQKQKzMr/z8BApAuSDjGv0ECkDGdBY5/QQKQNLISVf9BApA3xx9df0ECkDscLCT/QQKQPnE47H9BApABhkX0P0ECkATbUru/QQKQB/BfQz+BApALBWxKv4ECkA5aeRI/gQKQEa9F2f+BApAUxFLhf4ECkBgZX6j/gQKQGy5scH+BApAeQ3l3/4ECkCGYRj+/gQKQJO1Sxz/BApAoAl/Ov8ECkCtXbJY/wQKQLmx5Xb/BApAxgUZlf8ECkDTWUyz/wQKQOCtf9H/BApA7QGz7/8ECkD6VeYNAAUKQAaqGSwABQpAE/5MSgAFCkAgUoBoAAUKQC2ms4YABQpAOvrmpAAFCkBHThrDAAUKQFOiTeEABQpAYPaA/wAFCkBtSrQdAQUKQHqe5zsBBQpAh/IaWgEFCkCURk54AQUKQKCagZYBBQpAre60tAEFCkC6QujSAQUKQMeWG/EBBQpA1OpODwIFCkDhPoItAgUKQO2StUsCBQpA+uboaQIFCkAHOxyIAgUKQBSPT6YCBQpAIeOCxAIFCkAuN7biAgUKQDqL6QADBQpAR98cHwMFCkBUM1A9AwUKQGGHg1sDBQpAbtu2eQMFCkB7L+qXAwUKQIeDHbYDBQpAlNdQ1AMFCkChK4TyAwUKQK5/txAEBQpAu9PqLgQFCkDIJx5NBAUKQNR7UWsEBQpA4c+EiQQFCkDuI7inBAUKQPt368UEBQpACMwe5AQFCkAVIFICBQUKQCF0hSAFBQpALsi4PgUFCkA7HOxcBQUKQEhwH3sFBQpAVcRSmQUFCkBiGIa3BQUKQG5sudUFBQpAe8Ds8wUFCkCIFCASBgUKQJVoUzAGBQpAoryGTgYFCkCvELpsBgUKQLtk7YoGBQpAyLggqQYFCkDVDFTHBgUKQOJgh+UGBQpA77S6AwcFCkD8CO4hBwUKQAhdIUAHBQpAFbFUXgcFCkAiBYh8BwUKQC9Zu5oHBQpAPK3uuAcFCkBJASLXBwUKQFVVVfUHBQpAYqmIEwgFCkBv/bsxCAUKQHxR708IBQpAiaUibggFCkCV+VWMCAUKQKJNiaoIBQpAr6G8yAgFCkC89e/mCAUKQMlJIwUJBQpA1p1WIwkFCkDi8YlBCQUKQO9FvV8JBQpA/JnwfQkFCkAJ7iOcCQUKQBZCV7oJBQpAI5aK2AkFCkAv6r32CQUKQDw+8RQKBQpASZIkMwoFCkBW5ldRCgUKQGM6i28KBQpAcI6+jQoFCkB84vGrCgUKQIk2JcoKBQpAlopY6AoFCkCj3osGCwUKQLAyvyQLBQpAvYbyQgsFCkDJ2iVhCwUKQNYuWX8LBQpA44KMnQsFCkDw1r+7CwUKQP0q89kLBQpACn8m+AsFCkAW01kWDAUKQCMnjTQMBQpAMHvAUgwFCkA9z/NwDAUKQEojJ48MBQpAV3darQwFCkBjy43LDAUKQHAfwekMBQpAfXP0Bw0FCkCKxycmDQUKQJcbW0QNBQpApG+OYg0FCkCww8GADQUKQL0X9Z4NBQpAymsovQ0FCkDXv1vbDQUKQOQTj/kNBQpA8WfCFw4FCkD9u/U1DgUKQAoQKVQOBQpAF2Rccg4FCkAkuI+QDgUKQDEMw64OBQpAPmD2zA4FCkBKtCnrDgUKQFcIXQkPBQpAZFyQJw8FCkBxsMNFDwUKQH4E92MPBQpAi1gqgg8FCkCXrF2gDwUKQKQAkb4PBQpAsVTE3A8FCkC+qPf6DwUKQMv8KhkQBQpA2FBeNxAFCkDkpJFVEAUKQPH4xHMQBQpA/kz4kRAFCkALoSuwEAUKQBj1Xs4QBQpAJUmS7BAFCkAxncUKEQUKQD7x+CgRBQpAS0UsRxEFCkBYmV9lEQUKQGXtkoMRBQpAckHGoREFCkB+lfm/EQUKQIvpLN4RBQpAmD1g/BEFCkClkZMaEgUKQLLlxjgSBQpAvzn6VhIFCkDLjS11EgUKQNjhYJMSBQpA5TWUsRIFCkDyicfPEgUKQP/d+u0SBQpADDIuDBMFCkAYhmEqEwUKQCXalEgTBQpAMi7IZhMFCkA/gvuEEwUKQEzWLqMTBQpAWSpiwRMFCkBlfpXfEwUKQHLSyP0TBQpAfyb8GxQFCkCMei86FAUKQJnOYlgUBQpApiKWdhQFCkCydsmUFAUKQL/K/LIUBQpAzB4w0RQFCkDZcmPvFAUKQObGlg0VBQpA8xrKKxUFCkD/bv1JFQUKQAzDMGgVBQpAGRdkhhUFCkAma5ekFQUKQDO/ysIVBQpAQBP+4BUFCkBMZzH/FQUKQFm7ZB0WBQpAZg+YOxYFCkBzY8tZFgUKQIC3/ncWBQpAjQsylhYFCkCZX2W0FgUKQKazmNIWBQpAswfM8BYFCkDAW/8OFwUKQM2vMi0XBQpA2gNmSxcFCkDmV5lpFwUKQPOrzIcXBQpAAAAAphcFCkA=",
          "dtype": "f8"
         },
         "y": {
          "bdata": "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",
          "dtype": "f8"
         }
        },
        {
         "line": {
          "color": "#FF9800",
          "width": 2
         },
         "mode": "lines",
         "name": "No Insurance",
         "type": "scatter",
         "x": {
          "bdata": "AAAANN8ECkAGqhlc3wQKQA1UM4TfBApAE/5MrN8ECkAaqGbU3wQKQCBSgPzfBApAJvyZJOAECkAtprNM4AQKQDNQzXTgBApAOvrmnOAECkBApADF4AQKQEdOGu3gBApATfgzFeEECkBTok094QQKQFpMZ2XhBApAYPaAjeEECkBnoJq14QQKQG1KtN3hBApAc/TNBeIECkB6nuct4gQKQIBIAVbiBApAh/IafuIECkCNnDSm4gQKQJRGTs7iBApAmvBn9uIECkCgmoEe4wQKQKdEm0bjBApAre60buMECkC0mM6W4wQKQLpC6L7jBApAwOwB5+MECkDHlhsP5AQKQM1ANTfkBApA1OpOX+QECkDalGiH5AQKQOE+gq/kBApA5+ib1+QECkDtkrX/5AQKQPQ8zyflBApA+uboT+UECkABkQJ45QQKQAc7HKDlBApADeU1yOUECkAUj0/w5QQKQBo5aRjmBApAIeOCQOYECkAnjZxo5gQKQC43tpDmBApANOHPuOYECkA6i+ng5gQKQEE1AwnnBApAR98cMecECkBOiTZZ5wQKQFQzUIHnBApAWt1pqecECkBhh4PR5wQKQGcxnfnnBApAbtu2IegECkB0hdBJ6AQKQHsv6nHoBApAgdkDmugECkCHgx3C6AQKQI4tN+roBApAlNdQEukECkCbgWo66QQKQKErhGLpBApAp9WdiukECkCuf7ey6QQKQLQp0drpBApAu9PqAuoECkDBfQQr6gQKQMgnHlPqBApAztE3e+oECkDUe1Gj6gQKQNsla8vqBApA4c+E8+oECkDoeZ4b6wQKQO4juEPrBApA9M3Ra+sECkD7d+uT6wQKQAEiBbzrBApACMwe5OsECkAOdjgM7AQKQBUgUjTsBApAG8prXOwECkAhdIWE7AQKQCgen6zsBApALsi41OwECkA1ctL87AQKQDsc7CTtBApAQcYFTe0ECkBIcB917QQKQE4aOZ3tBApAVcRSxe0ECkBbbmzt7QQKQGIYhhXuBApAaMKfPe4ECkBubLll7gQKQHUW043uBApAe8Dste4ECkCCagbe7gQKQIgUIAbvBApAjr45Lu8ECkCVaFNW7wQKQJsSbX7vBApAoryGpu8ECkCoZqDO7wQKQK8QuvbvBApAtbrTHvAECkC7ZO1G8AQKQMIOB2/wBApAyLggl/AECkDPYjq/8AQKQNUMVOfwBApA27ZtD/EECkDiYIc38QQKQOgKoV/xBApA77S6h/EECkD1XtSv8QQKQPwI7tfxBApAArMHAPIECkAIXSEo8gQKQA8HO1DyBApAFbFUePIECkAcW26g8gQKQCIFiMjyBApAKK+h8PIECkAvWbsY8wQKQDUD1UDzBApAPK3uaPMECkBCVwiR8wQKQEkBIrnzBApAT6s74fMECkBVVVUJ9AQKQFz/bjH0BApAYqmIWfQECkBpU6KB9AQKQG/9u6n0BApAdafV0fQECkB8Ue/59AQKQIL7CCL1BApAiaUiSvUECkCPTzxy9QQKQJX5VZr1BApAnKNvwvUECkCiTYnq9QQKQKn3ohL2BApAr6G8OvYECkC2S9Zi9gQKQLz174r2BApAwp8Js/YECkDJSSPb9gQKQM/zPAP3BApA1p1WK/cECkDcR3BT9wQKQOLxiXv3BApA6Zujo/cECkDvRb3L9wQKQPbv1vP3BApA/JnwG/gECkADRApE+AQKQAnuI2z4BApAD5g9lPgECkAWQle8+AQKQBzscOT4BApAI5aKDPkECkApQKQ0+QQKQC/qvVz5BApANpTXhPkECkA8PvGs+QQKQEPoCtX5BApASZIk/fkECkBQPD4l+gQKQFbmV036BApAXJBxdfoECkBjOoud+gQKQGnkpMX6BApAcI6+7foECkB2ONgV+wQKQHzi8T37BApAg4wLZvsECkCJNiWO+wQKQJDgPrb7BApAlopY3vsECkCdNHIG/AQKQKPeiy78BApAqYilVvwECkCwMr9+/AQKQLbc2Kb8BApAvYbyzvwECkDDMAz3/AQKQMnaJR/9BApA0IQ/R/0ECkDWLllv/QQKQN3Ycpf9BApA44KMv/0ECkDqLKbn/QQKQPDWvw/+BApA9oDZN/4ECkD9KvNf/gQKQAPVDIj+BApACn8msP4ECkAQKUDY/gQKQBbTWQD/BApAHX1zKP8ECkAjJ41Q/wQKQCrRpnj/BApAMHvAoP8ECkA3JdrI/wQKQD3P8/D/BApAQ3kNGQAFCkBKIydBAAUKQFDNQGkABQpAV3dakQAFCkBdIXS5AAUKQGPLjeEABQpAanWnCQEFCkBwH8ExAQUKQHfJ2lkBBQpAfXP0gQEFCkCEHQ6qAQUKQIrHJ9IBBQpAkHFB+gEFCkCXG1siAgUKQJ3FdEoCBQpApG+OcgIFCkCqGaiaAgUKQLDDwcICBQpAt23b6gIFCkC9F/USAwUKQMTBDjsDBQpAymsoYwMFCkDRFUKLAwUKQNe/W7MDBQpA3Wl12wMFCkDkE48DBAUKQOq9qCsEBQpA8WfCUwQFCkD3Edx7BAUKQP279aMEBQpABGYPzAQFCkAKECn0BAUKQBG6QhwFBQpAF2RcRAUFCkAeDnZsBQUKQCS4j5QFBQpAKmKpvAUFCkAxDMPkBQUKQDe23AwGBQpAPmD2NAYFCkBEChBdBgUKQEq0KYUGBQpAUV5DrQYFCkBXCF3VBgUKQF6ydv0GBQpAZFyQJQcFCkBrBqpNBwUKQHGww3UHBQpAd1rdnQcFCkB+BPfFBwUKQISuEO4HBQpAi1gqFggFCkCRAkQ+CAUKQJesXWYIBQpAnlZ3jggFCkCkAJG2CAUKQKuqqt4IBQpAsVTEBgkFCkC3/t0uCQUKQL6o91YJBQpAxFIRfwkFCkDL/CqnCQUKQNGmRM8JBQpA2FBe9wkFCkDe+ncfCgUKQOSkkUcKBQpA606rbwoFCkDx+MSXCgUKQPii3r8KBQpA/kz45woFCkAE9xEQCwUKQAuhKzgLBQpAEUtFYAsFCkAY9V6ICwUKQB6feLALBQpAJUmS2AsFCkAr86sADAUKQDGdxSgMBQpAOEffUAwFCkA+8fh4DAUKQEWbEqEMBQpAS0UsyQwFCkBR70XxDAUKQFiZXxkNBQpAXkN5QQ0FCkBl7ZJpDQUKQGuXrJENBQpAckHGuQ0FCkB469/hDQUKQH6V+QkOBQpAhT8TMg4FCkCL6SxaDgUKQJKTRoIOBQpAmD1gqg4FCkCe53nSDgUKQKWRk/oOBQpAqzutIg8FCkCy5cZKDwUKQLiP4HIPBQpAvzn6mg8FCkDF4xPDDwUKQMuNLesPBQpA0jdHExAFCkDY4WA7EAUKQN+LemMQBQpA5TWUixAFCkDr362zEAUKQPKJx9sQBQpA+DPhAxEFCkD/3forEQUKQAWIFFQRBQpADDIufBEFCkAS3EekEQUKQBiGYcwRBQpAHzB79BEFCkAl2pQcEgUKQCyErkQSBQpAMi7IbBIFCkA42OGUEgUKQD+C+7wSBQpARSwV5RIFCkBM1i4NEwUKQFKASDUTBQpAWSpiXRMFCkBf1HuFEwUKQGV+la0TBQpAbCiv1RMFCkBy0sj9EwUKQHl84iUUBQpAfyb8TRQFCkCF0BV2FAUKQIx6L54UBQpAkiRJxhQFCkCZzmLuFAUKQJ94fBYVBQpApiKWPhUFCkCszK9mFQUKQLJ2yY4VBQpAuSDjthUFCkC/yvzeFQUKQMZ0FgcWBQpAzB4wLxYFCkDSyElXFgUKQNlyY38WBQpA3xx9pxYFCkDmxpbPFgUKQOxwsPcWBQpA8xrKHxcFCkD5xONHFwUKQP9u/W8XBQpABhkXmBcFCkAMwzDAFwUKQBNtSugXBQpAGRdkEBgFCkAfwX04GAUKQCZrl2AYBQpALBWxiBgFCkAzv8qwGAUKQDlp5NgYBQpAQBP+ABkFCkBGvRcpGQUKQExnMVEZBQpAUxFLeRkFCkBZu2ShGQUKQGBlfskZBQpAZg+Y8RkFCkBsubEZGgUKQHNjy0EaBQpAeQ3laRoFCkCAt/6RGgUKQIZhGLoaBQpAjQsy4hoFCkCTtUsKGwUKQJlfZTIbBQpAoAl/WhsFCkCms5iCGwUKQK1dsqobBQpAswfM0hsFCkC5seX6GwUKQMBb/yIcBQpAxgUZSxwFCkDNrzJzHAUKQNNZTJscBQpA2gNmwxwFCkDgrX/rHAUKQOZXmRMdBQpA7QGzOx0FCkDzq8xjHQUKQPpV5osdBQpAAAAAtB0FCkA=",
          "dtype": "f8"
         },
         "y": {
          "bdata": "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",
          "dtype": "f8"
         }
        }
       ],
       "layout": {
        "annotations": [
         {
          "showarrow": false,
          "text": "Mean (Ins)",
          "x": 3.25244115665555,
          "xanchor": "left",
          "xref": "x",
          "y": 1,
          "yanchor": "top",
          "yref": "y domain"
         },
         {
          "showarrow": false,
          "text": "Median (Ins)",
          "x": 3.2524406909942627,
          "xanchor": "right",
          "xref": "x",
          "y": 1,
          "yanchor": "top",
          "yref": "y domain"
         },
         {
          "showarrow": false,
          "text": "25th pct (Ins)",
          "x": 3.2524265348911285,
          "xanchor": "right",
          "xref": "x",
          "y": 0,
          "yanchor": "bottom",
          "yref": "y domain"
         },
         {
          "showarrow": false,
          "text": "Mean (No Ins)",
          "x": 3.2524396032094955,
          "xanchor": "left",
          "xref": "x",
          "y": 1,
          "yanchor": "top",
          "yref": "y domain"
         },
         {
          "showarrow": false,
          "text": "25th pct (No Ins)",
          "x": 3.2524297945201397,
          "xanchor": "right",
          "xref": "x",
          "y": 0,
          "yanchor": "bottom",
          "yref": "y domain"
         }
        ],
        "height": 500,
        "legend": {
         "orientation": "h",
         "x": 0.5,
         "xanchor": "center",
         "y": -0.2,
         "yanchor": "top"
        },
        "shapes": [
         {
          "line": {
           "color": "#0080C7",
           "dash": "dash"
          },
          "type": "line",
          "x0": 3.25244115665555,
          "x1": 3.25244115665555,
          "xref": "x",
          "y0": 0,
          "y1": 1,
          "yref": "y domain"
         },
         {
          "line": {
           "color": "#4CAF50",
           "dash": "dot"
          },
          "type": "line",
          "x0": 3.2524406909942627,
          "x1": 3.2524406909942627,
          "xref": "x",
          "y0": 0,
          "y1": 1,
          "yref": "y domain"
         },
         {
          "line": {
           "color": "#FFD700",
           "dash": "dot"
          },
          "type": "line",
          "x0": 3.2524265348911285,
          "x1": 3.2524265348911285,
          "xref": "x",
          "y0": 0,
          "y1": 1,
          "yref": "y domain"
         },
         {
          "line": {
           "color": "#FF9800",
           "dash": "dash"
          },
          "type": "line",
          "x0": 3.2524396032094955,
          "x1": 3.2524396032094955,
          "xref": "x",
          "y0": 0,
          "y1": 1,
          "yref": "y domain"
         },
         {
          "line": {
           "color": "#D32F2F",
           "dash": "dot"
          },
          "type": "line",
          "x0": 3.2524297945201397,
          "x1": 3.2524297945201397,
          "xref": "x",
          "y0": 0,
          "y1": 1,
          "yref": "y domain"
         }
        ],
        "showlegend": true,
        "template": {
         "data": {
          "bar": [
           {
            "error_x": {
             "color": "#2a3f5f"
            },
            "error_y": {
             "color": "#2a3f5f"
            },
            "marker": {
             "line": {
              "color": "white",
              "width": 0.5
             },
             "pattern": {
              "fillmode": "overlay",
              "size": 10,
              "solidity": 0.2
             }
            },
            "type": "bar"
           }
          ],
          "barpolar": [
           {
            "marker": {
             "line": {
              "color": "white",
              "width": 0.5
             },
             "pattern": {
              "fillmode": "overlay",
              "size": 10,
              "solidity": 0.2
             }
            },
            "type": "barpolar"
           }
          ],
          "carpet": [
           {
            "aaxis": {
             "endlinecolor": "#2a3f5f",
             "gridcolor": "#C8D4E3",
             "linecolor": "#C8D4E3",
             "minorgridcolor": "#C8D4E3",
             "startlinecolor": "#2a3f5f"
            },
            "baxis": {
             "endlinecolor": "#2a3f5f",
             "gridcolor": "#C8D4E3",
             "linecolor": "#C8D4E3",
             "minorgridcolor": "#C8D4E3",
             "startlinecolor": "#2a3f5f"
            },
            "type": "carpet"
           }
          ],
          "choropleth": [
           {
            "colorbar": {
             "outlinewidth": 0,
             "ticks": ""
            },
            "type": "choropleth"
           }
          ],
          "contour": [
           {
            "colorbar": {
             "outlinewidth": 0,
             "ticks": ""
            },
            "colorscale": [
             [
              0,
              "#0d0887"
             ],
             [
              0.1111111111111111,
              "#46039f"
             ],
             [
              0.2222222222222222,
              "#7201a8"
             ],
             [
              0.3333333333333333,
              "#9c179e"
             ],
             [
              0.4444444444444444,
              "#bd3786"
             ],
             [
              0.5555555555555556,
              "#d8576b"
             ],
             [
              0.6666666666666666,
              "#ed7953"
             ],
             [
              0.7777777777777778,
              "#fb9f3a"
             ],
             [
              0.8888888888888888,
              "#fdca26"
             ],
             [
              1,
              "#f0f921"
             ]
            ],
            "type": "contour"
           }
          ],
          "contourcarpet": [
           {
            "colorbar": {
             "outlinewidth": 0,
             "ticks": ""
            },
            "type": "contourcarpet"
           }
          ],
          "heatmap": [
           {
            "colorbar": {
             "outlinewidth": 0,
             "ticks": ""
            },
            "colorscale": [
             [
              0,
              "#0d0887"
             ],
             [
              0.1111111111111111,
              "#46039f"
             ],
             [
              0.2222222222222222,
              "#7201a8"
             ],
             [
              0.3333333333333333,
              "#9c179e"
             ],
             [
              0.4444444444444444,
              "#bd3786"
             ],
             [
              0.5555555555555556,
              "#d8576b"
             ],
             [
              0.6666666666666666,
              "#ed7953"
             ],
             [
              0.7777777777777778,
              "#fb9f3a"
             ],
             [
              0.8888888888888888,
              "#fdca26"
             ],
             [
              1,
              "#f0f921"
             ]
            ],
            "type": "heatmap"
           }
          ],
          "histogram": [
           {
            "marker": {
             "pattern": {
              "fillmode": "overlay",
              "size": 10,
              "solidity": 0.2
             }
            },
            "type": "histogram"
           }
          ],
          "histogram2d": [
           {
            "colorbar": {
             "outlinewidth": 0,
             "ticks": ""
            },
            "colorscale": [
             [
              0,
              "#0d0887"
             ],
             [
              0.1111111111111111,
              "#46039f"
             ],
             [
              0.2222222222222222,
              "#7201a8"
             ],
             [
              0.3333333333333333,
              "#9c179e"
             ],
             [
              0.4444444444444444,
              "#bd3786"
             ],
             [
              0.5555555555555556,
              "#d8576b"
             ],
             [
              0.6666666666666666,
              "#ed7953"
             ],
             [
              0.7777777777777778,
              "#fb9f3a"
             ],
             [
              0.8888888888888888,
              "#fdca26"
             ],
             [
              1,
              "#f0f921"
             ]
            ],
            "type": "histogram2d"
           }
          ],
          "histogram2dcontour": [
           {
            "colorbar": {
             "outlinewidth": 0,
             "ticks": ""
            },
            "colorscale": [
             [
              0,
              "#0d0887"
             ],
             [
              0.1111111111111111,
              "#46039f"
             ],
             [
              0.2222222222222222,
              "#7201a8"
             ],
             [
              0.3333333333333333,
              "#9c179e"
             ],
             [
              0.4444444444444444,
              "#bd3786"
             ],
             [
              0.5555555555555556,
              "#d8576b"
             ],
             [
              0.6666666666666666,
              "#ed7953"
             ],
             [
              0.7777777777777778,
              "#fb9f3a"
             ],
             [
              0.8888888888888888,
              "#fdca26"
             ],
             [
              1,
              "#f0f921"
             ]
            ],
            "type": "histogram2dcontour"
           }
          ],
          "mesh3d": [
           {
            "colorbar": {
             "outlinewidth": 0,
             "ticks": ""
            },
            "type": "mesh3d"
           }
          ],
          "parcoords": [
           {
            "line": {
             "colorbar": {
              "outlinewidth": 0,
              "ticks": ""
             }
            },
            "type": "parcoords"
           }
          ],
          "pie": [
           {
            "automargin": true,
            "type": "pie"
           }
          ],
          "scatter": [
           {
            "fillpattern": {
             "fillmode": "overlay",
             "size": 10,
             "solidity": 0.2
            },
            "type": "scatter"
           }
          ],
          "scatter3d": [
           {
            "line": {
             "colorbar": {
              "outlinewidth": 0,
              "ticks": ""
             }
            },
            "marker": {
             "colorbar": {
              "outlinewidth": 0,
              "ticks": ""
             }
            },
            "type": "scatter3d"
           }
          ],
          "scattercarpet": [
           {
            "marker": {
             "colorbar": {
              "outlinewidth": 0,
              "ticks": ""
             }
            },
            "type": "scattercarpet"
           }
          ],
          "scattergeo": [
           {
            "marker": {
             "colorbar": {
              "outlinewidth": 0,
              "ticks": ""
             }
            },
            "type": "scattergeo"
           }
          ],
          "scattergl": [
           {
            "marker": {
             "colorbar": {
              "outlinewidth": 0,
              "ticks": ""
             }
            },
            "type": "scattergl"
           }
          ],
          "scattermap": [
           {
            "marker": {
             "colorbar": {
              "outlinewidth": 0,
              "ticks": ""
             }
            },
            "type": "scattermap"
           }
          ],
          "scattermapbox": [
           {
            "marker": {
             "colorbar": {
              "outlinewidth": 0,
              "ticks": ""
             }
            },
            "type": "scattermapbox"
           }
          ],
          "scatterpolar": [
           {
            "marker": {
             "colorbar": {
              "outlinewidth": 0,
              "ticks": ""
             }
            },
            "type": "scatterpolar"
           }
          ],
          "scatterpolargl": [
           {
            "marker": {
             "colorbar": {
              "outlinewidth": 0,
              "ticks": ""
             }
            },
            "type": "scatterpolargl"
           }
          ],
          "scatterternary": [
           {
            "marker": {
             "colorbar": {
              "outlinewidth": 0,
              "ticks": ""
             }
            },
            "type": "scatterternary"
           }
          ],
          "surface": [
           {
            "colorbar": {
             "outlinewidth": 0,
             "ticks": ""
            },
            "colorscale": [
             [
              0,
              "#0d0887"
             ],
             [
              0.1111111111111111,
              "#46039f"
             ],
             [
              0.2222222222222222,
              "#7201a8"
             ],
             [
              0.3333333333333333,
              "#9c179e"
             ],
             [
              0.4444444444444444,
              "#bd3786"
             ],
             [
              0.5555555555555556,
              "#d8576b"
             ],
             [
              0.6666666666666666,
              "#ed7953"
             ],
             [
              0.7777777777777778,
              "#fb9f3a"
             ],
             [
              0.8888888888888888,
              "#fdca26"
             ],
             [
              1,
              "#f0f921"
             ]
            ],
            "type": "surface"
           }
          ],
          "table": [
           {
            "cells": {
             "fill": {
              "color": "#EBF0F8"
             },
             "line": {
              "color": "white"
             }
            },
            "header": {
             "fill": {
              "color": "#C8D4E3"
             },
             "line": {
              "color": "white"
             }
            },
            "type": "table"
           }
          ]
         },
         "layout": {
          "annotationdefaults": {
           "arrowcolor": "#2a3f5f",
           "arrowhead": 0,
           "arrowwidth": 1
          },
          "autotypenumbers": "strict",
          "coloraxis": {
           "colorbar": {
            "outlinewidth": 0,
            "ticks": ""
           }
          },
          "colorscale": {
           "diverging": [
            [
             0,
             "#8e0152"
            ],
            [
             0.1,
             "#c51b7d"
            ],
            [
             0.2,
             "#de77ae"
            ],
            [
             0.3,
             "#f1b6da"
            ],
            [
             0.4,
             "#fde0ef"
            ],
            [
             0.5,
             "#f7f7f7"
            ],
            [
             0.6,
             "#e6f5d0"
            ],
            [
             0.7,
             "#b8e186"
            ],
            [
             0.8,
             "#7fbc41"
            ],
            [
             0.9,
             "#4d9221"
            ],
            [
             1,
             "#276419"
            ]
           ],
           "sequential": [
            [
             0,
             "#0d0887"
            ],
            [
             0.1111111111111111,
             "#46039f"
            ],
            [
             0.2222222222222222,
             "#7201a8"
            ],
            [
             0.3333333333333333,
             "#9c179e"
            ],
            [
             0.4444444444444444,
             "#bd3786"
            ],
            [
             0.5555555555555556,
             "#d8576b"
            ],
            [
             0.6666666666666666,
             "#ed7953"
            ],
            [
             0.7777777777777778,
             "#fb9f3a"
            ],
            [
             0.8888888888888888,
             "#fdca26"
            ],
            [
             1,
             "#f0f921"
            ]
           ],
           "sequentialminus": [
            [
             0,
             "#0d0887"
            ],
            [
             0.1111111111111111,
             "#46039f"
            ],
            [
             0.2222222222222222,
             "#7201a8"
            ],
            [
             0.3333333333333333,
             "#9c179e"
            ],
            [
             0.4444444444444444,
             "#bd3786"
            ],
            [
             0.5555555555555556,
             "#d8576b"
            ],
            [
             0.6666666666666666,
             "#ed7953"
            ],
            [
             0.7777777777777778,
             "#fb9f3a"
            ],
            [
             0.8888888888888888,
             "#fdca26"
            ],
            [
             1,
             "#f0f921"
            ]
           ]
          },
          "colorway": [
           "#636efa",
           "#EF553B",
           "#00cc96",
           "#ab63fa",
           "#FFA15A",
           "#19d3f3",
           "#FF6692",
           "#B6E880",
           "#FF97FF",
           "#FECB52"
          ],
          "font": {
           "color": "#2a3f5f"
          },
          "geo": {
           "bgcolor": "white",
           "lakecolor": "white",
           "landcolor": "white",
           "showlakes": true,
           "showland": true,
           "subunitcolor": "#C8D4E3"
          },
          "hoverlabel": {
           "align": "left"
          },
          "hovermode": "closest",
          "mapbox": {
           "style": "light"
          },
          "paper_bgcolor": "white",
          "plot_bgcolor": "white",
          "polar": {
           "angularaxis": {
            "gridcolor": "#EBF0F8",
            "linecolor": "#EBF0F8",
            "ticks": ""
           },
           "bgcolor": "white",
           "radialaxis": {
            "gridcolor": "#EBF0F8",
            "linecolor": "#EBF0F8",
            "ticks": ""
           }
          },
          "scene": {
           "xaxis": {
            "backgroundcolor": "white",
            "gridcolor": "#DFE8F3",
            "gridwidth": 2,
            "linecolor": "#EBF0F8",
            "showbackground": true,
            "ticks": "",
            "zerolinecolor": "#EBF0F8"
           },
           "yaxis": {
            "backgroundcolor": "white",
            "gridcolor": "#DFE8F3",
            "gridwidth": 2,
            "linecolor": "#EBF0F8",
            "showbackground": true,
            "ticks": "",
            "zerolinecolor": "#EBF0F8"
           },
           "zaxis": {
            "backgroundcolor": "white",
            "gridcolor": "#DFE8F3",
            "gridwidth": 2,
            "linecolor": "#EBF0F8",
            "showbackground": true,
            "ticks": "",
            "zerolinecolor": "#EBF0F8"
           }
          },
          "shapedefaults": {
           "line": {
            "color": "#2a3f5f"
           }
          },
          "ternary": {
           "aaxis": {
            "gridcolor": "#DFE8F3",
            "linecolor": "#A2B1C6",
            "ticks": ""
           },
           "baxis": {
            "gridcolor": "#DFE8F3",
            "linecolor": "#A2B1C6",
            "ticks": ""
           },
           "bgcolor": "white",
           "caxis": {
            "gridcolor": "#DFE8F3",
            "linecolor": "#A2B1C6",
            "ticks": ""
           }
          },
          "title": {
           "x": 0.05
          },
          "xaxis": {
           "automargin": true,
           "gridcolor": "#EBF0F8",
           "linecolor": "#EBF0F8",
           "ticks": "",
           "title": {
            "standoff": 15
           },
           "zerolinecolor": "#EBF0F8",
           "zerolinewidth": 2
          },
          "yaxis": {
           "automargin": true,
           "gridcolor": "#EBF0F8",
           "linecolor": "#EBF0F8",
           "ticks": "",
           "title": {
            "standoff": 15
           },
           "zerolinecolor": "#EBF0F8",
           "zerolinewidth": 2
          }
         }
        },
        "title": {
         "text": "Time-Average Growth Rate Histogram",
         "x": 0.5,
         "xanchor": "center"
        },
        "width": 800,
        "xaxis": {
         "range": [
          3.252380696181208,
          3.252493449430913
         ],
         "title": {
          "text": "Time-Average Growth Rate (%)"
         }
        },
        "yaxis": {
         "title": {
          "text": "Frequency"
         }
        }
       }
      }
     },
     "metadata": {},
     "output_type": "display_data"
    }
   ],
   "source": [
    "import plotly.graph_objects as go\n",
    "from plotly.subplots import make_subplots\n",
    "from ergodic_insurance.visualization.core import WSJ_COLORS\n",
    "import numpy as np\n",
    "\n",
    "# Print results\n",
    "print(f\"\\nRuin Probabilities by Time Horizon:\")\n",
    "for yr, prob in results.ruin_probability.items():\n",
    "    print(f\"  {yr} years: {prob*100:.2f}%\")\n",
    "\n",
    "print(f\"\\nConvergence achieved: {'Yes' if results.convergence else 'No'}\")\n",
    "\n",
    "# --------------------------------------\n",
    "# Time-Average Growth Rate Histogram (1,1)\n",
    "# --------------------------------------\n",
    "fig = go.Figure()\n",
    "\n",
    "# Growth rates with insurance\n",
    "growth_rates = np.asarray(results.growth_rates, dtype=float)\n",
    "growth_rates = growth_rates[np.isfinite(growth_rates)]\n",
    "\n",
    "# Growth rates without insurance\n",
    "growth_rates_no_ins = np.asarray(results_no_ins.growth_rates, dtype=float)\n",
    "growth_rates_no_ins = growth_rates_no_ins[np.isfinite(growth_rates_no_ins)]\n",
    "\n",
    "if growth_rates.size:\n",
    "    growth_pct = growth_rates * 100.0\n",
    "    mean_growth = np.nanmean(growth_pct)\n",
    "    median_growth = np.nanmedian(growth_pct)\n",
    "    p5, p25, p95 = np.nanpercentile(growth_pct, [5, 25, 95])\n",
    "    print(f\"Growth Rate Summary With Insurance (%): Mean={mean_growth:.2f}, Median={median_growth:.2f}, 25th={p25:.2f}, 5th={p5:.2f}\")\n",
    "\n",
    "    growth_pct_no_ins = growth_rates_no_ins * 100.0\n",
    "    mean_growth_no_ins = np.nanmean(growth_pct_no_ins)\n",
    "    median_growth_no_ins = np.nanmedian(growth_pct_no_ins)\n",
    "    p5_no_ins, p25_no_ins, p95_no_ins = np.nanpercentile(growth_pct_no_ins, [5, 25, 95])\n",
    "    print(f\"Growth Rate Summary Without Insurance (%): Mean={mean_growth_no_ins:.2f}, Median={median_growth_no_ins:.2f}, 25th={p25_no_ins:.2f}, 5th={p5_no_ins:.2f}\")\n",
    "\n",
    "    # Plot Growth Rate With Insurance\n",
    "    # Kernel Density Estimate (Gaussian) instead of histogram\n",
    "    xs = np.linspace(growth_pct.min(), growth_pct.max(), 400)\n",
    "    n = growth_pct.size\n",
    "    std = np.std(growth_pct, ddof=1)\n",
    "    if std == 0 or n < 2:\n",
    "        # Fallback: flat line at 0\n",
    "        density = np.zeros_like(xs)\n",
    "    else:\n",
    "        bw = 1.06 * std * n ** (-1/5)  # Silverman's rule\n",
    "        inv_norm = 1.0 / (bw * np.sqrt(2 * np.pi))\n",
    "        diffs = (xs[:, None] - growth_pct[None, :]) / bw\n",
    "        density = inv_norm * np.exp(-0.5 * diffs**2).mean(axis=1)\n",
    "\n",
    "    fig.add_trace(\n",
    "        go.Scatter(\n",
    "            x=xs,\n",
    "            y=density,\n",
    "            mode='lines',\n",
    "            name='Insurance',\n",
    "            line=dict(color=WSJ_COLORS.get('blue', '#1f77b4'), width=2)\n",
    "        )\n",
    "    )\n",
    "\n",
    "    # Plot Growth Rate Without Insurance\n",
    "    # Kernel Density Estimate (Gaussian) instead of histogram\n",
    "    xs_no_ins = np.linspace(growth_pct_no_ins.min(), growth_pct_no_ins.max(), 400)\n",
    "    n_no_ins = growth_pct_no_ins.size\n",
    "    std_no_ins = np.std(growth_pct_no_ins, ddof=1)\n",
    "    if std_no_ins == 0 or n_no_ins < 2:\n",
    "        # Fallback: flat line at 0\n",
    "        density = np.zeros_like(xs_no_ins)\n",
    "    else:\n",
    "        bw = 1.06 * std_no_ins * n_no_ins ** (-1/5)  # Silverman's rule\n",
    "        inv_norm_no_ins = 1.0 / (bw * np.sqrt(2 * np.pi))\n",
    "        diffs_no_ins = (xs_no_ins[:, None] - growth_pct_no_ins[None, :]) / bw\n",
    "        density_no_ins = inv_norm_no_ins * np.exp(-0.5 * diffs_no_ins**2).mean(axis=1)\n",
    "\n",
    "    fig.add_trace(\n",
    "        go.Scatter(\n",
    "            x=xs_no_ins,\n",
    "            y=density_no_ins,\n",
    "            mode='lines',\n",
    "            name='No Insurance',\n",
    "            line=dict(color=WSJ_COLORS.get('orange', '#ff7f0e'), width=2)\n",
    "        )\n",
    "    )\n",
    "    # Set x-axis to central 99.5% of both distributions (trim 0.25% each tail)\n",
    "    try:\n",
    "        lower_q, upper_q = .5, 99.5\n",
    "        lo_ins, hi_ins = np.nanpercentile(growth_pct, [lower_q, upper_q])\n",
    "        lo_no_ins, hi_no_ins = np.nanpercentile(growth_pct_no_ins, [lower_q, upper_q])\n",
    "        x_min = min(lo_ins, lo_no_ins)\n",
    "        x_max = max(hi_ins, hi_no_ins)\n",
    "        pad = 0.01 * (x_max - x_min) if x_max > x_min else 0.0\n",
    "        fig.update_xaxes(range=[x_min - pad, x_max + pad])\n",
    "    except Exception as e:\n",
    "        print(f\"Could not apply 99.5% central x-range: {e}\")\n",
    "\n",
    "    # Adjust y-axis label to reflect density\n",
    "    fig.update_yaxes(title_text=\"Density\")\n",
    "\n",
    "    # Add vertical lines for mean and median\n",
    "    fig.add_vline(x=mean_growth, \n",
    "                line_dash='dash', \n",
    "                line_color=WSJ_COLORS.get('blue', '#1f77b4'), \n",
    "                annotation_text='Mean (Ins)', \n",
    "                annotation_position='top right', \n",
    "                row=1, col=1)\n",
    "    fig.add_vline(x=median_growth, \n",
    "                line_dash='dot', \n",
    "                line_color=WSJ_COLORS.get('green', '#2ca02c'), \n",
    "                annotation_text='Median (Ins)', \n",
    "                annotation_position='top left', \n",
    "                row=1, col=1)\n",
    "    fig.add_vline(x=p25, \n",
    "                line_dash='dot', \n",
    "                line_color=WSJ_COLORS.get('yellow', '#d62728'), \n",
    "                annotation_text='25th pct (Ins)', \n",
    "                annotation_position='bottom left', \n",
    "                row=1, col=1)\n",
    "    fig.add_vline(x=mean_growth_no_ins, \n",
    "                line_dash='dash', \n",
    "                line_color=WSJ_COLORS.get('orange', '#ff7f0e'), \n",
    "                annotation_text='Mean (No Ins)', \n",
    "                annotation_position='top right', \n",
    "                row=1, col=1)\n",
    "    fig.add_vline(x=p25_no_ins, \n",
    "                line_dash='dot', \n",
    "                line_color=WSJ_COLORS.get('red', '#d62728'),\n",
    "                annotation_text='25th pct (No Ins)', \n",
    "                annotation_position='bottom left', \n",
    "                row=1, col=1)\n",
    "else:\n",
    "    print(\"No valid growth rate values to plot.\")\n",
    "\n",
    "# Update layout\n",
    "fig.update_layout(\n",
    "    title={\n",
    "        \"text\": \"Time-Average Growth Rate Histogram\",\n",
    "        \"x\": 0.5,\n",
    "        \"xanchor\": \"center\"\n",
    "    },\n",
    "    template='plotly_white',\n",
    "    showlegend=True,\n",
    "    legend=dict(\n",
    "        orientation='h',\n",
    "        x=0.5,\n",
    "        xanchor='center',\n",
    "        y=-0.2,\n",
    "        yanchor='top'\n",
    "    ),\n",
    "    width=800,\n",
    "    height=500\n",
    ")\n",
    "\n",
    "\n",
    "# Axes titles\n",
    "fig.update_xaxes(title_text=\"Time-Average Growth Rate (%)\")\n",
    "fig.update_yaxes(title_text=\"Frequency\")\n",
    "\n",
    "fig.show()"
   ]
  },
  {
   "cell_type": "code",
   "execution_count": 25,
   "id": "2bcb52ae",
   "metadata": {},
   "outputs": [
    {
     "name": "stdout",
     "output_type": "stream",
     "text": [
      "\n",
      "Ruin Probabilities by Time Horizon:\n",
      "  5 years: 0.00%\n",
      "  10 years: 0.00%\n",
      "\n",
      "Convergence achieved: No\n"
     ]
    },
    {
     "data": {
      "application/vnd.plotly.v1+json": {
       "config": {
        "plotlyServerURL": "https://plot.ly"
       },
       "data": [
        {
         "line": {
          "color": "#0080C7",
          "width": 2
         },
         "marker": {
          "size": 8
         },
         "mode": "lines+markers",
         "name": "Insurance",
         "type": "scatter",
         "x": [
          "5",
          "10"
         ],
         "y": [
          0,
          0
         ]
        },
        {
         "line": {
          "color": "#FF9800",
          "width": 2
         },
         "marker": {
          "size": 8
         },
         "mode": "lines+markers",
         "name": "No Insurance",
         "type": "scatter",
         "x": [
          "5",
          "10"
         ],
         "y": [
          0,
          0
         ]
        }
       ],
       "layout": {
        "height": 500,
        "legend": {
         "orientation": "h",
         "x": 0.5,
         "xanchor": "center",
         "y": -0.2,
         "yanchor": "top"
        },
        "showlegend": true,
        "template": {
         "data": {
          "bar": [
           {
            "error_x": {
             "color": "#2a3f5f"
            },
            "error_y": {
             "color": "#2a3f5f"
            },
            "marker": {
             "line": {
              "color": "white",
              "width": 0.5
             },
             "pattern": {
              "fillmode": "overlay",
              "size": 10,
              "solidity": 0.2
             }
            },
            "type": "bar"
           }
          ],
          "barpolar": [
           {
            "marker": {
             "line": {
              "color": "white",
              "width": 0.5
             },
             "pattern": {
              "fillmode": "overlay",
              "size": 10,
              "solidity": 0.2
             }
            },
            "type": "barpolar"
           }
          ],
          "carpet": [
           {
            "aaxis": {
             "endlinecolor": "#2a3f5f",
             "gridcolor": "#C8D4E3",
             "linecolor": "#C8D4E3",
             "minorgridcolor": "#C8D4E3",
             "startlinecolor": "#2a3f5f"
            },
            "baxis": {
             "endlinecolor": "#2a3f5f",
             "gridcolor": "#C8D4E3",
             "linecolor": "#C8D4E3",
             "minorgridcolor": "#C8D4E3",
             "startlinecolor": "#2a3f5f"
            },
            "type": "carpet"
           }
          ],
          "choropleth": [
           {
            "colorbar": {
             "outlinewidth": 0,
             "ticks": ""
            },
            "type": "choropleth"
           }
          ],
          "contour": [
           {
            "colorbar": {
             "outlinewidth": 0,
             "ticks": ""
            },
            "colorscale": [
             [
              0,
              "#0d0887"
             ],
             [
              0.1111111111111111,
              "#46039f"
             ],
             [
              0.2222222222222222,
              "#7201a8"
             ],
             [
              0.3333333333333333,
              "#9c179e"
             ],
             [
              0.4444444444444444,
              "#bd3786"
             ],
             [
              0.5555555555555556,
              "#d8576b"
             ],
             [
              0.6666666666666666,
              "#ed7953"
             ],
             [
              0.7777777777777778,
              "#fb9f3a"
             ],
             [
              0.8888888888888888,
              "#fdca26"
             ],
             [
              1,
              "#f0f921"
             ]
            ],
            "type": "contour"
           }
          ],
          "contourcarpet": [
           {
            "colorbar": {
             "outlinewidth": 0,
             "ticks": ""
            },
            "type": "contourcarpet"
           }
          ],
          "heatmap": [
           {
            "colorbar": {
             "outlinewidth": 0,
             "ticks": ""
            },
            "colorscale": [
             [
              0,
              "#0d0887"
             ],
             [
              0.1111111111111111,
              "#46039f"
             ],
             [
              0.2222222222222222,
              "#7201a8"
             ],
             [
              0.3333333333333333,
              "#9c179e"
             ],
             [
              0.4444444444444444,
              "#bd3786"
             ],
             [
              0.5555555555555556,
              "#d8576b"
             ],
             [
              0.6666666666666666,
              "#ed7953"
             ],
             [
              0.7777777777777778,
              "#fb9f3a"
             ],
             [
              0.8888888888888888,
              "#fdca26"
             ],
             [
              1,
              "#f0f921"
             ]
            ],
            "type": "heatmap"
           }
          ],
          "histogram": [
           {
            "marker": {
             "pattern": {
              "fillmode": "overlay",
              "size": 10,
              "solidity": 0.2
             }
            },
            "type": "histogram"
           }
          ],
          "histogram2d": [
           {
            "colorbar": {
             "outlinewidth": 0,
             "ticks": ""
            },
            "colorscale": [
             [
              0,
              "#0d0887"
             ],
             [
              0.1111111111111111,
              "#46039f"
             ],
             [
              0.2222222222222222,
              "#7201a8"
             ],
             [
              0.3333333333333333,
              "#9c179e"
             ],
             [
              0.4444444444444444,
              "#bd3786"
             ],
             [
              0.5555555555555556,
              "#d8576b"
             ],
             [
              0.6666666666666666,
              "#ed7953"
             ],
             [
              0.7777777777777778,
              "#fb9f3a"
             ],
             [
              0.8888888888888888,
              "#fdca26"
             ],
             [
              1,
              "#f0f921"
             ]
            ],
            "type": "histogram2d"
           }
          ],
          "histogram2dcontour": [
           {
            "colorbar": {
             "outlinewidth": 0,
             "ticks": ""
            },
            "colorscale": [
             [
              0,
              "#0d0887"
             ],
             [
              0.1111111111111111,
              "#46039f"
             ],
             [
              0.2222222222222222,
              "#7201a8"
             ],
             [
              0.3333333333333333,
              "#9c179e"
             ],
             [
              0.4444444444444444,
              "#bd3786"
             ],
             [
              0.5555555555555556,
              "#d8576b"
             ],
             [
              0.6666666666666666,
              "#ed7953"
             ],
             [
              0.7777777777777778,
              "#fb9f3a"
             ],
             [
              0.8888888888888888,
              "#fdca26"
             ],
             [
              1,
              "#f0f921"
             ]
            ],
            "type": "histogram2dcontour"
           }
          ],
          "mesh3d": [
           {
            "colorbar": {
             "outlinewidth": 0,
             "ticks": ""
            },
            "type": "mesh3d"
           }
          ],
          "parcoords": [
           {
            "line": {
             "colorbar": {
              "outlinewidth": 0,
              "ticks": ""
             }
            },
            "type": "parcoords"
           }
          ],
          "pie": [
           {
            "automargin": true,
            "type": "pie"
           }
          ],
          "scatter": [
           {
            "fillpattern": {
             "fillmode": "overlay",
             "size": 10,
             "solidity": 0.2
            },
            "type": "scatter"
           }
          ],
          "scatter3d": [
           {
            "line": {
             "colorbar": {
              "outlinewidth": 0,
              "ticks": ""
             }
            },
            "marker": {
             "colorbar": {
              "outlinewidth": 0,
              "ticks": ""
             }
            },
            "type": "scatter3d"
           }
          ],
          "scattercarpet": [
           {
            "marker": {
             "colorbar": {
              "outlinewidth": 0,
              "ticks": ""
             }
            },
            "type": "scattercarpet"
           }
          ],
          "scattergeo": [
           {
            "marker": {
             "colorbar": {
              "outlinewidth": 0,
              "ticks": ""
             }
            },
            "type": "scattergeo"
           }
          ],
          "scattergl": [
           {
            "marker": {
             "colorbar": {
              "outlinewidth": 0,
              "ticks": ""
             }
            },
            "type": "scattergl"
           }
          ],
          "scattermap": [
           {
            "marker": {
             "colorbar": {
              "outlinewidth": 0,
              "ticks": ""
             }
            },
            "type": "scattermap"
           }
          ],
          "scattermapbox": [
           {
            "marker": {
             "colorbar": {
              "outlinewidth": 0,
              "ticks": ""
             }
            },
            "type": "scattermapbox"
           }
          ],
          "scatterpolar": [
           {
            "marker": {
             "colorbar": {
              "outlinewidth": 0,
              "ticks": ""
             }
            },
            "type": "scatterpolar"
           }
          ],
          "scatterpolargl": [
           {
            "marker": {
             "colorbar": {
              "outlinewidth": 0,
              "ticks": ""
             }
            },
            "type": "scatterpolargl"
           }
          ],
          "scatterternary": [
           {
            "marker": {
             "colorbar": {
              "outlinewidth": 0,
              "ticks": ""
             }
            },
            "type": "scatterternary"
           }
          ],
          "surface": [
           {
            "colorbar": {
             "outlinewidth": 0,
             "ticks": ""
            },
            "colorscale": [
             [
              0,
              "#0d0887"
             ],
             [
              0.1111111111111111,
              "#46039f"
             ],
             [
              0.2222222222222222,
              "#7201a8"
             ],
             [
              0.3333333333333333,
              "#9c179e"
             ],
             [
              0.4444444444444444,
              "#bd3786"
             ],
             [
              0.5555555555555556,
              "#d8576b"
             ],
             [
              0.6666666666666666,
              "#ed7953"
             ],
             [
              0.7777777777777778,
              "#fb9f3a"
             ],
             [
              0.8888888888888888,
              "#fdca26"
             ],
             [
              1,
              "#f0f921"
             ]
            ],
            "type": "surface"
           }
          ],
          "table": [
           {
            "cells": {
             "fill": {
              "color": "#EBF0F8"
             },
             "line": {
              "color": "white"
             }
            },
            "header": {
             "fill": {
              "color": "#C8D4E3"
             },
             "line": {
              "color": "white"
             }
            },
            "type": "table"
           }
          ]
         },
         "layout": {
          "annotationdefaults": {
           "arrowcolor": "#2a3f5f",
           "arrowhead": 0,
           "arrowwidth": 1
          },
          "autotypenumbers": "strict",
          "coloraxis": {
           "colorbar": {
            "outlinewidth": 0,
            "ticks": ""
           }
          },
          "colorscale": {
           "diverging": [
            [
             0,
             "#8e0152"
            ],
            [
             0.1,
             "#c51b7d"
            ],
            [
             0.2,
             "#de77ae"
            ],
            [
             0.3,
             "#f1b6da"
            ],
            [
             0.4,
             "#fde0ef"
            ],
            [
             0.5,
             "#f7f7f7"
            ],
            [
             0.6,
             "#e6f5d0"
            ],
            [
             0.7,
             "#b8e186"
            ],
            [
             0.8,
             "#7fbc41"
            ],
            [
             0.9,
             "#4d9221"
            ],
            [
             1,
             "#276419"
            ]
           ],
           "sequential": [
            [
             0,
             "#0d0887"
            ],
            [
             0.1111111111111111,
             "#46039f"
            ],
            [
             0.2222222222222222,
             "#7201a8"
            ],
            [
             0.3333333333333333,
             "#9c179e"
            ],
            [
             0.4444444444444444,
             "#bd3786"
            ],
            [
             0.5555555555555556,
             "#d8576b"
            ],
            [
             0.6666666666666666,
             "#ed7953"
            ],
            [
             0.7777777777777778,
             "#fb9f3a"
            ],
            [
             0.8888888888888888,
             "#fdca26"
            ],
            [
             1,
             "#f0f921"
            ]
           ],
           "sequentialminus": [
            [
             0,
             "#0d0887"
            ],
            [
             0.1111111111111111,
             "#46039f"
            ],
            [
             0.2222222222222222,
             "#7201a8"
            ],
            [
             0.3333333333333333,
             "#9c179e"
            ],
            [
             0.4444444444444444,
             "#bd3786"
            ],
            [
             0.5555555555555556,
             "#d8576b"
            ],
            [
             0.6666666666666666,
             "#ed7953"
            ],
            [
             0.7777777777777778,
             "#fb9f3a"
            ],
            [
             0.8888888888888888,
             "#fdca26"
            ],
            [
             1,
             "#f0f921"
            ]
           ]
          },
          "colorway": [
           "#636efa",
           "#EF553B",
           "#00cc96",
           "#ab63fa",
           "#FFA15A",
           "#19d3f3",
           "#FF6692",
           "#B6E880",
           "#FF97FF",
           "#FECB52"
          ],
          "font": {
           "color": "#2a3f5f"
          },
          "geo": {
           "bgcolor": "white",
           "lakecolor": "white",
           "landcolor": "white",
           "showlakes": true,
           "showland": true,
           "subunitcolor": "#C8D4E3"
          },
          "hoverlabel": {
           "align": "left"
          },
          "hovermode": "closest",
          "mapbox": {
           "style": "light"
          },
          "paper_bgcolor": "white",
          "plot_bgcolor": "white",
          "polar": {
           "angularaxis": {
            "gridcolor": "#EBF0F8",
            "linecolor": "#EBF0F8",
            "ticks": ""
           },
           "bgcolor": "white",
           "radialaxis": {
            "gridcolor": "#EBF0F8",
            "linecolor": "#EBF0F8",
            "ticks": ""
           }
          },
          "scene": {
           "xaxis": {
            "backgroundcolor": "white",
            "gridcolor": "#DFE8F3",
            "gridwidth": 2,
            "linecolor": "#EBF0F8",
            "showbackground": true,
            "ticks": "",
            "zerolinecolor": "#EBF0F8"
           },
           "yaxis": {
            "backgroundcolor": "white",
            "gridcolor": "#DFE8F3",
            "gridwidth": 2,
            "linecolor": "#EBF0F8",
            "showbackground": true,
            "ticks": "",
            "zerolinecolor": "#EBF0F8"
           },
           "zaxis": {
            "backgroundcolor": "white",
            "gridcolor": "#DFE8F3",
            "gridwidth": 2,
            "linecolor": "#EBF0F8",
            "showbackground": true,
            "ticks": "",
            "zerolinecolor": "#EBF0F8"
           }
          },
          "shapedefaults": {
           "line": {
            "color": "#2a3f5f"
           }
          },
          "ternary": {
           "aaxis": {
            "gridcolor": "#DFE8F3",
            "linecolor": "#A2B1C6",
            "ticks": ""
           },
           "baxis": {
            "gridcolor": "#DFE8F3",
            "linecolor": "#A2B1C6",
            "ticks": ""
           },
           "bgcolor": "white",
           "caxis": {
            "gridcolor": "#DFE8F3",
            "linecolor": "#A2B1C6",
            "ticks": ""
           }
          },
          "title": {
           "x": 0.05
          },
          "xaxis": {
           "automargin": true,
           "gridcolor": "#EBF0F8",
           "linecolor": "#EBF0F8",
           "ticks": "",
           "title": {
            "standoff": 15
           },
           "zerolinecolor": "#EBF0F8",
           "zerolinewidth": 2
          },
          "yaxis": {
           "automargin": true,
           "gridcolor": "#EBF0F8",
           "linecolor": "#EBF0F8",
           "ticks": "",
           "title": {
            "standoff": 15
           },
           "zerolinecolor": "#EBF0F8",
           "zerolinewidth": 2
          }
         }
        },
        "title": {
         "text": "Ruin Probability by Time Horizon",
         "x": 0.5,
         "xanchor": "center"
        },
        "width": 800,
        "xaxis": {
         "title": {
          "text": "Time Horizon (years)"
         }
        },
        "yaxis": {
         "title": {
          "text": "Ruin Probability (%)"
         }
        }
       }
      }
     },
     "metadata": {},
     "output_type": "display_data"
    }
   ],
   "source": [
    "import plotly.graph_objects as go\n",
    "from plotly.subplots import make_subplots\n",
    "from ergodic_insurance.visualization.core import WSJ_COLORS\n",
    "import numpy as np\n",
    "\n",
    "# Print results\n",
    "print(f\"\\nRuin Probabilities by Time Horizon:\")\n",
    "for yr, prob in results.ruin_probability.items():\n",
    "    print(f\"  {yr} years: {prob*100:.2f}%\")\n",
    "\n",
    "print(f\"\\nConvergence achieved: {'Yes' if results.convergence else 'No'}\")\n",
    "\n",
    "# --------------------------------------\n",
    "# Ruin probability comparison (1,2)\n",
    "# --------------------------------------\n",
    "# Single figure without subplots\n",
    "fig = go.Figure()\n",
    "fig.add_trace(\n",
    "    go.Scatter(\n",
    "        x=list(results.ruin_probability.keys()),\n",
    "        y=[prob * 100 for prob in results.ruin_probability.values()],\n",
    "        mode='lines+markers',\n",
    "        name='Insurance',\n",
    "        line=dict(width=2, color=WSJ_COLORS.get('blue', '#1f77b4')),\n",
    "        marker=dict(size=8)\n",
    "    )\n",
    ")\n",
    "fig.add_trace(\n",
    "    go.Scatter(\n",
    "        x=list(results_no_ins.ruin_probability.keys()),\n",
    "        y=[prob * 100 for prob in results_no_ins.ruin_probability.values()],\n",
    "        mode='lines+markers',\n",
    "        name='No Insurance',\n",
    "        line=dict(width=2, color=WSJ_COLORS.get('orange', '#ff7f0e')),\n",
    "        marker=dict(size=8)\n",
    "    )\n",
    ")\n",
    "\n",
    "# Update layout\n",
    "fig.update_layout(\n",
    "    title={\n",
    "        \"text\": \"Ruin Probability by Time Horizon\",\n",
    "        \"x\": 0.5,\n",
    "        \"xanchor\": \"center\"\n",
    "    },\n",
    "    template='plotly_white',\n",
    "    showlegend=True,\n",
    "    legend=dict(\n",
    "        orientation='h',\n",
    "        x=0.5,\n",
    "        xanchor='center',\n",
    "        y=-0.2,\n",
    "        yanchor='top'\n",
    "    ),\n",
    "    width=800,\n",
    "    height=500\n",
    ")\n",
    "\n",
    "# Axes titles\n",
    "fig.update_xaxes(title_text=\"Time Horizon (years)\")\n",
    "fig.update_yaxes(title_text=\"Ruin Probability (%)\")\n",
    "\n",
    "fig.show()"
   ]
  },
  {
   "cell_type": "code",
   "execution_count": 26,
   "id": "19ec0acf",
   "metadata": {},
   "outputs": [
    {
     "name": "stdout",
     "output_type": "stream",
     "text": [
      "Final net asset value with insurance: $13,843,686 ± $27\n",
      "Final net asset value without insurance: $13,843,685 ± $30\n"
     ]
    }
   ],
   "source": [
    "print(f'Final net asset value with insurance: ${results.final_assets.mean():,.0f} ± ${results.final_assets.std():,.0f}')\n",
    "print(f'Final net asset value without insurance: ${results_no_ins.final_assets.mean():,.0f} ± ${results_no_ins.final_assets.std():,.0f}')"
   ]
  },
  {
   "cell_type": "code",
   "execution_count": null,
   "id": "1e592860",
   "metadata": {},
   "outputs": [],
   "source": []
  }
 ],
 "metadata": {
  "kernelspec": {
   "display_name": ".venv",
   "language": "python",
   "name": "python3"
  },
  "language_info": {
   "codemirror_mode": {
    "name": "ipython",
    "version": 3
   },
   "file_extension": ".py",
   "mimetype": "text/x-python",
   "name": "python",
   "nbconvert_exporter": "python",
   "pygments_lexer": "ipython3",
   "version": "3.12.10"
  }
 },
 "nbformat": 4,
 "nbformat_minor": 5
}
