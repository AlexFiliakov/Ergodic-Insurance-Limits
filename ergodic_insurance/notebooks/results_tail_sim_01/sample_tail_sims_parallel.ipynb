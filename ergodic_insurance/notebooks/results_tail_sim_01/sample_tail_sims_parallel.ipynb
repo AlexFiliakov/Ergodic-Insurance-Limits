{
 "cells": [
  {
   "cell_type": "markdown",
   "id": "760e0794",
   "metadata": {},
   "source": [
    "# Sample Tail Simulations"
   ]
  },
  {
   "cell_type": "code",
   "execution_count": 1,
   "id": "79bdb90e",
   "metadata": {},
   "outputs": [
    {
     "data": {
      "text/plain": [
       "'0.3.0'"
      ]
     },
     "execution_count": 1,
     "metadata": {},
     "output_type": "execute_result"
    }
   ],
   "source": [
    "import sys\n",
    "import os\n",
    "import glob\n",
    "\n",
    "# Add user site-packages to the system path\n",
    "user_site_packages = os.path.expanduser(\"~/.local/lib/python*/site-packages\")\n",
    "sys.path.extend(glob.glob(user_site_packages)) # Use glob to handle potential version differences\n",
    "\n",
    "import ergodic_insurance as ei\n",
    "\n",
    "ei.__version__"
   ]
  },
  {
   "cell_type": "code",
   "execution_count": 2,
   "id": "ec0d8e5f",
   "metadata": {},
   "outputs": [
    {
     "name": "stdout",
     "output_type": "stream",
     "text": [
      "Available cores: 16\n"
     ]
    },
    {
     "data": {
      "application/vnd.jupyter.widget-view+json": {
       "model_id": "f212c2af324a44bdb2fbb1b43c8cae48",
       "version_major": 2,
       "version_minor": 0
      },
      "text/plain": [
       "Parameter sets:   0%|          | 0/2 [00:00<?, ?it/s]"
      ]
     },
     "metadata": {},
     "output_type": "display_data"
    }
   ],
   "source": [
    "from tqdm.notebook import tqdm  # progress bar\n",
    "from itertools import product\n",
    "import os\n",
    "from joblib import Parallel, delayed\n",
    "import shutil # Import shutil for file operations\n",
    "\n",
    "from run_tail_simulation_colab import run_tail_simulation\n",
    "\n",
    "# Integrate joblib with tqdm for per-task progress\n",
    "class TqdmJoblib(tqdm):\n",
    "    def __enter__(self):\n",
    "        from joblib import parallel\n",
    "        self._original = parallel.BatchCompletionCallBack\n",
    "        outer = self\n",
    "        class TqdmBatchCompletionCallback(parallel.BatchCompletionCallBack):\n",
    "            def __call__(self, *args, **kwargs):\n",
    "                outer.update(n=self.batch_size)\n",
    "                return super().__call__(*args, **kwargs)\n",
    "        parallel.BatchCompletionCallBack = TqdmBatchCompletionCallback\n",
    "        return super().__enter__()\n",
    "    def __exit__(self, exc_type, exc, tb):\n",
    "        from joblib import parallel\n",
    "        parallel.BatchCompletionCallBack = self._original\n",
    "        return super().__exit__(exc_type, exc, tb)\n",
    "\n",
    "NUM_SIMULATIONS = 1_000\n",
    "SIM_YEARS = 25\n",
    "PRICING_SIMULATIONS = 5_000  # For premium estimation\n",
    "\n",
    "initial_assets_list = [10_000_000]\n",
    "atr_list = [1.0]\n",
    "ebitabl_list = [0.1]\n",
    "deductible_list = [100_000]\n",
    "loss_ratio_list = [0.3, 0.4, 0.5, 0.6, 0.7]\n",
    "policy_limit_list = [50_000_000, 100_000_000, 200_000_000, 500_000_000]\n",
    "extreme_threshold_percentile = [0.001, 0.0005, 0.0001]\n",
    "extreme_sev_shape = [1.0, 1.5, 2.0, 2.5]\n",
    "extreme_sev_scale_percentile = [0.5, 1.0, 1.5, 2.0]  # Scale at the 1/10th of the threshold percentile of catastrophic severity\n",
    "\n",
    "# Test overrides\n",
    "loss_ratio_list = [0.7]\n",
    "policy_limit_list = [50_000_000]\n",
    "extreme_threshold_percentile = [0.0005]\n",
    "extreme_sev_shape = [1.5]\n",
    "extreme_sev_scale_percentile = [1.5]  # Scale at the 1/10th of the threshold percentile of catastrophic severity\n",
    "\n",
    "# Use all but one CPU core\n",
    "_cpu = os.cpu_count() or 1\n",
    "n_jobs = max(_cpu, 1)\n",
    "\n",
    "print(f'Available cores: {n_jobs}')\n",
    "\n",
    "# Define the destination directory in your Google Drive\n",
    "# Make sure 'My Drive/results' exists in your Google Drive\n",
    "gdrive_results_dir = 'output'\n",
    "os.makedirs(gdrive_results_dir, exist_ok=True) # Create the directory if it doesn't exist\n",
    "\n",
    "prod_with_extreme_thresholds = product(\n",
    "                                    initial_assets_list,\n",
    "                                    atr_list,\n",
    "                                    ebitabl_list,\n",
    "                                    deductible_list,\n",
    "                                    loss_ratio_list,\n",
    "                                    policy_limit_list,\n",
    "                                    extreme_threshold_percentile,\n",
    "                                    extreme_sev_shape,\n",
    "                                    extreme_sev_scale_percentile\n",
    "                                )\n",
    "\n",
    "prod_without_extreme_thresholds = product(\n",
    "                                    initial_assets_list,\n",
    "                                    atr_list,\n",
    "                                    ebitabl_list,\n",
    "                                    deductible_list,\n",
    "                                    loss_ratio_list,\n",
    "                                    policy_limit_list,\n",
    "                                    [None],\n",
    "                                    [0.0],\n",
    "                                    [1.0]\n",
    "                                )\n",
    "\n",
    "prod_combined = list(prod_with_extreme_thresholds) + list(prod_without_extreme_thresholds)\n",
    "\n",
    "total_combos = len(prod_combined)\n",
    "\n",
    "# Parallel execution with progress bar\n",
    "with TqdmJoblib(total=total_combos, desc=\"Parameter sets\", leave=True):\n",
    "    Parallel(n_jobs=n_jobs, prefer=\"processes\", batch_size=1)(\n",
    "        delayed(run_tail_simulation)(\n",
    "            index, ia, atr, ebitabl, ded, lr, policy_limit,\n",
    "            extreme_threshold, extreme_sev_shape, extreme_sev_scale,\n",
    "            NUM_SIMULATIONS, SIM_YEARS, PRICING_SIMULATIONS,\n",
    "            filepath=gdrive_results_dir\n",
    "        )\n",
    "        for index, (ia, atr, ebitabl, ded, lr, policy_limit,\n",
    "                    extreme_threshold, extreme_sev_shape, extreme_sev_scale) in enumerate(prod_combined)\n",
    "    )"
   ]
  },
  {
   "cell_type": "code",
   "execution_count": null,
   "id": "0a790f09",
   "metadata": {},
   "outputs": [],
   "source": []
  }
 ],
 "metadata": {
  "kernelspec": {
   "display_name": ".venv",
   "language": "python",
   "name": "python3"
  },
  "language_info": {
   "codemirror_mode": {
    "name": "ipython",
    "version": 3
   },
   "file_extension": ".py",
   "mimetype": "text/x-python",
   "name": "python",
   "nbconvert_exporter": "python",
   "pygments_lexer": "ipython3",
   "version": "3.12.10"
  }
 },
 "nbformat": 4,
 "nbformat_minor": 5
}
