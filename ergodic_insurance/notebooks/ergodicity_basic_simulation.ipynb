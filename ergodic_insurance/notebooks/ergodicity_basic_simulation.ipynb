{
 "cells": [
  {
   "cell_type": "markdown",
   "id": "ef2229a8",
   "metadata": {},
   "source": [
    "# Basic Risk Frontier\n",
    "\n",
    "Future enhancements:\n",
    "- Consider trends and discounting"
   ]
  },
  {
   "cell_type": "code",
   "execution_count": 1,
   "id": "e455cffe",
   "metadata": {},
   "outputs": [],
   "source": [
    "# Import required libraries\n",
    "import numpy as np\n",
    "import pandas as pd\n",
    "import matplotlib.pyplot as plt\n",
    "import seaborn as sns\n",
    "from typing import List, Dict, Any\n",
    "import warnings\n",
    "import sys\n",
    "from pathlib import Path\n",
    "warnings.filterwarnings('ignore')\n",
    "\n",
    "# Set plotting style\n",
    "plt.style.use('seaborn-v0_8-darkgrid')\n",
    "sns.set_palette(\"husl\")\n",
    "\n",
    "from ergodic_insurance.config import ManufacturerConfig\n",
    "from ergodic_insurance.manufacturer import WidgetManufacturer\n",
    "from ergodic_insurance.exposure_base import RevenueExposure\n",
    "from ergodic_insurance.insurance import InsurancePolicy, InsuranceLayer\n",
    "from ergodic_insurance.simulation import Simulation, SimulationResults\n",
    "from ergodic_insurance.ergodic_analyzer import ErgodicAnalyzer\n",
    "from ergodic_insurance.loss_distributions import ManufacturingLossGenerator\n",
    "from ergodic_insurance.insurance_program import EnhancedInsuranceLayer, InsuranceProgram"
   ]
  },
  {
   "cell_type": "markdown",
   "id": "c2b134eb",
   "metadata": {},
   "source": [
    "## Define the Corporate Profile"
   ]
  },
  {
   "cell_type": "code",
   "execution_count": 2,
   "id": "f1d8a3b2",
   "metadata": {},
   "outputs": [],
   "source": [
    "INITIAL_ASSETS = 10_000_000\n",
    "ASSET_TURNOVER_RATIO = 1.0  # Revenue = Assets × Turnover\n",
    "EBITA_MARGIN_TARGET = 0.05  # EBITA after claims and insurance\n",
    "DEDUCTIBLE = 50_000\n",
    "LOSS_RATIO = 0.70\n",
    "\n",
    "RISK_BOOTSTRAP = 500\n",
    "\n",
    "# Create manufacturer configuration\n",
    "manufacturer_config = ManufacturerConfig(\n",
    "    initial_assets=INITIAL_ASSETS,\n",
    "    asset_turnover_ratio=ASSET_TURNOVER_RATIO,  # Revenue = Assets × Turnover\n",
    "    base_operating_margin=0.10,  # EBITA before claims and insurance (need to calibrate)\n",
    "    tax_rate=0.25,  # Current US Tax Rate\n",
    "    retention_ratio=0.70,  # 30% dividends\n",
    ")\n",
    "\n",
    "# Create widget manufacturer\n",
    "base_manufacturer = WidgetManufacturer(manufacturer_config)\n",
    "\n",
    "# Create exposure base based on revenue\n",
    "exposure = RevenueExposure(state_provider=base_manufacturer)\n"
   ]
  },
  {
   "cell_type": "markdown",
   "id": "61b541de",
   "metadata": {},
   "source": [
    "## Define Losses"
   ]
  },
  {
   "cell_type": "code",
   "execution_count": 3,
   "id": "99f3fe50",
   "metadata": {
    "notebookRunGroups": {
     "groupValue": "1"
    }
   },
   "outputs": [],
   "source": [
    "cur_revenue = base_manufacturer.total_assets * base_manufacturer.asset_turnover_ratio\n",
    "\n",
    "# Calibrate claim generator for EBITA of 5%\n",
    "target_ebita_margin = 0.05\n",
    "\n",
    "generator = ManufacturingLossGenerator(\n",
    "    attritional_params={\n",
    "        'base_frequency': 2.85,\n",
    "        'severity_mean': 40_000,\n",
    "        'severity_cv': 0.8,\n",
    "        'revenue_scaling_exponent': 1.0,\n",
    "        'reference_revenue': cur_revenue\n",
    "    },\n",
    "    large_params={\n",
    "        'base_frequency': 0.20,\n",
    "        'severity_mean': 500_000,\n",
    "        'severity_cv': 1.5,\n",
    "        'revenue_scaling_exponent': 1.0,\n",
    "        'reference_revenue': cur_revenue\n",
    "    },\n",
    "    catastrophic_params={\n",
    "        'base_frequency': 0.02,\n",
    "        'severity_xm': 5_000_000,\n",
    "        'severity_alpha': 2.5,\n",
    "        'revenue_scaling_exponent': 1.0,\n",
    "        'reference_revenue': cur_revenue\n",
    "    },\n",
    "    seed=42\n",
    ")\n",
    "\n",
    "small_generator = ManufacturingLossGenerator(\n",
    "    attritional_params={\n",
    "        'base_frequency': 5.0,\n",
    "        'severity_mean': 2,\n",
    "        'severity_cv': 0.6,\n",
    "        'revenue_scaling_exponent': 1.0,\n",
    "        'reference_revenue': cur_revenue\n",
    "    },\n",
    "    large_params={\n",
    "        'base_frequency': 0.5,\n",
    "        'severity_mean': 2,\n",
    "        'severity_cv': 1.2,\n",
    "        'revenue_scaling_exponent': 1.0,\n",
    "        'reference_revenue': cur_revenue\n",
    "    },\n",
    "    catastrophic_params={\n",
    "        'base_frequency': 0.05,\n",
    "        'severity_xm': 2,\n",
    "        'severity_alpha': 2.0,\n",
    "        'revenue_scaling_exponent': 1.0,\n",
    "        'reference_revenue': cur_revenue\n",
    "    },\n",
    "    seed=1337\n",
    ")"
   ]
  },
  {
   "cell_type": "code",
   "execution_count": 4,
   "id": "a38d5abf",
   "metadata": {},
   "outputs": [],
   "source": [
    "deductible = DEDUCTIBLE\n",
    "policy_limit = 100_000_000\n"
   ]
  },
  {
   "cell_type": "markdown",
   "id": "19d3f753",
   "metadata": {},
   "source": [
    "## Estimate Premium Assuming Perfect Distributional Knowledge"
   ]
  },
  {
   "cell_type": "code",
   "execution_count": 5,
   "id": "3b480ae6",
   "metadata": {},
   "outputs": [
    {
     "name": "stdout",
     "output_type": "stream",
     "text": [
      "Average Annual Insured Loss: $44,394\n",
      "Average Annual Retained Loss: $83,579\n"
     ]
    }
   ],
   "source": [
    "pricing_simulation_years = 500_000\n",
    "pricing_simulation_years = 10\n",
    "\n",
    "total_insured_loss = 0.0\n",
    "insured_loss_list = []\n",
    "\n",
    "total_retained_loss = 0.0\n",
    "retained_loss_list = []\n",
    "\n",
    "for yr in range(pricing_simulation_years):\n",
    "    loss_events, loss_meta = generator.generate_losses(duration=1, revenue=base_manufacturer.base_revenue)\n",
    "    for loss_event in loss_events:\n",
    "        insured_loss = max(min(loss_event.amount, policy_limit) - deductible,0)\n",
    "        \n",
    "        total_insured_loss += insured_loss\n",
    "        insured_loss_list.append(insured_loss)\n",
    "\n",
    "        retained_loss = loss_event.amount - insured_loss\n",
    "        total_retained_loss += retained_loss\n",
    "        retained_loss_list.append(retained_loss)\n",
    "\n",
    "average_annual_insured_loss = total_insured_loss / pricing_simulation_years\n",
    "average_annual_retained_loss = total_retained_loss / pricing_simulation_years\n",
    "print(f\"Average Annual Insured Loss: ${average_annual_insured_loss:,.0f}\")\n",
    "print(f\"Average Annual Retained Loss: ${average_annual_retained_loss:,.0f}\")"
   ]
  },
  {
   "cell_type": "code",
   "execution_count": 6,
   "id": "99d7aeaf",
   "metadata": {},
   "outputs": [
    {
     "name": "stdout",
     "output_type": "stream",
     "text": [
      "Ground-Up Excess Kurtosis: 20.81\n"
     ]
    }
   ],
   "source": [
    "ground_up_losses = np.asarray(insured_loss_list, dtype=float) + np.asarray(retained_loss_list, dtype=float)\n",
    "EXCESS_KURTOSIS = pd.Series(ground_up_losses).kurtosis()\n",
    "print(f\"Ground-Up Excess Kurtosis: {EXCESS_KURTOSIS:.2f}\")"
   ]
  },
  {
   "cell_type": "code",
   "execution_count": 7,
   "id": "6f50093d",
   "metadata": {},
   "outputs": [
    {
     "name": "stdout",
     "output_type": "stream",
     "text": [
      "Total observations: 28\n",
      "Zero (below deductible) count: 23 (82.1%)\n",
      "Positive insured losses: 5\n",
      "Mean positive loss: 88,788\n",
      "Median positive loss: 41,172\n",
      "95th percentile: 262,384\n",
      "99th percentile: 305,891\n",
      "Max loss (capped): 316,768\n"
     ]
    },
    {
     "data": {
      "image/png": "[encoded data removed]",
      "text/plain": [
       "<Figure size 900x1200 with 3 Axes>"
      ]
     },
     "metadata": {},
     "output_type": "display_data"
    }
   ],
   "source": [
    "# Plot distribution of insured losses from loss_list\n",
    "\n",
    "loss_array = np.asarray(insured_loss_list, dtype=float)\n",
    "\n",
    "# Basic summary\n",
    "zero_count = np.sum(loss_array == 0)\n",
    "positive_losses = loss_array[loss_array > 0]\n",
    "print(f\"Total observations: {loss_array.size:,}\")\n",
    "print(f\"Zero (below deductible) count: {zero_count:,} ({zero_count / loss_array.size:.1%})\")\n",
    "print(f\"Positive insured losses: {positive_losses.size:,}\")\n",
    "if positive_losses.size:\n",
    "    print(f\"Mean positive loss: {positive_losses.mean():,.0f}\")\n",
    "    print(f\"Median positive loss: {np.median(positive_losses):,.0f}\")\n",
    "    print(f\"95th percentile: {np.percentile(positive_losses,95):,.0f}\")\n",
    "    print(f\"99th percentile: {np.percentile(positive_losses,99):,.0f}\")\n",
    "    print(f\"Max loss (capped): {positive_losses.max():,.0f}\")\n",
    "\n",
    "# Optional down-sample for plotting heavy tails\n",
    "max_points = 200_000\n",
    "if positive_losses.size > max_points:\n",
    "    rng = np.random.default_rng(42)\n",
    "    sample_idx = rng.choice(positive_losses.size, size=max_points, replace=False)\n",
    "    plot_positive = positive_losses[sample_idx]\n",
    "else:\n",
    "    plot_positive = positive_losses\n",
    "\n",
    "fig, axes = plt.subplots(3, 1, figsize=(9, 12))\n",
    "\n",
    "# Zero vs positive\n",
    "axes[0].bar(['Zero','> 0'], [zero_count, positive_losses.size], color=['#888','#1f77b4'])\n",
    "axes[0].set_title('Zero vs Positive Insured Loss Counts')\n",
    "axes[0].set_ylabel('Count')\n",
    "\n",
    "# Histogram (linear scale, truncated upper tail to 99.5% for visibility)\n",
    "if positive_losses.size:\n",
    "    upper_cut = np.percentile(plot_positive, 99.5)\n",
    "    sns.histplot(plot_positive[plot_positive <= upper_cut],\n",
    "                 bins=50, ax=axes[1], color='#1f77b4')\n",
    "    axes[1].set_title('Insured Losses (<= 99.5th pct)')\n",
    "    axes[1].set_xlabel('Loss Amount')\n",
    "\n",
    "# Histogram (log x scale for tail)\n",
    "if positive_losses.size:\n",
    "    sns.histplot(plot_positive, bins=100, ax=axes[2], color='#ff7f0e')\n",
    "    axes[2].set_xscale('log')\n",
    "    axes[2].set_title('Insured Losses (Log X Scale)')\n",
    "    axes[2].set_xlabel('Loss Amount (log scale)')\n",
    "\n",
    "fig.suptitle('Distribution of Insured Losses', fontsize=14, y=1.02)\n",
    "plt.tight_layout()\n",
    "plt.show()"
   ]
  },
  {
   "cell_type": "code",
   "execution_count": 8,
   "id": "732452d5",
   "metadata": {},
   "outputs": [
    {
     "name": "stdout",
     "output_type": "stream",
     "text": [
      "Annual Premium: $63,420\n",
      "Total Annual Cost of Risk: $146,999\n"
     ]
    }
   ],
   "source": [
    "loss_ratio = LOSS_RATIO\n",
    "\n",
    "annual_premium = average_annual_insured_loss / loss_ratio\n",
    "print(f\"Annual Premium: ${annual_premium:,.0f}\")\n",
    "\n",
    "total_cost_of_risk = annual_premium + average_annual_retained_loss\n",
    "print(f\"Total Annual Cost of Risk: ${total_cost_of_risk:,.0f}\")"
   ]
  },
  {
   "cell_type": "code",
   "execution_count": 9,
   "id": "eaa2b272",
   "metadata": {},
   "outputs": [
    {
     "data": {
      "text/plain": [
       "639750.7551838651"
      ]
     },
     "execution_count": 9,
     "metadata": {},
     "output_type": "execute_result"
    }
   ],
   "source": [
    "cur_operating_income = base_manufacturer.calculate_operating_income(cur_revenue)\n",
    "\n",
    "cur_net_income = base_manufacturer.calculate_net_income(\n",
    "                    operating_income=cur_operating_income,\n",
    "                    collateral_costs=0.0,\n",
    "                    insurance_premiums=annual_premium,\n",
    "                    insurance_losses=average_annual_retained_loss,\n",
    "                    use_accrual=True,\n",
    "                    time_resolution=\"annual\",\n",
    "                )\n",
    "\n",
    "cur_net_income"
   ]
  },
  {
   "cell_type": "code",
   "execution_count": 10,
   "id": "df8fc0d6",
   "metadata": {},
   "outputs": [
    {
     "data": {
      "text/plain": [
       "375000.0"
      ]
     },
     "execution_count": 10,
     "metadata": {},
     "output_type": "execute_result"
    }
   ],
   "source": [
    "target_net_income = base_manufacturer.base_revenue * target_ebita_margin * (1 - base_manufacturer.tax_rate)\n",
    "target_net_income\n"
   ]
  },
  {
   "cell_type": "code",
   "execution_count": 11,
   "id": "9944fa91",
   "metadata": {},
   "outputs": [],
   "source": [
    "net_margin_diff = abs(cur_net_income - target_net_income) / cur_revenue\n",
    "\n",
    "# assert net_margin_diff < 0.0005, f\"Net income not within 0.05% of target ({net_margin_diff:.2%} difference)\""
   ]
  },
  {
   "cell_type": "code",
   "execution_count": 12,
   "id": "757d16f0",
   "metadata": {},
   "outputs": [
    {
     "name": "stdout",
     "output_type": "stream",
     "text": [
      "Net Margin after insurance: 6.40%\n",
      "EBITA Margin after insurance: 8.53%\n"
     ]
    }
   ],
   "source": [
    "net_margin = cur_net_income / cur_revenue\n",
    "print(f\"Net Margin after insurance: {net_margin:.2%}\")\n",
    "print(f\"EBITA Margin after insurance: {net_margin / (1 - base_manufacturer.tax_rate):.2%}\")"
   ]
  },
  {
   "cell_type": "markdown",
   "id": "b13ad6ca",
   "metadata": {},
   "source": [
    "## Define the Insurance Program"
   ]
  },
  {
   "cell_type": "code",
   "execution_count": 13,
   "id": "863ef28f",
   "metadata": {},
   "outputs": [],
   "source": [
    "\n",
    "all_layers = EnhancedInsuranceLayer(\n",
    "                attachment_point=deductible,\n",
    "                limit=policy_limit,\n",
    "                limit_type='per-occurrence',\n",
    "                base_premium_rate=annual_premium / policy_limit\n",
    "            )\n",
    "\n",
    "program = InsuranceProgram([all_layers])"
   ]
  },
  {
   "cell_type": "code",
   "execution_count": 14,
   "id": "b34b4886",
   "metadata": {},
   "outputs": [
    {
     "data": {
      "text/plain": [
       "np.float64(63419.94114117761)"
      ]
     },
     "execution_count": 14,
     "metadata": {},
     "output_type": "execute_result"
    }
   ],
   "source": [
    "total_premium = program.calculate_annual_premium()\n",
    "total_premium"
   ]
  },
  {
   "cell_type": "markdown",
   "id": "642ad433",
   "metadata": {},
   "source": [
    "## Begin the Study\n",
    "- Run 50 years, repricing each time\n",
    "  - Adjust premium appropriately to reflect loss costs\n",
    "- Study results\n",
    "- Set up additional parameters\n",
    "- Study aggregate results and frontiers"
   ]
  },
  {
   "cell_type": "markdown",
   "id": "ddc7685d",
   "metadata": {},
   "source": [
    "### Define the Business Financials"
   ]
  },
  {
   "cell_type": "code",
   "execution_count": 15,
   "id": "5cded72a",
   "metadata": {},
   "outputs": [
    {
     "name": "stdout",
     "output_type": "stream",
     "text": [
      "Average Annual Insured Loss: $274,793\n",
      "Average Annual Retained Loss: $104,245\n",
      "Annual Premium: $392,561\n",
      "Total Annual Cost of Risk: $496,806\n",
      "Net Margin after insurance: 3.77%\n",
      "EBITA Margin after insurance: 5.03%\n"
     ]
    }
   ],
   "source": [
    "# Create manufacturer configuration\n",
    "manufacturer_config = ManufacturerConfig(\n",
    "    initial_assets=10_000_000,\n",
    "    asset_turnover_ratio=1.0,  # Revenue = Assets × Turnover\n",
    "    base_operating_margin=0.10,  # EBITA before claims and insurance\n",
    "    tax_rate=0.25,  # Current US Tax Rate\n",
    "    retention_ratio=0.70,  # 30% dividends\n",
    ")\n",
    "\n",
    "# Create widget manufacturer\n",
    "base_manufacturer = WidgetManufacturer(manufacturer_config)\n",
    "\n",
    "# Create exposure base based on revenue\n",
    "exposure = RevenueExposure(state_provider=base_manufacturer)\n",
    "\n",
    "cur_revenue = base_manufacturer.total_assets * base_manufacturer.asset_turnover_ratio\n",
    "\n",
    "# Calibrate claim generator for EBITA of 5%\n",
    "target_ebita_margin = 0.05\n",
    "\n",
    "generator = ManufacturingLossGenerator(\n",
    "    attritional_params={\n",
    "        'base_frequency': 2.85,\n",
    "        'severity_mean': 40_000,\n",
    "        'severity_cv': 0.8,\n",
    "        'revenue_scaling_exponent': 1.0,\n",
    "        'reference_revenue': cur_revenue\n",
    "    },\n",
    "    large_params={\n",
    "        'base_frequency': 0.20,\n",
    "        'severity_mean': 500_000,\n",
    "        'severity_cv': 1.5,\n",
    "        'revenue_scaling_exponent': 1.0,\n",
    "        'reference_revenue': cur_revenue\n",
    "    },\n",
    "    catastrophic_params={\n",
    "        'base_frequency': 0.02,\n",
    "        'severity_xm': 5_000_000,\n",
    "        'severity_alpha': 2.5,\n",
    "        'revenue_scaling_exponent': 1.0,\n",
    "        'reference_revenue': cur_revenue\n",
    "    },\n",
    "    seed=42\n",
    ")\n",
    "\n",
    "deductible = 50_000\n",
    "policy_limit = 40_000_000\n",
    "\n",
    "pricing_simulation_years = 500_000\n",
    "\n",
    "total_insured_loss = 0.0\n",
    "insured_loss_list = []\n",
    "\n",
    "total_retained_loss = 0.0\n",
    "retained_loss_list = []\n",
    "\n",
    "for yr in range(pricing_simulation_years):\n",
    "    loss_events, loss_meta = generator.generate_losses(duration=1, revenue=base_manufacturer.base_revenue)\n",
    "    for loss_event in loss_events:\n",
    "        insured_loss = max(min(loss_event.amount, policy_limit) - deductible,0)\n",
    "        \n",
    "        total_insured_loss += insured_loss\n",
    "        insured_loss_list.append(insured_loss)\n",
    "\n",
    "        retained_loss = loss_event.amount - insured_loss\n",
    "        total_retained_loss += retained_loss\n",
    "        retained_loss_list.append(retained_loss)\n",
    "\n",
    "average_annual_insured_loss = total_insured_loss / pricing_simulation_years\n",
    "average_annual_retained_loss = total_retained_loss / pricing_simulation_years\n",
    "print(f\"Average Annual Insured Loss: ${average_annual_insured_loss:,.0f}\")\n",
    "print(f\"Average Annual Retained Loss: ${average_annual_retained_loss:,.0f}\")\n",
    "\n",
    "loss_ratio = 0.70\n",
    "\n",
    "annual_premium = average_annual_insured_loss / loss_ratio\n",
    "print(f\"Annual Premium: ${annual_premium:,.0f}\")\n",
    "\n",
    "total_cost_of_risk = annual_premium + average_annual_retained_loss\n",
    "print(f\"Total Annual Cost of Risk: ${total_cost_of_risk:,.0f}\")\n",
    "\n",
    "cur_operating_income = base_manufacturer.calculate_operating_income(cur_revenue)\n",
    "\n",
    "cur_net_income = base_manufacturer.calculate_net_income(\n",
    "                    operating_income=cur_operating_income,\n",
    "                    collateral_costs=0.0,\n",
    "                    insurance_premiums=annual_premium,\n",
    "                    insurance_losses=average_annual_retained_loss,\n",
    "                    use_accrual=True,\n",
    "                    time_resolution=\"annual\",\n",
    "                )\n",
    "\n",
    "cur_net_income\n",
    "\n",
    "target_net_income = base_manufacturer.base_revenue * target_ebita_margin * (1 - base_manufacturer.tax_rate)\n",
    "target_net_income\n",
    "\n",
    "net_margin_diff = abs(cur_net_income - target_net_income) / cur_revenue\n",
    "\n",
    "# assert net_margin_diff < 0.0005, f\"Net income not within 0.05% of target ({net_margin_diff:.2%} difference)\"\n",
    "\n",
    "net_margin = cur_net_income / cur_revenue\n",
    "print(f\"Net Margin after insurance: {net_margin:.2%}\")\n",
    "print(f\"EBITA Margin after insurance: {net_margin / (1 - base_manufacturer.tax_rate):.2%}\")"
   ]
  },
  {
   "cell_type": "markdown",
   "id": "e3cb442c",
   "metadata": {},
   "source": [
    "### Define the Insurance Program"
   ]
  },
  {
   "cell_type": "code",
   "execution_count": null,
   "id": "474e753b",
   "metadata": {},
   "outputs": [],
   "source": [
    "from ergodic_insurance.insurance_pricing import InsurancePricer, PricingParameters\n",
    "\n",
    "# Since we're using small_generator with tiny losses (severity_mean=2),\n",
    "# the insurance premium should be proportionally small\n",
    "# Calculate the actual expected losses from small_generator\n",
    "small_simulation_years = 1000\n",
    "small_total_insured_loss = 0.0\n",
    "\n",
    "for yr in range(small_simulation_years):\n",
    "    loss_events, loss_meta = small_generator.generate_losses(duration=1, revenue=base_manufacturer.base_revenue)\n",
    "    for loss_event in loss_events:\n",
    "        insured_loss = max(min(loss_event.amount, policy_limit) - deductible, 0)\n",
    "        small_total_insured_loss += insured_loss\n",
    "\n",
    "small_average_annual_insured_loss = small_total_insured_loss / small_simulation_years\n",
    "print(f\"Small Generator Average Annual Insured Loss: ${small_average_annual_insured_loss:,.2f}\")\n",
    "\n",
    "# Calculate premium based on actual small losses\n",
    "small_annual_premium = small_average_annual_insured_loss / loss_ratio\n",
    "print(f\"Small Generator Annual Premium: ${small_annual_premium:,.2f}\")\n",
    "\n",
    "policy_pricer = InsurancePricer(loss_generator=small_generator,\n",
    "                                loss_ratio=loss_ratio,\n",
    "                                parameters=PricingParameters(\n",
    "                                    loss_ratio=loss_ratio,\n",
    "                                    simulation_years=100_000\n",
    "                                    )\n",
    "                                )\n",
    "\n",
    "all_layers = EnhancedInsuranceLayer(\n",
    "                attachment_point=deductible,\n",
    "                limit=policy_limit,\n",
    "                limit_type='per-occurrence',\n",
    "                base_premium_rate=small_annual_premium / policy_limit  # Use small premium\n",
    "            )\n",
    "\n",
    "program = InsuranceProgram([all_layers],\n",
    "                            pricing_enabled=True,\n",
    "                            pricer=policy_pricer)\n",
    "\n",
    "total_premium = program.calculate_annual_premium()\n",
    "print(f\"Total Program Premium: ${total_premium:,.2f}\")\n",
    "\n",
    "# The assertion should check against the small premium\n",
    "assert abs(total_premium - small_annual_premium) < 1.0, f\"Calculated premium ({total_premium:,.0f}) does not match target premium ({small_annual_premium:,.0f})\""
   ]
  },
  {
   "cell_type": "markdown",
   "id": "aede05e2",
   "metadata": {},
   "source": [
    "## Set Up the Simulation"
   ]
  },
  {
   "cell_type": "code",
   "execution_count": null,
   "id": "168597a6",
   "metadata": {},
   "outputs": [
    {
     "name": "stdout",
     "output_type": "stream",
     "text": [
      "Setting up Monte Carlo engine with Insurance...\n",
      "Engine configured: 100 simulations, 10 years\n",
      "Parallel processing: False\n",
      "Number of chains: 4\n",
      "Deductible: 0.0\n"
     ]
    }
   ],
   "source": [
    "from ergodic_insurance.monte_carlo import MonteCarloEngine, SimulationConfig, SimulationResults\n",
    "\n",
    "def setup_simulation_engine(n_simulations=10_000, n_years=10, parallel=False, insurance_program=None):\n",
    "    \"\"\"Set up Monte Carlo simulation engine.\"\"\"\n",
    "    # Create simulation config\n",
    "    config = SimulationConfig(\n",
    "        n_simulations=n_simulations,\n",
    "        n_years=n_years,\n",
    "        n_chains=4,\n",
    "        parallel=parallel,\n",
    "        n_workers=None,\n",
    "        chunk_size=max(1000, n_simulations // 10),\n",
    "        use_float32=True,\n",
    "        cache_results=False,\n",
    "        progress_bar=True,\n",
    "        ruin_evaluation=[5, 10, 15, 20, 25, 30, 35, 40, 45, 50],\n",
    "        working_capital_pct=0.0,  # Set working capital to 0% for full asset revenue generation\n",
    "        seed=42\n",
    "    )\n",
    "    \n",
    "    if insurance_program is None:\n",
    "        insurance_program = InsuranceProgram(\n",
    "                                layers=[],  # Empty list to define no coverage\n",
    "                                deductible=0.0,  # No deductible needed since all losses are retained\n",
    "                                name=\"No Insurance\"\n",
    "                            )\n",
    "\n",
    "    # Create engine\n",
    "    engine = MonteCarloEngine(\n",
    "        loss_generator=small_generator,\n",
    "        insurance_program=insurance_program,\n",
    "        manufacturer=base_manufacturer,\n",
    "        config=config\n",
    "    )\n",
    "    \n",
    "    return engine\n",
    "\n",
    "# Create engine\n",
    "print(\"Setting up Monte Carlo engine with Insurance...\")\n",
    "engine = setup_simulation_engine(n_simulations=100, n_years=10, parallel=False, insurance_program=program)\n",
    "print(f\"Engine configured: {engine.config.n_simulations:,} simulations, {engine.config.n_years} years\")\n",
    "print(f\"Parallel processing: {engine.config.parallel}\")\n",
    "print(f\"Number of chains: {engine.config.n_chains}\")\n",
    "print(f\"Deductible: {engine.insurance_program.deductible}\")"
   ]
  },
  {
   "cell_type": "markdown",
   "id": "b71fed8c",
   "metadata": {},
   "source": [
    "### Set Up the Simulation Without Insurance"
   ]
  },
  {
   "cell_type": "code",
   "execution_count": 18,
   "id": "82b0b72f",
   "metadata": {},
   "outputs": [
    {
     "name": "stdout",
     "output_type": "stream",
     "text": [
      "Setting up Monte Carlo engine without Insurance...\n",
      "Engine configured: 100 simulations, 10 years\n",
      "Parallel processing: False\n",
      "Number of chains: 4\n",
      "Deductible: 0.0\n"
     ]
    }
   ],
   "source": [
    "# Create engine without insurance\n",
    "print(\"Setting up Monte Carlo engine without Insurance...\")\n",
    "engine_no_ins = setup_simulation_engine(n_simulations=100, n_years=10, parallel=False, insurance_program=None)\n",
    "print(f\"Engine configured: {engine_no_ins.config.n_simulations:,} simulations, {engine_no_ins.config.n_years} years\")\n",
    "print(f\"Parallel processing: {engine_no_ins.config.parallel}\")\n",
    "print(f\"Number of chains: {engine_no_ins.config.n_chains}\")\n",
    "print(f\"Deductible: {engine_no_ins.insurance_program.deductible}\")"
   ]
  },
  {
   "cell_type": "markdown",
   "id": "4bca92d4",
   "metadata": {},
   "source": [
    "## Run the Simulation"
   ]
  },
  {
   "cell_type": "code",
   "execution_count": 19,
   "id": "96c6c5fb",
   "metadata": {},
   "outputs": [
    {
     "name": "stderr",
     "output_type": "stream",
     "text": [
      "Running simulations: 100%|██████████| 100/100 [00:00<00:00, 427.96it/s]\n",
      "Running simulations: 100%|██████████| 100/100 [00:00<00:00, 605.16it/s]\n"
     ]
    }
   ],
   "source": [
    "results = engine.run()\n",
    "results_no_ins = engine_no_ins.run()"
   ]
  },
  {
   "cell_type": "code",
   "execution_count": 20,
   "id": "8e755655",
   "metadata": {},
   "outputs": [],
   "source": [
    "import pickle\n",
    "\n",
    "filename = f\"results\\Cap ({INITIAL_ASSETS/1_000_000:.0f}M) -\\\n",
    " ATR ({ASSET_TURNOVER_RATIO}) -\\\n",
    " EBITA ({EBITA_MARGIN_TARGET}) -\\\n",
    " XS_Kurt ({EXCESS_KURTOSIS:.0f}) -\\\n",
    " Ded ({DEDUCTIBLE/1_000:.0f}K) -\\\n",
    " LR ({LOSS_RATIO}).pkl\"\n",
    "\n",
    "with open(filename, \"wb\") as f:\n",
    "    pickle.dump(results, f, protocol=pickle.HIGHEST_PROTOCOL)"
   ]
  },
  {
   "cell_type": "code",
   "execution_count": 21,
   "id": "f45e17ce",
   "metadata": {},
   "outputs": [],
   "source": [
    "import pickle\n",
    "\n",
    "filename_no_ins = f\"results\\Cap ({INITIAL_ASSETS/1_000_000:.0f}M) -\\\n",
    " ATR ({ASSET_TURNOVER_RATIO}) -\\\n",
    " EBITA ({EBITA_MARGIN_TARGET}) -\\\n",
    " XS_Kurt ({EXCESS_KURTOSIS:.0f}) -\\\n",
    " NOINS.pkl\"\n",
    "\n",
    "with open(filename_no_ins, \"wb\") as f:\n",
    "    pickle.dump(results_no_ins, f, protocol=pickle.HIGHEST_PROTOCOL)"
   ]
  },
  {
   "cell_type": "code",
   "execution_count": 22,
   "id": "e7767b1a",
   "metadata": {},
   "outputs": [
    {
     "name": "stdout",
     "output_type": "stream",
     "text": [
      "Simulation Results Summary\n",
      "==================================================\n",
      "Simulations: 100\n",
      "Years: 10\n",
      "Execution Time: 0.34s\n",
      "Ruin Probability:\n",
      "  Year 5: 0.00%\n",
      "  Year 10: 0.00%\n",
      "Mean Final Assets: $8,001,562\n",
      "Mean Growth Rate: -0.0223\n",
      "VaR(99%): $180\n",
      "TVaR(99%): $183\n",
      "Convergence R-hat: 0.000\n",
      "\n",
      "==================================================\n",
      "Performance Summary\n",
      "==================================================\n",
      "Total Time: 0.34s\n",
      "Setup: 0.00s\n",
      "Computation: 0.34s\n",
      "Serialization: 0.00s (0.0% overhead)\n",
      "Reduction: 0.00s\n",
      "Peak Memory: 0.0 MB\n",
      "CPU Utilization: 0.0%\n",
      "Throughput: 298 items/s\n",
      "Speedup: 1.00x\n",
      "\n",
      "==================================================\n",
      "Advanced Aggregation Results:\n",
      "  p1: $8,001,491\n",
      "  p5: $8,001,505\n",
      "  p10: $8,001,518\n",
      "  p25: $8,001,537\n",
      "  p50: $8,001,565\n",
      "  p75: $8,001,585\n",
      "  p90: $8,001,607\n",
      "  p95: $8,001,616\n",
      "  p99: $8,001,635\n",
      "\n"
     ]
    }
   ],
   "source": [
    "print(results.summary())"
   ]
  },
  {
   "cell_type": "code",
   "execution_count": 25,
   "id": "80dcef59",
   "metadata": {},
   "outputs": [
    {
     "name": "stdout",
     "output_type": "stream",
     "text": [
      "Simulation Results Summary\n",
      "==================================================\n",
      "Simulations: 100\n",
      "Years: 10\n",
      "Execution Time: 0.26s\n",
      "Ruin Probability:\n",
      "  Year 5: 0.00%\n",
      "  Year 10: 0.00%\n",
      "Mean Final Assets: $10,204,503\n",
      "Mean Growth Rate: 0.0020\n",
      "VaR(99%): $207\n",
      "TVaR(99%): $220\n",
      "Convergence R-hat: 0.000\n",
      "\n",
      "==================================================\n",
      "Performance Summary\n",
      "==================================================\n",
      "Total Time: 0.26s\n",
      "Setup: 0.00s\n",
      "Computation: 0.26s\n",
      "Serialization: 0.00s (0.0% overhead)\n",
      "Reduction: 0.00s\n",
      "Peak Memory: 0.0 MB\n",
      "CPU Utilization: 0.0%\n",
      "Throughput: 380 items/s\n",
      "Speedup: 1.00x\n",
      "\n",
      "==================================================\n",
      "Advanced Aggregation Results:\n",
      "  p1: $10,204,403\n",
      "  p5: $10,204,440\n",
      "  p10: $10,204,456\n",
      "  p25: $10,204,478\n",
      "  p50: $10,204,502\n",
      "  p75: $10,204,529\n",
      "  p90: $10,204,553\n",
      "  p95: $10,204,563\n",
      "  p99: $10,204,579\n",
      "\n"
     ]
    }
   ],
   "source": [
    "print(results_no_ins.summary())"
   ]
  },
  {
   "cell_type": "code",
   "execution_count": 23,
   "id": "92ffb219",
   "metadata": {},
   "outputs": [
    {
     "name": "stdout",
     "output_type": "stream",
     "text": [
      "\n",
      "Ruin Probabilities by Time Horizon:\n",
      "  5 years: 0.00%\n",
      "  10 years: 0.00%\n",
      "\n",
      "Convergence achieved: No\n",
      "Growth Rate Summary With Insurance (%): Mean=-2.23, Median=-2.23, 25th=-2.23, 5th=-2.23\n",
      "Growth Rate Summary Without Insurance (%): Mean=0.20, Median=0.20, 25th=0.20, 5th=0.20\n"
     ]
    },
    {
     "data": {
      "application/vnd.plotly.v1+json": {
       "config": {
        "plotlyServerURL": "https://plot.ly"
       },
       "data": [
        {
         "line": {
          "color": "#0080C7",
          "width": 2
         },
         "mode": "lines",
         "name": "Insurance",
         "type": "scatter",
         "x": {
          "bdata": "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",
          "dtype": "f8"
         },
         "y": {
          "bdata": "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",
          "dtype": "f8"
         }
        },
        {
         "line": {
          "color": "#FF9800",
          "width": 2
         },
         "mode": "lines",
         "name": "No Insurance",
         "type": "scatter",
         "x": {
          "bdata": "AAAAEirmyT+j3osMLubJP0a9Fwcy5sk/6ZujATbmyT+Mei/8OebJPy9Zu/Y95sk/0jdH8UHmyT91FtPrRebJPxj1XuZJ5sk/u9Pq4E3myT9esnbbUebJPwGRAtZV5sk/pG+O0FnmyT9HThrLXebJP+ospsVh5sk/jQsywGXmyT8v6r26aebJP9LISbVt5sk/dafVr3HmyT8YhmGqdebJP7tk7aR55sk/XkN5n33myT8BIgWagebJP6QAkZSF5sk/R98cj4nmyT/qvaiJjebJP42cNISR5sk/MHvAfpXmyT/TWUx5mebJP3Y42HOd5sk/GRdkbqHmyT+89e9opebJP1/Ue2Op5sk/ArMHXq3myT+lkZNYsebJP0hwH1O15sk/606rTbnmyT+OLTdIvebJPzEMw0LB5sk/1OpOPcXmyT93ydo3yebJPxqoZjLN5sk/vYbyLNHmyT9gZX4n1ebJPwNECiLZ5sk/piKWHN3myT9JASIX4ebJP+vfrRHl5sk/jr45DOnmyT8xncUG7ebJP9R7UQHx5sk/d1rd+/TmyT8aOWn2+ObJP70X9fD85sk/YPaA6wDnyT8D1QzmBOfJP6azmOAI58k/SZIk2wznyT/scLDVEOfJP49PPNAU58k/Mi7IyhjnyT/VDFTFHOfJP3jr378g58k/G8pruiTnyT++qPe0KOfJP2GHg68s58k/BGYPqjDnyT+nRJukNOfJP0ojJ58458k/7QGzmTznyT+Q4D6UQOfJPzO/yo5E58k/1p1WiUjnyT95fOKDTOfJPxxbbn5Q58k/vzn6eFTnyT9iGIZzWOfJPwT3EW5c58k/p9WdaGDnyT9KtCljZOfJP+2StV1o58k/kHFBWGznyT8zUM1ScOfJP9YuWU1058k/eQ3lR3jnyT8c7HBCfOfJP7/K/DyA58k/YqmIN4TnyT8FiBQyiOfJP6hmoCyM58k/S0UsJ5DnyT/uI7ghlOfJP5ECRByY58k/NOHPFpznyT/Xv1sRoOfJP3qe5wuk58k/HX1zBqjnyT/AW/8ArOfJP2M6i/uv58k/BhkX9rPnyT+p96Lwt+fJP0zWLuu758k/77S65b/nyT+Sk0bgw+fJPzVy0trH58k/2FBe1cvnyT97L+rPz+fJPx4OdsrT58k/wOwBxdfnyT9jy42/2+fJPwaqGbrf58k/qYiltOPnyT9MZzGv5+fJP+9Fvanr58k/kiRJpO/nyT81A9We8+fJP9jhYJn358k/e8Dsk/vnyT8en3iO/+fJP8F9BIkD6Mk/ZFyQgwfoyT8HOxx+C+jJP6oZqHgP6Mk/TfgzcxPoyT/w1r9tF+jJP5O1S2gb6Mk/NpTXYh/oyT/ZcmNdI+jJP3xR71cn6Mk/HzB7UivoyT/CDgdNL+jJP2Xtkkcz6Mk/CMweQjfoyT+rqqo8O+jJP06JNjc/6Mk/8WfCMUPoyT+URk4sR+jJPzcl2iZL6Mk/2gNmIU/oyT984vEbU+jJPx/BfRZX6Mk/wp8JEVvoyT9lfpULX+jJPwhdIQZj6Mk/qzutAGfoyT9OGjn7aujJP/H4xPVu6Mk/lNdQ8HLoyT83ttzqdujJP9qUaOV66Mk/fXP0337oyT8gUoDagujJP8MwDNWG6Mk/Zg+Yz4royT8J7iPKjujJP6zMr8SS6Mk/T6s7v5boyT/yice5mujJP5VoU7Se6Mk/OEffrqLoyT/bJWuppujJP34E96Oq6Mk/IeOCnq7oyT/EwQ6ZsujJP2egmpO26Mk/Cn8mjrroyT+tXbKIvujJP1A8PoPC6Mk/8xrKfcboyT+V+VV4yujJPzjY4XLO6Mk/27ZtbdLoyT9+lfln1ujJPyF0hWLa6Mk/xFIRXd7oyT9nMZ1X4ujJPwoQKVLm6Mk/re60TOroyT9QzUBH7ujJP/OrzEHy6Mk/lopYPPboyT85aeQ2+ujJP9xHcDH+6Mk/fyb8KwLpyT8iBYgmBunJP8XjEyEK6ck/aMKfGw7pyT8LoSsWEunJP65/txAW6ck/UV5DCxrpyT/0PM8FHunJP5cbWwAi6ck/Ovrm+iXpyT/d2HL1KenJP4C3/u8t6ck/I5aK6jHpyT/GdBblNenJP2lTot856ck/DDIu2j3pyT+vELrUQenJP1HvRc9F6ck/9M3RyUnpyT+XrF3ETenJPzqL6b5R6ck/3Wl1uVXpyT+ASAG0WenJPyMnja5d6ck/xgUZqWHpyT9p5KSjZenJPwzDMJ5p6ck/r6G8mG3pyT9SgEiTcenJP/Ve1I116ck/mD1giHnpyT87HOyCfenJP976d32B6ck/gdkDeIXpyT8kuI9yienJP8eWG22N6ck/anWnZ5HpyT8NVDNilenJP7Ayv1yZ6ck/UxFLV53pyT/279ZRoenJP5nOYkyl6ck/PK3uRqnpyT/fi3pBrenJP4JqBjyx6ck/JUmSNrXpyT/IJx4xuenJP2sGqiu96ck/DeU1JsHpyT+ww8EgxenJP1OiTRvJ6ck/9oDZFc3pyT+ZX2UQ0enJPzw+8QrV6ck/3xx9BdnpyT+C+wgA3enJPyXalPrg6ck/yLgg9eTpyT9rl6zv6OnJPw52OOrs6ck/sVTE5PDpyT9UM1Df9OnJP/cR3Nn46ck/mvBn1PzpyT89z/POAOrJP+Ctf8kE6sk/g4wLxAjqyT8ma5e+DOrJP8lJI7kQ6sk/bCivsxTqyT8PBzuuGOrJP7Llxqgc6sk/VcRSoyDqyT/4ot6dJOrJP5uBapgo6sk/PmD2kizqyT/hPoKNMOrJP4QdDog06sk/JvyZgjjqyT/J2iV9POrJP2y5sXdA6sk/D5g9ckTqyT+ydslsSOrJP1VVVWdM6sk/+DPhYVDqyT+bEm1cVOrJPz7x+FZY6sk/4c+EUVzqyT+ErhBMYOrJPyeNnEZk6sk/ymsoQWjqyT9tSrQ7bOrJPxApQDZw6sk/swfMMHTqyT9W5lcreOrJP/nE4yV86sk/nKNvIIDqyT8/gvsahOrJP+JghxWI6sk/hT8TEIzqyT8oHp8KkOrJP8v8KgWU6sk/btu2/5fqyT8RukL6m+rJP7SYzvSf6sk/V3da76PqyT/6Vebpp+rJP500cuSr6sk/QBP+3q/qyT/i8YnZs+rJP4XQFdS36sk/KK+hzrvqyT/LjS3Jv+rJP25sucPD6sk/EUtFvsfqyT+0KdG4y+rJP1cIXbPP6sk/+ubordPqyT+dxXSo1+rJP0CkAKPb6sk/44KMnd/qyT+GYRiY4+rJPylApJLn6sk/zB4wjevqyT9v/buH7+rJPxLcR4Lz6sk/tbrTfPfqyT9YmV93++rJP/t363H/6sk/nlZ3bAPryT9BNQNnB+vJP+QTj2EL68k/h/IaXA/ryT8q0aZWE+vJP82vMlEX68k/cI6+SxvryT8TbUpGH+vJP7ZL1kAj68k/WSpiOyfryT/8CO41K+vJP57neTAv68k/QcYFKzPryT/kpJElN+vJP4eDHSA768k/KmKpGj/ryT/NQDUVQ+vJP3AfwQ9H68k/E/5MCkvryT+23NgET+vJP1m7ZP9S68k//Jnw+VbryT+feHz0WuvJP0JXCO9e68k/5TWU6WLryT+IFCDkZuvJPyvzq95q68k/ztE32W7ryT9xsMPTcuvJPxSPT85268k/t23byHrryT9aTGfDfuvJP/0q872C68k/oAl/uIbryT9D6AqziuvJP+bGlq2O68k/iaUiqJLryT8shK6iluvJP89iOp2a68k/ckHGl57ryT8VIFKSouvJP7f+3Yym68k/Wt1ph6rryT/9u/WBruvJP6CagXyy68k/Q3kNd7bryT/mV5lxuuvJP4k2JWy+68k/LBWxZsLryT/P8zxhxuvJP3LSyFvK68k/FbFUVs7ryT+4j+BQ0uvJP1tubEvW68k//kz4RdrryT+hK4RA3uvJP0QKEDvi68k/5+ibNebryT+Kxycw6uvJPy2msyru68k/0IQ/JfLryT9zY8sf9uvJPxZCVxr668k/uSDjFP7ryT9c/24PAuzJP//d+gkG7Mk/oryGBArsyT9FmxL/DezJP+h5nvkR7Mk/i1gq9BXsyT8uN7buGezJP9EVQukd7Mk/c/TN4yHsyT8W01neJezJP7mx5dgp7Mk/XJBx0y3syT//bv3NMezJP6JNicg17Mk/RSwVwznsyT/oCqG9PezJP4vpLLhB7Mk/Lsi4skXsyT/RpkStSezJP3SF0KdN7Mk/F2RcolHsyT+6QuicVezJP10hdJdZ7Mk/AAAAkl3syT8=",
          "dtype": "f8"
         },
         "y": {
          "bdata": "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",
          "dtype": "f8"
         }
        }
       ],
       "layout": {
        "annotations": [
         {
          "showarrow": false,
          "text": "Mean (Ins)",
          "x": -2.2294828817248344,
          "xanchor": "left",
          "xref": "x",
          "y": 1,
          "yanchor": "top",
          "yref": "y domain"
         },
         {
          "showarrow": false,
          "text": "Median (Ins)",
          "x": -2.2294793277978897,
          "xanchor": "right",
          "xref": "x",
          "y": 1,
          "yanchor": "top",
          "yref": "y domain"
         },
         {
          "showarrow": false,
          "text": "25th pct (Ins)",
          "x": -2.229514252394438,
          "xanchor": "right",
          "xref": "x",
          "y": 0,
          "yanchor": "bottom",
          "yref": "y domain"
         },
         {
          "showarrow": false,
          "text": "Mean (No Ins)",
          "x": 0.2024400623049587,
          "xanchor": "left",
          "xref": "x",
          "y": 1,
          "yanchor": "top",
          "yref": "y domain"
         },
         {
          "showarrow": false,
          "text": "25th pct (No Ins)",
          "x": 0.202415999956429,
          "xanchor": "right",
          "xref": "x",
          "y": 0,
          "yanchor": "bottom",
          "yref": "y domain"
         }
        ],
        "height": 500,
        "legend": {
         "orientation": "h",
         "x": 0.5,
         "xanchor": "center",
         "y": -0.2,
         "yanchor": "top"
        },
        "shapes": [
         {
          "line": {
           "color": "#0080C7",
           "dash": "dash"
          },
          "type": "line",
          "x0": -2.2294828817248344,
          "x1": -2.2294828817248344,
          "xref": "x",
          "y0": 0,
          "y1": 1,
          "yref": "y domain"
         },
         {
          "line": {
           "color": "#4CAF50",
           "dash": "dot"
          },
          "type": "line",
          "x0": -2.2294793277978897,
          "x1": -2.2294793277978897,
          "xref": "x",
          "y0": 0,
          "y1": 1,
          "yref": "y domain"
         },
         {
          "line": {
           "color": "#FFD700",
           "dash": "dot"
          },
          "type": "line",
          "x0": -2.229514252394438,
          "x1": -2.229514252394438,
          "xref": "x",
          "y0": 0,
          "y1": 1,
          "yref": "y domain"
         },
         {
          "line": {
           "color": "#FF9800",
           "dash": "dash"
          },
          "type": "line",
          "x0": 0.2024400623049587,
          "x1": 0.2024400623049587,
          "xref": "x",
          "y0": 0,
          "y1": 1,
          "yref": "y domain"
         },
         {
          "line": {
           "color": "#D32F2F",
           "dash": "dot"
          },
          "type": "line",
          "x0": 0.202415999956429,
          "x1": 0.202415999956429,
          "xref": "x",
          "y0": 0,
          "y1": 1,
          "yref": "y domain"
         }
        ],
        "showlegend": true,
        "template": {
         "data": {
          "bar": [
           {
            "error_x": {
             "color": "#2a3f5f"
            },
            "error_y": {
             "color": "#2a3f5f"
            },
            "marker": {
             "line": {
              "color": "white",
              "width": 0.5
             },
             "pattern": {
              "fillmode": "overlay",
              "size": 10,
              "solidity": 0.2
             }
            },
            "type": "bar"
           }
          ],
          "barpolar": [
           {
            "marker": {
             "line": {
              "color": "white",
              "width": 0.5
             },
             "pattern": {
              "fillmode": "overlay",
              "size": 10,
              "solidity": 0.2
             }
            },
            "type": "barpolar"
           }
          ],
          "carpet": [
           {
            "aaxis": {
             "endlinecolor": "#2a3f5f",
             "gridcolor": "#C8D4E3",
             "linecolor": "#C8D4E3",
             "minorgridcolor": "#C8D4E3",
             "startlinecolor": "#2a3f5f"
            },
            "baxis": {
             "endlinecolor": "#2a3f5f",
             "gridcolor": "#C8D4E3",
             "linecolor": "#C8D4E3",
             "minorgridcolor": "#C8D4E3",
             "startlinecolor": "#2a3f5f"
            },
            "type": "carpet"
           }
          ],
          "choropleth": [
           {
            "colorbar": {
             "outlinewidth": 0,
             "ticks": ""
            },
            "type": "choropleth"
           }
          ],
          "contour": [
           {
            "colorbar": {
             "outlinewidth": 0,
             "ticks": ""
            },
            "colorscale": [
             [
              0,
              "#0d0887"
             ],
             [
              0.1111111111111111,
              "#46039f"
             ],
             [
              0.2222222222222222,
              "#7201a8"
             ],
             [
              0.3333333333333333,
              "#9c179e"
             ],
             [
              0.4444444444444444,
              "#bd3786"
             ],
             [
              0.5555555555555556,
              "#d8576b"
             ],
             [
              0.6666666666666666,
              "#ed7953"
             ],
             [
              0.7777777777777778,
              "#fb9f3a"
             ],
             [
              0.8888888888888888,
              "#fdca26"
             ],
             [
              1,
              "#f0f921"
             ]
            ],
            "type": "contour"
           }
          ],
          "contourcarpet": [
           {
            "colorbar": {
             "outlinewidth": 0,
             "ticks": ""
            },
            "type": "contourcarpet"
           }
          ],
          "heatmap": [
           {
            "colorbar": {
             "outlinewidth": 0,
             "ticks": ""
            },
            "colorscale": [
             [
              0,
              "#0d0887"
             ],
             [
              0.1111111111111111,
              "#46039f"
             ],
             [
              0.2222222222222222,
              "#7201a8"
             ],
             [
              0.3333333333333333,
              "#9c179e"
             ],
             [
              0.4444444444444444,
              "#bd3786"
             ],
             [
              0.5555555555555556,
              "#d8576b"
             ],
             [
              0.6666666666666666,
              "#ed7953"
             ],
             [
              0.7777777777777778,
              "#fb9f3a"
             ],
             [
              0.8888888888888888,
              "#fdca26"
             ],
             [
              1,
              "#f0f921"
             ]
            ],
            "type": "heatmap"
           }
          ],
          "histogram": [
           {
            "marker": {
             "pattern": {
              "fillmode": "overlay",
              "size": 10,
              "solidity": 0.2
             }
            },
            "type": "histogram"
           }
          ],
          "histogram2d": [
           {
            "colorbar": {
             "outlinewidth": 0,
             "ticks": ""
            },
            "colorscale": [
             [
              0,
              "#0d0887"
             ],
             [
              0.1111111111111111,
              "#46039f"
             ],
             [
              0.2222222222222222,
              "#7201a8"
             ],
             [
              0.3333333333333333,
              "#9c179e"
             ],
             [
              0.4444444444444444,
              "#bd3786"
             ],
             [
              0.5555555555555556,
              "#d8576b"
             ],
             [
              0.6666666666666666,
              "#ed7953"
             ],
             [
              0.7777777777777778,
              "#fb9f3a"
             ],
             [
              0.8888888888888888,
              "#fdca26"
             ],
             [
              1,
              "#f0f921"
             ]
            ],
            "type": "histogram2d"
           }
          ],
          "histogram2dcontour": [
           {
            "colorbar": {
             "outlinewidth": 0,
             "ticks": ""
            },
            "colorscale": [
             [
              0,
              "#0d0887"
             ],
             [
              0.1111111111111111,
              "#46039f"
             ],
             [
              0.2222222222222222,
              "#7201a8"
             ],
             [
              0.3333333333333333,
              "#9c179e"
             ],
             [
              0.4444444444444444,
              "#bd3786"
             ],
             [
              0.5555555555555556,
              "#d8576b"
             ],
             [
              0.6666666666666666,
              "#ed7953"
             ],
             [
              0.7777777777777778,
              "#fb9f3a"
             ],
             [
              0.8888888888888888,
              "#fdca26"
             ],
             [
              1,
              "#f0f921"
             ]
            ],
            "type": "histogram2dcontour"
           }
          ],
          "mesh3d": [
           {
            "colorbar": {
             "outlinewidth": 0,
             "ticks": ""
            },
            "type": "mesh3d"
           }
          ],
          "parcoords": [
           {
            "line": {
             "colorbar": {
              "outlinewidth": 0,
              "ticks": ""
             }
            },
            "type": "parcoords"
           }
          ],
          "pie": [
           {
            "automargin": true,
            "type": "pie"
           }
          ],
          "scatter": [
           {
            "fillpattern": {
             "fillmode": "overlay",
             "size": 10,
             "solidity": 0.2
            },
            "type": "scatter"
           }
          ],
          "scatter3d": [
           {
            "line": {
             "colorbar": {
              "outlinewidth": 0,
              "ticks": ""
             }
            },
            "marker": {
             "colorbar": {
              "outlinewidth": 0,
              "ticks": ""
             }
            },
            "type": "scatter3d"
           }
          ],
          "scattercarpet": [
           {
            "marker": {
             "colorbar": {
              "outlinewidth": 0,
              "ticks": ""
             }
            },
            "type": "scattercarpet"
           }
          ],
          "scattergeo": [
           {
            "marker": {
             "colorbar": {
              "outlinewidth": 0,
              "ticks": ""
             }
            },
            "type": "scattergeo"
           }
          ],
          "scattergl": [
           {
            "marker": {
             "colorbar": {
              "outlinewidth": 0,
              "ticks": ""
             }
            },
            "type": "scattergl"
           }
          ],
          "scattermap": [
           {
            "marker": {
             "colorbar": {
              "outlinewidth": 0,
              "ticks": ""
             }
            },
            "type": "scattermap"
           }
          ],
          "scattermapbox": [
           {
            "marker": {
             "colorbar": {
              "outlinewidth": 0,
              "ticks": ""
             }
            },
            "type": "scattermapbox"
           }
          ],
          "scatterpolar": [
           {
            "marker": {
             "colorbar": {
              "outlinewidth": 0,
              "ticks": ""
             }
            },
            "type": "scatterpolar"
           }
          ],
          "scatterpolargl": [
           {
            "marker": {
             "colorbar": {
              "outlinewidth": 0,
              "ticks": ""
             }
            },
            "type": "scatterpolargl"
           }
          ],
          "scatterternary": [
           {
            "marker": {
             "colorbar": {
              "outlinewidth": 0,
              "ticks": ""
             }
            },
            "type": "scatterternary"
           }
          ],
          "surface": [
           {
            "colorbar": {
             "outlinewidth": 0,
             "ticks": ""
            },
            "colorscale": [
             [
              0,
              "#0d0887"
             ],
             [
              0.1111111111111111,
              "#46039f"
             ],
             [
              0.2222222222222222,
              "#7201a8"
             ],
             [
              0.3333333333333333,
              "#9c179e"
             ],
             [
              0.4444444444444444,
              "#bd3786"
             ],
             [
              0.5555555555555556,
              "#d8576b"
             ],
             [
              0.6666666666666666,
              "#ed7953"
             ],
             [
              0.7777777777777778,
              "#fb9f3a"
             ],
             [
              0.8888888888888888,
              "#fdca26"
             ],
             [
              1,
              "#f0f921"
             ]
            ],
            "type": "surface"
           }
          ],
          "table": [
           {
            "cells": {
             "fill": {
              "color": "#EBF0F8"
             },
             "line": {
              "color": "white"
             }
            },
            "header": {
             "fill": {
              "color": "#C8D4E3"
             },
             "line": {
              "color": "white"
             }
            },
            "type": "table"
           }
          ]
         },
         "layout": {
          "annotationdefaults": {
           "arrowcolor": "#2a3f5f",
           "arrowhead": 0,
           "arrowwidth": 1
          },
          "autotypenumbers": "strict",
          "coloraxis": {
           "colorbar": {
            "outlinewidth": 0,
            "ticks": ""
           }
          },
          "colorscale": {
           "diverging": [
            [
             0,
             "#8e0152"
            ],
            [
             0.1,
             "#c51b7d"
            ],
            [
             0.2,
             "#de77ae"
            ],
            [
             0.3,
             "#f1b6da"
            ],
            [
             0.4,
             "#fde0ef"
            ],
            [
             0.5,
             "#f7f7f7"
            ],
            [
             0.6,
             "#e6f5d0"
            ],
            [
             0.7,
             "#b8e186"
            ],
            [
             0.8,
             "#7fbc41"
            ],
            [
             0.9,
             "#4d9221"
            ],
            [
             1,
             "#276419"
            ]
           ],
           "sequential": [
            [
             0,
             "#0d0887"
            ],
            [
             0.1111111111111111,
             "#46039f"
            ],
            [
             0.2222222222222222,
             "#7201a8"
            ],
            [
             0.3333333333333333,
             "#9c179e"
            ],
            [
             0.4444444444444444,
             "#bd3786"
            ],
            [
             0.5555555555555556,
             "#d8576b"
            ],
            [
             0.6666666666666666,
             "#ed7953"
            ],
            [
             0.7777777777777778,
             "#fb9f3a"
            ],
            [
             0.8888888888888888,
             "#fdca26"
            ],
            [
             1,
             "#f0f921"
            ]
           ],
           "sequentialminus": [
            [
             0,
             "#0d0887"
            ],
            [
             0.1111111111111111,
             "#46039f"
            ],
            [
             0.2222222222222222,
             "#7201a8"
            ],
            [
             0.3333333333333333,
             "#9c179e"
            ],
            [
             0.4444444444444444,
             "#bd3786"
            ],
            [
             0.5555555555555556,
             "#d8576b"
            ],
            [
             0.6666666666666666,
             "#ed7953"
            ],
            [
             0.7777777777777778,
             "#fb9f3a"
            ],
            [
             0.8888888888888888,
             "#fdca26"
            ],
            [
             1,
             "#f0f921"
            ]
           ]
          },
          "colorway": [
           "#636efa",
           "#EF553B",
           "#00cc96",
           "#ab63fa",
           "#FFA15A",
           "#19d3f3",
           "#FF6692",
           "#B6E880",
           "#FF97FF",
           "#FECB52"
          ],
          "font": {
           "color": "#2a3f5f"
          },
          "geo": {
           "bgcolor": "white",
           "lakecolor": "white",
           "landcolor": "white",
           "showlakes": true,
           "showland": true,
           "subunitcolor": "#C8D4E3"
          },
          "hoverlabel": {
           "align": "left"
          },
          "hovermode": "closest",
          "mapbox": {
           "style": "light"
          },
          "paper_bgcolor": "white",
          "plot_bgcolor": "white",
          "polar": {
           "angularaxis": {
            "gridcolor": "#EBF0F8",
            "linecolor": "#EBF0F8",
            "ticks": ""
           },
           "bgcolor": "white",
           "radialaxis": {
            "gridcolor": "#EBF0F8",
            "linecolor": "#EBF0F8",
            "ticks": ""
           }
          },
          "scene": {
           "xaxis": {
            "backgroundcolor": "white",
            "gridcolor": "#DFE8F3",
            "gridwidth": 2,
            "linecolor": "#EBF0F8",
            "showbackground": true,
            "ticks": "",
            "zerolinecolor": "#EBF0F8"
           },
           "yaxis": {
            "backgroundcolor": "white",
            "gridcolor": "#DFE8F3",
            "gridwidth": 2,
            "linecolor": "#EBF0F8",
            "showbackground": true,
            "ticks": "",
            "zerolinecolor": "#EBF0F8"
           },
           "zaxis": {
            "backgroundcolor": "white",
            "gridcolor": "#DFE8F3",
            "gridwidth": 2,
            "linecolor": "#EBF0F8",
            "showbackground": true,
            "ticks": "",
            "zerolinecolor": "#EBF0F8"
           }
          },
          "shapedefaults": {
           "line": {
            "color": "#2a3f5f"
           }
          },
          "ternary": {
           "aaxis": {
            "gridcolor": "#DFE8F3",
            "linecolor": "#A2B1C6",
            "ticks": ""
           },
           "baxis": {
            "gridcolor": "#DFE8F3",
            "linecolor": "#A2B1C6",
            "ticks": ""
           },
           "bgcolor": "white",
           "caxis": {
            "gridcolor": "#DFE8F3",
            "linecolor": "#A2B1C6",
            "ticks": ""
           }
          },
          "title": {
           "x": 0.05
          },
          "xaxis": {
           "automargin": true,
           "gridcolor": "#EBF0F8",
           "linecolor": "#EBF0F8",
           "ticks": "",
           "title": {
            "standoff": 15
           },
           "zerolinecolor": "#EBF0F8",
           "zerolinewidth": 2
          },
          "yaxis": {
           "automargin": true,
           "gridcolor": "#EBF0F8",
           "linecolor": "#EBF0F8",
           "ticks": "",
           "title": {
            "standoff": 15
           },
           "zerolinecolor": "#EBF0F8",
           "zerolinewidth": 2
          }
         }
        },
        "title": {
         "text": "Time-Average Growth Rate Histogram",
         "x": 0.5,
         "xanchor": "center"
        },
        "width": 800,
        "xaxis": {
         "range": [
          -2.2538946235307957,
          0.22684094267780894
         ],
         "title": {
          "text": "Time-Average Growth Rate (%)"
         }
        },
        "yaxis": {
         "title": {
          "text": "Frequency"
         }
        }
       }
      }
     },
     "metadata": {},
     "output_type": "display_data"
    }
   ],
   "source": [
    "import plotly.graph_objects as go\n",
    "from plotly.subplots import make_subplots\n",
    "from ergodic_insurance.visualization.core import WSJ_COLORS\n",
    "import numpy as np\n",
    "\n",
    "# Print results\n",
    "print(f\"\\nRuin Probabilities by Time Horizon:\")\n",
    "for yr, prob in results.ruin_probability.items():\n",
    "    print(f\"  {yr} years: {prob*100:.2f}%\")\n",
    "\n",
    "print(f\"\\nConvergence achieved: {'Yes' if results.convergence else 'No'}\")\n",
    "\n",
    "# --------------------------------------\n",
    "# Time-Average Growth Rate Histogram (1,1)\n",
    "# --------------------------------------\n",
    "fig = go.Figure()\n",
    "\n",
    "# Growth rates with insurance\n",
    "growth_rates = np.asarray(results.growth_rates, dtype=float)\n",
    "growth_rates = growth_rates[np.isfinite(growth_rates)]\n",
    "\n",
    "# Growth rates without insurance\n",
    "growth_rates_no_ins = np.asarray(results_no_ins.growth_rates, dtype=float)\n",
    "growth_rates_no_ins = growth_rates_no_ins[np.isfinite(growth_rates_no_ins)]\n",
    "\n",
    "if growth_rates.size:\n",
    "    growth_pct = growth_rates * 100.0\n",
    "    mean_growth = np.nanmean(growth_pct)\n",
    "    median_growth = np.nanmedian(growth_pct)\n",
    "    p5, p25, p95 = np.nanpercentile(growth_pct, [5, 25, 95])\n",
    "    print(f\"Growth Rate Summary With Insurance (%): Mean={mean_growth:.2f}, Median={median_growth:.2f}, 25th={p25:.2f}, 5th={p5:.2f}\")\n",
    "\n",
    "    growth_pct_no_ins = growth_rates_no_ins * 100.0\n",
    "    mean_growth_no_ins = np.nanmean(growth_pct_no_ins)\n",
    "    median_growth_no_ins = np.nanmedian(growth_pct_no_ins)\n",
    "    p5_no_ins, p25_no_ins, p95_no_ins = np.nanpercentile(growth_pct_no_ins, [5, 25, 95])\n",
    "    print(f\"Growth Rate Summary Without Insurance (%): Mean={mean_growth_no_ins:.2f}, Median={median_growth_no_ins:.2f}, 25th={p25_no_ins:.2f}, 5th={p5_no_ins:.2f}\")\n",
    "\n",
    "    # Plot Growth Rate With Insurance\n",
    "    # Kernel Density Estimate (Gaussian) instead of histogram\n",
    "    xs = np.linspace(growth_pct.min(), growth_pct.max(), 400)\n",
    "    n = growth_pct.size\n",
    "    std = np.std(growth_pct, ddof=1)\n",
    "    if std == 0 or n < 2:\n",
    "        # Fallback: flat line at 0\n",
    "        density = np.zeros_like(xs)\n",
    "    else:\n",
    "        bw = 1.06 * std * n ** (-1/5)  # Silverman's rule\n",
    "        inv_norm = 1.0 / (bw * np.sqrt(2 * np.pi))\n",
    "        diffs = (xs[:, None] - growth_pct[None, :]) / bw\n",
    "        density = inv_norm * np.exp(-0.5 * diffs**2).mean(axis=1)\n",
    "\n",
    "    fig.add_trace(\n",
    "        go.Scatter(\n",
    "            x=xs,\n",
    "            y=density,\n",
    "            mode='lines',\n",
    "            name='Insurance',\n",
    "            line=dict(color=WSJ_COLORS.get('blue', '#1f77b4'), width=2)\n",
    "        )\n",
    "    )\n",
    "\n",
    "    # Plot Growth Rate Without Insurance\n",
    "    # Kernel Density Estimate (Gaussian) instead of histogram\n",
    "    xs_no_ins = np.linspace(growth_pct_no_ins.min(), growth_pct_no_ins.max(), 400)\n",
    "    n_no_ins = growth_pct_no_ins.size\n",
    "    std_no_ins = np.std(growth_pct_no_ins, ddof=1)\n",
    "    if std_no_ins == 0 or n_no_ins < 2:\n",
    "        # Fallback: flat line at 0\n",
    "        density = np.zeros_like(xs_no_ins)\n",
    "    else:\n",
    "        bw = 1.06 * std_no_ins * n_no_ins ** (-1/5)  # Silverman's rule\n",
    "        inv_norm_no_ins = 1.0 / (bw * np.sqrt(2 * np.pi))\n",
    "        diffs_no_ins = (xs_no_ins[:, None] - growth_pct_no_ins[None, :]) / bw\n",
    "        density_no_ins = inv_norm_no_ins * np.exp(-0.5 * diffs_no_ins**2).mean(axis=1)\n",
    "\n",
    "    fig.add_trace(\n",
    "        go.Scatter(\n",
    "            x=xs_no_ins,\n",
    "            y=density_no_ins,\n",
    "            mode='lines',\n",
    "            name='No Insurance',\n",
    "            line=dict(color=WSJ_COLORS.get('orange', '#ff7f0e'), width=2)\n",
    "        )\n",
    "    )\n",
    "    # Set x-axis to central 99.5% of both distributions (trim 0.25% each tail)\n",
    "    try:\n",
    "        lower_q, upper_q = .5, 99.5\n",
    "        lo_ins, hi_ins = np.nanpercentile(growth_pct, [lower_q, upper_q])\n",
    "        lo_no_ins, hi_no_ins = np.nanpercentile(growth_pct_no_ins, [lower_q, upper_q])\n",
    "        x_min = min(lo_ins, lo_no_ins)\n",
    "        x_max = max(hi_ins, hi_no_ins)\n",
    "        pad = 0.01 * (x_max - x_min) if x_max > x_min else 0.0\n",
    "        fig.update_xaxes(range=[x_min - pad, x_max + pad])\n",
    "    except Exception as e:\n",
    "        print(f\"Could not apply 99.5% central x-range: {e}\")\n",
    "\n",
    "    # Adjust y-axis label to reflect density\n",
    "    fig.update_yaxes(title_text=\"Density\")\n",
    "\n",
    "    # Add vertical lines for mean and median\n",
    "    fig.add_vline(x=mean_growth, \n",
    "                line_dash='dash', \n",
    "                line_color=WSJ_COLORS.get('blue', '#1f77b4'), \n",
    "                annotation_text='Mean (Ins)', \n",
    "                annotation_position='top right', \n",
    "                row=1, col=1)\n",
    "    fig.add_vline(x=median_growth, \n",
    "                line_dash='dot', \n",
    "                line_color=WSJ_COLORS.get('green', '#2ca02c'), \n",
    "                annotation_text='Median (Ins)', \n",
    "                annotation_position='top left', \n",
    "                row=1, col=1)\n",
    "    fig.add_vline(x=p25, \n",
    "                line_dash='dot', \n",
    "                line_color=WSJ_COLORS.get('yellow', '#d62728'), \n",
    "                annotation_text='25th pct (Ins)', \n",
    "                annotation_position='bottom left', \n",
    "                row=1, col=1)\n",
    "    fig.add_vline(x=mean_growth_no_ins, \n",
    "                line_dash='dash', \n",
    "                line_color=WSJ_COLORS.get('orange', '#ff7f0e'), \n",
    "                annotation_text='Mean (No Ins)', \n",
    "                annotation_position='top right', \n",
    "                row=1, col=1)\n",
    "    fig.add_vline(x=p25_no_ins, \n",
    "                line_dash='dot', \n",
    "                line_color=WSJ_COLORS.get('red', '#d62728'),\n",
    "                annotation_text='25th pct (No Ins)', \n",
    "                annotation_position='bottom left', \n",
    "                row=1, col=1)\n",
    "else:\n",
    "    print(\"No valid growth rate values to plot.\")\n",
    "\n",
    "# Update layout\n",
    "fig.update_layout(\n",
    "    title={\n",
    "        \"text\": \"Time-Average Growth Rate Histogram\",\n",
    "        \"x\": 0.5,\n",
    "        \"xanchor\": \"center\"\n",
    "    },\n",
    "    template='plotly_white',\n",
    "    showlegend=True,\n",
    "    legend=dict(\n",
    "        orientation='h',\n",
    "        x=0.5,\n",
    "        xanchor='center',\n",
    "        y=-0.2,\n",
    "        yanchor='top'\n",
    "    ),\n",
    "    width=800,\n",
    "    height=500\n",
    ")\n",
    "\n",
    "\n",
    "# Axes titles\n",
    "fig.update_xaxes(title_text=\"Time-Average Growth Rate (%)\")\n",
    "fig.update_yaxes(title_text=\"Frequency\")\n",
    "\n",
    "fig.show()"
   ]
  },
  {
   "cell_type": "code",
   "execution_count": 24,
   "id": "2bcb52ae",
   "metadata": {},
   "outputs": [
    {
     "name": "stdout",
     "output_type": "stream",
     "text": [
      "\n",
      "Ruin Probabilities by Time Horizon:\n",
      "  5 years: 0.00%\n",
      "  10 years: 0.00%\n",
      "\n",
      "Convergence achieved: No\n"
     ]
    },
    {
     "data": {
      "application/vnd.plotly.v1+json": {
       "config": {
        "plotlyServerURL": "https://plot.ly"
       },
       "data": [
        {
         "line": {
          "color": "#0080C7",
          "width": 2
         },
         "marker": {
          "size": 8
         },
         "mode": "lines+markers",
         "name": "Insurance",
         "type": "scatter",
         "x": [
          "5",
          "10"
         ],
         "y": [
          0,
          0
         ]
        },
        {
         "line": {
          "color": "#FF9800",
          "width": 2
         },
         "marker": {
          "size": 8
         },
         "mode": "lines+markers",
         "name": "No Insurance",
         "type": "scatter",
         "x": [
          "5",
          "10"
         ],
         "y": [
          0,
          0
         ]
        }
       ],
       "layout": {
        "height": 500,
        "legend": {
         "orientation": "h",
         "x": 0.5,
         "xanchor": "center",
         "y": -0.2,
         "yanchor": "top"
        },
        "showlegend": true,
        "template": {
         "data": {
          "bar": [
           {
            "error_x": {
             "color": "#2a3f5f"
            },
            "error_y": {
             "color": "#2a3f5f"
            },
            "marker": {
             "line": {
              "color": "white",
              "width": 0.5
             },
             "pattern": {
              "fillmode": "overlay",
              "size": 10,
              "solidity": 0.2
             }
            },
            "type": "bar"
           }
          ],
          "barpolar": [
           {
            "marker": {
             "line": {
              "color": "white",
              "width": 0.5
             },
             "pattern": {
              "fillmode": "overlay",
              "size": 10,
              "solidity": 0.2
             }
            },
            "type": "barpolar"
           }
          ],
          "carpet": [
           {
            "aaxis": {
             "endlinecolor": "#2a3f5f",
             "gridcolor": "#C8D4E3",
             "linecolor": "#C8D4E3",
             "minorgridcolor": "#C8D4E3",
             "startlinecolor": "#2a3f5f"
            },
            "baxis": {
             "endlinecolor": "#2a3f5f",
             "gridcolor": "#C8D4E3",
             "linecolor": "#C8D4E3",
             "minorgridcolor": "#C8D4E3",
             "startlinecolor": "#2a3f5f"
            },
            "type": "carpet"
           }
          ],
          "choropleth": [
           {
            "colorbar": {
             "outlinewidth": 0,
             "ticks": ""
            },
            "type": "choropleth"
           }
          ],
          "contour": [
           {
            "colorbar": {
             "outlinewidth": 0,
             "ticks": ""
            },
            "colorscale": [
             [
              0,
              "#0d0887"
             ],
             [
              0.1111111111111111,
              "#46039f"
             ],
             [
              0.2222222222222222,
              "#7201a8"
             ],
             [
              0.3333333333333333,
              "#9c179e"
             ],
             [
              0.4444444444444444,
              "#bd3786"
             ],
             [
              0.5555555555555556,
              "#d8576b"
             ],
             [
              0.6666666666666666,
              "#ed7953"
             ],
             [
              0.7777777777777778,
              "#fb9f3a"
             ],
             [
              0.8888888888888888,
              "#fdca26"
             ],
             [
              1,
              "#f0f921"
             ]
            ],
            "type": "contour"
           }
          ],
          "contourcarpet": [
           {
            "colorbar": {
             "outlinewidth": 0,
             "ticks": ""
            },
            "type": "contourcarpet"
           }
          ],
          "heatmap": [
           {
            "colorbar": {
             "outlinewidth": 0,
             "ticks": ""
            },
            "colorscale": [
             [
              0,
              "#0d0887"
             ],
             [
              0.1111111111111111,
              "#46039f"
             ],
             [
              0.2222222222222222,
              "#7201a8"
             ],
             [
              0.3333333333333333,
              "#9c179e"
             ],
             [
              0.4444444444444444,
              "#bd3786"
             ],
             [
              0.5555555555555556,
              "#d8576b"
             ],
             [
              0.6666666666666666,
              "#ed7953"
             ],
             [
              0.7777777777777778,
              "#fb9f3a"
             ],
             [
              0.8888888888888888,
              "#fdca26"
             ],
             [
              1,
              "#f0f921"
             ]
            ],
            "type": "heatmap"
           }
          ],
          "histogram": [
           {
            "marker": {
             "pattern": {
              "fillmode": "overlay",
              "size": 10,
              "solidity": 0.2
             }
            },
            "type": "histogram"
           }
          ],
          "histogram2d": [
           {
            "colorbar": {
             "outlinewidth": 0,
             "ticks": ""
            },
            "colorscale": [
             [
              0,
              "#0d0887"
             ],
             [
              0.1111111111111111,
              "#46039f"
             ],
             [
              0.2222222222222222,
              "#7201a8"
             ],
             [
              0.3333333333333333,
              "#9c179e"
             ],
             [
              0.4444444444444444,
              "#bd3786"
             ],
             [
              0.5555555555555556,
              "#d8576b"
             ],
             [
              0.6666666666666666,
              "#ed7953"
             ],
             [
              0.7777777777777778,
              "#fb9f3a"
             ],
             [
              0.8888888888888888,
              "#fdca26"
             ],
             [
              1,
              "#f0f921"
             ]
            ],
            "type": "histogram2d"
           }
          ],
          "histogram2dcontour": [
           {
            "colorbar": {
             "outlinewidth": 0,
             "ticks": ""
            },
            "colorscale": [
             [
              0,
              "#0d0887"
             ],
             [
              0.1111111111111111,
              "#46039f"
             ],
             [
              0.2222222222222222,
              "#7201a8"
             ],
             [
              0.3333333333333333,
              "#9c179e"
             ],
             [
              0.4444444444444444,
              "#bd3786"
             ],
             [
              0.5555555555555556,
              "#d8576b"
             ],
             [
              0.6666666666666666,
              "#ed7953"
             ],
             [
              0.7777777777777778,
              "#fb9f3a"
             ],
             [
              0.8888888888888888,
              "#fdca26"
             ],
             [
              1,
              "#f0f921"
             ]
            ],
            "type": "histogram2dcontour"
           }
          ],
          "mesh3d": [
           {
            "colorbar": {
             "outlinewidth": 0,
             "ticks": ""
            },
            "type": "mesh3d"
           }
          ],
          "parcoords": [
           {
            "line": {
             "colorbar": {
              "outlinewidth": 0,
              "ticks": ""
             }
            },
            "type": "parcoords"
           }
          ],
          "pie": [
           {
            "automargin": true,
            "type": "pie"
           }
          ],
          "scatter": [
           {
            "fillpattern": {
             "fillmode": "overlay",
             "size": 10,
             "solidity": 0.2
            },
            "type": "scatter"
           }
          ],
          "scatter3d": [
           {
            "line": {
             "colorbar": {
              "outlinewidth": 0,
              "ticks": ""
             }
            },
            "marker": {
             "colorbar": {
              "outlinewidth": 0,
              "ticks": ""
             }
            },
            "type": "scatter3d"
           }
          ],
          "scattercarpet": [
           {
            "marker": {
             "colorbar": {
              "outlinewidth": 0,
              "ticks": ""
             }
            },
            "type": "scattercarpet"
           }
          ],
          "scattergeo": [
           {
            "marker": {
             "colorbar": {
              "outlinewidth": 0,
              "ticks": ""
             }
            },
            "type": "scattergeo"
           }
          ],
          "scattergl": [
           {
            "marker": {
             "colorbar": {
              "outlinewidth": 0,
              "ticks": ""
             }
            },
            "type": "scattergl"
           }
          ],
          "scattermap": [
           {
            "marker": {
             "colorbar": {
              "outlinewidth": 0,
              "ticks": ""
             }
            },
            "type": "scattermap"
           }
          ],
          "scattermapbox": [
           {
            "marker": {
             "colorbar": {
              "outlinewidth": 0,
              "ticks": ""
             }
            },
            "type": "scattermapbox"
           }
          ],
          "scatterpolar": [
           {
            "marker": {
             "colorbar": {
              "outlinewidth": 0,
              "ticks": ""
             }
            },
            "type": "scatterpolar"
           }
          ],
          "scatterpolargl": [
           {
            "marker": {
             "colorbar": {
              "outlinewidth": 0,
              "ticks": ""
             }
            },
            "type": "scatterpolargl"
           }
          ],
          "scatterternary": [
           {
            "marker": {
             "colorbar": {
              "outlinewidth": 0,
              "ticks": ""
             }
            },
            "type": "scatterternary"
           }
          ],
          "surface": [
           {
            "colorbar": {
             "outlinewidth": 0,
             "ticks": ""
            },
            "colorscale": [
             [
              0,
              "#0d0887"
             ],
             [
              0.1111111111111111,
              "#46039f"
             ],
             [
              0.2222222222222222,
              "#7201a8"
             ],
             [
              0.3333333333333333,
              "#9c179e"
             ],
             [
              0.4444444444444444,
              "#bd3786"
             ],
             [
              0.5555555555555556,
              "#d8576b"
             ],
             [
              0.6666666666666666,
              "#ed7953"
             ],
             [
              0.7777777777777778,
              "#fb9f3a"
             ],
             [
              0.8888888888888888,
              "#fdca26"
             ],
             [
              1,
              "#f0f921"
             ]
            ],
            "type": "surface"
           }
          ],
          "table": [
           {
            "cells": {
             "fill": {
              "color": "#EBF0F8"
             },
             "line": {
              "color": "white"
             }
            },
            "header": {
             "fill": {
              "color": "#C8D4E3"
             },
             "line": {
              "color": "white"
             }
            },
            "type": "table"
           }
          ]
         },
         "layout": {
          "annotationdefaults": {
           "arrowcolor": "#2a3f5f",
           "arrowhead": 0,
           "arrowwidth": 1
          },
          "autotypenumbers": "strict",
          "coloraxis": {
           "colorbar": {
            "outlinewidth": 0,
            "ticks": ""
           }
          },
          "colorscale": {
           "diverging": [
            [
             0,
             "#8e0152"
            ],
            [
             0.1,
             "#c51b7d"
            ],
            [
             0.2,
             "#de77ae"
            ],
            [
             0.3,
             "#f1b6da"
            ],
            [
             0.4,
             "#fde0ef"
            ],
            [
             0.5,
             "#f7f7f7"
            ],
            [
             0.6,
             "#e6f5d0"
            ],
            [
             0.7,
             "#b8e186"
            ],
            [
             0.8,
             "#7fbc41"
            ],
            [
             0.9,
             "#4d9221"
            ],
            [
             1,
             "#276419"
            ]
           ],
           "sequential": [
            [
             0,
             "#0d0887"
            ],
            [
             0.1111111111111111,
             "#46039f"
            ],
            [
             0.2222222222222222,
             "#7201a8"
            ],
            [
             0.3333333333333333,
             "#9c179e"
            ],
            [
             0.4444444444444444,
             "#bd3786"
            ],
            [
             0.5555555555555556,
             "#d8576b"
            ],
            [
             0.6666666666666666,
             "#ed7953"
            ],
            [
             0.7777777777777778,
             "#fb9f3a"
            ],
            [
             0.8888888888888888,
             "#fdca26"
            ],
            [
             1,
             "#f0f921"
            ]
           ],
           "sequentialminus": [
            [
             0,
             "#0d0887"
            ],
            [
             0.1111111111111111,
             "#46039f"
            ],
            [
             0.2222222222222222,
             "#7201a8"
            ],
            [
             0.3333333333333333,
             "#9c179e"
            ],
            [
             0.4444444444444444,
             "#bd3786"
            ],
            [
             0.5555555555555556,
             "#d8576b"
            ],
            [
             0.6666666666666666,
             "#ed7953"
            ],
            [
             0.7777777777777778,
             "#fb9f3a"
            ],
            [
             0.8888888888888888,
             "#fdca26"
            ],
            [
             1,
             "#f0f921"
            ]
           ]
          },
          "colorway": [
           "#636efa",
           "#EF553B",
           "#00cc96",
           "#ab63fa",
           "#FFA15A",
           "#19d3f3",
           "#FF6692",
           "#B6E880",
           "#FF97FF",
           "#FECB52"
          ],
          "font": {
           "color": "#2a3f5f"
          },
          "geo": {
           "bgcolor": "white",
           "lakecolor": "white",
           "landcolor": "white",
           "showlakes": true,
           "showland": true,
           "subunitcolor": "#C8D4E3"
          },
          "hoverlabel": {
           "align": "left"
          },
          "hovermode": "closest",
          "mapbox": {
           "style": "light"
          },
          "paper_bgcolor": "white",
          "plot_bgcolor": "white",
          "polar": {
           "angularaxis": {
            "gridcolor": "#EBF0F8",
            "linecolor": "#EBF0F8",
            "ticks": ""
           },
           "bgcolor": "white",
           "radialaxis": {
            "gridcolor": "#EBF0F8",
            "linecolor": "#EBF0F8",
            "ticks": ""
           }
          },
          "scene": {
           "xaxis": {
            "backgroundcolor": "white",
            "gridcolor": "#DFE8F3",
            "gridwidth": 2,
            "linecolor": "#EBF0F8",
            "showbackground": true,
            "ticks": "",
            "zerolinecolor": "#EBF0F8"
           },
           "yaxis": {
            "backgroundcolor": "white",
            "gridcolor": "#DFE8F3",
            "gridwidth": 2,
            "linecolor": "#EBF0F8",
            "showbackground": true,
            "ticks": "",
            "zerolinecolor": "#EBF0F8"
           },
           "zaxis": {
            "backgroundcolor": "white",
            "gridcolor": "#DFE8F3",
            "gridwidth": 2,
            "linecolor": "#EBF0F8",
            "showbackground": true,
            "ticks": "",
            "zerolinecolor": "#EBF0F8"
           }
          },
          "shapedefaults": {
           "line": {
            "color": "#2a3f5f"
           }
          },
          "ternary": {
           "aaxis": {
            "gridcolor": "#DFE8F3",
            "linecolor": "#A2B1C6",
            "ticks": ""
           },
           "baxis": {
            "gridcolor": "#DFE8F3",
            "linecolor": "#A2B1C6",
            "ticks": ""
           },
           "bgcolor": "white",
           "caxis": {
            "gridcolor": "#DFE8F3",
            "linecolor": "#A2B1C6",
            "ticks": ""
           }
          },
          "title": {
           "x": 0.05
          },
          "xaxis": {
           "automargin": true,
           "gridcolor": "#EBF0F8",
           "linecolor": "#EBF0F8",
           "ticks": "",
           "title": {
            "standoff": 15
           },
           "zerolinecolor": "#EBF0F8",
           "zerolinewidth": 2
          },
          "yaxis": {
           "automargin": true,
           "gridcolor": "#EBF0F8",
           "linecolor": "#EBF0F8",
           "ticks": "",
           "title": {
            "standoff": 15
           },
           "zerolinecolor": "#EBF0F8",
           "zerolinewidth": 2
          }
         }
        },
        "title": {
         "text": "Ruin Probability by Time Horizon",
         "x": 0.5,
         "xanchor": "center"
        },
        "width": 800,
        "xaxis": {
         "title": {
          "text": "Time Horizon (years)"
         }
        },
        "yaxis": {
         "title": {
          "text": "Ruin Probability (%)"
         }
        }
       }
      }
     },
     "metadata": {},
     "output_type": "display_data"
    }
   ],
   "source": [
    "import plotly.graph_objects as go\n",
    "from plotly.subplots import make_subplots\n",
    "from ergodic_insurance.visualization.core import WSJ_COLORS\n",
    "import numpy as np\n",
    "\n",
    "# Print results\n",
    "print(f\"\\nRuin Probabilities by Time Horizon:\")\n",
    "for yr, prob in results.ruin_probability.items():\n",
    "    print(f\"  {yr} years: {prob*100:.2f}%\")\n",
    "\n",
    "print(f\"\\nConvergence achieved: {'Yes' if results.convergence else 'No'}\")\n",
    "\n",
    "# --------------------------------------\n",
    "# Ruin probability comparison (1,2)\n",
    "# --------------------------------------\n",
    "# Single figure without subplots\n",
    "fig = go.Figure()\n",
    "fig.add_trace(\n",
    "    go.Scatter(\n",
    "        x=list(results.ruin_probability.keys()),\n",
    "        y=[prob * 100 for prob in results.ruin_probability.values()],\n",
    "        mode='lines+markers',\n",
    "        name='Insurance',\n",
    "        line=dict(width=2, color=WSJ_COLORS.get('blue', '#1f77b4')),\n",
    "        marker=dict(size=8)\n",
    "    )\n",
    ")\n",
    "fig.add_trace(\n",
    "    go.Scatter(\n",
    "        x=list(results_no_ins.ruin_probability.keys()),\n",
    "        y=[prob * 100 for prob in results_no_ins.ruin_probability.values()],\n",
    "        mode='lines+markers',\n",
    "        name='No Insurance',\n",
    "        line=dict(width=2, color=WSJ_COLORS.get('orange', '#ff7f0e')),\n",
    "        marker=dict(size=8)\n",
    "    )\n",
    ")\n",
    "\n",
    "# Update layout\n",
    "fig.update_layout(\n",
    "    title={\n",
    "        \"text\": \"Ruin Probability by Time Horizon\",\n",
    "        \"x\": 0.5,\n",
    "        \"xanchor\": \"center\"\n",
    "    },\n",
    "    template='plotly_white',\n",
    "    showlegend=True,\n",
    "    legend=dict(\n",
    "        orientation='h',\n",
    "        x=0.5,\n",
    "        xanchor='center',\n",
    "        y=-0.2,\n",
    "        yanchor='top'\n",
    "    ),\n",
    "    width=800,\n",
    "    height=500\n",
    ")\n",
    "\n",
    "# Axes titles\n",
    "fig.update_xaxes(title_text=\"Time Horizon (years)\")\n",
    "fig.update_yaxes(title_text=\"Ruin Probability (%)\")\n",
    "\n",
    "fig.show()"
   ]
  },
  {
   "cell_type": "code",
   "execution_count": null,
   "id": "19ec0acf",
   "metadata": {},
   "outputs": [],
   "source": []
  }
 ],
 "metadata": {
  "kernelspec": {
   "display_name": ".venv",
   "language": "python",
   "name": "python3"
  },
  "language_info": {
   "codemirror_mode": {
    "name": "ipython",
    "version": 3
   },
   "file_extension": ".py",
   "mimetype": "text/x-python",
   "name": "python",
   "nbconvert_exporter": "python",
   "pygments_lexer": "ipython3",
   "version": "3.12.10"
  }
 },
 "nbformat": 4,
 "nbformat_minor": 5
}
