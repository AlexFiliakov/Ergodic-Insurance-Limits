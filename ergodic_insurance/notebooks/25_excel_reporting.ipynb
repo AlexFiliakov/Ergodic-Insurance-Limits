{
 "cells": [
  {
   "cell_type": "markdown",
   "metadata": {},
   "source": [
    "# Excel Report Generation for Financial Statements\n",
    "\n",
    "This notebook demonstrates the comprehensive Excel report generation functionality for creating financial statements, reconciliation reports, and metrics dashboards from simulation results."
   ]
  },
  {
   "cell_type": "markdown",
   "metadata": {},
   "source": [
    "## 1. Setup and Imports"
   ]
  },
  {
   "cell_type": "code",
   "execution_count": 1,
   "metadata": {},
   "outputs": [
    {
     "name": "stderr",
     "output_type": "stream",
     "text": [
      "c:\\Users\\alexf\\OneDrive\\Documents\\Projects\\Ergodic Insurance Limits\\ergodic_insurance\\src\\excel_reporter.py:46: UserWarning: XlsxWriter not available. Some formatting features may be limited.\n",
      "  warnings.warn(\"XlsxWriter not available. Some formatting features may be limited.\")\n"
     ]
    },
    {
     "name": "stdout",
     "output_type": "stream",
     "text": [
      "Setup complete!\n"
     ]
    }
   ],
   "source": [
    "import sys\n",
    "from pathlib import Path\n",
    "import numpy as np\n",
    "import pandas as pd\n",
    "import matplotlib.pyplot as plt\n",
    "import seaborn as sns\n",
    "\n",
    "# Add parent directories to path\n",
    "sys.path.insert(0, str(Path().absolute().parent.parent))\n",
    "\n",
    "from ergodic_insurance.src.config import ManufacturerConfig\n",
    "from ergodic_insurance.src.config_v2 import InsuranceConfig, ExcelReportConfig\n",
    "from ergodic_insurance.src.manufacturer import WidgetManufacturer\n",
    "from ergodic_insurance.src.claim_generator import ClaimGenerator\n",
    "from ergodic_insurance.src.insurance import InsurancePolicy\n",
    "from ergodic_insurance.src.excel_reporter import ExcelReporter\n",
    "from ergodic_insurance.src.financial_statements import (\n",
    "    FinancialStatementGenerator,\n",
    "    FinancialStatementConfig\n",
    ")\n",
    "\n",
    "# Set display options\n",
    "pd.set_option('display.max_columns', None)\n",
    "pd.set_option('display.width', None)\n",
    "pd.set_option('display.float_format', '{:,.2f}'.format)\n",
    "\n",
    "# Set style\n",
    "sns.set_style('whitegrid')\n",
    "plt.rcParams['figure.figsize'] = (12, 6)\n",
    "\n",
    "print(\"Setup complete!\")"
   ]
  },
  {
   "cell_type": "markdown",
   "metadata": {},
   "source": [
    "## 2. Run Simulation with Insurance Claims"
   ]
  },
  {
   "cell_type": "code",
   "execution_count": 2,
   "metadata": {},
   "outputs": [
    {
     "name": "stdout",
     "output_type": "stream",
     "text": [
      "Configuration complete!\n"
     ]
    }
   ],
   "source": [
    "# Configure and create manufacturer\n",
    "manufacturer_config = ManufacturerConfig(\n",
    "    initial_assets=10_000_000,\n",
    "    asset_turnover_ratio=0.5,\n",
    "    operating_margin=0.08,\n",
    "    tax_rate=0.25,\n",
    "    retention_ratio=0.7\n",
    ")\n",
    "\n",
    "manufacturer = WidgetManufacturer(manufacturer_config)\n",
    "\n",
    "# Create claim generator with appropriate parameters\n",
    "# Note: ClaimGenerator doesn't have separate attritional/large loss configs\n",
    "# We'll use moderate frequency and severity for demonstration\n",
    "claim_generator = ClaimGenerator(\n",
    "    frequency=5.3,  # Expected claims per year (combines attritional + large)\n",
    "    severity_mean=500_000,  # Mean claim size\n",
    "    severity_std=750_000,  # Standard deviation of claim size\n",
    "    seed=42  # For reproducibility\n",
    ")\n",
    "\n",
    "# Configure insurance with layers\n",
    "from ergodic_insurance.src.insurance import InsuranceLayer\n",
    "\n",
    "# Create a single insurance layer with $5M limit above $100K attachment\n",
    "insurance_layer = InsuranceLayer(\n",
    "    attachment_point=100_000,  # Deductible essentially\n",
    "    limit=5_000_000,  # Coverage limit\n",
    "    rate=0.02  # Premium as percentage of limit\n",
    ")\n",
    "\n",
    "insurance = InsurancePolicy(\n",
    "    layers=[insurance_layer],\n",
    "    deductible=100_000\n",
    ")\n",
    "\n",
    "print(\"Configuration complete!\")"
   ]
  },
  {
   "cell_type": "code",
   "execution_count": 3,
   "metadata": {},
   "outputs": [
    {
     "name": "stdout",
     "output_type": "stream",
     "text": [
      "Simulation complete! Final equity: $10,164,234\n"
     ]
    }
   ],
   "source": [
    "# Run 10-year simulation\n",
    "np.random.seed(42)\n",
    "simulation_years = 10\n",
    "\n",
    "# Generate all claims for the simulation period\n",
    "all_claims = claim_generator.generate_claims(simulation_years)\n",
    "\n",
    "# Group claims by year\n",
    "claims_by_year = {}\n",
    "for claim in all_claims:\n",
    "    if claim.year not in claims_by_year:\n",
    "        claims_by_year[claim.year] = []\n",
    "    claims_by_year[claim.year].append(claim.amount)\n",
    "\n",
    "for year in range(simulation_years):\n",
    "    # Get claims for this year\n",
    "    year_claims = claims_by_year.get(year, [])\n",
    "    total_claims = sum(year_claims)\n",
    "    \n",
    "    # Process insurance claims if there are any\n",
    "    if total_claims > 0:\n",
    "        company_payment, insurance_payment = insurance.process_claim(total_claims)\n",
    "    else:\n",
    "        company_payment, insurance_payment = 0, 0\n",
    "    \n",
    "    # Calculate insurance premium\n",
    "    insurance_premium = insurance.calculate_premium()\n",
    "    \n",
    "    # Run annual step\n",
    "    metrics = manufacturer.step(\n",
    "        working_capital_pct=0.2,\n",
    "        letter_of_credit_rate=0.015,\n",
    "        growth_rate=0.03\n",
    "    )\n",
    "    \n",
    "    # Deduct insurance costs and claim payments from company\n",
    "    manufacturer.assets -= insurance_premium + company_payment\n",
    "    manufacturer.equity -= insurance_premium + company_payment\n",
    "\n",
    "print(f\"Simulation complete! Final equity: ${manufacturer.equity:,.0f}\")"
   ]
  },
  {
   "cell_type": "markdown",
   "metadata": {},
   "source": [
    "## 3. Generate Financial Statements"
   ]
  },
  {
   "cell_type": "code",
   "execution_count": 4,
   "metadata": {},
   "outputs": [
    {
     "name": "stdout",
     "output_type": "stream",
     "text": [
      "Years available: 10\n"
     ]
    }
   ],
   "source": [
    "# Create financial statement generator\n",
    "# We need to pass manufacturer_data directly since the manufacturer object\n",
    "# doesn't have an initial_assets attribute at the top level\n",
    "stmt_config = FinancialStatementConfig(\n",
    "    currency_symbol=\"$\",\n",
    "    decimal_places=0,\n",
    "    include_yoy_change=True\n",
    ")\n",
    "\n",
    "# Create manufacturer data dictionary with the required structure\n",
    "manufacturer_data = {\n",
    "    \"metrics_history\": manufacturer.metrics_history,\n",
    "    \"initial_assets\": manufacturer.config.initial_assets,\n",
    "    \"config\": manufacturer.config\n",
    "}\n",
    "\n",
    "stmt_generator = FinancialStatementGenerator(\n",
    "    manufacturer_data=manufacturer_data,\n",
    "    config=stmt_config\n",
    ")\n",
    "\n",
    "print(f\"Years available: {stmt_generator.years_available}\")"
   ]
  },
  {
   "cell_type": "markdown",
   "metadata": {},
   "source": [
    "### 3.1 Balance Sheet"
   ]
  },
  {
   "cell_type": "code",
   "execution_count": 5,
   "metadata": {},
   "outputs": [
    {
     "name": "stdout",
     "output_type": "stream",
     "text": [
      "BALANCE SHEET - Year 9\n",
      "==================================================\n"
     ]
    },
    {
     "data": {
      "application/vnd.microsoft.datawrangler.viewer.v0+json": {
       "columns": [
        {
         "name": "index",
         "rawType": "int64",
         "type": "integer"
        },
        {
         "name": "Item",
         "rawType": "object",
         "type": "string"
        },
        {
         "name": "Year 9",
         "rawType": "object",
         "type": "unknown"
        },
        {
         "name": "YoY Change %",
         "rawType": "object",
         "type": "string"
        },
        {
         "name": "Type",
         "rawType": "object",
         "type": "string"
        }
       ],
       "ref": "da2620c0-f841-4981-86a5-a6b7e9eeceed",
       "rows": [
        [
         "0",
         "ASSETS",
         "",
         "",
         ""
        ],
        [
         "16",
         "TOTAL ASSETS",
         "10364233.651767785",
         "0.4%",
         "total"
        ],
        [
         "19",
         "LIABILITIES",
         "",
         "",
         ""
        ],
        [
         "30",
         "TOTAL LIABILITIES",
         "0",
         "",
         "total"
        ],
        [
         "33",
         "EQUITY",
         "",
         "",
         ""
        ],
        [
         "36",
         "TOTAL EQUITY",
         "10364233.651767785",
         "0.4%",
         "total"
        ],
        [
         "39",
         "TOTAL LIABILITIES + EQUITY",
         "10364233.651767785",
         "",
         "total"
        ]
       ],
       "shape": {
        "columns": 4,
        "rows": 7
       }
      },
      "text/html": [
       "<div>\n",
       "<style scoped>\n",
       "    .dataframe tbody tr th:only-of-type {\n",
       "        vertical-align: middle;\n",
       "    }\n",
       "\n",
       "    .dataframe tbody tr th {\n",
       "        vertical-align: top;\n",
       "    }\n",
       "\n",
       "    .dataframe thead th {\n",
       "        text-align: right;\n",
       "    }\n",
       "</style>\n",
       "<table border=\"1\" class=\"dataframe\">\n",
       "  <thead>\n",
       "    <tr style=\"text-align: right;\">\n",
       "      <th></th>\n",
       "      <th>Item</th>\n",
       "      <th>Year 9</th>\n",
       "      <th>YoY Change %</th>\n",
       "      <th>Type</th>\n",
       "    </tr>\n",
       "  </thead>\n",
       "  <tbody>\n",
       "    <tr>\n",
       "      <th>0</th>\n",
       "      <td>ASSETS</td>\n",
       "      <td></td>\n",
       "      <td></td>\n",
       "      <td></td>\n",
       "    </tr>\n",
       "    <tr>\n",
       "      <th>16</th>\n",
       "      <td>TOTAL ASSETS</td>\n",
       "      <td>10,364,233.65</td>\n",
       "      <td>0.4%</td>\n",
       "      <td>total</td>\n",
       "    </tr>\n",
       "    <tr>\n",
       "      <th>19</th>\n",
       "      <td>LIABILITIES</td>\n",
       "      <td></td>\n",
       "      <td></td>\n",
       "      <td></td>\n",
       "    </tr>\n",
       "    <tr>\n",
       "      <th>30</th>\n",
       "      <td>TOTAL LIABILITIES</td>\n",
       "      <td>0</td>\n",
       "      <td></td>\n",
       "      <td>total</td>\n",
       "    </tr>\n",
       "    <tr>\n",
       "      <th>33</th>\n",
       "      <td>EQUITY</td>\n",
       "      <td></td>\n",
       "      <td></td>\n",
       "      <td></td>\n",
       "    </tr>\n",
       "    <tr>\n",
       "      <th>36</th>\n",
       "      <td>TOTAL EQUITY</td>\n",
       "      <td>10,364,233.65</td>\n",
       "      <td>0.4%</td>\n",
       "      <td>total</td>\n",
       "    </tr>\n",
       "    <tr>\n",
       "      <th>39</th>\n",
       "      <td>TOTAL LIABILITIES + EQUITY</td>\n",
       "      <td>10,364,233.65</td>\n",
       "      <td></td>\n",
       "      <td>total</td>\n",
       "    </tr>\n",
       "  </tbody>\n",
       "</table>\n",
       "</div>"
      ],
      "text/plain": [
       "                          Item        Year 9 YoY Change %   Type\n",
       "0                       ASSETS                                  \n",
       "16                TOTAL ASSETS 10,364,233.65         0.4%  total\n",
       "19                 LIABILITIES                                  \n",
       "30           TOTAL LIABILITIES             0               total\n",
       "33                      EQUITY                                  \n",
       "36                TOTAL EQUITY 10,364,233.65         0.4%  total\n",
       "39  TOTAL LIABILITIES + EQUITY 10,364,233.65               total"
      ]
     },
     "metadata": {},
     "output_type": "display_data"
    }
   ],
   "source": [
    "# Generate balance sheet for the last year\n",
    "last_year = stmt_generator.years_available - 1\n",
    "balance_sheet = stmt_generator.generate_balance_sheet(last_year)\n",
    "\n",
    "# Display key items\n",
    "print(\"BALANCE SHEET - Year\", last_year)\n",
    "print(\"=\" * 50)\n",
    "display(balance_sheet[balance_sheet['Item'].str.contains('TOTAL|ASSETS|LIABILITIES|EQUITY', na=False)])"
   ]
  },
  {
   "cell_type": "markdown",
   "metadata": {},
   "source": [
    "### 3.2 Income Statement"
   ]
  },
  {
   "cell_type": "code",
   "execution_count": 6,
   "metadata": {},
   "outputs": [
    {
     "name": "stdout",
     "output_type": "stream",
     "text": [
      "INCOME STATEMENT - Year 9\n",
      "==================================================\n"
     ]
    },
    {
     "data": {
      "application/vnd.microsoft.datawrangler.viewer.v0+json": {
       "columns": [
        {
         "name": "index",
         "rawType": "int64",
         "type": "integer"
        },
        {
         "name": "Item",
         "rawType": "object",
         "type": "string"
        },
        {
         "name": "Year 9",
         "rawType": "object",
         "type": "unknown"
        },
        {
         "name": "Unit",
         "rawType": "object",
         "type": "string"
        },
        {
         "name": "Type",
         "rawType": "object",
         "type": "string"
        },
        {
         "name": "Year 8",
         "rawType": "object",
         "type": "string"
        }
       ],
       "ref": "78137aa9-1443-43b5-a760-a3214d125bbc",
       "rows": [
        [
         "0",
         "REVENUE",
         "",
         "",
         "",
         ""
        ],
        [
         "9",
         "OPERATING INCOME",
         "557146.5345584109",
         "",
         "subtotal",
         ""
        ],
        [
         "11",
         "OTHER INCOME (EXPENSES)",
         "",
         "",
         "",
         ""
        ],
        [
         "17",
         "INCOME BEFORE TAXES",
         "557146.5345584109",
         "",
         "subtotal",
         ""
        ],
        [
         "21",
         "NET INCOME",
         "417859.9009188082",
         "",
         "total",
         ""
        ]
       ],
       "shape": {
        "columns": 5,
        "rows": 5
       }
      },
      "text/html": [
       "<div>\n",
       "<style scoped>\n",
       "    .dataframe tbody tr th:only-of-type {\n",
       "        vertical-align: middle;\n",
       "    }\n",
       "\n",
       "    .dataframe tbody tr th {\n",
       "        vertical-align: top;\n",
       "    }\n",
       "\n",
       "    .dataframe thead th {\n",
       "        text-align: right;\n",
       "    }\n",
       "</style>\n",
       "<table border=\"1\" class=\"dataframe\">\n",
       "  <thead>\n",
       "    <tr style=\"text-align: right;\">\n",
       "      <th></th>\n",
       "      <th>Item</th>\n",
       "      <th>Year 9</th>\n",
       "      <th>Unit</th>\n",
       "      <th>Type</th>\n",
       "      <th>Year 8</th>\n",
       "    </tr>\n",
       "  </thead>\n",
       "  <tbody>\n",
       "    <tr>\n",
       "      <th>0</th>\n",
       "      <td>REVENUE</td>\n",
       "      <td></td>\n",
       "      <td></td>\n",
       "      <td></td>\n",
       "      <td></td>\n",
       "    </tr>\n",
       "    <tr>\n",
       "      <th>9</th>\n",
       "      <td>OPERATING INCOME</td>\n",
       "      <td>557,146.53</td>\n",
       "      <td></td>\n",
       "      <td>subtotal</td>\n",
       "      <td></td>\n",
       "    </tr>\n",
       "    <tr>\n",
       "      <th>11</th>\n",
       "      <td>OTHER INCOME (EXPENSES)</td>\n",
       "      <td></td>\n",
       "      <td></td>\n",
       "      <td></td>\n",
       "      <td></td>\n",
       "    </tr>\n",
       "    <tr>\n",
       "      <th>17</th>\n",
       "      <td>INCOME BEFORE TAXES</td>\n",
       "      <td>557,146.53</td>\n",
       "      <td></td>\n",
       "      <td>subtotal</td>\n",
       "      <td></td>\n",
       "    </tr>\n",
       "    <tr>\n",
       "      <th>21</th>\n",
       "      <td>NET INCOME</td>\n",
       "      <td>417,859.90</td>\n",
       "      <td></td>\n",
       "      <td>total</td>\n",
       "      <td></td>\n",
       "    </tr>\n",
       "  </tbody>\n",
       "</table>\n",
       "</div>"
      ],
      "text/plain": [
       "                       Item     Year 9 Unit      Type Year 8\n",
       "0                   REVENUE                                 \n",
       "9          OPERATING INCOME 557,146.53       subtotal       \n",
       "11  OTHER INCOME (EXPENSES)                                 \n",
       "17      INCOME BEFORE TAXES 557,146.53       subtotal       \n",
       "21               NET INCOME 417,859.90          total       "
      ]
     },
     "metadata": {},
     "output_type": "display_data"
    }
   ],
   "source": [
    "# Generate income statement\n",
    "income_statement = stmt_generator.generate_income_statement(last_year)\n",
    "\n",
    "# Display key items\n",
    "print(\"INCOME STATEMENT - Year\", last_year)\n",
    "print(\"=\" * 50)\n",
    "display(income_statement[income_statement['Item'].str.contains('REVENUE|INCOME|NET', na=False)])"
   ]
  },
  {
   "cell_type": "markdown",
   "metadata": {},
   "source": [
    "### 3.3 Cash Flow Statement"
   ]
  },
  {
   "cell_type": "code",
   "execution_count": 7,
   "metadata": {},
   "outputs": [
    {
     "name": "stdout",
     "output_type": "stream",
     "text": [
      "CASH FLOW STATEMENT - Year 9\n",
      "==================================================\n"
     ]
    },
    {
     "data": {
      "application/vnd.microsoft.datawrangler.viewer.v0+json": {
       "columns": [
        {
         "name": "index",
         "rawType": "int64",
         "type": "integer"
        },
        {
         "name": "Item",
         "rawType": "object",
         "type": "string"
        },
        {
         "name": "Year 9",
         "rawType": "object",
         "type": "unknown"
        },
        {
         "name": "Type",
         "rawType": "object",
         "type": "string"
        }
       ],
       "ref": "369b10f9-4b4d-4ffd-a788-2d1716a05cc7",
       "rows": [
        [
         "0",
         "OPERATING ACTIVITIES",
         "",
         ""
        ],
        [
         "8",
         "INVESTING ACTIVITIES",
         "",
         ""
        ],
        [
         "12",
         "FINANCING ACTIVITIES",
         "",
         ""
        ],
        [
         "15",
         "NET CHANGE IN CASH",
         "913440.9756121202",
         "total"
        ]
       ],
       "shape": {
        "columns": 3,
        "rows": 4
       }
      },
      "text/html": [
       "<div>\n",
       "<style scoped>\n",
       "    .dataframe tbody tr th:only-of-type {\n",
       "        vertical-align: middle;\n",
       "    }\n",
       "\n",
       "    .dataframe tbody tr th {\n",
       "        vertical-align: top;\n",
       "    }\n",
       "\n",
       "    .dataframe thead th {\n",
       "        text-align: right;\n",
       "    }\n",
       "</style>\n",
       "<table border=\"1\" class=\"dataframe\">\n",
       "  <thead>\n",
       "    <tr style=\"text-align: right;\">\n",
       "      <th></th>\n",
       "      <th>Item</th>\n",
       "      <th>Year 9</th>\n",
       "      <th>Type</th>\n",
       "    </tr>\n",
       "  </thead>\n",
       "  <tbody>\n",
       "    <tr>\n",
       "      <th>0</th>\n",
       "      <td>OPERATING ACTIVITIES</td>\n",
       "      <td></td>\n",
       "      <td></td>\n",
       "    </tr>\n",
       "    <tr>\n",
       "      <th>8</th>\n",
       "      <td>INVESTING ACTIVITIES</td>\n",
       "      <td></td>\n",
       "      <td></td>\n",
       "    </tr>\n",
       "    <tr>\n",
       "      <th>12</th>\n",
       "      <td>FINANCING ACTIVITIES</td>\n",
       "      <td></td>\n",
       "      <td></td>\n",
       "    </tr>\n",
       "    <tr>\n",
       "      <th>15</th>\n",
       "      <td>NET CHANGE IN CASH</td>\n",
       "      <td>913,440.98</td>\n",
       "      <td>total</td>\n",
       "    </tr>\n",
       "  </tbody>\n",
       "</table>\n",
       "</div>"
      ],
      "text/plain": [
       "                    Item     Year 9   Type\n",
       "0   OPERATING ACTIVITIES                  \n",
       "8   INVESTING ACTIVITIES                  \n",
       "12  FINANCING ACTIVITIES                  \n",
       "15    NET CHANGE IN CASH 913,440.98  total"
      ]
     },
     "metadata": {},
     "output_type": "display_data"
    }
   ],
   "source": [
    "# Generate cash flow statement\n",
    "cash_flow = stmt_generator.generate_cash_flow_statement(last_year, method='indirect')\n",
    "\n",
    "# Display summary\n",
    "print(\"CASH FLOW STATEMENT - Year\", last_year)\n",
    "print(\"=\" * 50)\n",
    "display(cash_flow[cash_flow['Item'].str.contains('ACTIVITIES|NET CHANGE', na=False)])"
   ]
  },
  {
   "cell_type": "markdown",
   "metadata": {},
   "source": [
    "### 3.4 Reconciliation Report"
   ]
  },
  {
   "cell_type": "code",
   "execution_count": 8,
   "metadata": {},
   "outputs": [
    {
     "name": "stdout",
     "output_type": "stream",
     "text": [
      "RECONCILIATION REPORT - Year 9\n",
      "==================================================\n"
     ]
    },
    {
     "data": {
      "application/vnd.microsoft.datawrangler.viewer.v0+json": {
       "columns": [
        {
         "name": "index",
         "rawType": "int64",
         "type": "integer"
        },
        {
         "name": "Check",
         "rawType": "object",
         "type": "string"
        },
        {
         "name": "Value",
         "rawType": "object",
         "type": "unknown"
        },
        {
         "name": "Expected",
         "rawType": "object",
         "type": "string"
        },
        {
         "name": "Type",
         "rawType": "object",
         "type": "string"
        }
       ],
       "ref": "f5bd1ec4-6321-403f-b648-bc27626db8a9",
       "rows": [
        [
         "0",
         "BALANCE SHEET RECONCILIATION",
         "",
         "",
         ""
        ],
        [
         "1",
         "  Assets",
         "10364233.651767785",
         "",
         ""
        ],
        [
         "2",
         "  Liabilities + Equity",
         "10364233.651767785",
         "",
         ""
        ],
        [
         "3",
         "  Difference",
         "0.0",
         "",
         ""
        ],
        [
         "4",
         "  Status",
         "BALANCED",
         "",
         "status"
        ],
        [
         "5",
         "",
         "",
         "",
         ""
        ],
        [
         "6",
         "NET ASSETS RECONCILIATION",
         "",
         "",
         ""
        ],
        [
         "7",
         "  Reported Net Assets",
         "10364233.651767785",
         "",
         ""
        ],
        [
         "8",
         "  Calculated (Assets - Restricted)",
         "10364233.651767785",
         "",
         ""
        ],
        [
         "9",
         "  Difference",
         "0.0",
         "",
         ""
        ],
        [
         "10",
         "  Status",
         "MATCHED",
         "",
         "status"
        ],
        [
         "11",
         "",
         "",
         "",
         ""
        ],
        [
         "12",
         "COLLATERAL RECONCILIATION",
         "",
         "",
         ""
        ],
        [
         "13",
         "  Insurance Collateral",
         "0.0",
         "",
         ""
        ],
        [
         "14",
         "  Total Restricted Assets",
         "0.0",
         "",
         ""
        ],
        [
         "15",
         "  Status",
         "VALID",
         "",
         "status"
        ],
        [
         "16",
         "",
         "",
         "",
         ""
        ],
        [
         "17",
         "SOLVENCY CHECK",
         "",
         "",
         ""
        ],
        [
         "18",
         "  Equity",
         "10364233.651767785",
         "",
         ""
        ],
        [
         "19",
         "  Solvency Flag",
         "True",
         "",
         ""
        ],
        [
         "20",
         "  Status",
         "SOLVENT",
         "",
         "status"
        ]
       ],
       "shape": {
        "columns": 4,
        "rows": 21
       }
      },
      "text/html": [
       "<div>\n",
       "<style scoped>\n",
       "    .dataframe tbody tr th:only-of-type {\n",
       "        vertical-align: middle;\n",
       "    }\n",
       "\n",
       "    .dataframe tbody tr th {\n",
       "        vertical-align: top;\n",
       "    }\n",
       "\n",
       "    .dataframe thead th {\n",
       "        text-align: right;\n",
       "    }\n",
       "</style>\n",
       "<table border=\"1\" class=\"dataframe\">\n",
       "  <thead>\n",
       "    <tr style=\"text-align: right;\">\n",
       "      <th></th>\n",
       "      <th>Check</th>\n",
       "      <th>Value</th>\n",
       "      <th>Expected</th>\n",
       "      <th>Type</th>\n",
       "    </tr>\n",
       "  </thead>\n",
       "  <tbody>\n",
       "    <tr>\n",
       "      <th>0</th>\n",
       "      <td>BALANCE SHEET RECONCILIATION</td>\n",
       "      <td></td>\n",
       "      <td></td>\n",
       "      <td></td>\n",
       "    </tr>\n",
       "    <tr>\n",
       "      <th>1</th>\n",
       "      <td>Assets</td>\n",
       "      <td>10,364,233.65</td>\n",
       "      <td></td>\n",
       "      <td></td>\n",
       "    </tr>\n",
       "    <tr>\n",
       "      <th>2</th>\n",
       "      <td>Liabilities + Equity</td>\n",
       "      <td>10,364,233.65</td>\n",
       "      <td></td>\n",
       "      <td></td>\n",
       "    </tr>\n",
       "    <tr>\n",
       "      <th>3</th>\n",
       "      <td>Difference</td>\n",
       "      <td>0.00</td>\n",
       "      <td></td>\n",
       "      <td></td>\n",
       "    </tr>\n",
       "    <tr>\n",
       "      <th>4</th>\n",
       "      <td>Status</td>\n",
       "      <td>BALANCED</td>\n",
       "      <td></td>\n",
       "      <td>status</td>\n",
       "    </tr>\n",
       "    <tr>\n",
       "      <th>5</th>\n",
       "      <td></td>\n",
       "      <td></td>\n",
       "      <td></td>\n",
       "      <td></td>\n",
       "    </tr>\n",
       "    <tr>\n",
       "      <th>6</th>\n",
       "      <td>NET ASSETS RECONCILIATION</td>\n",
       "      <td></td>\n",
       "      <td></td>\n",
       "      <td></td>\n",
       "    </tr>\n",
       "    <tr>\n",
       "      <th>7</th>\n",
       "      <td>Reported Net Assets</td>\n",
       "      <td>10,364,233.65</td>\n",
       "      <td></td>\n",
       "      <td></td>\n",
       "    </tr>\n",
       "    <tr>\n",
       "      <th>8</th>\n",
       "      <td>Calculated (Assets - Restricted)</td>\n",
       "      <td>10,364,233.65</td>\n",
       "      <td></td>\n",
       "      <td></td>\n",
       "    </tr>\n",
       "    <tr>\n",
       "      <th>9</th>\n",
       "      <td>Difference</td>\n",
       "      <td>0.00</td>\n",
       "      <td></td>\n",
       "      <td></td>\n",
       "    </tr>\n",
       "    <tr>\n",
       "      <th>10</th>\n",
       "      <td>Status</td>\n",
       "      <td>MATCHED</td>\n",
       "      <td></td>\n",
       "      <td>status</td>\n",
       "    </tr>\n",
       "    <tr>\n",
       "      <th>11</th>\n",
       "      <td></td>\n",
       "      <td></td>\n",
       "      <td></td>\n",
       "      <td></td>\n",
       "    </tr>\n",
       "    <tr>\n",
       "      <th>12</th>\n",
       "      <td>COLLATERAL RECONCILIATION</td>\n",
       "      <td></td>\n",
       "      <td></td>\n",
       "      <td></td>\n",
       "    </tr>\n",
       "    <tr>\n",
       "      <th>13</th>\n",
       "      <td>Insurance Collateral</td>\n",
       "      <td>0.00</td>\n",
       "      <td></td>\n",
       "      <td></td>\n",
       "    </tr>\n",
       "    <tr>\n",
       "      <th>14</th>\n",
       "      <td>Total Restricted Assets</td>\n",
       "      <td>0.00</td>\n",
       "      <td></td>\n",
       "      <td></td>\n",
       "    </tr>\n",
       "    <tr>\n",
       "      <th>15</th>\n",
       "      <td>Status</td>\n",
       "      <td>VALID</td>\n",
       "      <td></td>\n",
       "      <td>status</td>\n",
       "    </tr>\n",
       "    <tr>\n",
       "      <th>16</th>\n",
       "      <td></td>\n",
       "      <td></td>\n",
       "      <td></td>\n",
       "      <td></td>\n",
       "    </tr>\n",
       "    <tr>\n",
       "      <th>17</th>\n",
       "      <td>SOLVENCY CHECK</td>\n",
       "      <td></td>\n",
       "      <td></td>\n",
       "      <td></td>\n",
       "    </tr>\n",
       "    <tr>\n",
       "      <th>18</th>\n",
       "      <td>Equity</td>\n",
       "      <td>10,364,233.65</td>\n",
       "      <td></td>\n",
       "      <td></td>\n",
       "    </tr>\n",
       "    <tr>\n",
       "      <th>19</th>\n",
       "      <td>Solvency Flag</td>\n",
       "      <td>True</td>\n",
       "      <td></td>\n",
       "      <td></td>\n",
       "    </tr>\n",
       "    <tr>\n",
       "      <th>20</th>\n",
       "      <td>Status</td>\n",
       "      <td>SOLVENT</td>\n",
       "      <td></td>\n",
       "      <td>status</td>\n",
       "    </tr>\n",
       "  </tbody>\n",
       "</table>\n",
       "</div>"
      ],
      "text/plain": [
       "                                 Check         Value Expected    Type\n",
       "0         BALANCE SHEET RECONCILIATION                               \n",
       "1                               Assets 10,364,233.65                 \n",
       "2                 Liabilities + Equity 10,364,233.65                 \n",
       "3                           Difference          0.00                 \n",
       "4                               Status      BALANCED           status\n",
       "5                                                                    \n",
       "6            NET ASSETS RECONCILIATION                               \n",
       "7                  Reported Net Assets 10,364,233.65                 \n",
       "8     Calculated (Assets - Restricted) 10,364,233.65                 \n",
       "9                           Difference          0.00                 \n",
       "10                              Status       MATCHED           status\n",
       "11                                                                   \n",
       "12           COLLATERAL RECONCILIATION                               \n",
       "13                Insurance Collateral          0.00                 \n",
       "14             Total Restricted Assets          0.00                 \n",
       "15                              Status         VALID           status\n",
       "16                                                                   \n",
       "17                      SOLVENCY CHECK                               \n",
       "18                              Equity 10,364,233.65                 \n",
       "19                       Solvency Flag          True                 \n",
       "20                              Status       SOLVENT           status"
      ]
     },
     "metadata": {},
     "output_type": "display_data"
    }
   ],
   "source": [
    "# Generate reconciliation report\n",
    "reconciliation = stmt_generator.generate_reconciliation_report(last_year)\n",
    "\n",
    "print(\"RECONCILIATION REPORT - Year\", last_year)\n",
    "print(\"=\" * 50)\n",
    "display(reconciliation)"
   ]
  },
  {
   "cell_type": "markdown",
   "metadata": {},
   "source": [
    "## 4. Generate Excel Reports"
   ]
  },
  {
   "cell_type": "markdown",
   "metadata": {},
   "source": [
    "### 4.1 Basic Excel Report"
   ]
  },
  {
   "cell_type": "code",
   "execution_count": 9,
   "metadata": {},
   "outputs": [
    {
     "name": "stdout",
     "output_type": "stream",
     "text": [
      "Basic report saved to: excel_reports\\basic_financial_statements.xlsx\n"
     ]
    }
   ],
   "source": [
    "# Create output directory\n",
    "output_dir = Path(\"./excel_reports\")\n",
    "output_dir.mkdir(exist_ok=True)\n",
    "\n",
    "# Save basic report with pandas\n",
    "basic_file = output_dir / \"basic_financial_statements.xlsx\"\n",
    "\n",
    "with pd.ExcelWriter(basic_file, engine='openpyxl') as writer:\n",
    "    balance_sheet.to_excel(writer, sheet_name='Balance Sheet', index=False)\n",
    "    income_statement.to_excel(writer, sheet_name='Income Statement', index=False)\n",
    "    cash_flow.to_excel(writer, sheet_name='Cash Flow', index=False)\n",
    "    reconciliation.to_excel(writer, sheet_name='Reconciliation', index=False)\n",
    "\n",
    "print(f\"Basic report saved to: {basic_file}\")"
   ]
  },
  {
   "cell_type": "markdown",
   "metadata": {},
   "source": [
    "### 4.2 Comprehensive Excel Report with Formatting"
   ]
  },
  {
   "cell_type": "code",
   "execution_count": 10,
   "metadata": {},
   "outputs": [
    {
     "name": "stdout",
     "output_type": "stream",
     "text": [
      "Comprehensive report saved to: excel_reports\\comprehensive_financial_report.xlsx\n",
      "Report engine used: openpyxl\n"
     ]
    }
   ],
   "source": [
    "# Configure Excel reporter\n",
    "# Note: ExcelReportConfig expects a string path, but ExcelReporter tries to use it as Path\n",
    "# We'll work around this by creating the directory first\n",
    "output_dir.mkdir(exist_ok=True)\n",
    "\n",
    "excel_config = ExcelReportConfig(\n",
    "    output_path=str(output_dir),  # Convert Path to string as required by config\n",
    "    include_balance_sheet=True,\n",
    "    include_income_statement=True,\n",
    "    include_cash_flow=True,\n",
    "    include_reconciliation=True,\n",
    "    include_metrics_dashboard=True,\n",
    "    include_pivot_data=True,\n",
    "    engine=\"auto\",\n",
    "    currency_format=\"$#,##0\",\n",
    "    decimal_places=0\n",
    ")\n",
    "\n",
    "# Patch the config's output_path to be a Path object for ExcelReporter\n",
    "# This is a workaround for the type mismatch\n",
    "from pathlib import Path as PathType\n",
    "excel_config_dict = excel_config.model_dump()\n",
    "excel_config_dict['output_path'] = PathType(excel_config_dict['output_path'])\n",
    "\n",
    "# Create reporter with patched config\n",
    "from ergodic_insurance.src.config_v2 import ExcelReportConfig as ConfigClass\n",
    "patched_config = type('ExcelReportConfig', (), excel_config_dict)()\n",
    "for key, value in excel_config_dict.items():\n",
    "    setattr(patched_config, key, value)\n",
    "\n",
    "reporter = ExcelReporter(patched_config)\n",
    "\n",
    "# Add the missing initial_assets attribute to manufacturer\n",
    "# This is a workaround for the FinancialStatementGenerator compatibility issue\n",
    "manufacturer.initial_assets = manufacturer.config.initial_assets\n",
    "\n",
    "# Generate comprehensive report\n",
    "comprehensive_file = reporter.generate_trajectory_report(\n",
    "    manufacturer,\n",
    "    \"comprehensive_financial_report.xlsx\",\n",
    "    title=\"Widget Manufacturing Company - Financial Analysis\"\n",
    ")\n",
    "\n",
    "print(f\"Comprehensive report saved to: {comprehensive_file}\")\n",
    "print(f\"Report engine used: {reporter.engine}\")"
   ]
  },
  {
   "cell_type": "markdown",
   "metadata": {},
   "source": [
    "## 5. Multi-Year Analysis"
   ]
  },
  {
   "cell_type": "code",
   "execution_count": 11,
   "metadata": {},
   "outputs": [
    {
     "data": {
      "application/vnd.microsoft.datawrangler.viewer.v0+json": {
       "columns": [
        {
         "name": "index",
         "rawType": "int64",
         "type": "integer"
        },
        {
         "name": "Year",
         "rawType": "int64",
         "type": "integer"
        },
        {
         "name": "Assets",
         "rawType": "float64",
         "type": "float"
        },
        {
         "name": "Equity",
         "rawType": "float64",
         "type": "float"
        },
        {
         "name": "Revenue",
         "rawType": "float64",
         "type": "float"
        },
        {
         "name": "Operating Income",
         "rawType": "float64",
         "type": "float"
        },
        {
         "name": "Net Income",
         "rawType": "float64",
         "type": "float"
        },
        {
         "name": "ROE %",
         "rawType": "float64",
         "type": "float"
        },
        {
         "name": "ROA %",
         "rawType": "float64",
         "type": "float"
        },
        {
         "name": "Operating Margin %",
         "rawType": "float64",
         "type": "float"
        },
        {
         "name": "Revenue Growth %",
         "rawType": "float64",
         "type": "float"
        },
        {
         "name": "Asset Growth %",
         "rawType": "float64",
         "type": "float"
        }
       ],
       "ref": "46d8d38c-bc50-428d-a59e-aa2fe27e0e96",
       "rows": [
        [
         "0",
         "0",
         "10190909.090909092",
         "10190909.090909092",
         "5248318.181818183",
         "419865.4545454546",
         "314899.09090909094",
         "3.09",
         "3.09",
         "8.0",
         null,
         null
        ],
        [
         "1",
         "1",
         "10186832.358031815",
         "10186832.358031815",
         "5403605.224317976",
         "432288.4179454381",
         "324216.3134590786",
         "3.1827",
         "3.1827",
         "8.0",
         "2.958796268064634",
         "-0.04000362323821616"
        ],
        [
         "2",
         "2",
         "10187987.453386944",
         "10187987.453386944",
         "5566344.482988577",
         "445307.5586390862",
         "333980.6689793146",
         "3.2781809999999996",
         "3.2781809999999996",
         "8.0",
         "3.011679275499657",
         "0.011339102426854986"
        ],
        [
         "3",
         "3",
         "10194606.632679394",
         "10194606.632679394",
         "5737059.789782546",
         "458964.7831826037",
         "344223.5873869528",
         "3.37652643",
         "3.37652643",
         "8.0",
         "3.066919543260327",
         "0.06497043034980887"
        ],
        [
         "4",
         "4",
         "10206937.932041213",
         "10206937.932041213",
         "5916319.2613023175",
         "473305.5409041854",
         "354979.15567813907",
         "3.4778222229000004",
         "3.4778222229000004",
         "8.0",
         "3.1245878217798007",
         "0.12095905027165177"
        ],
        [
         "5",
         "5",
         "10225246.449459644",
         "10225246.449459644",
         "6104739.502776146",
         "488379.1602220917",
         "366284.3701665688",
         "3.582156889587",
         "3.582156889587",
         "8.0",
         "3.1847544588449628",
         "0.1793732610145371"
        ],
        [
         "6",
         "6",
         "10249815.741090633",
         "10249815.741090633",
         "6302990.252693908",
         "504239.2202155127",
         "378179.4151616345",
         "3.68962159627461",
         "3.68962159627461",
         "8.0",
         "3.2474890997004513",
         "0.24028067932080344"
        ],
        [
         "7",
         "7",
         "10280949.343737327",
         "10280949.343737327",
         "6511799.518454047",
         "520943.9614763238",
         "390707.97110724286",
         "3.8003102441628496",
         "3.8003102441628496",
         "8.0",
         "3.3128603629189124",
         "0.3037479251639885"
        ],
        [
         "8",
         "8",
         "10318972.43597763",
         "10318972.43597763",
         "6731959.259568376",
         "538556.7407654701",
         "403917.55557410256",
         "3.914319551487735",
         "3.914319551487735",
         "8.0",
         "3.3809354924150936",
         "0.3698402838981485"
        ],
        [
         "9",
         "9",
         "10364233.651767785",
         "10364233.651767785",
         "6964331.681980136",
         "557146.5345584109",
         "417859.9009188082",
         "4.031749138032367",
         "4.031749138032367",
         "8.0",
         "3.4517799863610366",
         "0.4386213459815824"
        ]
       ],
       "shape": {
        "columns": 11,
        "rows": 10
       }
      },
      "text/html": [
       "<div>\n",
       "<style scoped>\n",
       "    .dataframe tbody tr th:only-of-type {\n",
       "        vertical-align: middle;\n",
       "    }\n",
       "\n",
       "    .dataframe tbody tr th {\n",
       "        vertical-align: top;\n",
       "    }\n",
       "\n",
       "    .dataframe thead th {\n",
       "        text-align: right;\n",
       "    }\n",
       "</style>\n",
       "<table border=\"1\" class=\"dataframe\">\n",
       "  <thead>\n",
       "    <tr style=\"text-align: right;\">\n",
       "      <th></th>\n",
       "      <th>Year</th>\n",
       "      <th>Assets</th>\n",
       "      <th>Equity</th>\n",
       "      <th>Revenue</th>\n",
       "      <th>Operating Income</th>\n",
       "      <th>Net Income</th>\n",
       "      <th>ROE %</th>\n",
       "      <th>ROA %</th>\n",
       "      <th>Operating Margin %</th>\n",
       "      <th>Revenue Growth %</th>\n",
       "      <th>Asset Growth %</th>\n",
       "    </tr>\n",
       "  </thead>\n",
       "  <tbody>\n",
       "    <tr>\n",
       "      <th>0</th>\n",
       "      <td>0</td>\n",
       "      <td>10,190,909.09</td>\n",
       "      <td>10,190,909.09</td>\n",
       "      <td>5,248,318.18</td>\n",
       "      <td>419,865.45</td>\n",
       "      <td>314,899.09</td>\n",
       "      <td>3.09</td>\n",
       "      <td>3.09</td>\n",
       "      <td>8.00</td>\n",
       "      <td>NaN</td>\n",
       "      <td>NaN</td>\n",
       "    </tr>\n",
       "    <tr>\n",
       "      <th>1</th>\n",
       "      <td>1</td>\n",
       "      <td>10,186,832.36</td>\n",
       "      <td>10,186,832.36</td>\n",
       "      <td>5,403,605.22</td>\n",
       "      <td>432,288.42</td>\n",
       "      <td>324,216.31</td>\n",
       "      <td>3.18</td>\n",
       "      <td>3.18</td>\n",
       "      <td>8.00</td>\n",
       "      <td>2.96</td>\n",
       "      <td>-0.04</td>\n",
       "    </tr>\n",
       "    <tr>\n",
       "      <th>2</th>\n",
       "      <td>2</td>\n",
       "      <td>10,187,987.45</td>\n",
       "      <td>10,187,987.45</td>\n",
       "      <td>5,566,344.48</td>\n",
       "      <td>445,307.56</td>\n",
       "      <td>333,980.67</td>\n",
       "      <td>3.28</td>\n",
       "      <td>3.28</td>\n",
       "      <td>8.00</td>\n",
       "      <td>3.01</td>\n",
       "      <td>0.01</td>\n",
       "    </tr>\n",
       "    <tr>\n",
       "      <th>3</th>\n",
       "      <td>3</td>\n",
       "      <td>10,194,606.63</td>\n",
       "      <td>10,194,606.63</td>\n",
       "      <td>5,737,059.79</td>\n",
       "      <td>458,964.78</td>\n",
       "      <td>344,223.59</td>\n",
       "      <td>3.38</td>\n",
       "      <td>3.38</td>\n",
       "      <td>8.00</td>\n",
       "      <td>3.07</td>\n",
       "      <td>0.06</td>\n",
       "    </tr>\n",
       "    <tr>\n",
       "      <th>4</th>\n",
       "      <td>4</td>\n",
       "      <td>10,206,937.93</td>\n",
       "      <td>10,206,937.93</td>\n",
       "      <td>5,916,319.26</td>\n",
       "      <td>473,305.54</td>\n",
       "      <td>354,979.16</td>\n",
       "      <td>3.48</td>\n",
       "      <td>3.48</td>\n",
       "      <td>8.00</td>\n",
       "      <td>3.12</td>\n",
       "      <td>0.12</td>\n",
       "    </tr>\n",
       "    <tr>\n",
       "      <th>5</th>\n",
       "      <td>5</td>\n",
       "      <td>10,225,246.45</td>\n",
       "      <td>10,225,246.45</td>\n",
       "      <td>6,104,739.50</td>\n",
       "      <td>488,379.16</td>\n",
       "      <td>366,284.37</td>\n",
       "      <td>3.58</td>\n",
       "      <td>3.58</td>\n",
       "      <td>8.00</td>\n",
       "      <td>3.18</td>\n",
       "      <td>0.18</td>\n",
       "    </tr>\n",
       "    <tr>\n",
       "      <th>6</th>\n",
       "      <td>6</td>\n",
       "      <td>10,249,815.74</td>\n",
       "      <td>10,249,815.74</td>\n",
       "      <td>6,302,990.25</td>\n",
       "      <td>504,239.22</td>\n",
       "      <td>378,179.42</td>\n",
       "      <td>3.69</td>\n",
       "      <td>3.69</td>\n",
       "      <td>8.00</td>\n",
       "      <td>3.25</td>\n",
       "      <td>0.24</td>\n",
       "    </tr>\n",
       "    <tr>\n",
       "      <th>7</th>\n",
       "      <td>7</td>\n",
       "      <td>10,280,949.34</td>\n",
       "      <td>10,280,949.34</td>\n",
       "      <td>6,511,799.52</td>\n",
       "      <td>520,943.96</td>\n",
       "      <td>390,707.97</td>\n",
       "      <td>3.80</td>\n",
       "      <td>3.80</td>\n",
       "      <td>8.00</td>\n",
       "      <td>3.31</td>\n",
       "      <td>0.30</td>\n",
       "    </tr>\n",
       "    <tr>\n",
       "      <th>8</th>\n",
       "      <td>8</td>\n",
       "      <td>10,318,972.44</td>\n",
       "      <td>10,318,972.44</td>\n",
       "      <td>6,731,959.26</td>\n",
       "      <td>538,556.74</td>\n",
       "      <td>403,917.56</td>\n",
       "      <td>3.91</td>\n",
       "      <td>3.91</td>\n",
       "      <td>8.00</td>\n",
       "      <td>3.38</td>\n",
       "      <td>0.37</td>\n",
       "    </tr>\n",
       "    <tr>\n",
       "      <th>9</th>\n",
       "      <td>9</td>\n",
       "      <td>10,364,233.65</td>\n",
       "      <td>10,364,233.65</td>\n",
       "      <td>6,964,331.68</td>\n",
       "      <td>557,146.53</td>\n",
       "      <td>417,859.90</td>\n",
       "      <td>4.03</td>\n",
       "      <td>4.03</td>\n",
       "      <td>8.00</td>\n",
       "      <td>3.45</td>\n",
       "      <td>0.44</td>\n",
       "    </tr>\n",
       "  </tbody>\n",
       "</table>\n",
       "</div>"
      ],
      "text/plain": [
       "   Year        Assets        Equity      Revenue  Operating Income  \\\n",
       "0     0 10,190,909.09 10,190,909.09 5,248,318.18        419,865.45   \n",
       "1     1 10,186,832.36 10,186,832.36 5,403,605.22        432,288.42   \n",
       "2     2 10,187,987.45 10,187,987.45 5,566,344.48        445,307.56   \n",
       "3     3 10,194,606.63 10,194,606.63 5,737,059.79        458,964.78   \n",
       "4     4 10,206,937.93 10,206,937.93 5,916,319.26        473,305.54   \n",
       "5     5 10,225,246.45 10,225,246.45 6,104,739.50        488,379.16   \n",
       "6     6 10,249,815.74 10,249,815.74 6,302,990.25        504,239.22   \n",
       "7     7 10,280,949.34 10,280,949.34 6,511,799.52        520,943.96   \n",
       "8     8 10,318,972.44 10,318,972.44 6,731,959.26        538,556.74   \n",
       "9     9 10,364,233.65 10,364,233.65 6,964,331.68        557,146.53   \n",
       "\n",
       "   Net Income  ROE %  ROA %  Operating Margin %  Revenue Growth %  \\\n",
       "0  314,899.09   3.09   3.09                8.00               NaN   \n",
       "1  324,216.31   3.18   3.18                8.00              2.96   \n",
       "2  333,980.67   3.28   3.28                8.00              3.01   \n",
       "3  344,223.59   3.38   3.38                8.00              3.07   \n",
       "4  354,979.16   3.48   3.48                8.00              3.12   \n",
       "5  366,284.37   3.58   3.58                8.00              3.18   \n",
       "6  378,179.42   3.69   3.69                8.00              3.25   \n",
       "7  390,707.97   3.80   3.80                8.00              3.31   \n",
       "8  403,917.56   3.91   3.91                8.00              3.38   \n",
       "9  417,859.90   4.03   4.03                8.00              3.45   \n",
       "\n",
       "   Asset Growth %  \n",
       "0             NaN  \n",
       "1           -0.04  \n",
       "2            0.01  \n",
       "3            0.06  \n",
       "4            0.12  \n",
       "5            0.18  \n",
       "6            0.24  \n",
       "7            0.30  \n",
       "8            0.37  \n",
       "9            0.44  "
      ]
     },
     "metadata": {},
     "output_type": "display_data"
    }
   ],
   "source": [
    "# Create multi-year summary\n",
    "metrics_summary = []\n",
    "\n",
    "for year in range(stmt_generator.years_available):\n",
    "    metrics = manufacturer.metrics_history[year]\n",
    "    summary = {\n",
    "        'Year': year,\n",
    "        'Assets': metrics.get('assets', 0),\n",
    "        'Equity': metrics.get('equity', 0),\n",
    "        'Revenue': metrics.get('revenue', 0),\n",
    "        'Operating Income': metrics.get('operating_income', 0),\n",
    "        'Net Income': metrics.get('net_income', 0),\n",
    "        'ROE %': metrics.get('roe', 0) * 100,\n",
    "        'ROA %': metrics.get('roa', 0) * 100,\n",
    "        'Operating Margin %': metrics.get('operating_margin', 0) * 100\n",
    "    }\n",
    "    metrics_summary.append(summary)\n",
    "\n",
    "multi_year_df = pd.DataFrame(metrics_summary)\n",
    "\n",
    "# Calculate growth rates\n",
    "multi_year_df['Revenue Growth %'] = multi_year_df['Revenue'].pct_change() * 100\n",
    "multi_year_df['Asset Growth %'] = multi_year_df['Assets'].pct_change() * 100\n",
    "\n",
    "display(multi_year_df)"
   ]
  },
  {
   "cell_type": "markdown",
   "metadata": {},
   "source": [
    "## 6. Visualizations"
   ]
  },
  {
   "cell_type": "code",
   "execution_count": 12,
   "metadata": {},
   "outputs": [
    {
     "data": {
      "image/png": "[encoded data removed]",
      "text/plain": [
       "<Figure size 1500x1000 with 4 Axes>"
      ]
     },
     "metadata": {},
     "output_type": "display_data"
    }
   ],
   "source": [
    "# Create visualizations\n",
    "fig, axes = plt.subplots(2, 2, figsize=(15, 10))\n",
    "\n",
    "# Asset and Equity Growth\n",
    "axes[0, 0].plot(multi_year_df['Year'], multi_year_df['Assets'], marker='o', label='Assets')\n",
    "axes[0, 0].plot(multi_year_df['Year'], multi_year_df['Equity'], marker='s', label='Equity')\n",
    "axes[0, 0].set_title('Assets and Equity Growth')\n",
    "axes[0, 0].set_xlabel('Year')\n",
    "axes[0, 0].set_ylabel('Value ($)')\n",
    "axes[0, 0].legend()\n",
    "axes[0, 0].grid(True)\n",
    "\n",
    "# Revenue and Income\n",
    "axes[0, 1].plot(multi_year_df['Year'], multi_year_df['Revenue'], marker='o', label='Revenue')\n",
    "axes[0, 1].plot(multi_year_df['Year'], multi_year_df['Net Income'], marker='s', label='Net Income')\n",
    "axes[0, 1].set_title('Revenue and Net Income')\n",
    "axes[0, 1].set_xlabel('Year')\n",
    "axes[0, 1].set_ylabel('Value ($)')\n",
    "axes[0, 1].legend()\n",
    "axes[0, 1].grid(True)\n",
    "\n",
    "# Financial Ratios\n",
    "axes[1, 0].plot(multi_year_df['Year'], multi_year_df['ROE %'], marker='o', label='ROE')\n",
    "axes[1, 0].plot(multi_year_df['Year'], multi_year_df['ROA %'], marker='s', label='ROA')\n",
    "axes[1, 0].set_title('Return Ratios')\n",
    "axes[1, 0].set_xlabel('Year')\n",
    "axes[1, 0].set_ylabel('Percentage (%)')\n",
    "axes[1, 0].legend()\n",
    "axes[1, 0].grid(True)\n",
    "\n",
    "# Growth Rates\n",
    "axes[1, 1].bar(multi_year_df['Year'][1:], multi_year_df['Revenue Growth %'][1:], \n",
    "               alpha=0.7, label='Revenue Growth')\n",
    "axes[1, 1].bar(multi_year_df['Year'][1:], multi_year_df['Asset Growth %'][1:], \n",
    "               alpha=0.7, label='Asset Growth')\n",
    "axes[1, 1].set_title('Year-over-Year Growth Rates')\n",
    "axes[1, 1].set_xlabel('Year')\n",
    "axes[1, 1].set_ylabel('Growth Rate (%)')\n",
    "axes[1, 1].legend()\n",
    "axes[1, 1].grid(True)\n",
    "\n",
    "plt.tight_layout()\n",
    "plt.show()"
   ]
  },
  {
   "cell_type": "markdown",
   "metadata": {},
   "source": [
    "## 7. Summary Statistics"
   ]
  },
  {
   "cell_type": "code",
   "execution_count": 13,
   "metadata": {},
   "outputs": [
    {
     "name": "stdout",
     "output_type": "stream",
     "text": [
      "SUMMARY STATISTICS\n",
      "==================================================\n",
      "Initial Assets: $10,190,909\n",
      "Final Assets: $10,364,234\n",
      "Total Asset Growth: 1.7%\n",
      "CAGR (Assets): 0.2%\n",
      "\n",
      "Average Revenue: $6,048,747\n",
      "Average Net Income: $362,925\n",
      "Average ROE: 3.5%\n",
      "Average ROA: 3.5%\n",
      "Average Operating Margin: 8.0%\n"
     ]
    }
   ],
   "source": [
    "# Calculate summary statistics\n",
    "print(\"SUMMARY STATISTICS\")\n",
    "print(\"=\" * 50)\n",
    "print(f\"Initial Assets: ${multi_year_df['Assets'].iloc[0]:,.0f}\")\n",
    "print(f\"Final Assets: ${multi_year_df['Assets'].iloc[-1]:,.0f}\")\n",
    "print(f\"Total Asset Growth: {(multi_year_df['Assets'].iloc[-1] / multi_year_df['Assets'].iloc[0] - 1) * 100:.1f}%\")\n",
    "print(f\"CAGR (Assets): {((multi_year_df['Assets'].iloc[-1] / multi_year_df['Assets'].iloc[0]) ** (1/(len(multi_year_df)-1)) - 1) * 100:.1f}%\")\n",
    "print()\n",
    "print(f\"Average Revenue: ${multi_year_df['Revenue'].mean():,.0f}\")\n",
    "print(f\"Average Net Income: ${multi_year_df['Net Income'].mean():,.0f}\")\n",
    "print(f\"Average ROE: {multi_year_df['ROE %'].mean():.1f}%\")\n",
    "print(f\"Average ROA: {multi_year_df['ROA %'].mean():.1f}%\")\n",
    "print(f\"Average Operating Margin: {multi_year_df['Operating Margin %'].mean():.1f}%\")"
   ]
  },
  {
   "cell_type": "markdown",
   "metadata": {},
   "source": [
    "## 8. Export Multi-Year Analysis to Excel"
   ]
  },
  {
   "cell_type": "code",
   "execution_count": 14,
   "metadata": {},
   "outputs": [
    {
     "name": "stdout",
     "output_type": "stream",
     "text": [
      "Multi-year analysis saved to: excel_reports\\multi_year_analysis.xlsx\n"
     ]
    }
   ],
   "source": [
    "# Save multi-year analysis\n",
    "analysis_file = output_dir / \"multi_year_analysis.xlsx\"\n",
    "\n",
    "with pd.ExcelWriter(analysis_file, engine='openpyxl') as writer:\n",
    "    # Multi-year summary\n",
    "    multi_year_df.to_excel(writer, sheet_name='Multi-Year Summary', index=False)\n",
    "    \n",
    "    # Add each year's statements\n",
    "    for year in range(min(5, stmt_generator.years_available)):  # Limit to 5 years\n",
    "        bs = stmt_generator.generate_balance_sheet(year)\n",
    "        bs.to_excel(writer, sheet_name=f'BS Year {year}', index=False)\n",
    "    \n",
    "    # Summary statistics\n",
    "    summary_stats = pd.DataFrame({\n",
    "        'Metric': ['Initial Assets', 'Final Assets', 'Total Growth %', 'CAGR %', \n",
    "                  'Avg Revenue', 'Avg Net Income', 'Avg ROE %', 'Avg ROA %'],\n",
    "        'Value': [\n",
    "            multi_year_df['Assets'].iloc[0],\n",
    "            multi_year_df['Assets'].iloc[-1],\n",
    "            (multi_year_df['Assets'].iloc[-1] / multi_year_df['Assets'].iloc[0] - 1) * 100,\n",
    "            ((multi_year_df['Assets'].iloc[-1] / multi_year_df['Assets'].iloc[0]) ** (1/(len(multi_year_df)-1)) - 1) * 100,\n",
    "            multi_year_df['Revenue'].mean(),\n",
    "            multi_year_df['Net Income'].mean(),\n",
    "            multi_year_df['ROE %'].mean(),\n",
    "            multi_year_df['ROA %'].mean()\n",
    "        ]\n",
    "    })\n",
    "    summary_stats.to_excel(writer, sheet_name='Summary Statistics', index=False)\n",
    "\n",
    "print(f\"Multi-year analysis saved to: {analysis_file}\")"
   ]
  },
  {
   "cell_type": "markdown",
   "metadata": {},
   "source": [
    "## 9. Batch Processing Integration"
   ]
  },
  {
   "cell_type": "code",
   "execution_count": 15,
   "metadata": {},
   "outputs": [
    {
     "name": "stdout",
     "output_type": "stream",
     "text": [
      "Batch processor integration available!\n",
      "Use export_format='excel_financial' to generate comprehensive financial reports\n"
     ]
    }
   ],
   "source": [
    "# Demonstrate batch processor integration\n",
    "from ergodic_insurance.src.batch_processor import BatchProcessor\n",
    "\n",
    "# The batch processor can now export financial statements using:\n",
    "# batch_processor.export_results(\"reports/batch_results.xlsx\", export_format=\"excel_financial\")\n",
    "\n",
    "print(\"Batch processor integration available!\")\n",
    "print(\"Use export_format='excel_financial' to generate comprehensive financial reports\")"
   ]
  },
  {
   "cell_type": "markdown",
   "metadata": {},
   "source": [
    "## 10. Conclusion\n",
    "\n",
    "This notebook demonstrated:\n",
    "\n",
    "1. **Financial Statement Generation**: Creating balance sheets, income statements, cash flow statements, and reconciliation reports\n",
    "2. **Excel Export**: Both basic and comprehensive Excel reports with formatting\n",
    "3. **Multi-Year Analysis**: Tracking financial metrics over time\n",
    "4. **Visualizations**: Graphical representation of financial trends\n",
    "5. **Integration**: How to use Excel reporting with batch processing\n",
    "\n",
    "The Excel reporting functionality provides:\n",
    "- Professional financial statements\n",
    "- Automatic reconciliation checks\n",
    "- Metrics dashboards\n",
    "- Pivot-ready data structures\n",
    "- Support for both single trajectories and Monte Carlo aggregations"
   ]
  }
 ],
 "metadata": {
  "kernelspec": {
   "display_name": ".venv",
   "language": "python",
   "name": "python3"
  },
  "language_info": {
   "codemirror_mode": {
    "name": "ipython",
    "version": 3
   },
   "file_extension": ".py",
   "mimetype": "text/x-python",
   "name": "python",
   "nbconvert_exporter": "python",
   "pygments_lexer": "ipython3",
   "version": "3.12.10"
  }
 },
 "nbformat": 4,
 "nbformat_minor": 4
}
