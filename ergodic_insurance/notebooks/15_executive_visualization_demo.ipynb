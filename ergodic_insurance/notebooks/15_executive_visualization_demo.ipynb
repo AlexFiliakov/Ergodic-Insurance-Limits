{
 "cells": [
  {
   "cell_type": "markdown",
   "metadata": {},
   "source": [
    "# Executive Visualization Suite Demo\n",
    "\n",
    "This notebook demonstrates the complete set of executive-level visualizations for insurance program optimization.\n",
    "\n",
    "## Key Visualizations:\n",
    "1. **Simulation Architecture Flow** - How the system works\n",
    "2. **Sample Path Visualization** - Company trajectory examples\n",
    "3. **Optimal Coverage Heatmap** - Best insurance configurations\n",
    "4. **Sensitivity Analysis** - Key parameter impacts\n",
    "5. **Robustness Analysis** - Configuration stability"
   ]
  },
  {
   "cell_type": "code",
   "execution_count": null,
   "metadata": {},
   "outputs": [],
   "source": [
    "# Import required libraries\n",
    "import numpy as np\n",
    "import pandas as pd\n",
    "import matplotlib.pyplot as plt\n",
    "from IPython.display import display\n",
    "\n",
    "# Import visualization functions\n",
    "from ergodic_insurance.src.visualization.executive_plots import (\n",
    "    plot_simulation_architecture,\n",
    "    plot_sample_paths,\n",
    "    plot_optimal_coverage_heatmap,\n",
    "    plot_sensitivity_tornado,\n",
    "    plot_robustness_heatmap,\n",
    "    plot_roe_ruin_frontier,\n",
    "    plot_ruin_cliff\n",
    ")\n",
    "\n",
    "# Set display options\n",
    "%matplotlib inline\n",
    "plt.rcParams['figure.dpi'] = 100\n",
    "\n",
    "print(\"Executive Visualization Suite loaded successfully!\")"
   ]
  },
  {
   "cell_type": "markdown",
   "metadata": {},
   "source": [
    "## Figure 1: The Ruin Cliff\n",
    "\n",
    "This dramatic visualization shows how retention levels affect failure risk."
   ]
  },
  {
   "cell_type": "code",
   "execution_count": null,
   "metadata": {},
   "outputs": [],
   "source": [
    "# Figure 1: The Ruin Cliff\n",
    "fig = plot_ruin_cliff(\n",
    "    retention_range=(10_000, 10_000_000),\n",
    "    n_points=50,\n",
    "    company_size=10_000_000,\n",
    "    title=\"The Ruin Cliff: Critical Insurance Decision Points\",\n",
    "    figsize=(14, 8),\n",
    "    show_warnings=True,\n",
    "    show_3d_effect=True,\n",
    "    export_dpi=150\n",
    ")\n",
    "plt.show()\n",
    "\n",
    "print(\"💡 Key Insight: The cliff edge shows where insurance becomes critical for survival.\")\n",
    "print(\"   Moving retention too high pushes companies over the edge into the danger zone.\")"
   ]
  },
  {
   "cell_type": "markdown",
   "metadata": {},
   "source": [
    "## Figure 2: Simulation Architecture Flow\n",
    "\n",
    "This flowchart shows how our simulation engine transforms input parameters into actionable insights."
   ]
  },
  {
   "cell_type": "code",
   "execution_count": null,
   "metadata": {},
   "outputs": [],
   "source": [
    "# Figure 2: Simulation Architecture\n",
    "fig = plot_simulation_architecture(\n",
    "    title=\"Ergodic Insurance Optimization - System Architecture\",\n",
    "    figsize=(14, 8),\n",
    "    export_dpi=150\n",
    ")\n",
    "plt.show()\n",
    "\n",
    "print(\"💡 Key Insight: The system integrates company data, insurance parameters, and\")\n",
    "print(\"   stochastic simulations to generate optimal insurance recommendations.\")"
   ]
  },
  {
   "cell_type": "markdown",
   "metadata": {},
   "source": [
    "## Figure 3: Sample Path Visualization\n",
    "\n",
    "Representative company trajectories showing survivors vs. failures over different time horizons."
   ]
  },
  {
   "cell_type": "code",
   "execution_count": null,
   "metadata": {},
   "outputs": [],
   "source": [
    "# Figure 3: Sample Paths\n",
    "fig = plot_sample_paths(\n",
    "    n_paths=5,\n",
    "    short_horizon=10,\n",
    "    long_horizon=100,\n",
    "    company_size=10_000_000,\n",
    "    title=\"Company Trajectories: Survivors vs. Failures\",\n",
    "    figsize=(14, 8),\n",
    "    show_failures=True,\n",
    "    export_dpi=150\n",
    ")\n",
    "plt.show()\n",
    "\n",
    "print(\"💡 Key Insight: Insurance doesn't prevent all failures, but dramatically increases\")\n",
    "print(\"   the proportion of companies that survive and thrive long-term.\")"
   ]
  }
 ],
 "metadata": {
  "kernelspec": {
   "display_name": "Python 3",
   "language": "python",
   "name": "python3"
  },
  "language_info": {
   "codemirror_mode": {
    "name": "ipython",
    "version": 3
   },
   "file_extension": ".py",
   "mimetype": "text/x-python",
   "name": "python",
   "nbconvert_exporter": "python",
   "pygments_lexer": "ipython3",
   "version": "3.12.0"
  }
 },
 "nbformat": 4,
 "nbformat_minor": 4
}
