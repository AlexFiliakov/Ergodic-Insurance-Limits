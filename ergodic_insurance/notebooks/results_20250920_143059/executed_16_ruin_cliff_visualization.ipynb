{
 "cells": [
  {
   "cell_type": "markdown",
   "id": "a6d43369",
   "metadata": {
    "tags": [
     "papermill-error-cell-tag"
    ]
   },
   "source": [
    "<span style=\"color:red; font-family:Helvetica Neue, Helvetica, Arial, sans-serif; font-size:2em;\">An Exception was encountered at '<a href=\"#papermill-error-cell\">In [1]</a>'.</span>"
   ]
  },
  {
   "cell_type": "markdown",
   "id": "d3300e81",
   "metadata": {
    "papermill": {
     "duration": 0.005399,
     "end_time": "2025-09-20T18:45:12.883890",
     "exception": false,
     "start_time": "2025-09-20T18:45:12.878491",
     "status": "completed"
    },
    "tags": []
   },
   "source": [
    "# Ruin Cliff Visualization: Dramatic Risk Thresholds\n",
    "\n",
    "This notebook demonstrates the **Ruin Cliff visualization**, which shows how insurance retention (deductible) levels affect ruin probability. The visualization features:\n",
    "- 3D-style gradient effects\n",
    "- Automatic cliff edge detection\n",
    "- Warning zones and callouts\n",
    "- Inset plot for critical region detail\n",
    "\n",
    "## Key Insights\n",
    "- There's often a dramatic \"cliff\" where ruin probability increases sharply\n",
    "- Optimal retention balances premium costs vs. catastrophic risk\n",
    "- Visual warnings help executives identify dangerous retention levels"
   ]
  },
  {
   "cell_type": "markdown",
   "id": "879f445f",
   "metadata": {
    "tags": [
     "papermill-error-cell-tag"
    ]
   },
   "source": [
    "<span id=\"papermill-error-cell\" style=\"color:red; font-family:Helvetica Neue, Helvetica, Arial, sans-serif; font-size:2em;\">Execution using papermill encountered an exception here and stopped:</span>"
   ]
  },
  {
   "cell_type": "code",
   "execution_count": 1,
   "id": "f27467ce",
   "metadata": {
    "execution": {
     "iopub.execute_input": "2025-09-20T18:45:12.899437Z",
     "iopub.status.busy": "2025-09-20T18:45:12.898092Z",
     "iopub.status.idle": "2025-09-20T18:45:15.244899Z",
     "shell.execute_reply": "2025-09-20T18:45:15.243864Z"
    },
    "papermill": {
     "duration": 2.356356,
     "end_time": "2025-09-20T18:45:15.246928",
     "exception": true,
     "start_time": "2025-09-20T18:45:12.890572",
     "status": "failed"
    },
    "tags": []
   },
   "outputs": [
    {
     "ename": "ModuleNotFoundError",
     "evalue": "No module named 'src'",
     "output_type": "error",
     "traceback": [
      "\u001b[31m---------------------------------------------------------------------------\u001b[39m",
      "\u001b[31mModuleNotFoundError\u001b[39m                       Traceback (most recent call last)",
      "\u001b[36mCell\u001b[39m\u001b[36m \u001b[39m\u001b[32mIn[1]\u001b[39m\u001b[32m, line 17\u001b[39m\n\u001b[32m     14\u001b[39m warnings.filterwarnings(\u001b[33m\"\u001b[39m\u001b[33mignore\u001b[39m\u001b[33m\"\u001b[39m, message=\u001b[33m\"\u001b[39m\u001b[33mThis figure includes Axes\u001b[39m\u001b[33m\"\u001b[39m)\n\u001b[32m     16\u001b[39m \u001b[38;5;66;03m# Import the visualization function\u001b[39;00m\n\u001b[32m---> \u001b[39m\u001b[32m17\u001b[39m \u001b[38;5;28;01mfrom\u001b[39;00m\u001b[38;5;250m \u001b[39m\u001b[34;01msrc\u001b[39;00m\u001b[34;01m.\u001b[39;00m\u001b[34;01mvisualization\u001b[39;00m\u001b[38;5;250m \u001b[39m\u001b[38;5;28;01mimport\u001b[39;00m plot_ruin_cliff\n\u001b[32m     19\u001b[39m \u001b[38;5;28mprint\u001b[39m(\u001b[33m\"\u001b[39m\u001b[33mSetup complete!\u001b[39m\u001b[33m\"\u001b[39m)\n",
      "\u001b[31mModuleNotFoundError\u001b[39m: No module named 'src'"
     ]
    }
   ],
   "source": [
    "# Standard imports\n",
    "import sys\n",
    "import os\n",
    "import numpy as np\n",
    "import pandas as pd\n",
    "import matplotlib.pyplot as plt\n",
    "from typing import Dict, Any\n",
    "import warnings\n",
    "\n",
    "# Add parent directory to path for imports\n",
    "sys.path.insert(0, os.path.abspath('..'))\n",
    "\n",
    "warnings.filterwarnings(\"ignore\", message=\"Glyph.*missing from font\")\n",
    "warnings.filterwarnings(\"ignore\", message=\"This figure includes Axes\")\n",
    "\n",
    "# Import the visualization function\n",
    "from src.visualization import plot_ruin_cliff\n",
    "\n",
    "print(\"Setup complete!\")"
   ]
  },
  {
   "cell_type": "markdown",
   "id": "e34aab74",
   "metadata": {
    "papermill": {
     "duration": null,
     "end_time": null,
     "exception": null,
     "start_time": null,
     "status": "pending"
    },
    "tags": []
   },
   "source": [
    "## 1. Basic Ruin Cliff Visualization\n",
    "\n",
    "First, let's create the default visualization with synthetic demonstration data."
   ]
  },
  {
   "cell_type": "code",
   "execution_count": null,
   "id": "67c292b3",
   "metadata": {
    "papermill": {
     "duration": null,
     "end_time": null,
     "exception": null,
     "start_time": null,
     "status": "pending"
    },
    "tags": []
   },
   "outputs": [],
   "source": [
    "# Create basic ruin cliff visualization\n",
    "fig = plot_ruin_cliff(\n",
    "    title=\"The Ruin Cliff: Insurance Retention vs Failure Risk\"\n",
    ")\n",
    "plt.show()\n",
    "\n",
    "print(\"\\nKey Features:\")\n",
    "print(\"- Log scale on retention axis ($10K to $10M range)\")\n",
    "print(\"- Red danger zone (>5% ruin probability)\")\n",
    "print(\"- Orange warning zone (2-5% ruin probability)\")\n",
    "print(\"- Green safe zone (<2% ruin probability)\")\n",
    "print(\"- Automatic cliff edge detection and annotation\")\n",
    "print(\"- Inset plot showing critical region detail\")"
   ]
  },
  {
   "cell_type": "markdown",
   "id": "f5eb8c88",
   "metadata": {
    "papermill": {
     "duration": null,
     "end_time": null,
     "exception": null,
     "start_time": null,
     "status": "pending"
    },
    "tags": []
   },
   "source": [
    "## 2. Customized Retention Range\n",
    "\n",
    "Adjust the retention range for specific analysis needs."
   ]
  },
  {
   "cell_type": "code",
   "execution_count": null,
   "id": "31a89012",
   "metadata": {
    "papermill": {
     "duration": null,
     "end_time": null,
     "exception": null,
     "start_time": null,
     "status": "pending"
    },
    "tags": []
   },
   "outputs": [],
   "source": [
    "# Create visualization with custom retention range\n",
    "fig = plot_ruin_cliff(\n",
    "    retention_range=(5_000, 5_000_000),  # $5K to $5M\n",
    "    n_points=60,  # More points for smoother curve\n",
    "    title=\"Ruin Cliff Analysis: Medium Enterprise Focus\",\n",
    "    company_size=25_000_000  # $25M company\n",
    ")\n",
    "plt.show()\n",
    "\n",
    "print(\"\\nCustomization applied:\")\n",
    "print(\"- Retention range: $5K to $5M (better for medium enterprises)\")\n",
    "print(\"- Company size: $25M (shown in subtitle)\")\n",
    "print(\"- 60 data points for smoother visualization\")"
   ]
  },
  {
   "cell_type": "markdown",
   "id": "b7c798e0",
   "metadata": {
    "papermill": {
     "duration": null,
     "end_time": null,
     "exception": null,
     "start_time": null,
     "status": "pending"
    },
    "tags": []
   },
   "source": [
    "## 3. Without 3D Effects (Cleaner Style)\n",
    "\n",
    "For presentations that prefer cleaner visuals without gradient effects."
   ]
  },
  {
   "cell_type": "code",
   "execution_count": null,
   "id": "c57574dd",
   "metadata": {
    "papermill": {
     "duration": null,
     "end_time": null,
     "exception": null,
     "start_time": null,
     "status": "pending"
    },
    "tags": []
   },
   "outputs": [],
   "source": [
    "# Create clean visualization without 3D effects\n",
    "fig = plot_ruin_cliff(\n",
    "    show_3d_effect=False,\n",
    "    show_warnings=False,  # Also remove warning callouts for cleaner look\n",
    "    title=\"Retention vs Ruin Probability (Clean Style)\",\n",
    "    figsize=(12, 6)\n",
    ")\n",
    "plt.show()\n",
    "\n",
    "print(\"\\nClean style features:\")\n",
    "print(\"- No 3D gradient background\")\n",
    "print(\"- No warning callouts\")\n",
    "print(\"- Still shows danger zones as colored bands\")\n",
    "print(\"- Cliff edge marker remains visible\")"
   ]
  },
  {
   "cell_type": "markdown",
   "id": "8632e6bf",
   "metadata": {
    "papermill": {
     "duration": null,
     "end_time": null,
     "exception": null,
     "start_time": null,
     "status": "pending"
    },
    "tags": []
   },
   "source": [
    "## 4. Using Real Simulation Data\n",
    "\n",
    "Example of how to use the visualization with actual simulation results."
   ]
  },
  {
   "cell_type": "code",
   "execution_count": null,
   "id": "c6ca4462",
   "metadata": {
    "papermill": {
     "duration": null,
     "end_time": null,
     "exception": null,
     "start_time": null,
     "status": "pending"
    },
    "tags": []
   },
   "outputs": [],
   "source": [
    "# Generate example simulation data\n",
    "# In practice, this would come from RuinProbabilityAnalyzer\n",
    "def generate_simulation_data(n_points=50):\n",
    "    \"\"\"Generate realistic ruin probability data.\"\"\"\n",
    "    retentions = np.logspace(4, 7, n_points)  # $10K to $10M\n",
    "    \n",
    "    # Create realistic curve: high retention = low risk, but with cliff\n",
    "    log_ret = np.log10(retentions)\n",
    "    log_ret_norm = (log_ret - log_ret.min()) / (log_ret.max() - log_ret.min())\n",
    "    \n",
    "    # Simulate different cliff behaviors\n",
    "    # Sharp cliff at 20% of range\n",
    "    cliff_position = 0.2\n",
    "    cliff_steepness = 20\n",
    "    \n",
    "    # Sigmoid function for cliff effect\n",
    "    ruin_probs = 1 / (1 + np.exp(cliff_steepness * (log_ret_norm - cliff_position)))\n",
    "    \n",
    "    # Add realistic noise\n",
    "    noise = np.random.RandomState(42).normal(0, 0.005, n_points)\n",
    "    ruin_probs = np.clip(ruin_probs + noise, 0.001, 0.95)\n",
    "    \n",
    "    return {\n",
    "        'retentions': retentions,\n",
    "        'ruin_probs': ruin_probs\n",
    "    }\n",
    "\n",
    "# Generate and visualize\n",
    "simulation_data = generate_simulation_data(n_points=75)\n",
    "\n",
    "fig = plot_ruin_cliff(\n",
    "    simulation_data=simulation_data,\n",
    "    title=\"Ruin Cliff from Simulation Results\",\n",
    "    company_size=50_000_000\n",
    ")\n",
    "plt.show()\n",
    "\n",
    "# Show statistics\n",
    "cliff_idx = np.argmax(np.abs(np.gradient(simulation_data['ruin_probs'])))\n",
    "cliff_retention = simulation_data['retentions'][cliff_idx]\n",
    "cliff_prob = simulation_data['ruin_probs'][cliff_idx]\n",
    "\n",
    "print(f\"\\nSimulation Statistics:\")\n",
    "print(f\"- Cliff edge at retention: ${cliff_retention:,.0f}\")\n",
    "print(f\"- Ruin probability at cliff: {cliff_prob:.1%}\")\n",
    "safe_retentions = simulation_data['retentions'][simulation_data['ruin_probs'] < 0.02]\n",
    "if len(safe_retentions) > 0:\n",
    "    print(f\"- Safe zone starts at: ${safe_retentions[0]:,.0f}\")"
   ]
  },
  {
   "cell_type": "markdown",
   "id": "12509e77",
   "metadata": {
    "papermill": {
     "duration": null,
     "end_time": null,
     "exception": null,
     "start_time": null,
     "status": "pending"
    },
    "tags": []
   },
   "source": [
    "## Summary and Best Practices\n",
    "\n",
    "### Key Takeaways\n",
    "1. **The Cliff Effect**: There's typically a sharp threshold where risk increases dramatically\n",
    "2. **Visual Warning System**: Color zones and callouts help identify dangerous retention levels\n",
    "3. **3D Effects**: Optional gradient backgrounds add visual depth and emphasis\n",
    "4. **Inset Details**: Zoom view helps analyze the critical transition region\n",
    "\n",
    "### When to Use This Visualization\n",
    "- **Insurance purchasing decisions**: Finding optimal retention levels\n",
    "- **Risk assessment**: Understanding failure thresholds\n",
    "- **Executive reporting**: Communicating risk dramatically and clearly\n",
    "- **Scenario planning**: Comparing different retention strategies"
   ]
  }
 ],
 "metadata": {
  "kernelspec": {
   "display_name": ".venv",
   "language": "python",
   "name": "python3"
  },
  "language_info": {
   "codemirror_mode": {
    "name": "ipython",
    "version": 3
   },
   "file_extension": ".py",
   "mimetype": "text/x-python",
   "name": "python",
   "nbconvert_exporter": "python",
   "pygments_lexer": "ipython3",
   "version": "3.12.10"
  },
  "papermill": {
   "default_parameters": {},
   "duration": 7.265887,
   "end_time": "2025-09-20T18:45:16.038643",
   "environment_variables": {},
   "exception": true,
   "input_path": "16_ruin_cliff_visualization.ipynb",
   "output_path": "results_20250920_143059\\executed_16_ruin_cliff_visualization.ipynb",
   "parameters": {},
   "start_time": "2025-09-20T18:45:08.772756",
   "version": "2.6.0"
  }
 },
 "nbformat": 4,
 "nbformat_minor": 5
}
