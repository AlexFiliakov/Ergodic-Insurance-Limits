{
  "cells": [
    {
      "cell_type": "markdown",
      "metadata": {},
      "source": [
        "# Ruin Cliff Visualization: Dramatic Risk Thresholds\n",
        "\n",
        "This notebook demonstrates the **Ruin Cliff visualization**, which shows how insurance retention (deductible) levels affect ruin probability. The visualization features:\n",
        "- 3D-style gradient effects\n",
        "- Automatic cliff edge detection\n",
        "- Warning zones and callouts\n",
        "- Inset plot for critical region detail\n",
        "\n",
        "## Key Insights\n",
        "- There's often a dramatic \"cliff\" where ruin probability increases sharply\n",
        "- Optimal retention balances premium costs vs. catastrophic risk\n",
        "- Visual warnings help executives identify dangerous retention levels"
      ]
    },
    {
      "cell_type": "code",
      "execution_count": null,
      "metadata": {},
      "outputs": [],
      "source": [
        "# Standard imports\n",
        "import numpy as np\n",
        "import pandas as pd\n",
        "import matplotlib.pyplot as plt\n",
        "from typing import Dict, Any\n",
        "import warnings\n",
        "warnings.filterwarnings(\"ignore\", message=\"Glyph.*missing from font\")\n",
        "warnings.filterwarnings(\"ignore\", message=\"This figure includes Axes\")\n",
        "\n",
        "# Import the visualization function\n",
        "from ergodic_insurance.src.visualization import plot_ruin_cliff\n",
        "\n",
        "print(\"Setup complete!\")"
      ]
    },
    {
      "cell_type": "markdown",
      "metadata": {},
      "source": [
        "## 1. Basic Ruin Cliff Visualization\n",
        "\n",
        "First, let's create the default visualization with synthetic demonstration data."
      ]
    },
    {
      "cell_type": "code",
      "execution_count": null,
      "metadata": {},
      "outputs": [],
      "source": [
        "# Create basic ruin cliff visualization\n",
        "fig = plot_ruin_cliff(\n",
        "    title=\"The Ruin Cliff: Insurance Retention vs Failure Risk\"\n",
        ")\n",
        "plt.show()\n",
        "\n",
        "print(\"\\nKey Features:\")\n",
        "print(\"- Log scale on retention axis ($10K to $10M range)\")\n",
        "print(\"- Red danger zone (>5% ruin probability)\")\n",
        "print(\"- Orange warning zone (2-5% ruin probability)\")\n",
        "print(\"- Green safe zone (<2% ruin probability)\")\n",
        "print(\"- Automatic cliff edge detection and annotation\")\n",
        "print(\"- Inset plot showing critical region detail\")"
      ]
    },
    {
      "cell_type": "markdown",
      "metadata": {},
      "source": [
        "## 2. Customized Retention Range\n",
        "\n",
        "Adjust the retention range for specific analysis needs."
      ]
    },
    {
      "cell_type": "code",
      "execution_count": null,
      "metadata": {},
      "outputs": [],
      "source": [
        "# Create visualization with custom retention range\n",
        "fig = plot_ruin_cliff(\n",
        "    retention_range=(5_000, 5_000_000),  # $5K to $5M\n",
        "    n_points=60,  # More points for smoother curve\n",
        "    title=\"Ruin Cliff Analysis: Medium Enterprise Focus\",\n",
        "    company_size=25_000_000  # $25M company\n",
        ")\n",
        "plt.show()\n",
        "\n",
        "print(\"\\nCustomization applied:\")\n",
        "print(\"- Retention range: $5K to $5M (better for medium enterprises)\")\n",
        "print(\"- Company size: $25M (shown in subtitle)\")\n",
        "print(\"- 60 data points for smoother visualization\")"
      ]
    },
    {
      "cell_type": "markdown",
      "metadata": {},
      "source": [
        "## 3. Without 3D Effects (Cleaner Style)\n",
        "\n",
        "For presentations that prefer cleaner visuals without gradient effects."
      ]
    },
    {
      "cell_type": "code",
      "execution_count": null,
      "metadata": {},
      "outputs": [],
      "source": [
        "# Create clean visualization without 3D effects\n",
        "fig = plot_ruin_cliff(\n",
        "    show_3d_effect=False,\n",
        "    show_warnings=False,  # Also remove warning callouts for cleaner look\n",
        "    title=\"Retention vs Ruin Probability (Clean Style)\",\n",
        "    figsize=(12, 6)\n",
        ")\n",
        "plt.show()\n",
        "\n",
        "print(\"\\nClean style features:\")\n",
        "print(\"- No 3D gradient background\")\n",
        "print(\"- No warning callouts\")\n",
        "print(\"- Still shows danger zones as colored bands\")\n",
        "print(\"- Cliff edge marker remains visible\")"
      ]
    },
    {
      "cell_type": "markdown",
      "metadata": {},
      "source": [
        "## 4. Using Real Simulation Data\n",
        "\n",
        "Example of how to use the visualization with actual simulation results."
      ]
    },
    {
      "cell_type": "code",
      "execution_count": null,
      "metadata": {},
      "outputs": [],
      "source": [
        "# Generate example simulation data\n",
        "# In practice, this would come from RuinProbabilityAnalyzer\n",
        "def generate_simulation_data(n_points=50):\n",
        "    \"\"\"Generate realistic ruin probability data.\"\"\"\n",
        "    retentions = np.logspace(4, 7, n_points)  # $10K to $10M\n",
        "    \n",
        "    # Create realistic curve: high retention = low risk, but with cliff\n",
        "    log_ret = np.log10(retentions)\n",
        "    log_ret_norm = (log_ret - log_ret.min()) / (log_ret.max() - log_ret.min())\n",
        "    \n",
        "    # Simulate different cliff behaviors\n",
        "    # Sharp cliff at 20% of range\n",
        "    cliff_position = 0.2\n",
        "    cliff_steepness = 20\n",
        "    \n",
        "    # Sigmoid function for cliff effect\n",
        "    ruin_probs = 1 / (1 + np.exp(cliff_steepness * (log_ret_norm - cliff_position)))\n",
        "    \n",
        "    # Add realistic noise\n",
        "    noise = np.random.RandomState(42).normal(0, 0.005, n_points)\n",
        "    ruin_probs = np.clip(ruin_probs + noise, 0.001, 0.95)\n",
        "    \n",
        "    return {\n",
        "        'retentions': retentions,\n",
        "        'ruin_probs': ruin_probs\n",
        "    }\n",
        "\n",
        "# Generate and visualize\n",
        "simulation_data = generate_simulation_data(n_points=75)\n",
        "\n",
        "fig = plot_ruin_cliff(\n",
        "    simulation_data=simulation_data,\n",
        "    title=\"Ruin Cliff from Simulation Results\",\n",
        "    company_size=50_000_000\n",
        ")\n",
        "plt.show()\n",
        "\n",
        "# Show statistics\n",
        "cliff_idx = np.argmax(np.abs(np.gradient(simulation_data['ruin_probs'])))\n",
        "cliff_retention = simulation_data['retentions'][cliff_idx]\n",
        "cliff_prob = simulation_data['ruin_probs'][cliff_idx]\n",
        "\n",
        "print(f\"\\nSimulation Statistics:\")\n",
        "print(f\"- Cliff edge at retention: ${cliff_retention:,.0f}\")\n",
        "print(f\"- Ruin probability at cliff: {cliff_prob:.1%}\")\n",
        "safe_retentions = simulation_data['retentions'][simulation_data['ruin_probs'] < 0.02]\n",
        "if len(safe_retentions) > 0:\n",
        "    print(f\"- Safe zone starts at: ${safe_retentions[0]:,.0f}\")"
      ]
    },
    {
      "cell_type": "markdown",
      "metadata": {},
      "source": [
        "## Summary and Best Practices\n",
        "\n",
        "### Key Takeaways\n",
        "1. **The Cliff Effect**: There's typically a sharp threshold where risk increases dramatically\n",
        "2. **Visual Warning System**: Color zones and callouts help identify dangerous retention levels\n",
        "3. **3D Effects**: Optional gradient backgrounds add visual depth and emphasis\n",
        "4. **Inset Details**: Zoom view helps analyze the critical transition region\n",
        "\n",
        "### When to Use This Visualization\n",
        "- **Insurance purchasing decisions**: Finding optimal retention levels\n",
        "- **Risk assessment**: Understanding failure thresholds\n",
        "- **Executive reporting**: Communicating risk dramatically and clearly\n",
        "- **Scenario planning**: Comparing different retention strategies"
      ]
    }
  ],
  "metadata": {
    "kernelspec": {
      "display_name": "Python 3 (ipykernel)",
      "language": "python",
      "name": "python3"
    },
    "language_info": {
      "codemirror_mode": {
        "name": "ipython",
        "version": 3
      },
      "file_extension": ".py",
      "mimetype": "text/x-python",
      "name": "python",
      "nbconvert_exporter": "python",
      "pygments_lexer": "ipython3",
      "version": "3.12.0"
    }
  },
  "nbformat": 4,
  "nbformat_minor": 5
}
