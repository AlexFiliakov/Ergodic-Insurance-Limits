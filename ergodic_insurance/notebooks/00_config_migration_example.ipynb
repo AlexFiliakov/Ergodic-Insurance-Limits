{
 "cells": [
  {
   "cell_type": "markdown",
   "metadata": {},
   "source": [
    "# Configuration Migration Example\n",
    "\n",
    "This notebook demonstrates how to migrate from the old configuration system to the new ConfigManager.\n",
    "\n",
    "## Old Way (Deprecated)\n",
    "The old system used direct imports and manual configuration creation:"
   ]
  },
  {
   "cell_type": "code",
   "execution_count": null,
   "metadata": {},
   "outputs": [],
   "source": [
    "# OLD WAY - Direct configuration import (deprecated)\n",
    "import sys\n",
    "from pathlib import Path\n",
    "sys.path.append(str(Path().absolute().parent))\n",
    "\n",
    "from src.config import ManufacturerConfig\n",
    "from src.manufacturer import WidgetManufacturer\n",
    "\n",
    "# Manual configuration\n",
    "config = ManufacturerConfig(\n",
    "    initial_assets=10_000_000,\n",
    "    asset_turnover_ratio=1.0,\n",
    "    operating_margin=0.08,\n",
    "    tax_rate=0.25,\n",
    "    retention_ratio=1.0\n",
    ")\n",
    "\n",
    "manufacturer = WidgetManufacturer(config)\n",
    "print(f\"Old way - Assets: ${manufacturer.assets:,.0f}\")"
   ]
  },
  {
   "cell_type": "markdown",
   "metadata": {},
   "source": [
    "## New Way (Recommended)\n",
    "The new system uses ConfigManager with profiles, modules, and presets:"
   ]
  },
  {
   "cell_type": "code",
   "execution_count": null,
   "metadata": {},
   "outputs": [],
   "source": [
    "# NEW WAY - Using ConfigManager (recommended)\n",
    "import sys\n",
    "from pathlib import Path\n",
    "sys.path.append(str(Path().absolute().parent))\n",
    "\n",
    "from src.config_manager import ConfigManager\n",
    "from src.manufacturer import WidgetManufacturer\n",
    "\n",
    "# Load configuration from profile\n",
    "manager = ConfigManager()\n",
    "config = manager.load_profile(\"default\")\n",
    "\n",
    "# Access manufacturer config\n",
    "manufacturer = WidgetManufacturer(config.manufacturer)\n",
    "print(f\"New way - Assets: ${manufacturer.assets:,.0f}\")\n",
    "print(f\"Profile: {config.profile.name}\")\n",
    "print(f\"Description: {config.profile.description}\")"
   ]
  },
  {
   "cell_type": "markdown",
   "metadata": {},
   "source": [
    "## Benefits of the New System\n",
    "\n",
    "### 1. Profile Variants\n",
    "Easily switch between predefined configurations:"
   ]
  },
  {
   "cell_type": "code",
   "execution_count": null,
   "metadata": {},
   "outputs": [],
   "source": [
    "# Load different profiles\n",
    "profiles = [\"default\", \"conservative\", \"aggressive\"]\n",
    "\n",
    "for profile_name in profiles:\n",
    "    config = manager.load_profile(profile_name)\n",
    "    print(f\"\\n{profile_name.upper()} Profile:\")\n",
    "    print(f\"  Operating margin: {config.manufacturer.operating_margin:.1%}\")\n",
    "    print(f\"  Tax rate: {config.manufacturer.tax_rate:.1%}\")\n",
    "    print(f\"  Growth rate: {config.growth.annual_growth_rate:.1%}\")"
   ]
  },
  {
   "cell_type": "markdown",
   "metadata": {},
   "source": [
    "### 2. Runtime Overrides\n",
    "Override specific parameters without changing files:"
   ]
  },
  {
   "cell_type": "code",
   "execution_count": null,
   "metadata": {},
   "outputs": [],
   "source": [
    "# Override specific parameters\n",
    "config = manager.load_profile(\n",
    "    \"default\",\n",
    "    manufacturer={\"operating_margin\": 0.12},\n",
    "    growth={\"annual_growth_rate\": 0.15}\n",
    ")\n",
    "\n",
    "print(\"Configuration with overrides:\")\n",
    "print(f\"  Operating margin: {config.manufacturer.operating_margin:.1%} (overridden)\")\n",
    "print(f\"  Growth rate: {config.growth.annual_growth_rate:.1%} (overridden)\")\n",
    "print(f\"  Tax rate: {config.manufacturer.tax_rate:.1%} (default)\")"
   ]
  },
  {
   "cell_type": "markdown",
   "metadata": {},
   "source": [
    "### 3. Presets for Common Scenarios\n",
    "Apply predefined market conditions or risk scenarios:"
   ]
  },
  {
   "cell_type": "code",
   "execution_count": null,
   "metadata": {},
   "outputs": [],
   "source": [
    "# Apply market condition presets\n",
    "config_hard = manager.load_profile(\"default\", presets=[\"hard_market\"])\n",
    "config_soft = manager.load_profile(\"default\", presets=[\"soft_market\"])\n",
    "\n",
    "print(\"Market Condition Presets:\")\n",
    "print(f\"  Hard market - Insurance available: {hasattr(config_hard, 'insurance')}\")\n",
    "print(f\"  Soft market - Insurance available: {hasattr(config_soft, 'insurance')}\")\n",
    "\n",
    "# Apply multiple presets\n",
    "config = manager.load_profile(\n",
    "    \"default\",\n",
    "    presets=[\"hard_market\", \"high_volatility\"]\n",
    ")\n",
    "print(\"\\nWith multiple presets applied\")"
   ]
  },
  {
   "cell_type": "markdown",
   "metadata": {},
   "source": [
    "### 4. Module Composition\n",
    "Load only the modules you need:"
   ]
  },
  {
   "cell_type": "code",
   "execution_count": null,
   "metadata": {},
   "outputs": [],
   "source": [
    "# Load specific modules only\n",
    "config = manager.load_profile(\n",
    "    \"default\",\n",
    "    modules=[\"insurance\", \"stochastic\"]\n",
    ")\n",
    "\n",
    "print(\"Loaded modules:\")\n",
    "print(f\"  Insurance: {hasattr(config, 'insurance') and config.insurance is not None}\")\n",
    "print(f\"  Stochastic: {hasattr(config, 'stochastic') and config.stochastic is not None}\")\n",
    "print(f\"  Losses: {hasattr(config, 'losses') and config.losses is not None}\")"
   ]
  },
  {
   "cell_type": "markdown",
   "metadata": {},
   "source": [
    "## Migration Checklist\n",
    "\n",
    "When updating your notebooks:\n",
    "\n",
    "1. ✅ Replace `from src.config import ManufacturerConfig` with `from src.config_manager import ConfigManager`\n",
    "2. ✅ Load configurations using `manager.load_profile()` instead of manual creation\n",
    "3. ✅ Access sub-configurations through the loaded config (e.g., `config.manufacturer`)\n",
    "4. ✅ Use profile names: `\"default\"` instead of `\"baseline\"`, `\"aggressive\"` instead of `\"optimistic\"`\n",
    "5. ✅ Leverage presets and overrides instead of modifying YAML files\n",
    "\n",
    "## Backward Compatibility\n",
    "\n",
    "The old ConfigLoader still works but shows deprecation warnings:"
   ]
  },
  {
   "cell_type": "code",
   "execution_count": null,
   "metadata": {},
   "outputs": [],
   "source": [
    "# This still works but is deprecated\n",
    "from src.config_loader import ConfigLoader\n",
    "\n",
    "loader = ConfigLoader()\n",
    "config = loader.load(\"baseline\")  # Shows deprecation warning\n",
    "\n",
    "print(\"ConfigLoader still works for backward compatibility\")\n",
    "print(f\"Manufacturer margin: {config.manufacturer.operating_margin:.1%}\")"
   ]
  },
  {
   "cell_type": "markdown",
   "metadata": {},
   "source": [
    "## Summary\n",
    "\n",
    "The new ConfigManager provides:\n",
    "- **Cleaner code**: Load complete configurations with one line\n",
    "- **Flexibility**: Override parameters at runtime\n",
    "- **Reusability**: Use profiles and presets across notebooks\n",
    "- **Performance**: Built-in caching for faster loads\n",
    "- **Maintainability**: Centralized configuration management\n",
    "\n",
    "See `migration_guide.md` for complete documentation."
   ]
  }
 ],
 "metadata": {
  "kernelspec": {
   "display_name": "Python 3",
   "language": "python",
   "name": "python3"
  },
  "language_info": {
   "name": "python",
   "version": "3.12.0"
  }
 },
 "nbformat": 4,
 "nbformat_minor": 2
}
