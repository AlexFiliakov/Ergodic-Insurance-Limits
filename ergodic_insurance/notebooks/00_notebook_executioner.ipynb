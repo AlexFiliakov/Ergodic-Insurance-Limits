{
 "cells": [
  {
   "cell_type": "markdown",
   "id": "03d1da56",
   "metadata": {},
   "source": [
    "# Notebook Sequential Executionser"
   ]
  },
  {
   "cell_type": "code",
   "execution_count": null,
   "id": "3749a070",
   "metadata": {},
   "outputs": [
    {
     "name": "stdout",
     "output_type": "stream",
     "text": [
      "Running 00_setup_verification.ipynb...\n"
     ]
    },
    {
     "data": {
      "application/vnd.jupyter.widget-view+json": {
       "model_id": "0ecbccd191204bfdae43d8e415ff11da",
       "version_major": 2,
       "version_minor": 0
      },
      "text/plain": [
       "Executing:   0%|          | 0/7 [00:00<?, ?cell/s]"
      ]
     },
     "metadata": {},
     "output_type": "display_data"
    }
   ],
   "source": [
    "import papermill as pm\n",
    "from datetime import datetime\n",
    "import os\n",
    "\n",
    "# List of notebooks to run\n",
    "notebooks = [\n",
    "    '00_setup_verification.ipynb',\n",
    "    '01_basic_manufacturer.ipynb',\n",
    "    '02_long_term_simulation.ipynb',\n",
    "    '03_growth_dynamics.ipynb',\n",
    "    '04_ergodic_demo.ipynb',\n",
    "    '05_risk_metrics.ipynb',\n",
    "    '06_loss_distributions.ipynb',\n",
    "    '07_insurance_layers.ipynb',\n",
    "    '08_monte_carlo_analysis.ipynb',\n",
    "    '09_optimization_results.ipynb',\n",
    "    # '10_sensitivity_analysis.ipynb',\n",
    "    # '11_pareto_analysis.ipynb',\n",
    "    # '12_hjb_optimal_control.ipynb',\n",
    "    # '13_walk_forward_validation.ipynb',\n",
    "    # '14_visualization_factory_demo.ipynb',\n",
    "    # '15_roe_ruin_frontier_demo.ipynb',\n",
    "    # '16_ruin_cliff_visualization.ipynb',\n",
    "    # '17_executive_visualizations_showcase.ipynb',\n",
    "    # '18_executive_visualization_demo.ipynb',\n",
    "    # '19_technical_convergence_visualizations.ipynb',\n",
    "    # '20_ergodic_visualizations.ipynb',\n",
    "    # '21_insurance_structure_visualizations.ipynb',\n",
    "    # '22_advanced_convergence_monitoring.ipynb',\n",
    "    # '23_table_generation_demo.ipynb',\n",
    "    # '24_scenario_comparison_demo.ipynb',\n",
    "    # '25_excel_reporting.ipynb',\n",
    "    # '26_sensitivity_analysis.ipynb',\n",
    "    # '27_parameter_sweep_demo.ipynb',\n",
    "    # '28_retention_optimization_demo.ipynb',\n",
    "    # '29_report_generation_demo.ipynb',\n",
    "    # '30_state_driven_exposures.ipynb'\n",
    "]\n",
    "\n",
    "# Create output directory with timestamp\n",
    "timestamp = datetime.now().strftime('%Y%m%d_%H%M%S')\n",
    "output_dir = f'results_{timestamp}'\n",
    "os.makedirs(output_dir, exist_ok=True)\n",
    "\n",
    "# Run notebooks sequentially\n",
    "for nb in notebooks:\n",
    "    output_path = os.path.join(output_dir, f'executed_{nb}')\n",
    "    print(f\"Running {nb}...\")\n",
    "    try:\n",
    "        pm.execute_notebook(\n",
    "            input_path=nb,\n",
    "            output_path=output_path,\n",
    "            kernel_name='python3'\n",
    "        )\n",
    "        print(f\"✓ Completed {nb}\")\n",
    "    except Exception as e:\n",
    "        print(f\"✗ Failed {nb}: {e}\")\n",
    "        # Optionally continue or break based on your needs"
   ]
  },
  {
   "cell_type": "code",
   "execution_count": null,
   "id": "9aa051e3",
   "metadata": {},
   "outputs": [],
   "source": []
  }
 ],
 "metadata": {
  "kernelspec": {
   "display_name": ".venv",
   "language": "python",
   "name": "python3"
  },
  "language_info": {
   "codemirror_mode": {
    "name": "ipython",
    "version": 3
   },
   "file_extension": ".py",
   "mimetype": "text/x-python",
   "name": "python",
   "nbconvert_exporter": "python",
   "pygments_lexer": "ipython3",
   "version": "3.12.10"
  }
 },
 "nbformat": 4,
 "nbformat_minor": 5
}
